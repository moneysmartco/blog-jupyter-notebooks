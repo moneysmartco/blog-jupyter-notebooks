{
 "cells": [
  {
   "cell_type": "markdown",
   "metadata": {},
   "source": [
    "# Problem statement\n",
    "\n",
    "Of the people who take actions, which pages do the hit on the same day as they convert, up until the point where they convert?\n",
    "\n",
    "For each page, show a pie chart with size equivalent to count(users) and splits based on which channel they end up converting on.\n",
    "\n",
    "... but then how do you distribute in space with lots of pages???\n",
    "\n",
    "\n",
    "Maybe alternative would be an oversized pie chart with which pages are most popular by views for people who take actions on that channel.  Could do similar with landing pages. Colour by shop, blog, lps."
   ]
  }
 ],
 "metadata": {
  "kernelspec": {
   "display_name": "conda_python3",
   "language": "python",
   "name": "conda_python3"
  },
  "language_info": {
   "codemirror_mode": {
    "name": "ipython",
    "version": 3
   },
   "file_extension": ".py",
   "mimetype": "text/x-python",
   "name": "python",
   "nbconvert_exporter": "python",
   "pygments_lexer": "ipython3",
   "version": "3.6.5"
  }
 },
 "nbformat": 4,
 "nbformat_minor": 4
}
