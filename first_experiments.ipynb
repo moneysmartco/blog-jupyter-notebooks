{
 "cells": [
  {
   "cell_type": "code",
   "execution_count": 313,
   "metadata": {},
   "outputs": [],
   "source": [
    "import sys\n",
    "try:\n",
    "    from pyathena import connect\n",
    "except:\n",
    "    print(\"Failed to import pyathena, trying to install it\")\n",
    "    !{sys.executable} -m pip install PyAthena\n",
    "    from pyathena import connect\n",
    "    print(\"successfully installed\")\n",
    "try:\n",
    "    import psycopg2\n",
    "except:\n",
    "    print(\"Failed ot import psychopg2, trying to install it\")\n",
    "    !{sys.executable} -m pip install psycopg2-binary\n",
    "    import psycopg2\n",
    "    print(\"Successfully installed\")\n",
    "import pandas as pd\n",
    "import boto3\n",
    "import boto3\n",
    "import base64\n",
    "from botocore.exceptions import ClientError\n",
    "from datetime  import datetime, timedelta, date\n",
    "import time"
   ]
  },
  {
   "cell_type": "code",
   "execution_count": 314,
   "metadata": {},
   "outputs": [],
   "source": [
    "import creds"
   ]
  },
  {
   "cell_type": "code",
   "execution_count": 315,
   "metadata": {},
   "outputs": [],
   "source": [
    "# if using jupyterlab and plotly doesn't work https://plot.ly/python/getting-started/#jupyterlab-support-python-35\n",
    "install_jupyterlab_plotly_extensions_command = \"\"\"\n",
    "# Avoid \"JavaScript heap out of memory\" errors during extension installation\n",
    "# (OS X/Linux)\n",
    "export NODE_OPTIONS=--max-old-space-size=4096\n",
    "# (Windows)\n",
    "set NODE_OPTIONS=--max-old-space-size=4096\n",
    "\n",
    "# Jupyter widgets extension\n",
    "jupyter labextension install @jupyter-widgets/jupyterlab-manager@1.0 --no-build\n",
    "\n",
    "# jupyterlab renderer support\n",
    "jupyter labextension install jupyterlab-plotly@1.1.0 --no-build\n",
    "\n",
    "# FigureWidget support\n",
    "jupyter labextension install plotlywidget@1.1.0 --no-build\n",
    "\n",
    "# JupyterLab chart editor support (optional)\n",
    "jupyter labextension install jupyterlab-chart-editor@1.2 --no-build\n",
    "\n",
    "# Build extensions (must be done to activate extensions since --no-build is used above)\n",
    "jupyter lab build\n",
    "\n",
    "# Unset NODE_OPTIONS environment variable\n",
    "# (OS X/Linux)\n",
    "unset NODE_OPTIONS\"\"\"\n",
    "\n",
    "\n",
    "\n",
    "    "
   ]
  },
  {
   "cell_type": "code",
   "execution_count": 316,
   "metadata": {},
   "outputs": [],
   "source": [
    "import plotly.graph_objects as go\n",
    "import plotly as py\n",
    "\n",
    "import plotly.offline as off\n",
    "import plotly.graph_objs as go\n",
    "import numpy as np\n",
    "from plotly.subplots import make_subplots\n",
    "\n",
    "# off.init_notebook_mode(connected=True)"
   ]
  },
  {
   "cell_type": "code",
   "execution_count": 317,
   "metadata": {},
   "outputs": [],
   "source": [
    "s3_client = boto3.client('s3')\n",
    "s3_resource = boto3.resource('s3') #slower, but easier\n",
    "# s3_conn = boto3.s3.connect_to_region('us-west-2')\n",
    "\n",
    "athena = boto3.client('athena')"
   ]
  },
  {
   "cell_type": "code",
   "execution_count": 318,
   "metadata": {},
   "outputs": [],
   "source": [
    "#--- Analysis Settings --\n",
    "num_days_to_analyse = 7\n",
    "analysis_end_time = datetime.fromordinal(date.today().toordinal()) # start of today as we only get yesterday's data.\n",
    "analysis_start_time = analysis_end_time - timedelta(days=num_days_to_analyse)\n",
    "\n",
    "\n",
    "\n",
    "#--- Core Settings -- \n",
    "event_log_s3_path = \"s3://ms-data-pipeline-production/ms-data-stream-production-processed\"\n",
    "event_log_s3_bucket = event_log_s3_path.split(\"s3://\")[1].split(\"/\")[0]\n",
    "event_log_s3_prefix = event_log_s3_path.split(\"/\")[-1]\n",
    "athena_bucket_path = \"s3://aws-athena-query-results-358002497134-ap-southeast-1/\"\n",
    "athena_raw_events_table = \"ms_data_stream_production_processed\"\n",
    "athena_easy_events_table =  \"id_ab_test\"\n",
    "aws_region_name = \"ap-southeast-1\"\n",
    "\n",
    "# --\n",
    "list_out_s3_bucket = False #extremely slow.\n"
   ]
  },
  {
   "cell_type": "code",
   "execution_count": 319,
   "metadata": {},
   "outputs": [
    {
     "name": "stdout",
     "output_type": "stream",
     "text": [
      "Connecting to Athena\n"
     ]
    }
   ],
   "source": [
    "print(\"Connecting to Athena\")\n",
    "athena_conn = connect(s3_staging_dir=athena_bucket_path, region_name=aws_region_name)"
   ]
  },
  {
   "cell_type": "code",
   "execution_count": null,
   "metadata": {},
   "outputs": [
    {
     "name": "stdout",
     "output_type": "stream",
     "text": [
      "Testing that the athena connection actually does something\n",
      "query: select * from id_ab_test where sent_at between '2019-09-03T00:00:00' and '2019-09-10T00:00:00' \n"
     ]
    }
   ],
   "source": [
    "print(\"Testing that the athena connection actually does something\")\n",
    "events_query = \"select * from id_ab_test where sent_at between '%s' and '%s' \" % (analysis_start_time.isoformat(), analysis_end_time.isoformat())\n",
    "print(\"query: \"+events_query)\n",
    "events = pd.read_sql(events_query, athena_conn) #TODO: should really pass the dates as dates to sent_at_timestamp using query params\n",
    "\n",
    "\n",
    "# TODO: ideally you break into chunks during reading and replace various strings with post_id and set data types to more efficient ones (category)"
   ]
  },
  {
   "cell_type": "code",
   "execution_count": null,
   "metadata": {},
   "outputs": [],
   "source": [
    "#Some brief sense checks:\n",
    "num_events = len(events)\n",
    "print(\"total events = %i\"%num_events)"
   ]
  },
  {
   "cell_type": "code",
   "execution_count": null,
   "metadata": {},
   "outputs": [],
   "source": [
    "pageview_events = events[events.event_name==\"PageView\"]"
   ]
  },
  {
   "cell_type": "code",
   "execution_count": 19,
   "metadata": {},
   "outputs": [
    {
     "name": "stdout",
     "output_type": "stream",
     "text": [
      "2019-09-03 06:58:11.502005\n"
     ]
    }
   ],
   "source": [
    "def get_list_of_expected_s3_folders_and_date_keys():\n",
    "    # s3://ms-data-pipeline-production/ms-data-stream-production-processed/2019/08/02\n",
    "    root_path = event_log_s3_path\n",
    "    paths = []\n",
    "    start_date = datetime(year=2019, month = 6, day = 18)\n",
    "    now = datetime.now() #TODO: the timezone seems wrong :(\n",
    "    print(now)\n",
    "    day_increment = timedelta(days=1)\n",
    "    processing_day = start_date\n",
    "    while processing_day<now: #should include the current day\n",
    "        day_suffix = \"%.4i/%.2i/%.2i/\" % (processing_day.year, processing_day.month, processing_day.day)\n",
    "        day_index = \"%.4i-%.2i-%.2i\" % (processing_day.year, processing_day.month, processing_day.day)\n",
    "        paths.append([root_path+\"/\"+day_suffix, day_index])\n",
    "        processing_day += day_increment\n",
    "    return paths\n",
    "expected_paths_sent_ats = get_list_of_expected_s3_folders_and_date_keys()"
   ]
  },
  {
   "cell_type": "code",
   "execution_count": 20,
   "metadata": {},
   "outputs": [
    {
     "data": {
      "text/plain": [
       "[['s3://ms-data-pipeline-production/ms-data-stream-production-processed/2019/06/18/',\n",
       "  '2019-06-18'],\n",
       " ['s3://ms-data-pipeline-production/ms-data-stream-production-processed/2019/06/19/',\n",
       "  '2019-06-19'],\n",
       " ['s3://ms-data-pipeline-production/ms-data-stream-production-processed/2019/06/20/',\n",
       "  '2019-06-20'],\n",
       " ['s3://ms-data-pipeline-production/ms-data-stream-production-processed/2019/06/21/',\n",
       "  '2019-06-21'],\n",
       " ['s3://ms-data-pipeline-production/ms-data-stream-production-processed/2019/06/22/',\n",
       "  '2019-06-22'],\n",
       " ['s3://ms-data-pipeline-production/ms-data-stream-production-processed/2019/08/30/',\n",
       "  '2019-08-30'],\n",
       " ['s3://ms-data-pipeline-production/ms-data-stream-production-processed/2019/08/31/',\n",
       "  '2019-08-31'],\n",
       " ['s3://ms-data-pipeline-production/ms-data-stream-production-processed/2019/09/01/',\n",
       "  '2019-09-01'],\n",
       " ['s3://ms-data-pipeline-production/ms-data-stream-production-processed/2019/09/02/',\n",
       "  '2019-09-02'],\n",
       " ['s3://ms-data-pipeline-production/ms-data-stream-production-processed/2019/09/03/',\n",
       "  '2019-09-03']]"
      ]
     },
     "execution_count": 20,
     "metadata": {},
     "output_type": "execute_result"
    }
   ],
   "source": [
    "expected_paths_sent_ats[:5]+ expected_paths_sent_ats[-5:]"
   ]
  },
  {
   "cell_type": "code",
   "execution_count": 24,
   "metadata": {},
   "outputs": [],
   "source": [
    "def add_partitions(paths_sent_ats):\n",
    "    print(\"Adding partitions\")\n",
    "    for path, sent_at in paths_sent_ats:\n",
    "        print(\"adding partition for %s\" % sent_at)\n",
    "        query = \"ALTER TABLE %s ADD PARTITION (sent_at='%s') location '%s';\"%(athena_raw_events_table, sent_at, path)\n",
    "        print(query)\n",
    "        pd.read_sql(query, athena_conn)"
   ]
  },
  {
   "cell_type": "code",
   "execution_count": 25,
   "metadata": {},
   "outputs": [
    {
     "name": "stdout",
     "output_type": "stream",
     "text": [
      "Adding partitions\n",
      "adding partition for 2019-06-18\n",
      "ALTER TABLE ms_data_stream_production_processed ADD PARTITION (sent_at='2019-06-18') location 's3://ms-data-pipeline-production/ms-data-stream-production-processed/2019/06/18/';\n"
     ]
    },
    {
     "ename": "DatabaseError",
     "evalue": "Execution failed on sql: ALTER TABLE ms_data_stream_production_processed ADD PARTITION (sent_at='2019-06-18') location 's3://ms-data-pipeline-production/ms-data-stream-production-processed/2019/06/18/';\nFAILED: SemanticException table is not partitioned but partition spec exists: {sent_at=2019-06-18}\nunable to rollback",
     "output_type": "error",
     "traceback": [
      "\u001b[0;31m---------------------------------------------------------------------------\u001b[0m",
      "\u001b[0;31mOperationalError\u001b[0m                          Traceback (most recent call last)",
      "\u001b[0;32m~/anaconda3/envs/python3/lib/python3.6/site-packages/pandas/io/sql.py\u001b[0m in \u001b[0;36mexecute\u001b[0;34m(self, *args, **kwargs)\u001b[0m\n\u001b[1;32m   1430\u001b[0m             \u001b[0;32melse\u001b[0m\u001b[0;34m:\u001b[0m\u001b[0;34m\u001b[0m\u001b[0m\n\u001b[0;32m-> 1431\u001b[0;31m                 \u001b[0mcur\u001b[0m\u001b[0;34m.\u001b[0m\u001b[0mexecute\u001b[0m\u001b[0;34m(\u001b[0m\u001b[0;34m*\u001b[0m\u001b[0margs\u001b[0m\u001b[0;34m)\u001b[0m\u001b[0;34m\u001b[0m\u001b[0m\n\u001b[0m\u001b[1;32m   1432\u001b[0m             \u001b[0;32mreturn\u001b[0m \u001b[0mcur\u001b[0m\u001b[0;34m\u001b[0m\u001b[0m\n",
      "\u001b[0;32m~/anaconda3/envs/python3/lib/python3.6/site-packages/pyathena/util.py\u001b[0m in \u001b[0;36m_wrapper\u001b[0;34m(*args, **kwargs)\u001b[0m\n\u001b[1;32m     27\u001b[0m         \u001b[0;32mwith\u001b[0m \u001b[0m_lock\u001b[0m\u001b[0;34m:\u001b[0m\u001b[0;34m\u001b[0m\u001b[0m\n\u001b[0;32m---> 28\u001b[0;31m             \u001b[0;32mreturn\u001b[0m \u001b[0mwrapped\u001b[0m\u001b[0;34m(\u001b[0m\u001b[0;34m*\u001b[0m\u001b[0margs\u001b[0m\u001b[0;34m,\u001b[0m \u001b[0;34m**\u001b[0m\u001b[0mkwargs\u001b[0m\u001b[0;34m)\u001b[0m\u001b[0;34m\u001b[0m\u001b[0m\n\u001b[0m\u001b[1;32m     29\u001b[0m     \u001b[0;32mreturn\u001b[0m \u001b[0m_wrapper\u001b[0m\u001b[0;34m\u001b[0m\u001b[0m\n",
      "\u001b[0;32m~/anaconda3/envs/python3/lib/python3.6/site-packages/pyathena/cursor.py\u001b[0m in \u001b[0;36mexecute\u001b[0;34m(self, operation, parameters, work_group, s3_staging_dir)\u001b[0m\n\u001b[1;32m     54\u001b[0m         \u001b[0;32melse\u001b[0m\u001b[0;34m:\u001b[0m\u001b[0;34m\u001b[0m\u001b[0m\n\u001b[0;32m---> 55\u001b[0;31m             \u001b[0;32mraise\u001b[0m \u001b[0mOperationalError\u001b[0m\u001b[0;34m(\u001b[0m\u001b[0mquery_execution\u001b[0m\u001b[0;34m.\u001b[0m\u001b[0mstate_change_reason\u001b[0m\u001b[0;34m)\u001b[0m\u001b[0;34m\u001b[0m\u001b[0m\n\u001b[0m\u001b[1;32m     56\u001b[0m         \u001b[0;32mreturn\u001b[0m \u001b[0mself\u001b[0m\u001b[0;34m\u001b[0m\u001b[0m\n",
      "\u001b[0;31mOperationalError\u001b[0m: FAILED: SemanticException table is not partitioned but partition spec exists: {sent_at=2019-06-18}",
      "\nDuring handling of the above exception, another exception occurred:\n",
      "\u001b[0;31mNotSupportedError\u001b[0m                         Traceback (most recent call last)",
      "\u001b[0;32m~/anaconda3/envs/python3/lib/python3.6/site-packages/pandas/io/sql.py\u001b[0m in \u001b[0;36mexecute\u001b[0;34m(self, *args, **kwargs)\u001b[0m\n\u001b[1;32m   1434\u001b[0m             \u001b[0;32mtry\u001b[0m\u001b[0;34m:\u001b[0m\u001b[0;34m\u001b[0m\u001b[0m\n\u001b[0;32m-> 1435\u001b[0;31m                 \u001b[0mself\u001b[0m\u001b[0;34m.\u001b[0m\u001b[0mcon\u001b[0m\u001b[0;34m.\u001b[0m\u001b[0mrollback\u001b[0m\u001b[0;34m(\u001b[0m\u001b[0;34m)\u001b[0m\u001b[0;34m\u001b[0m\u001b[0m\n\u001b[0m\u001b[1;32m   1436\u001b[0m             \u001b[0;32mexcept\u001b[0m \u001b[0mException\u001b[0m\u001b[0;34m:\u001b[0m  \u001b[0;31m# pragma: no cover\u001b[0m\u001b[0;34m\u001b[0m\u001b[0m\n",
      "\u001b[0;32m~/anaconda3/envs/python3/lib/python3.6/site-packages/pyathena/connection.py\u001b[0m in \u001b[0;36mrollback\u001b[0;34m(self)\u001b[0m\n\u001b[1;32m    141\u001b[0m     \u001b[0;32mdef\u001b[0m \u001b[0mrollback\u001b[0m\u001b[0;34m(\u001b[0m\u001b[0mself\u001b[0m\u001b[0;34m)\u001b[0m\u001b[0;34m:\u001b[0m\u001b[0;34m\u001b[0m\u001b[0m\n\u001b[0;32m--> 142\u001b[0;31m         \u001b[0;32mraise\u001b[0m \u001b[0mNotSupportedError\u001b[0m\u001b[0;34m\u001b[0m\u001b[0m\n\u001b[0m",
      "\u001b[0;31mNotSupportedError\u001b[0m: ",
      "\nDuring handling of the above exception, another exception occurred:\n",
      "\u001b[0;31mDatabaseError\u001b[0m                             Traceback (most recent call last)",
      "\u001b[0;32m<ipython-input-25-2662b547c59d>\u001b[0m in \u001b[0;36m<module>\u001b[0;34m()\u001b[0m\n\u001b[0;32m----> 1\u001b[0;31m \u001b[0madd_partitions\u001b[0m\u001b[0;34m(\u001b[0m\u001b[0mexpected_paths_sent_ats\u001b[0m\u001b[0;34m)\u001b[0m\u001b[0;34m\u001b[0m\u001b[0m\n\u001b[0m",
      "\u001b[0;32m<ipython-input-24-0fc347f279c0>\u001b[0m in \u001b[0;36madd_partitions\u001b[0;34m(paths_sent_ats)\u001b[0m\n\u001b[1;32m      5\u001b[0m         \u001b[0mquery\u001b[0m \u001b[0;34m=\u001b[0m \u001b[0;34m\"ALTER TABLE %s ADD PARTITION (sent_at='%s') location '%s';\"\u001b[0m\u001b[0;34m%\u001b[0m\u001b[0;34m(\u001b[0m\u001b[0mathena_raw_events_table\u001b[0m\u001b[0;34m,\u001b[0m \u001b[0msent_at\u001b[0m\u001b[0;34m,\u001b[0m \u001b[0mpath\u001b[0m\u001b[0;34m)\u001b[0m\u001b[0;34m\u001b[0m\u001b[0m\n\u001b[1;32m      6\u001b[0m         \u001b[0mprint\u001b[0m\u001b[0;34m(\u001b[0m\u001b[0mquery\u001b[0m\u001b[0;34m)\u001b[0m\u001b[0;34m\u001b[0m\u001b[0m\n\u001b[0;32m----> 7\u001b[0;31m         \u001b[0mpd\u001b[0m\u001b[0;34m.\u001b[0m\u001b[0mread_sql\u001b[0m\u001b[0;34m(\u001b[0m\u001b[0mquery\u001b[0m\u001b[0;34m,\u001b[0m \u001b[0mathena_conn\u001b[0m\u001b[0;34m)\u001b[0m\u001b[0;34m\u001b[0m\u001b[0m\n\u001b[0m",
      "\u001b[0;32m~/anaconda3/envs/python3/lib/python3.6/site-packages/pandas/io/sql.py\u001b[0m in \u001b[0;36mread_sql\u001b[0;34m(sql, con, index_col, coerce_float, params, parse_dates, columns, chunksize)\u001b[0m\n\u001b[1;32m    378\u001b[0m             \u001b[0msql\u001b[0m\u001b[0;34m,\u001b[0m \u001b[0mindex_col\u001b[0m\u001b[0;34m=\u001b[0m\u001b[0mindex_col\u001b[0m\u001b[0;34m,\u001b[0m \u001b[0mparams\u001b[0m\u001b[0;34m=\u001b[0m\u001b[0mparams\u001b[0m\u001b[0;34m,\u001b[0m\u001b[0;34m\u001b[0m\u001b[0m\n\u001b[1;32m    379\u001b[0m             \u001b[0mcoerce_float\u001b[0m\u001b[0;34m=\u001b[0m\u001b[0mcoerce_float\u001b[0m\u001b[0;34m,\u001b[0m \u001b[0mparse_dates\u001b[0m\u001b[0;34m=\u001b[0m\u001b[0mparse_dates\u001b[0m\u001b[0;34m,\u001b[0m\u001b[0;34m\u001b[0m\u001b[0m\n\u001b[0;32m--> 380\u001b[0;31m             chunksize=chunksize)\n\u001b[0m\u001b[1;32m    381\u001b[0m \u001b[0;34m\u001b[0m\u001b[0m\n\u001b[1;32m    382\u001b[0m     \u001b[0;32mtry\u001b[0m\u001b[0;34m:\u001b[0m\u001b[0;34m\u001b[0m\u001b[0m\n",
      "\u001b[0;32m~/anaconda3/envs/python3/lib/python3.6/site-packages/pandas/io/sql.py\u001b[0m in \u001b[0;36mread_query\u001b[0;34m(self, sql, index_col, coerce_float, params, parse_dates, chunksize)\u001b[0m\n\u001b[1;32m   1466\u001b[0m \u001b[0;34m\u001b[0m\u001b[0m\n\u001b[1;32m   1467\u001b[0m         \u001b[0margs\u001b[0m \u001b[0;34m=\u001b[0m \u001b[0m_convert_params\u001b[0m\u001b[0;34m(\u001b[0m\u001b[0msql\u001b[0m\u001b[0;34m,\u001b[0m \u001b[0mparams\u001b[0m\u001b[0;34m)\u001b[0m\u001b[0;34m\u001b[0m\u001b[0m\n\u001b[0;32m-> 1468\u001b[0;31m         \u001b[0mcursor\u001b[0m \u001b[0;34m=\u001b[0m \u001b[0mself\u001b[0m\u001b[0;34m.\u001b[0m\u001b[0mexecute\u001b[0m\u001b[0;34m(\u001b[0m\u001b[0;34m*\u001b[0m\u001b[0margs\u001b[0m\u001b[0;34m)\u001b[0m\u001b[0;34m\u001b[0m\u001b[0m\n\u001b[0m\u001b[1;32m   1469\u001b[0m         \u001b[0mcolumns\u001b[0m \u001b[0;34m=\u001b[0m \u001b[0;34m[\u001b[0m\u001b[0mcol_desc\u001b[0m\u001b[0;34m[\u001b[0m\u001b[0;36m0\u001b[0m\u001b[0;34m]\u001b[0m \u001b[0;32mfor\u001b[0m \u001b[0mcol_desc\u001b[0m \u001b[0;32min\u001b[0m \u001b[0mcursor\u001b[0m\u001b[0;34m.\u001b[0m\u001b[0mdescription\u001b[0m\u001b[0;34m]\u001b[0m\u001b[0;34m\u001b[0m\u001b[0m\n\u001b[1;32m   1470\u001b[0m \u001b[0;34m\u001b[0m\u001b[0m\n",
      "\u001b[0;32m~/anaconda3/envs/python3/lib/python3.6/site-packages/pandas/io/sql.py\u001b[0m in \u001b[0;36mexecute\u001b[0;34m(self, *args, **kwargs)\u001b[0m\n\u001b[1;32m   1438\u001b[0m                     \u001b[0;34m\"Execution failed on sql: {sql}\\n{exc}\\nunable \"\u001b[0m\u001b[0;34m\u001b[0m\u001b[0m\n\u001b[1;32m   1439\u001b[0m                     \"to rollback\".format(sql=args[0], exc=exc))\n\u001b[0;32m-> 1440\u001b[0;31m                 \u001b[0mraise_with_traceback\u001b[0m\u001b[0;34m(\u001b[0m\u001b[0mex\u001b[0m\u001b[0;34m)\u001b[0m\u001b[0;34m\u001b[0m\u001b[0m\n\u001b[0m\u001b[1;32m   1441\u001b[0m \u001b[0;34m\u001b[0m\u001b[0m\n\u001b[1;32m   1442\u001b[0m             ex = DatabaseError(\n",
      "\u001b[0;32m~/anaconda3/envs/python3/lib/python3.6/site-packages/pandas/compat/__init__.py\u001b[0m in \u001b[0;36mraise_with_traceback\u001b[0;34m(exc, traceback)\u001b[0m\n\u001b[1;32m    418\u001b[0m         \u001b[0;32mif\u001b[0m \u001b[0mtraceback\u001b[0m \u001b[0;34m==\u001b[0m \u001b[0mEllipsis\u001b[0m\u001b[0;34m:\u001b[0m\u001b[0;34m\u001b[0m\u001b[0m\n\u001b[1;32m    419\u001b[0m             \u001b[0m_\u001b[0m\u001b[0;34m,\u001b[0m \u001b[0m_\u001b[0m\u001b[0;34m,\u001b[0m \u001b[0mtraceback\u001b[0m \u001b[0;34m=\u001b[0m \u001b[0msys\u001b[0m\u001b[0;34m.\u001b[0m\u001b[0mexc_info\u001b[0m\u001b[0;34m(\u001b[0m\u001b[0;34m)\u001b[0m\u001b[0;34m\u001b[0m\u001b[0m\n\u001b[0;32m--> 420\u001b[0;31m         \u001b[0;32mraise\u001b[0m \u001b[0mexc\u001b[0m\u001b[0;34m.\u001b[0m\u001b[0mwith_traceback\u001b[0m\u001b[0;34m(\u001b[0m\u001b[0mtraceback\u001b[0m\u001b[0;34m)\u001b[0m\u001b[0;34m\u001b[0m\u001b[0m\n\u001b[0m\u001b[1;32m    421\u001b[0m \u001b[0;32melse\u001b[0m\u001b[0;34m:\u001b[0m\u001b[0;34m\u001b[0m\u001b[0m\n\u001b[1;32m    422\u001b[0m     \u001b[0;31m# this version of raise is a syntax error in Python 3\u001b[0m\u001b[0;34m\u001b[0m\u001b[0;34m\u001b[0m\u001b[0m\n",
      "\u001b[0;32m~/anaconda3/envs/python3/lib/python3.6/site-packages/pandas/io/sql.py\u001b[0m in \u001b[0;36mexecute\u001b[0;34m(self, *args, **kwargs)\u001b[0m\n\u001b[1;32m   1433\u001b[0m         \u001b[0;32mexcept\u001b[0m \u001b[0mException\u001b[0m \u001b[0;32mas\u001b[0m \u001b[0mexc\u001b[0m\u001b[0;34m:\u001b[0m\u001b[0;34m\u001b[0m\u001b[0m\n\u001b[1;32m   1434\u001b[0m             \u001b[0;32mtry\u001b[0m\u001b[0;34m:\u001b[0m\u001b[0;34m\u001b[0m\u001b[0m\n\u001b[0;32m-> 1435\u001b[0;31m                 \u001b[0mself\u001b[0m\u001b[0;34m.\u001b[0m\u001b[0mcon\u001b[0m\u001b[0;34m.\u001b[0m\u001b[0mrollback\u001b[0m\u001b[0;34m(\u001b[0m\u001b[0;34m)\u001b[0m\u001b[0;34m\u001b[0m\u001b[0m\n\u001b[0m\u001b[1;32m   1436\u001b[0m             \u001b[0;32mexcept\u001b[0m \u001b[0mException\u001b[0m\u001b[0;34m:\u001b[0m  \u001b[0;31m# pragma: no cover\u001b[0m\u001b[0;34m\u001b[0m\u001b[0m\n\u001b[1;32m   1437\u001b[0m                 ex = DatabaseError(\n",
      "\u001b[0;32m~/anaconda3/envs/python3/lib/python3.6/site-packages/pyathena/connection.py\u001b[0m in \u001b[0;36mrollback\u001b[0;34m(self)\u001b[0m\n\u001b[1;32m    140\u001b[0m \u001b[0;34m\u001b[0m\u001b[0m\n\u001b[1;32m    141\u001b[0m     \u001b[0;32mdef\u001b[0m \u001b[0mrollback\u001b[0m\u001b[0;34m(\u001b[0m\u001b[0mself\u001b[0m\u001b[0;34m)\u001b[0m\u001b[0;34m:\u001b[0m\u001b[0;34m\u001b[0m\u001b[0m\n\u001b[0;32m--> 142\u001b[0;31m         \u001b[0;32mraise\u001b[0m \u001b[0mNotSupportedError\u001b[0m\u001b[0;34m\u001b[0m\u001b[0m\n\u001b[0m",
      "\u001b[0;31mDatabaseError\u001b[0m: Execution failed on sql: ALTER TABLE ms_data_stream_production_processed ADD PARTITION (sent_at='2019-06-18') location 's3://ms-data-pipeline-production/ms-data-stream-production-processed/2019/06/18/';\nFAILED: SemanticException table is not partitioned but partition spec exists: {sent_at=2019-06-18}\nunable to rollback"
     ]
    }
   ],
   "source": [
    "add_partitions(expected_paths_sent_ats)"
   ]
  },
  {
   "cell_type": "code",
   "execution_count": null,
   "metadata": {},
   "outputs": [],
   "source": [
    "\n",
    "\n",
    "# TODO: the right way to do this would be to store connection details in the secrets manager.  Unfortunately not working :(\n",
    "def get_secret():\n",
    "\n",
    "    secret_name = \"data_pier\"\n",
    "    region_name = \"ap-southeast-1\"\n",
    "\n",
    "    # Create a Secrets Manager client\n",
    "    session = boto3.session.Session()\n",
    "    client = session.client(\n",
    "        service_name='secretsmanager',\n",
    "        region_name=region_name\n",
    "    )\n",
    "\n",
    "\n",
    "    # See https://docs.aws.amazon.com/secretsmanager/latest/apireference/API_GetSecretValue.html\n",
    "    # I've deleted a chunk of error handling bumpf\n",
    "\n",
    "    get_secret_value_response = client.get_secret_value(\n",
    "        SecretId=secret_name\n",
    "    )\n",
    "\n",
    "\n",
    "def get_data_pier_connection():\n",
    "    #db_pass = input()\n",
    "    db_pass = creds.pg_pass\n",
    "    db_host = \"data-pier-production.cl8qfdl47mtr.ap-southeast-1.rds.amazonaws.com\"\n",
    "    db_user = \"jamie\"\n",
    "    db_database = \"data_pier\"\n",
    "    pg_conn = psycopg2.connect(host=db_host, user = db_user, dbname=db_database, password= db_pass)\n",
    "    pg_conn.set_session(readonly=True, autocommit=True) #without this it can lock tables.\n",
    "    \n",
    "    \n",
    "    return pg_conn, pg_conn.cursor()\n"
   ]
  },
  {
   "cell_type": "code",
   "execution_count": 195,
   "metadata": {},
   "outputs": [
    {
     "name": "stdin",
     "output_type": "stream",
     "text": [
      " BVHSjgnqHpqPRgHHaG9sYdJqD94ZeykJ\n"
     ]
    }
   ],
   "source": [
    "pg_conn, cursor = get_data_pier_connection()\n",
    "cursor.execute(\"select * from information_schema.tables limit 10\")"
   ]
  },
  {
   "cell_type": "code",
   "execution_count": 199,
   "metadata": {},
   "outputs": [
    {
     "data": {
      "text/html": [
       "<div>\n",
       "<style scoped>\n",
       "    .dataframe tbody tr th:only-of-type {\n",
       "        vertical-align: middle;\n",
       "    }\n",
       "\n",
       "    .dataframe tbody tr th {\n",
       "        vertical-align: top;\n",
       "    }\n",
       "\n",
       "    .dataframe thead th {\n",
       "        text-align: right;\n",
       "    }\n",
       "</style>\n",
       "<table border=\"1\" class=\"dataframe\">\n",
       "  <thead>\n",
       "    <tr style=\"text-align: right;\">\n",
       "      <th></th>\n",
       "      <th>term_taxonomy_id</th>\n",
       "      <th>term_id</th>\n",
       "      <th>taxonomy</th>\n",
       "      <th>description</th>\n",
       "      <th>parent</th>\n",
       "      <th>count</th>\n",
       "    </tr>\n",
       "  </thead>\n",
       "  <tbody>\n",
       "    <tr>\n",
       "      <th>0</th>\n",
       "      <td>577.0</td>\n",
       "      <td>577.0</td>\n",
       "      <td>post_tag</td>\n",
       "      <td></td>\n",
       "      <td>0.0</td>\n",
       "      <td>133</td>\n",
       "    </tr>\n",
       "    <tr>\n",
       "      <th>1</th>\n",
       "      <td>582.0</td>\n",
       "      <td>582.0</td>\n",
       "      <td>post_tag</td>\n",
       "      <td></td>\n",
       "      <td>0.0</td>\n",
       "      <td>20</td>\n",
       "    </tr>\n",
       "    <tr>\n",
       "      <th>2</th>\n",
       "      <td>583.0</td>\n",
       "      <td>583.0</td>\n",
       "      <td>post_tag</td>\n",
       "      <td></td>\n",
       "      <td>0.0</td>\n",
       "      <td>47</td>\n",
       "    </tr>\n",
       "    <tr>\n",
       "      <th>3</th>\n",
       "      <td>586.0</td>\n",
       "      <td>586.0</td>\n",
       "      <td>post_tag</td>\n",
       "      <td></td>\n",
       "      <td>0.0</td>\n",
       "      <td>117</td>\n",
       "    </tr>\n",
       "    <tr>\n",
       "      <th>4</th>\n",
       "      <td>591.0</td>\n",
       "      <td>591.0</td>\n",
       "      <td>post_tag</td>\n",
       "      <td></td>\n",
       "      <td>0.0</td>\n",
       "      <td>56</td>\n",
       "    </tr>\n",
       "  </tbody>\n",
       "</table>\n",
       "</div>"
      ],
      "text/plain": [
       "   term_taxonomy_id  term_id  taxonomy description  parent  count\n",
       "0             577.0    577.0  post_tag                 0.0    133\n",
       "1             582.0    582.0  post_tag                 0.0     20\n",
       "2             583.0    583.0  post_tag                 0.0     47\n",
       "3             586.0    586.0  post_tag                 0.0    117\n",
       "4             591.0    591.0  post_tag                 0.0     56"
      ]
     },
     "execution_count": 199,
     "metadata": {},
     "output_type": "execute_result"
    }
   ],
   "source": [
    "#query = \"select * from information_schema.columns where table_schema='id_wordpress'\" \n",
    "query = \"select  * from id_wordpress.wp_terms join id_wordpress.wp_posts where slug like '%kartu%' limit 100\" # gets slug\n",
    "query = \"\"\"\n",
    "        select * from id_wordpress.wp_postmeta where meta_key not like'%oembed%' \n",
    "        and meta_key like '%slug%'\n",
    "        order by meta_key desc limit 100\n",
    "        \"\"\"\n",
    "\n",
    "query = \"select taxonomy, count(*) from id_wordpress.wp_term_taxonomy group by taxonomy\"\n",
    "query = \"select * from id_wordpress.wp_term_taxonomy where taxonomy='post_tag'\"\n",
    "pd.read_sql_query(query, pg_conn).head()"
   ]
  },
  {
   "cell_type": "code",
   "execution_count": 83,
   "metadata": {},
   "outputs": [],
   "source": [
    "pps_query = \"\"\"\n",
    "select users.day_str, users.is_test, num_users, num_pageviews, cast(num_pageviews as DOUBLE) / (num_users) as pageviews_per_user_per_day from \n",
    "\n",
    "(select day_str, is_test, count(distinct(anonymous_id)) AS num_users from id_pageview_metrics group by day_str, is_test) as users\n",
    "\n",
    "JOIN\n",
    "\n",
    "(select day_str, is_test, count(*) as num_pageviews from id_pageview_metrics group by day_str, is_test) as pageviews\n",
    "\n",
    "ON \n",
    " users.day_str = pageviews.day_str\n",
    " and \n",
    " users.is_test = pageviews.is_test\n",
    "order by day_str, is_test\n",
    "\"\"\"\n",
    "pageviews_per_session = pd.read_sql_query(pps_query, athena_conn)"
   ]
  },
  {
   "cell_type": "code",
   "execution_count": 84,
   "metadata": {},
   "outputs": [
    {
     "data": {
      "text/html": [
       "<div>\n",
       "<style scoped>\n",
       "    .dataframe tbody tr th:only-of-type {\n",
       "        vertical-align: middle;\n",
       "    }\n",
       "\n",
       "    .dataframe tbody tr th {\n",
       "        vertical-align: top;\n",
       "    }\n",
       "\n",
       "    .dataframe thead th {\n",
       "        text-align: right;\n",
       "    }\n",
       "</style>\n",
       "<table border=\"1\" class=\"dataframe\">\n",
       "  <thead>\n",
       "    <tr style=\"text-align: right;\">\n",
       "      <th></th>\n",
       "      <th>day_str</th>\n",
       "      <th>is_test</th>\n",
       "      <th>num_users</th>\n",
       "      <th>num_pageviews</th>\n",
       "      <th>pageviews_per_user_per_day</th>\n",
       "    </tr>\n",
       "  </thead>\n",
       "  <tbody>\n",
       "    <tr>\n",
       "      <th>0</th>\n",
       "      <td>2019-08-29</td>\n",
       "      <td>False</td>\n",
       "      <td>22667</td>\n",
       "      <td>27063</td>\n",
       "      <td>1.193938</td>\n",
       "    </tr>\n",
       "    <tr>\n",
       "      <th>1</th>\n",
       "      <td>2019-08-29</td>\n",
       "      <td>True</td>\n",
       "      <td>778</td>\n",
       "      <td>1003</td>\n",
       "      <td>1.289203</td>\n",
       "    </tr>\n",
       "    <tr>\n",
       "      <th>2</th>\n",
       "      <td>2019-08-30</td>\n",
       "      <td>False</td>\n",
       "      <td>147652</td>\n",
       "      <td>178157</td>\n",
       "      <td>1.206601</td>\n",
       "    </tr>\n",
       "    <tr>\n",
       "      <th>3</th>\n",
       "      <td>2019-08-30</td>\n",
       "      <td>True</td>\n",
       "      <td>5432</td>\n",
       "      <td>6586</td>\n",
       "      <td>1.212445</td>\n",
       "    </tr>\n",
       "    <tr>\n",
       "      <th>4</th>\n",
       "      <td>2019-08-31</td>\n",
       "      <td>False</td>\n",
       "      <td>146489</td>\n",
       "      <td>177051</td>\n",
       "      <td>1.208630</td>\n",
       "    </tr>\n",
       "    <tr>\n",
       "      <th>5</th>\n",
       "      <td>2019-08-31</td>\n",
       "      <td>True</td>\n",
       "      <td>4999</td>\n",
       "      <td>5962</td>\n",
       "      <td>1.192639</td>\n",
       "    </tr>\n",
       "    <tr>\n",
       "      <th>6</th>\n",
       "      <td>2019-09-01</td>\n",
       "      <td>False</td>\n",
       "      <td>150252</td>\n",
       "      <td>180434</td>\n",
       "      <td>1.200876</td>\n",
       "    </tr>\n",
       "    <tr>\n",
       "      <th>7</th>\n",
       "      <td>2019-09-01</td>\n",
       "      <td>True</td>\n",
       "      <td>5429</td>\n",
       "      <td>6314</td>\n",
       "      <td>1.163013</td>\n",
       "    </tr>\n",
       "    <tr>\n",
       "      <th>8</th>\n",
       "      <td>2019-09-02</td>\n",
       "      <td>False</td>\n",
       "      <td>150894</td>\n",
       "      <td>182569</td>\n",
       "      <td>1.209916</td>\n",
       "    </tr>\n",
       "    <tr>\n",
       "      <th>9</th>\n",
       "      <td>2019-09-02</td>\n",
       "      <td>True</td>\n",
       "      <td>5893</td>\n",
       "      <td>7009</td>\n",
       "      <td>1.189377</td>\n",
       "    </tr>\n",
       "    <tr>\n",
       "      <th>10</th>\n",
       "      <td>2019-09-03</td>\n",
       "      <td>False</td>\n",
       "      <td>158564</td>\n",
       "      <td>191973</td>\n",
       "      <td>1.210697</td>\n",
       "    </tr>\n",
       "    <tr>\n",
       "      <th>11</th>\n",
       "      <td>2019-09-03</td>\n",
       "      <td>True</td>\n",
       "      <td>5993</td>\n",
       "      <td>6971</td>\n",
       "      <td>1.163190</td>\n",
       "    </tr>\n",
       "    <tr>\n",
       "      <th>12</th>\n",
       "      <td>2019-09-04</td>\n",
       "      <td>False</td>\n",
       "      <td>138080</td>\n",
       "      <td>166404</td>\n",
       "      <td>1.205127</td>\n",
       "    </tr>\n",
       "    <tr>\n",
       "      <th>13</th>\n",
       "      <td>2019-09-04</td>\n",
       "      <td>True</td>\n",
       "      <td>4926</td>\n",
       "      <td>5808</td>\n",
       "      <td>1.179050</td>\n",
       "    </tr>\n",
       "  </tbody>\n",
       "</table>\n",
       "</div>"
      ],
      "text/plain": [
       "       day_str  is_test  num_users  num_pageviews  pageviews_per_user_per_day\n",
       "0   2019-08-29    False      22667          27063                    1.193938\n",
       "1   2019-08-29     True        778           1003                    1.289203\n",
       "2   2019-08-30    False     147652         178157                    1.206601\n",
       "3   2019-08-30     True       5432           6586                    1.212445\n",
       "4   2019-08-31    False     146489         177051                    1.208630\n",
       "5   2019-08-31     True       4999           5962                    1.192639\n",
       "6   2019-09-01    False     150252         180434                    1.200876\n",
       "7   2019-09-01     True       5429           6314                    1.163013\n",
       "8   2019-09-02    False     150894         182569                    1.209916\n",
       "9   2019-09-02     True       5893           7009                    1.189377\n",
       "10  2019-09-03    False     158564         191973                    1.210697\n",
       "11  2019-09-03     True       5993           6971                    1.163190\n",
       "12  2019-09-04    False     138080         166404                    1.205127\n",
       "13  2019-09-04     True       4926           5808                    1.179050"
      ]
     },
     "execution_count": 84,
     "metadata": {},
     "output_type": "execute_result"
    }
   ],
   "source": [
    "pageviews_per_session\n"
   ]
  },
  {
   "cell_type": "code",
   "execution_count": 85,
   "metadata": {},
   "outputs": [
    {
     "data": {
      "text/html": [
       "<div>\n",
       "<style scoped>\n",
       "    .dataframe tbody tr th:only-of-type {\n",
       "        vertical-align: middle;\n",
       "    }\n",
       "\n",
       "    .dataframe tbody tr th {\n",
       "        vertical-align: top;\n",
       "    }\n",
       "\n",
       "    .dataframe thead th {\n",
       "        text-align: right;\n",
       "    }\n",
       "</style>\n",
       "<table border=\"1\" class=\"dataframe\">\n",
       "  <thead>\n",
       "    <tr style=\"text-align: right;\">\n",
       "      <th></th>\n",
       "      <th>num_users</th>\n",
       "      <th>num_pageviews</th>\n",
       "      <th>pageviews_per_user_per_day</th>\n",
       "    </tr>\n",
       "    <tr>\n",
       "      <th>is_test</th>\n",
       "      <th></th>\n",
       "      <th></th>\n",
       "      <th></th>\n",
       "    </tr>\n",
       "  </thead>\n",
       "  <tbody>\n",
       "    <tr>\n",
       "      <th>False</th>\n",
       "      <td>130656.857143</td>\n",
       "      <td>157664.428571</td>\n",
       "      <td>1.205112</td>\n",
       "    </tr>\n",
       "    <tr>\n",
       "      <th>True</th>\n",
       "      <td>4778.571429</td>\n",
       "      <td>5664.714286</td>\n",
       "      <td>1.198417</td>\n",
       "    </tr>\n",
       "  </tbody>\n",
       "</table>\n",
       "</div>"
      ],
      "text/plain": [
       "             num_users  num_pageviews  pageviews_per_user_per_day\n",
       "is_test                                                          \n",
       "False    130656.857143  157664.428571                    1.205112\n",
       "True       4778.571429    5664.714286                    1.198417"
      ]
     },
     "execution_count": 85,
     "metadata": {},
     "output_type": "execute_result"
    }
   ],
   "source": [
    "pageviews_per_session.groupby(['is_test']).mean()"
   ]
  },
  {
   "cell_type": "code",
   "execution_count": 308,
   "metadata": {},
   "outputs": [
    {
     "data": {
      "text/html": [
       "<div>\n",
       "<style scoped>\n",
       "    .dataframe tbody tr th:only-of-type {\n",
       "        vertical-align: middle;\n",
       "    }\n",
       "\n",
       "    .dataframe tbody tr th {\n",
       "        vertical-align: top;\n",
       "    }\n",
       "\n",
       "    .dataframe thead th {\n",
       "        text-align: right;\n",
       "    }\n",
       "</style>\n",
       "<table border=\"1\" class=\"dataframe\">\n",
       "  <thead>\n",
       "    <tr style=\"text-align: right;\">\n",
       "      <th></th>\n",
       "      <th>post_id</th>\n",
       "    </tr>\n",
       "  </thead>\n",
       "  <tbody>\n",
       "    <tr>\n",
       "      <th>0</th>\n",
       "      <td>153.0</td>\n",
       "    </tr>\n",
       "    <tr>\n",
       "      <th>1</th>\n",
       "      <td>155.0</td>\n",
       "    </tr>\n",
       "    <tr>\n",
       "      <th>2</th>\n",
       "      <td>158.0</td>\n",
       "    </tr>\n",
       "    <tr>\n",
       "      <th>3</th>\n",
       "      <td>161.0</td>\n",
       "    </tr>\n",
       "    <tr>\n",
       "      <th>4</th>\n",
       "      <td>199.0</td>\n",
       "    </tr>\n",
       "  </tbody>\n",
       "</table>\n",
       "</div>"
      ],
      "text/plain": [
       "   post_id\n",
       "0    153.0\n",
       "1    155.0\n",
       "2    158.0\n",
       "3    161.0\n",
       "4    199.0"
      ]
     },
     "execution_count": 308,
     "metadata": {},
     "output_type": "execute_result"
    }
   ],
   "source": [
    "post_slugs_to_id_df.head()"
   ]
  },
  {
   "cell_type": "code",
   "execution_count": 210,
   "metadata": {},
   "outputs": [
    {
     "name": "stdout",
     "output_type": "stream",
     "text": [
      "   post_id                       name  term_id  parent  count  taxonomy\n",
      "0    153.0                   Pinjaman    528.0  1180.0    504  category\n",
      "1    155.0                  Budgeting   1193.0  1191.0    616  category\n",
      "2    155.0                 tips hemat   1299.0     0.0    175  post_tag\n",
      "3    155.0  mengatur keuangan pribadi   1944.0     0.0      5  post_tag\n",
      "4    155.0              mengatur uang   3053.0     0.0      5  post_tag\n"
     ]
    }
   ],
   "source": [
    "def get_all_categories_tags(conn, schema):\n",
    "    \n",
    "    \"\"\"domain.com/<slug> (we can parse the slug based on URL single post format)\n",
    "Get the post from slug\n",
    "```sql\n",
    "SELECT wp_posts.*\n",
    "FROM wp_posts \n",
    "WHERE 1=1 \n",
    "AND wp_posts.post_name = '<slug>'\n",
    "AND wp_posts.post_type = 'post' \n",
    "ORDER BY wp_posts.post_date DESC\n",
    "```\n",
    "Get categories of a post (post_id is from post retrieved above). For tag, replace 'category' by 'tag'\n",
    "```sql\n",
    "SELECT t.term_id, tt.parent, tt.count, tt.taxonomy\n",
    "FROM wp_terms AS t \n",
    "INNER JOIN wp_term_taxonomy AS tt\n",
    "ON t.term_id = tt.term_id\n",
    "INNER JOIN wp_term_relationships AS tr\n",
    "ON tr.term_taxonomy_id = tt.term_taxonomy_id\n",
    "WHERE tt.taxonomy IN ('category')\n",
    "AND tr.object_id IN (<post_id>)\n",
    "ORDER BY t.name ASC\n",
    "```\n",
    "Get details of a term (category or tag) from IDs retrieved above\n",
    "```sql\n",
    "SELECT t.*, tt.*\n",
    "FROM wp_terms AS t\n",
    "INNER JOIN wp_term_taxonomy AS tt\n",
    "ON t.term_id = tt.term_id\n",
    "WHERE t.term_id = <term_id>\n",
    "```\"\"\"\n",
    "    \n",
    "    \n",
    "    tags_categories_query = \"\"\"\n",
    "    select \n",
    "        wp_posts.id as post_id, \n",
    "        -- wp_posts.post_name as slug, \n",
    "        cats.name, \n",
    "        cats.term_id, \n",
    "        cats.parent, \n",
    "        cats.count, \n",
    "        cats.taxonomy\n",
    "    \n",
    "    from {schema}.wp_posts\n",
    "    join (\n",
    "        SELECT tr.object_id, t.term_id, tt.parent, tt.count, tt.taxonomy, t.name\n",
    "        FROM {schema}.wp_terms AS t \n",
    "        INNER JOIN {schema}.wp_term_taxonomy AS tt\n",
    "        ON t.term_id = tt.term_id\n",
    "        INNER JOIN {schema}.wp_term_relationships AS tr\n",
    "        ON tr.term_taxonomy_id = tt.term_taxonomy_id\n",
    "         WHERE tt.taxonomy IN ('category', 'post_tag')\n",
    "       \n",
    "        \n",
    "    ) as cats\n",
    "    on cats.object_id = wp_posts.id\n",
    "    \n",
    "    where\n",
    "    wp_posts.post_type = 'post'\n",
    "    and wp_posts.post_status = 'publish'\n",
    "    \n",
    "    \"\"\".format(schema=schema)\n",
    "\n",
    "    \n",
    "    \n",
    "    tags_categories = pd.read_sql_query(tags_categories_query, conn)\n",
    "    #print(tags_categories[:100])\n",
    "    \n",
    "    print(tags_categories.head())\n",
    "    tags_categories.astype({\"post_id\":int, \"term_id\":int, \"parent\":int, \"taxonomy\": \"category\"}) #untested type casting\n",
    "    \n",
    "    \n",
    "    tags = tags_categories[tags_categories.taxonomy=='post_tag'][['post_id','name']]\n",
    "    \n",
    "    categories = tags_categories[tags_categories.taxonomy=='category'][['post_id','name']]\n",
    "    \n",
    "    \n",
    "    return categories, tags\n",
    "\n",
    "\n",
    "def get_post_data(conn, schema):\n",
    "    query = \"\"\"\n",
    "    select id as post_id, post_name as slug, post_author as author_id, CHAR_LENGTH(post_content) as post_num_chars, post_date, post_modified \n",
    "    from {schema}.wp_posts\n",
    "    \n",
    "    where \n",
    "    wp_posts.post_type = 'post'\n",
    "    and wp_posts.post_status = 'publish'\n",
    "    \"\"\".format(schema=schema)\n",
    "    df = pd.read_sql_query(query, conn)\n",
    "    df.astype({\"post_id\":int, \"author_id\":int}) #untested type casting\n",
    "    return df\n",
    "    \n",
    "def slug_to_url(slug):\n",
    "    return \"https://www.moneysmart.id/\"+slug\n",
    "\n",
    "\n",
    "\n",
    "post_data = get_post_data(pg_conn, \"id_wordpress\")\n",
    "    \n",
    "post_slugs_to_id_df = post_data[[\"post_id\",]] #.index(post_data[\"slug\"])\n",
    "\n",
    "categories, tags = get_all_categories_tags(pg_conn, \"id_wordpress\")\n",
    "                                           "
   ]
  },
  {
   "cell_type": "code",
   "execution_count": 226,
   "metadata": {},
   "outputs": [],
   "source": [
    "def convert_canonical_url_to_slug(url):\n",
    "    if \"//\" not in url:\n",
    "        raise Exception(\"expected start of url in {}\".format(url))\n",
    "    id_root = \"https://www.moneysmart.id\"\n",
    "    ms_id_index = url.find(id_root)\n",
    "    if not ms_id_index:\n",
    "        raise Exception(\"{url} doesn't look like a canonical url\".format(url = url))\n",
    "        \n",
    "    slug = url[ms_id_index+ len(id_root)+1:].strip(\"/\")\n",
    "    \n",
    "    if slug == \"\":\n",
    "        slug =\"/\"\n",
    "    return slug\n",
    "        \n",
    "def is_article_slug(slug):\n",
    "    if \"/\" in slug or len(slug)==0:\n",
    "        return False\n",
    "    return True\n",
    "\n",
    "def get_post_id_from_slug(slug):\n",
    "    post_id = post_slugs_to_id_df.loc[slug, :][0]\n",
    "    return post_id\n",
    "\n",
    "\n",
    "def get_post_id_from_url(url):\n",
    "    #Expects only post urls\n",
    "    slug = convert_canonical_url_to_slug(url)\n",
    "    print(slug)\n",
    "    post_id = get_post_id_from_slug(slug)\n",
    "    return post_id"
   ]
  },
  {
   "cell_type": "code",
   "execution_count": 307,
   "metadata": {},
   "outputs": [
    {
     "name": "stdout",
     "output_type": "stream",
     "text": [
      "cara-cepat-melunasi-kpr\n"
     ]
    },
    {
     "ename": "KeyError",
     "evalue": "'cara-cepat-melunasi-kpr'",
     "output_type": "error",
     "traceback": [
      "\u001b[0;31m---------------------------------------------------------------------------\u001b[0m",
      "\u001b[0;31mKeyError\u001b[0m                                  Traceback (most recent call last)",
      "\u001b[0;32m~/anaconda3/envs/python3/lib/python3.6/site-packages/pandas/core/indexes/base.py\u001b[0m in \u001b[0;36mget_loc\u001b[0;34m(self, key, method, tolerance)\u001b[0m\n\u001b[1;32m   2656\u001b[0m             \u001b[0;32mtry\u001b[0m\u001b[0;34m:\u001b[0m\u001b[0;34m\u001b[0m\u001b[0m\n\u001b[0;32m-> 2657\u001b[0;31m                 \u001b[0;32mreturn\u001b[0m \u001b[0mself\u001b[0m\u001b[0;34m.\u001b[0m\u001b[0m_engine\u001b[0m\u001b[0;34m.\u001b[0m\u001b[0mget_loc\u001b[0m\u001b[0;34m(\u001b[0m\u001b[0mkey\u001b[0m\u001b[0;34m)\u001b[0m\u001b[0;34m\u001b[0m\u001b[0m\n\u001b[0m\u001b[1;32m   2658\u001b[0m             \u001b[0;32mexcept\u001b[0m \u001b[0mKeyError\u001b[0m\u001b[0;34m:\u001b[0m\u001b[0;34m\u001b[0m\u001b[0m\n",
      "\u001b[0;32mpandas/_libs/index.pyx\u001b[0m in \u001b[0;36mpandas._libs.index.IndexEngine.get_loc\u001b[0;34m()\u001b[0m\n",
      "\u001b[0;32mpandas/_libs/index.pyx\u001b[0m in \u001b[0;36mpandas._libs.index.IndexEngine.get_loc\u001b[0;34m()\u001b[0m\n",
      "\u001b[0;32mpandas/_libs/index_class_helper.pxi\u001b[0m in \u001b[0;36mpandas._libs.index.Int64Engine._check_type\u001b[0;34m()\u001b[0m\n",
      "\u001b[0;31mKeyError\u001b[0m: 'cara-cepat-melunasi-kpr'",
      "\nDuring handling of the above exception, another exception occurred:\n",
      "\u001b[0;31mKeyError\u001b[0m                                  Traceback (most recent call last)",
      "\u001b[0;32m<ipython-input-307-d81f04a412ff>\u001b[0m in \u001b[0;36m<module>\u001b[0;34m()\u001b[0m\n\u001b[0;32m----> 1\u001b[0;31m \u001b[0mget_post_id_from_url\u001b[0m\u001b[0;34m(\u001b[0m\u001b[0;34m\"htts://www.moneysmart.id/cara-cepat-melunasi-kpr\"\u001b[0m\u001b[0;34m)\u001b[0m\u001b[0;34m\u001b[0m\u001b[0m\n\u001b[0m",
      "\u001b[0;32m<ipython-input-226-0f6ef67d2204>\u001b[0m in \u001b[0;36mget_post_id_from_url\u001b[0;34m(url)\u001b[0m\n\u001b[1;32m     27\u001b[0m     \u001b[0mslug\u001b[0m \u001b[0;34m=\u001b[0m \u001b[0mconvert_canonical_url_to_slug\u001b[0m\u001b[0;34m(\u001b[0m\u001b[0murl\u001b[0m\u001b[0;34m)\u001b[0m\u001b[0;34m\u001b[0m\u001b[0m\n\u001b[1;32m     28\u001b[0m     \u001b[0mprint\u001b[0m\u001b[0;34m(\u001b[0m\u001b[0mslug\u001b[0m\u001b[0;34m)\u001b[0m\u001b[0;34m\u001b[0m\u001b[0m\n\u001b[0;32m---> 29\u001b[0;31m     \u001b[0mpost_id\u001b[0m \u001b[0;34m=\u001b[0m \u001b[0mget_post_id_from_slug\u001b[0m\u001b[0;34m(\u001b[0m\u001b[0mslug\u001b[0m\u001b[0;34m)\u001b[0m\u001b[0;34m\u001b[0m\u001b[0m\n\u001b[0m\u001b[1;32m     30\u001b[0m     \u001b[0;32mreturn\u001b[0m \u001b[0mpost_id\u001b[0m\u001b[0;34m\u001b[0m\u001b[0m\n",
      "\u001b[0;32m<ipython-input-226-0f6ef67d2204>\u001b[0m in \u001b[0;36mget_post_id_from_slug\u001b[0;34m(slug)\u001b[0m\n\u001b[1;32m     19\u001b[0m \u001b[0;34m\u001b[0m\u001b[0m\n\u001b[1;32m     20\u001b[0m \u001b[0;32mdef\u001b[0m \u001b[0mget_post_id_from_slug\u001b[0m\u001b[0;34m(\u001b[0m\u001b[0mslug\u001b[0m\u001b[0;34m)\u001b[0m\u001b[0;34m:\u001b[0m\u001b[0;34m\u001b[0m\u001b[0m\n\u001b[0;32m---> 21\u001b[0;31m     \u001b[0mpost_id\u001b[0m \u001b[0;34m=\u001b[0m \u001b[0mpost_slugs_to_id_df\u001b[0m\u001b[0;34m.\u001b[0m\u001b[0mloc\u001b[0m\u001b[0;34m[\u001b[0m\u001b[0mslug\u001b[0m\u001b[0;34m,\u001b[0m \u001b[0;34m:\u001b[0m\u001b[0;34m]\u001b[0m\u001b[0;34m[\u001b[0m\u001b[0;36m0\u001b[0m\u001b[0;34m]\u001b[0m\u001b[0;34m\u001b[0m\u001b[0m\n\u001b[0m\u001b[1;32m     22\u001b[0m     \u001b[0;32mreturn\u001b[0m \u001b[0mpost_id\u001b[0m\u001b[0;34m\u001b[0m\u001b[0m\n\u001b[1;32m     23\u001b[0m \u001b[0;34m\u001b[0m\u001b[0m\n",
      "\u001b[0;32m~/anaconda3/envs/python3/lib/python3.6/site-packages/pandas/core/indexing.py\u001b[0m in \u001b[0;36m__getitem__\u001b[0;34m(self, key)\u001b[0m\n\u001b[1;32m   1492\u001b[0m             \u001b[0;32mexcept\u001b[0m \u001b[0;34m(\u001b[0m\u001b[0mKeyError\u001b[0m\u001b[0;34m,\u001b[0m \u001b[0mIndexError\u001b[0m\u001b[0;34m,\u001b[0m \u001b[0mAttributeError\u001b[0m\u001b[0;34m)\u001b[0m\u001b[0;34m:\u001b[0m\u001b[0;34m\u001b[0m\u001b[0m\n\u001b[1;32m   1493\u001b[0m                 \u001b[0;32mpass\u001b[0m\u001b[0;34m\u001b[0m\u001b[0m\n\u001b[0;32m-> 1494\u001b[0;31m             \u001b[0;32mreturn\u001b[0m \u001b[0mself\u001b[0m\u001b[0;34m.\u001b[0m\u001b[0m_getitem_tuple\u001b[0m\u001b[0;34m(\u001b[0m\u001b[0mkey\u001b[0m\u001b[0;34m)\u001b[0m\u001b[0;34m\u001b[0m\u001b[0m\n\u001b[0m\u001b[1;32m   1495\u001b[0m         \u001b[0;32melse\u001b[0m\u001b[0;34m:\u001b[0m\u001b[0;34m\u001b[0m\u001b[0m\n\u001b[1;32m   1496\u001b[0m             \u001b[0;31m# we by definition only have the 0th axis\u001b[0m\u001b[0;34m\u001b[0m\u001b[0;34m\u001b[0m\u001b[0m\n",
      "\u001b[0;32m~/anaconda3/envs/python3/lib/python3.6/site-packages/pandas/core/indexing.py\u001b[0m in \u001b[0;36m_getitem_tuple\u001b[0;34m(self, tup)\u001b[0m\n\u001b[1;32m    866\u001b[0m     \u001b[0;32mdef\u001b[0m \u001b[0m_getitem_tuple\u001b[0m\u001b[0;34m(\u001b[0m\u001b[0mself\u001b[0m\u001b[0;34m,\u001b[0m \u001b[0mtup\u001b[0m\u001b[0;34m)\u001b[0m\u001b[0;34m:\u001b[0m\u001b[0;34m\u001b[0m\u001b[0m\n\u001b[1;32m    867\u001b[0m         \u001b[0;32mtry\u001b[0m\u001b[0;34m:\u001b[0m\u001b[0;34m\u001b[0m\u001b[0m\n\u001b[0;32m--> 868\u001b[0;31m             \u001b[0;32mreturn\u001b[0m \u001b[0mself\u001b[0m\u001b[0;34m.\u001b[0m\u001b[0m_getitem_lowerdim\u001b[0m\u001b[0;34m(\u001b[0m\u001b[0mtup\u001b[0m\u001b[0;34m)\u001b[0m\u001b[0;34m\u001b[0m\u001b[0m\n\u001b[0m\u001b[1;32m    869\u001b[0m         \u001b[0;32mexcept\u001b[0m \u001b[0mIndexingError\u001b[0m\u001b[0;34m:\u001b[0m\u001b[0;34m\u001b[0m\u001b[0m\n\u001b[1;32m    870\u001b[0m             \u001b[0;32mpass\u001b[0m\u001b[0;34m\u001b[0m\u001b[0m\n",
      "\u001b[0;32m~/anaconda3/envs/python3/lib/python3.6/site-packages/pandas/core/indexing.py\u001b[0m in \u001b[0;36m_getitem_lowerdim\u001b[0;34m(self, tup)\u001b[0m\n\u001b[1;32m    986\u001b[0m         \u001b[0;32mfor\u001b[0m \u001b[0mi\u001b[0m\u001b[0;34m,\u001b[0m \u001b[0mkey\u001b[0m \u001b[0;32min\u001b[0m \u001b[0menumerate\u001b[0m\u001b[0;34m(\u001b[0m\u001b[0mtup\u001b[0m\u001b[0;34m)\u001b[0m\u001b[0;34m:\u001b[0m\u001b[0;34m\u001b[0m\u001b[0m\n\u001b[1;32m    987\u001b[0m             \u001b[0;32mif\u001b[0m \u001b[0mis_label_like\u001b[0m\u001b[0;34m(\u001b[0m\u001b[0mkey\u001b[0m\u001b[0;34m)\u001b[0m \u001b[0;32mor\u001b[0m \u001b[0misinstance\u001b[0m\u001b[0;34m(\u001b[0m\u001b[0mkey\u001b[0m\u001b[0;34m,\u001b[0m \u001b[0mtuple\u001b[0m\u001b[0;34m)\u001b[0m\u001b[0;34m:\u001b[0m\u001b[0;34m\u001b[0m\u001b[0m\n\u001b[0;32m--> 988\u001b[0;31m                 \u001b[0msection\u001b[0m \u001b[0;34m=\u001b[0m \u001b[0mself\u001b[0m\u001b[0;34m.\u001b[0m\u001b[0m_getitem_axis\u001b[0m\u001b[0;34m(\u001b[0m\u001b[0mkey\u001b[0m\u001b[0;34m,\u001b[0m \u001b[0maxis\u001b[0m\u001b[0;34m=\u001b[0m\u001b[0mi\u001b[0m\u001b[0;34m)\u001b[0m\u001b[0;34m\u001b[0m\u001b[0m\n\u001b[0m\u001b[1;32m    989\u001b[0m \u001b[0;34m\u001b[0m\u001b[0m\n\u001b[1;32m    990\u001b[0m                 \u001b[0;31m# we have yielded a scalar ?\u001b[0m\u001b[0;34m\u001b[0m\u001b[0;34m\u001b[0m\u001b[0m\n",
      "\u001b[0;32m~/anaconda3/envs/python3/lib/python3.6/site-packages/pandas/core/indexing.py\u001b[0m in \u001b[0;36m_getitem_axis\u001b[0;34m(self, key, axis)\u001b[0m\n\u001b[1;32m   1911\u001b[0m         \u001b[0;31m# fall thru to straight lookup\u001b[0m\u001b[0;34m\u001b[0m\u001b[0;34m\u001b[0m\u001b[0m\n\u001b[1;32m   1912\u001b[0m         \u001b[0mself\u001b[0m\u001b[0;34m.\u001b[0m\u001b[0m_validate_key\u001b[0m\u001b[0;34m(\u001b[0m\u001b[0mkey\u001b[0m\u001b[0;34m,\u001b[0m \u001b[0maxis\u001b[0m\u001b[0;34m)\u001b[0m\u001b[0;34m\u001b[0m\u001b[0m\n\u001b[0;32m-> 1913\u001b[0;31m         \u001b[0;32mreturn\u001b[0m \u001b[0mself\u001b[0m\u001b[0;34m.\u001b[0m\u001b[0m_get_label\u001b[0m\u001b[0;34m(\u001b[0m\u001b[0mkey\u001b[0m\u001b[0;34m,\u001b[0m \u001b[0maxis\u001b[0m\u001b[0;34m=\u001b[0m\u001b[0maxis\u001b[0m\u001b[0;34m)\u001b[0m\u001b[0;34m\u001b[0m\u001b[0m\n\u001b[0m\u001b[1;32m   1914\u001b[0m \u001b[0;34m\u001b[0m\u001b[0m\n\u001b[1;32m   1915\u001b[0m \u001b[0;34m\u001b[0m\u001b[0m\n",
      "\u001b[0;32m~/anaconda3/envs/python3/lib/python3.6/site-packages/pandas/core/indexing.py\u001b[0m in \u001b[0;36m_get_label\u001b[0;34m(self, label, axis)\u001b[0m\n\u001b[1;32m    139\u001b[0m             \u001b[0;32mraise\u001b[0m \u001b[0mIndexingError\u001b[0m\u001b[0;34m(\u001b[0m\u001b[0;34m'no slices here, handle elsewhere'\u001b[0m\u001b[0;34m)\u001b[0m\u001b[0;34m\u001b[0m\u001b[0m\n\u001b[1;32m    140\u001b[0m \u001b[0;34m\u001b[0m\u001b[0m\n\u001b[0;32m--> 141\u001b[0;31m         \u001b[0;32mreturn\u001b[0m \u001b[0mself\u001b[0m\u001b[0;34m.\u001b[0m\u001b[0mobj\u001b[0m\u001b[0;34m.\u001b[0m\u001b[0m_xs\u001b[0m\u001b[0;34m(\u001b[0m\u001b[0mlabel\u001b[0m\u001b[0;34m,\u001b[0m \u001b[0maxis\u001b[0m\u001b[0;34m=\u001b[0m\u001b[0maxis\u001b[0m\u001b[0;34m)\u001b[0m\u001b[0;34m\u001b[0m\u001b[0m\n\u001b[0m\u001b[1;32m    142\u001b[0m \u001b[0;34m\u001b[0m\u001b[0m\n\u001b[1;32m    143\u001b[0m     \u001b[0;32mdef\u001b[0m \u001b[0m_get_loc\u001b[0m\u001b[0;34m(\u001b[0m\u001b[0mself\u001b[0m\u001b[0;34m,\u001b[0m \u001b[0mkey\u001b[0m\u001b[0;34m,\u001b[0m \u001b[0maxis\u001b[0m\u001b[0;34m=\u001b[0m\u001b[0;32mNone\u001b[0m\u001b[0;34m)\u001b[0m\u001b[0;34m:\u001b[0m\u001b[0;34m\u001b[0m\u001b[0m\n",
      "\u001b[0;32m~/anaconda3/envs/python3/lib/python3.6/site-packages/pandas/core/generic.py\u001b[0m in \u001b[0;36mxs\u001b[0;34m(self, key, axis, level, drop_level)\u001b[0m\n\u001b[1;32m   3583\u001b[0m                                                       drop_level=drop_level)\n\u001b[1;32m   3584\u001b[0m         \u001b[0;32melse\u001b[0m\u001b[0;34m:\u001b[0m\u001b[0;34m\u001b[0m\u001b[0m\n\u001b[0;32m-> 3585\u001b[0;31m             \u001b[0mloc\u001b[0m \u001b[0;34m=\u001b[0m \u001b[0mself\u001b[0m\u001b[0;34m.\u001b[0m\u001b[0mindex\u001b[0m\u001b[0;34m.\u001b[0m\u001b[0mget_loc\u001b[0m\u001b[0;34m(\u001b[0m\u001b[0mkey\u001b[0m\u001b[0;34m)\u001b[0m\u001b[0;34m\u001b[0m\u001b[0m\n\u001b[0m\u001b[1;32m   3586\u001b[0m \u001b[0;34m\u001b[0m\u001b[0m\n\u001b[1;32m   3587\u001b[0m             \u001b[0;32mif\u001b[0m \u001b[0misinstance\u001b[0m\u001b[0;34m(\u001b[0m\u001b[0mloc\u001b[0m\u001b[0;34m,\u001b[0m \u001b[0mnp\u001b[0m\u001b[0;34m.\u001b[0m\u001b[0mndarray\u001b[0m\u001b[0;34m)\u001b[0m\u001b[0;34m:\u001b[0m\u001b[0;34m\u001b[0m\u001b[0m\n",
      "\u001b[0;32m~/anaconda3/envs/python3/lib/python3.6/site-packages/pandas/core/indexes/base.py\u001b[0m in \u001b[0;36mget_loc\u001b[0;34m(self, key, method, tolerance)\u001b[0m\n\u001b[1;32m   2657\u001b[0m                 \u001b[0;32mreturn\u001b[0m \u001b[0mself\u001b[0m\u001b[0;34m.\u001b[0m\u001b[0m_engine\u001b[0m\u001b[0;34m.\u001b[0m\u001b[0mget_loc\u001b[0m\u001b[0;34m(\u001b[0m\u001b[0mkey\u001b[0m\u001b[0;34m)\u001b[0m\u001b[0;34m\u001b[0m\u001b[0m\n\u001b[1;32m   2658\u001b[0m             \u001b[0;32mexcept\u001b[0m \u001b[0mKeyError\u001b[0m\u001b[0;34m:\u001b[0m\u001b[0;34m\u001b[0m\u001b[0m\n\u001b[0;32m-> 2659\u001b[0;31m                 \u001b[0;32mreturn\u001b[0m \u001b[0mself\u001b[0m\u001b[0;34m.\u001b[0m\u001b[0m_engine\u001b[0m\u001b[0;34m.\u001b[0m\u001b[0mget_loc\u001b[0m\u001b[0;34m(\u001b[0m\u001b[0mself\u001b[0m\u001b[0;34m.\u001b[0m\u001b[0m_maybe_cast_indexer\u001b[0m\u001b[0;34m(\u001b[0m\u001b[0mkey\u001b[0m\u001b[0;34m)\u001b[0m\u001b[0;34m)\u001b[0m\u001b[0;34m\u001b[0m\u001b[0m\n\u001b[0m\u001b[1;32m   2660\u001b[0m         \u001b[0mindexer\u001b[0m \u001b[0;34m=\u001b[0m \u001b[0mself\u001b[0m\u001b[0;34m.\u001b[0m\u001b[0mget_indexer\u001b[0m\u001b[0;34m(\u001b[0m\u001b[0;34m[\u001b[0m\u001b[0mkey\u001b[0m\u001b[0;34m]\u001b[0m\u001b[0;34m,\u001b[0m \u001b[0mmethod\u001b[0m\u001b[0;34m=\u001b[0m\u001b[0mmethod\u001b[0m\u001b[0;34m,\u001b[0m \u001b[0mtolerance\u001b[0m\u001b[0;34m=\u001b[0m\u001b[0mtolerance\u001b[0m\u001b[0;34m)\u001b[0m\u001b[0;34m\u001b[0m\u001b[0m\n\u001b[1;32m   2661\u001b[0m         \u001b[0;32mif\u001b[0m \u001b[0mindexer\u001b[0m\u001b[0;34m.\u001b[0m\u001b[0mndim\u001b[0m \u001b[0;34m>\u001b[0m \u001b[0;36m1\u001b[0m \u001b[0;32mor\u001b[0m \u001b[0mindexer\u001b[0m\u001b[0;34m.\u001b[0m\u001b[0msize\u001b[0m \u001b[0;34m>\u001b[0m \u001b[0;36m1\u001b[0m\u001b[0;34m:\u001b[0m\u001b[0;34m\u001b[0m\u001b[0m\n",
      "\u001b[0;32mpandas/_libs/index.pyx\u001b[0m in \u001b[0;36mpandas._libs.index.IndexEngine.get_loc\u001b[0;34m()\u001b[0m\n",
      "\u001b[0;32mpandas/_libs/index.pyx\u001b[0m in \u001b[0;36mpandas._libs.index.IndexEngine.get_loc\u001b[0;34m()\u001b[0m\n",
      "\u001b[0;32mpandas/_libs/index_class_helper.pxi\u001b[0m in \u001b[0;36mpandas._libs.index.Int64Engine._check_type\u001b[0;34m()\u001b[0m\n",
      "\u001b[0;31mKeyError\u001b[0m: 'cara-cepat-melunasi-kpr'"
     ]
    }
   ],
   "source": [
    "get_post_id_from_url(\"htts://www.moneysmart.id/cara-cepat-melunasi-kpr\")"
   ]
  },
  {
   "cell_type": "code",
   "execution_count": 183,
   "metadata": {},
   "outputs": [
    {
     "data": {
      "text/html": [
       "<div>\n",
       "<style scoped>\n",
       "    .dataframe tbody tr th:only-of-type {\n",
       "        vertical-align: middle;\n",
       "    }\n",
       "\n",
       "    .dataframe tbody tr th {\n",
       "        vertical-align: top;\n",
       "    }\n",
       "\n",
       "    .dataframe thead th {\n",
       "        text-align: right;\n",
       "    }\n",
       "</style>\n",
       "<table border=\"1\" class=\"dataframe\">\n",
       "  <thead>\n",
       "    <tr style=\"text-align: right;\">\n",
       "      <th></th>\n",
       "      <th>id</th>\n",
       "      <th>slug</th>\n",
       "      <th>name</th>\n",
       "    </tr>\n",
       "  </thead>\n",
       "  <tbody>\n",
       "    <tr>\n",
       "      <th>0</th>\n",
       "      <td>153.0</td>\n",
       "      <td>cara-cepat-melunasi-kpr</td>\n",
       "      <td>Pinjaman</td>\n",
       "    </tr>\n",
       "    <tr>\n",
       "      <th>1</th>\n",
       "      <td>155.0</td>\n",
       "      <td>mengatur-keuangan-pribadi</td>\n",
       "      <td>Budgeting</td>\n",
       "    </tr>\n",
       "    <tr>\n",
       "      <th>6</th>\n",
       "      <td>158.0</td>\n",
       "      <td>kpr-rumah-dan-cara-memilihnya</td>\n",
       "      <td>Pinjaman</td>\n",
       "    </tr>\n",
       "    <tr>\n",
       "      <th>10</th>\n",
       "      <td>161.0</td>\n",
       "      <td>agar-otak-selalu-segar</td>\n",
       "      <td>Ragam</td>\n",
       "    </tr>\n",
       "    <tr>\n",
       "      <th>11</th>\n",
       "      <td>171.0</td>\n",
       "      <td>tips-menambah-teman-dan-berbelanja-saat-berlibur</td>\n",
       "      <td>Kuliner &amp;amp; Travel</td>\n",
       "    </tr>\n",
       "  </tbody>\n",
       "</table>\n",
       "</div>"
      ],
      "text/plain": [
       "       id                                              slug  \\\n",
       "0   153.0                           cara-cepat-melunasi-kpr   \n",
       "1   155.0                         mengatur-keuangan-pribadi   \n",
       "6   158.0                     kpr-rumah-dan-cara-memilihnya   \n",
       "10  161.0                            agar-otak-selalu-segar   \n",
       "11  171.0  tips-menambah-teman-dan-berbelanja-saat-berlibur   \n",
       "\n",
       "                    name  \n",
       "0               Pinjaman  \n",
       "1              Budgeting  \n",
       "6               Pinjaman  \n",
       "10                 Ragam  \n",
       "11  Kuliner &amp; Travel  "
      ]
     },
     "execution_count": 183,
     "metadata": {},
     "output_type": "execute_result"
    }
   ],
   "source": [
    "categories.head(5)"
   ]
  },
  {
   "cell_type": "code",
   "execution_count": 128,
   "metadata": {},
   "outputs": [],
   "source": []
  },
  {
   "cell_type": "code",
   "execution_count": 152,
   "metadata": {},
   "outputs": [],
   "source": [
    "article_categories = categories.groupby('slug').aggregate(lambda x:x.unique().tolist())\n",
    "article_tags = tags.groupby('slug').aggregate(lambda x:x.unique().tolist())"
   ]
  },
  {
   "cell_type": "code",
   "execution_count": 141,
   "metadata": {},
   "outputs": [],
   "source": [
    "#[z for z in article_categories.values if len(z[1])>0]\n",
    "article_categories\n",
    "article_categories['num_categories'] = article_categories['name'].apply(len)"
   ]
  },
  {
   "cell_type": "code",
   "execution_count": 177,
   "metadata": {},
   "outputs": [
    {
     "name": "stdout",
     "output_type": "stream",
     "text": [
      "it took \n",
      "0.0007693767547607422\n"
     ]
    },
    {
     "data": {
      "text/plain": [
       "(['Inspirasi'],\n",
       " ['pembalap',\n",
       "  'pembalap indonesia',\n",
       "  'pembalap indonesia berkarier hingga mancanegara'])"
      ]
     },
     "execution_count": 177,
     "metadata": {},
     "output_type": "execute_result"
    }
   ],
   "source": [
    "#TODO: sometime should do all this based on post_id\n",
    "\n",
    "def get_categories_tags_for_url(slug):\n",
    "    #cats = categories[categories.slug==slug]\n",
    "    try:\n",
    "        tags = article_tags.loc[slug, :][1]\n",
    "    except:\n",
    "        print(\"no tags\")\n",
    "        tags = []\n",
    "    try:\n",
    "        cats = article_categories.loc[slug, :][1]\n",
    "    except:\n",
    "        print(\"no categories for %s\"%slug)\n",
    "        cats = []\n",
    "    return cats, tags\n",
    "\n",
    "def get_category_tags_for_url(slug):\n",
    "    \"\"\"\n",
    "    this returns just the first category (and maybe not even the primary category... yet)\n",
    "    It's useful for grouping easily by category without duplication.\n",
    "    \"\"\"\n",
    "    cats, tags = get_categories_tags_for_slug()\n",
    "\n",
    "start_time = time.time()\n",
    "cats, tags = get_categories_tags_for_url(\"pembalap-indonesia-berkarier-di-mancanegara\")\n",
    "end_time = time.time()\n",
    "\n",
    "print(\"it took \")\n",
    "print(end_time-start_time)\n",
    "cats_tags"
   ]
  },
  {
   "cell_type": "code",
   "execution_count": 306,
   "metadata": {},
   "outputs": [
    {
     "data": {
      "text/html": [
       "<div>\n",
       "<style scoped>\n",
       "    .dataframe tbody tr th:only-of-type {\n",
       "        vertical-align: middle;\n",
       "    }\n",
       "\n",
       "    .dataframe tbody tr th {\n",
       "        vertical-align: top;\n",
       "    }\n",
       "\n",
       "    .dataframe thead th {\n",
       "        text-align: right;\n",
       "    }\n",
       "</style>\n",
       "<table border=\"1\" class=\"dataframe\">\n",
       "  <thead>\n",
       "    <tr style=\"text-align: right;\">\n",
       "      <th></th>\n",
       "      <th>sent_at_timestamp</th>\n",
       "      <th>sent_at</th>\n",
       "      <th>type</th>\n",
       "      <th>event_name</th>\n",
       "      <th>status</th>\n",
       "      <th>article_read_depth</th>\n",
       "      <th>anonymous_id</th>\n",
       "      <th>canonical_url</th>\n",
       "      <th>page_url</th>\n",
       "      <th>is_amp</th>\n",
       "      <th>has_marketing_param</th>\n",
       "      <th>is_test</th>\n",
       "      <th>is_control</th>\n",
       "    </tr>\n",
       "  </thead>\n",
       "  <tbody>\n",
       "    <tr>\n",
       "      <th>0</th>\n",
       "      <td>2019-09-03 23:47:24.676</td>\n",
       "      <td>2019-09-03T23:47:24.676Z</td>\n",
       "      <td>event</td>\n",
       "      <td>Reading</td>\n",
       "      <td>Article Body 50</td>\n",
       "      <td>50</td>\n",
       "      <td>23e29496-49af-4b8c-b7a3-6755efb15a22</td>\n",
       "      <td>https://www.moneysmart.id/usaha-modal-10-juta-...</td>\n",
       "      <td>https://www.moneysmart.id/usaha-modal-10-juta-...</td>\n",
       "      <td>False</td>\n",
       "      <td>True</td>\n",
       "      <td>False</td>\n",
       "      <td>True</td>\n",
       "    </tr>\n",
       "    <tr>\n",
       "      <th>1</th>\n",
       "      <td>2019-09-03 23:47:23.679</td>\n",
       "      <td>2019-09-03T23:47:23.679Z</td>\n",
       "      <td>event</td>\n",
       "      <td>Reading</td>\n",
       "      <td>Article Body 50</td>\n",
       "      <td>50</td>\n",
       "      <td>ea8cb9ae-bf5f-4f4d-9bf8-a0b912c0c3cf</td>\n",
       "      <td>https://www.moneysmart.id/ustadz-abdul-somad-m...</td>\n",
       "      <td>https://www.moneysmart.id/ustadz-abdul-somad-m...</td>\n",
       "      <td>False</td>\n",
       "      <td>True</td>\n",
       "      <td>False</td>\n",
       "      <td>True</td>\n",
       "    </tr>\n",
       "    <tr>\n",
       "      <th>2</th>\n",
       "      <td>2019-09-03 23:47:22.269</td>\n",
       "      <td>2019-09-03T23:47:22.269Z</td>\n",
       "      <td>page</td>\n",
       "      <td>PageView</td>\n",
       "      <td>None</td>\n",
       "      <td>0</td>\n",
       "      <td>5892e337-2770-4314-8eea-3f5a76c721be</td>\n",
       "      <td>https://www.moneysmart.id/keluarga-terkaya-di-...</td>\n",
       "      <td>https://www.moneysmart.id/keluarga-terkaya-di-...</td>\n",
       "      <td>False</td>\n",
       "      <td>True</td>\n",
       "      <td>False</td>\n",
       "      <td>True</td>\n",
       "    </tr>\n",
       "    <tr>\n",
       "      <th>3</th>\n",
       "      <td>2019-09-03 23:47:22.059</td>\n",
       "      <td>2019-09-03T23:47:22.059Z</td>\n",
       "      <td>event</td>\n",
       "      <td>Reading</td>\n",
       "      <td>Article Body 50</td>\n",
       "      <td>50</td>\n",
       "      <td>5a10018c-1585-498f-a5cd-3a7c79cfbb6f</td>\n",
       "      <td>https://www.moneysmart.id/rumah-singgah-pasha-...</td>\n",
       "      <td>https://www.moneysmart.id/rumah-singgah-pasha-...</td>\n",
       "      <td>False</td>\n",
       "      <td>True</td>\n",
       "      <td>False</td>\n",
       "      <td>True</td>\n",
       "    </tr>\n",
       "    <tr>\n",
       "      <th>4</th>\n",
       "      <td>2019-09-03 23:47:22.134</td>\n",
       "      <td>2019-09-03T23:47:22.134Z</td>\n",
       "      <td>event</td>\n",
       "      <td>Reading</td>\n",
       "      <td>Article Body 25</td>\n",
       "      <td>25</td>\n",
       "      <td>9d0bea57-cb28-4720-8b81-ae529b15ad58</td>\n",
       "      <td>https://www.moneysmart.id/panji-trihatmodjo-ge...</td>\n",
       "      <td>https://www.moneysmart.id/panji-trihatmodjo-ge...</td>\n",
       "      <td>False</td>\n",
       "      <td>True</td>\n",
       "      <td>False</td>\n",
       "      <td>True</td>\n",
       "    </tr>\n",
       "  </tbody>\n",
       "</table>\n",
       "</div>"
      ],
      "text/plain": [
       "        sent_at_timestamp                   sent_at   type event_name  \\\n",
       "0 2019-09-03 23:47:24.676  2019-09-03T23:47:24.676Z  event    Reading   \n",
       "1 2019-09-03 23:47:23.679  2019-09-03T23:47:23.679Z  event    Reading   \n",
       "2 2019-09-03 23:47:22.269  2019-09-03T23:47:22.269Z   page   PageView   \n",
       "3 2019-09-03 23:47:22.059  2019-09-03T23:47:22.059Z  event    Reading   \n",
       "4 2019-09-03 23:47:22.134  2019-09-03T23:47:22.134Z  event    Reading   \n",
       "\n",
       "            status  article_read_depth                          anonymous_id  \\\n",
       "0  Article Body 50                  50  23e29496-49af-4b8c-b7a3-6755efb15a22   \n",
       "1  Article Body 50                  50  ea8cb9ae-bf5f-4f4d-9bf8-a0b912c0c3cf   \n",
       "2             None                   0  5892e337-2770-4314-8eea-3f5a76c721be   \n",
       "3  Article Body 50                  50  5a10018c-1585-498f-a5cd-3a7c79cfbb6f   \n",
       "4  Article Body 25                  25  9d0bea57-cb28-4720-8b81-ae529b15ad58   \n",
       "\n",
       "                                       canonical_url  \\\n",
       "0  https://www.moneysmart.id/usaha-modal-10-juta-...   \n",
       "1  https://www.moneysmart.id/ustadz-abdul-somad-m...   \n",
       "2  https://www.moneysmart.id/keluarga-terkaya-di-...   \n",
       "3  https://www.moneysmart.id/rumah-singgah-pasha-...   \n",
       "4  https://www.moneysmart.id/panji-trihatmodjo-ge...   \n",
       "\n",
       "                                            page_url  is_amp  \\\n",
       "0  https://www.moneysmart.id/usaha-modal-10-juta-...   False   \n",
       "1  https://www.moneysmart.id/ustadz-abdul-somad-m...   False   \n",
       "2  https://www.moneysmart.id/keluarga-terkaya-di-...   False   \n",
       "3  https://www.moneysmart.id/rumah-singgah-pasha-...   False   \n",
       "4  https://www.moneysmart.id/panji-trihatmodjo-ge...   False   \n",
       "\n",
       "   has_marketing_param  is_test  is_control  \n",
       "0                 True    False        True  \n",
       "1                 True    False        True  \n",
       "2                 True    False        True  \n",
       "3                 True    False        True  \n",
       "4                 True    False        True  "
      ]
     },
     "execution_count": 306,
     "metadata": {},
     "output_type": "execute_result"
    }
   ],
   "source": [
    "#pageviews_with_categories = pageview_events.join()\n",
    "events.head()"
   ]
  },
  {
   "cell_type": "markdown",
   "metadata": {},
   "source": [
    "### Scalyr Setup\n",
    "\n",
    "Functions to use later.  See https://www.scalyr.com/help/api#query"
   ]
  },
  {
   "cell_type": "code",
   "execution_count": null,
   "metadata": {},
   "outputs": [],
   "source": [
    "def query_scalyr():\n",
    "    api_key = creds.scalyr_api_key\n",
    "    query_url = https://www.scalyr.com/api/query\n",
    "    log_file_query_id_prod_pwa = \"log=*fe-pwa-id-production*\"\n",
    "    log_file_query_id_pod_wordpress = \n",
    "    ok_statuses = list(range(200,210))+ list(range(300, 310))\n",
    "    meh_statuses = [404,]\n",
    "    bad_statuses = list(range(500, 510))\n",
    "    print(\"Bad statuses\", bad_statuses)\n",
    "    \n",
    "\"\"\"\n",
    "{\n",
    "  \"token\":             \"xxx\",\n",
    "  \"queryType\":         \"log\",\n",
    "  \"filter\":            \"...\",\n",
    "  \"startTime\":         \"...\",\n",
    "  \"endTime\":           \"...\",\n",
    "  \"maxCount\":          nnn,\n",
    "  \"pageMode\":          \"...\",\n",
    "  \"columns\":           \"...\",\n",
    "  \"continuationToken\": \"...\",\n",
    "  \"priority\":          \"...\"\n",
    "}\n",
    "\"\"\"\n",
    "\n",
    "\"\"\"\n",
    "{\n",
    "  \"status\": \"success\",\n",
    "  \"matches\": [\n",
    "    {\n",
    "      \"timestamp\": \"1393009097459537089\",\n",
    "      \"message\": \"hello, world\",\n",
    "      \"severity\": 3,\n",
    "      \"session\": \"sess_d5952fdd-eed2-45f1-8106-b2f2af55dabd\",\n",
    "      \"thread\": \"28\",\n",
    "      \"fields\": {\n",
    "        \"tag\": \"foo\"\n",
    "      }\n",
    "    }\n",
    "  ],\n",
    "  \"sessions\": {\n",
    "    \"sess_d5952fdd-eed2-45f1-8106-b2f2af55dabd\": {\n",
    "      \"serverHost\": \"some.host.name\",\n",
    "      \"serverIP\": \"1.2.3.4\",\n",
    "      \"session\": \"sess_d5952fdd-eed2-45f1-8106-b2f2af55dabd\"\n",
    "    }\n",
    "  },\n",
    "  \"executionTime\": 12,\n",
    "  \"continuationToken\": \"L6_ckjI4BgATVPZkxGaUwQ--\"\n",
    "}\n",
    "\n",
    "\"\"\"\n"
   ]
  },
  {
   "cell_type": "code",
   "execution_count": null,
   "metadata": {},
   "outputs": [],
   "source": []
  },
  {
   "cell_type": "markdown",
   "metadata": {},
   "source": [
    "# Data Cleaning\n",
    "\n",
    "* Remove what looks like bots / any really heavy users (not sure if most bots will trigger analytics events)\n"
   ]
  },
  {
   "cell_type": "code",
   "execution_count": null,
   "metadata": {},
   "outputs": [],
   "source": []
  },
  {
   "cell_type": "markdown",
   "metadata": {},
   "source": [
    "# Sense Checks"
   ]
  },
  {
   "cell_type": "markdown",
   "metadata": {},
   "source": [
    "## Overall AB Split\n",
    "\n",
    "Theories about why the AB split won't match what is \"set\" on the AB splitter:\n",
    "\n",
    "* Repeat users will almost always be in the control set, and we have built up a good backlog over a couple of months (40% of our users are returning from google analytics, but that is over full lifetime of the cookie https://analytics.google.com/analytics/web/?authuser=2#/report/visitors-type/a117250120w173910722p173182279/ )\n",
    "* Potenially it's related to coming from AMP (don't think so)\n",
    "* Potentially it's based on origin of the traffic (e.g. certain query params, but this has been turned off)."
   ]
  },
  {
   "cell_type": "code",
   "execution_count": 259,
   "metadata": {},
   "outputs": [
    {
     "data": {
      "application/vnd.plotly.v1+json": {
       "config": {
        "plotlyServerURL": "https://plot.ly"
       },
       "data": [
        {
         "labels": [
          "Control (v1)",
          "Test (v2)"
         ],
         "type": "pie",
         "values": [
          961,
          39
         ]
        }
       ],
       "layout": {
        "autosize": true,
        "template": {
         "data": {
          "bar": [
           {
            "error_x": {
             "color": "#2a3f5f"
            },
            "error_y": {
             "color": "#2a3f5f"
            },
            "marker": {
             "line": {
              "color": "#E5ECF6",
              "width": 0.5
             }
            },
            "type": "bar"
           }
          ],
          "barpolar": [
           {
            "marker": {
             "line": {
              "color": "#E5ECF6",
              "width": 0.5
             }
            },
            "type": "barpolar"
           }
          ],
          "carpet": [
           {
            "aaxis": {
             "endlinecolor": "#2a3f5f",
             "gridcolor": "white",
             "linecolor": "white",
             "minorgridcolor": "white",
             "startlinecolor": "#2a3f5f"
            },
            "baxis": {
             "endlinecolor": "#2a3f5f",
             "gridcolor": "white",
             "linecolor": "white",
             "minorgridcolor": "white",
             "startlinecolor": "#2a3f5f"
            },
            "type": "carpet"
           }
          ],
          "choropleth": [
           {
            "colorbar": {
             "outlinewidth": 0,
             "ticks": ""
            },
            "type": "choropleth"
           }
          ],
          "contour": [
           {
            "colorbar": {
             "outlinewidth": 0,
             "ticks": ""
            },
            "colorscale": [
             [
              0,
              "#0d0887"
             ],
             [
              0.1111111111111111,
              "#46039f"
             ],
             [
              0.2222222222222222,
              "#7201a8"
             ],
             [
              0.3333333333333333,
              "#9c179e"
             ],
             [
              0.4444444444444444,
              "#bd3786"
             ],
             [
              0.5555555555555556,
              "#d8576b"
             ],
             [
              0.6666666666666666,
              "#ed7953"
             ],
             [
              0.7777777777777778,
              "#fb9f3a"
             ],
             [
              0.8888888888888888,
              "#fdca26"
             ],
             [
              1,
              "#f0f921"
             ]
            ],
            "type": "contour"
           }
          ],
          "contourcarpet": [
           {
            "colorbar": {
             "outlinewidth": 0,
             "ticks": ""
            },
            "type": "contourcarpet"
           }
          ],
          "heatmap": [
           {
            "colorbar": {
             "outlinewidth": 0,
             "ticks": ""
            },
            "colorscale": [
             [
              0,
              "#0d0887"
             ],
             [
              0.1111111111111111,
              "#46039f"
             ],
             [
              0.2222222222222222,
              "#7201a8"
             ],
             [
              0.3333333333333333,
              "#9c179e"
             ],
             [
              0.4444444444444444,
              "#bd3786"
             ],
             [
              0.5555555555555556,
              "#d8576b"
             ],
             [
              0.6666666666666666,
              "#ed7953"
             ],
             [
              0.7777777777777778,
              "#fb9f3a"
             ],
             [
              0.8888888888888888,
              "#fdca26"
             ],
             [
              1,
              "#f0f921"
             ]
            ],
            "type": "heatmap"
           }
          ],
          "heatmapgl": [
           {
            "colorbar": {
             "outlinewidth": 0,
             "ticks": ""
            },
            "colorscale": [
             [
              0,
              "#0d0887"
             ],
             [
              0.1111111111111111,
              "#46039f"
             ],
             [
              0.2222222222222222,
              "#7201a8"
             ],
             [
              0.3333333333333333,
              "#9c179e"
             ],
             [
              0.4444444444444444,
              "#bd3786"
             ],
             [
              0.5555555555555556,
              "#d8576b"
             ],
             [
              0.6666666666666666,
              "#ed7953"
             ],
             [
              0.7777777777777778,
              "#fb9f3a"
             ],
             [
              0.8888888888888888,
              "#fdca26"
             ],
             [
              1,
              "#f0f921"
             ]
            ],
            "type": "heatmapgl"
           }
          ],
          "histogram": [
           {
            "marker": {
             "colorbar": {
              "outlinewidth": 0,
              "ticks": ""
             }
            },
            "type": "histogram"
           }
          ],
          "histogram2d": [
           {
            "colorbar": {
             "outlinewidth": 0,
             "ticks": ""
            },
            "colorscale": [
             [
              0,
              "#0d0887"
             ],
             [
              0.1111111111111111,
              "#46039f"
             ],
             [
              0.2222222222222222,
              "#7201a8"
             ],
             [
              0.3333333333333333,
              "#9c179e"
             ],
             [
              0.4444444444444444,
              "#bd3786"
             ],
             [
              0.5555555555555556,
              "#d8576b"
             ],
             [
              0.6666666666666666,
              "#ed7953"
             ],
             [
              0.7777777777777778,
              "#fb9f3a"
             ],
             [
              0.8888888888888888,
              "#fdca26"
             ],
             [
              1,
              "#f0f921"
             ]
            ],
            "type": "histogram2d"
           }
          ],
          "histogram2dcontour": [
           {
            "colorbar": {
             "outlinewidth": 0,
             "ticks": ""
            },
            "colorscale": [
             [
              0,
              "#0d0887"
             ],
             [
              0.1111111111111111,
              "#46039f"
             ],
             [
              0.2222222222222222,
              "#7201a8"
             ],
             [
              0.3333333333333333,
              "#9c179e"
             ],
             [
              0.4444444444444444,
              "#bd3786"
             ],
             [
              0.5555555555555556,
              "#d8576b"
             ],
             [
              0.6666666666666666,
              "#ed7953"
             ],
             [
              0.7777777777777778,
              "#fb9f3a"
             ],
             [
              0.8888888888888888,
              "#fdca26"
             ],
             [
              1,
              "#f0f921"
             ]
            ],
            "type": "histogram2dcontour"
           }
          ],
          "mesh3d": [
           {
            "colorbar": {
             "outlinewidth": 0,
             "ticks": ""
            },
            "type": "mesh3d"
           }
          ],
          "parcoords": [
           {
            "line": {
             "colorbar": {
              "outlinewidth": 0,
              "ticks": ""
             }
            },
            "type": "parcoords"
           }
          ],
          "scatter": [
           {
            "marker": {
             "colorbar": {
              "outlinewidth": 0,
              "ticks": ""
             }
            },
            "type": "scatter"
           }
          ],
          "scatter3d": [
           {
            "line": {
             "colorbar": {
              "outlinewidth": 0,
              "ticks": ""
             }
            },
            "marker": {
             "colorbar": {
              "outlinewidth": 0,
              "ticks": ""
             }
            },
            "type": "scatter3d"
           }
          ],
          "scattercarpet": [
           {
            "marker": {
             "colorbar": {
              "outlinewidth": 0,
              "ticks": ""
             }
            },
            "type": "scattercarpet"
           }
          ],
          "scattergeo": [
           {
            "marker": {
             "colorbar": {
              "outlinewidth": 0,
              "ticks": ""
             }
            },
            "type": "scattergeo"
           }
          ],
          "scattergl": [
           {
            "marker": {
             "colorbar": {
              "outlinewidth": 0,
              "ticks": ""
             }
            },
            "type": "scattergl"
           }
          ],
          "scattermapbox": [
           {
            "marker": {
             "colorbar": {
              "outlinewidth": 0,
              "ticks": ""
             }
            },
            "type": "scattermapbox"
           }
          ],
          "scatterpolar": [
           {
            "marker": {
             "colorbar": {
              "outlinewidth": 0,
              "ticks": ""
             }
            },
            "type": "scatterpolar"
           }
          ],
          "scatterpolargl": [
           {
            "marker": {
             "colorbar": {
              "outlinewidth": 0,
              "ticks": ""
             }
            },
            "type": "scatterpolargl"
           }
          ],
          "scatterternary": [
           {
            "marker": {
             "colorbar": {
              "outlinewidth": 0,
              "ticks": ""
             }
            },
            "type": "scatterternary"
           }
          ],
          "surface": [
           {
            "colorbar": {
             "outlinewidth": 0,
             "ticks": ""
            },
            "colorscale": [
             [
              0,
              "#0d0887"
             ],
             [
              0.1111111111111111,
              "#46039f"
             ],
             [
              0.2222222222222222,
              "#7201a8"
             ],
             [
              0.3333333333333333,
              "#9c179e"
             ],
             [
              0.4444444444444444,
              "#bd3786"
             ],
             [
              0.5555555555555556,
              "#d8576b"
             ],
             [
              0.6666666666666666,
              "#ed7953"
             ],
             [
              0.7777777777777778,
              "#fb9f3a"
             ],
             [
              0.8888888888888888,
              "#fdca26"
             ],
             [
              1,
              "#f0f921"
             ]
            ],
            "type": "surface"
           }
          ],
          "table": [
           {
            "cells": {
             "fill": {
              "color": "#EBF0F8"
             },
             "line": {
              "color": "white"
             }
            },
            "header": {
             "fill": {
              "color": "#C8D4E3"
             },
             "line": {
              "color": "white"
             }
            },
            "type": "table"
           }
          ]
         },
         "layout": {
          "annotationdefaults": {
           "arrowcolor": "#2a3f5f",
           "arrowhead": 0,
           "arrowwidth": 1
          },
          "colorscale": {
           "diverging": [
            [
             0,
             "#8e0152"
            ],
            [
             0.1,
             "#c51b7d"
            ],
            [
             0.2,
             "#de77ae"
            ],
            [
             0.3,
             "#f1b6da"
            ],
            [
             0.4,
             "#fde0ef"
            ],
            [
             0.5,
             "#f7f7f7"
            ],
            [
             0.6,
             "#e6f5d0"
            ],
            [
             0.7,
             "#b8e186"
            ],
            [
             0.8,
             "#7fbc41"
            ],
            [
             0.9,
             "#4d9221"
            ],
            [
             1,
             "#276419"
            ]
           ],
           "sequential": [
            [
             0,
             "#0d0887"
            ],
            [
             0.1111111111111111,
             "#46039f"
            ],
            [
             0.2222222222222222,
             "#7201a8"
            ],
            [
             0.3333333333333333,
             "#9c179e"
            ],
            [
             0.4444444444444444,
             "#bd3786"
            ],
            [
             0.5555555555555556,
             "#d8576b"
            ],
            [
             0.6666666666666666,
             "#ed7953"
            ],
            [
             0.7777777777777778,
             "#fb9f3a"
            ],
            [
             0.8888888888888888,
             "#fdca26"
            ],
            [
             1,
             "#f0f921"
            ]
           ],
           "sequentialminus": [
            [
             0,
             "#0d0887"
            ],
            [
             0.1111111111111111,
             "#46039f"
            ],
            [
             0.2222222222222222,
             "#7201a8"
            ],
            [
             0.3333333333333333,
             "#9c179e"
            ],
            [
             0.4444444444444444,
             "#bd3786"
            ],
            [
             0.5555555555555556,
             "#d8576b"
            ],
            [
             0.6666666666666666,
             "#ed7953"
            ],
            [
             0.7777777777777778,
             "#fb9f3a"
            ],
            [
             0.8888888888888888,
             "#fdca26"
            ],
            [
             1,
             "#f0f921"
            ]
           ]
          },
          "colorway": [
           "#636efa",
           "#EF553B",
           "#00cc96",
           "#ab63fa",
           "#FFA15A",
           "#19d3f3",
           "#FF6692",
           "#B6E880",
           "#FF97FF",
           "#FECB52"
          ],
          "font": {
           "color": "#2a3f5f"
          },
          "geo": {
           "bgcolor": "white",
           "lakecolor": "white",
           "landcolor": "#E5ECF6",
           "showlakes": true,
           "showland": true,
           "subunitcolor": "white"
          },
          "hoverlabel": {
           "align": "left"
          },
          "hovermode": "closest",
          "mapbox": {
           "style": "light"
          },
          "paper_bgcolor": "white",
          "plot_bgcolor": "#E5ECF6",
          "polar": {
           "angularaxis": {
            "gridcolor": "white",
            "linecolor": "white",
            "ticks": ""
           },
           "bgcolor": "#E5ECF6",
           "radialaxis": {
            "gridcolor": "white",
            "linecolor": "white",
            "ticks": ""
           }
          },
          "scene": {
           "xaxis": {
            "backgroundcolor": "#E5ECF6",
            "gridcolor": "white",
            "gridwidth": 2,
            "linecolor": "white",
            "showbackground": true,
            "ticks": "",
            "zerolinecolor": "white"
           },
           "yaxis": {
            "backgroundcolor": "#E5ECF6",
            "gridcolor": "white",
            "gridwidth": 2,
            "linecolor": "white",
            "showbackground": true,
            "ticks": "",
            "zerolinecolor": "white"
           },
           "zaxis": {
            "backgroundcolor": "#E5ECF6",
            "gridcolor": "white",
            "gridwidth": 2,
            "linecolor": "white",
            "showbackground": true,
            "ticks": "",
            "zerolinecolor": "white"
           }
          },
          "shapedefaults": {
           "line": {
            "color": "#2a3f5f"
           }
          },
          "ternary": {
           "aaxis": {
            "gridcolor": "white",
            "linecolor": "white",
            "ticks": ""
           },
           "baxis": {
            "gridcolor": "white",
            "linecolor": "white",
            "ticks": ""
           },
           "bgcolor": "#E5ECF6",
           "caxis": {
            "gridcolor": "white",
            "linecolor": "white",
            "ticks": ""
           }
          },
          "title": {
           "x": 0.05
          },
          "xaxis": {
           "automargin": true,
           "gridcolor": "white",
           "linecolor": "white",
           "ticks": "",
           "zerolinecolor": "white",
           "zerolinewidth": 2
          },
          "yaxis": {
           "automargin": true,
           "gridcolor": "white",
           "linecolor": "white",
           "ticks": "",
           "zerolinecolor": "white",
           "zerolinewidth": 2
          }
         }
        },
        "xaxis": {
         "anchor": "y",
         "domain": [
          0,
          1
         ]
        },
        "yaxis": {
         "anchor": "x",
         "domain": [
          0,
          1
         ]
        }
       }
      },
      "image/png": "[encoded data removed]",
      "text/html": [
       "<div>\n",
       "        \n",
       "        \n",
       "            <div id=\"440eacce-5f20-4269-8d69-0209f6a10798\" class=\"plotly-graph-div\" style=\"height:525px; width:100%;\"></div>\n",
       "            <script type=\"text/javascript\">\n",
       "                require([\"plotly\"], function(Plotly) {\n",
       "                    window.PLOTLYENV=window.PLOTLYENV || {};\n",
       "                    \n",
       "                if (document.getElementById(\"440eacce-5f20-4269-8d69-0209f6a10798\")) {\n",
       "                    Plotly.newPlot(\n",
       "                        '440eacce-5f20-4269-8d69-0209f6a10798',\n",
       "                        [{\"labels\": [\"Control (v1)\", \"Test (v2)\"], \"type\": \"pie\", \"values\": [961, 39]}],\n",
       "                        {\"template\": {\"data\": {\"bar\": [{\"error_x\": {\"color\": \"#2a3f5f\"}, \"error_y\": {\"color\": \"#2a3f5f\"}, \"marker\": {\"line\": {\"color\": \"#E5ECF6\", \"width\": 0.5}}, \"type\": \"bar\"}], \"barpolar\": [{\"marker\": {\"line\": {\"color\": \"#E5ECF6\", \"width\": 0.5}}, \"type\": \"barpolar\"}], \"carpet\": [{\"aaxis\": {\"endlinecolor\": \"#2a3f5f\", \"gridcolor\": \"white\", \"linecolor\": \"white\", \"minorgridcolor\": \"white\", \"startlinecolor\": \"#2a3f5f\"}, \"baxis\": {\"endlinecolor\": \"#2a3f5f\", \"gridcolor\": \"white\", \"linecolor\": \"white\", \"minorgridcolor\": \"white\", \"startlinecolor\": \"#2a3f5f\"}, \"type\": \"carpet\"}], \"choropleth\": [{\"colorbar\": {\"outlinewidth\": 0, \"ticks\": \"\"}, \"type\": \"choropleth\"}], \"contour\": [{\"colorbar\": {\"outlinewidth\": 0, \"ticks\": \"\"}, \"colorscale\": [[0.0, \"#0d0887\"], [0.1111111111111111, \"#46039f\"], [0.2222222222222222, \"#7201a8\"], [0.3333333333333333, \"#9c179e\"], [0.4444444444444444, \"#bd3786\"], [0.5555555555555556, \"#d8576b\"], [0.6666666666666666, \"#ed7953\"], [0.7777777777777778, \"#fb9f3a\"], [0.8888888888888888, \"#fdca26\"], [1.0, \"#f0f921\"]], \"type\": \"contour\"}], \"contourcarpet\": [{\"colorbar\": {\"outlinewidth\": 0, \"ticks\": \"\"}, \"type\": \"contourcarpet\"}], \"heatmap\": [{\"colorbar\": {\"outlinewidth\": 0, \"ticks\": \"\"}, \"colorscale\": [[0.0, \"#0d0887\"], [0.1111111111111111, \"#46039f\"], [0.2222222222222222, \"#7201a8\"], [0.3333333333333333, \"#9c179e\"], [0.4444444444444444, \"#bd3786\"], [0.5555555555555556, \"#d8576b\"], [0.6666666666666666, \"#ed7953\"], [0.7777777777777778, \"#fb9f3a\"], [0.8888888888888888, \"#fdca26\"], [1.0, \"#f0f921\"]], \"type\": \"heatmap\"}], \"heatmapgl\": [{\"colorbar\": {\"outlinewidth\": 0, \"ticks\": \"\"}, \"colorscale\": [[0.0, \"#0d0887\"], [0.1111111111111111, \"#46039f\"], [0.2222222222222222, \"#7201a8\"], [0.3333333333333333, \"#9c179e\"], [0.4444444444444444, \"#bd3786\"], [0.5555555555555556, \"#d8576b\"], [0.6666666666666666, \"#ed7953\"], [0.7777777777777778, \"#fb9f3a\"], [0.8888888888888888, \"#fdca26\"], [1.0, \"#f0f921\"]], \"type\": \"heatmapgl\"}], \"histogram\": [{\"marker\": {\"colorbar\": {\"outlinewidth\": 0, \"ticks\": \"\"}}, \"type\": \"histogram\"}], \"histogram2d\": [{\"colorbar\": {\"outlinewidth\": 0, \"ticks\": \"\"}, \"colorscale\": [[0.0, \"#0d0887\"], [0.1111111111111111, \"#46039f\"], [0.2222222222222222, \"#7201a8\"], [0.3333333333333333, \"#9c179e\"], [0.4444444444444444, \"#bd3786\"], [0.5555555555555556, \"#d8576b\"], [0.6666666666666666, \"#ed7953\"], [0.7777777777777778, \"#fb9f3a\"], [0.8888888888888888, \"#fdca26\"], [1.0, \"#f0f921\"]], \"type\": \"histogram2d\"}], \"histogram2dcontour\": [{\"colorbar\": {\"outlinewidth\": 0, \"ticks\": \"\"}, \"colorscale\": [[0.0, \"#0d0887\"], [0.1111111111111111, \"#46039f\"], [0.2222222222222222, \"#7201a8\"], [0.3333333333333333, \"#9c179e\"], [0.4444444444444444, \"#bd3786\"], [0.5555555555555556, \"#d8576b\"], [0.6666666666666666, \"#ed7953\"], [0.7777777777777778, \"#fb9f3a\"], [0.8888888888888888, \"#fdca26\"], [1.0, \"#f0f921\"]], \"type\": \"histogram2dcontour\"}], \"mesh3d\": [{\"colorbar\": {\"outlinewidth\": 0, \"ticks\": \"\"}, \"type\": \"mesh3d\"}], \"parcoords\": [{\"line\": {\"colorbar\": {\"outlinewidth\": 0, \"ticks\": \"\"}}, \"type\": \"parcoords\"}], \"scatter\": [{\"marker\": {\"colorbar\": {\"outlinewidth\": 0, \"ticks\": \"\"}}, \"type\": \"scatter\"}], \"scatter3d\": [{\"line\": {\"colorbar\": {\"outlinewidth\": 0, \"ticks\": \"\"}}, \"marker\": {\"colorbar\": {\"outlinewidth\": 0, \"ticks\": \"\"}}, \"type\": \"scatter3d\"}], \"scattercarpet\": [{\"marker\": {\"colorbar\": {\"outlinewidth\": 0, \"ticks\": \"\"}}, \"type\": \"scattercarpet\"}], \"scattergeo\": [{\"marker\": {\"colorbar\": {\"outlinewidth\": 0, \"ticks\": \"\"}}, \"type\": \"scattergeo\"}], \"scattergl\": [{\"marker\": {\"colorbar\": {\"outlinewidth\": 0, \"ticks\": \"\"}}, \"type\": \"scattergl\"}], \"scattermapbox\": [{\"marker\": {\"colorbar\": {\"outlinewidth\": 0, \"ticks\": \"\"}}, \"type\": \"scattermapbox\"}], \"scatterpolar\": [{\"marker\": {\"colorbar\": {\"outlinewidth\": 0, \"ticks\": \"\"}}, \"type\": \"scatterpolar\"}], \"scatterpolargl\": [{\"marker\": {\"colorbar\": {\"outlinewidth\": 0, \"ticks\": \"\"}}, \"type\": \"scatterpolargl\"}], \"scatterternary\": [{\"marker\": {\"colorbar\": {\"outlinewidth\": 0, \"ticks\": \"\"}}, \"type\": \"scatterternary\"}], \"surface\": [{\"colorbar\": {\"outlinewidth\": 0, \"ticks\": \"\"}, \"colorscale\": [[0.0, \"#0d0887\"], [0.1111111111111111, \"#46039f\"], [0.2222222222222222, \"#7201a8\"], [0.3333333333333333, \"#9c179e\"], [0.4444444444444444, \"#bd3786\"], [0.5555555555555556, \"#d8576b\"], [0.6666666666666666, \"#ed7953\"], [0.7777777777777778, \"#fb9f3a\"], [0.8888888888888888, \"#fdca26\"], [1.0, \"#f0f921\"]], \"type\": \"surface\"}], \"table\": [{\"cells\": {\"fill\": {\"color\": \"#EBF0F8\"}, \"line\": {\"color\": \"white\"}}, \"header\": {\"fill\": {\"color\": \"#C8D4E3\"}, \"line\": {\"color\": \"white\"}}, \"type\": \"table\"}]}, \"layout\": {\"annotationdefaults\": {\"arrowcolor\": \"#2a3f5f\", \"arrowhead\": 0, \"arrowwidth\": 1}, \"colorscale\": {\"diverging\": [[0, \"#8e0152\"], [0.1, \"#c51b7d\"], [0.2, \"#de77ae\"], [0.3, \"#f1b6da\"], [0.4, \"#fde0ef\"], [0.5, \"#f7f7f7\"], [0.6, \"#e6f5d0\"], [0.7, \"#b8e186\"], [0.8, \"#7fbc41\"], [0.9, \"#4d9221\"], [1, \"#276419\"]], \"sequential\": [[0.0, \"#0d0887\"], [0.1111111111111111, \"#46039f\"], [0.2222222222222222, \"#7201a8\"], [0.3333333333333333, \"#9c179e\"], [0.4444444444444444, \"#bd3786\"], [0.5555555555555556, \"#d8576b\"], [0.6666666666666666, \"#ed7953\"], [0.7777777777777778, \"#fb9f3a\"], [0.8888888888888888, \"#fdca26\"], [1.0, \"#f0f921\"]], \"sequentialminus\": [[0.0, \"#0d0887\"], [0.1111111111111111, \"#46039f\"], [0.2222222222222222, \"#7201a8\"], [0.3333333333333333, \"#9c179e\"], [0.4444444444444444, \"#bd3786\"], [0.5555555555555556, \"#d8576b\"], [0.6666666666666666, \"#ed7953\"], [0.7777777777777778, \"#fb9f3a\"], [0.8888888888888888, \"#fdca26\"], [1.0, \"#f0f921\"]]}, \"colorway\": [\"#636efa\", \"#EF553B\", \"#00cc96\", \"#ab63fa\", \"#FFA15A\", \"#19d3f3\", \"#FF6692\", \"#B6E880\", \"#FF97FF\", \"#FECB52\"], \"font\": {\"color\": \"#2a3f5f\"}, \"geo\": {\"bgcolor\": \"white\", \"lakecolor\": \"white\", \"landcolor\": \"#E5ECF6\", \"showlakes\": true, \"showland\": true, \"subunitcolor\": \"white\"}, \"hoverlabel\": {\"align\": \"left\"}, \"hovermode\": \"closest\", \"mapbox\": {\"style\": \"light\"}, \"paper_bgcolor\": \"white\", \"plot_bgcolor\": \"#E5ECF6\", \"polar\": {\"angularaxis\": {\"gridcolor\": \"white\", \"linecolor\": \"white\", \"ticks\": \"\"}, \"bgcolor\": \"#E5ECF6\", \"radialaxis\": {\"gridcolor\": \"white\", \"linecolor\": \"white\", \"ticks\": \"\"}}, \"scene\": {\"xaxis\": {\"backgroundcolor\": \"#E5ECF6\", \"gridcolor\": \"white\", \"gridwidth\": 2, \"linecolor\": \"white\", \"showbackground\": true, \"ticks\": \"\", \"zerolinecolor\": \"white\"}, \"yaxis\": {\"backgroundcolor\": \"#E5ECF6\", \"gridcolor\": \"white\", \"gridwidth\": 2, \"linecolor\": \"white\", \"showbackground\": true, \"ticks\": \"\", \"zerolinecolor\": \"white\"}, \"zaxis\": {\"backgroundcolor\": \"#E5ECF6\", \"gridcolor\": \"white\", \"gridwidth\": 2, \"linecolor\": \"white\", \"showbackground\": true, \"ticks\": \"\", \"zerolinecolor\": \"white\"}}, \"shapedefaults\": {\"line\": {\"color\": \"#2a3f5f\"}}, \"ternary\": {\"aaxis\": {\"gridcolor\": \"white\", \"linecolor\": \"white\", \"ticks\": \"\"}, \"baxis\": {\"gridcolor\": \"white\", \"linecolor\": \"white\", \"ticks\": \"\"}, \"bgcolor\": \"#E5ECF6\", \"caxis\": {\"gridcolor\": \"white\", \"linecolor\": \"white\", \"ticks\": \"\"}}, \"title\": {\"x\": 0.05}, \"xaxis\": {\"automargin\": true, \"gridcolor\": \"white\", \"linecolor\": \"white\", \"ticks\": \"\", \"zerolinecolor\": \"white\", \"zerolinewidth\": 2}, \"yaxis\": {\"automargin\": true, \"gridcolor\": \"white\", \"linecolor\": \"white\", \"ticks\": \"\", \"zerolinecolor\": \"white\", \"zerolinewidth\": 2}}}, \"xaxis\": {\"anchor\": \"y\", \"domain\": [0.0, 1.0]}, \"yaxis\": {\"anchor\": \"x\", \"domain\": [0.0, 1.0]}},\n",
       "                        {\"responsive\": true}\n",
       "                    ).then(function(){\n",
       "                            \n",
       "var gd = document.getElementById('440eacce-5f20-4269-8d69-0209f6a10798');\n",
       "var x = new MutationObserver(function (mutations, observer) {{\n",
       "        var display = window.getComputedStyle(gd).display;\n",
       "        if (!display || display === 'none') {{\n",
       "            console.log([gd, 'removed!']);\n",
       "            Plotly.purge(gd);\n",
       "            observer.disconnect();\n",
       "        }}\n",
       "}});\n",
       "\n",
       "// Listen for the removal of the full notebook cells\n",
       "var notebookContainer = gd.closest('#notebook-container');\n",
       "if (notebookContainer) {{\n",
       "    x.observe(notebookContainer, {childList: true});\n",
       "}}\n",
       "\n",
       "// Listen for the clearing of the current output cell\n",
       "var outputEl = gd.closest('.output');\n",
       "if (outputEl) {{\n",
       "    x.observe(outputEl, {childList: true});\n",
       "}}\n",
       "\n",
       "                        })\n",
       "                };\n",
       "                });\n",
       "            </script>\n",
       "        </div>"
      ]
     },
     "metadata": {},
     "output_type": "display_data"
    }
   ],
   "source": [
    "ab_split_summary = events.groupby(\"is_test\").count()[\"sent_at\"]\n",
    "ab_split_summary_pretty = [[(\"Test (v2)\" if z[0] else \"Control (v1)\"), z[1]] for z in ab_split_summary.iteritems()]\n",
    "\n",
    "\n",
    "import plotly.graph_objects as go\n",
    "fig = make_subplots(1, 1)\n",
    "\n",
    "fig.add_trace(\n",
    "    go.Pie(values=[z[1] for z in ab_split_summary_pretty], labels=[z[0] for z in ab_split_summary_pretty]),\n",
    ")\n",
    "\n",
    "                \n",
    "fig.show()"
   ]
  },
  {
   "cell_type": "code",
   "execution_count": 296,
   "metadata": {},
   "outputs": [],
   "source": [
    "\n"
   ]
  },
  {
   "cell_type": "markdown",
   "metadata": {},
   "source": [
    "## Type of Event"
   ]
  },
  {
   "cell_type": "code",
   "execution_count": 266,
   "metadata": {},
   "outputs": [],
   "source": [
    "event_name_counts = events.groupby(events.event_name)\n",
    "event_name_counts\n"
   ]
  },
  {
   "cell_type": "code",
   "execution_count": 305,
   "metadata": {},
   "outputs": [
    {
     "name": "stdout",
     "output_type": "stream",
     "text": [
      "ERROR: Missing expected statuses for Reading event in Test: Article Body 0\n",
      "ERROR: Missing expected statuses for Reading event in Control: Article Body 0\n"
     ]
    }
   ],
   "source": [
    "# Doing this sense check on the event fields, not the computed depth\n",
    "expected_statuses = [\"Article Body {}\".format(i) for i in [0, 25, 50, 75, 100]]\n",
    "expected_statuses_set = set(expected_statuses)\n",
    "reading_status_counts = events[events.event_name==\"Reading\"].groupby([events.status, events.is_test]).count()['sent_at'] #[[\"event_name\", \"is_test\" ], :]\n",
    "reading_status_counts.sort_index()\n",
    "reading_status_counts = [[z[0][0], z[0][1], z[1]] for z in reading_status_counts.iteritems()]\n",
    "test_reading_status_counts = [z for z in reading_status_counts if z[1]==True]\n",
    "control_reading_status_counts = [z for z in reading_status_counts if z[1]==True]\n",
    "\n",
    "for name, reading_statuses in [[\"Test\", test_reading_status_counts], [\"Control\", control_reading_status_counts]]:\n",
    "    statuses_set = set([z[0] for z in reading_statuses])\n",
    "    missing_statuses = list(expected_statuses_set - statuses_set)\n",
    "    extra_statuses = list(statuses_set - expected_statuses_set)\n",
    "    \n",
    "    if len(missing_statuses)>0:\n",
    "        print(\"ERROR: Missing expected statuses for Reading event in \"+name+\": \" + \", \".join(missing_statuses))\n",
    "        \n",
    "    if len(extra_statuses)>0:\n",
    "        print(\"ERROR: Unexpected statuses for Reading event in \"+name+\": \" + \", \".join(extra_statuses))\n",
    "                        \n",
    "# Going to look at scroll depth comparison lower down, so don't need to worry about it just now.\n"
   ]
  },
  {
   "cell_type": "markdown",
   "metadata": {},
   "source": [
    "## Pageviews Grouped\n",
    "\n",
    "* By category\n",
    "* By device\n",
    "* By query params (limited to the top n, and grouping glcid and fbclid)\n",
    "\n",
    "... and for each one give the v2 percentage (which might need another chart)"
   ]
  },
  {
   "cell_type": "code",
   "execution_count": null,
   "metadata": {},
   "outputs": [],
   "source": []
  },
  {
   "cell_type": "markdown",
   "metadata": {},
   "source": [
    "## Distribution Over Time"
   ]
  },
  {
   "cell_type": "code",
   "execution_count": 262,
   "metadata": {},
   "outputs": [
    {
     "ename": "AttributeError",
     "evalue": "'Series' object has no attribute 'hour'",
     "output_type": "error",
     "traceback": [
      "\u001b[0;31m---------------------------------------------------------------------------\u001b[0m",
      "\u001b[0;31mAttributeError\u001b[0m                            Traceback (most recent call last)",
      "\u001b[0;32m<ipython-input-262-a7b4cbcb8b84>\u001b[0m in \u001b[0;36m<module>\u001b[0;34m()\u001b[0m\n\u001b[1;32m      1\u001b[0m \u001b[0;31m# Group by hour and plot with time axis\u001b[0m\u001b[0;34m\u001b[0m\u001b[0;34m\u001b[0m\u001b[0m\n\u001b[0;32m----> 2\u001b[0;31m \u001b[0mevents\u001b[0m\u001b[0;34m.\u001b[0m\u001b[0mgroupby\u001b[0m\u001b[0;34m(\u001b[0m\u001b[0;34m[\u001b[0m\u001b[0mevents\u001b[0m\u001b[0;34m.\u001b[0m\u001b[0msent_at_timestamp\u001b[0m\u001b[0;34m.\u001b[0m\u001b[0mhour\u001b[0m\u001b[0;34m,\u001b[0m \u001b[0mevents\u001b[0m\u001b[0;34m.\u001b[0m\u001b[0mis_test\u001b[0m\u001b[0;34m]\u001b[0m\u001b[0;34m)\u001b[0m\u001b[0;34m.\u001b[0m\u001b[0mcount\u001b[0m\u001b[0;34m(\u001b[0m\u001b[0;34m)\u001b[0m\u001b[0;34m\u001b[0m\u001b[0m\n\u001b[0m",
      "\u001b[0;32m~/anaconda3/envs/python3/lib/python3.6/site-packages/pandas/core/generic.py\u001b[0m in \u001b[0;36m__getattr__\u001b[0;34m(self, name)\u001b[0m\n\u001b[1;32m   5065\u001b[0m             \u001b[0;32mif\u001b[0m \u001b[0mself\u001b[0m\u001b[0;34m.\u001b[0m\u001b[0m_info_axis\u001b[0m\u001b[0;34m.\u001b[0m\u001b[0m_can_hold_identifiers_and_holds_name\u001b[0m\u001b[0;34m(\u001b[0m\u001b[0mname\u001b[0m\u001b[0;34m)\u001b[0m\u001b[0;34m:\u001b[0m\u001b[0;34m\u001b[0m\u001b[0m\n\u001b[1;32m   5066\u001b[0m                 \u001b[0;32mreturn\u001b[0m \u001b[0mself\u001b[0m\u001b[0;34m[\u001b[0m\u001b[0mname\u001b[0m\u001b[0;34m]\u001b[0m\u001b[0;34m\u001b[0m\u001b[0m\n\u001b[0;32m-> 5067\u001b[0;31m             \u001b[0;32mreturn\u001b[0m \u001b[0mobject\u001b[0m\u001b[0;34m.\u001b[0m\u001b[0m__getattribute__\u001b[0m\u001b[0;34m(\u001b[0m\u001b[0mself\u001b[0m\u001b[0;34m,\u001b[0m \u001b[0mname\u001b[0m\u001b[0;34m)\u001b[0m\u001b[0;34m\u001b[0m\u001b[0m\n\u001b[0m\u001b[1;32m   5068\u001b[0m \u001b[0;34m\u001b[0m\u001b[0m\n\u001b[1;32m   5069\u001b[0m     \u001b[0;32mdef\u001b[0m \u001b[0m__setattr__\u001b[0m\u001b[0;34m(\u001b[0m\u001b[0mself\u001b[0m\u001b[0;34m,\u001b[0m \u001b[0mname\u001b[0m\u001b[0;34m,\u001b[0m \u001b[0mvalue\u001b[0m\u001b[0;34m)\u001b[0m\u001b[0;34m:\u001b[0m\u001b[0;34m\u001b[0m\u001b[0m\n",
      "\u001b[0;31mAttributeError\u001b[0m: 'Series' object has no attribute 'hour'"
     ]
    }
   ],
   "source": [
    "# Group by hour and plot with time axis\n",
    "events.groupby([events.sent_at_timestamp.hour, events.is_test]).count()"
   ]
  },
  {
   "cell_type": "markdown",
   "metadata": {},
   "source": [
    "# Scroll Depth Distributions\n",
    "\n",
    "By split:\n",
    "* How far down the page does a user scroll on average (table and plot)\n",
    "* Time to reach a point down the page (charts) \n"
   ]
  },
  {
   "cell_type": "code",
   "execution_count": null,
   "metadata": {},
   "outputs": [],
   "source": []
  },
  {
   "cell_type": "markdown",
   "metadata": {},
   "source": [
    "# Pageview Per Session\n",
    "\n",
    "* Where they click (future)\n",
    "* "
   ]
  },
  {
   "cell_type": "code",
   "execution_count": null,
   "metadata": {},
   "outputs": [],
   "source": []
  },
  {
   "cell_type": "markdown",
   "metadata": {},
   "source": [
    "# Error Logs\n",
    "\n",
    "\n",
    "## Scalyr\n",
    "\n",
    "https://www.scalyr.com/help/api#query\n",
    "\n",
    "* 500s and then with sense check removing bots\n",
    "* Where status != 200 or a 30x\n",
    "* All with links to the query dashboard.\n",
    "\n",
    "Do for:\n",
    "* ID v1\n",
    "* ID v2 front end\n",
    "\n",
    "\n",
    "## Airbrake?? \n",
    "\n",
    "* Overall counts probably only"
   ]
  },
  {
   "cell_type": "code",
   "execution_count": null,
   "metadata": {},
   "outputs": [],
   "source": []
  },
  {
   "cell_type": "markdown",
   "metadata": {},
   "source": [
    "# Search Console.\n",
    "\n",
    "* Position, clicks, impressions over time, with country filter set to ID\n",
    "* Track top organic urls and see if there's a different trend"
   ]
  },
  {
   "cell_type": "code",
   "execution_count": 312,
   "metadata": {},
   "outputs": [
    {
     "data": {
      "text/plain": [
       "42.048"
      ]
     },
     "execution_count": 312,
     "metadata": {},
     "output_type": "execute_result"
    }
   ],
   "source": [
    "0.0584*24*30"
   ]
  },
  {
   "cell_type": "markdown",
   "metadata": {},
   "source": [
    "# Digging Into What Makes Up a Split\n",
    "\n",
    "* By URL any significant  discrepancy?\n",
    "* Is it distorted by bots?"
   ]
  }
 ],
 "metadata": {
  "kernelspec": {
   "display_name": "conda_python3",
   "language": "python",
   "name": "conda_python3"
  },
  "language_info": {
   "codemirror_mode": {
    "name": "ipython",
    "version": 3
   },
   "file_extension": ".py",
   "mimetype": "text/x-python",
   "name": "python",
   "nbconvert_exporter": "python",
   "pygments_lexer": "ipython3",
   "version": "3.6.5"
  }
 },
 "nbformat": 4,
 "nbformat_minor": 4
}
