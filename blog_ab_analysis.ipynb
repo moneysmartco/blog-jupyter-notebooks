{
 "cells": [
  {
   "cell_type": "code",
   "execution_count": 48,
   "metadata": {},
   "outputs": [],
   "source": [
    "import sys\n",
    "try:\n",
    "    from pyathena import connect\n",
    "except:\n",
    "    print(\"Failed to import pyathena, trying to install it\")\n",
    "    !{sys.executable} -m pip install PyAthena\n",
    "    from pyathena import connect\n",
    "    print(\"successfully installed\")\n",
    "try:\n",
    "    import psycopg2\n",
    "except:\n",
    "    print(\"Failed ot import psychopg2, trying to install it\")\n",
    "    !{sys.executable} -m pip install psycopg2-binary\n",
    "    import psycopg2\n",
    "    print(\"Successfully installed\")\n",
    "import pandas as pd\n",
    "import boto3\n",
    "import boto3\n",
    "import base64\n",
    "from botocore.exceptions import ClientError\n",
    "from datetime  import datetime, timedelta, date\n",
    "import time\n",
    "\n",
    "from athena_querying import *\n",
    "from athena_common_queries import *"
   ]
  },
  {
   "cell_type": "code",
   "execution_count": 49,
   "metadata": {},
   "outputs": [],
   "source": [
    "import creds"
   ]
  },
  {
   "cell_type": "code",
   "execution_count": 50,
   "metadata": {},
   "outputs": [],
   "source": [
    "# if using jupyterlab and plotly doesn't work https://plot.ly/python/getting-started/#jupyterlab-support-python-35\n",
    "install_jupyterlab_plotly_extensions_command = \"\"\"\n",
    "# Avoid \"JavaScript heap out of memory\" errors during extension installation\n",
    "# (OS X/Linux)\n",
    "export NODE_OPTIONS=--max-old-space-size=4096\n",
    "# (Windows)\n",
    "set NODE_OPTIONS=--max-old-space-size=4096\n",
    "\n",
    "# Jupyter widgets extension\n",
    "jupyter labextension install @jupyter-widgets/jupyterlab-manager@1.0 --no-build\n",
    "\n",
    "# jupyterlab renderer support\n",
    "jupyter labextension install jupyterlab-plotly@1.1.0 --no-build\n",
    "\n",
    "# FigureWidget support\n",
    "jupyter labextension install plotlywidget@1.1.0 --no-build\n",
    "\n",
    "# JupyterLab chart editor support (optional)\n",
    "jupyter labextension install jupyterlab-chart-editor@1.2 --no-build\n",
    "\n",
    "# Build extensions (must be done to activate extensions since --no-build is used above)\n",
    "jupyter lab build\n",
    "\n",
    "# Unset NODE_OPTIONS environment variable\n",
    "# (OS X/Linux)\n",
    "unset NODE_OPTIONS\"\"\"\n",
    "\n",
    "\n",
    "\n",
    "    "
   ]
  },
  {
   "cell_type": "code",
   "execution_count": 51,
   "metadata": {},
   "outputs": [],
   "source": [
    "import plotly.graph_objects as go\n",
    "import plotly as py\n",
    "\n",
    "import plotly.offline as off\n",
    "import plotly.graph_objs as go\n",
    "import numpy as np\n",
    "from plotly.subplots import make_subplots\n",
    "\n",
    "import matplotlib.pyplot as plt\n",
    "import seaborn as sns\n",
    "%matplotlib inline \n",
    "import os\n",
    "\n",
    "#off.init_notebook_mode(connected=True)"
   ]
  },
  {
   "cell_type": "code",
   "execution_count": 52,
   "metadata": {},
   "outputs": [
    {
     "data": {
      "application/vnd.plotly.v1+json": {
       "config": {
        "plotlyServerURL": "https://plot.ly"
       },
       "data": [
        {
         "labels": [
          "a",
          "b",
          "c"
         ],
         "type": "pie",
         "values": [
          1,
          2,
          3
         ]
        }
       ],
       "layout": {
        "template": {
         "data": {
          "bar": [
           {
            "error_x": {
             "color": "#2a3f5f"
            },
            "error_y": {
             "color": "#2a3f5f"
            },
            "marker": {
             "line": {
              "color": "#E5ECF6",
              "width": 0.5
             }
            },
            "type": "bar"
           }
          ],
          "barpolar": [
           {
            "marker": {
             "line": {
              "color": "#E5ECF6",
              "width": 0.5
             }
            },
            "type": "barpolar"
           }
          ],
          "carpet": [
           {
            "aaxis": {
             "endlinecolor": "#2a3f5f",
             "gridcolor": "white",
             "linecolor": "white",
             "minorgridcolor": "white",
             "startlinecolor": "#2a3f5f"
            },
            "baxis": {
             "endlinecolor": "#2a3f5f",
             "gridcolor": "white",
             "linecolor": "white",
             "minorgridcolor": "white",
             "startlinecolor": "#2a3f5f"
            },
            "type": "carpet"
           }
          ],
          "choropleth": [
           {
            "colorbar": {
             "outlinewidth": 0,
             "ticks": ""
            },
            "type": "choropleth"
           }
          ],
          "contour": [
           {
            "colorbar": {
             "outlinewidth": 0,
             "ticks": ""
            },
            "colorscale": [
             [
              0,
              "#0d0887"
             ],
             [
              0.1111111111111111,
              "#46039f"
             ],
             [
              0.2222222222222222,
              "#7201a8"
             ],
             [
              0.3333333333333333,
              "#9c179e"
             ],
             [
              0.4444444444444444,
              "#bd3786"
             ],
             [
              0.5555555555555556,
              "#d8576b"
             ],
             [
              0.6666666666666666,
              "#ed7953"
             ],
             [
              0.7777777777777778,
              "#fb9f3a"
             ],
             [
              0.8888888888888888,
              "#fdca26"
             ],
             [
              1,
              "#f0f921"
             ]
            ],
            "type": "contour"
           }
          ],
          "contourcarpet": [
           {
            "colorbar": {
             "outlinewidth": 0,
             "ticks": ""
            },
            "type": "contourcarpet"
           }
          ],
          "heatmap": [
           {
            "colorbar": {
             "outlinewidth": 0,
             "ticks": ""
            },
            "colorscale": [
             [
              0,
              "#0d0887"
             ],
             [
              0.1111111111111111,
              "#46039f"
             ],
             [
              0.2222222222222222,
              "#7201a8"
             ],
             [
              0.3333333333333333,
              "#9c179e"
             ],
             [
              0.4444444444444444,
              "#bd3786"
             ],
             [
              0.5555555555555556,
              "#d8576b"
             ],
             [
              0.6666666666666666,
              "#ed7953"
             ],
             [
              0.7777777777777778,
              "#fb9f3a"
             ],
             [
              0.8888888888888888,
              "#fdca26"
             ],
             [
              1,
              "#f0f921"
             ]
            ],
            "type": "heatmap"
           }
          ],
          "heatmapgl": [
           {
            "colorbar": {
             "outlinewidth": 0,
             "ticks": ""
            },
            "colorscale": [
             [
              0,
              "#0d0887"
             ],
             [
              0.1111111111111111,
              "#46039f"
             ],
             [
              0.2222222222222222,
              "#7201a8"
             ],
             [
              0.3333333333333333,
              "#9c179e"
             ],
             [
              0.4444444444444444,
              "#bd3786"
             ],
             [
              0.5555555555555556,
              "#d8576b"
             ],
             [
              0.6666666666666666,
              "#ed7953"
             ],
             [
              0.7777777777777778,
              "#fb9f3a"
             ],
             [
              0.8888888888888888,
              "#fdca26"
             ],
             [
              1,
              "#f0f921"
             ]
            ],
            "type": "heatmapgl"
           }
          ],
          "histogram": [
           {
            "marker": {
             "colorbar": {
              "outlinewidth": 0,
              "ticks": ""
             }
            },
            "type": "histogram"
           }
          ],
          "histogram2d": [
           {
            "colorbar": {
             "outlinewidth": 0,
             "ticks": ""
            },
            "colorscale": [
             [
              0,
              "#0d0887"
             ],
             [
              0.1111111111111111,
              "#46039f"
             ],
             [
              0.2222222222222222,
              "#7201a8"
             ],
             [
              0.3333333333333333,
              "#9c179e"
             ],
             [
              0.4444444444444444,
              "#bd3786"
             ],
             [
              0.5555555555555556,
              "#d8576b"
             ],
             [
              0.6666666666666666,
              "#ed7953"
             ],
             [
              0.7777777777777778,
              "#fb9f3a"
             ],
             [
              0.8888888888888888,
              "#fdca26"
             ],
             [
              1,
              "#f0f921"
             ]
            ],
            "type": "histogram2d"
           }
          ],
          "histogram2dcontour": [
           {
            "colorbar": {
             "outlinewidth": 0,
             "ticks": ""
            },
            "colorscale": [
             [
              0,
              "#0d0887"
             ],
             [
              0.1111111111111111,
              "#46039f"
             ],
             [
              0.2222222222222222,
              "#7201a8"
             ],
             [
              0.3333333333333333,
              "#9c179e"
             ],
             [
              0.4444444444444444,
              "#bd3786"
             ],
             [
              0.5555555555555556,
              "#d8576b"
             ],
             [
              0.6666666666666666,
              "#ed7953"
             ],
             [
              0.7777777777777778,
              "#fb9f3a"
             ],
             [
              0.8888888888888888,
              "#fdca26"
             ],
             [
              1,
              "#f0f921"
             ]
            ],
            "type": "histogram2dcontour"
           }
          ],
          "mesh3d": [
           {
            "colorbar": {
             "outlinewidth": 0,
             "ticks": ""
            },
            "type": "mesh3d"
           }
          ],
          "parcoords": [
           {
            "line": {
             "colorbar": {
              "outlinewidth": 0,
              "ticks": ""
             }
            },
            "type": "parcoords"
           }
          ],
          "pie": [
           {
            "automargin": true,
            "type": "pie"
           }
          ],
          "scatter": [
           {
            "marker": {
             "colorbar": {
              "outlinewidth": 0,
              "ticks": ""
             }
            },
            "type": "scatter"
           }
          ],
          "scatter3d": [
           {
            "line": {
             "colorbar": {
              "outlinewidth": 0,
              "ticks": ""
             }
            },
            "marker": {
             "colorbar": {
              "outlinewidth": 0,
              "ticks": ""
             }
            },
            "type": "scatter3d"
           }
          ],
          "scattercarpet": [
           {
            "marker": {
             "colorbar": {
              "outlinewidth": 0,
              "ticks": ""
             }
            },
            "type": "scattercarpet"
           }
          ],
          "scattergeo": [
           {
            "marker": {
             "colorbar": {
              "outlinewidth": 0,
              "ticks": ""
             }
            },
            "type": "scattergeo"
           }
          ],
          "scattergl": [
           {
            "marker": {
             "colorbar": {
              "outlinewidth": 0,
              "ticks": ""
             }
            },
            "type": "scattergl"
           }
          ],
          "scattermapbox": [
           {
            "marker": {
             "colorbar": {
              "outlinewidth": 0,
              "ticks": ""
             }
            },
            "type": "scattermapbox"
           }
          ],
          "scatterpolar": [
           {
            "marker": {
             "colorbar": {
              "outlinewidth": 0,
              "ticks": ""
             }
            },
            "type": "scatterpolar"
           }
          ],
          "scatterpolargl": [
           {
            "marker": {
             "colorbar": {
              "outlinewidth": 0,
              "ticks": ""
             }
            },
            "type": "scatterpolargl"
           }
          ],
          "scatterternary": [
           {
            "marker": {
             "colorbar": {
              "outlinewidth": 0,
              "ticks": ""
             }
            },
            "type": "scatterternary"
           }
          ],
          "surface": [
           {
            "colorbar": {
             "outlinewidth": 0,
             "ticks": ""
            },
            "colorscale": [
             [
              0,
              "#0d0887"
             ],
             [
              0.1111111111111111,
              "#46039f"
             ],
             [
              0.2222222222222222,
              "#7201a8"
             ],
             [
              0.3333333333333333,
              "#9c179e"
             ],
             [
              0.4444444444444444,
              "#bd3786"
             ],
             [
              0.5555555555555556,
              "#d8576b"
             ],
             [
              0.6666666666666666,
              "#ed7953"
             ],
             [
              0.7777777777777778,
              "#fb9f3a"
             ],
             [
              0.8888888888888888,
              "#fdca26"
             ],
             [
              1,
              "#f0f921"
             ]
            ],
            "type": "surface"
           }
          ],
          "table": [
           {
            "cells": {
             "fill": {
              "color": "#EBF0F8"
             },
             "line": {
              "color": "white"
             }
            },
            "header": {
             "fill": {
              "color": "#C8D4E3"
             },
             "line": {
              "color": "white"
             }
            },
            "type": "table"
           }
          ]
         },
         "layout": {
          "annotationdefaults": {
           "arrowcolor": "#2a3f5f",
           "arrowhead": 0,
           "arrowwidth": 1
          },
          "coloraxis": {
           "colorbar": {
            "outlinewidth": 0,
            "ticks": ""
           }
          },
          "colorscale": {
           "diverging": [
            [
             0,
             "#8e0152"
            ],
            [
             0.1,
             "#c51b7d"
            ],
            [
             0.2,
             "#de77ae"
            ],
            [
             0.3,
             "#f1b6da"
            ],
            [
             0.4,
             "#fde0ef"
            ],
            [
             0.5,
             "#f7f7f7"
            ],
            [
             0.6,
             "#e6f5d0"
            ],
            [
             0.7,
             "#b8e186"
            ],
            [
             0.8,
             "#7fbc41"
            ],
            [
             0.9,
             "#4d9221"
            ],
            [
             1,
             "#276419"
            ]
           ],
           "sequential": [
            [
             0,
             "#0d0887"
            ],
            [
             0.1111111111111111,
             "#46039f"
            ],
            [
             0.2222222222222222,
             "#7201a8"
            ],
            [
             0.3333333333333333,
             "#9c179e"
            ],
            [
             0.4444444444444444,
             "#bd3786"
            ],
            [
             0.5555555555555556,
             "#d8576b"
            ],
            [
             0.6666666666666666,
             "#ed7953"
            ],
            [
             0.7777777777777778,
             "#fb9f3a"
            ],
            [
             0.8888888888888888,
             "#fdca26"
            ],
            [
             1,
             "#f0f921"
            ]
           ],
           "sequentialminus": [
            [
             0,
             "#0d0887"
            ],
            [
             0.1111111111111111,
             "#46039f"
            ],
            [
             0.2222222222222222,
             "#7201a8"
            ],
            [
             0.3333333333333333,
             "#9c179e"
            ],
            [
             0.4444444444444444,
             "#bd3786"
            ],
            [
             0.5555555555555556,
             "#d8576b"
            ],
            [
             0.6666666666666666,
             "#ed7953"
            ],
            [
             0.7777777777777778,
             "#fb9f3a"
            ],
            [
             0.8888888888888888,
             "#fdca26"
            ],
            [
             1,
             "#f0f921"
            ]
           ]
          },
          "colorway": [
           "#636efa",
           "#EF553B",
           "#00cc96",
           "#ab63fa",
           "#FFA15A",
           "#19d3f3",
           "#FF6692",
           "#B6E880",
           "#FF97FF",
           "#FECB52"
          ],
          "font": {
           "color": "#2a3f5f"
          },
          "geo": {
           "bgcolor": "white",
           "lakecolor": "white",
           "landcolor": "#E5ECF6",
           "showlakes": true,
           "showland": true,
           "subunitcolor": "white"
          },
          "hoverlabel": {
           "align": "left"
          },
          "hovermode": "closest",
          "mapbox": {
           "style": "light"
          },
          "paper_bgcolor": "white",
          "plot_bgcolor": "#E5ECF6",
          "polar": {
           "angularaxis": {
            "gridcolor": "white",
            "linecolor": "white",
            "ticks": ""
           },
           "bgcolor": "#E5ECF6",
           "radialaxis": {
            "gridcolor": "white",
            "linecolor": "white",
            "ticks": ""
           }
          },
          "scene": {
           "xaxis": {
            "backgroundcolor": "#E5ECF6",
            "gridcolor": "white",
            "gridwidth": 2,
            "linecolor": "white",
            "showbackground": true,
            "ticks": "",
            "zerolinecolor": "white"
           },
           "yaxis": {
            "backgroundcolor": "#E5ECF6",
            "gridcolor": "white",
            "gridwidth": 2,
            "linecolor": "white",
            "showbackground": true,
            "ticks": "",
            "zerolinecolor": "white"
           },
           "zaxis": {
            "backgroundcolor": "#E5ECF6",
            "gridcolor": "white",
            "gridwidth": 2,
            "linecolor": "white",
            "showbackground": true,
            "ticks": "",
            "zerolinecolor": "white"
           }
          },
          "shapedefaults": {
           "line": {
            "color": "#2a3f5f"
           }
          },
          "ternary": {
           "aaxis": {
            "gridcolor": "white",
            "linecolor": "white",
            "ticks": ""
           },
           "baxis": {
            "gridcolor": "white",
            "linecolor": "white",
            "ticks": ""
           },
           "bgcolor": "#E5ECF6",
           "caxis": {
            "gridcolor": "white",
            "linecolor": "white",
            "ticks": ""
           }
          },
          "title": {
           "x": 0.05
          },
          "xaxis": {
           "automargin": true,
           "gridcolor": "white",
           "linecolor": "white",
           "ticks": "",
           "title": {
            "standoff": 15
           },
           "zerolinecolor": "white",
           "zerolinewidth": 2
          },
          "yaxis": {
           "automargin": true,
           "gridcolor": "white",
           "linecolor": "white",
           "ticks": "",
           "title": {
            "standoff": 15
           },
           "zerolinecolor": "white",
           "zerolinewidth": 2
          }
         }
        },
        "xaxis": {
         "anchor": "y",
         "domain": [
          0,
          1
         ]
        },
        "yaxis": {
         "anchor": "x",
         "domain": [
          0,
          1
         ]
        }
       }
      },
      "text/html": [
       "<div>\n",
       "        \n",
       "        \n",
       "            <div id=\"880c875c-fdcc-4339-9906-b11497fac045\" class=\"plotly-graph-div\" style=\"height:525px; width:100%;\"></div>\n",
       "            <script type=\"text/javascript\">\n",
       "                require([\"plotly\"], function(Plotly) {\n",
       "                    window.PLOTLYENV=window.PLOTLYENV || {};\n",
       "                    \n",
       "                if (document.getElementById(\"880c875c-fdcc-4339-9906-b11497fac045\")) {\n",
       "                    Plotly.newPlot(\n",
       "                        '880c875c-fdcc-4339-9906-b11497fac045',\n",
       "                        [{\"labels\": [\"a\", \"b\", \"c\"], \"type\": \"pie\", \"values\": [1, 2, 3]}],\n",
       "                        {\"template\": {\"data\": {\"bar\": [{\"error_x\": {\"color\": \"#2a3f5f\"}, \"error_y\": {\"color\": \"#2a3f5f\"}, \"marker\": {\"line\": {\"color\": \"#E5ECF6\", \"width\": 0.5}}, \"type\": \"bar\"}], \"barpolar\": [{\"marker\": {\"line\": {\"color\": \"#E5ECF6\", \"width\": 0.5}}, \"type\": \"barpolar\"}], \"carpet\": [{\"aaxis\": {\"endlinecolor\": \"#2a3f5f\", \"gridcolor\": \"white\", \"linecolor\": \"white\", \"minorgridcolor\": \"white\", \"startlinecolor\": \"#2a3f5f\"}, \"baxis\": {\"endlinecolor\": \"#2a3f5f\", \"gridcolor\": \"white\", \"linecolor\": \"white\", \"minorgridcolor\": \"white\", \"startlinecolor\": \"#2a3f5f\"}, \"type\": \"carpet\"}], \"choropleth\": [{\"colorbar\": {\"outlinewidth\": 0, \"ticks\": \"\"}, \"type\": \"choropleth\"}], \"contour\": [{\"colorbar\": {\"outlinewidth\": 0, \"ticks\": \"\"}, \"colorscale\": [[0.0, \"#0d0887\"], [0.1111111111111111, \"#46039f\"], [0.2222222222222222, \"#7201a8\"], [0.3333333333333333, \"#9c179e\"], [0.4444444444444444, \"#bd3786\"], [0.5555555555555556, \"#d8576b\"], [0.6666666666666666, \"#ed7953\"], [0.7777777777777778, \"#fb9f3a\"], [0.8888888888888888, \"#fdca26\"], [1.0, \"#f0f921\"]], \"type\": \"contour\"}], \"contourcarpet\": [{\"colorbar\": {\"outlinewidth\": 0, \"ticks\": \"\"}, \"type\": \"contourcarpet\"}], \"heatmap\": [{\"colorbar\": {\"outlinewidth\": 0, \"ticks\": \"\"}, \"colorscale\": [[0.0, \"#0d0887\"], [0.1111111111111111, \"#46039f\"], [0.2222222222222222, \"#7201a8\"], [0.3333333333333333, \"#9c179e\"], [0.4444444444444444, \"#bd3786\"], [0.5555555555555556, \"#d8576b\"], [0.6666666666666666, \"#ed7953\"], [0.7777777777777778, \"#fb9f3a\"], [0.8888888888888888, \"#fdca26\"], [1.0, \"#f0f921\"]], \"type\": \"heatmap\"}], \"heatmapgl\": [{\"colorbar\": {\"outlinewidth\": 0, \"ticks\": \"\"}, \"colorscale\": [[0.0, \"#0d0887\"], [0.1111111111111111, \"#46039f\"], [0.2222222222222222, \"#7201a8\"], [0.3333333333333333, \"#9c179e\"], [0.4444444444444444, \"#bd3786\"], [0.5555555555555556, \"#d8576b\"], [0.6666666666666666, \"#ed7953\"], [0.7777777777777778, \"#fb9f3a\"], [0.8888888888888888, \"#fdca26\"], [1.0, \"#f0f921\"]], \"type\": \"heatmapgl\"}], \"histogram\": [{\"marker\": {\"colorbar\": {\"outlinewidth\": 0, \"ticks\": \"\"}}, \"type\": \"histogram\"}], \"histogram2d\": [{\"colorbar\": {\"outlinewidth\": 0, \"ticks\": \"\"}, \"colorscale\": [[0.0, \"#0d0887\"], [0.1111111111111111, \"#46039f\"], [0.2222222222222222, \"#7201a8\"], [0.3333333333333333, \"#9c179e\"], [0.4444444444444444, \"#bd3786\"], [0.5555555555555556, \"#d8576b\"], [0.6666666666666666, \"#ed7953\"], [0.7777777777777778, \"#fb9f3a\"], [0.8888888888888888, \"#fdca26\"], [1.0, \"#f0f921\"]], \"type\": \"histogram2d\"}], \"histogram2dcontour\": [{\"colorbar\": {\"outlinewidth\": 0, \"ticks\": \"\"}, \"colorscale\": [[0.0, \"#0d0887\"], [0.1111111111111111, \"#46039f\"], [0.2222222222222222, \"#7201a8\"], [0.3333333333333333, \"#9c179e\"], [0.4444444444444444, \"#bd3786\"], [0.5555555555555556, \"#d8576b\"], [0.6666666666666666, \"#ed7953\"], [0.7777777777777778, \"#fb9f3a\"], [0.8888888888888888, \"#fdca26\"], [1.0, \"#f0f921\"]], \"type\": \"histogram2dcontour\"}], \"mesh3d\": [{\"colorbar\": {\"outlinewidth\": 0, \"ticks\": \"\"}, \"type\": \"mesh3d\"}], \"parcoords\": [{\"line\": {\"colorbar\": {\"outlinewidth\": 0, \"ticks\": \"\"}}, \"type\": \"parcoords\"}], \"pie\": [{\"automargin\": true, \"type\": \"pie\"}], \"scatter\": [{\"marker\": {\"colorbar\": {\"outlinewidth\": 0, \"ticks\": \"\"}}, \"type\": \"scatter\"}], \"scatter3d\": [{\"line\": {\"colorbar\": {\"outlinewidth\": 0, \"ticks\": \"\"}}, \"marker\": {\"colorbar\": {\"outlinewidth\": 0, \"ticks\": \"\"}}, \"type\": \"scatter3d\"}], \"scattercarpet\": [{\"marker\": {\"colorbar\": {\"outlinewidth\": 0, \"ticks\": \"\"}}, \"type\": \"scattercarpet\"}], \"scattergeo\": [{\"marker\": {\"colorbar\": {\"outlinewidth\": 0, \"ticks\": \"\"}}, \"type\": \"scattergeo\"}], \"scattergl\": [{\"marker\": {\"colorbar\": {\"outlinewidth\": 0, \"ticks\": \"\"}}, \"type\": \"scattergl\"}], \"scattermapbox\": [{\"marker\": {\"colorbar\": {\"outlinewidth\": 0, \"ticks\": \"\"}}, \"type\": \"scattermapbox\"}], \"scatterpolar\": [{\"marker\": {\"colorbar\": {\"outlinewidth\": 0, \"ticks\": \"\"}}, \"type\": \"scatterpolar\"}], \"scatterpolargl\": [{\"marker\": {\"colorbar\": {\"outlinewidth\": 0, \"ticks\": \"\"}}, \"type\": \"scatterpolargl\"}], \"scatterternary\": [{\"marker\": {\"colorbar\": {\"outlinewidth\": 0, \"ticks\": \"\"}}, \"type\": \"scatterternary\"}], \"surface\": [{\"colorbar\": {\"outlinewidth\": 0, \"ticks\": \"\"}, \"colorscale\": [[0.0, \"#0d0887\"], [0.1111111111111111, \"#46039f\"], [0.2222222222222222, \"#7201a8\"], [0.3333333333333333, \"#9c179e\"], [0.4444444444444444, \"#bd3786\"], [0.5555555555555556, \"#d8576b\"], [0.6666666666666666, \"#ed7953\"], [0.7777777777777778, \"#fb9f3a\"], [0.8888888888888888, \"#fdca26\"], [1.0, \"#f0f921\"]], \"type\": \"surface\"}], \"table\": [{\"cells\": {\"fill\": {\"color\": \"#EBF0F8\"}, \"line\": {\"color\": \"white\"}}, \"header\": {\"fill\": {\"color\": \"#C8D4E3\"}, \"line\": {\"color\": \"white\"}}, \"type\": \"table\"}]}, \"layout\": {\"annotationdefaults\": {\"arrowcolor\": \"#2a3f5f\", \"arrowhead\": 0, \"arrowwidth\": 1}, \"coloraxis\": {\"colorbar\": {\"outlinewidth\": 0, \"ticks\": \"\"}}, \"colorscale\": {\"diverging\": [[0, \"#8e0152\"], [0.1, \"#c51b7d\"], [0.2, \"#de77ae\"], [0.3, \"#f1b6da\"], [0.4, \"#fde0ef\"], [0.5, \"#f7f7f7\"], [0.6, \"#e6f5d0\"], [0.7, \"#b8e186\"], [0.8, \"#7fbc41\"], [0.9, \"#4d9221\"], [1, \"#276419\"]], \"sequential\": [[0.0, \"#0d0887\"], [0.1111111111111111, \"#46039f\"], [0.2222222222222222, \"#7201a8\"], [0.3333333333333333, \"#9c179e\"], [0.4444444444444444, \"#bd3786\"], [0.5555555555555556, \"#d8576b\"], [0.6666666666666666, \"#ed7953\"], [0.7777777777777778, \"#fb9f3a\"], [0.8888888888888888, \"#fdca26\"], [1.0, \"#f0f921\"]], \"sequentialminus\": [[0.0, \"#0d0887\"], [0.1111111111111111, \"#46039f\"], [0.2222222222222222, \"#7201a8\"], [0.3333333333333333, \"#9c179e\"], [0.4444444444444444, \"#bd3786\"], [0.5555555555555556, \"#d8576b\"], [0.6666666666666666, \"#ed7953\"], [0.7777777777777778, \"#fb9f3a\"], [0.8888888888888888, \"#fdca26\"], [1.0, \"#f0f921\"]]}, \"colorway\": [\"#636efa\", \"#EF553B\", \"#00cc96\", \"#ab63fa\", \"#FFA15A\", \"#19d3f3\", \"#FF6692\", \"#B6E880\", \"#FF97FF\", \"#FECB52\"], \"font\": {\"color\": \"#2a3f5f\"}, \"geo\": {\"bgcolor\": \"white\", \"lakecolor\": \"white\", \"landcolor\": \"#E5ECF6\", \"showlakes\": true, \"showland\": true, \"subunitcolor\": \"white\"}, \"hoverlabel\": {\"align\": \"left\"}, \"hovermode\": \"closest\", \"mapbox\": {\"style\": \"light\"}, \"paper_bgcolor\": \"white\", \"plot_bgcolor\": \"#E5ECF6\", \"polar\": {\"angularaxis\": {\"gridcolor\": \"white\", \"linecolor\": \"white\", \"ticks\": \"\"}, \"bgcolor\": \"#E5ECF6\", \"radialaxis\": {\"gridcolor\": \"white\", \"linecolor\": \"white\", \"ticks\": \"\"}}, \"scene\": {\"xaxis\": {\"backgroundcolor\": \"#E5ECF6\", \"gridcolor\": \"white\", \"gridwidth\": 2, \"linecolor\": \"white\", \"showbackground\": true, \"ticks\": \"\", \"zerolinecolor\": \"white\"}, \"yaxis\": {\"backgroundcolor\": \"#E5ECF6\", \"gridcolor\": \"white\", \"gridwidth\": 2, \"linecolor\": \"white\", \"showbackground\": true, \"ticks\": \"\", \"zerolinecolor\": \"white\"}, \"zaxis\": {\"backgroundcolor\": \"#E5ECF6\", \"gridcolor\": \"white\", \"gridwidth\": 2, \"linecolor\": \"white\", \"showbackground\": true, \"ticks\": \"\", \"zerolinecolor\": \"white\"}}, \"shapedefaults\": {\"line\": {\"color\": \"#2a3f5f\"}}, \"ternary\": {\"aaxis\": {\"gridcolor\": \"white\", \"linecolor\": \"white\", \"ticks\": \"\"}, \"baxis\": {\"gridcolor\": \"white\", \"linecolor\": \"white\", \"ticks\": \"\"}, \"bgcolor\": \"#E5ECF6\", \"caxis\": {\"gridcolor\": \"white\", \"linecolor\": \"white\", \"ticks\": \"\"}}, \"title\": {\"x\": 0.05}, \"xaxis\": {\"automargin\": true, \"gridcolor\": \"white\", \"linecolor\": \"white\", \"ticks\": \"\", \"title\": {\"standoff\": 15}, \"zerolinecolor\": \"white\", \"zerolinewidth\": 2}, \"yaxis\": {\"automargin\": true, \"gridcolor\": \"white\", \"linecolor\": \"white\", \"ticks\": \"\", \"title\": {\"standoff\": 15}, \"zerolinecolor\": \"white\", \"zerolinewidth\": 2}}}, \"xaxis\": {\"anchor\": \"y\", \"domain\": [0.0, 1.0]}, \"yaxis\": {\"anchor\": \"x\", \"domain\": [0.0, 1.0]}},\n",
       "                        {\"responsive\": true}\n",
       "                    ).then(function(){\n",
       "                            \n",
       "var gd = document.getElementById('880c875c-fdcc-4339-9906-b11497fac045');\n",
       "var x = new MutationObserver(function (mutations, observer) {{\n",
       "        var display = window.getComputedStyle(gd).display;\n",
       "        if (!display || display === 'none') {{\n",
       "            console.log([gd, 'removed!']);\n",
       "            Plotly.purge(gd);\n",
       "            observer.disconnect();\n",
       "        }}\n",
       "}});\n",
       "\n",
       "// Listen for the removal of the full notebook cells\n",
       "var notebookContainer = gd.closest('#notebook-container');\n",
       "if (notebookContainer) {{\n",
       "    x.observe(notebookContainer, {childList: true});\n",
       "}}\n",
       "\n",
       "// Listen for the clearing of the current output cell\n",
       "var outputEl = gd.closest('.output');\n",
       "if (outputEl) {{\n",
       "    x.observe(outputEl, {childList: true});\n",
       "}}\n",
       "\n",
       "                        })\n",
       "                };\n",
       "                });\n",
       "            </script>\n",
       "        </div>"
      ]
     },
     "metadata": {},
     "output_type": "display_data"
    }
   ],
   "source": [
    "# plotly, which seems to have endless issues to get working reliably on sagemaker.\n",
    "if True:\n",
    "    fig = make_subplots(1, 1)\n",
    "\n",
    "    fig.add_trace(\n",
    "        go.Pie(values=[1,2,3], labels=[\"a\", \"b\", \"c\"]),\n",
    "    )\n",
    "\n",
    "\n",
    "    fig.show()\n",
    "    \n",
    "    \n"
   ]
  },
  {
   "cell_type": "markdown",
   "metadata": {},
   "source": [
    "# Settings"
   ]
  },
  {
   "cell_type": "code",
   "execution_count": 7,
   "metadata": {},
   "outputs": [],
   "source": [
    "#--- Analysis Settings --\n",
    "num_days_to_analyse = 10\n",
    "analysis_end_time = datetime.fromordinal(date.today().toordinal()) # start of today as we only get yesterday's data.  Note it's UTC time, so do multiple days\n",
    "analysis_start_time = analysis_end_time - timedelta(days=num_days_to_analyse)\n",
    "country_codes_to_analyse = [\"hk\", \"sg\"] # lower case\n",
    "results_output_folder = './Blog AB Results'\n",
    "\n",
    "#--- Core Settings -- \n",
    "\n",
    "\n",
    "\n",
    "# --\n",
    "list_out_s3_bucket = False #extremely slow.\n"
   ]
  },
  {
   "cell_type": "markdown",
   "metadata": {
    "toc-hr-collapsed": false
   },
   "source": [
    "# Getting Base Data"
   ]
  },
  {
   "cell_type": "markdown",
   "metadata": {},
   "source": [
    "## Events from Athena"
   ]
  },
  {
   "cell_type": "code",
   "execution_count": 8,
   "metadata": {},
   "outputs": [
    {
     "name": "stdout",
     "output_type": "stream",
     "text": [
      "Connecting to Athena\n"
     ]
    }
   ],
   "source": [
    "print(\"Connecting to Athena\")\n",
    "#athena_conn, athena_cursor = get_athena_conn()\n",
    "athena = AthenaQuery()\n",
    "athena.connect()"
   ]
  },
  {
   "cell_type": "code",
   "execution_count": 9,
   "metadata": {},
   "outputs": [
    {
     "name": "stdout",
     "output_type": "stream",
     "text": [
      "Running small test query to check the athena connection\n"
     ]
    },
    {
     "data": {
      "text/html": [
       "<div>\n",
       "<style scoped>\n",
       "    .dataframe tbody tr th:only-of-type {\n",
       "        vertical-align: middle;\n",
       "    }\n",
       "\n",
       "    .dataframe tbody tr th {\n",
       "        vertical-align: top;\n",
       "    }\n",
       "\n",
       "    .dataframe thead th {\n",
       "        text-align: right;\n",
       "    }\n",
       "</style>\n",
       "<table border=\"1\" class=\"dataframe\">\n",
       "  <thead>\n",
       "    <tr style=\"text-align: right;\">\n",
       "      <th></th>\n",
       "      <th>type</th>\n",
       "      <th>context</th>\n",
       "      <th>user</th>\n",
       "      <th>body</th>\n",
       "      <th>sent_at</th>\n",
       "      <th>event_id</th>\n",
       "      <th>version</th>\n",
       "      <th>received_at</th>\n",
       "      <th>partition_0</th>\n",
       "      <th>partition_1</th>\n",
       "      <th>partition_2</th>\n",
       "    </tr>\n",
       "  </thead>\n",
       "  <tbody>\n",
       "    <tr>\n",
       "      <th>0</th>\n",
       "      <td>page</td>\n",
       "      <td>{title=UOB Preferred Platinum Visa Card Rating...</td>\n",
       "      <td>{anonymous_id=55c4c1bb-1bc8-443c-8ec5-cf6474fd...</td>\n",
       "      <td>{event_name=PageView, data={title=null, status...</td>\n",
       "      <td>2020-02-04T23:59:49.017Z</td>\n",
       "      <td>mse-2480753e6ed768951b7af08ceb92f745</td>\n",
       "      <td>2.5.4</td>\n",
       "      <td>2020-02-04T23:59:50.032Z</td>\n",
       "      <td>2020</td>\n",
       "      <td>2</td>\n",
       "      <td>5</td>\n",
       "    </tr>\n",
       "    <tr>\n",
       "      <th>1</th>\n",
       "      <td>event</td>\n",
       "      <td>{title=smartwidget_client, page_url=https://ww...</td>\n",
       "      <td>{anonymous_id=98bcb3da-2a17-49f7-95f3-1d447ded...</td>\n",
       "      <td>{event_name=UserView.WidgetLoad, data={title=n...</td>\n",
       "      <td>2020-02-04T23:59:48.752Z</td>\n",
       "      <td>mse-941db4b09001bfc5813bd6ae84ffaa8a</td>\n",
       "      <td>2.4.20</td>\n",
       "      <td>2020-02-04T23:59:50.218Z</td>\n",
       "      <td>2020</td>\n",
       "      <td>2</td>\n",
       "      <td>5</td>\n",
       "    </tr>\n",
       "    <tr>\n",
       "      <th>2</th>\n",
       "      <td>page</td>\n",
       "      <td>{title=smartwidget_client, page_url=https://ww...</td>\n",
       "      <td>{anonymous_id=98bcb3da-2a17-49f7-95f3-1d447ded...</td>\n",
       "      <td>{event_name=PageView, data={title=null, status...</td>\n",
       "      <td>2020-02-04T23:59:48.732Z</td>\n",
       "      <td>mse-f3965098a1738221267399b25ad50851</td>\n",
       "      <td>2.4.20</td>\n",
       "      <td>2020-02-04T23:59:50.223Z</td>\n",
       "      <td>2020</td>\n",
       "      <td>2</td>\n",
       "      <td>5</td>\n",
       "    </tr>\n",
       "    <tr>\n",
       "      <th>3</th>\n",
       "      <td>page</td>\n",
       "      <td>{title=Best Credit Cards Singapore 2020 Compar...</td>\n",
       "      <td>{anonymous_id=660415dc-9b6a-4cba-bb91-95e7552e...</td>\n",
       "      <td>{event_name=PageView, data={title=null, status...</td>\n",
       "      <td>2020-02-04T23:59:49.453Z</td>\n",
       "      <td>mse-8dfffba5c3f789d980e47ec7198757f9</td>\n",
       "      <td>2.5.4</td>\n",
       "      <td>2020-02-04T23:59:49.530Z</td>\n",
       "      <td>2020</td>\n",
       "      <td>2</td>\n",
       "      <td>5</td>\n",
       "    </tr>\n",
       "    <tr>\n",
       "      <th>4</th>\n",
       "      <td>event</td>\n",
       "      <td>{title=Li Chun 2020 (4 Feb) - When is the Best...</td>\n",
       "      <td>{anonymous_id=131a99fe-74c0-4f90-8458-4080c614...</td>\n",
       "      <td>{event_name=Reading, data={title=Li Chun 2020 ...</td>\n",
       "      <td>2020-02-04T23:59:50.557Z</td>\n",
       "      <td>mse-cc983d47c57d8a4b05598c918881b8f9</td>\n",
       "      <td>2.4.20</td>\n",
       "      <td>2020-02-04T23:59:51.251Z</td>\n",
       "      <td>2020</td>\n",
       "      <td>2</td>\n",
       "      <td>5</td>\n",
       "    </tr>\n",
       "  </tbody>\n",
       "</table>\n",
       "</div>"
      ],
      "text/plain": [
       "    type                                            context  \\\n",
       "0   page  {title=UOB Preferred Platinum Visa Card Rating...   \n",
       "1  event  {title=smartwidget_client, page_url=https://ww...   \n",
       "2   page  {title=smartwidget_client, page_url=https://ww...   \n",
       "3   page  {title=Best Credit Cards Singapore 2020 Compar...   \n",
       "4  event  {title=Li Chun 2020 (4 Feb) - When is the Best...   \n",
       "\n",
       "                                                user  \\\n",
       "0  {anonymous_id=55c4c1bb-1bc8-443c-8ec5-cf6474fd...   \n",
       "1  {anonymous_id=98bcb3da-2a17-49f7-95f3-1d447ded...   \n",
       "2  {anonymous_id=98bcb3da-2a17-49f7-95f3-1d447ded...   \n",
       "3  {anonymous_id=660415dc-9b6a-4cba-bb91-95e7552e...   \n",
       "4  {anonymous_id=131a99fe-74c0-4f90-8458-4080c614...   \n",
       "\n",
       "                                                body  \\\n",
       "0  {event_name=PageView, data={title=null, status...   \n",
       "1  {event_name=UserView.WidgetLoad, data={title=n...   \n",
       "2  {event_name=PageView, data={title=null, status...   \n",
       "3  {event_name=PageView, data={title=null, status...   \n",
       "4  {event_name=Reading, data={title=Li Chun 2020 ...   \n",
       "\n",
       "                    sent_at                              event_id version  \\\n",
       "0  2020-02-04T23:59:49.017Z  mse-2480753e6ed768951b7af08ceb92f745   2.5.4   \n",
       "1  2020-02-04T23:59:48.752Z  mse-941db4b09001bfc5813bd6ae84ffaa8a  2.4.20   \n",
       "2  2020-02-04T23:59:48.732Z  mse-f3965098a1738221267399b25ad50851  2.4.20   \n",
       "3  2020-02-04T23:59:49.453Z  mse-8dfffba5c3f789d980e47ec7198757f9   2.5.4   \n",
       "4  2020-02-04T23:59:50.557Z  mse-cc983d47c57d8a4b05598c918881b8f9  2.4.20   \n",
       "\n",
       "                received_at  partition_0  partition_1  partition_2  \n",
       "0  2020-02-04T23:59:50.032Z         2020            2            5  \n",
       "1  2020-02-04T23:59:50.218Z         2020            2            5  \n",
       "2  2020-02-04T23:59:50.223Z         2020            2            5  \n",
       "3  2020-02-04T23:59:49.530Z         2020            2            5  \n",
       "4  2020-02-04T23:59:51.251Z         2020            2            5  "
      ]
     },
     "execution_count": 9,
     "metadata": {},
     "output_type": "execute_result"
    }
   ],
   "source": [
    "print(\"Running small test query to check the athena connection\")\n",
    "#pd.read_sql(\"select * from \"+athena_database+\".\"+athena_raw_events_table+\" limit 10\", athena_conn)\n",
    "athena.query(\"select * from \"+athena_database+\".\"+athena_raw_events_table+\" limit 5\")"
   ]
  },
  {
   "cell_type": "code",
   "execution_count": null,
   "metadata": {},
   "outputs": [],
   "source": []
  },
  {
   "cell_type": "code",
   "execution_count": 10,
   "metadata": {},
   "outputs": [
    {
     "name": "stdout",
     "output_type": "stream",
     "text": [
      "Starting athena events query at 2020-02-21T06:35:31.684172\n",
      "This might take some time\n",
      "Getting the pageview and read events from 2020-02-11T00:00:00 to 2020-02-21T00:00:00\n",
      "Query : \n",
      "    SELECT\n",
      "    *\n",
      "    , (CASE status\n",
      "        WHEN 'Page Bottom Reached' THEN 100 \n",
      "        WHEN 'Article Reading Completed' THEN 100 WHEN 'Article Body 100' THEN 100 \n",
      "        WHEN 'Article Reading 75%' THEN 75 WHEN 'Article Body 75' THEN 75 \n",
      "        WHEN 'Article Reading 50%' THEN 50 WHEN 'Article Body 50' THEN 50 \n",
      "        WHEN 'Article Reading 25%' THEN 25 WHEN 'Article Body 25' THEN 25\n",
      "        WHEN 'Article Reading Started' THEN 0 WHEN 'Article Loaded' THEN 0 \n",
      "        ELSE 0 END) \"article_read_depth\"\n",
      "\n",
      "    \n",
      "\n",
      "    -- , CAST(((\"context\".\"page_url\" LIKE '%utm_medium%') OR (\"context\".\"page_url\" LIKE '%gclid%')) AS boolean) \"has_marketing_param\"\n",
      "    \n",
      "\n",
      "\n",
      "    \n",
      "    \n",
      "    FROM\n",
      "      (\n",
      "          \n",
      "    \n",
      "    SELECT \n",
      "          CAST(\"from_iso8601_timestamp\"(\"sent_at\") AS timestamp) \"sent_at_timestamp\"\n",
      "    , \"sent_at\"\n",
      "    , substr(sent_at, 1, 10) as date\n",
      "    , \"type\"\n",
      "    , \"body\".\"event_name\"\n",
      "    , \"body\".\"data\".\"status\"\n",
      "    , \"user\".\"anonymous_id\"\n",
      "    , \"user\".\"amp_id\"\n",
      "    , \"context\".\"page_url\"\n",
      "    , \"context\".\"referrer\"\n",
      " \n",
      "    \n",
      "           , CAST(\"strpos\"(\"context\".\"page_url\", '?amp') AS boolean) \"is_amp\"\n",
      "    , CAST(\"strpos\"(\"context\".\"page_url\", '://www-new.') AS boolean) OR CAST(\"strpos\"(\"context\".\"page_url\", '://www3.') AS boolean)  OR CAST(\"strpos\"(\"context\".\"page_url\", '://blog3.') AS boolean) as \"is_test\"\n",
      "    , CAST(\"strpos\"(\"context\".\"page_url\", '://www.') AS boolean) OR CAST(\"strpos\"(\"context\".\"page_url\", '://blog.') AS boolean) \"is_control\"\n",
      "    \n",
      "    \n",
      "    \n",
      "    , regexp_replace(CASE \n",
      "        WHEN context.amp_version is not null THEN regexp_extract(context.canonical_url, '^(([^:/?#]+):)?(//([^/?#]*))?([^?#]*)(\\?([^#]*))?(#(.*))?', 5)\n",
      "        ELSE regexp_extract(context.page_url, '^(([^:/?#]+):)?(//([^/?#]*))?([^?#]*)(\\?([^#]*))?(#(.*))?', 5)\n",
      "        END\n",
      "        , '/$', '') as slug\n",
      "    \n",
      "    \n",
      "    , CASE WHEN \"regexp_extract\"(\"context\".\"page_url\", '^(([^:/?#]+):)?(//([^/?#]*))?([^?#]*)(\\?([^#]*))?(#(.*))?', 4) LIKE '%moneysmart.sg%' THEN 'sg' \n",
      "        WHEN \"regexp_extract\"(\"context\".\"page_url\", '^(([^:/?#]+):)?(//([^/?#]*))?([^?#]*)(\\?([^#]*))?(#(.*))?', 4) LIKE '%moneysmart.hk%' THEN 'hk' \n",
      "        WHEN \"regexp_extract\"(\"context\".\"page_url\", '^(([^:/?#]+):)?(//([^/?#]*))?([^?#]*)(\\?([^#]*))?(#(.*))?', 4) LIKE '%moneysmart.id%' THEN 'id' \n",
      "        WHEN \"regexp_extract\"(\"context\".\"page_url\", '^(([^:/?#]+):)?(//([^/?#]*))?([^?#]*)(\\?([^#]*))?(#(.*))?', 4) LIKE '%moneysmart.ph%' THEN 'ph'\n",
      "        WHEN \"regexp_extract\"(\"context\".\"page_url\", '^(([^:/?#]+):)?(//([^/?#]*))?([^?#]*)(\\?([^#]*))?(#(.*))?', 4) LIKE '%moneysmart.tw%' THEN 'tw' \n",
      "        ELSE null END as country_code\n",
      "    \n",
      "    \n",
      "    \n",
      "    , \"regexp_extract\"(\"context\".\"page_url\", '^(([^:/?#]+):)?(//([^/?#]*))?([^?#]*)(\\?([^#]*))?(#(.*))?', 4) LIKE '%blog%' as is_blog\n",
      "    , \"regexp_extract\"(\"context\".\"page_url\", '^(([^:/?#]+):)?(//([^/?#]*))?([^?#]*)(\\?([^#]*))?(#(.*))?', 4) LIKE '%get%' as is_unbounce\n",
      "    , \"regexp_extract\"(\"context\".\"page_url\", '^(([^:/?#]+):)?(//([^/?#]*))?([^?#]*)(\\?([^#]*))?(#(.*))?', 5) like '/embed/%' as is_embed\n",
      "    \n",
      "        \n",
      "        \n",
      "        , context.user_agent as user_agent\n",
      "        \n",
      "        , context.device.type as device_type\n",
      "        , context.browser.name as browser_name\n",
      "        , context.browser.major as browser_major_version\n",
      "        , context.browser.version as browser_version\n",
      "        , context.operating_system.name as operating_system_name\n",
      "        , context.operating_system.version as operating_system_version\n",
      "       \n",
      "        \n",
      "    \n",
      "    FROM\n",
      "      ms_data_lake_production.ms_data_stream_production_processed\n",
      "    \n",
      "    \n",
      "    WHERE true -- makes query composition easier\n",
      "    \n",
      " AND body.event_name in ('PageView', 'Reading')\n",
      " AND \n",
      "  (\n",
      " partition_0 >= '2020'\n",
      " AND partition_1 >= '02'\n",
      " AND partition_2 >= '11'\n",
      " OR (\n",
      " partition_0 >= '2020'\n",
      " AND partition_1 > '02'\n",
      " ) \n",
      " OR (\n",
      " partition_0 > '2020'\n",
      " ) \n",
      ")\n",
      " AND ((partition_0 <= '2020'\n",
      "\t AND partition_1 <= '02'\n",
      "\t AND partition_2 <= '21'\n",
      ") \n",
      " OR (\n",
      "\t partition_0 <= '2020'\n",
      "\t AND partition_1 < '02'\n",
      ") \n",
      " OR (\n",
      "\t partition_0 < '2020'\n",
      ") \n",
      ")\n",
      " AND CAST(from_iso8601_timestamp(sent_at) AS timestamp)  between CAST(from_iso8601_timestamp('2020-02-11T00:00:00') AS timestamp) AND CAST(from_iso8601_timestamp('2020-02-21T00:00:00') AS timestamp)\n",
      "      )\n",
      "    WHERE \n",
      "        is_blog \n",
      "        \n",
      "        \n",
      "\n",
      " AND country_code in ('hk', 'sg')\n",
      "Ended query at 2020-02-21T06:36:40.778914\n",
      "\n",
      "Setting data types\n",
      "Ended query at 2020-02-21T06:36:44.007088\n",
      "Taking 3 seconds\n",
      "In total it took 72 seconds\n"
     ]
    }
   ],
   "source": [
    "events = get_blog_events(country_codes_to_analyse, analysis_start_time, analysis_end_time, athena, limit =None)\n"
   ]
  },
  {
   "cell_type": "code",
   "execution_count": 11,
   "metadata": {},
   "outputs": [
    {
     "name": "stdout",
     "output_type": "stream",
     "text": [
      "Got 2383583 events\n"
     ]
    },
    {
     "data": {
      "text/html": [
       "<div>\n",
       "<style scoped>\n",
       "    .dataframe tbody tr th:only-of-type {\n",
       "        vertical-align: middle;\n",
       "    }\n",
       "\n",
       "    .dataframe tbody tr th {\n",
       "        vertical-align: top;\n",
       "    }\n",
       "\n",
       "    .dataframe thead th {\n",
       "        text-align: right;\n",
       "    }\n",
       "</style>\n",
       "<table border=\"1\" class=\"dataframe\">\n",
       "  <thead>\n",
       "    <tr style=\"text-align: right;\">\n",
       "      <th></th>\n",
       "      <th>sent_at_timestamp</th>\n",
       "      <th>sent_at</th>\n",
       "      <th>date</th>\n",
       "      <th>type</th>\n",
       "      <th>event_name</th>\n",
       "      <th>status</th>\n",
       "      <th>anonymous_id</th>\n",
       "      <th>amp_id</th>\n",
       "      <th>page_url</th>\n",
       "      <th>referrer</th>\n",
       "      <th>...</th>\n",
       "      <th>is_unbounce</th>\n",
       "      <th>is_embed</th>\n",
       "      <th>user_agent</th>\n",
       "      <th>device_type</th>\n",
       "      <th>browser_name</th>\n",
       "      <th>browser_major_version</th>\n",
       "      <th>browser_version</th>\n",
       "      <th>operating_system_name</th>\n",
       "      <th>operating_system_version</th>\n",
       "      <th>article_read_depth</th>\n",
       "    </tr>\n",
       "  </thead>\n",
       "  <tbody>\n",
       "    <tr>\n",
       "      <th>0</th>\n",
       "      <td>2020-02-13 03:47:59.714</td>\n",
       "      <td>2020-02-13T03:47:59.714Z</td>\n",
       "      <td>2020-02-13</td>\n",
       "      <td>event</td>\n",
       "      <td>Reading</td>\n",
       "      <td>Article Body 75</td>\n",
       "      <td>147659e5-7cd3-4aec-adb0-c20cfc1e7d04</td>\n",
       "      <td>NaN</td>\n",
       "      <td>https://blog.moneysmart.sg/health-insurance/pr...</td>\n",
       "      <td>https://www.google.com.sg/</td>\n",
       "      <td>...</td>\n",
       "      <td>False</td>\n",
       "      <td>False</td>\n",
       "      <td>Mozilla/5.0 (iPhone; CPU iPhone OS 13_3_1 like...</td>\n",
       "      <td>mobile</td>\n",
       "      <td>Mobile Safari</td>\n",
       "      <td>13.0</td>\n",
       "      <td>13.0.5</td>\n",
       "      <td>iOS</td>\n",
       "      <td>13.3.1</td>\n",
       "      <td>75</td>\n",
       "    </tr>\n",
       "    <tr>\n",
       "      <th>1</th>\n",
       "      <td>2020-02-13 03:47:59.828</td>\n",
       "      <td>2020-02-13T03:47:59.828Z</td>\n",
       "      <td>2020-02-13</td>\n",
       "      <td>event</td>\n",
       "      <td>Reading</td>\n",
       "      <td>Article Body 50</td>\n",
       "      <td>9d3166af-db01-44ee-886b-19c951986a55</td>\n",
       "      <td>NaN</td>\n",
       "      <td>https://blog.moneysmart.sg/wedding/singapore-w...</td>\n",
       "      <td>https://www.google.com.sg/</td>\n",
       "      <td>...</td>\n",
       "      <td>False</td>\n",
       "      <td>False</td>\n",
       "      <td>Mozilla/5.0 (Linux; Android 8.1.0; CPH1803 Bui...</td>\n",
       "      <td>mobile</td>\n",
       "      <td>Opera</td>\n",
       "      <td>44.0</td>\n",
       "      <td>44.6.2246.127414</td>\n",
       "      <td>Android</td>\n",
       "      <td>8.1.0</td>\n",
       "      <td>50</td>\n",
       "    </tr>\n",
       "  </tbody>\n",
       "</table>\n",
       "<p>2 rows × 26 columns</p>\n",
       "</div>"
      ],
      "text/plain": [
       "         sent_at_timestamp                   sent_at        date   type  \\\n",
       "0  2020-02-13 03:47:59.714  2020-02-13T03:47:59.714Z  2020-02-13  event   \n",
       "1  2020-02-13 03:47:59.828  2020-02-13T03:47:59.828Z  2020-02-13  event   \n",
       "\n",
       "  event_name           status                          anonymous_id  amp_id  \\\n",
       "0    Reading  Article Body 75  147659e5-7cd3-4aec-adb0-c20cfc1e7d04     NaN   \n",
       "1    Reading  Article Body 50  9d3166af-db01-44ee-886b-19c951986a55     NaN   \n",
       "\n",
       "                                            page_url  \\\n",
       "0  https://blog.moneysmart.sg/health-insurance/pr...   \n",
       "1  https://blog.moneysmart.sg/wedding/singapore-w...   \n",
       "\n",
       "                     referrer  ...  is_unbounce  is_embed  \\\n",
       "0  https://www.google.com.sg/  ...        False     False   \n",
       "1  https://www.google.com.sg/  ...        False     False   \n",
       "\n",
       "                                          user_agent device_type  \\\n",
       "0  Mozilla/5.0 (iPhone; CPU iPhone OS 13_3_1 like...      mobile   \n",
       "1  Mozilla/5.0 (Linux; Android 8.1.0; CPH1803 Bui...      mobile   \n",
       "\n",
       "    browser_name  browser_major_version   browser_version  \\\n",
       "0  Mobile Safari                   13.0            13.0.5   \n",
       "1          Opera                   44.0  44.6.2246.127414   \n",
       "\n",
       "   operating_system_name operating_system_version article_read_depth  \n",
       "0                    iOS                   13.3.1                 75  \n",
       "1                Android                    8.1.0                 50  \n",
       "\n",
       "[2 rows x 26 columns]"
      ]
     },
     "execution_count": 11,
     "metadata": {},
     "output_type": "execute_result"
    }
   ],
   "source": [
    "print(\"Got %i events\"%len(events))\n",
    "events.head(2)"
   ]
  },
  {
   "cell_type": "code",
   "execution_count": null,
   "metadata": {},
   "outputs": [],
   "source": []
  },
  {
   "cell_type": "code",
   "execution_count": 12,
   "metadata": {},
   "outputs": [
    {
     "name": "stdout",
     "output_type": "stream",
     "text": [
      "Converting timestamp column into a datetime\n"
     ]
    }
   ],
   "source": [
    "# really this should be done in the common function, but doing here for now\n",
    "# It's needed for calculating things like time between events for a given user\n",
    "# It should be fairly safe as the conversion should be happening in SQL to make consistent.\n",
    "if str(events.dtypes[\"sent_at_timestamp\"])==\"object\": \n",
    "    print(\"Converting timestamp column into a datetime\")\n",
    "    events[\"sent_at_timestamp\"] = pd.to_datetime(events[\"sent_at_timestamp\"])\n",
    "    events.dtypes"
   ]
  },
  {
   "cell_type": "code",
   "execution_count": 13,
   "metadata": {},
   "outputs": [
    {
     "data": {
      "text/plain": [
       "sent_at_timestamp           datetime64[ns]\n",
       "sent_at                             object\n",
       "date                              category\n",
       "type                              category\n",
       "event_name                        category\n",
       "status                            category\n",
       "anonymous_id                        object\n",
       "amp_id                             float64\n",
       "page_url                            object\n",
       "referrer                          category\n",
       "is_amp                                bool\n",
       "is_test                               bool\n",
       "is_control                            bool\n",
       "slug                              category\n",
       "country_code                      category\n",
       "is_blog                               bool\n",
       "is_unbounce                           bool\n",
       "is_embed                              bool\n",
       "user_agent                        category\n",
       "device_type                       category\n",
       "browser_name                      category\n",
       "browser_major_version             category\n",
       "browser_version                   category\n",
       "operating_system_name             category\n",
       "operating_system_version          category\n",
       "article_read_depth                   int16\n",
       "dtype: object"
      ]
     },
     "execution_count": 13,
     "metadata": {},
     "output_type": "execute_result"
    }
   ],
   "source": [
    "# Check it's using half efficient data types (more category / bool, less object)\n",
    "events.dtypes"
   ]
  },
  {
   "cell_type": "code",
   "execution_count": 14,
   "metadata": {},
   "outputs": [
    {
     "data": {
      "text/html": [
       "<div>\n",
       "<style scoped>\n",
       "    .dataframe tbody tr th:only-of-type {\n",
       "        vertical-align: middle;\n",
       "    }\n",
       "\n",
       "    .dataframe tbody tr th {\n",
       "        vertical-align: top;\n",
       "    }\n",
       "\n",
       "    .dataframe thead th {\n",
       "        text-align: right;\n",
       "    }\n",
       "</style>\n",
       "<table border=\"1\" class=\"dataframe\">\n",
       "  <thead>\n",
       "    <tr style=\"text-align: right;\">\n",
       "      <th></th>\n",
       "      <th>country_code</th>\n",
       "      <th>date</th>\n",
       "      <th>is_blog</th>\n",
       "      <th>event_name</th>\n",
       "      <th>count</th>\n",
       "    </tr>\n",
       "  </thead>\n",
       "  <tbody>\n",
       "    <tr>\n",
       "      <th>0</th>\n",
       "      <td>hk</td>\n",
       "      <td>2020-02-11</td>\n",
       "      <td>True</td>\n",
       "      <td>PageView</td>\n",
       "      <td>9789</td>\n",
       "    </tr>\n",
       "    <tr>\n",
       "      <th>1</th>\n",
       "      <td>hk</td>\n",
       "      <td>2020-02-11</td>\n",
       "      <td>True</td>\n",
       "      <td>Reading</td>\n",
       "      <td>18889</td>\n",
       "    </tr>\n",
       "    <tr>\n",
       "      <th>2</th>\n",
       "      <td>hk</td>\n",
       "      <td>2020-02-12</td>\n",
       "      <td>True</td>\n",
       "      <td>PageView</td>\n",
       "      <td>10194</td>\n",
       "    </tr>\n",
       "    <tr>\n",
       "      <th>3</th>\n",
       "      <td>hk</td>\n",
       "      <td>2020-02-12</td>\n",
       "      <td>True</td>\n",
       "      <td>Reading</td>\n",
       "      <td>20268</td>\n",
       "    </tr>\n",
       "    <tr>\n",
       "      <th>4</th>\n",
       "      <td>hk</td>\n",
       "      <td>2020-02-13</td>\n",
       "      <td>True</td>\n",
       "      <td>PageView</td>\n",
       "      <td>11010</td>\n",
       "    </tr>\n",
       "    <tr>\n",
       "      <th>5</th>\n",
       "      <td>hk</td>\n",
       "      <td>2020-02-13</td>\n",
       "      <td>True</td>\n",
       "      <td>Reading</td>\n",
       "      <td>21337</td>\n",
       "    </tr>\n",
       "    <tr>\n",
       "      <th>6</th>\n",
       "      <td>hk</td>\n",
       "      <td>2020-02-14</td>\n",
       "      <td>True</td>\n",
       "      <td>PageView</td>\n",
       "      <td>10155</td>\n",
       "    </tr>\n",
       "    <tr>\n",
       "      <th>7</th>\n",
       "      <td>hk</td>\n",
       "      <td>2020-02-14</td>\n",
       "      <td>True</td>\n",
       "      <td>Reading</td>\n",
       "      <td>19711</td>\n",
       "    </tr>\n",
       "    <tr>\n",
       "      <th>8</th>\n",
       "      <td>hk</td>\n",
       "      <td>2020-02-15</td>\n",
       "      <td>True</td>\n",
       "      <td>PageView</td>\n",
       "      <td>11770</td>\n",
       "    </tr>\n",
       "    <tr>\n",
       "      <th>9</th>\n",
       "      <td>hk</td>\n",
       "      <td>2020-02-15</td>\n",
       "      <td>True</td>\n",
       "      <td>Reading</td>\n",
       "      <td>22831</td>\n",
       "    </tr>\n",
       "    <tr>\n",
       "      <th>10</th>\n",
       "      <td>hk</td>\n",
       "      <td>2020-02-16</td>\n",
       "      <td>True</td>\n",
       "      <td>PageView</td>\n",
       "      <td>11262</td>\n",
       "    </tr>\n",
       "    <tr>\n",
       "      <th>11</th>\n",
       "      <td>hk</td>\n",
       "      <td>2020-02-16</td>\n",
       "      <td>True</td>\n",
       "      <td>Reading</td>\n",
       "      <td>21926</td>\n",
       "    </tr>\n",
       "    <tr>\n",
       "      <th>12</th>\n",
       "      <td>hk</td>\n",
       "      <td>2020-02-17</td>\n",
       "      <td>True</td>\n",
       "      <td>PageView</td>\n",
       "      <td>11086</td>\n",
       "    </tr>\n",
       "    <tr>\n",
       "      <th>13</th>\n",
       "      <td>hk</td>\n",
       "      <td>2020-02-17</td>\n",
       "      <td>True</td>\n",
       "      <td>Reading</td>\n",
       "      <td>21654</td>\n",
       "    </tr>\n",
       "    <tr>\n",
       "      <th>14</th>\n",
       "      <td>hk</td>\n",
       "      <td>2020-02-18</td>\n",
       "      <td>True</td>\n",
       "      <td>PageView</td>\n",
       "      <td>11439</td>\n",
       "    </tr>\n",
       "    <tr>\n",
       "      <th>15</th>\n",
       "      <td>hk</td>\n",
       "      <td>2020-02-18</td>\n",
       "      <td>True</td>\n",
       "      <td>Reading</td>\n",
       "      <td>22479</td>\n",
       "    </tr>\n",
       "    <tr>\n",
       "      <th>16</th>\n",
       "      <td>hk</td>\n",
       "      <td>2020-02-19</td>\n",
       "      <td>True</td>\n",
       "      <td>PageView</td>\n",
       "      <td>11165</td>\n",
       "    </tr>\n",
       "    <tr>\n",
       "      <th>17</th>\n",
       "      <td>hk</td>\n",
       "      <td>2020-02-19</td>\n",
       "      <td>True</td>\n",
       "      <td>Reading</td>\n",
       "      <td>21550</td>\n",
       "    </tr>\n",
       "    <tr>\n",
       "      <th>18</th>\n",
       "      <td>hk</td>\n",
       "      <td>2020-02-20</td>\n",
       "      <td>True</td>\n",
       "      <td>PageView</td>\n",
       "      <td>9490</td>\n",
       "    </tr>\n",
       "    <tr>\n",
       "      <th>19</th>\n",
       "      <td>hk</td>\n",
       "      <td>2020-02-20</td>\n",
       "      <td>True</td>\n",
       "      <td>Reading</td>\n",
       "      <td>18521</td>\n",
       "    </tr>\n",
       "    <tr>\n",
       "      <th>20</th>\n",
       "      <td>sg</td>\n",
       "      <td>2020-02-11</td>\n",
       "      <td>True</td>\n",
       "      <td>PageView</td>\n",
       "      <td>76080</td>\n",
       "    </tr>\n",
       "    <tr>\n",
       "      <th>21</th>\n",
       "      <td>sg</td>\n",
       "      <td>2020-02-11</td>\n",
       "      <td>True</td>\n",
       "      <td>Reading</td>\n",
       "      <td>129218</td>\n",
       "    </tr>\n",
       "    <tr>\n",
       "      <th>22</th>\n",
       "      <td>sg</td>\n",
       "      <td>2020-02-12</td>\n",
       "      <td>True</td>\n",
       "      <td>PageView</td>\n",
       "      <td>70809</td>\n",
       "    </tr>\n",
       "    <tr>\n",
       "      <th>23</th>\n",
       "      <td>sg</td>\n",
       "      <td>2020-02-12</td>\n",
       "      <td>True</td>\n",
       "      <td>Reading</td>\n",
       "      <td>117008</td>\n",
       "    </tr>\n",
       "    <tr>\n",
       "      <th>24</th>\n",
       "      <td>sg</td>\n",
       "      <td>2020-02-13</td>\n",
       "      <td>True</td>\n",
       "      <td>PageView</td>\n",
       "      <td>68705</td>\n",
       "    </tr>\n",
       "    <tr>\n",
       "      <th>25</th>\n",
       "      <td>sg</td>\n",
       "      <td>2020-02-13</td>\n",
       "      <td>True</td>\n",
       "      <td>Reading</td>\n",
       "      <td>114693</td>\n",
       "    </tr>\n",
       "    <tr>\n",
       "      <th>26</th>\n",
       "      <td>sg</td>\n",
       "      <td>2020-02-14</td>\n",
       "      <td>True</td>\n",
       "      <td>PageView</td>\n",
       "      <td>67061</td>\n",
       "    </tr>\n",
       "    <tr>\n",
       "      <th>27</th>\n",
       "      <td>sg</td>\n",
       "      <td>2020-02-14</td>\n",
       "      <td>True</td>\n",
       "      <td>Reading</td>\n",
       "      <td>110919</td>\n",
       "    </tr>\n",
       "    <tr>\n",
       "      <th>28</th>\n",
       "      <td>sg</td>\n",
       "      <td>2020-02-15</td>\n",
       "      <td>True</td>\n",
       "      <td>PageView</td>\n",
       "      <td>73083</td>\n",
       "    </tr>\n",
       "    <tr>\n",
       "      <th>29</th>\n",
       "      <td>sg</td>\n",
       "      <td>2020-02-15</td>\n",
       "      <td>True</td>\n",
       "      <td>Reading</td>\n",
       "      <td>124702</td>\n",
       "    </tr>\n",
       "    <tr>\n",
       "      <th>30</th>\n",
       "      <td>sg</td>\n",
       "      <td>2020-02-16</td>\n",
       "      <td>True</td>\n",
       "      <td>PageView</td>\n",
       "      <td>77019</td>\n",
       "    </tr>\n",
       "    <tr>\n",
       "      <th>31</th>\n",
       "      <td>sg</td>\n",
       "      <td>2020-02-16</td>\n",
       "      <td>True</td>\n",
       "      <td>Reading</td>\n",
       "      <td>134717</td>\n",
       "    </tr>\n",
       "    <tr>\n",
       "      <th>32</th>\n",
       "      <td>sg</td>\n",
       "      <td>2020-02-17</td>\n",
       "      <td>True</td>\n",
       "      <td>PageView</td>\n",
       "      <td>90156</td>\n",
       "    </tr>\n",
       "    <tr>\n",
       "      <th>33</th>\n",
       "      <td>sg</td>\n",
       "      <td>2020-02-17</td>\n",
       "      <td>True</td>\n",
       "      <td>Reading</td>\n",
       "      <td>169140</td>\n",
       "    </tr>\n",
       "    <tr>\n",
       "      <th>34</th>\n",
       "      <td>sg</td>\n",
       "      <td>2020-02-18</td>\n",
       "      <td>True</td>\n",
       "      <td>PageView</td>\n",
       "      <td>89783</td>\n",
       "    </tr>\n",
       "    <tr>\n",
       "      <th>35</th>\n",
       "      <td>sg</td>\n",
       "      <td>2020-02-18</td>\n",
       "      <td>True</td>\n",
       "      <td>Reading</td>\n",
       "      <td>170003</td>\n",
       "    </tr>\n",
       "    <tr>\n",
       "      <th>36</th>\n",
       "      <td>sg</td>\n",
       "      <td>2020-02-19</td>\n",
       "      <td>True</td>\n",
       "      <td>PageView</td>\n",
       "      <td>77129</td>\n",
       "    </tr>\n",
       "    <tr>\n",
       "      <th>37</th>\n",
       "      <td>sg</td>\n",
       "      <td>2020-02-19</td>\n",
       "      <td>True</td>\n",
       "      <td>Reading</td>\n",
       "      <td>137945</td>\n",
       "    </tr>\n",
       "    <tr>\n",
       "      <th>38</th>\n",
       "      <td>sg</td>\n",
       "      <td>2020-02-20</td>\n",
       "      <td>True</td>\n",
       "      <td>PageView</td>\n",
       "      <td>62414</td>\n",
       "    </tr>\n",
       "    <tr>\n",
       "      <th>39</th>\n",
       "      <td>sg</td>\n",
       "      <td>2020-02-20</td>\n",
       "      <td>True</td>\n",
       "      <td>Reading</td>\n",
       "      <td>106473</td>\n",
       "    </tr>\n",
       "  </tbody>\n",
       "</table>\n",
       "</div>"
      ],
      "text/plain": [
       "   country_code        date  is_blog event_name   count\n",
       "0            hk  2020-02-11     True   PageView    9789\n",
       "1            hk  2020-02-11     True    Reading   18889\n",
       "2            hk  2020-02-12     True   PageView   10194\n",
       "3            hk  2020-02-12     True    Reading   20268\n",
       "4            hk  2020-02-13     True   PageView   11010\n",
       "5            hk  2020-02-13     True    Reading   21337\n",
       "6            hk  2020-02-14     True   PageView   10155\n",
       "7            hk  2020-02-14     True    Reading   19711\n",
       "8            hk  2020-02-15     True   PageView   11770\n",
       "9            hk  2020-02-15     True    Reading   22831\n",
       "10           hk  2020-02-16     True   PageView   11262\n",
       "11           hk  2020-02-16     True    Reading   21926\n",
       "12           hk  2020-02-17     True   PageView   11086\n",
       "13           hk  2020-02-17     True    Reading   21654\n",
       "14           hk  2020-02-18     True   PageView   11439\n",
       "15           hk  2020-02-18     True    Reading   22479\n",
       "16           hk  2020-02-19     True   PageView   11165\n",
       "17           hk  2020-02-19     True    Reading   21550\n",
       "18           hk  2020-02-20     True   PageView    9490\n",
       "19           hk  2020-02-20     True    Reading   18521\n",
       "20           sg  2020-02-11     True   PageView   76080\n",
       "21           sg  2020-02-11     True    Reading  129218\n",
       "22           sg  2020-02-12     True   PageView   70809\n",
       "23           sg  2020-02-12     True    Reading  117008\n",
       "24           sg  2020-02-13     True   PageView   68705\n",
       "25           sg  2020-02-13     True    Reading  114693\n",
       "26           sg  2020-02-14     True   PageView   67061\n",
       "27           sg  2020-02-14     True    Reading  110919\n",
       "28           sg  2020-02-15     True   PageView   73083\n",
       "29           sg  2020-02-15     True    Reading  124702\n",
       "30           sg  2020-02-16     True   PageView   77019\n",
       "31           sg  2020-02-16     True    Reading  134717\n",
       "32           sg  2020-02-17     True   PageView   90156\n",
       "33           sg  2020-02-17     True    Reading  169140\n",
       "34           sg  2020-02-18     True   PageView   89783\n",
       "35           sg  2020-02-18     True    Reading  170003\n",
       "36           sg  2020-02-19     True   PageView   77129\n",
       "37           sg  2020-02-19     True    Reading  137945\n",
       "38           sg  2020-02-20     True   PageView   62414\n",
       "39           sg  2020-02-20     True    Reading  106473"
      ]
     },
     "execution_count": 14,
     "metadata": {},
     "output_type": "execute_result"
    }
   ],
   "source": [
    "events_by_day = events.groupby([ \"country_code\", \"date\", \"is_blog\", \"event_name\"]).size().reset_index()\n",
    "events_by_day.rename(columns={0:\"count\"}, inplace=True)\n",
    "events_by_day"
   ]
  },
  {
   "cell_type": "code",
   "execution_count": 15,
   "metadata": {},
   "outputs": [
    {
     "data": {
      "application/vnd.plotly.v1+json": {
       "config": {
        "plotlyServerURL": "https://plot.ly"
       },
       "data": [
        {
         "mode": "lines",
         "name": "hk PageView",
         "type": "scatter",
         "x": [
          "2020-02-11",
          "2020-02-12",
          "2020-02-13",
          "2020-02-14",
          "2020-02-15",
          "2020-02-16",
          "2020-02-17",
          "2020-02-18",
          "2020-02-19",
          "2020-02-20"
         ],
         "xaxis": "x",
         "y": [
          9789,
          10194,
          11010,
          10155,
          11770,
          11262,
          11086,
          11439,
          11165,
          9490
         ],
         "yaxis": "y"
        },
        {
         "mode": "lines",
         "name": "hk Reading",
         "type": "scatter",
         "x": [
          "2020-02-11",
          "2020-02-12",
          "2020-02-13",
          "2020-02-14",
          "2020-02-15",
          "2020-02-16",
          "2020-02-17",
          "2020-02-18",
          "2020-02-19",
          "2020-02-20"
         ],
         "xaxis": "x",
         "y": [
          18889,
          20268,
          21337,
          19711,
          22831,
          21926,
          21654,
          22479,
          21550,
          18521
         ],
         "yaxis": "y"
        },
        {
         "mode": "lines",
         "name": "sg PageView",
         "type": "scatter",
         "x": [
          "2020-02-11",
          "2020-02-12",
          "2020-02-13",
          "2020-02-14",
          "2020-02-15",
          "2020-02-16",
          "2020-02-17",
          "2020-02-18",
          "2020-02-19",
          "2020-02-20"
         ],
         "xaxis": "x2",
         "y": [
          76080,
          70809,
          68705,
          67061,
          73083,
          77019,
          90156,
          89783,
          77129,
          62414
         ],
         "yaxis": "y2"
        },
        {
         "mode": "lines",
         "name": "sg Reading",
         "type": "scatter",
         "x": [
          "2020-02-11",
          "2020-02-12",
          "2020-02-13",
          "2020-02-14",
          "2020-02-15",
          "2020-02-16",
          "2020-02-17",
          "2020-02-18",
          "2020-02-19",
          "2020-02-20"
         ],
         "xaxis": "x2",
         "y": [
          129218,
          117008,
          114693,
          110919,
          124702,
          134717,
          169140,
          170003,
          137945,
          106473
         ],
         "yaxis": "y2"
        }
       ],
       "layout": {
        "height": 800,
        "template": {
         "data": {
          "bar": [
           {
            "error_x": {
             "color": "#2a3f5f"
            },
            "error_y": {
             "color": "#2a3f5f"
            },
            "marker": {
             "line": {
              "color": "#E5ECF6",
              "width": 0.5
             }
            },
            "type": "bar"
           }
          ],
          "barpolar": [
           {
            "marker": {
             "line": {
              "color": "#E5ECF6",
              "width": 0.5
             }
            },
            "type": "barpolar"
           }
          ],
          "carpet": [
           {
            "aaxis": {
             "endlinecolor": "#2a3f5f",
             "gridcolor": "white",
             "linecolor": "white",
             "minorgridcolor": "white",
             "startlinecolor": "#2a3f5f"
            },
            "baxis": {
             "endlinecolor": "#2a3f5f",
             "gridcolor": "white",
             "linecolor": "white",
             "minorgridcolor": "white",
             "startlinecolor": "#2a3f5f"
            },
            "type": "carpet"
           }
          ],
          "choropleth": [
           {
            "colorbar": {
             "outlinewidth": 0,
             "ticks": ""
            },
            "type": "choropleth"
           }
          ],
          "contour": [
           {
            "colorbar": {
             "outlinewidth": 0,
             "ticks": ""
            },
            "colorscale": [
             [
              0,
              "#0d0887"
             ],
             [
              0.1111111111111111,
              "#46039f"
             ],
             [
              0.2222222222222222,
              "#7201a8"
             ],
             [
              0.3333333333333333,
              "#9c179e"
             ],
             [
              0.4444444444444444,
              "#bd3786"
             ],
             [
              0.5555555555555556,
              "#d8576b"
             ],
             [
              0.6666666666666666,
              "#ed7953"
             ],
             [
              0.7777777777777778,
              "#fb9f3a"
             ],
             [
              0.8888888888888888,
              "#fdca26"
             ],
             [
              1,
              "#f0f921"
             ]
            ],
            "type": "contour"
           }
          ],
          "contourcarpet": [
           {
            "colorbar": {
             "outlinewidth": 0,
             "ticks": ""
            },
            "type": "contourcarpet"
           }
          ],
          "heatmap": [
           {
            "colorbar": {
             "outlinewidth": 0,
             "ticks": ""
            },
            "colorscale": [
             [
              0,
              "#0d0887"
             ],
             [
              0.1111111111111111,
              "#46039f"
             ],
             [
              0.2222222222222222,
              "#7201a8"
             ],
             [
              0.3333333333333333,
              "#9c179e"
             ],
             [
              0.4444444444444444,
              "#bd3786"
             ],
             [
              0.5555555555555556,
              "#d8576b"
             ],
             [
              0.6666666666666666,
              "#ed7953"
             ],
             [
              0.7777777777777778,
              "#fb9f3a"
             ],
             [
              0.8888888888888888,
              "#fdca26"
             ],
             [
              1,
              "#f0f921"
             ]
            ],
            "type": "heatmap"
           }
          ],
          "heatmapgl": [
           {
            "colorbar": {
             "outlinewidth": 0,
             "ticks": ""
            },
            "colorscale": [
             [
              0,
              "#0d0887"
             ],
             [
              0.1111111111111111,
              "#46039f"
             ],
             [
              0.2222222222222222,
              "#7201a8"
             ],
             [
              0.3333333333333333,
              "#9c179e"
             ],
             [
              0.4444444444444444,
              "#bd3786"
             ],
             [
              0.5555555555555556,
              "#d8576b"
             ],
             [
              0.6666666666666666,
              "#ed7953"
             ],
             [
              0.7777777777777778,
              "#fb9f3a"
             ],
             [
              0.8888888888888888,
              "#fdca26"
             ],
             [
              1,
              "#f0f921"
             ]
            ],
            "type": "heatmapgl"
           }
          ],
          "histogram": [
           {
            "marker": {
             "colorbar": {
              "outlinewidth": 0,
              "ticks": ""
             }
            },
            "type": "histogram"
           }
          ],
          "histogram2d": [
           {
            "colorbar": {
             "outlinewidth": 0,
             "ticks": ""
            },
            "colorscale": [
             [
              0,
              "#0d0887"
             ],
             [
              0.1111111111111111,
              "#46039f"
             ],
             [
              0.2222222222222222,
              "#7201a8"
             ],
             [
              0.3333333333333333,
              "#9c179e"
             ],
             [
              0.4444444444444444,
              "#bd3786"
             ],
             [
              0.5555555555555556,
              "#d8576b"
             ],
             [
              0.6666666666666666,
              "#ed7953"
             ],
             [
              0.7777777777777778,
              "#fb9f3a"
             ],
             [
              0.8888888888888888,
              "#fdca26"
             ],
             [
              1,
              "#f0f921"
             ]
            ],
            "type": "histogram2d"
           }
          ],
          "histogram2dcontour": [
           {
            "colorbar": {
             "outlinewidth": 0,
             "ticks": ""
            },
            "colorscale": [
             [
              0,
              "#0d0887"
             ],
             [
              0.1111111111111111,
              "#46039f"
             ],
             [
              0.2222222222222222,
              "#7201a8"
             ],
             [
              0.3333333333333333,
              "#9c179e"
             ],
             [
              0.4444444444444444,
              "#bd3786"
             ],
             [
              0.5555555555555556,
              "#d8576b"
             ],
             [
              0.6666666666666666,
              "#ed7953"
             ],
             [
              0.7777777777777778,
              "#fb9f3a"
             ],
             [
              0.8888888888888888,
              "#fdca26"
             ],
             [
              1,
              "#f0f921"
             ]
            ],
            "type": "histogram2dcontour"
           }
          ],
          "mesh3d": [
           {
            "colorbar": {
             "outlinewidth": 0,
             "ticks": ""
            },
            "type": "mesh3d"
           }
          ],
          "parcoords": [
           {
            "line": {
             "colorbar": {
              "outlinewidth": 0,
              "ticks": ""
             }
            },
            "type": "parcoords"
           }
          ],
          "pie": [
           {
            "automargin": true,
            "type": "pie"
           }
          ],
          "scatter": [
           {
            "marker": {
             "colorbar": {
              "outlinewidth": 0,
              "ticks": ""
             }
            },
            "type": "scatter"
           }
          ],
          "scatter3d": [
           {
            "line": {
             "colorbar": {
              "outlinewidth": 0,
              "ticks": ""
             }
            },
            "marker": {
             "colorbar": {
              "outlinewidth": 0,
              "ticks": ""
             }
            },
            "type": "scatter3d"
           }
          ],
          "scattercarpet": [
           {
            "marker": {
             "colorbar": {
              "outlinewidth": 0,
              "ticks": ""
             }
            },
            "type": "scattercarpet"
           }
          ],
          "scattergeo": [
           {
            "marker": {
             "colorbar": {
              "outlinewidth": 0,
              "ticks": ""
             }
            },
            "type": "scattergeo"
           }
          ],
          "scattergl": [
           {
            "marker": {
             "colorbar": {
              "outlinewidth": 0,
              "ticks": ""
             }
            },
            "type": "scattergl"
           }
          ],
          "scattermapbox": [
           {
            "marker": {
             "colorbar": {
              "outlinewidth": 0,
              "ticks": ""
             }
            },
            "type": "scattermapbox"
           }
          ],
          "scatterpolar": [
           {
            "marker": {
             "colorbar": {
              "outlinewidth": 0,
              "ticks": ""
             }
            },
            "type": "scatterpolar"
           }
          ],
          "scatterpolargl": [
           {
            "marker": {
             "colorbar": {
              "outlinewidth": 0,
              "ticks": ""
             }
            },
            "type": "scatterpolargl"
           }
          ],
          "scatterternary": [
           {
            "marker": {
             "colorbar": {
              "outlinewidth": 0,
              "ticks": ""
             }
            },
            "type": "scatterternary"
           }
          ],
          "surface": [
           {
            "colorbar": {
             "outlinewidth": 0,
             "ticks": ""
            },
            "colorscale": [
             [
              0,
              "#0d0887"
             ],
             [
              0.1111111111111111,
              "#46039f"
             ],
             [
              0.2222222222222222,
              "#7201a8"
             ],
             [
              0.3333333333333333,
              "#9c179e"
             ],
             [
              0.4444444444444444,
              "#bd3786"
             ],
             [
              0.5555555555555556,
              "#d8576b"
             ],
             [
              0.6666666666666666,
              "#ed7953"
             ],
             [
              0.7777777777777778,
              "#fb9f3a"
             ],
             [
              0.8888888888888888,
              "#fdca26"
             ],
             [
              1,
              "#f0f921"
             ]
            ],
            "type": "surface"
           }
          ],
          "table": [
           {
            "cells": {
             "fill": {
              "color": "#EBF0F8"
             },
             "line": {
              "color": "white"
             }
            },
            "header": {
             "fill": {
              "color": "#C8D4E3"
             },
             "line": {
              "color": "white"
             }
            },
            "type": "table"
           }
          ]
         },
         "layout": {
          "annotationdefaults": {
           "arrowcolor": "#2a3f5f",
           "arrowhead": 0,
           "arrowwidth": 1
          },
          "coloraxis": {
           "colorbar": {
            "outlinewidth": 0,
            "ticks": ""
           }
          },
          "colorscale": {
           "diverging": [
            [
             0,
             "#8e0152"
            ],
            [
             0.1,
             "#c51b7d"
            ],
            [
             0.2,
             "#de77ae"
            ],
            [
             0.3,
             "#f1b6da"
            ],
            [
             0.4,
             "#fde0ef"
            ],
            [
             0.5,
             "#f7f7f7"
            ],
            [
             0.6,
             "#e6f5d0"
            ],
            [
             0.7,
             "#b8e186"
            ],
            [
             0.8,
             "#7fbc41"
            ],
            [
             0.9,
             "#4d9221"
            ],
            [
             1,
             "#276419"
            ]
           ],
           "sequential": [
            [
             0,
             "#0d0887"
            ],
            [
             0.1111111111111111,
             "#46039f"
            ],
            [
             0.2222222222222222,
             "#7201a8"
            ],
            [
             0.3333333333333333,
             "#9c179e"
            ],
            [
             0.4444444444444444,
             "#bd3786"
            ],
            [
             0.5555555555555556,
             "#d8576b"
            ],
            [
             0.6666666666666666,
             "#ed7953"
            ],
            [
             0.7777777777777778,
             "#fb9f3a"
            ],
            [
             0.8888888888888888,
             "#fdca26"
            ],
            [
             1,
             "#f0f921"
            ]
           ],
           "sequentialminus": [
            [
             0,
             "#0d0887"
            ],
            [
             0.1111111111111111,
             "#46039f"
            ],
            [
             0.2222222222222222,
             "#7201a8"
            ],
            [
             0.3333333333333333,
             "#9c179e"
            ],
            [
             0.4444444444444444,
             "#bd3786"
            ],
            [
             0.5555555555555556,
             "#d8576b"
            ],
            [
             0.6666666666666666,
             "#ed7953"
            ],
            [
             0.7777777777777778,
             "#fb9f3a"
            ],
            [
             0.8888888888888888,
             "#fdca26"
            ],
            [
             1,
             "#f0f921"
            ]
           ]
          },
          "colorway": [
           "#636efa",
           "#EF553B",
           "#00cc96",
           "#ab63fa",
           "#FFA15A",
           "#19d3f3",
           "#FF6692",
           "#B6E880",
           "#FF97FF",
           "#FECB52"
          ],
          "font": {
           "color": "#2a3f5f"
          },
          "geo": {
           "bgcolor": "white",
           "lakecolor": "white",
           "landcolor": "#E5ECF6",
           "showlakes": true,
           "showland": true,
           "subunitcolor": "white"
          },
          "hoverlabel": {
           "align": "left"
          },
          "hovermode": "closest",
          "mapbox": {
           "style": "light"
          },
          "paper_bgcolor": "white",
          "plot_bgcolor": "#E5ECF6",
          "polar": {
           "angularaxis": {
            "gridcolor": "white",
            "linecolor": "white",
            "ticks": ""
           },
           "bgcolor": "#E5ECF6",
           "radialaxis": {
            "gridcolor": "white",
            "linecolor": "white",
            "ticks": ""
           }
          },
          "scene": {
           "xaxis": {
            "backgroundcolor": "#E5ECF6",
            "gridcolor": "white",
            "gridwidth": 2,
            "linecolor": "white",
            "showbackground": true,
            "ticks": "",
            "zerolinecolor": "white"
           },
           "yaxis": {
            "backgroundcolor": "#E5ECF6",
            "gridcolor": "white",
            "gridwidth": 2,
            "linecolor": "white",
            "showbackground": true,
            "ticks": "",
            "zerolinecolor": "white"
           },
           "zaxis": {
            "backgroundcolor": "#E5ECF6",
            "gridcolor": "white",
            "gridwidth": 2,
            "linecolor": "white",
            "showbackground": true,
            "ticks": "",
            "zerolinecolor": "white"
           }
          },
          "shapedefaults": {
           "line": {
            "color": "#2a3f5f"
           }
          },
          "ternary": {
           "aaxis": {
            "gridcolor": "white",
            "linecolor": "white",
            "ticks": ""
           },
           "baxis": {
            "gridcolor": "white",
            "linecolor": "white",
            "ticks": ""
           },
           "bgcolor": "#E5ECF6",
           "caxis": {
            "gridcolor": "white",
            "linecolor": "white",
            "ticks": ""
           }
          },
          "title": {
           "x": 0.05
          },
          "xaxis": {
           "automargin": true,
           "gridcolor": "white",
           "linecolor": "white",
           "ticks": "",
           "title": {
            "standoff": 15
           },
           "zerolinecolor": "white",
           "zerolinewidth": 2
          },
          "yaxis": {
           "automargin": true,
           "gridcolor": "white",
           "linecolor": "white",
           "ticks": "",
           "title": {
            "standoff": 15
           },
           "zerolinecolor": "white",
           "zerolinewidth": 2
          }
         }
        },
        "xaxis": {
         "anchor": "y",
         "domain": [
          0,
          1
         ]
        },
        "xaxis2": {
         "anchor": "y2",
         "domain": [
          0,
          1
         ]
        },
        "yaxis": {
         "anchor": "x",
         "domain": [
          0.575,
          1
         ],
         "range": [
          0,
          22831
         ]
        },
        "yaxis2": {
         "anchor": "x2",
         "domain": [
          0,
          0.425
         ],
         "range": [
          0,
          170003
         ]
        }
       }
      },
      "text/html": [
       "<div>\n",
       "        \n",
       "        \n",
       "            <div id=\"0e2d285e-16eb-4a6a-ba70-2b3e09e94c24\" class=\"plotly-graph-div\" style=\"height:800px; width:100%;\"></div>\n",
       "            <script type=\"text/javascript\">\n",
       "                require([\"plotly\"], function(Plotly) {\n",
       "                    window.PLOTLYENV=window.PLOTLYENV || {};\n",
       "                    \n",
       "                if (document.getElementById(\"0e2d285e-16eb-4a6a-ba70-2b3e09e94c24\")) {\n",
       "                    Plotly.newPlot(\n",
       "                        '0e2d285e-16eb-4a6a-ba70-2b3e09e94c24',\n",
       "                        [{\"mode\": \"lines\", \"name\": \"hk PageView\", \"type\": \"scatter\", \"x\": [\"2020-02-11\", \"2020-02-12\", \"2020-02-13\", \"2020-02-14\", \"2020-02-15\", \"2020-02-16\", \"2020-02-17\", \"2020-02-18\", \"2020-02-19\", \"2020-02-20\"], \"xaxis\": \"x\", \"y\": [9789, 10194, 11010, 10155, 11770, 11262, 11086, 11439, 11165, 9490], \"yaxis\": \"y\"}, {\"mode\": \"lines\", \"name\": \"hk Reading\", \"type\": \"scatter\", \"x\": [\"2020-02-11\", \"2020-02-12\", \"2020-02-13\", \"2020-02-14\", \"2020-02-15\", \"2020-02-16\", \"2020-02-17\", \"2020-02-18\", \"2020-02-19\", \"2020-02-20\"], \"xaxis\": \"x\", \"y\": [18889, 20268, 21337, 19711, 22831, 21926, 21654, 22479, 21550, 18521], \"yaxis\": \"y\"}, {\"mode\": \"lines\", \"name\": \"sg PageView\", \"type\": \"scatter\", \"x\": [\"2020-02-11\", \"2020-02-12\", \"2020-02-13\", \"2020-02-14\", \"2020-02-15\", \"2020-02-16\", \"2020-02-17\", \"2020-02-18\", \"2020-02-19\", \"2020-02-20\"], \"xaxis\": \"x2\", \"y\": [76080, 70809, 68705, 67061, 73083, 77019, 90156, 89783, 77129, 62414], \"yaxis\": \"y2\"}, {\"mode\": \"lines\", \"name\": \"sg Reading\", \"type\": \"scatter\", \"x\": [\"2020-02-11\", \"2020-02-12\", \"2020-02-13\", \"2020-02-14\", \"2020-02-15\", \"2020-02-16\", \"2020-02-17\", \"2020-02-18\", \"2020-02-19\", \"2020-02-20\"], \"xaxis\": \"x2\", \"y\": [129218, 117008, 114693, 110919, 124702, 134717, 169140, 170003, 137945, 106473], \"yaxis\": \"y2\"}],\n",
       "                        {\"height\": 800, \"template\": {\"data\": {\"bar\": [{\"error_x\": {\"color\": \"#2a3f5f\"}, \"error_y\": {\"color\": \"#2a3f5f\"}, \"marker\": {\"line\": {\"color\": \"#E5ECF6\", \"width\": 0.5}}, \"type\": \"bar\"}], \"barpolar\": [{\"marker\": {\"line\": {\"color\": \"#E5ECF6\", \"width\": 0.5}}, \"type\": \"barpolar\"}], \"carpet\": [{\"aaxis\": {\"endlinecolor\": \"#2a3f5f\", \"gridcolor\": \"white\", \"linecolor\": \"white\", \"minorgridcolor\": \"white\", \"startlinecolor\": \"#2a3f5f\"}, \"baxis\": {\"endlinecolor\": \"#2a3f5f\", \"gridcolor\": \"white\", \"linecolor\": \"white\", \"minorgridcolor\": \"white\", \"startlinecolor\": \"#2a3f5f\"}, \"type\": \"carpet\"}], \"choropleth\": [{\"colorbar\": {\"outlinewidth\": 0, \"ticks\": \"\"}, \"type\": \"choropleth\"}], \"contour\": [{\"colorbar\": {\"outlinewidth\": 0, \"ticks\": \"\"}, \"colorscale\": [[0.0, \"#0d0887\"], [0.1111111111111111, \"#46039f\"], [0.2222222222222222, \"#7201a8\"], [0.3333333333333333, \"#9c179e\"], [0.4444444444444444, \"#bd3786\"], [0.5555555555555556, \"#d8576b\"], [0.6666666666666666, \"#ed7953\"], [0.7777777777777778, \"#fb9f3a\"], [0.8888888888888888, \"#fdca26\"], [1.0, \"#f0f921\"]], \"type\": \"contour\"}], \"contourcarpet\": [{\"colorbar\": {\"outlinewidth\": 0, \"ticks\": \"\"}, \"type\": \"contourcarpet\"}], \"heatmap\": [{\"colorbar\": {\"outlinewidth\": 0, \"ticks\": \"\"}, \"colorscale\": [[0.0, \"#0d0887\"], [0.1111111111111111, \"#46039f\"], [0.2222222222222222, \"#7201a8\"], [0.3333333333333333, \"#9c179e\"], [0.4444444444444444, \"#bd3786\"], [0.5555555555555556, \"#d8576b\"], [0.6666666666666666, \"#ed7953\"], [0.7777777777777778, \"#fb9f3a\"], [0.8888888888888888, \"#fdca26\"], [1.0, \"#f0f921\"]], \"type\": \"heatmap\"}], \"heatmapgl\": [{\"colorbar\": {\"outlinewidth\": 0, \"ticks\": \"\"}, \"colorscale\": [[0.0, \"#0d0887\"], [0.1111111111111111, \"#46039f\"], [0.2222222222222222, \"#7201a8\"], [0.3333333333333333, \"#9c179e\"], [0.4444444444444444, \"#bd3786\"], [0.5555555555555556, \"#d8576b\"], [0.6666666666666666, \"#ed7953\"], [0.7777777777777778, \"#fb9f3a\"], [0.8888888888888888, \"#fdca26\"], [1.0, \"#f0f921\"]], \"type\": \"heatmapgl\"}], \"histogram\": [{\"marker\": {\"colorbar\": {\"outlinewidth\": 0, \"ticks\": \"\"}}, \"type\": \"histogram\"}], \"histogram2d\": [{\"colorbar\": {\"outlinewidth\": 0, \"ticks\": \"\"}, \"colorscale\": [[0.0, \"#0d0887\"], [0.1111111111111111, \"#46039f\"], [0.2222222222222222, \"#7201a8\"], [0.3333333333333333, \"#9c179e\"], [0.4444444444444444, \"#bd3786\"], [0.5555555555555556, \"#d8576b\"], [0.6666666666666666, \"#ed7953\"], [0.7777777777777778, \"#fb9f3a\"], [0.8888888888888888, \"#fdca26\"], [1.0, \"#f0f921\"]], \"type\": \"histogram2d\"}], \"histogram2dcontour\": [{\"colorbar\": {\"outlinewidth\": 0, \"ticks\": \"\"}, \"colorscale\": [[0.0, \"#0d0887\"], [0.1111111111111111, \"#46039f\"], [0.2222222222222222, \"#7201a8\"], [0.3333333333333333, \"#9c179e\"], [0.4444444444444444, \"#bd3786\"], [0.5555555555555556, \"#d8576b\"], [0.6666666666666666, \"#ed7953\"], [0.7777777777777778, \"#fb9f3a\"], [0.8888888888888888, \"#fdca26\"], [1.0, \"#f0f921\"]], \"type\": \"histogram2dcontour\"}], \"mesh3d\": [{\"colorbar\": {\"outlinewidth\": 0, \"ticks\": \"\"}, \"type\": \"mesh3d\"}], \"parcoords\": [{\"line\": {\"colorbar\": {\"outlinewidth\": 0, \"ticks\": \"\"}}, \"type\": \"parcoords\"}], \"pie\": [{\"automargin\": true, \"type\": \"pie\"}], \"scatter\": [{\"marker\": {\"colorbar\": {\"outlinewidth\": 0, \"ticks\": \"\"}}, \"type\": \"scatter\"}], \"scatter3d\": [{\"line\": {\"colorbar\": {\"outlinewidth\": 0, \"ticks\": \"\"}}, \"marker\": {\"colorbar\": {\"outlinewidth\": 0, \"ticks\": \"\"}}, \"type\": \"scatter3d\"}], \"scattercarpet\": [{\"marker\": {\"colorbar\": {\"outlinewidth\": 0, \"ticks\": \"\"}}, \"type\": \"scattercarpet\"}], \"scattergeo\": [{\"marker\": {\"colorbar\": {\"outlinewidth\": 0, \"ticks\": \"\"}}, \"type\": \"scattergeo\"}], \"scattergl\": [{\"marker\": {\"colorbar\": {\"outlinewidth\": 0, \"ticks\": \"\"}}, \"type\": \"scattergl\"}], \"scattermapbox\": [{\"marker\": {\"colorbar\": {\"outlinewidth\": 0, \"ticks\": \"\"}}, \"type\": \"scattermapbox\"}], \"scatterpolar\": [{\"marker\": {\"colorbar\": {\"outlinewidth\": 0, \"ticks\": \"\"}}, \"type\": \"scatterpolar\"}], \"scatterpolargl\": [{\"marker\": {\"colorbar\": {\"outlinewidth\": 0, \"ticks\": \"\"}}, \"type\": \"scatterpolargl\"}], \"scatterternary\": [{\"marker\": {\"colorbar\": {\"outlinewidth\": 0, \"ticks\": \"\"}}, \"type\": \"scatterternary\"}], \"surface\": [{\"colorbar\": {\"outlinewidth\": 0, \"ticks\": \"\"}, \"colorscale\": [[0.0, \"#0d0887\"], [0.1111111111111111, \"#46039f\"], [0.2222222222222222, \"#7201a8\"], [0.3333333333333333, \"#9c179e\"], [0.4444444444444444, \"#bd3786\"], [0.5555555555555556, \"#d8576b\"], [0.6666666666666666, \"#ed7953\"], [0.7777777777777778, \"#fb9f3a\"], [0.8888888888888888, \"#fdca26\"], [1.0, \"#f0f921\"]], \"type\": \"surface\"}], \"table\": [{\"cells\": {\"fill\": {\"color\": \"#EBF0F8\"}, \"line\": {\"color\": \"white\"}}, \"header\": {\"fill\": {\"color\": \"#C8D4E3\"}, \"line\": {\"color\": \"white\"}}, \"type\": \"table\"}]}, \"layout\": {\"annotationdefaults\": {\"arrowcolor\": \"#2a3f5f\", \"arrowhead\": 0, \"arrowwidth\": 1}, \"coloraxis\": {\"colorbar\": {\"outlinewidth\": 0, \"ticks\": \"\"}}, \"colorscale\": {\"diverging\": [[0, \"#8e0152\"], [0.1, \"#c51b7d\"], [0.2, \"#de77ae\"], [0.3, \"#f1b6da\"], [0.4, \"#fde0ef\"], [0.5, \"#f7f7f7\"], [0.6, \"#e6f5d0\"], [0.7, \"#b8e186\"], [0.8, \"#7fbc41\"], [0.9, \"#4d9221\"], [1, \"#276419\"]], \"sequential\": [[0.0, \"#0d0887\"], [0.1111111111111111, \"#46039f\"], [0.2222222222222222, \"#7201a8\"], [0.3333333333333333, \"#9c179e\"], [0.4444444444444444, \"#bd3786\"], [0.5555555555555556, \"#d8576b\"], [0.6666666666666666, \"#ed7953\"], [0.7777777777777778, \"#fb9f3a\"], [0.8888888888888888, \"#fdca26\"], [1.0, \"#f0f921\"]], \"sequentialminus\": [[0.0, \"#0d0887\"], [0.1111111111111111, \"#46039f\"], [0.2222222222222222, \"#7201a8\"], [0.3333333333333333, \"#9c179e\"], [0.4444444444444444, \"#bd3786\"], [0.5555555555555556, \"#d8576b\"], [0.6666666666666666, \"#ed7953\"], [0.7777777777777778, \"#fb9f3a\"], [0.8888888888888888, \"#fdca26\"], [1.0, \"#f0f921\"]]}, \"colorway\": [\"#636efa\", \"#EF553B\", \"#00cc96\", \"#ab63fa\", \"#FFA15A\", \"#19d3f3\", \"#FF6692\", \"#B6E880\", \"#FF97FF\", \"#FECB52\"], \"font\": {\"color\": \"#2a3f5f\"}, \"geo\": {\"bgcolor\": \"white\", \"lakecolor\": \"white\", \"landcolor\": \"#E5ECF6\", \"showlakes\": true, \"showland\": true, \"subunitcolor\": \"white\"}, \"hoverlabel\": {\"align\": \"left\"}, \"hovermode\": \"closest\", \"mapbox\": {\"style\": \"light\"}, \"paper_bgcolor\": \"white\", \"plot_bgcolor\": \"#E5ECF6\", \"polar\": {\"angularaxis\": {\"gridcolor\": \"white\", \"linecolor\": \"white\", \"ticks\": \"\"}, \"bgcolor\": \"#E5ECF6\", \"radialaxis\": {\"gridcolor\": \"white\", \"linecolor\": \"white\", \"ticks\": \"\"}}, \"scene\": {\"xaxis\": {\"backgroundcolor\": \"#E5ECF6\", \"gridcolor\": \"white\", \"gridwidth\": 2, \"linecolor\": \"white\", \"showbackground\": true, \"ticks\": \"\", \"zerolinecolor\": \"white\"}, \"yaxis\": {\"backgroundcolor\": \"#E5ECF6\", \"gridcolor\": \"white\", \"gridwidth\": 2, \"linecolor\": \"white\", \"showbackground\": true, \"ticks\": \"\", \"zerolinecolor\": \"white\"}, \"zaxis\": {\"backgroundcolor\": \"#E5ECF6\", \"gridcolor\": \"white\", \"gridwidth\": 2, \"linecolor\": \"white\", \"showbackground\": true, \"ticks\": \"\", \"zerolinecolor\": \"white\"}}, \"shapedefaults\": {\"line\": {\"color\": \"#2a3f5f\"}}, \"ternary\": {\"aaxis\": {\"gridcolor\": \"white\", \"linecolor\": \"white\", \"ticks\": \"\"}, \"baxis\": {\"gridcolor\": \"white\", \"linecolor\": \"white\", \"ticks\": \"\"}, \"bgcolor\": \"#E5ECF6\", \"caxis\": {\"gridcolor\": \"white\", \"linecolor\": \"white\", \"ticks\": \"\"}}, \"title\": {\"x\": 0.05}, \"xaxis\": {\"automargin\": true, \"gridcolor\": \"white\", \"linecolor\": \"white\", \"ticks\": \"\", \"title\": {\"standoff\": 15}, \"zerolinecolor\": \"white\", \"zerolinewidth\": 2}, \"yaxis\": {\"automargin\": true, \"gridcolor\": \"white\", \"linecolor\": \"white\", \"ticks\": \"\", \"title\": {\"standoff\": 15}, \"zerolinecolor\": \"white\", \"zerolinewidth\": 2}}}, \"xaxis\": {\"anchor\": \"y\", \"domain\": [0.0, 1.0]}, \"xaxis2\": {\"anchor\": \"y2\", \"domain\": [0.0, 1.0]}, \"yaxis\": {\"anchor\": \"x\", \"domain\": [0.575, 1.0], \"range\": [0, 22831]}, \"yaxis2\": {\"anchor\": \"x2\", \"domain\": [0.0, 0.425], \"range\": [0, 170003]}},\n",
       "                        {\"responsive\": true}\n",
       "                    ).then(function(){\n",
       "                            \n",
       "var gd = document.getElementById('0e2d285e-16eb-4a6a-ba70-2b3e09e94c24');\n",
       "var x = new MutationObserver(function (mutations, observer) {{\n",
       "        var display = window.getComputedStyle(gd).display;\n",
       "        if (!display || display === 'none') {{\n",
       "            console.log([gd, 'removed!']);\n",
       "            Plotly.purge(gd);\n",
       "            observer.disconnect();\n",
       "        }}\n",
       "}});\n",
       "\n",
       "// Listen for the removal of the full notebook cells\n",
       "var notebookContainer = gd.closest('#notebook-container');\n",
       "if (notebookContainer) {{\n",
       "    x.observe(notebookContainer, {childList: true});\n",
       "}}\n",
       "\n",
       "// Listen for the clearing of the current output cell\n",
       "var outputEl = gd.closest('.output');\n",
       "if (outputEl) {{\n",
       "    x.observe(outputEl, {childList: true});\n",
       "}}\n",
       "\n",
       "                        })\n",
       "                };\n",
       "                });\n",
       "            </script>\n",
       "        </div>"
      ]
     },
     "metadata": {},
     "output_type": "display_data"
    }
   ],
   "source": [
    "countries = events_by_day.country_code.unique()\n",
    "num_countries = len(countries)\n",
    "\n",
    "unique_events = events_by_day.event_name.unique()\n",
    "num_uniqe_events = len(unique_events)\n",
    "\n",
    "fig = py.subplots.make_subplots(rows=num_countries, cols=1)\n",
    "\n",
    "for i, country in enumerate(countries):\n",
    "    max_count = 0\n",
    "    for event_name in unique_events:\n",
    "        line_label = country+\" \"+event_name\n",
    "        df = events_by_day[(events_by_day.country_code==country) & (events_by_day.event_name == event_name)]\n",
    "        max_count = max(max_count, df[\"count\"].max())\n",
    "        fig.add_trace(go.Scatter(x=df[\"date\"], y=df[\"count\"], mode='lines', name=line_label), row=i+1, col=1)\n",
    "    fig.update_yaxes(range = [0, max_count], row=i+1, col=1)\n",
    "fig.update_layout(height=800)\n",
    "fig.show()"
   ]
  },
  {
   "cell_type": "code",
   "execution_count": null,
   "metadata": {},
   "outputs": [],
   "source": []
  },
  {
   "cell_type": "code",
   "execution_count": 16,
   "metadata": {},
   "outputs": [
    {
     "name": "stdout",
     "output_type": "stream",
     "text": [
      "859599 pageviews\n"
     ]
    }
   ],
   "source": [
    "pageview_events = events[events.event_name==\"PageView\"]\n",
    "\n",
    "print(\"%i pageviews\"%len(pageview_events))"
   ]
  },
  {
   "cell_type": "markdown",
   "metadata": {},
   "source": [
    "# Pageviews Per User Per Day"
   ]
  },
  {
   "cell_type": "code",
   "execution_count": 17,
   "metadata": {},
   "outputs": [],
   "source": [
    "pageviews_per_user_per_day = pageview_events.groupby([\"country_code\",\"date\",\"is_test\", \"anonymous_id\"]).size().reset_index(name=\"count\")"
   ]
  },
  {
   "cell_type": "code",
   "execution_count": null,
   "metadata": {},
   "outputs": [],
   "source": []
  },
  {
   "cell_type": "code",
   "execution_count": 18,
   "metadata": {},
   "outputs": [
    {
     "data": {
      "text/html": [
       "<div>\n",
       "<style scoped>\n",
       "    .dataframe tbody tr th:only-of-type {\n",
       "        vertical-align: middle;\n",
       "    }\n",
       "\n",
       "    .dataframe tbody tr th {\n",
       "        vertical-align: top;\n",
       "    }\n",
       "\n",
       "    .dataframe thead th {\n",
       "        text-align: right;\n",
       "    }\n",
       "</style>\n",
       "<table border=\"1\" class=\"dataframe\">\n",
       "  <thead>\n",
       "    <tr style=\"text-align: right;\">\n",
       "      <th></th>\n",
       "      <th>country_code</th>\n",
       "      <th>date</th>\n",
       "      <th>is_test</th>\n",
       "      <th>anonymous_id</th>\n",
       "      <th>count</th>\n",
       "    </tr>\n",
       "  </thead>\n",
       "  <tbody>\n",
       "    <tr>\n",
       "      <th>0</th>\n",
       "      <td>hk</td>\n",
       "      <td>2020-02-11</td>\n",
       "      <td>False</td>\n",
       "      <td>00037e75-2e08-4390-98ca-a1373d684423</td>\n",
       "      <td>1</td>\n",
       "    </tr>\n",
       "    <tr>\n",
       "      <th>1</th>\n",
       "      <td>hk</td>\n",
       "      <td>2020-02-11</td>\n",
       "      <td>False</td>\n",
       "      <td>0007afcc-3f12-4dbf-8375-16ae0107bd25</td>\n",
       "      <td>1</td>\n",
       "    </tr>\n",
       "  </tbody>\n",
       "</table>\n",
       "</div>"
      ],
      "text/plain": [
       "  country_code        date  is_test                          anonymous_id  \\\n",
       "0           hk  2020-02-11    False  00037e75-2e08-4390-98ca-a1373d684423   \n",
       "1           hk  2020-02-11    False  0007afcc-3f12-4dbf-8375-16ae0107bd25   \n",
       "\n",
       "   count  \n",
       "0      1  \n",
       "1      1  "
      ]
     },
     "execution_count": 18,
     "metadata": {},
     "output_type": "execute_result"
    }
   ],
   "source": [
    "pageviews_per_user_per_day.head(2)"
   ]
  },
  {
   "cell_type": "code",
   "execution_count": 19,
   "metadata": {},
   "outputs": [
    {
     "data": {
      "text/html": [
       "<div>\n",
       "<style scoped>\n",
       "    .dataframe tbody tr th:only-of-type {\n",
       "        vertical-align: middle;\n",
       "    }\n",
       "\n",
       "    .dataframe tbody tr th {\n",
       "        vertical-align: top;\n",
       "    }\n",
       "\n",
       "    .dataframe thead tr th {\n",
       "        text-align: left;\n",
       "    }\n",
       "\n",
       "    .dataframe thead tr:last-of-type th {\n",
       "        text-align: right;\n",
       "    }\n",
       "</style>\n",
       "<table border=\"1\" class=\"dataframe\">\n",
       "  <thead>\n",
       "    <tr>\n",
       "      <th></th>\n",
       "      <th></th>\n",
       "      <th></th>\n",
       "      <th colspan=\"3\" halign=\"left\">count</th>\n",
       "    </tr>\n",
       "    <tr>\n",
       "      <th></th>\n",
       "      <th></th>\n",
       "      <th></th>\n",
       "      <th>mean</th>\n",
       "      <th>sum</th>\n",
       "      <th>count</th>\n",
       "    </tr>\n",
       "    <tr>\n",
       "      <th>country_code</th>\n",
       "      <th>date</th>\n",
       "      <th>is_test</th>\n",
       "      <th></th>\n",
       "      <th></th>\n",
       "      <th></th>\n",
       "    </tr>\n",
       "  </thead>\n",
       "  <tbody>\n",
       "    <tr>\n",
       "      <th rowspan=\"20\" valign=\"top\">hk</th>\n",
       "      <th rowspan=\"2\" valign=\"top\">2020-02-11</th>\n",
       "      <th>False</th>\n",
       "      <td>1.196949</td>\n",
       "      <td>9572</td>\n",
       "      <td>7997</td>\n",
       "    </tr>\n",
       "    <tr>\n",
       "      <th>True</th>\n",
       "      <td>1.197531</td>\n",
       "      <td>97</td>\n",
       "      <td>81</td>\n",
       "    </tr>\n",
       "    <tr>\n",
       "      <th rowspan=\"2\" valign=\"top\">2020-02-12</th>\n",
       "      <th>False</th>\n",
       "      <td>1.193076</td>\n",
       "      <td>10029</td>\n",
       "      <td>8406</td>\n",
       "    </tr>\n",
       "    <tr>\n",
       "      <th>True</th>\n",
       "      <td>1.405405</td>\n",
       "      <td>104</td>\n",
       "      <td>74</td>\n",
       "    </tr>\n",
       "    <tr>\n",
       "      <th rowspan=\"2\" valign=\"top\">2020-02-13</th>\n",
       "      <th>False</th>\n",
       "      <td>1.195228</td>\n",
       "      <td>10169</td>\n",
       "      <td>8508</td>\n",
       "    </tr>\n",
       "    <tr>\n",
       "      <th>True</th>\n",
       "      <td>1.267257</td>\n",
       "      <td>716</td>\n",
       "      <td>565</td>\n",
       "    </tr>\n",
       "    <tr>\n",
       "      <th rowspan=\"2\" valign=\"top\">2020-02-14</th>\n",
       "      <th>False</th>\n",
       "      <td>1.179750</td>\n",
       "      <td>9077</td>\n",
       "      <td>7694</td>\n",
       "    </tr>\n",
       "    <tr>\n",
       "      <th>True</th>\n",
       "      <td>1.291310</td>\n",
       "      <td>1055</td>\n",
       "      <td>817</td>\n",
       "    </tr>\n",
       "    <tr>\n",
       "      <th rowspan=\"2\" valign=\"top\">2020-02-15</th>\n",
       "      <th>False</th>\n",
       "      <td>1.184868</td>\n",
       "      <td>10524</td>\n",
       "      <td>8882</td>\n",
       "    </tr>\n",
       "    <tr>\n",
       "      <th>True</th>\n",
       "      <td>1.262806</td>\n",
       "      <td>1134</td>\n",
       "      <td>898</td>\n",
       "    </tr>\n",
       "    <tr>\n",
       "      <th rowspan=\"2\" valign=\"top\">2020-02-16</th>\n",
       "      <th>False</th>\n",
       "      <td>1.188124</td>\n",
       "      <td>10004</td>\n",
       "      <td>8420</td>\n",
       "    </tr>\n",
       "    <tr>\n",
       "      <th>True</th>\n",
       "      <td>1.277904</td>\n",
       "      <td>1122</td>\n",
       "      <td>878</td>\n",
       "    </tr>\n",
       "    <tr>\n",
       "      <th rowspan=\"2\" valign=\"top\">2020-02-17</th>\n",
       "      <th>False</th>\n",
       "      <td>1.201923</td>\n",
       "      <td>9875</td>\n",
       "      <td>8216</td>\n",
       "    </tr>\n",
       "    <tr>\n",
       "      <th>True</th>\n",
       "      <td>1.236128</td>\n",
       "      <td>1047</td>\n",
       "      <td>847</td>\n",
       "    </tr>\n",
       "    <tr>\n",
       "      <th rowspan=\"2\" valign=\"top\">2020-02-18</th>\n",
       "      <th>False</th>\n",
       "      <td>1.199786</td>\n",
       "      <td>10089</td>\n",
       "      <td>8409</td>\n",
       "    </tr>\n",
       "    <tr>\n",
       "      <th>True</th>\n",
       "      <td>1.277005</td>\n",
       "      <td>1194</td>\n",
       "      <td>935</td>\n",
       "    </tr>\n",
       "    <tr>\n",
       "      <th rowspan=\"2\" valign=\"top\">2020-02-19</th>\n",
       "      <th>False</th>\n",
       "      <td>1.207596</td>\n",
       "      <td>9889</td>\n",
       "      <td>8189</td>\n",
       "    </tr>\n",
       "    <tr>\n",
       "      <th>True</th>\n",
       "      <td>1.317514</td>\n",
       "      <td>1166</td>\n",
       "      <td>885</td>\n",
       "    </tr>\n",
       "    <tr>\n",
       "      <th rowspan=\"2\" valign=\"top\">2020-02-20</th>\n",
       "      <th>False</th>\n",
       "      <td>1.199366</td>\n",
       "      <td>8326</td>\n",
       "      <td>6942</td>\n",
       "    </tr>\n",
       "    <tr>\n",
       "      <th>True</th>\n",
       "      <td>1.263421</td>\n",
       "      <td>1012</td>\n",
       "      <td>801</td>\n",
       "    </tr>\n",
       "    <tr>\n",
       "      <th rowspan=\"20\" valign=\"top\">sg</th>\n",
       "      <th rowspan=\"2\" valign=\"top\">2020-02-11</th>\n",
       "      <th>False</th>\n",
       "      <td>1.322245</td>\n",
       "      <td>69841</td>\n",
       "      <td>52820</td>\n",
       "    </tr>\n",
       "    <tr>\n",
       "      <th>True</th>\n",
       "      <td>1.480078</td>\n",
       "      <td>4569</td>\n",
       "      <td>3087</td>\n",
       "    </tr>\n",
       "    <tr>\n",
       "      <th rowspan=\"2\" valign=\"top\">2020-02-12</th>\n",
       "      <th>False</th>\n",
       "      <td>1.316346</td>\n",
       "      <td>64809</td>\n",
       "      <td>49234</td>\n",
       "    </tr>\n",
       "    <tr>\n",
       "      <th>True</th>\n",
       "      <td>1.436339</td>\n",
       "      <td>4174</td>\n",
       "      <td>2906</td>\n",
       "    </tr>\n",
       "    <tr>\n",
       "      <th rowspan=\"2\" valign=\"top\">2020-02-13</th>\n",
       "      <th>False</th>\n",
       "      <td>1.311540</td>\n",
       "      <td>63030</td>\n",
       "      <td>48058</td>\n",
       "    </tr>\n",
       "    <tr>\n",
       "      <th>True</th>\n",
       "      <td>1.421089</td>\n",
       "      <td>4070</td>\n",
       "      <td>2864</td>\n",
       "    </tr>\n",
       "    <tr>\n",
       "      <th rowspan=\"2\" valign=\"top\">2020-02-14</th>\n",
       "      <th>False</th>\n",
       "      <td>1.315966</td>\n",
       "      <td>61832</td>\n",
       "      <td>46986</td>\n",
       "    </tr>\n",
       "    <tr>\n",
       "      <th>True</th>\n",
       "      <td>1.402403</td>\n",
       "      <td>3851</td>\n",
       "      <td>2746</td>\n",
       "    </tr>\n",
       "    <tr>\n",
       "      <th rowspan=\"2\" valign=\"top\">2020-02-15</th>\n",
       "      <th>False</th>\n",
       "      <td>1.347551</td>\n",
       "      <td>67073</td>\n",
       "      <td>49774</td>\n",
       "    </tr>\n",
       "    <tr>\n",
       "      <th>True</th>\n",
       "      <td>1.412385</td>\n",
       "      <td>4151</td>\n",
       "      <td>2939</td>\n",
       "    </tr>\n",
       "    <tr>\n",
       "      <th rowspan=\"2\" valign=\"top\">2020-02-16</th>\n",
       "      <th>False</th>\n",
       "      <td>1.364282</td>\n",
       "      <td>70311</td>\n",
       "      <td>51537</td>\n",
       "    </tr>\n",
       "    <tr>\n",
       "      <th>True</th>\n",
       "      <td>1.472894</td>\n",
       "      <td>4510</td>\n",
       "      <td>3062</td>\n",
       "    </tr>\n",
       "    <tr>\n",
       "      <th rowspan=\"2\" valign=\"top\">2020-02-17</th>\n",
       "      <th>False</th>\n",
       "      <td>1.283860</td>\n",
       "      <td>83008</td>\n",
       "      <td>64655</td>\n",
       "    </tr>\n",
       "    <tr>\n",
       "      <th>True</th>\n",
       "      <td>1.365560</td>\n",
       "      <td>5099</td>\n",
       "      <td>3734</td>\n",
       "    </tr>\n",
       "    <tr>\n",
       "      <th rowspan=\"2\" valign=\"top\">2020-02-18</th>\n",
       "      <th>False</th>\n",
       "      <td>1.300162</td>\n",
       "      <td>82858</td>\n",
       "      <td>63729</td>\n",
       "    </tr>\n",
       "    <tr>\n",
       "      <th>True</th>\n",
       "      <td>1.363959</td>\n",
       "      <td>5003</td>\n",
       "      <td>3668</td>\n",
       "    </tr>\n",
       "    <tr>\n",
       "      <th rowspan=\"2\" valign=\"top\">2020-02-19</th>\n",
       "      <th>False</th>\n",
       "      <td>1.321656</td>\n",
       "      <td>70476</td>\n",
       "      <td>53324</td>\n",
       "    </tr>\n",
       "    <tr>\n",
       "      <th>True</th>\n",
       "      <td>1.440950</td>\n",
       "      <td>4490</td>\n",
       "      <td>3116</td>\n",
       "    </tr>\n",
       "    <tr>\n",
       "      <th rowspan=\"2\" valign=\"top\">2020-02-20</th>\n",
       "      <th>False</th>\n",
       "      <td>1.308177</td>\n",
       "      <td>57497</td>\n",
       "      <td>43952</td>\n",
       "    </tr>\n",
       "    <tr>\n",
       "      <th>True</th>\n",
       "      <td>1.419380</td>\n",
       "      <td>3618</td>\n",
       "      <td>2549</td>\n",
       "    </tr>\n",
       "  </tbody>\n",
       "</table>\n",
       "</div>"
      ],
      "text/plain": [
       "                                    count              \n",
       "                                     mean    sum  count\n",
       "country_code date       is_test                        \n",
       "hk           2020-02-11 False    1.196949   9572   7997\n",
       "                        True     1.197531     97     81\n",
       "             2020-02-12 False    1.193076  10029   8406\n",
       "                        True     1.405405    104     74\n",
       "             2020-02-13 False    1.195228  10169   8508\n",
       "                        True     1.267257    716    565\n",
       "             2020-02-14 False    1.179750   9077   7694\n",
       "                        True     1.291310   1055    817\n",
       "             2020-02-15 False    1.184868  10524   8882\n",
       "                        True     1.262806   1134    898\n",
       "             2020-02-16 False    1.188124  10004   8420\n",
       "                        True     1.277904   1122    878\n",
       "             2020-02-17 False    1.201923   9875   8216\n",
       "                        True     1.236128   1047    847\n",
       "             2020-02-18 False    1.199786  10089   8409\n",
       "                        True     1.277005   1194    935\n",
       "             2020-02-19 False    1.207596   9889   8189\n",
       "                        True     1.317514   1166    885\n",
       "             2020-02-20 False    1.199366   8326   6942\n",
       "                        True     1.263421   1012    801\n",
       "sg           2020-02-11 False    1.322245  69841  52820\n",
       "                        True     1.480078   4569   3087\n",
       "             2020-02-12 False    1.316346  64809  49234\n",
       "                        True     1.436339   4174   2906\n",
       "             2020-02-13 False    1.311540  63030  48058\n",
       "                        True     1.421089   4070   2864\n",
       "             2020-02-14 False    1.315966  61832  46986\n",
       "                        True     1.402403   3851   2746\n",
       "             2020-02-15 False    1.347551  67073  49774\n",
       "                        True     1.412385   4151   2939\n",
       "             2020-02-16 False    1.364282  70311  51537\n",
       "                        True     1.472894   4510   3062\n",
       "             2020-02-17 False    1.283860  83008  64655\n",
       "                        True     1.365560   5099   3734\n",
       "             2020-02-18 False    1.300162  82858  63729\n",
       "                        True     1.363959   5003   3668\n",
       "             2020-02-19 False    1.321656  70476  53324\n",
       "                        True     1.440950   4490   3116\n",
       "             2020-02-20 False    1.308177  57497  43952\n",
       "                        True     1.419380   3618   2549"
      ]
     },
     "execution_count": 19,
     "metadata": {},
     "output_type": "execute_result"
    }
   ],
   "source": [
    "exclude_user_with_more_than_pageviews = 10\n",
    "average_pageviews_per_user_per_day = pageviews_per_user_per_day[pageviews_per_user_per_day[\"count\"]<=exclude_user_with_more_than_pageviews]\\\n",
    "    .groupby([\"country_code\",\"date\", \"is_test\"])\\\n",
    "    .agg({\"count\":[\"mean\", \"sum\", \"count\"]}) #, \"count\":\"sum\", \"count\":\"sum\"})\n",
    "average_pageviews_per_user_per_day"
   ]
  },
  {
   "cell_type": "code",
   "execution_count": 20,
   "metadata": {},
   "outputs": [],
   "source": [
    "average_pageviews_per_user_per_day.rename(columns={\"sum\":\"num_pageviews\", \"count\":\"num_users\", \"mean\":\"pageviews_per_user\"}, level=1, inplace=True)"
   ]
  },
  {
   "cell_type": "code",
   "execution_count": 21,
   "metadata": {},
   "outputs": [
    {
     "data": {
      "text/html": [
       "<div>\n",
       "<style scoped>\n",
       "    .dataframe tbody tr th:only-of-type {\n",
       "        vertical-align: middle;\n",
       "    }\n",
       "\n",
       "    .dataframe tbody tr th {\n",
       "        vertical-align: top;\n",
       "    }\n",
       "\n",
       "    .dataframe thead tr th {\n",
       "        text-align: left;\n",
       "    }\n",
       "</style>\n",
       "<table border=\"1\" class=\"dataframe\">\n",
       "  <thead>\n",
       "    <tr>\n",
       "      <th></th>\n",
       "      <th>country_code</th>\n",
       "      <th>date</th>\n",
       "      <th>is_test</th>\n",
       "      <th colspan=\"3\" halign=\"left\">aggregates</th>\n",
       "    </tr>\n",
       "    <tr>\n",
       "      <th></th>\n",
       "      <th></th>\n",
       "      <th></th>\n",
       "      <th></th>\n",
       "      <th>pageviews_per_user</th>\n",
       "      <th>num_pageviews</th>\n",
       "      <th>num_users</th>\n",
       "    </tr>\n",
       "  </thead>\n",
       "  <tbody>\n",
       "    <tr>\n",
       "      <th>0</th>\n",
       "      <td>hk</td>\n",
       "      <td>2020-02-11</td>\n",
       "      <td>False</td>\n",
       "      <td>1.196949</td>\n",
       "      <td>9572</td>\n",
       "      <td>7997</td>\n",
       "    </tr>\n",
       "    <tr>\n",
       "      <th>1</th>\n",
       "      <td>hk</td>\n",
       "      <td>2020-02-11</td>\n",
       "      <td>True</td>\n",
       "      <td>1.197531</td>\n",
       "      <td>97</td>\n",
       "      <td>81</td>\n",
       "    </tr>\n",
       "    <tr>\n",
       "      <th>2</th>\n",
       "      <td>hk</td>\n",
       "      <td>2020-02-12</td>\n",
       "      <td>False</td>\n",
       "      <td>1.193076</td>\n",
       "      <td>10029</td>\n",
       "      <td>8406</td>\n",
       "    </tr>\n",
       "    <tr>\n",
       "      <th>3</th>\n",
       "      <td>hk</td>\n",
       "      <td>2020-02-12</td>\n",
       "      <td>True</td>\n",
       "      <td>1.405405</td>\n",
       "      <td>104</td>\n",
       "      <td>74</td>\n",
       "    </tr>\n",
       "    <tr>\n",
       "      <th>4</th>\n",
       "      <td>hk</td>\n",
       "      <td>2020-02-13</td>\n",
       "      <td>False</td>\n",
       "      <td>1.195228</td>\n",
       "      <td>10169</td>\n",
       "      <td>8508</td>\n",
       "    </tr>\n",
       "    <tr>\n",
       "      <th>5</th>\n",
       "      <td>hk</td>\n",
       "      <td>2020-02-13</td>\n",
       "      <td>True</td>\n",
       "      <td>1.267257</td>\n",
       "      <td>716</td>\n",
       "      <td>565</td>\n",
       "    </tr>\n",
       "    <tr>\n",
       "      <th>6</th>\n",
       "      <td>hk</td>\n",
       "      <td>2020-02-14</td>\n",
       "      <td>False</td>\n",
       "      <td>1.179750</td>\n",
       "      <td>9077</td>\n",
       "      <td>7694</td>\n",
       "    </tr>\n",
       "    <tr>\n",
       "      <th>7</th>\n",
       "      <td>hk</td>\n",
       "      <td>2020-02-14</td>\n",
       "      <td>True</td>\n",
       "      <td>1.291310</td>\n",
       "      <td>1055</td>\n",
       "      <td>817</td>\n",
       "    </tr>\n",
       "    <tr>\n",
       "      <th>8</th>\n",
       "      <td>hk</td>\n",
       "      <td>2020-02-15</td>\n",
       "      <td>False</td>\n",
       "      <td>1.184868</td>\n",
       "      <td>10524</td>\n",
       "      <td>8882</td>\n",
       "    </tr>\n",
       "    <tr>\n",
       "      <th>9</th>\n",
       "      <td>hk</td>\n",
       "      <td>2020-02-15</td>\n",
       "      <td>True</td>\n",
       "      <td>1.262806</td>\n",
       "      <td>1134</td>\n",
       "      <td>898</td>\n",
       "    </tr>\n",
       "    <tr>\n",
       "      <th>10</th>\n",
       "      <td>hk</td>\n",
       "      <td>2020-02-16</td>\n",
       "      <td>False</td>\n",
       "      <td>1.188124</td>\n",
       "      <td>10004</td>\n",
       "      <td>8420</td>\n",
       "    </tr>\n",
       "    <tr>\n",
       "      <th>11</th>\n",
       "      <td>hk</td>\n",
       "      <td>2020-02-16</td>\n",
       "      <td>True</td>\n",
       "      <td>1.277904</td>\n",
       "      <td>1122</td>\n",
       "      <td>878</td>\n",
       "    </tr>\n",
       "    <tr>\n",
       "      <th>12</th>\n",
       "      <td>hk</td>\n",
       "      <td>2020-02-17</td>\n",
       "      <td>False</td>\n",
       "      <td>1.201923</td>\n",
       "      <td>9875</td>\n",
       "      <td>8216</td>\n",
       "    </tr>\n",
       "    <tr>\n",
       "      <th>13</th>\n",
       "      <td>hk</td>\n",
       "      <td>2020-02-17</td>\n",
       "      <td>True</td>\n",
       "      <td>1.236128</td>\n",
       "      <td>1047</td>\n",
       "      <td>847</td>\n",
       "    </tr>\n",
       "    <tr>\n",
       "      <th>14</th>\n",
       "      <td>hk</td>\n",
       "      <td>2020-02-18</td>\n",
       "      <td>False</td>\n",
       "      <td>1.199786</td>\n",
       "      <td>10089</td>\n",
       "      <td>8409</td>\n",
       "    </tr>\n",
       "    <tr>\n",
       "      <th>15</th>\n",
       "      <td>hk</td>\n",
       "      <td>2020-02-18</td>\n",
       "      <td>True</td>\n",
       "      <td>1.277005</td>\n",
       "      <td>1194</td>\n",
       "      <td>935</td>\n",
       "    </tr>\n",
       "    <tr>\n",
       "      <th>16</th>\n",
       "      <td>hk</td>\n",
       "      <td>2020-02-19</td>\n",
       "      <td>False</td>\n",
       "      <td>1.207596</td>\n",
       "      <td>9889</td>\n",
       "      <td>8189</td>\n",
       "    </tr>\n",
       "    <tr>\n",
       "      <th>17</th>\n",
       "      <td>hk</td>\n",
       "      <td>2020-02-19</td>\n",
       "      <td>True</td>\n",
       "      <td>1.317514</td>\n",
       "      <td>1166</td>\n",
       "      <td>885</td>\n",
       "    </tr>\n",
       "    <tr>\n",
       "      <th>18</th>\n",
       "      <td>hk</td>\n",
       "      <td>2020-02-20</td>\n",
       "      <td>False</td>\n",
       "      <td>1.199366</td>\n",
       "      <td>8326</td>\n",
       "      <td>6942</td>\n",
       "    </tr>\n",
       "    <tr>\n",
       "      <th>19</th>\n",
       "      <td>hk</td>\n",
       "      <td>2020-02-20</td>\n",
       "      <td>True</td>\n",
       "      <td>1.263421</td>\n",
       "      <td>1012</td>\n",
       "      <td>801</td>\n",
       "    </tr>\n",
       "    <tr>\n",
       "      <th>20</th>\n",
       "      <td>sg</td>\n",
       "      <td>2020-02-11</td>\n",
       "      <td>False</td>\n",
       "      <td>1.322245</td>\n",
       "      <td>69841</td>\n",
       "      <td>52820</td>\n",
       "    </tr>\n",
       "    <tr>\n",
       "      <th>21</th>\n",
       "      <td>sg</td>\n",
       "      <td>2020-02-11</td>\n",
       "      <td>True</td>\n",
       "      <td>1.480078</td>\n",
       "      <td>4569</td>\n",
       "      <td>3087</td>\n",
       "    </tr>\n",
       "    <tr>\n",
       "      <th>22</th>\n",
       "      <td>sg</td>\n",
       "      <td>2020-02-12</td>\n",
       "      <td>False</td>\n",
       "      <td>1.316346</td>\n",
       "      <td>64809</td>\n",
       "      <td>49234</td>\n",
       "    </tr>\n",
       "    <tr>\n",
       "      <th>23</th>\n",
       "      <td>sg</td>\n",
       "      <td>2020-02-12</td>\n",
       "      <td>True</td>\n",
       "      <td>1.436339</td>\n",
       "      <td>4174</td>\n",
       "      <td>2906</td>\n",
       "    </tr>\n",
       "    <tr>\n",
       "      <th>24</th>\n",
       "      <td>sg</td>\n",
       "      <td>2020-02-13</td>\n",
       "      <td>False</td>\n",
       "      <td>1.311540</td>\n",
       "      <td>63030</td>\n",
       "      <td>48058</td>\n",
       "    </tr>\n",
       "    <tr>\n",
       "      <th>25</th>\n",
       "      <td>sg</td>\n",
       "      <td>2020-02-13</td>\n",
       "      <td>True</td>\n",
       "      <td>1.421089</td>\n",
       "      <td>4070</td>\n",
       "      <td>2864</td>\n",
       "    </tr>\n",
       "    <tr>\n",
       "      <th>26</th>\n",
       "      <td>sg</td>\n",
       "      <td>2020-02-14</td>\n",
       "      <td>False</td>\n",
       "      <td>1.315966</td>\n",
       "      <td>61832</td>\n",
       "      <td>46986</td>\n",
       "    </tr>\n",
       "    <tr>\n",
       "      <th>27</th>\n",
       "      <td>sg</td>\n",
       "      <td>2020-02-14</td>\n",
       "      <td>True</td>\n",
       "      <td>1.402403</td>\n",
       "      <td>3851</td>\n",
       "      <td>2746</td>\n",
       "    </tr>\n",
       "    <tr>\n",
       "      <th>28</th>\n",
       "      <td>sg</td>\n",
       "      <td>2020-02-15</td>\n",
       "      <td>False</td>\n",
       "      <td>1.347551</td>\n",
       "      <td>67073</td>\n",
       "      <td>49774</td>\n",
       "    </tr>\n",
       "    <tr>\n",
       "      <th>29</th>\n",
       "      <td>sg</td>\n",
       "      <td>2020-02-15</td>\n",
       "      <td>True</td>\n",
       "      <td>1.412385</td>\n",
       "      <td>4151</td>\n",
       "      <td>2939</td>\n",
       "    </tr>\n",
       "    <tr>\n",
       "      <th>30</th>\n",
       "      <td>sg</td>\n",
       "      <td>2020-02-16</td>\n",
       "      <td>False</td>\n",
       "      <td>1.364282</td>\n",
       "      <td>70311</td>\n",
       "      <td>51537</td>\n",
       "    </tr>\n",
       "    <tr>\n",
       "      <th>31</th>\n",
       "      <td>sg</td>\n",
       "      <td>2020-02-16</td>\n",
       "      <td>True</td>\n",
       "      <td>1.472894</td>\n",
       "      <td>4510</td>\n",
       "      <td>3062</td>\n",
       "    </tr>\n",
       "    <tr>\n",
       "      <th>32</th>\n",
       "      <td>sg</td>\n",
       "      <td>2020-02-17</td>\n",
       "      <td>False</td>\n",
       "      <td>1.283860</td>\n",
       "      <td>83008</td>\n",
       "      <td>64655</td>\n",
       "    </tr>\n",
       "    <tr>\n",
       "      <th>33</th>\n",
       "      <td>sg</td>\n",
       "      <td>2020-02-17</td>\n",
       "      <td>True</td>\n",
       "      <td>1.365560</td>\n",
       "      <td>5099</td>\n",
       "      <td>3734</td>\n",
       "    </tr>\n",
       "    <tr>\n",
       "      <th>34</th>\n",
       "      <td>sg</td>\n",
       "      <td>2020-02-18</td>\n",
       "      <td>False</td>\n",
       "      <td>1.300162</td>\n",
       "      <td>82858</td>\n",
       "      <td>63729</td>\n",
       "    </tr>\n",
       "    <tr>\n",
       "      <th>35</th>\n",
       "      <td>sg</td>\n",
       "      <td>2020-02-18</td>\n",
       "      <td>True</td>\n",
       "      <td>1.363959</td>\n",
       "      <td>5003</td>\n",
       "      <td>3668</td>\n",
       "    </tr>\n",
       "    <tr>\n",
       "      <th>36</th>\n",
       "      <td>sg</td>\n",
       "      <td>2020-02-19</td>\n",
       "      <td>False</td>\n",
       "      <td>1.321656</td>\n",
       "      <td>70476</td>\n",
       "      <td>53324</td>\n",
       "    </tr>\n",
       "    <tr>\n",
       "      <th>37</th>\n",
       "      <td>sg</td>\n",
       "      <td>2020-02-19</td>\n",
       "      <td>True</td>\n",
       "      <td>1.440950</td>\n",
       "      <td>4490</td>\n",
       "      <td>3116</td>\n",
       "    </tr>\n",
       "    <tr>\n",
       "      <th>38</th>\n",
       "      <td>sg</td>\n",
       "      <td>2020-02-20</td>\n",
       "      <td>False</td>\n",
       "      <td>1.308177</td>\n",
       "      <td>57497</td>\n",
       "      <td>43952</td>\n",
       "    </tr>\n",
       "    <tr>\n",
       "      <th>39</th>\n",
       "      <td>sg</td>\n",
       "      <td>2020-02-20</td>\n",
       "      <td>True</td>\n",
       "      <td>1.419380</td>\n",
       "      <td>3618</td>\n",
       "      <td>2549</td>\n",
       "    </tr>\n",
       "  </tbody>\n",
       "</table>\n",
       "</div>"
      ],
      "text/plain": [
       "   country_code        date is_test         aggregates                        \n",
       "                                    pageviews_per_user num_pageviews num_users\n",
       "0            hk  2020-02-11   False           1.196949          9572      7997\n",
       "1            hk  2020-02-11    True           1.197531            97        81\n",
       "2            hk  2020-02-12   False           1.193076         10029      8406\n",
       "3            hk  2020-02-12    True           1.405405           104        74\n",
       "4            hk  2020-02-13   False           1.195228         10169      8508\n",
       "5            hk  2020-02-13    True           1.267257           716       565\n",
       "6            hk  2020-02-14   False           1.179750          9077      7694\n",
       "7            hk  2020-02-14    True           1.291310          1055       817\n",
       "8            hk  2020-02-15   False           1.184868         10524      8882\n",
       "9            hk  2020-02-15    True           1.262806          1134       898\n",
       "10           hk  2020-02-16   False           1.188124         10004      8420\n",
       "11           hk  2020-02-16    True           1.277904          1122       878\n",
       "12           hk  2020-02-17   False           1.201923          9875      8216\n",
       "13           hk  2020-02-17    True           1.236128          1047       847\n",
       "14           hk  2020-02-18   False           1.199786         10089      8409\n",
       "15           hk  2020-02-18    True           1.277005          1194       935\n",
       "16           hk  2020-02-19   False           1.207596          9889      8189\n",
       "17           hk  2020-02-19    True           1.317514          1166       885\n",
       "18           hk  2020-02-20   False           1.199366          8326      6942\n",
       "19           hk  2020-02-20    True           1.263421          1012       801\n",
       "20           sg  2020-02-11   False           1.322245         69841     52820\n",
       "21           sg  2020-02-11    True           1.480078          4569      3087\n",
       "22           sg  2020-02-12   False           1.316346         64809     49234\n",
       "23           sg  2020-02-12    True           1.436339          4174      2906\n",
       "24           sg  2020-02-13   False           1.311540         63030     48058\n",
       "25           sg  2020-02-13    True           1.421089          4070      2864\n",
       "26           sg  2020-02-14   False           1.315966         61832     46986\n",
       "27           sg  2020-02-14    True           1.402403          3851      2746\n",
       "28           sg  2020-02-15   False           1.347551         67073     49774\n",
       "29           sg  2020-02-15    True           1.412385          4151      2939\n",
       "30           sg  2020-02-16   False           1.364282         70311     51537\n",
       "31           sg  2020-02-16    True           1.472894          4510      3062\n",
       "32           sg  2020-02-17   False           1.283860         83008     64655\n",
       "33           sg  2020-02-17    True           1.365560          5099      3734\n",
       "34           sg  2020-02-18   False           1.300162         82858     63729\n",
       "35           sg  2020-02-18    True           1.363959          5003      3668\n",
       "36           sg  2020-02-19   False           1.321656         70476     53324\n",
       "37           sg  2020-02-19    True           1.440950          4490      3116\n",
       "38           sg  2020-02-20   False           1.308177         57497     43952\n",
       "39           sg  2020-02-20    True           1.419380          3618      2549"
      ]
     },
     "execution_count": 21,
     "metadata": {},
     "output_type": "execute_result"
    }
   ],
   "source": [
    "#average_pageviews_per_user_per_day.columns =average_pageviews_per_user_per_day.columns.get_level_values(0)\n",
    "average_pageviews_per_user_per_day = average_pageviews_per_user_per_day.reset_index()\n",
    "average_pageviews_per_user_per_day.rename(columns={\"count\":\"aggregates\"}, level=0, inplace=True)\n",
    "#average_pageviews_per_user_per_day.rename(columns={average_pageviews_per_user_per_day.columns[3]:\"pageviews_per_user\", average_pageviews_per_user_per_day.columns[4]:\"pageviews\", average_pageviews_per_user_per_day.columns[5]:\"users\"},inplace=True)\n",
    "average_pageviews_per_user_per_day\n",
    "#TODO: sort out the column naming"
   ]
  },
  {
   "cell_type": "code",
   "execution_count": null,
   "metadata": {},
   "outputs": [],
   "source": []
  },
  {
   "cell_type": "code",
   "execution_count": 22,
   "metadata": {},
   "outputs": [],
   "source": [
    "#test_pv = average_pageviews_per_user_per_day[average_pageviews_per_user_per_day.is_test]\n",
    "#control_pv = test_pv = average_pageviews_per_user_per_day[~average_pageviews_per_user_per_day.is_test]"
   ]
  },
  {
   "cell_type": "code",
   "execution_count": null,
   "metadata": {},
   "outputs": [],
   "source": []
  },
  {
   "cell_type": "code",
   "execution_count": 23,
   "metadata": {},
   "outputs": [
    {
     "name": "stderr",
     "output_type": "stream",
     "text": [
      "/home/ec2-user/anaconda3/envs/python3/lib/python3.6/site-packages/pandas/core/generic.py:3812: PerformanceWarning:\n",
      "\n",
      "dropping on a non-lexsorted multi-index without a level parameter may impact performance.\n",
      "\n"
     ]
    }
   ],
   "source": [
    "pv = pd.pivot_table(average_pageviews_per_user_per_day, index=[\"country_code\", \"date\"], values=[\"aggregates\"], columns=[\"is_test\"], fill_value=\"\")\n"
   ]
  },
  {
   "cell_type": "code",
   "execution_count": null,
   "metadata": {},
   "outputs": [],
   "source": []
  },
  {
   "cell_type": "code",
   "execution_count": null,
   "metadata": {},
   "outputs": [],
   "source": []
  },
  {
   "cell_type": "code",
   "execution_count": 24,
   "metadata": {},
   "outputs": [],
   "source": [
    "pv[\"aggregates\", \"pageviews_per_user\", \"v2_vs_v1\"] = pv[\"aggregates\", \"pageviews_per_user\", True] - pv[\"aggregates\", \"pageviews_per_user\", False]\n"
   ]
  },
  {
   "cell_type": "code",
   "execution_count": 25,
   "metadata": {},
   "outputs": [
    {
     "data": {
      "text/html": [
       "<style  type=\"text/css\" >\n",
       "</style><table id=\"T_89bd23ae_5474_11ea_8ff6_054989be1d01\" ><thead>    <tr>        <th class=\"blank\" ></th>        <th class=\"blank level0\" ></th>        <th class=\"col_heading level0 col0\" colspan=7>aggregates</th>    </tr>    <tr>        <th class=\"blank\" ></th>        <th class=\"blank level1\" ></th>        <th class=\"col_heading level1 col0\" colspan=2>num_pageviews</th>        <th class=\"col_heading level1 col2\" colspan=2>num_users</th>        <th class=\"col_heading level1 col4\" colspan=3>pageviews_per_user</th>    </tr>    <tr>        <th class=\"blank\" ></th>        <th class=\"index_name level2\" >is_test</th>        <th class=\"col_heading level2 col0\" >False</th>        <th class=\"col_heading level2 col1\" >True</th>        <th class=\"col_heading level2 col2\" >False</th>        <th class=\"col_heading level2 col3\" >True</th>        <th class=\"col_heading level2 col4\" >False</th>        <th class=\"col_heading level2 col5\" >True</th>        <th class=\"col_heading level2 col6\" >v2_vs_v1</th>    </tr>    <tr>        <th class=\"index_name level0\" >country_code</th>        <th class=\"index_name level1\" >date</th>        <th class=\"blank\" ></th>        <th class=\"blank\" ></th>        <th class=\"blank\" ></th>        <th class=\"blank\" ></th>        <th class=\"blank\" ></th>        <th class=\"blank\" ></th>        <th class=\"blank\" ></th>    </tr></thead><tbody>\n",
       "                <tr>\n",
       "                        <th id=\"T_89bd23ae_5474_11ea_8ff6_054989be1d01level0_row0\" class=\"row_heading level0 row0\" rowspan=10>hk</th>\n",
       "                        <th id=\"T_89bd23ae_5474_11ea_8ff6_054989be1d01level1_row0\" class=\"row_heading level1 row0\" >2020-02-11</th>\n",
       "                        <td id=\"T_89bd23ae_5474_11ea_8ff6_054989be1d01row0_col0\" class=\"data row0 col0\" >9572</td>\n",
       "                        <td id=\"T_89bd23ae_5474_11ea_8ff6_054989be1d01row0_col1\" class=\"data row0 col1\" >97</td>\n",
       "                        <td id=\"T_89bd23ae_5474_11ea_8ff6_054989be1d01row0_col2\" class=\"data row0 col2\" >7997</td>\n",
       "                        <td id=\"T_89bd23ae_5474_11ea_8ff6_054989be1d01row0_col3\" class=\"data row0 col3\" >81</td>\n",
       "                        <td id=\"T_89bd23ae_5474_11ea_8ff6_054989be1d01row0_col4\" class=\"data row0 col4\" >1.19695</td>\n",
       "                        <td id=\"T_89bd23ae_5474_11ea_8ff6_054989be1d01row0_col5\" class=\"data row0 col5\" >1.19753</td>\n",
       "                        <td id=\"T_89bd23ae_5474_11ea_8ff6_054989be1d01row0_col6\" class=\"data row0 col6\" >0.000582008</td>\n",
       "            </tr>\n",
       "            <tr>\n",
       "                                <th id=\"T_89bd23ae_5474_11ea_8ff6_054989be1d01level1_row1\" class=\"row_heading level1 row1\" >2020-02-12</th>\n",
       "                        <td id=\"T_89bd23ae_5474_11ea_8ff6_054989be1d01row1_col0\" class=\"data row1 col0\" >10029</td>\n",
       "                        <td id=\"T_89bd23ae_5474_11ea_8ff6_054989be1d01row1_col1\" class=\"data row1 col1\" >104</td>\n",
       "                        <td id=\"T_89bd23ae_5474_11ea_8ff6_054989be1d01row1_col2\" class=\"data row1 col2\" >8406</td>\n",
       "                        <td id=\"T_89bd23ae_5474_11ea_8ff6_054989be1d01row1_col3\" class=\"data row1 col3\" >74</td>\n",
       "                        <td id=\"T_89bd23ae_5474_11ea_8ff6_054989be1d01row1_col4\" class=\"data row1 col4\" >1.19308</td>\n",
       "                        <td id=\"T_89bd23ae_5474_11ea_8ff6_054989be1d01row1_col5\" class=\"data row1 col5\" >1.40541</td>\n",
       "                        <td id=\"T_89bd23ae_5474_11ea_8ff6_054989be1d01row1_col6\" class=\"data row1 col6\" >0.212329</td>\n",
       "            </tr>\n",
       "            <tr>\n",
       "                                <th id=\"T_89bd23ae_5474_11ea_8ff6_054989be1d01level1_row2\" class=\"row_heading level1 row2\" >2020-02-13</th>\n",
       "                        <td id=\"T_89bd23ae_5474_11ea_8ff6_054989be1d01row2_col0\" class=\"data row2 col0\" >10169</td>\n",
       "                        <td id=\"T_89bd23ae_5474_11ea_8ff6_054989be1d01row2_col1\" class=\"data row2 col1\" >716</td>\n",
       "                        <td id=\"T_89bd23ae_5474_11ea_8ff6_054989be1d01row2_col2\" class=\"data row2 col2\" >8508</td>\n",
       "                        <td id=\"T_89bd23ae_5474_11ea_8ff6_054989be1d01row2_col3\" class=\"data row2 col3\" >565</td>\n",
       "                        <td id=\"T_89bd23ae_5474_11ea_8ff6_054989be1d01row2_col4\" class=\"data row2 col4\" >1.19523</td>\n",
       "                        <td id=\"T_89bd23ae_5474_11ea_8ff6_054989be1d01row2_col5\" class=\"data row2 col5\" >1.26726</td>\n",
       "                        <td id=\"T_89bd23ae_5474_11ea_8ff6_054989be1d01row2_col6\" class=\"data row2 col6\" >0.0720286</td>\n",
       "            </tr>\n",
       "            <tr>\n",
       "                                <th id=\"T_89bd23ae_5474_11ea_8ff6_054989be1d01level1_row3\" class=\"row_heading level1 row3\" >2020-02-14</th>\n",
       "                        <td id=\"T_89bd23ae_5474_11ea_8ff6_054989be1d01row3_col0\" class=\"data row3 col0\" >9077</td>\n",
       "                        <td id=\"T_89bd23ae_5474_11ea_8ff6_054989be1d01row3_col1\" class=\"data row3 col1\" >1055</td>\n",
       "                        <td id=\"T_89bd23ae_5474_11ea_8ff6_054989be1d01row3_col2\" class=\"data row3 col2\" >7694</td>\n",
       "                        <td id=\"T_89bd23ae_5474_11ea_8ff6_054989be1d01row3_col3\" class=\"data row3 col3\" >817</td>\n",
       "                        <td id=\"T_89bd23ae_5474_11ea_8ff6_054989be1d01row3_col4\" class=\"data row3 col4\" >1.17975</td>\n",
       "                        <td id=\"T_89bd23ae_5474_11ea_8ff6_054989be1d01row3_col5\" class=\"data row3 col5\" >1.29131</td>\n",
       "                        <td id=\"T_89bd23ae_5474_11ea_8ff6_054989be1d01row3_col6\" class=\"data row3 col6\" >0.111559</td>\n",
       "            </tr>\n",
       "            <tr>\n",
       "                                <th id=\"T_89bd23ae_5474_11ea_8ff6_054989be1d01level1_row4\" class=\"row_heading level1 row4\" >2020-02-15</th>\n",
       "                        <td id=\"T_89bd23ae_5474_11ea_8ff6_054989be1d01row4_col0\" class=\"data row4 col0\" >10524</td>\n",
       "                        <td id=\"T_89bd23ae_5474_11ea_8ff6_054989be1d01row4_col1\" class=\"data row4 col1\" >1134</td>\n",
       "                        <td id=\"T_89bd23ae_5474_11ea_8ff6_054989be1d01row4_col2\" class=\"data row4 col2\" >8882</td>\n",
       "                        <td id=\"T_89bd23ae_5474_11ea_8ff6_054989be1d01row4_col3\" class=\"data row4 col3\" >898</td>\n",
       "                        <td id=\"T_89bd23ae_5474_11ea_8ff6_054989be1d01row4_col4\" class=\"data row4 col4\" >1.18487</td>\n",
       "                        <td id=\"T_89bd23ae_5474_11ea_8ff6_054989be1d01row4_col5\" class=\"data row4 col5\" >1.26281</td>\n",
       "                        <td id=\"T_89bd23ae_5474_11ea_8ff6_054989be1d01row4_col6\" class=\"data row4 col6\" >0.077938</td>\n",
       "            </tr>\n",
       "            <tr>\n",
       "                                <th id=\"T_89bd23ae_5474_11ea_8ff6_054989be1d01level1_row5\" class=\"row_heading level1 row5\" >2020-02-16</th>\n",
       "                        <td id=\"T_89bd23ae_5474_11ea_8ff6_054989be1d01row5_col0\" class=\"data row5 col0\" >10004</td>\n",
       "                        <td id=\"T_89bd23ae_5474_11ea_8ff6_054989be1d01row5_col1\" class=\"data row5 col1\" >1122</td>\n",
       "                        <td id=\"T_89bd23ae_5474_11ea_8ff6_054989be1d01row5_col2\" class=\"data row5 col2\" >8420</td>\n",
       "                        <td id=\"T_89bd23ae_5474_11ea_8ff6_054989be1d01row5_col3\" class=\"data row5 col3\" >878</td>\n",
       "                        <td id=\"T_89bd23ae_5474_11ea_8ff6_054989be1d01row5_col4\" class=\"data row5 col4\" >1.18812</td>\n",
       "                        <td id=\"T_89bd23ae_5474_11ea_8ff6_054989be1d01row5_col5\" class=\"data row5 col5\" >1.2779</td>\n",
       "                        <td id=\"T_89bd23ae_5474_11ea_8ff6_054989be1d01row5_col6\" class=\"data row5 col6\" >0.0897808</td>\n",
       "            </tr>\n",
       "            <tr>\n",
       "                                <th id=\"T_89bd23ae_5474_11ea_8ff6_054989be1d01level1_row6\" class=\"row_heading level1 row6\" >2020-02-17</th>\n",
       "                        <td id=\"T_89bd23ae_5474_11ea_8ff6_054989be1d01row6_col0\" class=\"data row6 col0\" >9875</td>\n",
       "                        <td id=\"T_89bd23ae_5474_11ea_8ff6_054989be1d01row6_col1\" class=\"data row6 col1\" >1047</td>\n",
       "                        <td id=\"T_89bd23ae_5474_11ea_8ff6_054989be1d01row6_col2\" class=\"data row6 col2\" >8216</td>\n",
       "                        <td id=\"T_89bd23ae_5474_11ea_8ff6_054989be1d01row6_col3\" class=\"data row6 col3\" >847</td>\n",
       "                        <td id=\"T_89bd23ae_5474_11ea_8ff6_054989be1d01row6_col4\" class=\"data row6 col4\" >1.20192</td>\n",
       "                        <td id=\"T_89bd23ae_5474_11ea_8ff6_054989be1d01row6_col5\" class=\"data row6 col5\" >1.23613</td>\n",
       "                        <td id=\"T_89bd23ae_5474_11ea_8ff6_054989be1d01row6_col6\" class=\"data row6 col6\" >0.0342044</td>\n",
       "            </tr>\n",
       "            <tr>\n",
       "                                <th id=\"T_89bd23ae_5474_11ea_8ff6_054989be1d01level1_row7\" class=\"row_heading level1 row7\" >2020-02-18</th>\n",
       "                        <td id=\"T_89bd23ae_5474_11ea_8ff6_054989be1d01row7_col0\" class=\"data row7 col0\" >10089</td>\n",
       "                        <td id=\"T_89bd23ae_5474_11ea_8ff6_054989be1d01row7_col1\" class=\"data row7 col1\" >1194</td>\n",
       "                        <td id=\"T_89bd23ae_5474_11ea_8ff6_054989be1d01row7_col2\" class=\"data row7 col2\" >8409</td>\n",
       "                        <td id=\"T_89bd23ae_5474_11ea_8ff6_054989be1d01row7_col3\" class=\"data row7 col3\" >935</td>\n",
       "                        <td id=\"T_89bd23ae_5474_11ea_8ff6_054989be1d01row7_col4\" class=\"data row7 col4\" >1.19979</td>\n",
       "                        <td id=\"T_89bd23ae_5474_11ea_8ff6_054989be1d01row7_col5\" class=\"data row7 col5\" >1.27701</td>\n",
       "                        <td id=\"T_89bd23ae_5474_11ea_8ff6_054989be1d01row7_col6\" class=\"data row7 col6\" >0.0772194</td>\n",
       "            </tr>\n",
       "            <tr>\n",
       "                                <th id=\"T_89bd23ae_5474_11ea_8ff6_054989be1d01level1_row8\" class=\"row_heading level1 row8\" >2020-02-19</th>\n",
       "                        <td id=\"T_89bd23ae_5474_11ea_8ff6_054989be1d01row8_col0\" class=\"data row8 col0\" >9889</td>\n",
       "                        <td id=\"T_89bd23ae_5474_11ea_8ff6_054989be1d01row8_col1\" class=\"data row8 col1\" >1166</td>\n",
       "                        <td id=\"T_89bd23ae_5474_11ea_8ff6_054989be1d01row8_col2\" class=\"data row8 col2\" >8189</td>\n",
       "                        <td id=\"T_89bd23ae_5474_11ea_8ff6_054989be1d01row8_col3\" class=\"data row8 col3\" >885</td>\n",
       "                        <td id=\"T_89bd23ae_5474_11ea_8ff6_054989be1d01row8_col4\" class=\"data row8 col4\" >1.2076</td>\n",
       "                        <td id=\"T_89bd23ae_5474_11ea_8ff6_054989be1d01row8_col5\" class=\"data row8 col5\" >1.31751</td>\n",
       "                        <td id=\"T_89bd23ae_5474_11ea_8ff6_054989be1d01row8_col6\" class=\"data row8 col6\" >0.109919</td>\n",
       "            </tr>\n",
       "            <tr>\n",
       "                                <th id=\"T_89bd23ae_5474_11ea_8ff6_054989be1d01level1_row9\" class=\"row_heading level1 row9\" >2020-02-20</th>\n",
       "                        <td id=\"T_89bd23ae_5474_11ea_8ff6_054989be1d01row9_col0\" class=\"data row9 col0\" >8326</td>\n",
       "                        <td id=\"T_89bd23ae_5474_11ea_8ff6_054989be1d01row9_col1\" class=\"data row9 col1\" >1012</td>\n",
       "                        <td id=\"T_89bd23ae_5474_11ea_8ff6_054989be1d01row9_col2\" class=\"data row9 col2\" >6942</td>\n",
       "                        <td id=\"T_89bd23ae_5474_11ea_8ff6_054989be1d01row9_col3\" class=\"data row9 col3\" >801</td>\n",
       "                        <td id=\"T_89bd23ae_5474_11ea_8ff6_054989be1d01row9_col4\" class=\"data row9 col4\" >1.19937</td>\n",
       "                        <td id=\"T_89bd23ae_5474_11ea_8ff6_054989be1d01row9_col5\" class=\"data row9 col5\" >1.26342</td>\n",
       "                        <td id=\"T_89bd23ae_5474_11ea_8ff6_054989be1d01row9_col6\" class=\"data row9 col6\" >0.0640545</td>\n",
       "            </tr>\n",
       "            <tr>\n",
       "                        <th id=\"T_89bd23ae_5474_11ea_8ff6_054989be1d01level0_row10\" class=\"row_heading level0 row10\" rowspan=10>sg</th>\n",
       "                        <th id=\"T_89bd23ae_5474_11ea_8ff6_054989be1d01level1_row10\" class=\"row_heading level1 row10\" >2020-02-11</th>\n",
       "                        <td id=\"T_89bd23ae_5474_11ea_8ff6_054989be1d01row10_col0\" class=\"data row10 col0\" >69841</td>\n",
       "                        <td id=\"T_89bd23ae_5474_11ea_8ff6_054989be1d01row10_col1\" class=\"data row10 col1\" >4569</td>\n",
       "                        <td id=\"T_89bd23ae_5474_11ea_8ff6_054989be1d01row10_col2\" class=\"data row10 col2\" >52820</td>\n",
       "                        <td id=\"T_89bd23ae_5474_11ea_8ff6_054989be1d01row10_col3\" class=\"data row10 col3\" >3087</td>\n",
       "                        <td id=\"T_89bd23ae_5474_11ea_8ff6_054989be1d01row10_col4\" class=\"data row10 col4\" >1.32225</td>\n",
       "                        <td id=\"T_89bd23ae_5474_11ea_8ff6_054989be1d01row10_col5\" class=\"data row10 col5\" >1.48008</td>\n",
       "                        <td id=\"T_89bd23ae_5474_11ea_8ff6_054989be1d01row10_col6\" class=\"data row10 col6\" >0.157832</td>\n",
       "            </tr>\n",
       "            <tr>\n",
       "                                <th id=\"T_89bd23ae_5474_11ea_8ff6_054989be1d01level1_row11\" class=\"row_heading level1 row11\" >2020-02-12</th>\n",
       "                        <td id=\"T_89bd23ae_5474_11ea_8ff6_054989be1d01row11_col0\" class=\"data row11 col0\" >64809</td>\n",
       "                        <td id=\"T_89bd23ae_5474_11ea_8ff6_054989be1d01row11_col1\" class=\"data row11 col1\" >4174</td>\n",
       "                        <td id=\"T_89bd23ae_5474_11ea_8ff6_054989be1d01row11_col2\" class=\"data row11 col2\" >49234</td>\n",
       "                        <td id=\"T_89bd23ae_5474_11ea_8ff6_054989be1d01row11_col3\" class=\"data row11 col3\" >2906</td>\n",
       "                        <td id=\"T_89bd23ae_5474_11ea_8ff6_054989be1d01row11_col4\" class=\"data row11 col4\" >1.31635</td>\n",
       "                        <td id=\"T_89bd23ae_5474_11ea_8ff6_054989be1d01row11_col5\" class=\"data row11 col5\" >1.43634</td>\n",
       "                        <td id=\"T_89bd23ae_5474_11ea_8ff6_054989be1d01row11_col6\" class=\"data row11 col6\" >0.119992</td>\n",
       "            </tr>\n",
       "            <tr>\n",
       "                                <th id=\"T_89bd23ae_5474_11ea_8ff6_054989be1d01level1_row12\" class=\"row_heading level1 row12\" >2020-02-13</th>\n",
       "                        <td id=\"T_89bd23ae_5474_11ea_8ff6_054989be1d01row12_col0\" class=\"data row12 col0\" >63030</td>\n",
       "                        <td id=\"T_89bd23ae_5474_11ea_8ff6_054989be1d01row12_col1\" class=\"data row12 col1\" >4070</td>\n",
       "                        <td id=\"T_89bd23ae_5474_11ea_8ff6_054989be1d01row12_col2\" class=\"data row12 col2\" >48058</td>\n",
       "                        <td id=\"T_89bd23ae_5474_11ea_8ff6_054989be1d01row12_col3\" class=\"data row12 col3\" >2864</td>\n",
       "                        <td id=\"T_89bd23ae_5474_11ea_8ff6_054989be1d01row12_col4\" class=\"data row12 col4\" >1.31154</td>\n",
       "                        <td id=\"T_89bd23ae_5474_11ea_8ff6_054989be1d01row12_col5\" class=\"data row12 col5\" >1.42109</td>\n",
       "                        <td id=\"T_89bd23ae_5474_11ea_8ff6_054989be1d01row12_col6\" class=\"data row12 col6\" >0.109549</td>\n",
       "            </tr>\n",
       "            <tr>\n",
       "                                <th id=\"T_89bd23ae_5474_11ea_8ff6_054989be1d01level1_row13\" class=\"row_heading level1 row13\" >2020-02-14</th>\n",
       "                        <td id=\"T_89bd23ae_5474_11ea_8ff6_054989be1d01row13_col0\" class=\"data row13 col0\" >61832</td>\n",
       "                        <td id=\"T_89bd23ae_5474_11ea_8ff6_054989be1d01row13_col1\" class=\"data row13 col1\" >3851</td>\n",
       "                        <td id=\"T_89bd23ae_5474_11ea_8ff6_054989be1d01row13_col2\" class=\"data row13 col2\" >46986</td>\n",
       "                        <td id=\"T_89bd23ae_5474_11ea_8ff6_054989be1d01row13_col3\" class=\"data row13 col3\" >2746</td>\n",
       "                        <td id=\"T_89bd23ae_5474_11ea_8ff6_054989be1d01row13_col4\" class=\"data row13 col4\" >1.31597</td>\n",
       "                        <td id=\"T_89bd23ae_5474_11ea_8ff6_054989be1d01row13_col5\" class=\"data row13 col5\" >1.4024</td>\n",
       "                        <td id=\"T_89bd23ae_5474_11ea_8ff6_054989be1d01row13_col6\" class=\"data row13 col6\" >0.086437</td>\n",
       "            </tr>\n",
       "            <tr>\n",
       "                                <th id=\"T_89bd23ae_5474_11ea_8ff6_054989be1d01level1_row14\" class=\"row_heading level1 row14\" >2020-02-15</th>\n",
       "                        <td id=\"T_89bd23ae_5474_11ea_8ff6_054989be1d01row14_col0\" class=\"data row14 col0\" >67073</td>\n",
       "                        <td id=\"T_89bd23ae_5474_11ea_8ff6_054989be1d01row14_col1\" class=\"data row14 col1\" >4151</td>\n",
       "                        <td id=\"T_89bd23ae_5474_11ea_8ff6_054989be1d01row14_col2\" class=\"data row14 col2\" >49774</td>\n",
       "                        <td id=\"T_89bd23ae_5474_11ea_8ff6_054989be1d01row14_col3\" class=\"data row14 col3\" >2939</td>\n",
       "                        <td id=\"T_89bd23ae_5474_11ea_8ff6_054989be1d01row14_col4\" class=\"data row14 col4\" >1.34755</td>\n",
       "                        <td id=\"T_89bd23ae_5474_11ea_8ff6_054989be1d01row14_col5\" class=\"data row14 col5\" >1.41239</td>\n",
       "                        <td id=\"T_89bd23ae_5474_11ea_8ff6_054989be1d01row14_col6\" class=\"data row14 col6\" >0.0648342</td>\n",
       "            </tr>\n",
       "            <tr>\n",
       "                                <th id=\"T_89bd23ae_5474_11ea_8ff6_054989be1d01level1_row15\" class=\"row_heading level1 row15\" >2020-02-16</th>\n",
       "                        <td id=\"T_89bd23ae_5474_11ea_8ff6_054989be1d01row15_col0\" class=\"data row15 col0\" >70311</td>\n",
       "                        <td id=\"T_89bd23ae_5474_11ea_8ff6_054989be1d01row15_col1\" class=\"data row15 col1\" >4510</td>\n",
       "                        <td id=\"T_89bd23ae_5474_11ea_8ff6_054989be1d01row15_col2\" class=\"data row15 col2\" >51537</td>\n",
       "                        <td id=\"T_89bd23ae_5474_11ea_8ff6_054989be1d01row15_col3\" class=\"data row15 col3\" >3062</td>\n",
       "                        <td id=\"T_89bd23ae_5474_11ea_8ff6_054989be1d01row15_col4\" class=\"data row15 col4\" >1.36428</td>\n",
       "                        <td id=\"T_89bd23ae_5474_11ea_8ff6_054989be1d01row15_col5\" class=\"data row15 col5\" >1.47289</td>\n",
       "                        <td id=\"T_89bd23ae_5474_11ea_8ff6_054989be1d01row15_col6\" class=\"data row15 col6\" >0.108612</td>\n",
       "            </tr>\n",
       "            <tr>\n",
       "                                <th id=\"T_89bd23ae_5474_11ea_8ff6_054989be1d01level1_row16\" class=\"row_heading level1 row16\" >2020-02-17</th>\n",
       "                        <td id=\"T_89bd23ae_5474_11ea_8ff6_054989be1d01row16_col0\" class=\"data row16 col0\" >83008</td>\n",
       "                        <td id=\"T_89bd23ae_5474_11ea_8ff6_054989be1d01row16_col1\" class=\"data row16 col1\" >5099</td>\n",
       "                        <td id=\"T_89bd23ae_5474_11ea_8ff6_054989be1d01row16_col2\" class=\"data row16 col2\" >64655</td>\n",
       "                        <td id=\"T_89bd23ae_5474_11ea_8ff6_054989be1d01row16_col3\" class=\"data row16 col3\" >3734</td>\n",
       "                        <td id=\"T_89bd23ae_5474_11ea_8ff6_054989be1d01row16_col4\" class=\"data row16 col4\" >1.28386</td>\n",
       "                        <td id=\"T_89bd23ae_5474_11ea_8ff6_054989be1d01row16_col5\" class=\"data row16 col5\" >1.36556</td>\n",
       "                        <td id=\"T_89bd23ae_5474_11ea_8ff6_054989be1d01row16_col6\" class=\"data row16 col6\" >0.0816992</td>\n",
       "            </tr>\n",
       "            <tr>\n",
       "                                <th id=\"T_89bd23ae_5474_11ea_8ff6_054989be1d01level1_row17\" class=\"row_heading level1 row17\" >2020-02-18</th>\n",
       "                        <td id=\"T_89bd23ae_5474_11ea_8ff6_054989be1d01row17_col0\" class=\"data row17 col0\" >82858</td>\n",
       "                        <td id=\"T_89bd23ae_5474_11ea_8ff6_054989be1d01row17_col1\" class=\"data row17 col1\" >5003</td>\n",
       "                        <td id=\"T_89bd23ae_5474_11ea_8ff6_054989be1d01row17_col2\" class=\"data row17 col2\" >63729</td>\n",
       "                        <td id=\"T_89bd23ae_5474_11ea_8ff6_054989be1d01row17_col3\" class=\"data row17 col3\" >3668</td>\n",
       "                        <td id=\"T_89bd23ae_5474_11ea_8ff6_054989be1d01row17_col4\" class=\"data row17 col4\" >1.30016</td>\n",
       "                        <td id=\"T_89bd23ae_5474_11ea_8ff6_054989be1d01row17_col5\" class=\"data row17 col5\" >1.36396</td>\n",
       "                        <td id=\"T_89bd23ae_5474_11ea_8ff6_054989be1d01row17_col6\" class=\"data row17 col6\" >0.0637969</td>\n",
       "            </tr>\n",
       "            <tr>\n",
       "                                <th id=\"T_89bd23ae_5474_11ea_8ff6_054989be1d01level1_row18\" class=\"row_heading level1 row18\" >2020-02-19</th>\n",
       "                        <td id=\"T_89bd23ae_5474_11ea_8ff6_054989be1d01row18_col0\" class=\"data row18 col0\" >70476</td>\n",
       "                        <td id=\"T_89bd23ae_5474_11ea_8ff6_054989be1d01row18_col1\" class=\"data row18 col1\" >4490</td>\n",
       "                        <td id=\"T_89bd23ae_5474_11ea_8ff6_054989be1d01row18_col2\" class=\"data row18 col2\" >53324</td>\n",
       "                        <td id=\"T_89bd23ae_5474_11ea_8ff6_054989be1d01row18_col3\" class=\"data row18 col3\" >3116</td>\n",
       "                        <td id=\"T_89bd23ae_5474_11ea_8ff6_054989be1d01row18_col4\" class=\"data row18 col4\" >1.32166</td>\n",
       "                        <td id=\"T_89bd23ae_5474_11ea_8ff6_054989be1d01row18_col5\" class=\"data row18 col5\" >1.44095</td>\n",
       "                        <td id=\"T_89bd23ae_5474_11ea_8ff6_054989be1d01row18_col6\" class=\"data row18 col6\" >0.119294</td>\n",
       "            </tr>\n",
       "            <tr>\n",
       "                                <th id=\"T_89bd23ae_5474_11ea_8ff6_054989be1d01level1_row19\" class=\"row_heading level1 row19\" >2020-02-20</th>\n",
       "                        <td id=\"T_89bd23ae_5474_11ea_8ff6_054989be1d01row19_col0\" class=\"data row19 col0\" >57497</td>\n",
       "                        <td id=\"T_89bd23ae_5474_11ea_8ff6_054989be1d01row19_col1\" class=\"data row19 col1\" >3618</td>\n",
       "                        <td id=\"T_89bd23ae_5474_11ea_8ff6_054989be1d01row19_col2\" class=\"data row19 col2\" >43952</td>\n",
       "                        <td id=\"T_89bd23ae_5474_11ea_8ff6_054989be1d01row19_col3\" class=\"data row19 col3\" >2549</td>\n",
       "                        <td id=\"T_89bd23ae_5474_11ea_8ff6_054989be1d01row19_col4\" class=\"data row19 col4\" >1.30818</td>\n",
       "                        <td id=\"T_89bd23ae_5474_11ea_8ff6_054989be1d01row19_col5\" class=\"data row19 col5\" >1.41938</td>\n",
       "                        <td id=\"T_89bd23ae_5474_11ea_8ff6_054989be1d01row19_col6\" class=\"data row19 col6\" >0.111203</td>\n",
       "            </tr>\n",
       "    </tbody></table>"
      ],
      "text/plain": [
       "<pandas.io.formats.style.Styler at 0x7f0592de4ba8>"
      ]
     },
     "execution_count": 25,
     "metadata": {},
     "output_type": "execute_result"
    }
   ],
   "source": [
    "\n",
    "def color_negatives(x):\n",
    "    if x>=0:\n",
    "        #return \"color:green\"\n",
    "        return \"\"\n",
    "    return \"background-color:pink\"\n",
    "\n",
    "pv.style.applymap(color_negatives, subset=[\"aggregates\", \"mean\",\"v2_vs_v1\"]) #TODO: this isn't working as intended, but hack works."
   ]
  },
  {
   "cell_type": "code",
   "execution_count": 26,
   "metadata": {},
   "outputs": [],
   "source": [
    "pv2 = pv.reset_index()"
   ]
  },
  {
   "cell_type": "code",
   "execution_count": 27,
   "metadata": {},
   "outputs": [
    {
     "data": {
      "text/plain": [
       "array([1.48007775, 1.43633861, 1.42108939, 1.4024035 , 1.41238517,\n",
       "       1.47289353, 1.36555972, 1.36395856, 1.44094994, 1.41938015])"
      ]
     },
     "execution_count": 27,
     "metadata": {},
     "output_type": "execute_result"
    }
   ],
   "source": [
    "pv2[(pv2.country_code==country)][\"aggregates\", \"pageviews_per_user\", True].values"
   ]
  },
  {
   "cell_type": "code",
   "execution_count": 28,
   "metadata": {},
   "outputs": [
    {
     "data": {
      "text/plain": [
       "10    2020-02-11\n",
       "11    2020-02-12\n",
       "12    2020-02-13\n",
       "13    2020-02-14\n",
       "14    2020-02-15\n",
       "15    2020-02-16\n",
       "16    2020-02-17\n",
       "17    2020-02-18\n",
       "18    2020-02-19\n",
       "19    2020-02-20\n",
       "Name: date, dtype: object"
      ]
     },
     "execution_count": 28,
     "metadata": {},
     "output_type": "execute_result"
    }
   ],
   "source": [
    "pv2[pv2.country_code==\"sg\"].date"
   ]
  },
  {
   "cell_type": "code",
   "execution_count": 29,
   "metadata": {},
   "outputs": [
    {
     "data": {
      "application/vnd.plotly.v1+json": {
       "config": {
        "plotlyServerURL": "https://plot.ly"
       },
       "data": [
        {
         "line": {
          "color": "green"
         },
         "mode": "lines",
         "name": "hk v2",
         "type": "scatter",
         "x": [
          "2020-02-11",
          "2020-02-12",
          "2020-02-13",
          "2020-02-14",
          "2020-02-15",
          "2020-02-16",
          "2020-02-17",
          "2020-02-18",
          "2020-02-19",
          "2020-02-20"
         ],
         "xaxis": "x",
         "y": [
          1.1975308641975309,
          1.4054054054054055,
          1.2672566371681415,
          1.2913096695226438,
          1.2628062360801782,
          1.2779043280182232,
          1.2361275088547816,
          1.277005347593583,
          1.3175141242937853,
          1.2634207240948814
         ],
         "yaxis": "y"
        },
        {
         "line": {
          "color": "blue"
         },
         "mode": "lines",
         "name": "hk v1",
         "type": "scatter",
         "x": [
          "2020-02-11",
          "2020-02-12",
          "2020-02-13",
          "2020-02-14",
          "2020-02-15",
          "2020-02-16",
          "2020-02-17",
          "2020-02-18",
          "2020-02-19",
          "2020-02-20"
         ],
         "xaxis": "x",
         "y": [
          1.196948855820933,
          1.1930763740185582,
          1.1952280206864128,
          1.179750454899922,
          1.1848682729115063,
          1.1881235154394298,
          1.2019230769230769,
          1.199785943631823,
          1.2075955550128221,
          1.1993661768942667
         ],
         "yaxis": "y"
        },
        {
         "line": {
          "color": "green"
         },
         "mode": "lines",
         "name": "sg v2",
         "type": "scatter",
         "x": [
          "2020-02-11",
          "2020-02-12",
          "2020-02-13",
          "2020-02-14",
          "2020-02-15",
          "2020-02-16",
          "2020-02-17",
          "2020-02-18",
          "2020-02-19",
          "2020-02-20"
         ],
         "xaxis": "x2",
         "y": [
          1.4800777453838678,
          1.4363386097728836,
          1.4210893854748603,
          1.4024034959941734,
          1.4123851650221164,
          1.472893533638145,
          1.3655597214783075,
          1.363958560523446,
          1.4409499358151476,
          1.4193801490780698
         ],
         "yaxis": "y2"
        },
        {
         "line": {
          "color": "blue"
         },
         "mode": "lines",
         "name": "sg v1",
         "type": "scatter",
         "x": [
          "2020-02-11",
          "2020-02-12",
          "2020-02-13",
          "2020-02-14",
          "2020-02-15",
          "2020-02-16",
          "2020-02-17",
          "2020-02-18",
          "2020-02-19",
          "2020-02-20"
         ],
         "xaxis": "x2",
         "y": [
          1.3222453616054526,
          1.3163464272657106,
          1.3115402222314703,
          1.3159664580939003,
          1.3475509302045245,
          1.3642819721753303,
          1.2838604902946409,
          1.3001616218675955,
          1.3216562898507238,
          1.308177102293411
         ],
         "yaxis": "y2"
        }
       ],
       "layout": {
        "annotations": [
         {
          "font": {
           "size": 16
          },
          "showarrow": false,
          "text": "hk",
          "x": 0.5,
          "xanchor": "center",
          "xref": "paper",
          "y": 1,
          "yanchor": "bottom",
          "yref": "paper"
         },
         {
          "font": {
           "size": 16
          },
          "showarrow": false,
          "text": "sg",
          "x": 0.5,
          "xanchor": "center",
          "xref": "paper",
          "y": 0.375,
          "yanchor": "bottom",
          "yref": "paper"
         }
        ],
        "height": 800,
        "template": {
         "data": {
          "bar": [
           {
            "error_x": {
             "color": "#2a3f5f"
            },
            "error_y": {
             "color": "#2a3f5f"
            },
            "marker": {
             "line": {
              "color": "#E5ECF6",
              "width": 0.5
             }
            },
            "type": "bar"
           }
          ],
          "barpolar": [
           {
            "marker": {
             "line": {
              "color": "#E5ECF6",
              "width": 0.5
             }
            },
            "type": "barpolar"
           }
          ],
          "carpet": [
           {
            "aaxis": {
             "endlinecolor": "#2a3f5f",
             "gridcolor": "white",
             "linecolor": "white",
             "minorgridcolor": "white",
             "startlinecolor": "#2a3f5f"
            },
            "baxis": {
             "endlinecolor": "#2a3f5f",
             "gridcolor": "white",
             "linecolor": "white",
             "minorgridcolor": "white",
             "startlinecolor": "#2a3f5f"
            },
            "type": "carpet"
           }
          ],
          "choropleth": [
           {
            "colorbar": {
             "outlinewidth": 0,
             "ticks": ""
            },
            "type": "choropleth"
           }
          ],
          "contour": [
           {
            "colorbar": {
             "outlinewidth": 0,
             "ticks": ""
            },
            "colorscale": [
             [
              0,
              "#0d0887"
             ],
             [
              0.1111111111111111,
              "#46039f"
             ],
             [
              0.2222222222222222,
              "#7201a8"
             ],
             [
              0.3333333333333333,
              "#9c179e"
             ],
             [
              0.4444444444444444,
              "#bd3786"
             ],
             [
              0.5555555555555556,
              "#d8576b"
             ],
             [
              0.6666666666666666,
              "#ed7953"
             ],
             [
              0.7777777777777778,
              "#fb9f3a"
             ],
             [
              0.8888888888888888,
              "#fdca26"
             ],
             [
              1,
              "#f0f921"
             ]
            ],
            "type": "contour"
           }
          ],
          "contourcarpet": [
           {
            "colorbar": {
             "outlinewidth": 0,
             "ticks": ""
            },
            "type": "contourcarpet"
           }
          ],
          "heatmap": [
           {
            "colorbar": {
             "outlinewidth": 0,
             "ticks": ""
            },
            "colorscale": [
             [
              0,
              "#0d0887"
             ],
             [
              0.1111111111111111,
              "#46039f"
             ],
             [
              0.2222222222222222,
              "#7201a8"
             ],
             [
              0.3333333333333333,
              "#9c179e"
             ],
             [
              0.4444444444444444,
              "#bd3786"
             ],
             [
              0.5555555555555556,
              "#d8576b"
             ],
             [
              0.6666666666666666,
              "#ed7953"
             ],
             [
              0.7777777777777778,
              "#fb9f3a"
             ],
             [
              0.8888888888888888,
              "#fdca26"
             ],
             [
              1,
              "#f0f921"
             ]
            ],
            "type": "heatmap"
           }
          ],
          "heatmapgl": [
           {
            "colorbar": {
             "outlinewidth": 0,
             "ticks": ""
            },
            "colorscale": [
             [
              0,
              "#0d0887"
             ],
             [
              0.1111111111111111,
              "#46039f"
             ],
             [
              0.2222222222222222,
              "#7201a8"
             ],
             [
              0.3333333333333333,
              "#9c179e"
             ],
             [
              0.4444444444444444,
              "#bd3786"
             ],
             [
              0.5555555555555556,
              "#d8576b"
             ],
             [
              0.6666666666666666,
              "#ed7953"
             ],
             [
              0.7777777777777778,
              "#fb9f3a"
             ],
             [
              0.8888888888888888,
              "#fdca26"
             ],
             [
              1,
              "#f0f921"
             ]
            ],
            "type": "heatmapgl"
           }
          ],
          "histogram": [
           {
            "marker": {
             "colorbar": {
              "outlinewidth": 0,
              "ticks": ""
             }
            },
            "type": "histogram"
           }
          ],
          "histogram2d": [
           {
            "colorbar": {
             "outlinewidth": 0,
             "ticks": ""
            },
            "colorscale": [
             [
              0,
              "#0d0887"
             ],
             [
              0.1111111111111111,
              "#46039f"
             ],
             [
              0.2222222222222222,
              "#7201a8"
             ],
             [
              0.3333333333333333,
              "#9c179e"
             ],
             [
              0.4444444444444444,
              "#bd3786"
             ],
             [
              0.5555555555555556,
              "#d8576b"
             ],
             [
              0.6666666666666666,
              "#ed7953"
             ],
             [
              0.7777777777777778,
              "#fb9f3a"
             ],
             [
              0.8888888888888888,
              "#fdca26"
             ],
             [
              1,
              "#f0f921"
             ]
            ],
            "type": "histogram2d"
           }
          ],
          "histogram2dcontour": [
           {
            "colorbar": {
             "outlinewidth": 0,
             "ticks": ""
            },
            "colorscale": [
             [
              0,
              "#0d0887"
             ],
             [
              0.1111111111111111,
              "#46039f"
             ],
             [
              0.2222222222222222,
              "#7201a8"
             ],
             [
              0.3333333333333333,
              "#9c179e"
             ],
             [
              0.4444444444444444,
              "#bd3786"
             ],
             [
              0.5555555555555556,
              "#d8576b"
             ],
             [
              0.6666666666666666,
              "#ed7953"
             ],
             [
              0.7777777777777778,
              "#fb9f3a"
             ],
             [
              0.8888888888888888,
              "#fdca26"
             ],
             [
              1,
              "#f0f921"
             ]
            ],
            "type": "histogram2dcontour"
           }
          ],
          "mesh3d": [
           {
            "colorbar": {
             "outlinewidth": 0,
             "ticks": ""
            },
            "type": "mesh3d"
           }
          ],
          "parcoords": [
           {
            "line": {
             "colorbar": {
              "outlinewidth": 0,
              "ticks": ""
             }
            },
            "type": "parcoords"
           }
          ],
          "pie": [
           {
            "automargin": true,
            "type": "pie"
           }
          ],
          "scatter": [
           {
            "marker": {
             "colorbar": {
              "outlinewidth": 0,
              "ticks": ""
             }
            },
            "type": "scatter"
           }
          ],
          "scatter3d": [
           {
            "line": {
             "colorbar": {
              "outlinewidth": 0,
              "ticks": ""
             }
            },
            "marker": {
             "colorbar": {
              "outlinewidth": 0,
              "ticks": ""
             }
            },
            "type": "scatter3d"
           }
          ],
          "scattercarpet": [
           {
            "marker": {
             "colorbar": {
              "outlinewidth": 0,
              "ticks": ""
             }
            },
            "type": "scattercarpet"
           }
          ],
          "scattergeo": [
           {
            "marker": {
             "colorbar": {
              "outlinewidth": 0,
              "ticks": ""
             }
            },
            "type": "scattergeo"
           }
          ],
          "scattergl": [
           {
            "marker": {
             "colorbar": {
              "outlinewidth": 0,
              "ticks": ""
             }
            },
            "type": "scattergl"
           }
          ],
          "scattermapbox": [
           {
            "marker": {
             "colorbar": {
              "outlinewidth": 0,
              "ticks": ""
             }
            },
            "type": "scattermapbox"
           }
          ],
          "scatterpolar": [
           {
            "marker": {
             "colorbar": {
              "outlinewidth": 0,
              "ticks": ""
             }
            },
            "type": "scatterpolar"
           }
          ],
          "scatterpolargl": [
           {
            "marker": {
             "colorbar": {
              "outlinewidth": 0,
              "ticks": ""
             }
            },
            "type": "scatterpolargl"
           }
          ],
          "scatterternary": [
           {
            "marker": {
             "colorbar": {
              "outlinewidth": 0,
              "ticks": ""
             }
            },
            "type": "scatterternary"
           }
          ],
          "surface": [
           {
            "colorbar": {
             "outlinewidth": 0,
             "ticks": ""
            },
            "colorscale": [
             [
              0,
              "#0d0887"
             ],
             [
              0.1111111111111111,
              "#46039f"
             ],
             [
              0.2222222222222222,
              "#7201a8"
             ],
             [
              0.3333333333333333,
              "#9c179e"
             ],
             [
              0.4444444444444444,
              "#bd3786"
             ],
             [
              0.5555555555555556,
              "#d8576b"
             ],
             [
              0.6666666666666666,
              "#ed7953"
             ],
             [
              0.7777777777777778,
              "#fb9f3a"
             ],
             [
              0.8888888888888888,
              "#fdca26"
             ],
             [
              1,
              "#f0f921"
             ]
            ],
            "type": "surface"
           }
          ],
          "table": [
           {
            "cells": {
             "fill": {
              "color": "#EBF0F8"
             },
             "line": {
              "color": "white"
             }
            },
            "header": {
             "fill": {
              "color": "#C8D4E3"
             },
             "line": {
              "color": "white"
             }
            },
            "type": "table"
           }
          ]
         },
         "layout": {
          "annotationdefaults": {
           "arrowcolor": "#2a3f5f",
           "arrowhead": 0,
           "arrowwidth": 1
          },
          "coloraxis": {
           "colorbar": {
            "outlinewidth": 0,
            "ticks": ""
           }
          },
          "colorscale": {
           "diverging": [
            [
             0,
             "#8e0152"
            ],
            [
             0.1,
             "#c51b7d"
            ],
            [
             0.2,
             "#de77ae"
            ],
            [
             0.3,
             "#f1b6da"
            ],
            [
             0.4,
             "#fde0ef"
            ],
            [
             0.5,
             "#f7f7f7"
            ],
            [
             0.6,
             "#e6f5d0"
            ],
            [
             0.7,
             "#b8e186"
            ],
            [
             0.8,
             "#7fbc41"
            ],
            [
             0.9,
             "#4d9221"
            ],
            [
             1,
             "#276419"
            ]
           ],
           "sequential": [
            [
             0,
             "#0d0887"
            ],
            [
             0.1111111111111111,
             "#46039f"
            ],
            [
             0.2222222222222222,
             "#7201a8"
            ],
            [
             0.3333333333333333,
             "#9c179e"
            ],
            [
             0.4444444444444444,
             "#bd3786"
            ],
            [
             0.5555555555555556,
             "#d8576b"
            ],
            [
             0.6666666666666666,
             "#ed7953"
            ],
            [
             0.7777777777777778,
             "#fb9f3a"
            ],
            [
             0.8888888888888888,
             "#fdca26"
            ],
            [
             1,
             "#f0f921"
            ]
           ],
           "sequentialminus": [
            [
             0,
             "#0d0887"
            ],
            [
             0.1111111111111111,
             "#46039f"
            ],
            [
             0.2222222222222222,
             "#7201a8"
            ],
            [
             0.3333333333333333,
             "#9c179e"
            ],
            [
             0.4444444444444444,
             "#bd3786"
            ],
            [
             0.5555555555555556,
             "#d8576b"
            ],
            [
             0.6666666666666666,
             "#ed7953"
            ],
            [
             0.7777777777777778,
             "#fb9f3a"
            ],
            [
             0.8888888888888888,
             "#fdca26"
            ],
            [
             1,
             "#f0f921"
            ]
           ]
          },
          "colorway": [
           "#636efa",
           "#EF553B",
           "#00cc96",
           "#ab63fa",
           "#FFA15A",
           "#19d3f3",
           "#FF6692",
           "#B6E880",
           "#FF97FF",
           "#FECB52"
          ],
          "font": {
           "color": "#2a3f5f"
          },
          "geo": {
           "bgcolor": "white",
           "lakecolor": "white",
           "landcolor": "#E5ECF6",
           "showlakes": true,
           "showland": true,
           "subunitcolor": "white"
          },
          "hoverlabel": {
           "align": "left"
          },
          "hovermode": "closest",
          "mapbox": {
           "style": "light"
          },
          "paper_bgcolor": "white",
          "plot_bgcolor": "#E5ECF6",
          "polar": {
           "angularaxis": {
            "gridcolor": "white",
            "linecolor": "white",
            "ticks": ""
           },
           "bgcolor": "#E5ECF6",
           "radialaxis": {
            "gridcolor": "white",
            "linecolor": "white",
            "ticks": ""
           }
          },
          "scene": {
           "xaxis": {
            "backgroundcolor": "#E5ECF6",
            "gridcolor": "white",
            "gridwidth": 2,
            "linecolor": "white",
            "showbackground": true,
            "ticks": "",
            "zerolinecolor": "white"
           },
           "yaxis": {
            "backgroundcolor": "#E5ECF6",
            "gridcolor": "white",
            "gridwidth": 2,
            "linecolor": "white",
            "showbackground": true,
            "ticks": "",
            "zerolinecolor": "white"
           },
           "zaxis": {
            "backgroundcolor": "#E5ECF6",
            "gridcolor": "white",
            "gridwidth": 2,
            "linecolor": "white",
            "showbackground": true,
            "ticks": "",
            "zerolinecolor": "white"
           }
          },
          "shapedefaults": {
           "line": {
            "color": "#2a3f5f"
           }
          },
          "ternary": {
           "aaxis": {
            "gridcolor": "white",
            "linecolor": "white",
            "ticks": ""
           },
           "baxis": {
            "gridcolor": "white",
            "linecolor": "white",
            "ticks": ""
           },
           "bgcolor": "#E5ECF6",
           "caxis": {
            "gridcolor": "white",
            "linecolor": "white",
            "ticks": ""
           }
          },
          "title": {
           "x": 0.05
          },
          "xaxis": {
           "automargin": true,
           "gridcolor": "white",
           "linecolor": "white",
           "ticks": "",
           "title": {
            "standoff": 15
           },
           "zerolinecolor": "white",
           "zerolinewidth": 2
          },
          "yaxis": {
           "automargin": true,
           "gridcolor": "white",
           "linecolor": "white",
           "ticks": "",
           "title": {
            "standoff": 15
           },
           "zerolinecolor": "white",
           "zerolinewidth": 2
          }
         }
        },
        "title": {
         "text": "Pageviews Per User Per Day"
        },
        "xaxis": {
         "anchor": "y",
         "domain": [
          0,
          1
         ]
        },
        "xaxis2": {
         "anchor": "y2",
         "domain": [
          0,
          1
         ]
        },
        "yaxis": {
         "anchor": "x",
         "domain": [
          0.625,
          1
         ],
         "range": [
          0,
          1.6054054054054054
         ]
        },
        "yaxis2": {
         "anchor": "x2",
         "domain": [
          0,
          0.375
         ],
         "range": [
          0,
          1.6800777453838678
         ]
        }
       }
      },
      "text/html": [
       "<div>\n",
       "        \n",
       "        \n",
       "            <div id=\"6ab9b969-8fb0-41ac-a6a8-ac82f80cd2fd\" class=\"plotly-graph-div\" style=\"height:800px; width:100%;\"></div>\n",
       "            <script type=\"text/javascript\">\n",
       "                require([\"plotly\"], function(Plotly) {\n",
       "                    window.PLOTLYENV=window.PLOTLYENV || {};\n",
       "                    \n",
       "                if (document.getElementById(\"6ab9b969-8fb0-41ac-a6a8-ac82f80cd2fd\")) {\n",
       "                    Plotly.newPlot(\n",
       "                        '6ab9b969-8fb0-41ac-a6a8-ac82f80cd2fd',\n",
       "                        [{\"line\": {\"color\": \"green\"}, \"mode\": \"lines\", \"name\": \"hk v2\", \"type\": \"scatter\", \"x\": [\"2020-02-11\", \"2020-02-12\", \"2020-02-13\", \"2020-02-14\", \"2020-02-15\", \"2020-02-16\", \"2020-02-17\", \"2020-02-18\", \"2020-02-19\", \"2020-02-20\"], \"xaxis\": \"x\", \"y\": [1.1975308641975309, 1.4054054054054055, 1.2672566371681415, 1.2913096695226438, 1.2628062360801782, 1.2779043280182232, 1.2361275088547816, 1.277005347593583, 1.3175141242937853, 1.2634207240948814], \"yaxis\": \"y\"}, {\"line\": {\"color\": \"blue\"}, \"mode\": \"lines\", \"name\": \"hk v1\", \"type\": \"scatter\", \"x\": [\"2020-02-11\", \"2020-02-12\", \"2020-02-13\", \"2020-02-14\", \"2020-02-15\", \"2020-02-16\", \"2020-02-17\", \"2020-02-18\", \"2020-02-19\", \"2020-02-20\"], \"xaxis\": \"x\", \"y\": [1.196948855820933, 1.1930763740185582, 1.1952280206864128, 1.179750454899922, 1.1848682729115063, 1.1881235154394298, 1.2019230769230769, 1.199785943631823, 1.2075955550128221, 1.1993661768942667], \"yaxis\": \"y\"}, {\"line\": {\"color\": \"green\"}, \"mode\": \"lines\", \"name\": \"sg v2\", \"type\": \"scatter\", \"x\": [\"2020-02-11\", \"2020-02-12\", \"2020-02-13\", \"2020-02-14\", \"2020-02-15\", \"2020-02-16\", \"2020-02-17\", \"2020-02-18\", \"2020-02-19\", \"2020-02-20\"], \"xaxis\": \"x2\", \"y\": [1.4800777453838678, 1.4363386097728836, 1.4210893854748603, 1.4024034959941734, 1.4123851650221164, 1.472893533638145, 1.3655597214783075, 1.363958560523446, 1.4409499358151476, 1.4193801490780698], \"yaxis\": \"y2\"}, {\"line\": {\"color\": \"blue\"}, \"mode\": \"lines\", \"name\": \"sg v1\", \"type\": \"scatter\", \"x\": [\"2020-02-11\", \"2020-02-12\", \"2020-02-13\", \"2020-02-14\", \"2020-02-15\", \"2020-02-16\", \"2020-02-17\", \"2020-02-18\", \"2020-02-19\", \"2020-02-20\"], \"xaxis\": \"x2\", \"y\": [1.3222453616054526, 1.3163464272657106, 1.3115402222314703, 1.3159664580939003, 1.3475509302045245, 1.3642819721753303, 1.2838604902946409, 1.3001616218675955, 1.3216562898507238, 1.308177102293411], \"yaxis\": \"y2\"}],\n",
       "                        {\"annotations\": [{\"font\": {\"size\": 16}, \"showarrow\": false, \"text\": \"hk\", \"x\": 0.5, \"xanchor\": \"center\", \"xref\": \"paper\", \"y\": 1.0, \"yanchor\": \"bottom\", \"yref\": \"paper\"}, {\"font\": {\"size\": 16}, \"showarrow\": false, \"text\": \"sg\", \"x\": 0.5, \"xanchor\": \"center\", \"xref\": \"paper\", \"y\": 0.375, \"yanchor\": \"bottom\", \"yref\": \"paper\"}], \"height\": 800, \"template\": {\"data\": {\"bar\": [{\"error_x\": {\"color\": \"#2a3f5f\"}, \"error_y\": {\"color\": \"#2a3f5f\"}, \"marker\": {\"line\": {\"color\": \"#E5ECF6\", \"width\": 0.5}}, \"type\": \"bar\"}], \"barpolar\": [{\"marker\": {\"line\": {\"color\": \"#E5ECF6\", \"width\": 0.5}}, \"type\": \"barpolar\"}], \"carpet\": [{\"aaxis\": {\"endlinecolor\": \"#2a3f5f\", \"gridcolor\": \"white\", \"linecolor\": \"white\", \"minorgridcolor\": \"white\", \"startlinecolor\": \"#2a3f5f\"}, \"baxis\": {\"endlinecolor\": \"#2a3f5f\", \"gridcolor\": \"white\", \"linecolor\": \"white\", \"minorgridcolor\": \"white\", \"startlinecolor\": \"#2a3f5f\"}, \"type\": \"carpet\"}], \"choropleth\": [{\"colorbar\": {\"outlinewidth\": 0, \"ticks\": \"\"}, \"type\": \"choropleth\"}], \"contour\": [{\"colorbar\": {\"outlinewidth\": 0, \"ticks\": \"\"}, \"colorscale\": [[0.0, \"#0d0887\"], [0.1111111111111111, \"#46039f\"], [0.2222222222222222, \"#7201a8\"], [0.3333333333333333, \"#9c179e\"], [0.4444444444444444, \"#bd3786\"], [0.5555555555555556, \"#d8576b\"], [0.6666666666666666, \"#ed7953\"], [0.7777777777777778, \"#fb9f3a\"], [0.8888888888888888, \"#fdca26\"], [1.0, \"#f0f921\"]], \"type\": \"contour\"}], \"contourcarpet\": [{\"colorbar\": {\"outlinewidth\": 0, \"ticks\": \"\"}, \"type\": \"contourcarpet\"}], \"heatmap\": [{\"colorbar\": {\"outlinewidth\": 0, \"ticks\": \"\"}, \"colorscale\": [[0.0, \"#0d0887\"], [0.1111111111111111, \"#46039f\"], [0.2222222222222222, \"#7201a8\"], [0.3333333333333333, \"#9c179e\"], [0.4444444444444444, \"#bd3786\"], [0.5555555555555556, \"#d8576b\"], [0.6666666666666666, \"#ed7953\"], [0.7777777777777778, \"#fb9f3a\"], [0.8888888888888888, \"#fdca26\"], [1.0, \"#f0f921\"]], \"type\": \"heatmap\"}], \"heatmapgl\": [{\"colorbar\": {\"outlinewidth\": 0, \"ticks\": \"\"}, \"colorscale\": [[0.0, \"#0d0887\"], [0.1111111111111111, \"#46039f\"], [0.2222222222222222, \"#7201a8\"], [0.3333333333333333, \"#9c179e\"], [0.4444444444444444, \"#bd3786\"], [0.5555555555555556, \"#d8576b\"], [0.6666666666666666, \"#ed7953\"], [0.7777777777777778, \"#fb9f3a\"], [0.8888888888888888, \"#fdca26\"], [1.0, \"#f0f921\"]], \"type\": \"heatmapgl\"}], \"histogram\": [{\"marker\": {\"colorbar\": {\"outlinewidth\": 0, \"ticks\": \"\"}}, \"type\": \"histogram\"}], \"histogram2d\": [{\"colorbar\": {\"outlinewidth\": 0, \"ticks\": \"\"}, \"colorscale\": [[0.0, \"#0d0887\"], [0.1111111111111111, \"#46039f\"], [0.2222222222222222, \"#7201a8\"], [0.3333333333333333, \"#9c179e\"], [0.4444444444444444, \"#bd3786\"], [0.5555555555555556, \"#d8576b\"], [0.6666666666666666, \"#ed7953\"], [0.7777777777777778, \"#fb9f3a\"], [0.8888888888888888, \"#fdca26\"], [1.0, \"#f0f921\"]], \"type\": \"histogram2d\"}], \"histogram2dcontour\": [{\"colorbar\": {\"outlinewidth\": 0, \"ticks\": \"\"}, \"colorscale\": [[0.0, \"#0d0887\"], [0.1111111111111111, \"#46039f\"], [0.2222222222222222, \"#7201a8\"], [0.3333333333333333, \"#9c179e\"], [0.4444444444444444, \"#bd3786\"], [0.5555555555555556, \"#d8576b\"], [0.6666666666666666, \"#ed7953\"], [0.7777777777777778, \"#fb9f3a\"], [0.8888888888888888, \"#fdca26\"], [1.0, \"#f0f921\"]], \"type\": \"histogram2dcontour\"}], \"mesh3d\": [{\"colorbar\": {\"outlinewidth\": 0, \"ticks\": \"\"}, \"type\": \"mesh3d\"}], \"parcoords\": [{\"line\": {\"colorbar\": {\"outlinewidth\": 0, \"ticks\": \"\"}}, \"type\": \"parcoords\"}], \"pie\": [{\"automargin\": true, \"type\": \"pie\"}], \"scatter\": [{\"marker\": {\"colorbar\": {\"outlinewidth\": 0, \"ticks\": \"\"}}, \"type\": \"scatter\"}], \"scatter3d\": [{\"line\": {\"colorbar\": {\"outlinewidth\": 0, \"ticks\": \"\"}}, \"marker\": {\"colorbar\": {\"outlinewidth\": 0, \"ticks\": \"\"}}, \"type\": \"scatter3d\"}], \"scattercarpet\": [{\"marker\": {\"colorbar\": {\"outlinewidth\": 0, \"ticks\": \"\"}}, \"type\": \"scattercarpet\"}], \"scattergeo\": [{\"marker\": {\"colorbar\": {\"outlinewidth\": 0, \"ticks\": \"\"}}, \"type\": \"scattergeo\"}], \"scattergl\": [{\"marker\": {\"colorbar\": {\"outlinewidth\": 0, \"ticks\": \"\"}}, \"type\": \"scattergl\"}], \"scattermapbox\": [{\"marker\": {\"colorbar\": {\"outlinewidth\": 0, \"ticks\": \"\"}}, \"type\": \"scattermapbox\"}], \"scatterpolar\": [{\"marker\": {\"colorbar\": {\"outlinewidth\": 0, \"ticks\": \"\"}}, \"type\": \"scatterpolar\"}], \"scatterpolargl\": [{\"marker\": {\"colorbar\": {\"outlinewidth\": 0, \"ticks\": \"\"}}, \"type\": \"scatterpolargl\"}], \"scatterternary\": [{\"marker\": {\"colorbar\": {\"outlinewidth\": 0, \"ticks\": \"\"}}, \"type\": \"scatterternary\"}], \"surface\": [{\"colorbar\": {\"outlinewidth\": 0, \"ticks\": \"\"}, \"colorscale\": [[0.0, \"#0d0887\"], [0.1111111111111111, \"#46039f\"], [0.2222222222222222, \"#7201a8\"], [0.3333333333333333, \"#9c179e\"], [0.4444444444444444, \"#bd3786\"], [0.5555555555555556, \"#d8576b\"], [0.6666666666666666, \"#ed7953\"], [0.7777777777777778, \"#fb9f3a\"], [0.8888888888888888, \"#fdca26\"], [1.0, \"#f0f921\"]], \"type\": \"surface\"}], \"table\": [{\"cells\": {\"fill\": {\"color\": \"#EBF0F8\"}, \"line\": {\"color\": \"white\"}}, \"header\": {\"fill\": {\"color\": \"#C8D4E3\"}, \"line\": {\"color\": \"white\"}}, \"type\": \"table\"}]}, \"layout\": {\"annotationdefaults\": {\"arrowcolor\": \"#2a3f5f\", \"arrowhead\": 0, \"arrowwidth\": 1}, \"coloraxis\": {\"colorbar\": {\"outlinewidth\": 0, \"ticks\": \"\"}}, \"colorscale\": {\"diverging\": [[0, \"#8e0152\"], [0.1, \"#c51b7d\"], [0.2, \"#de77ae\"], [0.3, \"#f1b6da\"], [0.4, \"#fde0ef\"], [0.5, \"#f7f7f7\"], [0.6, \"#e6f5d0\"], [0.7, \"#b8e186\"], [0.8, \"#7fbc41\"], [0.9, \"#4d9221\"], [1, \"#276419\"]], \"sequential\": [[0.0, \"#0d0887\"], [0.1111111111111111, \"#46039f\"], [0.2222222222222222, \"#7201a8\"], [0.3333333333333333, \"#9c179e\"], [0.4444444444444444, \"#bd3786\"], [0.5555555555555556, \"#d8576b\"], [0.6666666666666666, \"#ed7953\"], [0.7777777777777778, \"#fb9f3a\"], [0.8888888888888888, \"#fdca26\"], [1.0, \"#f0f921\"]], \"sequentialminus\": [[0.0, \"#0d0887\"], [0.1111111111111111, \"#46039f\"], [0.2222222222222222, \"#7201a8\"], [0.3333333333333333, \"#9c179e\"], [0.4444444444444444, \"#bd3786\"], [0.5555555555555556, \"#d8576b\"], [0.6666666666666666, \"#ed7953\"], [0.7777777777777778, \"#fb9f3a\"], [0.8888888888888888, \"#fdca26\"], [1.0, \"#f0f921\"]]}, \"colorway\": [\"#636efa\", \"#EF553B\", \"#00cc96\", \"#ab63fa\", \"#FFA15A\", \"#19d3f3\", \"#FF6692\", \"#B6E880\", \"#FF97FF\", \"#FECB52\"], \"font\": {\"color\": \"#2a3f5f\"}, \"geo\": {\"bgcolor\": \"white\", \"lakecolor\": \"white\", \"landcolor\": \"#E5ECF6\", \"showlakes\": true, \"showland\": true, \"subunitcolor\": \"white\"}, \"hoverlabel\": {\"align\": \"left\"}, \"hovermode\": \"closest\", \"mapbox\": {\"style\": \"light\"}, \"paper_bgcolor\": \"white\", \"plot_bgcolor\": \"#E5ECF6\", \"polar\": {\"angularaxis\": {\"gridcolor\": \"white\", \"linecolor\": \"white\", \"ticks\": \"\"}, \"bgcolor\": \"#E5ECF6\", \"radialaxis\": {\"gridcolor\": \"white\", \"linecolor\": \"white\", \"ticks\": \"\"}}, \"scene\": {\"xaxis\": {\"backgroundcolor\": \"#E5ECF6\", \"gridcolor\": \"white\", \"gridwidth\": 2, \"linecolor\": \"white\", \"showbackground\": true, \"ticks\": \"\", \"zerolinecolor\": \"white\"}, \"yaxis\": {\"backgroundcolor\": \"#E5ECF6\", \"gridcolor\": \"white\", \"gridwidth\": 2, \"linecolor\": \"white\", \"showbackground\": true, \"ticks\": \"\", \"zerolinecolor\": \"white\"}, \"zaxis\": {\"backgroundcolor\": \"#E5ECF6\", \"gridcolor\": \"white\", \"gridwidth\": 2, \"linecolor\": \"white\", \"showbackground\": true, \"ticks\": \"\", \"zerolinecolor\": \"white\"}}, \"shapedefaults\": {\"line\": {\"color\": \"#2a3f5f\"}}, \"ternary\": {\"aaxis\": {\"gridcolor\": \"white\", \"linecolor\": \"white\", \"ticks\": \"\"}, \"baxis\": {\"gridcolor\": \"white\", \"linecolor\": \"white\", \"ticks\": \"\"}, \"bgcolor\": \"#E5ECF6\", \"caxis\": {\"gridcolor\": \"white\", \"linecolor\": \"white\", \"ticks\": \"\"}}, \"title\": {\"x\": 0.05}, \"xaxis\": {\"automargin\": true, \"gridcolor\": \"white\", \"linecolor\": \"white\", \"ticks\": \"\", \"title\": {\"standoff\": 15}, \"zerolinecolor\": \"white\", \"zerolinewidth\": 2}, \"yaxis\": {\"automargin\": true, \"gridcolor\": \"white\", \"linecolor\": \"white\", \"ticks\": \"\", \"title\": {\"standoff\": 15}, \"zerolinecolor\": \"white\", \"zerolinewidth\": 2}}}, \"title\": {\"text\": \"Pageviews Per User Per Day\"}, \"xaxis\": {\"anchor\": \"y\", \"domain\": [0.0, 1.0]}, \"xaxis2\": {\"anchor\": \"y2\", \"domain\": [0.0, 1.0]}, \"yaxis\": {\"anchor\": \"x\", \"domain\": [0.625, 1.0], \"range\": [0, 1.6054054054054054]}, \"yaxis2\": {\"anchor\": \"x2\", \"domain\": [0.0, 0.375], \"range\": [0, 1.6800777453838678]}},\n",
       "                        {\"responsive\": true}\n",
       "                    ).then(function(){\n",
       "                            \n",
       "var gd = document.getElementById('6ab9b969-8fb0-41ac-a6a8-ac82f80cd2fd');\n",
       "var x = new MutationObserver(function (mutations, observer) {{\n",
       "        var display = window.getComputedStyle(gd).display;\n",
       "        if (!display || display === 'none') {{\n",
       "            console.log([gd, 'removed!']);\n",
       "            Plotly.purge(gd);\n",
       "            observer.disconnect();\n",
       "        }}\n",
       "}});\n",
       "\n",
       "// Listen for the removal of the full notebook cells\n",
       "var notebookContainer = gd.closest('#notebook-container');\n",
       "if (notebookContainer) {{\n",
       "    x.observe(notebookContainer, {childList: true});\n",
       "}}\n",
       "\n",
       "// Listen for the clearing of the current output cell\n",
       "var outputEl = gd.closest('.output');\n",
       "if (outputEl) {{\n",
       "    x.observe(outputEl, {childList: true});\n",
       "}}\n",
       "\n",
       "                        })\n",
       "                };\n",
       "                });\n",
       "            </script>\n",
       "        </div>"
      ]
     },
     "metadata": {},
     "output_type": "display_data"
    }
   ],
   "source": [
    "countries = pv2.country_code.unique()\n",
    "num_countries = len(countries)\n",
    "\n",
    "is_test_states = [True, False]\n",
    "num_unique_states = len(is_test_states)\n",
    "\n",
    "fig = py.subplots.make_subplots(rows=num_countries, cols=1, subplot_titles=countries)\n",
    "\n",
    "for i, country in enumerate(countries):\n",
    "    max_val = 0\n",
    "    for test_state in is_test_states:\n",
    "        color = \"green\" if test_state else \"blue\"\n",
    "        line_label = country+\" \"+(\"v2\" if test_state else \"v1\")\n",
    "        dates = pv2[pv2.country_code==country].date\n",
    "        values = pv2[(pv2.country_code==country)][\"aggregates\", \"pageviews_per_user\", test_state].values \n",
    "        max_val = max(max_val, max(values))\n",
    "        fig.add_trace(go.Scatter(x=dates, y=values, mode='lines', name=line_label, line_color=color), row=i+1, col=1)\n",
    "    fig.update_yaxes(range = [0, max_val+0.2], row=i+1, col=1)\n",
    "    \n",
    "fig.update_layout(height=800, title=\"Pageviews Per User Per Day\")\n",
    "\n",
    "fig.show()\n"
   ]
  },
  {
   "cell_type": "code",
   "execution_count": null,
   "metadata": {},
   "outputs": [],
   "source": []
  },
  {
   "cell_type": "code",
   "execution_count": 30,
   "metadata": {},
   "outputs": [],
   "source": [
    "# average_pageviews_per_user_per_day = pageviews_per_user_per_day.groupby([\"country_code\",\"date\", \"is_test\"]).agg(average_pageviews_per_user = (\"count\",\"mean\"), num_users=  (\"count\",\"sum\"), num_pageviews = (\"count\", \"sum\"))"
   ]
  },
  {
   "cell_type": "code",
   "execution_count": 31,
   "metadata": {},
   "outputs": [],
   "source": [
    "#average_pageviews_per_user_per_day\n"
   ]
  },
  {
   "cell_type": "markdown",
   "metadata": {},
   "source": [
    "## Convert Raw Pageview Events Into Scroll Depth Summary\n",
    "\n",
    "Basically re-creating:\n",
    "\n",
    "```\n",
    "CREATE OR REPLACE VIEW id_pageview_metrics AS \n",
    "SELECT\n",
    "  \"anonymous_id\"\n",
    ", \"canonical_url\"\n",
    ", \"substr\"(\"sent_at\", 1, 10) \"day_str\"\n",
    ", \"min\"(\"sent_at_timestamp\") \"from_time\"\n",
    ", \"max\"(\"sent_at_timestamp\") \"to_time\"\n",
    ", \"date_diff\"('second', \"min\"(\"sent_at_timestamp\"), \"max\"(\"sent_at_timestamp\")) \"time_on_page_seconds\"\n",
    ", \"max\"(\"is_test\") \"is_test\"\n",
    ", \"max\"(\"article_read_depth\") \"max_article_read_depth\"\n",
    "FROM\n",
    "  id_ab_test\n",
    "WHERE (NOT \"is_amp\")\n",
    "GROUP BY 1, 2, 3   >>> should it not have is_test in the group by????\n",
    "```"
   ]
  },
  {
   "cell_type": "code",
   "execution_count": 32,
   "metadata": {},
   "outputs": [
    {
     "data": {
      "text/html": [
       "<div>\n",
       "<style scoped>\n",
       "    .dataframe tbody tr th:only-of-type {\n",
       "        vertical-align: middle;\n",
       "    }\n",
       "\n",
       "    .dataframe tbody tr th {\n",
       "        vertical-align: top;\n",
       "    }\n",
       "\n",
       "    .dataframe thead th {\n",
       "        text-align: right;\n",
       "    }\n",
       "</style>\n",
       "<table border=\"1\" class=\"dataframe\">\n",
       "  <thead>\n",
       "    <tr style=\"text-align: right;\">\n",
       "      <th></th>\n",
       "      <th>sent_at_timestamp</th>\n",
       "      <th>sent_at</th>\n",
       "      <th>date</th>\n",
       "      <th>type</th>\n",
       "      <th>event_name</th>\n",
       "      <th>status</th>\n",
       "      <th>anonymous_id</th>\n",
       "      <th>amp_id</th>\n",
       "      <th>page_url</th>\n",
       "      <th>referrer</th>\n",
       "      <th>...</th>\n",
       "      <th>is_unbounce</th>\n",
       "      <th>is_embed</th>\n",
       "      <th>user_agent</th>\n",
       "      <th>device_type</th>\n",
       "      <th>browser_name</th>\n",
       "      <th>browser_major_version</th>\n",
       "      <th>browser_version</th>\n",
       "      <th>operating_system_name</th>\n",
       "      <th>operating_system_version</th>\n",
       "      <th>article_read_depth</th>\n",
       "    </tr>\n",
       "  </thead>\n",
       "  <tbody>\n",
       "    <tr>\n",
       "      <th>0</th>\n",
       "      <td>2020-02-13 03:47:59.714</td>\n",
       "      <td>2020-02-13T03:47:59.714Z</td>\n",
       "      <td>2020-02-13</td>\n",
       "      <td>event</td>\n",
       "      <td>Reading</td>\n",
       "      <td>Article Body 75</td>\n",
       "      <td>147659e5-7cd3-4aec-adb0-c20cfc1e7d04</td>\n",
       "      <td>NaN</td>\n",
       "      <td>https://blog.moneysmart.sg/health-insurance/pr...</td>\n",
       "      <td>https://www.google.com.sg/</td>\n",
       "      <td>...</td>\n",
       "      <td>False</td>\n",
       "      <td>False</td>\n",
       "      <td>Mozilla/5.0 (iPhone; CPU iPhone OS 13_3_1 like...</td>\n",
       "      <td>mobile</td>\n",
       "      <td>Mobile Safari</td>\n",
       "      <td>13.0</td>\n",
       "      <td>13.0.5</td>\n",
       "      <td>iOS</td>\n",
       "      <td>13.3.1</td>\n",
       "      <td>75</td>\n",
       "    </tr>\n",
       "    <tr>\n",
       "      <th>1</th>\n",
       "      <td>2020-02-13 03:47:59.828</td>\n",
       "      <td>2020-02-13T03:47:59.828Z</td>\n",
       "      <td>2020-02-13</td>\n",
       "      <td>event</td>\n",
       "      <td>Reading</td>\n",
       "      <td>Article Body 50</td>\n",
       "      <td>9d3166af-db01-44ee-886b-19c951986a55</td>\n",
       "      <td>NaN</td>\n",
       "      <td>https://blog.moneysmart.sg/wedding/singapore-w...</td>\n",
       "      <td>https://www.google.com.sg/</td>\n",
       "      <td>...</td>\n",
       "      <td>False</td>\n",
       "      <td>False</td>\n",
       "      <td>Mozilla/5.0 (Linux; Android 8.1.0; CPH1803 Bui...</td>\n",
       "      <td>mobile</td>\n",
       "      <td>Opera</td>\n",
       "      <td>44.0</td>\n",
       "      <td>44.6.2246.127414</td>\n",
       "      <td>Android</td>\n",
       "      <td>8.1.0</td>\n",
       "      <td>50</td>\n",
       "    </tr>\n",
       "    <tr>\n",
       "      <th>2</th>\n",
       "      <td>2020-02-13 03:47:59.684</td>\n",
       "      <td>2020-02-13T03:47:59.684Z</td>\n",
       "      <td>2020-02-13</td>\n",
       "      <td>event</td>\n",
       "      <td>Reading</td>\n",
       "      <td>Article Body 50</td>\n",
       "      <td>0a28adfe-a037-4e65-a544-acb6337dc3ae</td>\n",
       "      <td>NaN</td>\n",
       "      <td>https://blog.moneysmart.sg/invest/index-fund-e...</td>\n",
       "      <td>https://www.google.com.sg/</td>\n",
       "      <td>...</td>\n",
       "      <td>False</td>\n",
       "      <td>False</td>\n",
       "      <td>Mozilla/5.0 (iPhone; CPU iPhone OS 13_3_1 like...</td>\n",
       "      <td>mobile</td>\n",
       "      <td>Mobile Safari</td>\n",
       "      <td>13.0</td>\n",
       "      <td>13.0.5</td>\n",
       "      <td>iOS</td>\n",
       "      <td>13.3.1</td>\n",
       "      <td>50</td>\n",
       "    </tr>\n",
       "    <tr>\n",
       "      <th>3</th>\n",
       "      <td>2020-02-13 03:48:00.176</td>\n",
       "      <td>2020-02-13T03:48:00.176Z</td>\n",
       "      <td>2020-02-13</td>\n",
       "      <td>event</td>\n",
       "      <td>Reading</td>\n",
       "      <td>Article Body 100</td>\n",
       "      <td>38bd53cc-6b03-45ee-bde6-02c075988d60</td>\n",
       "      <td>NaN</td>\n",
       "      <td>https://blog.moneysmart.sg/shopping/surgical-m...</td>\n",
       "      <td>https://www.google.com.sg/</td>\n",
       "      <td>...</td>\n",
       "      <td>False</td>\n",
       "      <td>False</td>\n",
       "      <td>Mozilla/5.0 (Windows NT 10.0; Win64; x64) Appl...</td>\n",
       "      <td>desktop</td>\n",
       "      <td>Chrome</td>\n",
       "      <td>80.0</td>\n",
       "      <td>80.0.3987.100</td>\n",
       "      <td>Windows</td>\n",
       "      <td>10</td>\n",
       "      <td>100</td>\n",
       "    </tr>\n",
       "    <tr>\n",
       "      <th>4</th>\n",
       "      <td>2020-02-13 03:48:00.168</td>\n",
       "      <td>2020-02-13T03:48:00.168Z</td>\n",
       "      <td>2020-02-13</td>\n",
       "      <td>page</td>\n",
       "      <td>PageView</td>\n",
       "      <td>NaN</td>\n",
       "      <td>c9bb8422-0107-4cf5-9095-1d7b836fbb59</td>\n",
       "      <td>NaN</td>\n",
       "      <td>https://blog.moneysmart.sg/invest/singapore-re...</td>\n",
       "      <td>NaN</td>\n",
       "      <td>...</td>\n",
       "      <td>False</td>\n",
       "      <td>False</td>\n",
       "      <td>Mozilla/5.0 (iPhone; CPU iPhone OS 13_3 like M...</td>\n",
       "      <td>mobile</td>\n",
       "      <td>Mobile Safari</td>\n",
       "      <td>13.0</td>\n",
       "      <td>13.0.4</td>\n",
       "      <td>iOS</td>\n",
       "      <td>13.3</td>\n",
       "      <td>0</td>\n",
       "    </tr>\n",
       "  </tbody>\n",
       "</table>\n",
       "<p>5 rows × 26 columns</p>\n",
       "</div>"
      ],
      "text/plain": [
       "        sent_at_timestamp                   sent_at        date   type  \\\n",
       "0 2020-02-13 03:47:59.714  2020-02-13T03:47:59.714Z  2020-02-13  event   \n",
       "1 2020-02-13 03:47:59.828  2020-02-13T03:47:59.828Z  2020-02-13  event   \n",
       "2 2020-02-13 03:47:59.684  2020-02-13T03:47:59.684Z  2020-02-13  event   \n",
       "3 2020-02-13 03:48:00.176  2020-02-13T03:48:00.176Z  2020-02-13  event   \n",
       "4 2020-02-13 03:48:00.168  2020-02-13T03:48:00.168Z  2020-02-13   page   \n",
       "\n",
       "  event_name            status                          anonymous_id  amp_id  \\\n",
       "0    Reading   Article Body 75  147659e5-7cd3-4aec-adb0-c20cfc1e7d04     NaN   \n",
       "1    Reading   Article Body 50  9d3166af-db01-44ee-886b-19c951986a55     NaN   \n",
       "2    Reading   Article Body 50  0a28adfe-a037-4e65-a544-acb6337dc3ae     NaN   \n",
       "3    Reading  Article Body 100  38bd53cc-6b03-45ee-bde6-02c075988d60     NaN   \n",
       "4   PageView               NaN  c9bb8422-0107-4cf5-9095-1d7b836fbb59     NaN   \n",
       "\n",
       "                                            page_url  \\\n",
       "0  https://blog.moneysmart.sg/health-insurance/pr...   \n",
       "1  https://blog.moneysmart.sg/wedding/singapore-w...   \n",
       "2  https://blog.moneysmart.sg/invest/index-fund-e...   \n",
       "3  https://blog.moneysmart.sg/shopping/surgical-m...   \n",
       "4  https://blog.moneysmart.sg/invest/singapore-re...   \n",
       "\n",
       "                     referrer  ...  is_unbounce  is_embed  \\\n",
       "0  https://www.google.com.sg/  ...        False     False   \n",
       "1  https://www.google.com.sg/  ...        False     False   \n",
       "2  https://www.google.com.sg/  ...        False     False   \n",
       "3  https://www.google.com.sg/  ...        False     False   \n",
       "4                         NaN  ...        False     False   \n",
       "\n",
       "                                          user_agent device_type  \\\n",
       "0  Mozilla/5.0 (iPhone; CPU iPhone OS 13_3_1 like...      mobile   \n",
       "1  Mozilla/5.0 (Linux; Android 8.1.0; CPH1803 Bui...      mobile   \n",
       "2  Mozilla/5.0 (iPhone; CPU iPhone OS 13_3_1 like...      mobile   \n",
       "3  Mozilla/5.0 (Windows NT 10.0; Win64; x64) Appl...     desktop   \n",
       "4  Mozilla/5.0 (iPhone; CPU iPhone OS 13_3 like M...      mobile   \n",
       "\n",
       "    browser_name  browser_major_version   browser_version  \\\n",
       "0  Mobile Safari                   13.0            13.0.5   \n",
       "1          Opera                   44.0  44.6.2246.127414   \n",
       "2  Mobile Safari                   13.0            13.0.5   \n",
       "3         Chrome                   80.0     80.0.3987.100   \n",
       "4  Mobile Safari                   13.0            13.0.4   \n",
       "\n",
       "   operating_system_name operating_system_version article_read_depth  \n",
       "0                    iOS                   13.3.1                 75  \n",
       "1                Android                    8.1.0                 50  \n",
       "2                    iOS                   13.3.1                 50  \n",
       "3                Windows                       10                100  \n",
       "4                    iOS                     13.3                  0  \n",
       "\n",
       "[5 rows x 26 columns]"
      ]
     },
     "execution_count": 32,
     "metadata": {},
     "output_type": "execute_result"
    }
   ],
   "source": [
    "events.head()\n"
   ]
  },
  {
   "cell_type": "code",
   "execution_count": 33,
   "metadata": {},
   "outputs": [
    {
     "data": {
      "text/plain": [
       "['date',\n",
       " 'type',\n",
       " 'anonymous_id',\n",
       " 'amp_id',\n",
       " 'page_url',\n",
       " 'referrer',\n",
       " 'is_amp',\n",
       " 'is_test',\n",
       " 'is_control',\n",
       " 'slug',\n",
       " 'country_code',\n",
       " 'is_blog',\n",
       " 'is_unbounce',\n",
       " 'is_embed',\n",
       " 'user_agent',\n",
       " 'device_type',\n",
       " 'browser_name',\n",
       " 'browser_major_version',\n",
       " 'browser_version',\n",
       " 'operating_system_name',\n",
       " 'operating_system_version']"
      ]
     },
     "execution_count": 33,
     "metadata": {},
     "output_type": "execute_result"
    }
   ],
   "source": [
    "cols_to_group_by = [z for z in list(events.columns) if z not in [\"article_read_depth\", \"sent_at_timestamp\", \"sent_at\", \"event_name\", \"status\"]]\n",
    "cols_to_group_by"
   ]
  },
  {
   "cell_type": "code",
   "execution_count": 34,
   "metadata": {},
   "outputs": [
    {
     "data": {
      "text/html": [
       "<div>\n",
       "<style scoped>\n",
       "    .dataframe tbody tr th:only-of-type {\n",
       "        vertical-align: middle;\n",
       "    }\n",
       "\n",
       "    .dataframe tbody tr th {\n",
       "        vertical-align: top;\n",
       "    }\n",
       "\n",
       "    .dataframe thead th {\n",
       "        text-align: right;\n",
       "    }\n",
       "</style>\n",
       "<table border=\"1\" class=\"dataframe\">\n",
       "  <thead>\n",
       "    <tr style=\"text-align: right;\">\n",
       "      <th></th>\n",
       "      <th>event_name</th>\n",
       "      <th>status</th>\n",
       "      <th>article_read_depth</th>\n",
       "    </tr>\n",
       "  </thead>\n",
       "  <tbody>\n",
       "    <tr>\n",
       "      <th>0</th>\n",
       "      <td>Reading</td>\n",
       "      <td>Article Body 75</td>\n",
       "      <td>75</td>\n",
       "    </tr>\n",
       "    <tr>\n",
       "      <th>1</th>\n",
       "      <td>Reading</td>\n",
       "      <td>Article Body 50</td>\n",
       "      <td>50</td>\n",
       "    </tr>\n",
       "    <tr>\n",
       "      <th>2</th>\n",
       "      <td>Reading</td>\n",
       "      <td>Article Body 50</td>\n",
       "      <td>50</td>\n",
       "    </tr>\n",
       "    <tr>\n",
       "      <th>3</th>\n",
       "      <td>Reading</td>\n",
       "      <td>Article Body 100</td>\n",
       "      <td>100</td>\n",
       "    </tr>\n",
       "    <tr>\n",
       "      <th>4</th>\n",
       "      <td>PageView</td>\n",
       "      <td>NaN</td>\n",
       "      <td>0</td>\n",
       "    </tr>\n",
       "  </tbody>\n",
       "</table>\n",
       "</div>"
      ],
      "text/plain": [
       "  event_name            status  article_read_depth\n",
       "0    Reading   Article Body 75                  75\n",
       "1    Reading   Article Body 50                  50\n",
       "2    Reading   Article Body 50                  50\n",
       "3    Reading  Article Body 100                 100\n",
       "4   PageView               NaN                   0"
      ]
     },
     "execution_count": 34,
     "metadata": {},
     "output_type": "execute_result"
    }
   ],
   "source": [
    "events[[\"event_name\", \"status\", \"article_read_depth\"]].head()"
   ]
  },
  {
   "cell_type": "code",
   "execution_count": 35,
   "metadata": {},
   "outputs": [],
   "source": [
    "cols_to_group_by = [\"country_code\", \"date\",\"is_test\", \"page_url\",\"anonymous_id\", \"slug\"]\n",
    "\n",
    "scroll_df = events.groupby(cols_to_group_by).agg({\"article_read_depth\":\"max\", \"sent_at_timestamp\":(\"min\", \"max\")})"
   ]
  },
  {
   "cell_type": "code",
   "execution_count": 36,
   "metadata": {},
   "outputs": [],
   "source": [
    "scroll_df.reset_index(col_level=1, inplace=True)"
   ]
  },
  {
   "cell_type": "code",
   "execution_count": 37,
   "metadata": {},
   "outputs": [],
   "source": [
    "#NB: There are some massive outliars here.\n",
    "scroll_df[\"time_on_page\"] = (scroll_df[\"sent_at_timestamp\", \"max\"] - scroll_df[\"sent_at_timestamp\", \"min\"]).dt.total_seconds()"
   ]
  },
  {
   "cell_type": "code",
   "execution_count": 38,
   "metadata": {},
   "outputs": [
    {
     "name": "stdout",
     "output_type": "stream",
     "text": [
      "found 56523 taking an (maybe excessively) long time on the page of 745146 or 0.08 of total\n"
     ]
    }
   ],
   "source": [
    "time_on_page_mins_threshold = 20\n",
    "long_time_on_pages = scroll_df[scroll_df[\"time_on_page\"]>time_on_page_mins_threshold*60]\n",
    "print(\"found %i taking an (maybe excessively) long time on the page of %i or %.2f of total\" %(len(long_time_on_pages), len(scroll_df), len(long_time_on_pages)/len(scroll_df)))"
   ]
  },
  {
   "cell_type": "code",
   "execution_count": 39,
   "metadata": {},
   "outputs": [
    {
     "data": {
      "text/html": [
       "<div>\n",
       "<style scoped>\n",
       "    .dataframe tbody tr th:only-of-type {\n",
       "        vertical-align: middle;\n",
       "    }\n",
       "\n",
       "    .dataframe tbody tr th {\n",
       "        vertical-align: top;\n",
       "    }\n",
       "\n",
       "    .dataframe thead th {\n",
       "        text-align: right;\n",
       "    }\n",
       "</style>\n",
       "<table border=\"1\" class=\"dataframe\">\n",
       "  <thead>\n",
       "    <tr style=\"text-align: right;\">\n",
       "      <th></th>\n",
       "      <th>country_code</th>\n",
       "      <th>date</th>\n",
       "      <th>is_test</th>\n",
       "      <th>page_url</th>\n",
       "      <th>anonymous_id</th>\n",
       "      <th>slug</th>\n",
       "      <th>max_article_read_depth</th>\n",
       "      <th>min_time</th>\n",
       "      <th>max_time</th>\n",
       "      <th>time_on_page</th>\n",
       "    </tr>\n",
       "  </thead>\n",
       "  <tbody>\n",
       "    <tr>\n",
       "      <th>0</th>\n",
       "      <td>hk</td>\n",
       "      <td>2020-02-11</td>\n",
       "      <td>False</td>\n",
       "      <td>https://blog-admin.moneysmart.hk/zh-hk/uncateg...</td>\n",
       "      <td>6855fe32-f98b-4a2b-b8ee-7e3aae15c1df</td>\n",
       "      <td>/zh-hk/uncategorized/gunawan-test</td>\n",
       "      <td>0</td>\n",
       "      <td>2020-02-11 05:58:53.455</td>\n",
       "      <td>2020-02-11 06:18:19.205</td>\n",
       "      <td>1165.750</td>\n",
       "    </tr>\n",
       "    <tr>\n",
       "      <th>1</th>\n",
       "      <td>hk</td>\n",
       "      <td>2020-02-11</td>\n",
       "      <td>False</td>\n",
       "      <td>https://blog-admin.moneysmart.hk/zh-hk/uncateg...</td>\n",
       "      <td>6b2ba446-9c62-4625-ab66-42835422f8bd</td>\n",
       "      <td>/zh-hk/uncategorized/gunawan-test</td>\n",
       "      <td>0</td>\n",
       "      <td>2020-02-11 04:34:06.927</td>\n",
       "      <td>2020-02-11 05:14:46.831</td>\n",
       "      <td>2439.904</td>\n",
       "    </tr>\n",
       "    <tr>\n",
       "      <th>2</th>\n",
       "      <td>hk</td>\n",
       "      <td>2020-02-11</td>\n",
       "      <td>False</td>\n",
       "      <td>https://blog.moneysmart.hk/en</td>\n",
       "      <td>27273434-78a0-406a-bc7b-bef247e5bcae</td>\n",
       "      <td>/en</td>\n",
       "      <td>0</td>\n",
       "      <td>2020-02-11 08:42:47.090</td>\n",
       "      <td>2020-02-11 08:42:47.090</td>\n",
       "      <td>0.000</td>\n",
       "    </tr>\n",
       "    <tr>\n",
       "      <th>3</th>\n",
       "      <td>hk</td>\n",
       "      <td>2020-02-11</td>\n",
       "      <td>False</td>\n",
       "      <td>https://blog.moneysmart.hk/en</td>\n",
       "      <td>2c1422bf-20be-4d60-a777-fdf1919cf532</td>\n",
       "      <td>/en</td>\n",
       "      <td>0</td>\n",
       "      <td>2020-02-11 10:39:13.330</td>\n",
       "      <td>2020-02-11 10:39:13.330</td>\n",
       "      <td>0.000</td>\n",
       "    </tr>\n",
       "    <tr>\n",
       "      <th>4</th>\n",
       "      <td>hk</td>\n",
       "      <td>2020-02-11</td>\n",
       "      <td>False</td>\n",
       "      <td>https://blog.moneysmart.hk/en</td>\n",
       "      <td>44c16175-3044-4208-8470-dafde463abd5</td>\n",
       "      <td>/en</td>\n",
       "      <td>0</td>\n",
       "      <td>2020-02-11 03:36:25.505</td>\n",
       "      <td>2020-02-11 03:36:25.505</td>\n",
       "      <td>0.000</td>\n",
       "    </tr>\n",
       "  </tbody>\n",
       "</table>\n",
       "</div>"
      ],
      "text/plain": [
       "  country_code        date  is_test  \\\n",
       "0           hk  2020-02-11    False   \n",
       "1           hk  2020-02-11    False   \n",
       "2           hk  2020-02-11    False   \n",
       "3           hk  2020-02-11    False   \n",
       "4           hk  2020-02-11    False   \n",
       "\n",
       "                                            page_url  \\\n",
       "0  https://blog-admin.moneysmart.hk/zh-hk/uncateg...   \n",
       "1  https://blog-admin.moneysmart.hk/zh-hk/uncateg...   \n",
       "2                      https://blog.moneysmart.hk/en   \n",
       "3                      https://blog.moneysmart.hk/en   \n",
       "4                      https://blog.moneysmart.hk/en   \n",
       "\n",
       "                           anonymous_id                               slug  \\\n",
       "0  6855fe32-f98b-4a2b-b8ee-7e3aae15c1df  /zh-hk/uncategorized/gunawan-test   \n",
       "1  6b2ba446-9c62-4625-ab66-42835422f8bd  /zh-hk/uncategorized/gunawan-test   \n",
       "2  27273434-78a0-406a-bc7b-bef247e5bcae                                /en   \n",
       "3  2c1422bf-20be-4d60-a777-fdf1919cf532                                /en   \n",
       "4  44c16175-3044-4208-8470-dafde463abd5                                /en   \n",
       "\n",
       "   max_article_read_depth                min_time                max_time  \\\n",
       "0                       0 2020-02-11 05:58:53.455 2020-02-11 06:18:19.205   \n",
       "1                       0 2020-02-11 04:34:06.927 2020-02-11 05:14:46.831   \n",
       "2                       0 2020-02-11 08:42:47.090 2020-02-11 08:42:47.090   \n",
       "3                       0 2020-02-11 10:39:13.330 2020-02-11 10:39:13.330   \n",
       "4                       0 2020-02-11 03:36:25.505 2020-02-11 03:36:25.505   \n",
       "\n",
       "   time_on_page  \n",
       "0      1165.750  \n",
       "1      2439.904  \n",
       "2         0.000  \n",
       "3         0.000  \n",
       "4         0.000  "
      ]
     },
     "execution_count": 39,
     "metadata": {},
     "output_type": "execute_result"
    }
   ],
   "source": [
    "#df.rename({5:\"max_scroll_depth\",6:\"min_time\", 7:\"max_time\", 8:\"time_on_page\"}, axis=1)\n",
    "old_col_names = [\"\".join(z) for z in scroll_df.columns.values] #hacks for multi-level index.\n",
    "new_col_names = list(old_col_names) #copy\n",
    "new_col_names[6] = \"max_article_read_depth\"\n",
    "new_col_names[7] = \"min_time\"\n",
    "new_col_names[8] = \"max_time\"\n",
    "new_col_names[9] =\"time_on_page\"\n",
    "#df.rename(columns={df.columns[5]:\"mouse\"})\n",
    "scroll_df.columns=new_col_names\n",
    "scroll_df.head(5)"
   ]
  },
  {
   "cell_type": "code",
   "execution_count": null,
   "metadata": {},
   "outputs": [],
   "source": []
  },
  {
   "cell_type": "code",
   "execution_count": 40,
   "metadata": {},
   "outputs": [],
   "source": [
    "scroll_by_day = scroll_df.groupby([\"country_code\",\"is_test\", \"date\"]).agg({\"max_article_read_depth\":(\"mean\", \"count\")})"
   ]
  },
  {
   "cell_type": "code",
   "execution_count": 41,
   "metadata": {},
   "outputs": [
    {
     "data": {
      "text/html": [
       "<div>\n",
       "<style scoped>\n",
       "    .dataframe tbody tr th:only-of-type {\n",
       "        vertical-align: middle;\n",
       "    }\n",
       "\n",
       "    .dataframe tbody tr th {\n",
       "        vertical-align: top;\n",
       "    }\n",
       "\n",
       "    .dataframe thead tr th {\n",
       "        text-align: left;\n",
       "    }\n",
       "</style>\n",
       "<table border=\"1\" class=\"dataframe\">\n",
       "  <thead>\n",
       "    <tr>\n",
       "      <th></th>\n",
       "      <th>country_code</th>\n",
       "      <th>is_test</th>\n",
       "      <th>date</th>\n",
       "      <th colspan=\"2\" halign=\"left\">max_article_read_depth</th>\n",
       "    </tr>\n",
       "    <tr>\n",
       "      <th></th>\n",
       "      <th></th>\n",
       "      <th></th>\n",
       "      <th></th>\n",
       "      <th>mean</th>\n",
       "      <th>count</th>\n",
       "    </tr>\n",
       "  </thead>\n",
       "  <tbody>\n",
       "    <tr>\n",
       "      <th>0</th>\n",
       "      <td>hk</td>\n",
       "      <td>False</td>\n",
       "      <td>2020-02-11</td>\n",
       "      <td>52.982672</td>\n",
       "      <td>8541</td>\n",
       "    </tr>\n",
       "    <tr>\n",
       "      <th>1</th>\n",
       "      <td>hk</td>\n",
       "      <td>False</td>\n",
       "      <td>2020-02-12</td>\n",
       "      <td>54.171745</td>\n",
       "      <td>9025</td>\n",
       "    </tr>\n",
       "    <tr>\n",
       "      <th>2</th>\n",
       "      <td>hk</td>\n",
       "      <td>False</td>\n",
       "      <td>2020-02-13</td>\n",
       "      <td>53.521668</td>\n",
       "      <td>9115</td>\n",
       "    </tr>\n",
       "    <tr>\n",
       "      <th>3</th>\n",
       "      <td>hk</td>\n",
       "      <td>False</td>\n",
       "      <td>2020-02-14</td>\n",
       "      <td>53.736338</td>\n",
       "      <td>8143</td>\n",
       "    </tr>\n",
       "    <tr>\n",
       "      <th>4</th>\n",
       "      <td>hk</td>\n",
       "      <td>False</td>\n",
       "      <td>2020-02-15</td>\n",
       "      <td>53.948064</td>\n",
       "      <td>9454</td>\n",
       "    </tr>\n",
       "    <tr>\n",
       "      <th>5</th>\n",
       "      <td>hk</td>\n",
       "      <td>False</td>\n",
       "      <td>2020-02-16</td>\n",
       "      <td>54.207784</td>\n",
       "      <td>9019</td>\n",
       "    </tr>\n",
       "    <tr>\n",
       "      <th>6</th>\n",
       "      <td>hk</td>\n",
       "      <td>False</td>\n",
       "      <td>2020-02-17</td>\n",
       "      <td>54.295814</td>\n",
       "      <td>8840</td>\n",
       "    </tr>\n",
       "    <tr>\n",
       "      <th>7</th>\n",
       "      <td>hk</td>\n",
       "      <td>False</td>\n",
       "      <td>2020-02-18</td>\n",
       "      <td>54.920345</td>\n",
       "      <td>9039</td>\n",
       "    </tr>\n",
       "    <tr>\n",
       "      <th>8</th>\n",
       "      <td>hk</td>\n",
       "      <td>False</td>\n",
       "      <td>2020-02-19</td>\n",
       "      <td>53.966579</td>\n",
       "      <td>8767</td>\n",
       "    </tr>\n",
       "    <tr>\n",
       "      <th>9</th>\n",
       "      <td>hk</td>\n",
       "      <td>False</td>\n",
       "      <td>2020-02-20</td>\n",
       "      <td>54.569497</td>\n",
       "      <td>7468</td>\n",
       "    </tr>\n",
       "    <tr>\n",
       "      <th>10</th>\n",
       "      <td>hk</td>\n",
       "      <td>True</td>\n",
       "      <td>2020-02-11</td>\n",
       "      <td>47.023810</td>\n",
       "      <td>84</td>\n",
       "    </tr>\n",
       "    <tr>\n",
       "      <th>11</th>\n",
       "      <td>hk</td>\n",
       "      <td>True</td>\n",
       "      <td>2020-02-12</td>\n",
       "      <td>55.232558</td>\n",
       "      <td>86</td>\n",
       "    </tr>\n",
       "    <tr>\n",
       "      <th>12</th>\n",
       "      <td>hk</td>\n",
       "      <td>True</td>\n",
       "      <td>2020-02-13</td>\n",
       "      <td>45.251623</td>\n",
       "      <td>616</td>\n",
       "    </tr>\n",
       "    <tr>\n",
       "      <th>13</th>\n",
       "      <td>hk</td>\n",
       "      <td>True</td>\n",
       "      <td>2020-02-14</td>\n",
       "      <td>44.955407</td>\n",
       "      <td>897</td>\n",
       "    </tr>\n",
       "    <tr>\n",
       "      <th>14</th>\n",
       "      <td>hk</td>\n",
       "      <td>True</td>\n",
       "      <td>2020-02-15</td>\n",
       "      <td>43.395749</td>\n",
       "      <td>988</td>\n",
       "    </tr>\n",
       "    <tr>\n",
       "      <th>15</th>\n",
       "      <td>hk</td>\n",
       "      <td>True</td>\n",
       "      <td>2020-02-16</td>\n",
       "      <td>46.409990</td>\n",
       "      <td>961</td>\n",
       "    </tr>\n",
       "    <tr>\n",
       "      <th>16</th>\n",
       "      <td>hk</td>\n",
       "      <td>True</td>\n",
       "      <td>2020-02-17</td>\n",
       "      <td>46.995708</td>\n",
       "      <td>932</td>\n",
       "    </tr>\n",
       "    <tr>\n",
       "      <th>17</th>\n",
       "      <td>hk</td>\n",
       "      <td>True</td>\n",
       "      <td>2020-02-18</td>\n",
       "      <td>45.573930</td>\n",
       "      <td>1028</td>\n",
       "    </tr>\n",
       "    <tr>\n",
       "      <th>18</th>\n",
       "      <td>hk</td>\n",
       "      <td>True</td>\n",
       "      <td>2020-02-19</td>\n",
       "      <td>48.161389</td>\n",
       "      <td>979</td>\n",
       "    </tr>\n",
       "    <tr>\n",
       "      <th>19</th>\n",
       "      <td>hk</td>\n",
       "      <td>True</td>\n",
       "      <td>2020-02-20</td>\n",
       "      <td>44.456887</td>\n",
       "      <td>893</td>\n",
       "    </tr>\n",
       "    <tr>\n",
       "      <th>20</th>\n",
       "      <td>sg</td>\n",
       "      <td>False</td>\n",
       "      <td>2020-02-11</td>\n",
       "      <td>48.435191</td>\n",
       "      <td>61589</td>\n",
       "    </tr>\n",
       "    <tr>\n",
       "      <th>21</th>\n",
       "      <td>sg</td>\n",
       "      <td>False</td>\n",
       "      <td>2020-02-12</td>\n",
       "      <td>47.310294</td>\n",
       "      <td>57655</td>\n",
       "    </tr>\n",
       "    <tr>\n",
       "      <th>22</th>\n",
       "      <td>sg</td>\n",
       "      <td>False</td>\n",
       "      <td>2020-02-13</td>\n",
       "      <td>47.583804</td>\n",
       "      <td>55904</td>\n",
       "    </tr>\n",
       "    <tr>\n",
       "      <th>23</th>\n",
       "      <td>sg</td>\n",
       "      <td>False</td>\n",
       "      <td>2020-02-14</td>\n",
       "      <td>47.248867</td>\n",
       "      <td>54523</td>\n",
       "    </tr>\n",
       "    <tr>\n",
       "      <th>24</th>\n",
       "      <td>sg</td>\n",
       "      <td>False</td>\n",
       "      <td>2020-02-15</td>\n",
       "      <td>49.026244</td>\n",
       "      <td>58947</td>\n",
       "    </tr>\n",
       "    <tr>\n",
       "      <th>25</th>\n",
       "      <td>sg</td>\n",
       "      <td>False</td>\n",
       "      <td>2020-02-16</td>\n",
       "      <td>50.108954</td>\n",
       "      <td>62182</td>\n",
       "    </tr>\n",
       "    <tr>\n",
       "      <th>26</th>\n",
       "      <td>sg</td>\n",
       "      <td>False</td>\n",
       "      <td>2020-02-17</td>\n",
       "      <td>52.674325</td>\n",
       "      <td>74645</td>\n",
       "    </tr>\n",
       "    <tr>\n",
       "      <th>27</th>\n",
       "      <td>sg</td>\n",
       "      <td>False</td>\n",
       "      <td>2020-02-18</td>\n",
       "      <td>53.254344</td>\n",
       "      <td>74462</td>\n",
       "    </tr>\n",
       "    <tr>\n",
       "      <th>28</th>\n",
       "      <td>sg</td>\n",
       "      <td>False</td>\n",
       "      <td>2020-02-19</td>\n",
       "      <td>51.024584</td>\n",
       "      <td>62806</td>\n",
       "    </tr>\n",
       "    <tr>\n",
       "      <th>29</th>\n",
       "      <td>sg</td>\n",
       "      <td>False</td>\n",
       "      <td>2020-02-20</td>\n",
       "      <td>48.621138</td>\n",
       "      <td>51111</td>\n",
       "    </tr>\n",
       "    <tr>\n",
       "      <th>30</th>\n",
       "      <td>sg</td>\n",
       "      <td>True</td>\n",
       "      <td>2020-02-11</td>\n",
       "      <td>49.845027</td>\n",
       "      <td>3549</td>\n",
       "    </tr>\n",
       "    <tr>\n",
       "      <th>31</th>\n",
       "      <td>sg</td>\n",
       "      <td>True</td>\n",
       "      <td>2020-02-12</td>\n",
       "      <td>47.064339</td>\n",
       "      <td>3466</td>\n",
       "    </tr>\n",
       "    <tr>\n",
       "      <th>32</th>\n",
       "      <td>sg</td>\n",
       "      <td>True</td>\n",
       "      <td>2020-02-13</td>\n",
       "      <td>47.262144</td>\n",
       "      <td>3479</td>\n",
       "    </tr>\n",
       "    <tr>\n",
       "      <th>33</th>\n",
       "      <td>sg</td>\n",
       "      <td>True</td>\n",
       "      <td>2020-02-14</td>\n",
       "      <td>46.904025</td>\n",
       "      <td>3230</td>\n",
       "    </tr>\n",
       "    <tr>\n",
       "      <th>34</th>\n",
       "      <td>sg</td>\n",
       "      <td>True</td>\n",
       "      <td>2020-02-15</td>\n",
       "      <td>48.281340</td>\n",
       "      <td>3462</td>\n",
       "    </tr>\n",
       "    <tr>\n",
       "      <th>35</th>\n",
       "      <td>sg</td>\n",
       "      <td>True</td>\n",
       "      <td>2020-02-16</td>\n",
       "      <td>49.220430</td>\n",
       "      <td>3720</td>\n",
       "    </tr>\n",
       "    <tr>\n",
       "      <th>36</th>\n",
       "      <td>sg</td>\n",
       "      <td>True</td>\n",
       "      <td>2020-02-17</td>\n",
       "      <td>52.721433</td>\n",
       "      <td>4437</td>\n",
       "    </tr>\n",
       "    <tr>\n",
       "      <th>37</th>\n",
       "      <td>sg</td>\n",
       "      <td>True</td>\n",
       "      <td>2020-02-18</td>\n",
       "      <td>52.455876</td>\n",
       "      <td>4306</td>\n",
       "    </tr>\n",
       "    <tr>\n",
       "      <th>38</th>\n",
       "      <td>sg</td>\n",
       "      <td>True</td>\n",
       "      <td>2020-02-19</td>\n",
       "      <td>48.970897</td>\n",
       "      <td>3814</td>\n",
       "    </tr>\n",
       "    <tr>\n",
       "      <th>39</th>\n",
       "      <td>sg</td>\n",
       "      <td>True</td>\n",
       "      <td>2020-02-20</td>\n",
       "      <td>47.293901</td>\n",
       "      <td>2984</td>\n",
       "    </tr>\n",
       "  </tbody>\n",
       "</table>\n",
       "</div>"
      ],
      "text/plain": [
       "   country_code is_test        date max_article_read_depth       \n",
       "                                                      mean  count\n",
       "0            hk   False  2020-02-11              52.982672   8541\n",
       "1            hk   False  2020-02-12              54.171745   9025\n",
       "2            hk   False  2020-02-13              53.521668   9115\n",
       "3            hk   False  2020-02-14              53.736338   8143\n",
       "4            hk   False  2020-02-15              53.948064   9454\n",
       "5            hk   False  2020-02-16              54.207784   9019\n",
       "6            hk   False  2020-02-17              54.295814   8840\n",
       "7            hk   False  2020-02-18              54.920345   9039\n",
       "8            hk   False  2020-02-19              53.966579   8767\n",
       "9            hk   False  2020-02-20              54.569497   7468\n",
       "10           hk    True  2020-02-11              47.023810     84\n",
       "11           hk    True  2020-02-12              55.232558     86\n",
       "12           hk    True  2020-02-13              45.251623    616\n",
       "13           hk    True  2020-02-14              44.955407    897\n",
       "14           hk    True  2020-02-15              43.395749    988\n",
       "15           hk    True  2020-02-16              46.409990    961\n",
       "16           hk    True  2020-02-17              46.995708    932\n",
       "17           hk    True  2020-02-18              45.573930   1028\n",
       "18           hk    True  2020-02-19              48.161389    979\n",
       "19           hk    True  2020-02-20              44.456887    893\n",
       "20           sg   False  2020-02-11              48.435191  61589\n",
       "21           sg   False  2020-02-12              47.310294  57655\n",
       "22           sg   False  2020-02-13              47.583804  55904\n",
       "23           sg   False  2020-02-14              47.248867  54523\n",
       "24           sg   False  2020-02-15              49.026244  58947\n",
       "25           sg   False  2020-02-16              50.108954  62182\n",
       "26           sg   False  2020-02-17              52.674325  74645\n",
       "27           sg   False  2020-02-18              53.254344  74462\n",
       "28           sg   False  2020-02-19              51.024584  62806\n",
       "29           sg   False  2020-02-20              48.621138  51111\n",
       "30           sg    True  2020-02-11              49.845027   3549\n",
       "31           sg    True  2020-02-12              47.064339   3466\n",
       "32           sg    True  2020-02-13              47.262144   3479\n",
       "33           sg    True  2020-02-14              46.904025   3230\n",
       "34           sg    True  2020-02-15              48.281340   3462\n",
       "35           sg    True  2020-02-16              49.220430   3720\n",
       "36           sg    True  2020-02-17              52.721433   4437\n",
       "37           sg    True  2020-02-18              52.455876   4306\n",
       "38           sg    True  2020-02-19              48.970897   3814\n",
       "39           sg    True  2020-02-20              47.293901   2984"
      ]
     },
     "execution_count": 41,
     "metadata": {},
     "output_type": "execute_result"
    }
   ],
   "source": [
    "scroll_by_day.reset_index()"
   ]
  },
  {
   "cell_type": "code",
   "execution_count": 42,
   "metadata": {},
   "outputs": [],
   "source": [
    "scroll_by_day  = pd.pivot_table(scroll_by_day, index=[\"country_code\", \"date\"], values=[\"max_article_read_depth\"], columns=[\"is_test\"], fill_value=\"\")"
   ]
  },
  {
   "cell_type": "code",
   "execution_count": 43,
   "metadata": {},
   "outputs": [],
   "source": [
    "scroll_by_day.rename(columns={\"mean\":\"av_max_article_read_depth\"}, inplace=True)\n"
   ]
  },
  {
   "cell_type": "code",
   "execution_count": 44,
   "metadata": {},
   "outputs": [],
   "source": [
    "#scroll_by_day.columns = scroll_by_day.columns.droplevel(level=1)"
   ]
  },
  {
   "cell_type": "code",
   "execution_count": 45,
   "metadata": {},
   "outputs": [
    {
     "data": {
      "text/html": [
       "<div>\n",
       "<style scoped>\n",
       "    .dataframe tbody tr th:only-of-type {\n",
       "        vertical-align: middle;\n",
       "    }\n",
       "\n",
       "    .dataframe tbody tr th {\n",
       "        vertical-align: top;\n",
       "    }\n",
       "\n",
       "    .dataframe thead tr th {\n",
       "        text-align: left;\n",
       "    }\n",
       "\n",
       "    .dataframe thead tr:last-of-type th {\n",
       "        text-align: right;\n",
       "    }\n",
       "</style>\n",
       "<table border=\"1\" class=\"dataframe\">\n",
       "  <thead>\n",
       "    <tr>\n",
       "      <th></th>\n",
       "      <th></th>\n",
       "      <th colspan=\"4\" halign=\"left\">max_article_read_depth</th>\n",
       "    </tr>\n",
       "    <tr>\n",
       "      <th></th>\n",
       "      <th></th>\n",
       "      <th colspan=\"2\" halign=\"left\">count</th>\n",
       "      <th colspan=\"2\" halign=\"left\">av_max_article_read_depth</th>\n",
       "    </tr>\n",
       "    <tr>\n",
       "      <th></th>\n",
       "      <th>is_test</th>\n",
       "      <th>False</th>\n",
       "      <th>True</th>\n",
       "      <th>False</th>\n",
       "      <th>True</th>\n",
       "    </tr>\n",
       "    <tr>\n",
       "      <th>country_code</th>\n",
       "      <th>date</th>\n",
       "      <th></th>\n",
       "      <th></th>\n",
       "      <th></th>\n",
       "      <th></th>\n",
       "    </tr>\n",
       "  </thead>\n",
       "  <tbody>\n",
       "    <tr>\n",
       "      <th rowspan=\"10\" valign=\"top\">hk</th>\n",
       "      <th>2020-02-11</th>\n",
       "      <td>8541</td>\n",
       "      <td>84</td>\n",
       "      <td>52.982672</td>\n",
       "      <td>47.023810</td>\n",
       "    </tr>\n",
       "    <tr>\n",
       "      <th>2020-02-12</th>\n",
       "      <td>9025</td>\n",
       "      <td>86</td>\n",
       "      <td>54.171745</td>\n",
       "      <td>55.232558</td>\n",
       "    </tr>\n",
       "    <tr>\n",
       "      <th>2020-02-13</th>\n",
       "      <td>9115</td>\n",
       "      <td>616</td>\n",
       "      <td>53.521668</td>\n",
       "      <td>45.251623</td>\n",
       "    </tr>\n",
       "    <tr>\n",
       "      <th>2020-02-14</th>\n",
       "      <td>8143</td>\n",
       "      <td>897</td>\n",
       "      <td>53.736338</td>\n",
       "      <td>44.955407</td>\n",
       "    </tr>\n",
       "    <tr>\n",
       "      <th>2020-02-15</th>\n",
       "      <td>9454</td>\n",
       "      <td>988</td>\n",
       "      <td>53.948064</td>\n",
       "      <td>43.395749</td>\n",
       "    </tr>\n",
       "    <tr>\n",
       "      <th>2020-02-16</th>\n",
       "      <td>9019</td>\n",
       "      <td>961</td>\n",
       "      <td>54.207784</td>\n",
       "      <td>46.409990</td>\n",
       "    </tr>\n",
       "    <tr>\n",
       "      <th>2020-02-17</th>\n",
       "      <td>8840</td>\n",
       "      <td>932</td>\n",
       "      <td>54.295814</td>\n",
       "      <td>46.995708</td>\n",
       "    </tr>\n",
       "    <tr>\n",
       "      <th>2020-02-18</th>\n",
       "      <td>9039</td>\n",
       "      <td>1028</td>\n",
       "      <td>54.920345</td>\n",
       "      <td>45.573930</td>\n",
       "    </tr>\n",
       "    <tr>\n",
       "      <th>2020-02-19</th>\n",
       "      <td>8767</td>\n",
       "      <td>979</td>\n",
       "      <td>53.966579</td>\n",
       "      <td>48.161389</td>\n",
       "    </tr>\n",
       "    <tr>\n",
       "      <th>2020-02-20</th>\n",
       "      <td>7468</td>\n",
       "      <td>893</td>\n",
       "      <td>54.569497</td>\n",
       "      <td>44.456887</td>\n",
       "    </tr>\n",
       "    <tr>\n",
       "      <th rowspan=\"10\" valign=\"top\">sg</th>\n",
       "      <th>2020-02-11</th>\n",
       "      <td>61589</td>\n",
       "      <td>3549</td>\n",
       "      <td>48.435191</td>\n",
       "      <td>49.845027</td>\n",
       "    </tr>\n",
       "    <tr>\n",
       "      <th>2020-02-12</th>\n",
       "      <td>57655</td>\n",
       "      <td>3466</td>\n",
       "      <td>47.310294</td>\n",
       "      <td>47.064339</td>\n",
       "    </tr>\n",
       "    <tr>\n",
       "      <th>2020-02-13</th>\n",
       "      <td>55904</td>\n",
       "      <td>3479</td>\n",
       "      <td>47.583804</td>\n",
       "      <td>47.262144</td>\n",
       "    </tr>\n",
       "    <tr>\n",
       "      <th>2020-02-14</th>\n",
       "      <td>54523</td>\n",
       "      <td>3230</td>\n",
       "      <td>47.248867</td>\n",
       "      <td>46.904025</td>\n",
       "    </tr>\n",
       "    <tr>\n",
       "      <th>2020-02-15</th>\n",
       "      <td>58947</td>\n",
       "      <td>3462</td>\n",
       "      <td>49.026244</td>\n",
       "      <td>48.281340</td>\n",
       "    </tr>\n",
       "    <tr>\n",
       "      <th>2020-02-16</th>\n",
       "      <td>62182</td>\n",
       "      <td>3720</td>\n",
       "      <td>50.108954</td>\n",
       "      <td>49.220430</td>\n",
       "    </tr>\n",
       "    <tr>\n",
       "      <th>2020-02-17</th>\n",
       "      <td>74645</td>\n",
       "      <td>4437</td>\n",
       "      <td>52.674325</td>\n",
       "      <td>52.721433</td>\n",
       "    </tr>\n",
       "    <tr>\n",
       "      <th>2020-02-18</th>\n",
       "      <td>74462</td>\n",
       "      <td>4306</td>\n",
       "      <td>53.254344</td>\n",
       "      <td>52.455876</td>\n",
       "    </tr>\n",
       "    <tr>\n",
       "      <th>2020-02-19</th>\n",
       "      <td>62806</td>\n",
       "      <td>3814</td>\n",
       "      <td>51.024584</td>\n",
       "      <td>48.970897</td>\n",
       "    </tr>\n",
       "    <tr>\n",
       "      <th>2020-02-20</th>\n",
       "      <td>51111</td>\n",
       "      <td>2984</td>\n",
       "      <td>48.621138</td>\n",
       "      <td>47.293901</td>\n",
       "    </tr>\n",
       "  </tbody>\n",
       "</table>\n",
       "</div>"
      ],
      "text/plain": [
       "                        max_article_read_depth        \\\n",
       "                                         count         \n",
       "is_test                                  False True    \n",
       "country_code date                                      \n",
       "hk           2020-02-11                   8541    84   \n",
       "             2020-02-12                   9025    86   \n",
       "             2020-02-13                   9115   616   \n",
       "             2020-02-14                   8143   897   \n",
       "             2020-02-15                   9454   988   \n",
       "             2020-02-16                   9019   961   \n",
       "             2020-02-17                   8840   932   \n",
       "             2020-02-18                   9039  1028   \n",
       "             2020-02-19                   8767   979   \n",
       "             2020-02-20                   7468   893   \n",
       "sg           2020-02-11                  61589  3549   \n",
       "             2020-02-12                  57655  3466   \n",
       "             2020-02-13                  55904  3479   \n",
       "             2020-02-14                  54523  3230   \n",
       "             2020-02-15                  58947  3462   \n",
       "             2020-02-16                  62182  3720   \n",
       "             2020-02-17                  74645  4437   \n",
       "             2020-02-18                  74462  4306   \n",
       "             2020-02-19                  62806  3814   \n",
       "             2020-02-20                  51111  2984   \n",
       "\n",
       "                                                              \n",
       "                        av_max_article_read_depth             \n",
       "is_test                                     False      True   \n",
       "country_code date                                             \n",
       "hk           2020-02-11                 52.982672  47.023810  \n",
       "             2020-02-12                 54.171745  55.232558  \n",
       "             2020-02-13                 53.521668  45.251623  \n",
       "             2020-02-14                 53.736338  44.955407  \n",
       "             2020-02-15                 53.948064  43.395749  \n",
       "             2020-02-16                 54.207784  46.409990  \n",
       "             2020-02-17                 54.295814  46.995708  \n",
       "             2020-02-18                 54.920345  45.573930  \n",
       "             2020-02-19                 53.966579  48.161389  \n",
       "             2020-02-20                 54.569497  44.456887  \n",
       "sg           2020-02-11                 48.435191  49.845027  \n",
       "             2020-02-12                 47.310294  47.064339  \n",
       "             2020-02-13                 47.583804  47.262144  \n",
       "             2020-02-14                 47.248867  46.904025  \n",
       "             2020-02-15                 49.026244  48.281340  \n",
       "             2020-02-16                 50.108954  49.220430  \n",
       "             2020-02-17                 52.674325  52.721433  \n",
       "             2020-02-18                 53.254344  52.455876  \n",
       "             2020-02-19                 51.024584  48.970897  \n",
       "             2020-02-20                 48.621138  47.293901  "
      ]
     },
     "execution_count": 45,
     "metadata": {},
     "output_type": "execute_result"
    }
   ],
   "source": [
    "scroll_by_day"
   ]
  },
  {
   "cell_type": "code",
   "execution_count": 46,
   "metadata": {},
   "outputs": [],
   "source": [
    "scroll_by_day[\"max_article_read_depth\",\"av_max_article_read_depth\", \"v2_vs_v1_av_read_depth\"] = \\\n",
    "    scroll_by_day[\"max_article_read_depth\",\"av_max_article_read_depth\", True]-scroll_by_day[\"max_article_read_depth\",\"av_max_article_read_depth\", False] "
   ]
  },
  {
   "cell_type": "code",
   "execution_count": 47,
   "metadata": {},
   "outputs": [
    {
     "data": {
      "text/html": [
       "<style  type=\"text/css\" >\n",
       "    #T_90228b58_5474_11ea_8ff6_054989be1d01row0_col4 {\n",
       "            background-color: pink;\n",
       "        }    #T_90228b58_5474_11ea_8ff6_054989be1d01row2_col4 {\n",
       "            background-color: pink;\n",
       "        }    #T_90228b58_5474_11ea_8ff6_054989be1d01row3_col4 {\n",
       "            background-color: pink;\n",
       "        }    #T_90228b58_5474_11ea_8ff6_054989be1d01row4_col4 {\n",
       "            background-color: pink;\n",
       "        }    #T_90228b58_5474_11ea_8ff6_054989be1d01row5_col4 {\n",
       "            background-color: pink;\n",
       "        }    #T_90228b58_5474_11ea_8ff6_054989be1d01row6_col4 {\n",
       "            background-color: pink;\n",
       "        }    #T_90228b58_5474_11ea_8ff6_054989be1d01row7_col4 {\n",
       "            background-color: pink;\n",
       "        }    #T_90228b58_5474_11ea_8ff6_054989be1d01row8_col4 {\n",
       "            background-color: pink;\n",
       "        }    #T_90228b58_5474_11ea_8ff6_054989be1d01row9_col4 {\n",
       "            background-color: pink;\n",
       "        }    #T_90228b58_5474_11ea_8ff6_054989be1d01row11_col4 {\n",
       "            background-color: pink;\n",
       "        }    #T_90228b58_5474_11ea_8ff6_054989be1d01row12_col4 {\n",
       "            background-color: pink;\n",
       "        }    #T_90228b58_5474_11ea_8ff6_054989be1d01row13_col4 {\n",
       "            background-color: pink;\n",
       "        }    #T_90228b58_5474_11ea_8ff6_054989be1d01row14_col4 {\n",
       "            background-color: pink;\n",
       "        }    #T_90228b58_5474_11ea_8ff6_054989be1d01row15_col4 {\n",
       "            background-color: pink;\n",
       "        }    #T_90228b58_5474_11ea_8ff6_054989be1d01row17_col4 {\n",
       "            background-color: pink;\n",
       "        }    #T_90228b58_5474_11ea_8ff6_054989be1d01row18_col4 {\n",
       "            background-color: pink;\n",
       "        }    #T_90228b58_5474_11ea_8ff6_054989be1d01row19_col4 {\n",
       "            background-color: pink;\n",
       "        }</style><table id=\"T_90228b58_5474_11ea_8ff6_054989be1d01\" ><thead>    <tr>        <th class=\"blank\" ></th>        <th class=\"blank level0\" ></th>        <th class=\"col_heading level0 col0\" colspan=5>max_article_read_depth</th>    </tr>    <tr>        <th class=\"blank\" ></th>        <th class=\"blank level1\" ></th>        <th class=\"col_heading level1 col0\" colspan=2>count</th>        <th class=\"col_heading level1 col2\" colspan=3>av_max_article_read_depth</th>    </tr>    <tr>        <th class=\"blank\" ></th>        <th class=\"index_name level2\" >is_test</th>        <th class=\"col_heading level2 col0\" >False</th>        <th class=\"col_heading level2 col1\" >True</th>        <th class=\"col_heading level2 col2\" >False</th>        <th class=\"col_heading level2 col3\" >True</th>        <th class=\"col_heading level2 col4\" >v2_vs_v1_av_read_depth</th>    </tr>    <tr>        <th class=\"index_name level0\" >country_code</th>        <th class=\"index_name level1\" >date</th>        <th class=\"blank\" ></th>        <th class=\"blank\" ></th>        <th class=\"blank\" ></th>        <th class=\"blank\" ></th>        <th class=\"blank\" ></th>    </tr></thead><tbody>\n",
       "                <tr>\n",
       "                        <th id=\"T_90228b58_5474_11ea_8ff6_054989be1d01level0_row0\" class=\"row_heading level0 row0\" rowspan=10>hk</th>\n",
       "                        <th id=\"T_90228b58_5474_11ea_8ff6_054989be1d01level1_row0\" class=\"row_heading level1 row0\" >2020-02-11</th>\n",
       "                        <td id=\"T_90228b58_5474_11ea_8ff6_054989be1d01row0_col0\" class=\"data row0 col0\" >8541</td>\n",
       "                        <td id=\"T_90228b58_5474_11ea_8ff6_054989be1d01row0_col1\" class=\"data row0 col1\" >84</td>\n",
       "                        <td id=\"T_90228b58_5474_11ea_8ff6_054989be1d01row0_col2\" class=\"data row0 col2\" >52.9827</td>\n",
       "                        <td id=\"T_90228b58_5474_11ea_8ff6_054989be1d01row0_col3\" class=\"data row0 col3\" >47.0238</td>\n",
       "                        <td id=\"T_90228b58_5474_11ea_8ff6_054989be1d01row0_col4\" class=\"data row0 col4\" >-5.95886</td>\n",
       "            </tr>\n",
       "            <tr>\n",
       "                                <th id=\"T_90228b58_5474_11ea_8ff6_054989be1d01level1_row1\" class=\"row_heading level1 row1\" >2020-02-12</th>\n",
       "                        <td id=\"T_90228b58_5474_11ea_8ff6_054989be1d01row1_col0\" class=\"data row1 col0\" >9025</td>\n",
       "                        <td id=\"T_90228b58_5474_11ea_8ff6_054989be1d01row1_col1\" class=\"data row1 col1\" >86</td>\n",
       "                        <td id=\"T_90228b58_5474_11ea_8ff6_054989be1d01row1_col2\" class=\"data row1 col2\" >54.1717</td>\n",
       "                        <td id=\"T_90228b58_5474_11ea_8ff6_054989be1d01row1_col3\" class=\"data row1 col3\" >55.2326</td>\n",
       "                        <td id=\"T_90228b58_5474_11ea_8ff6_054989be1d01row1_col4\" class=\"data row1 col4\" >1.06081</td>\n",
       "            </tr>\n",
       "            <tr>\n",
       "                                <th id=\"T_90228b58_5474_11ea_8ff6_054989be1d01level1_row2\" class=\"row_heading level1 row2\" >2020-02-13</th>\n",
       "                        <td id=\"T_90228b58_5474_11ea_8ff6_054989be1d01row2_col0\" class=\"data row2 col0\" >9115</td>\n",
       "                        <td id=\"T_90228b58_5474_11ea_8ff6_054989be1d01row2_col1\" class=\"data row2 col1\" >616</td>\n",
       "                        <td id=\"T_90228b58_5474_11ea_8ff6_054989be1d01row2_col2\" class=\"data row2 col2\" >53.5217</td>\n",
       "                        <td id=\"T_90228b58_5474_11ea_8ff6_054989be1d01row2_col3\" class=\"data row2 col3\" >45.2516</td>\n",
       "                        <td id=\"T_90228b58_5474_11ea_8ff6_054989be1d01row2_col4\" class=\"data row2 col4\" >-8.27004</td>\n",
       "            </tr>\n",
       "            <tr>\n",
       "                                <th id=\"T_90228b58_5474_11ea_8ff6_054989be1d01level1_row3\" class=\"row_heading level1 row3\" >2020-02-14</th>\n",
       "                        <td id=\"T_90228b58_5474_11ea_8ff6_054989be1d01row3_col0\" class=\"data row3 col0\" >8143</td>\n",
       "                        <td id=\"T_90228b58_5474_11ea_8ff6_054989be1d01row3_col1\" class=\"data row3 col1\" >897</td>\n",
       "                        <td id=\"T_90228b58_5474_11ea_8ff6_054989be1d01row3_col2\" class=\"data row3 col2\" >53.7363</td>\n",
       "                        <td id=\"T_90228b58_5474_11ea_8ff6_054989be1d01row3_col3\" class=\"data row3 col3\" >44.9554</td>\n",
       "                        <td id=\"T_90228b58_5474_11ea_8ff6_054989be1d01row3_col4\" class=\"data row3 col4\" >-8.78093</td>\n",
       "            </tr>\n",
       "            <tr>\n",
       "                                <th id=\"T_90228b58_5474_11ea_8ff6_054989be1d01level1_row4\" class=\"row_heading level1 row4\" >2020-02-15</th>\n",
       "                        <td id=\"T_90228b58_5474_11ea_8ff6_054989be1d01row4_col0\" class=\"data row4 col0\" >9454</td>\n",
       "                        <td id=\"T_90228b58_5474_11ea_8ff6_054989be1d01row4_col1\" class=\"data row4 col1\" >988</td>\n",
       "                        <td id=\"T_90228b58_5474_11ea_8ff6_054989be1d01row4_col2\" class=\"data row4 col2\" >53.9481</td>\n",
       "                        <td id=\"T_90228b58_5474_11ea_8ff6_054989be1d01row4_col3\" class=\"data row4 col3\" >43.3957</td>\n",
       "                        <td id=\"T_90228b58_5474_11ea_8ff6_054989be1d01row4_col4\" class=\"data row4 col4\" >-10.5523</td>\n",
       "            </tr>\n",
       "            <tr>\n",
       "                                <th id=\"T_90228b58_5474_11ea_8ff6_054989be1d01level1_row5\" class=\"row_heading level1 row5\" >2020-02-16</th>\n",
       "                        <td id=\"T_90228b58_5474_11ea_8ff6_054989be1d01row5_col0\" class=\"data row5 col0\" >9019</td>\n",
       "                        <td id=\"T_90228b58_5474_11ea_8ff6_054989be1d01row5_col1\" class=\"data row5 col1\" >961</td>\n",
       "                        <td id=\"T_90228b58_5474_11ea_8ff6_054989be1d01row5_col2\" class=\"data row5 col2\" >54.2078</td>\n",
       "                        <td id=\"T_90228b58_5474_11ea_8ff6_054989be1d01row5_col3\" class=\"data row5 col3\" >46.41</td>\n",
       "                        <td id=\"T_90228b58_5474_11ea_8ff6_054989be1d01row5_col4\" class=\"data row5 col4\" >-7.79779</td>\n",
       "            </tr>\n",
       "            <tr>\n",
       "                                <th id=\"T_90228b58_5474_11ea_8ff6_054989be1d01level1_row6\" class=\"row_heading level1 row6\" >2020-02-17</th>\n",
       "                        <td id=\"T_90228b58_5474_11ea_8ff6_054989be1d01row6_col0\" class=\"data row6 col0\" >8840</td>\n",
       "                        <td id=\"T_90228b58_5474_11ea_8ff6_054989be1d01row6_col1\" class=\"data row6 col1\" >932</td>\n",
       "                        <td id=\"T_90228b58_5474_11ea_8ff6_054989be1d01row6_col2\" class=\"data row6 col2\" >54.2958</td>\n",
       "                        <td id=\"T_90228b58_5474_11ea_8ff6_054989be1d01row6_col3\" class=\"data row6 col3\" >46.9957</td>\n",
       "                        <td id=\"T_90228b58_5474_11ea_8ff6_054989be1d01row6_col4\" class=\"data row6 col4\" >-7.30011</td>\n",
       "            </tr>\n",
       "            <tr>\n",
       "                                <th id=\"T_90228b58_5474_11ea_8ff6_054989be1d01level1_row7\" class=\"row_heading level1 row7\" >2020-02-18</th>\n",
       "                        <td id=\"T_90228b58_5474_11ea_8ff6_054989be1d01row7_col0\" class=\"data row7 col0\" >9039</td>\n",
       "                        <td id=\"T_90228b58_5474_11ea_8ff6_054989be1d01row7_col1\" class=\"data row7 col1\" >1028</td>\n",
       "                        <td id=\"T_90228b58_5474_11ea_8ff6_054989be1d01row7_col2\" class=\"data row7 col2\" >54.9203</td>\n",
       "                        <td id=\"T_90228b58_5474_11ea_8ff6_054989be1d01row7_col3\" class=\"data row7 col3\" >45.5739</td>\n",
       "                        <td id=\"T_90228b58_5474_11ea_8ff6_054989be1d01row7_col4\" class=\"data row7 col4\" >-9.34642</td>\n",
       "            </tr>\n",
       "            <tr>\n",
       "                                <th id=\"T_90228b58_5474_11ea_8ff6_054989be1d01level1_row8\" class=\"row_heading level1 row8\" >2020-02-19</th>\n",
       "                        <td id=\"T_90228b58_5474_11ea_8ff6_054989be1d01row8_col0\" class=\"data row8 col0\" >8767</td>\n",
       "                        <td id=\"T_90228b58_5474_11ea_8ff6_054989be1d01row8_col1\" class=\"data row8 col1\" >979</td>\n",
       "                        <td id=\"T_90228b58_5474_11ea_8ff6_054989be1d01row8_col2\" class=\"data row8 col2\" >53.9666</td>\n",
       "                        <td id=\"T_90228b58_5474_11ea_8ff6_054989be1d01row8_col3\" class=\"data row8 col3\" >48.1614</td>\n",
       "                        <td id=\"T_90228b58_5474_11ea_8ff6_054989be1d01row8_col4\" class=\"data row8 col4\" >-5.80519</td>\n",
       "            </tr>\n",
       "            <tr>\n",
       "                                <th id=\"T_90228b58_5474_11ea_8ff6_054989be1d01level1_row9\" class=\"row_heading level1 row9\" >2020-02-20</th>\n",
       "                        <td id=\"T_90228b58_5474_11ea_8ff6_054989be1d01row9_col0\" class=\"data row9 col0\" >7468</td>\n",
       "                        <td id=\"T_90228b58_5474_11ea_8ff6_054989be1d01row9_col1\" class=\"data row9 col1\" >893</td>\n",
       "                        <td id=\"T_90228b58_5474_11ea_8ff6_054989be1d01row9_col2\" class=\"data row9 col2\" >54.5695</td>\n",
       "                        <td id=\"T_90228b58_5474_11ea_8ff6_054989be1d01row9_col3\" class=\"data row9 col3\" >44.4569</td>\n",
       "                        <td id=\"T_90228b58_5474_11ea_8ff6_054989be1d01row9_col4\" class=\"data row9 col4\" >-10.1126</td>\n",
       "            </tr>\n",
       "            <tr>\n",
       "                        <th id=\"T_90228b58_5474_11ea_8ff6_054989be1d01level0_row10\" class=\"row_heading level0 row10\" rowspan=10>sg</th>\n",
       "                        <th id=\"T_90228b58_5474_11ea_8ff6_054989be1d01level1_row10\" class=\"row_heading level1 row10\" >2020-02-11</th>\n",
       "                        <td id=\"T_90228b58_5474_11ea_8ff6_054989be1d01row10_col0\" class=\"data row10 col0\" >61589</td>\n",
       "                        <td id=\"T_90228b58_5474_11ea_8ff6_054989be1d01row10_col1\" class=\"data row10 col1\" >3549</td>\n",
       "                        <td id=\"T_90228b58_5474_11ea_8ff6_054989be1d01row10_col2\" class=\"data row10 col2\" >48.4352</td>\n",
       "                        <td id=\"T_90228b58_5474_11ea_8ff6_054989be1d01row10_col3\" class=\"data row10 col3\" >49.845</td>\n",
       "                        <td id=\"T_90228b58_5474_11ea_8ff6_054989be1d01row10_col4\" class=\"data row10 col4\" >1.40984</td>\n",
       "            </tr>\n",
       "            <tr>\n",
       "                                <th id=\"T_90228b58_5474_11ea_8ff6_054989be1d01level1_row11\" class=\"row_heading level1 row11\" >2020-02-12</th>\n",
       "                        <td id=\"T_90228b58_5474_11ea_8ff6_054989be1d01row11_col0\" class=\"data row11 col0\" >57655</td>\n",
       "                        <td id=\"T_90228b58_5474_11ea_8ff6_054989be1d01row11_col1\" class=\"data row11 col1\" >3466</td>\n",
       "                        <td id=\"T_90228b58_5474_11ea_8ff6_054989be1d01row11_col2\" class=\"data row11 col2\" >47.3103</td>\n",
       "                        <td id=\"T_90228b58_5474_11ea_8ff6_054989be1d01row11_col3\" class=\"data row11 col3\" >47.0643</td>\n",
       "                        <td id=\"T_90228b58_5474_11ea_8ff6_054989be1d01row11_col4\" class=\"data row11 col4\" >-0.245955</td>\n",
       "            </tr>\n",
       "            <tr>\n",
       "                                <th id=\"T_90228b58_5474_11ea_8ff6_054989be1d01level1_row12\" class=\"row_heading level1 row12\" >2020-02-13</th>\n",
       "                        <td id=\"T_90228b58_5474_11ea_8ff6_054989be1d01row12_col0\" class=\"data row12 col0\" >55904</td>\n",
       "                        <td id=\"T_90228b58_5474_11ea_8ff6_054989be1d01row12_col1\" class=\"data row12 col1\" >3479</td>\n",
       "                        <td id=\"T_90228b58_5474_11ea_8ff6_054989be1d01row12_col2\" class=\"data row12 col2\" >47.5838</td>\n",
       "                        <td id=\"T_90228b58_5474_11ea_8ff6_054989be1d01row12_col3\" class=\"data row12 col3\" >47.2621</td>\n",
       "                        <td id=\"T_90228b58_5474_11ea_8ff6_054989be1d01row12_col4\" class=\"data row12 col4\" >-0.32166</td>\n",
       "            </tr>\n",
       "            <tr>\n",
       "                                <th id=\"T_90228b58_5474_11ea_8ff6_054989be1d01level1_row13\" class=\"row_heading level1 row13\" >2020-02-14</th>\n",
       "                        <td id=\"T_90228b58_5474_11ea_8ff6_054989be1d01row13_col0\" class=\"data row13 col0\" >54523</td>\n",
       "                        <td id=\"T_90228b58_5474_11ea_8ff6_054989be1d01row13_col1\" class=\"data row13 col1\" >3230</td>\n",
       "                        <td id=\"T_90228b58_5474_11ea_8ff6_054989be1d01row13_col2\" class=\"data row13 col2\" >47.2489</td>\n",
       "                        <td id=\"T_90228b58_5474_11ea_8ff6_054989be1d01row13_col3\" class=\"data row13 col3\" >46.904</td>\n",
       "                        <td id=\"T_90228b58_5474_11ea_8ff6_054989be1d01row13_col4\" class=\"data row13 col4\" >-0.344843</td>\n",
       "            </tr>\n",
       "            <tr>\n",
       "                                <th id=\"T_90228b58_5474_11ea_8ff6_054989be1d01level1_row14\" class=\"row_heading level1 row14\" >2020-02-15</th>\n",
       "                        <td id=\"T_90228b58_5474_11ea_8ff6_054989be1d01row14_col0\" class=\"data row14 col0\" >58947</td>\n",
       "                        <td id=\"T_90228b58_5474_11ea_8ff6_054989be1d01row14_col1\" class=\"data row14 col1\" >3462</td>\n",
       "                        <td id=\"T_90228b58_5474_11ea_8ff6_054989be1d01row14_col2\" class=\"data row14 col2\" >49.0262</td>\n",
       "                        <td id=\"T_90228b58_5474_11ea_8ff6_054989be1d01row14_col3\" class=\"data row14 col3\" >48.2813</td>\n",
       "                        <td id=\"T_90228b58_5474_11ea_8ff6_054989be1d01row14_col4\" class=\"data row14 col4\" >-0.744904</td>\n",
       "            </tr>\n",
       "            <tr>\n",
       "                                <th id=\"T_90228b58_5474_11ea_8ff6_054989be1d01level1_row15\" class=\"row_heading level1 row15\" >2020-02-16</th>\n",
       "                        <td id=\"T_90228b58_5474_11ea_8ff6_054989be1d01row15_col0\" class=\"data row15 col0\" >62182</td>\n",
       "                        <td id=\"T_90228b58_5474_11ea_8ff6_054989be1d01row15_col1\" class=\"data row15 col1\" >3720</td>\n",
       "                        <td id=\"T_90228b58_5474_11ea_8ff6_054989be1d01row15_col2\" class=\"data row15 col2\" >50.109</td>\n",
       "                        <td id=\"T_90228b58_5474_11ea_8ff6_054989be1d01row15_col3\" class=\"data row15 col3\" >49.2204</td>\n",
       "                        <td id=\"T_90228b58_5474_11ea_8ff6_054989be1d01row15_col4\" class=\"data row15 col4\" >-0.888524</td>\n",
       "            </tr>\n",
       "            <tr>\n",
       "                                <th id=\"T_90228b58_5474_11ea_8ff6_054989be1d01level1_row16\" class=\"row_heading level1 row16\" >2020-02-17</th>\n",
       "                        <td id=\"T_90228b58_5474_11ea_8ff6_054989be1d01row16_col0\" class=\"data row16 col0\" >74645</td>\n",
       "                        <td id=\"T_90228b58_5474_11ea_8ff6_054989be1d01row16_col1\" class=\"data row16 col1\" >4437</td>\n",
       "                        <td id=\"T_90228b58_5474_11ea_8ff6_054989be1d01row16_col2\" class=\"data row16 col2\" >52.6743</td>\n",
       "                        <td id=\"T_90228b58_5474_11ea_8ff6_054989be1d01row16_col3\" class=\"data row16 col3\" >52.7214</td>\n",
       "                        <td id=\"T_90228b58_5474_11ea_8ff6_054989be1d01row16_col4\" class=\"data row16 col4\" >0.0471083</td>\n",
       "            </tr>\n",
       "            <tr>\n",
       "                                <th id=\"T_90228b58_5474_11ea_8ff6_054989be1d01level1_row17\" class=\"row_heading level1 row17\" >2020-02-18</th>\n",
       "                        <td id=\"T_90228b58_5474_11ea_8ff6_054989be1d01row17_col0\" class=\"data row17 col0\" >74462</td>\n",
       "                        <td id=\"T_90228b58_5474_11ea_8ff6_054989be1d01row17_col1\" class=\"data row17 col1\" >4306</td>\n",
       "                        <td id=\"T_90228b58_5474_11ea_8ff6_054989be1d01row17_col2\" class=\"data row17 col2\" >53.2543</td>\n",
       "                        <td id=\"T_90228b58_5474_11ea_8ff6_054989be1d01row17_col3\" class=\"data row17 col3\" >52.4559</td>\n",
       "                        <td id=\"T_90228b58_5474_11ea_8ff6_054989be1d01row17_col4\" class=\"data row17 col4\" >-0.798469</td>\n",
       "            </tr>\n",
       "            <tr>\n",
       "                                <th id=\"T_90228b58_5474_11ea_8ff6_054989be1d01level1_row18\" class=\"row_heading level1 row18\" >2020-02-19</th>\n",
       "                        <td id=\"T_90228b58_5474_11ea_8ff6_054989be1d01row18_col0\" class=\"data row18 col0\" >62806</td>\n",
       "                        <td id=\"T_90228b58_5474_11ea_8ff6_054989be1d01row18_col1\" class=\"data row18 col1\" >3814</td>\n",
       "                        <td id=\"T_90228b58_5474_11ea_8ff6_054989be1d01row18_col2\" class=\"data row18 col2\" >51.0246</td>\n",
       "                        <td id=\"T_90228b58_5474_11ea_8ff6_054989be1d01row18_col3\" class=\"data row18 col3\" >48.9709</td>\n",
       "                        <td id=\"T_90228b58_5474_11ea_8ff6_054989be1d01row18_col4\" class=\"data row18 col4\" >-2.05369</td>\n",
       "            </tr>\n",
       "            <tr>\n",
       "                                <th id=\"T_90228b58_5474_11ea_8ff6_054989be1d01level1_row19\" class=\"row_heading level1 row19\" >2020-02-20</th>\n",
       "                        <td id=\"T_90228b58_5474_11ea_8ff6_054989be1d01row19_col0\" class=\"data row19 col0\" >51111</td>\n",
       "                        <td id=\"T_90228b58_5474_11ea_8ff6_054989be1d01row19_col1\" class=\"data row19 col1\" >2984</td>\n",
       "                        <td id=\"T_90228b58_5474_11ea_8ff6_054989be1d01row19_col2\" class=\"data row19 col2\" >48.6211</td>\n",
       "                        <td id=\"T_90228b58_5474_11ea_8ff6_054989be1d01row19_col3\" class=\"data row19 col3\" >47.2939</td>\n",
       "                        <td id=\"T_90228b58_5474_11ea_8ff6_054989be1d01row19_col4\" class=\"data row19 col4\" >-1.32724</td>\n",
       "            </tr>\n",
       "    </tbody></table>"
      ],
      "text/plain": [
       "<pandas.io.formats.style.Styler at 0x7f05b76a52e8>"
      ]
     },
     "execution_count": 47,
     "metadata": {},
     "output_type": "execute_result"
    }
   ],
   "source": [
    "def color_negatives(x):\n",
    "    if x>=0:\n",
    "        #return \"color:green\"\n",
    "        return \"\"\n",
    "    return \"background-color:pink\"\n",
    "\n",
    "scroll_by_day.style.applymap(color_negatives) "
   ]
  },
  {
   "cell_type": "markdown",
   "metadata": {
    "toc-hr-collapsed": false
   },
   "source": [
    "# Queries to Add\n",
    "```\n",
    "\n",
    "select * from id_pageview_metrics where time_on_page_seconds <5 and max_article_read_depth = 100 limit 100\n",
    "```\n",
    "---\n",
    "```\n",
    "select * from id_engagement_summary order by day_str, is_test \n",
    "\n",
    "```"
   ]
  },
  {
   "cell_type": "code",
   "execution_count": null,
   "metadata": {},
   "outputs": [],
   "source": []
  },
  {
   "cell_type": "code",
   "execution_count": null,
   "metadata": {},
   "outputs": [],
   "source": []
  },
  {
   "cell_type": "code",
   "execution_count": null,
   "metadata": {},
   "outputs": [],
   "source": []
  },
  {
   "cell_type": "markdown",
   "metadata": {},
   "source": [
    "# Data Cleaning\n",
    "\n",
    "* Remove what looks like bots / any really heavy users (not sure if most bots will trigger analytics events)\n"
   ]
  },
  {
   "cell_type": "code",
   "execution_count": 47,
   "metadata": {},
   "outputs": [],
   "source": [
    "non_amp_events = events[events.is_amp==False]"
   ]
  },
  {
   "cell_type": "markdown",
   "metadata": {},
   "source": [
    "# Sense Checks"
   ]
  },
  {
   "cell_type": "markdown",
   "metadata": {},
   "source": [
    "## Overall AB Split\n",
    "\n",
    "Theories about why the AB split won't match what is \"set\" on the AB splitter:\n",
    "\n",
    "* Repeat users will almost always be in the control set, and we have built up a good backlog over a couple of months (40% of our users are returning from google analytics, but that is over full lifetime of the cookie https://analytics.google.com/analytics/web/?authuser=2#/report/visitors-type/a117250120w173910722p173182279/ )\n",
    "* Potenially it's related to coming from AMP (don't think so)\n",
    "* Potentially it's based on origin of the traffic (e.g. certain query params, but this has been turned off)."
   ]
  },
  {
   "cell_type": "code",
   "execution_count": 48,
   "metadata": {},
   "outputs": [
    {
     "data": {
      "application/vnd.plotly.v1+json": {
       "config": {
        "plotlyServerURL": "https://plot.ly"
       },
       "data": [
        {
         "labels": [
          "Control (v1)",
          "Test (v2)"
         ],
         "type": "pie",
         "values": [
          1507374,
          93482
         ]
        }
       ],
       "layout": {
        "autosize": true,
        "template": {
         "data": {
          "bar": [
           {
            "error_x": {
             "color": "#2a3f5f"
            },
            "error_y": {
             "color": "#2a3f5f"
            },
            "marker": {
             "line": {
              "color": "#E5ECF6",
              "width": 0.5
             }
            },
            "type": "bar"
           }
          ],
          "barpolar": [
           {
            "marker": {
             "line": {
              "color": "#E5ECF6",
              "width": 0.5
             }
            },
            "type": "barpolar"
           }
          ],
          "carpet": [
           {
            "aaxis": {
             "endlinecolor": "#2a3f5f",
             "gridcolor": "white",
             "linecolor": "white",
             "minorgridcolor": "white",
             "startlinecolor": "#2a3f5f"
            },
            "baxis": {
             "endlinecolor": "#2a3f5f",
             "gridcolor": "white",
             "linecolor": "white",
             "minorgridcolor": "white",
             "startlinecolor": "#2a3f5f"
            },
            "type": "carpet"
           }
          ],
          "choropleth": [
           {
            "colorbar": {
             "outlinewidth": 0,
             "ticks": ""
            },
            "type": "choropleth"
           }
          ],
          "contour": [
           {
            "colorbar": {
             "outlinewidth": 0,
             "ticks": ""
            },
            "colorscale": [
             [
              0,
              "#0d0887"
             ],
             [
              0.1111111111111111,
              "#46039f"
             ],
             [
              0.2222222222222222,
              "#7201a8"
             ],
             [
              0.3333333333333333,
              "#9c179e"
             ],
             [
              0.4444444444444444,
              "#bd3786"
             ],
             [
              0.5555555555555556,
              "#d8576b"
             ],
             [
              0.6666666666666666,
              "#ed7953"
             ],
             [
              0.7777777777777778,
              "#fb9f3a"
             ],
             [
              0.8888888888888888,
              "#fdca26"
             ],
             [
              1,
              "#f0f921"
             ]
            ],
            "type": "contour"
           }
          ],
          "contourcarpet": [
           {
            "colorbar": {
             "outlinewidth": 0,
             "ticks": ""
            },
            "type": "contourcarpet"
           }
          ],
          "heatmap": [
           {
            "colorbar": {
             "outlinewidth": 0,
             "ticks": ""
            },
            "colorscale": [
             [
              0,
              "#0d0887"
             ],
             [
              0.1111111111111111,
              "#46039f"
             ],
             [
              0.2222222222222222,
              "#7201a8"
             ],
             [
              0.3333333333333333,
              "#9c179e"
             ],
             [
              0.4444444444444444,
              "#bd3786"
             ],
             [
              0.5555555555555556,
              "#d8576b"
             ],
             [
              0.6666666666666666,
              "#ed7953"
             ],
             [
              0.7777777777777778,
              "#fb9f3a"
             ],
             [
              0.8888888888888888,
              "#fdca26"
             ],
             [
              1,
              "#f0f921"
             ]
            ],
            "type": "heatmap"
           }
          ],
          "heatmapgl": [
           {
            "colorbar": {
             "outlinewidth": 0,
             "ticks": ""
            },
            "colorscale": [
             [
              0,
              "#0d0887"
             ],
             [
              0.1111111111111111,
              "#46039f"
             ],
             [
              0.2222222222222222,
              "#7201a8"
             ],
             [
              0.3333333333333333,
              "#9c179e"
             ],
             [
              0.4444444444444444,
              "#bd3786"
             ],
             [
              0.5555555555555556,
              "#d8576b"
             ],
             [
              0.6666666666666666,
              "#ed7953"
             ],
             [
              0.7777777777777778,
              "#fb9f3a"
             ],
             [
              0.8888888888888888,
              "#fdca26"
             ],
             [
              1,
              "#f0f921"
             ]
            ],
            "type": "heatmapgl"
           }
          ],
          "histogram": [
           {
            "marker": {
             "colorbar": {
              "outlinewidth": 0,
              "ticks": ""
             }
            },
            "type": "histogram"
           }
          ],
          "histogram2d": [
           {
            "colorbar": {
             "outlinewidth": 0,
             "ticks": ""
            },
            "colorscale": [
             [
              0,
              "#0d0887"
             ],
             [
              0.1111111111111111,
              "#46039f"
             ],
             [
              0.2222222222222222,
              "#7201a8"
             ],
             [
              0.3333333333333333,
              "#9c179e"
             ],
             [
              0.4444444444444444,
              "#bd3786"
             ],
             [
              0.5555555555555556,
              "#d8576b"
             ],
             [
              0.6666666666666666,
              "#ed7953"
             ],
             [
              0.7777777777777778,
              "#fb9f3a"
             ],
             [
              0.8888888888888888,
              "#fdca26"
             ],
             [
              1,
              "#f0f921"
             ]
            ],
            "type": "histogram2d"
           }
          ],
          "histogram2dcontour": [
           {
            "colorbar": {
             "outlinewidth": 0,
             "ticks": ""
            },
            "colorscale": [
             [
              0,
              "#0d0887"
             ],
             [
              0.1111111111111111,
              "#46039f"
             ],
             [
              0.2222222222222222,
              "#7201a8"
             ],
             [
              0.3333333333333333,
              "#9c179e"
             ],
             [
              0.4444444444444444,
              "#bd3786"
             ],
             [
              0.5555555555555556,
              "#d8576b"
             ],
             [
              0.6666666666666666,
              "#ed7953"
             ],
             [
              0.7777777777777778,
              "#fb9f3a"
             ],
             [
              0.8888888888888888,
              "#fdca26"
             ],
             [
              1,
              "#f0f921"
             ]
            ],
            "type": "histogram2dcontour"
           }
          ],
          "mesh3d": [
           {
            "colorbar": {
             "outlinewidth": 0,
             "ticks": ""
            },
            "type": "mesh3d"
           }
          ],
          "parcoords": [
           {
            "line": {
             "colorbar": {
              "outlinewidth": 0,
              "ticks": ""
             }
            },
            "type": "parcoords"
           }
          ],
          "pie": [
           {
            "automargin": true,
            "type": "pie"
           }
          ],
          "scatter": [
           {
            "marker": {
             "colorbar": {
              "outlinewidth": 0,
              "ticks": ""
             }
            },
            "type": "scatter"
           }
          ],
          "scatter3d": [
           {
            "line": {
             "colorbar": {
              "outlinewidth": 0,
              "ticks": ""
             }
            },
            "marker": {
             "colorbar": {
              "outlinewidth": 0,
              "ticks": ""
             }
            },
            "type": "scatter3d"
           }
          ],
          "scattercarpet": [
           {
            "marker": {
             "colorbar": {
              "outlinewidth": 0,
              "ticks": ""
             }
            },
            "type": "scattercarpet"
           }
          ],
          "scattergeo": [
           {
            "marker": {
             "colorbar": {
              "outlinewidth": 0,
              "ticks": ""
             }
            },
            "type": "scattergeo"
           }
          ],
          "scattergl": [
           {
            "marker": {
             "colorbar": {
              "outlinewidth": 0,
              "ticks": ""
             }
            },
            "type": "scattergl"
           }
          ],
          "scattermapbox": [
           {
            "marker": {
             "colorbar": {
              "outlinewidth": 0,
              "ticks": ""
             }
            },
            "type": "scattermapbox"
           }
          ],
          "scatterpolar": [
           {
            "marker": {
             "colorbar": {
              "outlinewidth": 0,
              "ticks": ""
             }
            },
            "type": "scatterpolar"
           }
          ],
          "scatterpolargl": [
           {
            "marker": {
             "colorbar": {
              "outlinewidth": 0,
              "ticks": ""
             }
            },
            "type": "scatterpolargl"
           }
          ],
          "scatterternary": [
           {
            "marker": {
             "colorbar": {
              "outlinewidth": 0,
              "ticks": ""
             }
            },
            "type": "scatterternary"
           }
          ],
          "surface": [
           {
            "colorbar": {
             "outlinewidth": 0,
             "ticks": ""
            },
            "colorscale": [
             [
              0,
              "#0d0887"
             ],
             [
              0.1111111111111111,
              "#46039f"
             ],
             [
              0.2222222222222222,
              "#7201a8"
             ],
             [
              0.3333333333333333,
              "#9c179e"
             ],
             [
              0.4444444444444444,
              "#bd3786"
             ],
             [
              0.5555555555555556,
              "#d8576b"
             ],
             [
              0.6666666666666666,
              "#ed7953"
             ],
             [
              0.7777777777777778,
              "#fb9f3a"
             ],
             [
              0.8888888888888888,
              "#fdca26"
             ],
             [
              1,
              "#f0f921"
             ]
            ],
            "type": "surface"
           }
          ],
          "table": [
           {
            "cells": {
             "fill": {
              "color": "#EBF0F8"
             },
             "line": {
              "color": "white"
             }
            },
            "header": {
             "fill": {
              "color": "#C8D4E3"
             },
             "line": {
              "color": "white"
             }
            },
            "type": "table"
           }
          ]
         },
         "layout": {
          "annotationdefaults": {
           "arrowcolor": "#2a3f5f",
           "arrowhead": 0,
           "arrowwidth": 1
          },
          "coloraxis": {
           "colorbar": {
            "outlinewidth": 0,
            "ticks": ""
           }
          },
          "colorscale": {
           "diverging": [
            [
             0,
             "#8e0152"
            ],
            [
             0.1,
             "#c51b7d"
            ],
            [
             0.2,
             "#de77ae"
            ],
            [
             0.3,
             "#f1b6da"
            ],
            [
             0.4,
             "#fde0ef"
            ],
            [
             0.5,
             "#f7f7f7"
            ],
            [
             0.6,
             "#e6f5d0"
            ],
            [
             0.7,
             "#b8e186"
            ],
            [
             0.8,
             "#7fbc41"
            ],
            [
             0.9,
             "#4d9221"
            ],
            [
             1,
             "#276419"
            ]
           ],
           "sequential": [
            [
             0,
             "#0d0887"
            ],
            [
             0.1111111111111111,
             "#46039f"
            ],
            [
             0.2222222222222222,
             "#7201a8"
            ],
            [
             0.3333333333333333,
             "#9c179e"
            ],
            [
             0.4444444444444444,
             "#bd3786"
            ],
            [
             0.5555555555555556,
             "#d8576b"
            ],
            [
             0.6666666666666666,
             "#ed7953"
            ],
            [
             0.7777777777777778,
             "#fb9f3a"
            ],
            [
             0.8888888888888888,
             "#fdca26"
            ],
            [
             1,
             "#f0f921"
            ]
           ],
           "sequentialminus": [
            [
             0,
             "#0d0887"
            ],
            [
             0.1111111111111111,
             "#46039f"
            ],
            [
             0.2222222222222222,
             "#7201a8"
            ],
            [
             0.3333333333333333,
             "#9c179e"
            ],
            [
             0.4444444444444444,
             "#bd3786"
            ],
            [
             0.5555555555555556,
             "#d8576b"
            ],
            [
             0.6666666666666666,
             "#ed7953"
            ],
            [
             0.7777777777777778,
             "#fb9f3a"
            ],
            [
             0.8888888888888888,
             "#fdca26"
            ],
            [
             1,
             "#f0f921"
            ]
           ]
          },
          "colorway": [
           "#636efa",
           "#EF553B",
           "#00cc96",
           "#ab63fa",
           "#FFA15A",
           "#19d3f3",
           "#FF6692",
           "#B6E880",
           "#FF97FF",
           "#FECB52"
          ],
          "font": {
           "color": "#2a3f5f"
          },
          "geo": {
           "bgcolor": "white",
           "lakecolor": "white",
           "landcolor": "#E5ECF6",
           "showlakes": true,
           "showland": true,
           "subunitcolor": "white"
          },
          "hoverlabel": {
           "align": "left"
          },
          "hovermode": "closest",
          "mapbox": {
           "style": "light"
          },
          "paper_bgcolor": "white",
          "plot_bgcolor": "#E5ECF6",
          "polar": {
           "angularaxis": {
            "gridcolor": "white",
            "linecolor": "white",
            "ticks": ""
           },
           "bgcolor": "#E5ECF6",
           "radialaxis": {
            "gridcolor": "white",
            "linecolor": "white",
            "ticks": ""
           }
          },
          "scene": {
           "xaxis": {
            "backgroundcolor": "#E5ECF6",
            "gridcolor": "white",
            "gridwidth": 2,
            "linecolor": "white",
            "showbackground": true,
            "ticks": "",
            "zerolinecolor": "white"
           },
           "yaxis": {
            "backgroundcolor": "#E5ECF6",
            "gridcolor": "white",
            "gridwidth": 2,
            "linecolor": "white",
            "showbackground": true,
            "ticks": "",
            "zerolinecolor": "white"
           },
           "zaxis": {
            "backgroundcolor": "#E5ECF6",
            "gridcolor": "white",
            "gridwidth": 2,
            "linecolor": "white",
            "showbackground": true,
            "ticks": "",
            "zerolinecolor": "white"
           }
          },
          "shapedefaults": {
           "line": {
            "color": "#2a3f5f"
           }
          },
          "ternary": {
           "aaxis": {
            "gridcolor": "white",
            "linecolor": "white",
            "ticks": ""
           },
           "baxis": {
            "gridcolor": "white",
            "linecolor": "white",
            "ticks": ""
           },
           "bgcolor": "#E5ECF6",
           "caxis": {
            "gridcolor": "white",
            "linecolor": "white",
            "ticks": ""
           }
          },
          "title": {
           "x": 0.05
          },
          "xaxis": {
           "automargin": true,
           "gridcolor": "white",
           "linecolor": "white",
           "ticks": "",
           "title": {
            "standoff": 15
           },
           "zerolinecolor": "white",
           "zerolinewidth": 2
          },
          "yaxis": {
           "automargin": true,
           "gridcolor": "white",
           "linecolor": "white",
           "ticks": "",
           "title": {
            "standoff": 15
           },
           "zerolinecolor": "white",
           "zerolinewidth": 2
          }
         }
        },
        "xaxis": {
         "anchor": "y",
         "domain": [
          0,
          1
         ]
        },
        "yaxis": {
         "anchor": "x",
         "domain": [
          0,
          1
         ]
        }
       }
      },
      "text/html": [
       "<div>\n",
       "        \n",
       "        \n",
       "            <div id=\"24b9d9b7-0a3d-4cd9-83fa-eef32c53cfe8\" class=\"plotly-graph-div\" style=\"height:525px; width:100%;\"></div>\n",
       "            <script type=\"text/javascript\">\n",
       "                require([\"plotly\"], function(Plotly) {\n",
       "                    window.PLOTLYENV=window.PLOTLYENV || {};\n",
       "                    \n",
       "                if (document.getElementById(\"24b9d9b7-0a3d-4cd9-83fa-eef32c53cfe8\")) {\n",
       "                    Plotly.newPlot(\n",
       "                        '24b9d9b7-0a3d-4cd9-83fa-eef32c53cfe8',\n",
       "                        [{\"labels\": [\"Control (v1)\", \"Test (v2)\"], \"type\": \"pie\", \"values\": [1507374, 93482]}],\n",
       "                        {\"template\": {\"data\": {\"bar\": [{\"error_x\": {\"color\": \"#2a3f5f\"}, \"error_y\": {\"color\": \"#2a3f5f\"}, \"marker\": {\"line\": {\"color\": \"#E5ECF6\", \"width\": 0.5}}, \"type\": \"bar\"}], \"barpolar\": [{\"marker\": {\"line\": {\"color\": \"#E5ECF6\", \"width\": 0.5}}, \"type\": \"barpolar\"}], \"carpet\": [{\"aaxis\": {\"endlinecolor\": \"#2a3f5f\", \"gridcolor\": \"white\", \"linecolor\": \"white\", \"minorgridcolor\": \"white\", \"startlinecolor\": \"#2a3f5f\"}, \"baxis\": {\"endlinecolor\": \"#2a3f5f\", \"gridcolor\": \"white\", \"linecolor\": \"white\", \"minorgridcolor\": \"white\", \"startlinecolor\": \"#2a3f5f\"}, \"type\": \"carpet\"}], \"choropleth\": [{\"colorbar\": {\"outlinewidth\": 0, \"ticks\": \"\"}, \"type\": \"choropleth\"}], \"contour\": [{\"colorbar\": {\"outlinewidth\": 0, \"ticks\": \"\"}, \"colorscale\": [[0.0, \"#0d0887\"], [0.1111111111111111, \"#46039f\"], [0.2222222222222222, \"#7201a8\"], [0.3333333333333333, \"#9c179e\"], [0.4444444444444444, \"#bd3786\"], [0.5555555555555556, \"#d8576b\"], [0.6666666666666666, \"#ed7953\"], [0.7777777777777778, \"#fb9f3a\"], [0.8888888888888888, \"#fdca26\"], [1.0, \"#f0f921\"]], \"type\": \"contour\"}], \"contourcarpet\": [{\"colorbar\": {\"outlinewidth\": 0, \"ticks\": \"\"}, \"type\": \"contourcarpet\"}], \"heatmap\": [{\"colorbar\": {\"outlinewidth\": 0, \"ticks\": \"\"}, \"colorscale\": [[0.0, \"#0d0887\"], [0.1111111111111111, \"#46039f\"], [0.2222222222222222, \"#7201a8\"], [0.3333333333333333, \"#9c179e\"], [0.4444444444444444, \"#bd3786\"], [0.5555555555555556, \"#d8576b\"], [0.6666666666666666, \"#ed7953\"], [0.7777777777777778, \"#fb9f3a\"], [0.8888888888888888, \"#fdca26\"], [1.0, \"#f0f921\"]], \"type\": \"heatmap\"}], \"heatmapgl\": [{\"colorbar\": {\"outlinewidth\": 0, \"ticks\": \"\"}, \"colorscale\": [[0.0, \"#0d0887\"], [0.1111111111111111, \"#46039f\"], [0.2222222222222222, \"#7201a8\"], [0.3333333333333333, \"#9c179e\"], [0.4444444444444444, \"#bd3786\"], [0.5555555555555556, \"#d8576b\"], [0.6666666666666666, \"#ed7953\"], [0.7777777777777778, \"#fb9f3a\"], [0.8888888888888888, \"#fdca26\"], [1.0, \"#f0f921\"]], \"type\": \"heatmapgl\"}], \"histogram\": [{\"marker\": {\"colorbar\": {\"outlinewidth\": 0, \"ticks\": \"\"}}, \"type\": \"histogram\"}], \"histogram2d\": [{\"colorbar\": {\"outlinewidth\": 0, \"ticks\": \"\"}, \"colorscale\": [[0.0, \"#0d0887\"], [0.1111111111111111, \"#46039f\"], [0.2222222222222222, \"#7201a8\"], [0.3333333333333333, \"#9c179e\"], [0.4444444444444444, \"#bd3786\"], [0.5555555555555556, \"#d8576b\"], [0.6666666666666666, \"#ed7953\"], [0.7777777777777778, \"#fb9f3a\"], [0.8888888888888888, \"#fdca26\"], [1.0, \"#f0f921\"]], \"type\": \"histogram2d\"}], \"histogram2dcontour\": [{\"colorbar\": {\"outlinewidth\": 0, \"ticks\": \"\"}, \"colorscale\": [[0.0, \"#0d0887\"], [0.1111111111111111, \"#46039f\"], [0.2222222222222222, \"#7201a8\"], [0.3333333333333333, \"#9c179e\"], [0.4444444444444444, \"#bd3786\"], [0.5555555555555556, \"#d8576b\"], [0.6666666666666666, \"#ed7953\"], [0.7777777777777778, \"#fb9f3a\"], [0.8888888888888888, \"#fdca26\"], [1.0, \"#f0f921\"]], \"type\": \"histogram2dcontour\"}], \"mesh3d\": [{\"colorbar\": {\"outlinewidth\": 0, \"ticks\": \"\"}, \"type\": \"mesh3d\"}], \"parcoords\": [{\"line\": {\"colorbar\": {\"outlinewidth\": 0, \"ticks\": \"\"}}, \"type\": \"parcoords\"}], \"pie\": [{\"automargin\": true, \"type\": \"pie\"}], \"scatter\": [{\"marker\": {\"colorbar\": {\"outlinewidth\": 0, \"ticks\": \"\"}}, \"type\": \"scatter\"}], \"scatter3d\": [{\"line\": {\"colorbar\": {\"outlinewidth\": 0, \"ticks\": \"\"}}, \"marker\": {\"colorbar\": {\"outlinewidth\": 0, \"ticks\": \"\"}}, \"type\": \"scatter3d\"}], \"scattercarpet\": [{\"marker\": {\"colorbar\": {\"outlinewidth\": 0, \"ticks\": \"\"}}, \"type\": \"scattercarpet\"}], \"scattergeo\": [{\"marker\": {\"colorbar\": {\"outlinewidth\": 0, \"ticks\": \"\"}}, \"type\": \"scattergeo\"}], \"scattergl\": [{\"marker\": {\"colorbar\": {\"outlinewidth\": 0, \"ticks\": \"\"}}, \"type\": \"scattergl\"}], \"scattermapbox\": [{\"marker\": {\"colorbar\": {\"outlinewidth\": 0, \"ticks\": \"\"}}, \"type\": \"scattermapbox\"}], \"scatterpolar\": [{\"marker\": {\"colorbar\": {\"outlinewidth\": 0, \"ticks\": \"\"}}, \"type\": \"scatterpolar\"}], \"scatterpolargl\": [{\"marker\": {\"colorbar\": {\"outlinewidth\": 0, \"ticks\": \"\"}}, \"type\": \"scatterpolargl\"}], \"scatterternary\": [{\"marker\": {\"colorbar\": {\"outlinewidth\": 0, \"ticks\": \"\"}}, \"type\": \"scatterternary\"}], \"surface\": [{\"colorbar\": {\"outlinewidth\": 0, \"ticks\": \"\"}, \"colorscale\": [[0.0, \"#0d0887\"], [0.1111111111111111, \"#46039f\"], [0.2222222222222222, \"#7201a8\"], [0.3333333333333333, \"#9c179e\"], [0.4444444444444444, \"#bd3786\"], [0.5555555555555556, \"#d8576b\"], [0.6666666666666666, \"#ed7953\"], [0.7777777777777778, \"#fb9f3a\"], [0.8888888888888888, \"#fdca26\"], [1.0, \"#f0f921\"]], \"type\": \"surface\"}], \"table\": [{\"cells\": {\"fill\": {\"color\": \"#EBF0F8\"}, \"line\": {\"color\": \"white\"}}, \"header\": {\"fill\": {\"color\": \"#C8D4E3\"}, \"line\": {\"color\": \"white\"}}, \"type\": \"table\"}]}, \"layout\": {\"annotationdefaults\": {\"arrowcolor\": \"#2a3f5f\", \"arrowhead\": 0, \"arrowwidth\": 1}, \"coloraxis\": {\"colorbar\": {\"outlinewidth\": 0, \"ticks\": \"\"}}, \"colorscale\": {\"diverging\": [[0, \"#8e0152\"], [0.1, \"#c51b7d\"], [0.2, \"#de77ae\"], [0.3, \"#f1b6da\"], [0.4, \"#fde0ef\"], [0.5, \"#f7f7f7\"], [0.6, \"#e6f5d0\"], [0.7, \"#b8e186\"], [0.8, \"#7fbc41\"], [0.9, \"#4d9221\"], [1, \"#276419\"]], \"sequential\": [[0.0, \"#0d0887\"], [0.1111111111111111, \"#46039f\"], [0.2222222222222222, \"#7201a8\"], [0.3333333333333333, \"#9c179e\"], [0.4444444444444444, \"#bd3786\"], [0.5555555555555556, \"#d8576b\"], [0.6666666666666666, \"#ed7953\"], [0.7777777777777778, \"#fb9f3a\"], [0.8888888888888888, \"#fdca26\"], [1.0, \"#f0f921\"]], \"sequentialminus\": [[0.0, \"#0d0887\"], [0.1111111111111111, \"#46039f\"], [0.2222222222222222, \"#7201a8\"], [0.3333333333333333, \"#9c179e\"], [0.4444444444444444, \"#bd3786\"], [0.5555555555555556, \"#d8576b\"], [0.6666666666666666, \"#ed7953\"], [0.7777777777777778, \"#fb9f3a\"], [0.8888888888888888, \"#fdca26\"], [1.0, \"#f0f921\"]]}, \"colorway\": [\"#636efa\", \"#EF553B\", \"#00cc96\", \"#ab63fa\", \"#FFA15A\", \"#19d3f3\", \"#FF6692\", \"#B6E880\", \"#FF97FF\", \"#FECB52\"], \"font\": {\"color\": \"#2a3f5f\"}, \"geo\": {\"bgcolor\": \"white\", \"lakecolor\": \"white\", \"landcolor\": \"#E5ECF6\", \"showlakes\": true, \"showland\": true, \"subunitcolor\": \"white\"}, \"hoverlabel\": {\"align\": \"left\"}, \"hovermode\": \"closest\", \"mapbox\": {\"style\": \"light\"}, \"paper_bgcolor\": \"white\", \"plot_bgcolor\": \"#E5ECF6\", \"polar\": {\"angularaxis\": {\"gridcolor\": \"white\", \"linecolor\": \"white\", \"ticks\": \"\"}, \"bgcolor\": \"#E5ECF6\", \"radialaxis\": {\"gridcolor\": \"white\", \"linecolor\": \"white\", \"ticks\": \"\"}}, \"scene\": {\"xaxis\": {\"backgroundcolor\": \"#E5ECF6\", \"gridcolor\": \"white\", \"gridwidth\": 2, \"linecolor\": \"white\", \"showbackground\": true, \"ticks\": \"\", \"zerolinecolor\": \"white\"}, \"yaxis\": {\"backgroundcolor\": \"#E5ECF6\", \"gridcolor\": \"white\", \"gridwidth\": 2, \"linecolor\": \"white\", \"showbackground\": true, \"ticks\": \"\", \"zerolinecolor\": \"white\"}, \"zaxis\": {\"backgroundcolor\": \"#E5ECF6\", \"gridcolor\": \"white\", \"gridwidth\": 2, \"linecolor\": \"white\", \"showbackground\": true, \"ticks\": \"\", \"zerolinecolor\": \"white\"}}, \"shapedefaults\": {\"line\": {\"color\": \"#2a3f5f\"}}, \"ternary\": {\"aaxis\": {\"gridcolor\": \"white\", \"linecolor\": \"white\", \"ticks\": \"\"}, \"baxis\": {\"gridcolor\": \"white\", \"linecolor\": \"white\", \"ticks\": \"\"}, \"bgcolor\": \"#E5ECF6\", \"caxis\": {\"gridcolor\": \"white\", \"linecolor\": \"white\", \"ticks\": \"\"}}, \"title\": {\"x\": 0.05}, \"xaxis\": {\"automargin\": true, \"gridcolor\": \"white\", \"linecolor\": \"white\", \"ticks\": \"\", \"title\": {\"standoff\": 15}, \"zerolinecolor\": \"white\", \"zerolinewidth\": 2}, \"yaxis\": {\"automargin\": true, \"gridcolor\": \"white\", \"linecolor\": \"white\", \"ticks\": \"\", \"title\": {\"standoff\": 15}, \"zerolinecolor\": \"white\", \"zerolinewidth\": 2}}}, \"xaxis\": {\"anchor\": \"y\", \"domain\": [0.0, 1.0]}, \"yaxis\": {\"anchor\": \"x\", \"domain\": [0.0, 1.0]}},\n",
       "                        {\"responsive\": true}\n",
       "                    ).then(function(){\n",
       "                            \n",
       "var gd = document.getElementById('24b9d9b7-0a3d-4cd9-83fa-eef32c53cfe8');\n",
       "var x = new MutationObserver(function (mutations, observer) {{\n",
       "        var display = window.getComputedStyle(gd).display;\n",
       "        if (!display || display === 'none') {{\n",
       "            console.log([gd, 'removed!']);\n",
       "            Plotly.purge(gd);\n",
       "            observer.disconnect();\n",
       "        }}\n",
       "}});\n",
       "\n",
       "// Listen for the removal of the full notebook cells\n",
       "var notebookContainer = gd.closest('#notebook-container');\n",
       "if (notebookContainer) {{\n",
       "    x.observe(notebookContainer, {childList: true});\n",
       "}}\n",
       "\n",
       "// Listen for the clearing of the current output cell\n",
       "var outputEl = gd.closest('.output');\n",
       "if (outputEl) {{\n",
       "    x.observe(outputEl, {childList: true});\n",
       "}}\n",
       "\n",
       "                        })\n",
       "                };\n",
       "                });\n",
       "            </script>\n",
       "        </div>"
      ]
     },
     "metadata": {},
     "output_type": "display_data"
    }
   ],
   "source": [
    "ab_split_summary = non_amp_events.groupby(\"is_test\").count()[\"sent_at\"]\n",
    "ab_split_summary_pretty = [[(\"Test (v2)\" if z[0] else \"Control (v1)\"), z[1]] for z in ab_split_summary.iteritems()]\n",
    "\n",
    "\n",
    "import plotly.graph_objects as go\n",
    "fig = make_subplots(1, 1)\n",
    "\n",
    "fig.add_trace(\n",
    "    go.Pie(values=[z[1] for z in ab_split_summary_pretty], labels=[z[0] for z in ab_split_summary_pretty]),\n",
    ")\n",
    "\n",
    "                \n",
    "fig.show()"
   ]
  },
  {
   "cell_type": "code",
   "execution_count": null,
   "metadata": {},
   "outputs": [],
   "source": [
    "\n"
   ]
  },
  {
   "cell_type": "markdown",
   "metadata": {},
   "source": [
    "## Type of Event"
   ]
  },
  {
   "cell_type": "code",
   "execution_count": 49,
   "metadata": {},
   "outputs": [
    {
     "data": {
      "text/plain": [
       "1600945"
      ]
     },
     "execution_count": 49,
     "metadata": {},
     "output_type": "execute_result"
    }
   ],
   "source": [
    "len(events)"
   ]
  },
  {
   "cell_type": "code",
   "execution_count": 50,
   "metadata": {},
   "outputs": [
    {
     "data": {
      "text/plain": [
       "event_name\n",
       "PageView     583563\n",
       "Reading     1017382\n",
       "dtype: int64"
      ]
     },
     "execution_count": 50,
     "metadata": {},
     "output_type": "execute_result"
    }
   ],
   "source": [
    "event_name_counts = events.groupby(events.event_name).size()\n",
    "event_name_counts\n"
   ]
  },
  {
   "cell_type": "code",
   "execution_count": 51,
   "metadata": {},
   "outputs": [
    {
     "data": {
      "text/plain": [
       "([<matplotlib.patches.Wedge at 0x7f49a4248198>,\n",
       "  <matplotlib.patches.Wedge at 0x7f49a4248668>],\n",
       " [Text(0.4542035828902738, 1.0018478453785478, 'PageView'),\n",
       "  Text(-0.4542036766900372, -1.0018478028529345, 'Reading')])"
      ]
     },
     "execution_count": 51,
     "metadata": {},
     "output_type": "execute_result"
    },
    {
     "data": {
      "image/png": "[encoded data removed]",
      "text/plain": [
       "<Figure size 432x288 with 1 Axes>"
      ]
     },
     "metadata": {},
     "output_type": "display_data"
    }
   ],
   "source": [
    "plt.pie(event_name_counts, labels=event_name_counts.keys())"
   ]
  },
  {
   "cell_type": "code",
   "execution_count": 52,
   "metadata": {},
   "outputs": [
    {
     "ename": "ValueError",
     "evalue": "Length of grouper (1600945) and axis (1017382) must be same length",
     "output_type": "error",
     "traceback": [
      "\u001b[0;31m---------------------------------------------------------------------------\u001b[0m",
      "\u001b[0;31mValueError\u001b[0m                                Traceback (most recent call last)",
      "\u001b[0;32m<ipython-input-52-28a141a6e1cf>\u001b[0m in \u001b[0;36m<module>\u001b[0;34m()\u001b[0m\n\u001b[1;32m      2\u001b[0m \u001b[0mexpected_statuses\u001b[0m \u001b[0;34m=\u001b[0m \u001b[0;34m[\u001b[0m\u001b[0;34m\"Article Body {}\"\u001b[0m\u001b[0;34m.\u001b[0m\u001b[0mformat\u001b[0m\u001b[0;34m(\u001b[0m\u001b[0mi\u001b[0m\u001b[0;34m)\u001b[0m \u001b[0;32mfor\u001b[0m \u001b[0mi\u001b[0m \u001b[0;32min\u001b[0m \u001b[0;34m[\u001b[0m\u001b[0;36m0\u001b[0m\u001b[0;34m,\u001b[0m \u001b[0;36m25\u001b[0m\u001b[0;34m,\u001b[0m \u001b[0;36m50\u001b[0m\u001b[0;34m,\u001b[0m \u001b[0;36m75\u001b[0m\u001b[0;34m,\u001b[0m \u001b[0;36m100\u001b[0m\u001b[0;34m]\u001b[0m\u001b[0;34m]\u001b[0m\u001b[0;34m\u001b[0m\u001b[0m\n\u001b[1;32m      3\u001b[0m \u001b[0mexpected_statuses_set\u001b[0m \u001b[0;34m=\u001b[0m \u001b[0mset\u001b[0m\u001b[0;34m(\u001b[0m\u001b[0mexpected_statuses\u001b[0m\u001b[0;34m)\u001b[0m\u001b[0;34m\u001b[0m\u001b[0m\n\u001b[0;32m----> 4\u001b[0;31m \u001b[0mreading_status_counts\u001b[0m \u001b[0;34m=\u001b[0m \u001b[0mevents\u001b[0m\u001b[0;34m[\u001b[0m\u001b[0mevents\u001b[0m\u001b[0;34m.\u001b[0m\u001b[0mevent_name\u001b[0m\u001b[0;34m==\u001b[0m\u001b[0;34m\"Reading\"\u001b[0m\u001b[0;34m]\u001b[0m\u001b[0;34m.\u001b[0m\u001b[0mgroupby\u001b[0m\u001b[0;34m(\u001b[0m\u001b[0;34m[\u001b[0m\u001b[0mevents\u001b[0m\u001b[0;34m.\u001b[0m\u001b[0mstatus\u001b[0m\u001b[0;34m,\u001b[0m \u001b[0mevents\u001b[0m\u001b[0;34m.\u001b[0m\u001b[0mis_test\u001b[0m\u001b[0;34m]\u001b[0m\u001b[0;34m)\u001b[0m\u001b[0;34m.\u001b[0m\u001b[0mcount\u001b[0m\u001b[0;34m(\u001b[0m\u001b[0;34m)\u001b[0m\u001b[0;34m[\u001b[0m\u001b[0;34m'sent_at'\u001b[0m\u001b[0;34m]\u001b[0m \u001b[0;31m#[[\"event_name\", \"is_test\" ], :]\u001b[0m\u001b[0;34m\u001b[0m\u001b[0m\n\u001b[0m\u001b[1;32m      5\u001b[0m \u001b[0mreading_status_counts\u001b[0m\u001b[0;34m.\u001b[0m\u001b[0msort_index\u001b[0m\u001b[0;34m(\u001b[0m\u001b[0;34m)\u001b[0m\u001b[0;34m\u001b[0m\u001b[0m\n\u001b[1;32m      6\u001b[0m \u001b[0mreading_status_counts\u001b[0m \u001b[0;34m=\u001b[0m \u001b[0;34m[\u001b[0m\u001b[0;34m[\u001b[0m\u001b[0mz\u001b[0m\u001b[0;34m[\u001b[0m\u001b[0;36m0\u001b[0m\u001b[0;34m]\u001b[0m\u001b[0;34m[\u001b[0m\u001b[0;36m0\u001b[0m\u001b[0;34m]\u001b[0m\u001b[0;34m,\u001b[0m \u001b[0mz\u001b[0m\u001b[0;34m[\u001b[0m\u001b[0;36m0\u001b[0m\u001b[0;34m]\u001b[0m\u001b[0;34m[\u001b[0m\u001b[0;36m1\u001b[0m\u001b[0;34m]\u001b[0m\u001b[0;34m,\u001b[0m \u001b[0mz\u001b[0m\u001b[0;34m[\u001b[0m\u001b[0;36m1\u001b[0m\u001b[0;34m]\u001b[0m\u001b[0;34m]\u001b[0m \u001b[0;32mfor\u001b[0m \u001b[0mz\u001b[0m \u001b[0;32min\u001b[0m \u001b[0mreading_status_counts\u001b[0m\u001b[0;34m.\u001b[0m\u001b[0miteritems\u001b[0m\u001b[0;34m(\u001b[0m\u001b[0;34m)\u001b[0m\u001b[0;34m]\u001b[0m\u001b[0;34m\u001b[0m\u001b[0m\n",
      "\u001b[0;32m~/anaconda3/envs/python3/lib/python3.6/site-packages/pandas/core/generic.py\u001b[0m in \u001b[0;36mgroupby\u001b[0;34m(self, by, axis, level, as_index, sort, group_keys, squeeze, observed, **kwargs)\u001b[0m\n\u001b[1;32m   7630\u001b[0m         return groupby(self, by=by, axis=axis, level=level, as_index=as_index,\n\u001b[1;32m   7631\u001b[0m                        \u001b[0msort\u001b[0m\u001b[0;34m=\u001b[0m\u001b[0msort\u001b[0m\u001b[0;34m,\u001b[0m \u001b[0mgroup_keys\u001b[0m\u001b[0;34m=\u001b[0m\u001b[0mgroup_keys\u001b[0m\u001b[0;34m,\u001b[0m \u001b[0msqueeze\u001b[0m\u001b[0;34m=\u001b[0m\u001b[0msqueeze\u001b[0m\u001b[0;34m,\u001b[0m\u001b[0;34m\u001b[0m\u001b[0m\n\u001b[0;32m-> 7632\u001b[0;31m                        observed=observed, **kwargs)\n\u001b[0m\u001b[1;32m   7633\u001b[0m \u001b[0;34m\u001b[0m\u001b[0m\n\u001b[1;32m   7634\u001b[0m     def asfreq(self, freq, method=None, how=None, normalize=False,\n",
      "\u001b[0;32m~/anaconda3/envs/python3/lib/python3.6/site-packages/pandas/core/groupby/groupby.py\u001b[0m in \u001b[0;36mgroupby\u001b[0;34m(obj, by, **kwds)\u001b[0m\n\u001b[1;32m   2108\u001b[0m         \u001b[0;32mraise\u001b[0m \u001b[0mTypeError\u001b[0m\u001b[0;34m(\u001b[0m\u001b[0;34m'invalid type: {}'\u001b[0m\u001b[0;34m.\u001b[0m\u001b[0mformat\u001b[0m\u001b[0;34m(\u001b[0m\u001b[0mobj\u001b[0m\u001b[0;34m)\u001b[0m\u001b[0;34m)\u001b[0m\u001b[0;34m\u001b[0m\u001b[0m\n\u001b[1;32m   2109\u001b[0m \u001b[0;34m\u001b[0m\u001b[0m\n\u001b[0;32m-> 2110\u001b[0;31m     \u001b[0;32mreturn\u001b[0m \u001b[0mklass\u001b[0m\u001b[0;34m(\u001b[0m\u001b[0mobj\u001b[0m\u001b[0;34m,\u001b[0m \u001b[0mby\u001b[0m\u001b[0;34m,\u001b[0m \u001b[0;34m**\u001b[0m\u001b[0mkwds\u001b[0m\u001b[0;34m)\u001b[0m\u001b[0;34m\u001b[0m\u001b[0m\n\u001b[0m",
      "\u001b[0;32m~/anaconda3/envs/python3/lib/python3.6/site-packages/pandas/core/groupby/groupby.py\u001b[0m in \u001b[0;36m__init__\u001b[0;34m(self, obj, keys, axis, level, grouper, exclusions, selection, as_index, sort, group_keys, squeeze, observed, **kwargs)\u001b[0m\n\u001b[1;32m    358\u001b[0m                                                     \u001b[0msort\u001b[0m\u001b[0;34m=\u001b[0m\u001b[0msort\u001b[0m\u001b[0;34m,\u001b[0m\u001b[0;34m\u001b[0m\u001b[0m\n\u001b[1;32m    359\u001b[0m                                                     \u001b[0mobserved\u001b[0m\u001b[0;34m=\u001b[0m\u001b[0mobserved\u001b[0m\u001b[0;34m,\u001b[0m\u001b[0;34m\u001b[0m\u001b[0m\n\u001b[0;32m--> 360\u001b[0;31m                                                     mutated=self.mutated)\n\u001b[0m\u001b[1;32m    361\u001b[0m \u001b[0;34m\u001b[0m\u001b[0m\n\u001b[1;32m    362\u001b[0m         \u001b[0mself\u001b[0m\u001b[0;34m.\u001b[0m\u001b[0mobj\u001b[0m \u001b[0;34m=\u001b[0m \u001b[0mobj\u001b[0m\u001b[0;34m\u001b[0m\u001b[0m\n",
      "\u001b[0;32m~/anaconda3/envs/python3/lib/python3.6/site-packages/pandas/core/groupby/grouper.py\u001b[0m in \u001b[0;36m_get_grouper\u001b[0;34m(obj, key, axis, level, sort, observed, mutated, validate)\u001b[0m\n\u001b[1;32m    588\u001b[0m                 (\"Length of grouper ({len_gpr}) and axis ({len_axis})\"\n\u001b[1;32m    589\u001b[0m                  \u001b[0;34m\" must be same length\"\u001b[0m\u001b[0;34m\u001b[0m\u001b[0m\n\u001b[0;32m--> 590\u001b[0;31m                  .format(len_gpr=len(gpr), len_axis=obj.shape[axis])))\n\u001b[0m\u001b[1;32m    591\u001b[0m \u001b[0;34m\u001b[0m\u001b[0m\n\u001b[1;32m    592\u001b[0m         \u001b[0;31m# create the Grouping\u001b[0m\u001b[0;34m\u001b[0m\u001b[0;34m\u001b[0m\u001b[0m\n",
      "\u001b[0;31mValueError\u001b[0m: Length of grouper (1600945) and axis (1017382) must be same length"
     ]
    }
   ],
   "source": [
    "# Doing this sense check on the event fields, not the computed depth\n",
    "expected_statuses = [\"Article Body {}\".format(i) for i in [0, 25, 50, 75, 100]]\n",
    "expected_statuses_set = set(expected_statuses)\n",
    "reading_status_counts = events[events.event_name==\"Reading\"].groupby([events.status, events.is_test]).count()['sent_at'] #[[\"event_name\", \"is_test\" ], :]\n",
    "reading_status_counts.sort_index()\n",
    "reading_status_counts = [[z[0][0], z[0][1], z[1]] for z in reading_status_counts.iteritems()]\n",
    "test_reading_status_counts = [z for z in reading_status_counts if z[1]==True]\n",
    "control_reading_status_counts = [z for z in reading_status_counts if z[1]==True]\n",
    "\n",
    "for name, reading_statuses in [[\"Test\", test_reading_status_counts], [\"Control\", control_reading_status_counts]]:\n",
    "    statuses_set = set([z[0] for z in reading_statuses])\n",
    "    missing_statuses = list(expected_statuses_set - statuses_set)\n",
    "    extra_statuses = list(statuses_set - expected_statuses_set)\n",
    "    \n",
    "    if len(missing_statuses)>0:\n",
    "        print(\"ERROR: Missing expected statuses for Reading event in \"+name+\": \" + \", \".join(missing_statuses))\n",
    "        \n",
    "    if len(extra_statuses)>0:\n",
    "        print(\"ERROR: Unexpected statuses for Reading event in \"+name+\": \" + \", \".join(extra_statuses))\n",
    "                        \n",
    "# Going to look at scroll depth comparison lower down, so don't need to worry about it just now.\n"
   ]
  },
  {
   "cell_type": "code",
   "execution_count": null,
   "metadata": {},
   "outputs": [],
   "source": [
    "expected_statuses"
   ]
  },
  {
   "cell_type": "code",
   "execution_count": null,
   "metadata": {},
   "outputs": [],
   "source": []
  },
  {
   "cell_type": "code",
   "execution_count": null,
   "metadata": {},
   "outputs": [],
   "source": []
  },
  {
   "cell_type": "markdown",
   "metadata": {},
   "source": [
    "## Pageviews Grouped\n",
    "\n",
    "* By category\n",
    "* By device\n",
    "* By query params (limited to the top n, and grouping glcid and fbclid)\n",
    "\n",
    "... and for each one give the v2 percentage (which might need another chart)"
   ]
  },
  {
   "cell_type": "code",
   "execution_count": null,
   "metadata": {},
   "outputs": [],
   "source": []
  },
  {
   "cell_type": "markdown",
   "metadata": {},
   "source": [
    "## Distribution Over Time"
   ]
  },
  {
   "cell_type": "code",
   "execution_count": null,
   "metadata": {},
   "outputs": [],
   "source": [
    "# Group by hour and plot with time axis\n",
    "events.groupby([events.sent_at_timestamp.hour, events.is_test]).count()"
   ]
  },
  {
   "cell_type": "markdown",
   "metadata": {},
   "source": [
    "# Scroll Depth Distributions\n",
    "\n",
    "By split:\n",
    "* How far down the page does a user scroll on average (table and plot)\n",
    "* Time to reach a point down the page (charts) \n"
   ]
  },
  {
   "cell_type": "code",
   "execution_count": null,
   "metadata": {},
   "outputs": [],
   "source": []
  },
  {
   "cell_type": "markdown",
   "metadata": {},
   "source": [
    "# Pageview Per Session\n",
    "\n",
    "* Where they click (future)\n",
    "* "
   ]
  },
  {
   "cell_type": "code",
   "execution_count": null,
   "metadata": {},
   "outputs": [],
   "source": []
  },
  {
   "cell_type": "markdown",
   "metadata": {},
   "source": [
    "# Exploring by Browser / Device\n",
    "\n",
    "We've seen issues on Babe, UCBrowser etc.  Need to check if there are issues from those platforms.\n",
    "\n",
    "The issues we saw likely resulted in scroll depth issues.  I'm also not sure what analytics we're going to get from those platform, so just generally need to poke it."
   ]
  },
  {
   "cell_type": "markdown",
   "metadata": {},
   "source": [
    "## Hacky Events By Device Type"
   ]
  },
  {
   "cell_type": "code",
   "execution_count": null,
   "metadata": {},
   "outputs": [],
   "source": [
    "events.head()\n",
    "events[events.event_name==\"PageView\"].head()"
   ]
  },
  {
   "cell_type": "code",
   "execution_count": null,
   "metadata": {},
   "outputs": [],
   "source": [
    "# Get the events for a given day by device type, across all URLs\n",
    "\n",
    "\n",
    "\"\"\", context.device.type as device_type\n",
    "        , context.browser.name as browser_name\n",
    "        , context.browser.major as browser_major_version\n",
    "        , context.browser.version as browser_version\n",
    "        \n",
    "        , context.operating_system.name as operating_system_name\n",
    "        , context.operating_system.version as operating_system_version\n",
    "        , context.user_agent as user_agent\"\"\"\n",
    "\n",
    "#cols_to_group_by = [\"event_name\", \"status\",  \"device_type\", \"browser_name\", \"browser_version\"]\n",
    "cols_to_group_by = [\"event_name\", \"status\",  \"device_type\", \"browser_name\"]\n",
    "# cols_to_group_by = [\"event_name\", \"status\",  \"device_type\", \"browser_name\", \"user_agent\"]\n",
    "#cols_to_group_by  = [\"event_name\", \"status\",  \"device_type\", ]\n",
    "# combined_raw_df  = events.groupby(cols_to_group_by+[\"is_test\",]).size()\n",
    "\n",
    "combined_raw_df = pd.DataFrame({\"count\":events.fillna(0).groupby(cols_to_group_by+[\"is_test\",]).size()}).reset_index()  #fillna(-1) is to stop it removing Nulls \n",
    "\n",
    "# combined_raw_df[combined_raw_df.event_name==\"PageView\"]\n"
   ]
  },
  {
   "cell_type": "code",
   "execution_count": null,
   "metadata": {},
   "outputs": [],
   "source": [
    "# combined_raw_df[combined_raw_df.is_test==True]"
   ]
  },
  {
   "cell_type": "code",
   "execution_count": null,
   "metadata": {},
   "outputs": [],
   "source": [
    "\n",
    "\n",
    "# join across both sides of the AB test\n",
    "test_df =combined_raw_df[combined_raw_df.is_test==True]\n",
    "test_df = test_df.rename(columns={\"count\":\"test_count\"}) #in_place = True\n",
    "control_df = combined_raw_df[combined_raw_df.is_test==False]\n",
    "control_df = control_df.rename(columns={\"count\":\"control_count\"})\n",
    "\n",
    "print(test_df.head(20))\n",
    "\n",
    "#print(control_df.head())\n",
    "\n",
    "\n",
    "\n",
    "#print(test_df.keys)\n",
    "test_df.reset_index()\n",
    "#print(20*\"-\")\n",
    "#print(test_df.keys())\n",
    "#print(test_df.columns)\n",
    "test_df\n",
    "control_df.reset_index()\n",
    "test_df = test_df.set_index(cols_to_group_by)\n",
    "control_df = control_df.set_index(cols_to_group_by)\n",
    "\n",
    "combined_df = test_df.join(control_df, rsuffix=\"_\").reset_index()\n",
    "#combined_df.fillna(0) #get rid of NaN"
   ]
  },
  {
   "cell_type": "code",
   "execution_count": null,
   "metadata": {},
   "outputs": [],
   "source": [
    "combined_df[\"test_fraction\"] = combined_df.apply (lambda row: row.test_count/(row.control_count + row.test_count), axis=1)"
   ]
  },
  {
   "cell_type": "code",
   "execution_count": null,
   "metadata": {},
   "outputs": [],
   "source": [
    "combined_df.head()"
   ]
  },
  {
   "cell_type": "code",
   "execution_count": null,
   "metadata": {},
   "outputs": [],
   "source": [
    "#combined_df[combined_df['control_count']>1000][combined_df['browser_name']==\"Facebook\"].sort_values([\"browser_name\", \"browser_version\", \"status\"]) #.to_csv(\"results.csv\")\n",
    "#combined_df[combined_df['control_count']>1000][combined_df['browser_name']==\"UCBrowser\"][(combined_df['event_name']==\"PageView\")  | (combined_df['status']==\"Article Body 100\")].sort_values([\"device_type\",\"browser_name\",\"status\"]) #.to_csv(\"results.csv\")\n",
    "# \"test_fraction\", \n",
    "#.sort_values([\"control_count\"])#\n",
    "\n",
    "combined_df[combined_df['control_count']>1000][combined_df['browser_name']==\"Facebook\"].sort_values([\"status\", \"browser_name\"]) #.to_csv(\"results.csv\")\n",
    "\n",
    "# df = combined_df[combined_df['control_count']>100].sort_values([\"user_agent\", \"event_name\",\"status\"])\n",
    "# df.to_csv(\"test_fraction_by_user_agent.csv\")\n",
    "\n",
    "# combined_df[combined_df['control_count']>1000].sort_values([\"browser_name\", \"browser_version\", \"status\"]) #.to_csv(\"results.csv\")\n",
    "\n",
    "#combined_df[combined_df['control_count']>100][combined_df['test_count']>50].sort_values([\"test_fraction\"])\n"
   ]
  },
  {
   "cell_type": "code",
   "execution_count": null,
   "metadata": {},
   "outputs": [],
   "source": [
    "208638.0 / len(events[events.event_name==\"PageView\"])"
   ]
  },
  {
   "cell_type": "code",
   "execution_count": null,
   "metadata": {},
   "outputs": [],
   "source": [
    "len(events[events.is_amp==True][events.event_name==\"PageView\"])"
   ]
  },
  {
   "cell_type": "markdown",
   "metadata": {},
   "source": [
    "## Hacky Check That No Pages Have Issues"
   ]
  },
  {
   "cell_type": "code",
   "execution_count": null,
   "metadata": {},
   "outputs": [],
   "source": [
    "events.head()\n"
   ]
  },
  {
   "cell_type": "code",
   "execution_count": null,
   "metadata": {},
   "outputs": [],
   "source": [
    "cols_to_group_by = [\"canonical_url\",\"type\", \"event_name\", \"status\", \"is_test\", \"device_type\"]\n",
    "# events_by_url = events.groupby(cols_to_group_by)\n",
    "# events_by_url.head()\n",
    "\n",
    "combined_raw_df = pd.DataFrame({\"count\":events.fillna(0).groupby(cols_to_group_by).size()}).reset_index()\n",
    "combined_raw_df"
   ]
  },
  {
   "cell_type": "code",
   "execution_count": null,
   "metadata": {},
   "outputs": [],
   "source": [
    "\n",
    "# join across both sides of the AB test\n",
    "test_df =combined_raw_df[combined_raw_df.is_test==True]\n",
    "test_df = test_df.rename(columns={\"count\":\"test_count\"}) #in_place = True\n",
    "control_df = combined_raw_df[combined_raw_df.is_test==False]\n",
    "control_df = control_df.rename(columns={\"count\":\"control_count\"})\n",
    "\n",
    "print(test_df.head(20))\n",
    "\n",
    "#print(control_df.head())\n",
    "\n",
    "\n",
    "\n",
    "#print(test_df.keys)\n",
    "test_df.reset_index()\n",
    "#print(20*\"-\")\n",
    "#print(test_df.keys())\n",
    "#print(test_df.columns)\n",
    "test_df\n",
    "control_df.reset_index()\n",
    "test_df = test_df.set_index(cols_to_group_by)\n",
    "control_df = control_df.set_index(cols_to_group_by)\n",
    "\n",
    "combined_df = test_df.join(control_df, rsuffix=\"_\").reset_index()\n",
    "#combined_df.fillna(0) #get rid of NaN"
   ]
  },
  {
   "cell_type": "code",
   "execution_count": null,
   "metadata": {},
   "outputs": [],
   "source": [
    "combined_df[\"test_fraction\"] = combined_df.apply (lambda row: row.test_count/(row.control_count + row.test_count), axis=1)"
   ]
  },
  {
   "cell_type": "code",
   "execution_count": null,
   "metadata": {},
   "outputs": [],
   "source": [
    "events[events.canonical_url.str.endswith(\"https://www.moneysmart.id/\")].groupby([\"canonical_url\"]).size()"
   ]
  },
  {
   "cell_type": "code",
   "execution_count": null,
   "metadata": {},
   "outputs": [],
   "source": [
    "events[events.canonical_url == \"https://www.moneysmart.id/\"].groupby([\"canonical_url\", \"is_test\"]).size()"
   ]
  },
  {
   "cell_type": "code",
   "execution_count": null,
   "metadata": {},
   "outputs": [],
   "source": [
    "combined_df[combined_df.canonical_url==\"https://www.moneysmart.id/\"]"
   ]
  },
  {
   "cell_type": "code",
   "execution_count": null,
   "metadata": {},
   "outputs": [],
   "source": [
    "# combined_df[combined_df.test_fraction<0.05][(combined_df['event_name']==\"PageView\")  | (combined_df['status']==\"Article Body 100\")].sort_values(combined_df.test_fraction) #.to_csv(\"results.csv\")\n",
    "# combined_df.sort_values(combined_df.canonical_url).head()\n",
    "combined_df.sort_values(\"canonical_url\")\n",
    "\n",
    ">> we're missing some events here e.g. if you look at homepage.  Likely need to fill with zeros or soemthign."
   ]
  },
  {
   "cell_type": "code",
   "execution_count": null,
   "metadata": {},
   "outputs": [],
   "source": []
  },
  {
   "cell_type": "markdown",
   "metadata": {},
   "source": [
    "# Search Console.\n",
    "\n",
    "* Position, clicks, impressions over time, with country filter set to ID\n",
    "* Track top organic urls and see if there's a different trend"
   ]
  },
  {
   "cell_type": "code",
   "execution_count": null,
   "metadata": {},
   "outputs": [],
   "source": [
    "0.0584*24*30"
   ]
  },
  {
   "cell_type": "markdown",
   "metadata": {},
   "source": [
    "# Digging Into What Makes Up a Split\n",
    "\n",
    "* By URL any significant  discrepancy?\n",
    "* Is it distorted by bots?"
   ]
  },
  {
   "cell_type": "markdown",
   "metadata": {},
   "source": [
    "## Pages Performing Worse in v2 Than v1\n",
    "\n",
    "Background to this is that we are seeing a drop off at the top of the page, and that might be due to specific pages, so we want to know if pages are performing poorly:\n",
    "\n",
    "* Pageviews ratio\n",
    "* Average scroll depth"
   ]
  },
  {
   "cell_type": "code",
   "execution_count": null,
   "metadata": {},
   "outputs": [],
   "source": []
  },
  {
   "cell_type": "markdown",
   "metadata": {},
   "source": [
    "# Query Params"
   ]
  },
  {
   "cell_type": "code",
   "execution_count": null,
   "metadata": {},
   "outputs": [],
   "source": []
  },
  {
   "cell_type": "code",
   "execution_count": null,
   "metadata": {},
   "outputs": [],
   "source": [
    "non_amp_pageview_query_params[0]"
   ]
  },
  {
   "cell_type": "code",
   "execution_count": null,
   "metadata": {},
   "outputs": [],
   "source": [
    "pqdf = pd.DataFrame()\n",
    "pqdf[\"query_params\"]=non_amp_pageview_query_params\n",
    "pqdf[\"sent_at_timestamp\"] = pageview_events[pageview_events.is_amp==False][\"sent_at_timestamp\"]"
   ]
  },
  {
   "cell_type": "code",
   "execution_count": null,
   "metadata": {},
   "outputs": [],
   "source": [
    "pqdf.head()"
   ]
  },
  {
   "cell_type": "code",
   "execution_count": null,
   "metadata": {},
   "outputs": [],
   "source": [
    "pqdf.dtypes"
   ]
  },
  {
   "cell_type": "code",
   "execution_count": null,
   "metadata": {},
   "outputs": [],
   "source": [
    "query_params_by_date = pqdf.groupby([pqdf.sent_at_timestamp.dt.floor('d'), pqdf.query_params]).count()"
   ]
  },
  {
   "cell_type": "code",
   "execution_count": null,
   "metadata": {},
   "outputs": [],
   "source": [
    "query_params_by_date #.sort_values(query_params_by_date.sent_at_timestamp)"
   ]
  },
  {
   "cell_type": "code",
   "execution_count": null,
   "metadata": {},
   "outputs": [],
   "source": []
  }
 ],
 "metadata": {
  "kernelspec": {
   "display_name": "conda_python3",
   "language": "python",
   "name": "conda_python3"
  },
  "language_info": {
   "codemirror_mode": {
    "name": "ipython",
    "version": 3
   },
   "file_extension": ".py",
   "mimetype": "text/x-python",
   "name": "python",
   "nbconvert_exporter": "python",
   "pygments_lexer": "ipython3",
   "version": "3.6.5"
  }
 },
 "nbformat": 4,
 "nbformat_minor": 4
}
