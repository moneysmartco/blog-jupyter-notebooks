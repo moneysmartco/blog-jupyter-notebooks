{
 "cells": [
  {
   "cell_type": "markdown",
   "metadata": {},
   "source": [
    "# Overview\n",
    "\n",
    "In a separate file we generate a dataframe that can be used for comparing segment vs kinesis.\n",
    "\n",
    "This requires the output of that process, and provides a simpler area for investigating it (and hopefully less likely to crash)."
   ]
  },
  {
   "cell_type": "code",
   "execution_count": null,
   "metadata": {},
   "outputs": [],
   "source": []
  },
  {
   "cell_type": "code",
   "execution_count": 62,
   "metadata": {},
   "outputs": [],
   "source": [
    "# Safe imports\n",
    "from datetime import datetime, timedelta, date"
   ]
  },
  {
   "cell_type": "code",
   "execution_count": 63,
   "metadata": {},
   "outputs": [],
   "source": [
    "import pandas as pd\n",
    "import numpy as np"
   ]
  },
  {
   "cell_type": "code",
   "execution_count": 64,
   "metadata": {},
   "outputs": [],
   "source": [
    "import ipywidgets as widgets"
   ]
  },
  {
   "cell_type": "code",
   "execution_count": 65,
   "metadata": {},
   "outputs": [],
   "source": [
    "# Imports on files that might have dependencies that need installing\n",
    "import data_pier_querying\n",
    "from athena_querying import AthenaQuery\n",
    "from athena_common_queries import *\n",
    "import user_agents # this converts user agent from browser to mobile / desktop etc."
   ]
  },
  {
   "cell_type": "markdown",
   "metadata": {},
   "source": [
    "# Settings"
   ]
  },
  {
   "cell_type": "code",
   "execution_count": 66,
   "metadata": {},
   "outputs": [],
   "source": [
    "load_merged_results_file_path = \"merged_df_with_meta_01-10_01-12.gzip\""
   ]
  },
  {
   "cell_type": "code",
   "execution_count": 67,
   "metadata": {},
   "outputs": [],
   "source": [
    "merged_df_with_meta = pd.read_parquet(load_merged_results_file_path)"
   ]
  },
  {
   "cell_type": "code",
   "execution_count": 68,
   "metadata": {},
   "outputs": [
    {
     "data": {
      "text/html": [
       "<div>\n",
       "<style scoped>\n",
       "    .dataframe tbody tr th:only-of-type {\n",
       "        vertical-align: middle;\n",
       "    }\n",
       "\n",
       "    .dataframe tbody tr th {\n",
       "        vertical-align: top;\n",
       "    }\n",
       "\n",
       "    .dataframe thead th {\n",
       "        text-align: right;\n",
       "    }\n",
       "</style>\n",
       "<table border=\"1\" class=\"dataframe\">\n",
       "  <thead>\n",
       "    <tr style=\"text-align: right;\">\n",
       "      <th></th>\n",
       "      <th>anonymous_id</th>\n",
       "      <th>event_name</th>\n",
       "      <th>page_url</th>\n",
       "      <th>date</th>\n",
       "      <th>s_count</th>\n",
       "      <th>k_count</th>\n",
       "      <th>page_type</th>\n",
       "      <th>slug</th>\n",
       "      <th>slug_root</th>\n",
       "      <th>ab_test</th>\n",
       "      <th>country_code</th>\n",
       "      <th>user_agent</th>\n",
       "      <th>device_family</th>\n",
       "      <th>os_family</th>\n",
       "      <th>os_version</th>\n",
       "      <th>browser_family</th>\n",
       "      <th>browser_version</th>\n",
       "      <th>is_bot</th>\n",
       "    </tr>\n",
       "    <tr>\n",
       "      <th>index</th>\n",
       "      <th></th>\n",
       "      <th></th>\n",
       "      <th></th>\n",
       "      <th></th>\n",
       "      <th></th>\n",
       "      <th></th>\n",
       "      <th></th>\n",
       "      <th></th>\n",
       "      <th></th>\n",
       "      <th></th>\n",
       "      <th></th>\n",
       "      <th></th>\n",
       "      <th></th>\n",
       "      <th></th>\n",
       "      <th></th>\n",
       "      <th></th>\n",
       "      <th></th>\n",
       "      <th></th>\n",
       "    </tr>\n",
       "  </thead>\n",
       "  <tbody>\n",
       "    <tr>\n",
       "      <th>0</th>\n",
       "      <td>00000b54-600a-4de2-8700-fd9885252dca</td>\n",
       "      <td>PageView</td>\n",
       "      <td>https://blog.moneysmart.sg/career/5-easy-side-...</td>\n",
       "      <td>2020-01-12</td>\n",
       "      <td>2</td>\n",
       "      <td>2</td>\n",
       "      <td>blog</td>\n",
       "      <td>/career/5-easy-side-businesses-you-can-run-whi...</td>\n",
       "      <td>/career</td>\n",
       "      <td>control</td>\n",
       "      <td>sg</td>\n",
       "      <td>Mozilla/5.0 (iPhone; CPU iPhone OS 13_3 like M...</td>\n",
       "      <td>mobile</td>\n",
       "      <td>iOS</td>\n",
       "      <td>13.3</td>\n",
       "      <td>Mobile Safari</td>\n",
       "      <td>13.0.4</td>\n",
       "      <td>False</td>\n",
       "    </tr>\n",
       "    <tr>\n",
       "      <th>1</th>\n",
       "      <td>00000b54-600a-4de2-8700-fd9885252dca</td>\n",
       "      <td>PageView</td>\n",
       "      <td>https://www.moneysmart.sg/embed/98e61305602380...</td>\n",
       "      <td>2020-01-12</td>\n",
       "      <td>1</td>\n",
       "      <td>1</td>\n",
       "      <td>shop</td>\n",
       "      <td>/embed/98e61305602380971d9c5e68c4a75647</td>\n",
       "      <td>/embed</td>\n",
       "      <td>control</td>\n",
       "      <td>sg</td>\n",
       "      <td>Mozilla/5.0 (iPhone; CPU iPhone OS 13_3 like M...</td>\n",
       "      <td>mobile</td>\n",
       "      <td>iOS</td>\n",
       "      <td>13.3</td>\n",
       "      <td>Mobile Safari</td>\n",
       "      <td>13.0.4</td>\n",
       "      <td>False</td>\n",
       "    </tr>\n",
       "    <tr>\n",
       "      <th>2</th>\n",
       "      <td>00000b54-600a-4de2-8700-fd9885252dca</td>\n",
       "      <td>Reading</td>\n",
       "      <td>https://blog.moneysmart.sg/career/5-easy-side-...</td>\n",
       "      <td>2020-01-12</td>\n",
       "      <td>3</td>\n",
       "      <td>3</td>\n",
       "      <td>blog</td>\n",
       "      <td>/career/5-easy-side-businesses-you-can-run-whi...</td>\n",
       "      <td>/career</td>\n",
       "      <td>control</td>\n",
       "      <td>sg</td>\n",
       "      <td>Mozilla/5.0 (iPhone; CPU iPhone OS 13_3 like M...</td>\n",
       "      <td>mobile</td>\n",
       "      <td>iOS</td>\n",
       "      <td>13.3</td>\n",
       "      <td>Mobile Safari</td>\n",
       "      <td>13.0.4</td>\n",
       "      <td>False</td>\n",
       "    </tr>\n",
       "    <tr>\n",
       "      <th>3</th>\n",
       "      <td>00000b54-600a-4de2-8700-fd9885252dca</td>\n",
       "      <td>UserView.WidgetLoad</td>\n",
       "      <td>https://www.moneysmart.sg/embed/98e61305602380...</td>\n",
       "      <td>2020-01-12</td>\n",
       "      <td>1</td>\n",
       "      <td>1</td>\n",
       "      <td>shop</td>\n",
       "      <td>/embed/98e61305602380971d9c5e68c4a75647</td>\n",
       "      <td>/embed</td>\n",
       "      <td>control</td>\n",
       "      <td>sg</td>\n",
       "      <td>Mozilla/5.0 (iPhone; CPU iPhone OS 13_3 like M...</td>\n",
       "      <td>mobile</td>\n",
       "      <td>iOS</td>\n",
       "      <td>13.3</td>\n",
       "      <td>Mobile Safari</td>\n",
       "      <td>13.0.4</td>\n",
       "      <td>False</td>\n",
       "    </tr>\n",
       "    <tr>\n",
       "      <th>4</th>\n",
       "      <td>000034a2-e973-4108-b920-0681877d4fc0</td>\n",
       "      <td>PageView</td>\n",
       "      <td>https://blog.moneysmart.sg/budgeting/cheapest-...</td>\n",
       "      <td>2020-01-10</td>\n",
       "      <td>1</td>\n",
       "      <td>1</td>\n",
       "      <td>blog</td>\n",
       "      <td>/budgeting/cheapest-sim-only-plans</td>\n",
       "      <td>/budgeting</td>\n",
       "      <td>control</td>\n",
       "      <td>sg</td>\n",
       "      <td>Mozilla/5.0 (iPhone; CPU iPhone OS 13_3 like M...</td>\n",
       "      <td>mobile</td>\n",
       "      <td>iOS</td>\n",
       "      <td>13.3</td>\n",
       "      <td>Mobile Safari</td>\n",
       "      <td>13.3</td>\n",
       "      <td>False</td>\n",
       "    </tr>\n",
       "  </tbody>\n",
       "</table>\n",
       "</div>"
      ],
      "text/plain": [
       "                               anonymous_id           event_name  \\\n",
       "index                                                              \n",
       "0      00000b54-600a-4de2-8700-fd9885252dca             PageView   \n",
       "1      00000b54-600a-4de2-8700-fd9885252dca             PageView   \n",
       "2      00000b54-600a-4de2-8700-fd9885252dca              Reading   \n",
       "3      00000b54-600a-4de2-8700-fd9885252dca  UserView.WidgetLoad   \n",
       "4      000034a2-e973-4108-b920-0681877d4fc0             PageView   \n",
       "\n",
       "                                                page_url        date  s_count  \\\n",
       "index                                                                           \n",
       "0      https://blog.moneysmart.sg/career/5-easy-side-...  2020-01-12        2   \n",
       "1      https://www.moneysmart.sg/embed/98e61305602380...  2020-01-12        1   \n",
       "2      https://blog.moneysmart.sg/career/5-easy-side-...  2020-01-12        3   \n",
       "3      https://www.moneysmart.sg/embed/98e61305602380...  2020-01-12        1   \n",
       "4      https://blog.moneysmart.sg/budgeting/cheapest-...  2020-01-10        1   \n",
       "\n",
       "       k_count page_type                                               slug  \\\n",
       "index                                                                         \n",
       "0            2      blog  /career/5-easy-side-businesses-you-can-run-whi...   \n",
       "1            1      shop            /embed/98e61305602380971d9c5e68c4a75647   \n",
       "2            3      blog  /career/5-easy-side-businesses-you-can-run-whi...   \n",
       "3            1      shop            /embed/98e61305602380971d9c5e68c4a75647   \n",
       "4            1      blog                 /budgeting/cheapest-sim-only-plans   \n",
       "\n",
       "        slug_root  ab_test country_code  \\\n",
       "index                                     \n",
       "0         /career  control           sg   \n",
       "1          /embed  control           sg   \n",
       "2         /career  control           sg   \n",
       "3          /embed  control           sg   \n",
       "4      /budgeting  control           sg   \n",
       "\n",
       "                                              user_agent device_family  \\\n",
       "index                                                                    \n",
       "0      Mozilla/5.0 (iPhone; CPU iPhone OS 13_3 like M...        mobile   \n",
       "1      Mozilla/5.0 (iPhone; CPU iPhone OS 13_3 like M...        mobile   \n",
       "2      Mozilla/5.0 (iPhone; CPU iPhone OS 13_3 like M...        mobile   \n",
       "3      Mozilla/5.0 (iPhone; CPU iPhone OS 13_3 like M...        mobile   \n",
       "4      Mozilla/5.0 (iPhone; CPU iPhone OS 13_3 like M...        mobile   \n",
       "\n",
       "      os_family os_version browser_family browser_version  is_bot  \n",
       "index                                                              \n",
       "0           iOS       13.3  Mobile Safari          13.0.4   False  \n",
       "1           iOS       13.3  Mobile Safari          13.0.4   False  \n",
       "2           iOS       13.3  Mobile Safari          13.0.4   False  \n",
       "3           iOS       13.3  Mobile Safari          13.0.4   False  \n",
       "4           iOS       13.3  Mobile Safari            13.3   False  "
      ]
     },
     "execution_count": 68,
     "metadata": {},
     "output_type": "execute_result"
    }
   ],
   "source": [
    "merged_df_with_meta.head()"
   ]
  },
  {
   "cell_type": "code",
   "execution_count": 69,
   "metadata": {},
   "outputs": [
    {
     "data": {
      "text/plain": [
       "1019496"
      ]
     },
     "execution_count": 69,
     "metadata": {},
     "output_type": "execute_result"
    }
   ],
   "source": [
    "len(merged_df_with_meta)"
   ]
  },
  {
   "cell_type": "code",
   "execution_count": 70,
   "metadata": {},
   "outputs": [
    {
     "data": {
      "text/plain": [
       "anonymous_id         object\n",
       "event_name           object\n",
       "page_url             object\n",
       "date               category\n",
       "s_count               int64\n",
       "k_count               int64\n",
       "page_type          category\n",
       "slug               category\n",
       "slug_root            object\n",
       "ab_test            category\n",
       "country_code       category\n",
       "user_agent           object\n",
       "device_family      category\n",
       "os_family          category\n",
       "os_version         category\n",
       "browser_family     category\n",
       "browser_version    category\n",
       "is_bot                 bool\n",
       "dtype: object"
      ]
     },
     "execution_count": 70,
     "metadata": {},
     "output_type": "execute_result"
    }
   ],
   "source": [
    "merged_df_with_meta.dtypes"
   ]
  },
  {
   "cell_type": "code",
   "execution_count": 71,
   "metadata": {},
   "outputs": [],
   "source": [
    "def colour_grouped_table(df):\n",
    "\n",
    "        \n",
    "\n",
    "    def color_how_good(value):\n",
    "        if isinstance(value, str):\n",
    "            return\n",
    "        av = abs(value)\n",
    "        if av<2:\n",
    "            c = \"green\"\n",
    "        elif value <0:\n",
    "            c =  \"red\"\n",
    "\n",
    "        else:\n",
    "            c= \"blue\"\n",
    "\n",
    "        if av>20:\n",
    "            return \"background-color:rgb(250,200,200)\"\n",
    "        return \"color:%s\"%c # it's just CSS, so you can do background as well.\n",
    "    return df.style.applymap(color_how_good , subset=[\"k_vs_s_%\"])"
   ]
  },
  {
   "cell_type": "code",
   "execution_count": 72,
   "metadata": {},
   "outputs": [],
   "source": [
    "def group_by_and_show_count_difference(df, group_by_cols, with_styling=True):\n",
    "    \"\"\"\n",
    "    This expects counts in s_count and k_count\n",
    "    \"\"\"\n",
    "    \n",
    "    grouped = df.groupby(group_by_cols).sum().reset_index()\n",
    "    \n",
    "    grouped[\"k_vs_s_%\"] = grouped.apply(lambda row:(999 if row.k_count else 0) if row.s_count==0 else round(((row.k_count - row.s_count)/row.s_count)*100, 1), axis=1 )\n",
    "    grouped = grouped[(grouped.k_count>0) | (grouped.s_count>0)] # filters out NaNs after grouping\n",
    "    \n",
    "    \n",
    "\n",
    "    return grouped"
   ]
  },
  {
   "cell_type": "code",
   "execution_count": null,
   "metadata": {},
   "outputs": [],
   "source": []
  },
  {
   "cell_type": "markdown",
   "metadata": {},
   "source": [
    "# Search Feature"
   ]
  },
  {
   "cell_type": "code",
   "execution_count": 73,
   "metadata": {},
   "outputs": [
    {
     "data": {
      "text/plain": [
       "['sg', 'hk', '??', 'tw', 'id', 'ph']"
      ]
     },
     "execution_count": 73,
     "metadata": {},
     "output_type": "execute_result"
    }
   ],
   "source": [
    "country_codes = merged_df_with_meta.country_code.unique().to_list()\n",
    "country_codes"
   ]
  },
  {
   "cell_type": "code",
   "execution_count": 74,
   "metadata": {},
   "outputs": [],
   "source": [
    "top_level_slugs = list(merged_df_with_meta[merged_df_with_meta.page_type!=\"blog\"].slug_root.unique())\n",
    "top_level_slugs.sort()\n",
    "event_types = list(merged_df_with_meta.event_name.unique())\n",
    "event_types.sort()"
   ]
  },
  {
   "cell_type": "code",
   "execution_count": 75,
   "metadata": {},
   "outputs": [],
   "source": [
    "\n",
    "search_results_df = pd.DataFrame()\n",
    "def on_search_button_click(b):\n",
    "    #pandas likes lists, not tuples (at least for group by)\n",
    "    print(\"searching\")\n",
    "    print(\"erm...\")\n",
    "    df = merged_df_with_meta\n",
    "    \n",
    "    anonymous_id = anonymous_user_input.value.strip()\n",
    "    search_anonymous_id = bool(anonymous_id)\n",
    "    \n",
    "    event_types = list(event_type_select.value)\n",
    "    search_event_types = len(event_types)>0\n",
    "    \n",
    "    slug_search_string = slug_search_input.value.strip()\n",
    "    search_slug_by_string = bool(slug_search_string)\n",
    "    \n",
    "    country_codes = list(country_code_dropdown.value)\n",
    "    search_country_codes =  len(country_codes)!=0\n",
    "        \n",
    "    top_level_slugs = list(top_level_slug_select.value)\n",
    "    search_by_top_level_slugs = len(top_level_slugs)>0\n",
    "    \n",
    "    group_by_cols = list(group_by_select.value)\n",
    "    do_group_by = len(group_by_cols)>0\n",
    "    \n",
    "\n",
    "    print(\"Events search\")\n",
    "    d = df[(( not search_anonymous_id) | (df.anonymous_id==anonymous_id)) \\\n",
    "           & ( (not search_event_types) | (df.event_name.isin(event_types))) \\\n",
    "          & (( not search_slug_by_string) | (df.slug.str.contains(slug_search_string))) \\\n",
    "            & (( not search_country_codes) | (df.country_code.isin(country_codes))) \\\n",
    "           & (( not search_by_top_level_slugs) | (df.slug_root.isin(top_level_slugs))) \\\n",
    "\n",
    "           ]\n",
    "\n",
    "\n",
    "\n",
    "    if do_group_by:\n",
    "        #d = d.groupby(group_by_cols).sum()\n",
    "        d = group_by_and_show_count_difference(d, group_by_cols)\n",
    "        #colour_grouped_table(d)\n",
    "    search_results_df = d\n",
    "    display(search_results_df)\n",
    "    \n",
    "    \n",
    "    \n",
    "    print(\"done searching\")\n",
    "    \n",
    "def on_reset_button_click(b):\n",
    "    print(\"I would be resetting\")"
   ]
  },
  {
   "cell_type": "code",
   "execution_count": 76,
   "metadata": {
    "scrolled": true
   },
   "outputs": [
    {
     "data": {
      "application/vnd.jupyter.widget-view+json": {
       "model_id": "1e4752eff11f4f01bc397d62809d3694",
       "version_major": 2,
       "version_minor": 0
      },
      "text/plain": [
       "VBox(children=(Box(children=(Text(value='', description='Anonymous_id'), SelectMultiple(description='Country',…"
      ]
     },
     "metadata": {},
     "output_type": "display_data"
    }
   ],
   "source": [
    "def button_click_placeholder(b):\n",
    "    print(\"just chilling\")\n",
    "\n",
    "anonymous_user_input = widgets.Text(description = \"Anonymous_id\")\n",
    "country_code_dropdown = widgets.SelectMultiple(\n",
    "    options= country_codes,\n",
    "    value=[\"sg\",\"hk\"],\n",
    "    # rows=10,\n",
    "    description='Country',\n",
    "    disabled=False\n",
    ")\n",
    "search_button = widgets.Button(description='Search', on_click=on_search_button_click)\n",
    "reset_button = widgets.Button(description='Reset', on_click=on_reset_button_click)\n",
    "\n",
    "search_button.on_click(on_search_button_click)\n",
    "\n",
    "top_level_slug_select = widgets.SelectMultiple(options = top_level_slugs, description=\"slug\")\n",
    "\n",
    "slug_search_input = widgets.Text(description = \"Slug like\")\n",
    "\n",
    "event_type_select = widgets.SelectMultiple(options=event_types, description=\"Event\")\n",
    "\n",
    "\n",
    "\n",
    "#search_modes = [\"Summary\", \"Summary Deduped\", \"Events\",] # summary - > grouped with difference, events -> grouped by anon_id etc, \n",
    "#search_mode_dropdown = widgets.Dropdown(description=\"Search Mode\", options=search_modes, value=search_modes[0])\n",
    "\n",
    "search_options = widgets.Box([anonymous_user_input, country_code_dropdown , top_level_slug_select, slug_search_input,  event_type_select])\n",
    "\n",
    "search_options.layout=widgets.Layout(width='100%',display='inline-flex',flex_flow='row wrap') #auto wrap\n",
    "\n",
    "group_by_select = widgets.SelectMultiple(description=\"Group By\", options = merged_df_with_meta.columns.to_list())\n",
    "\n",
    "search_bar = widgets.VBox([search_options, group_by_select, widgets.Box([search_button, reset_button])])\n",
    "display(search_bar)\n",
    "\n"
   ]
  },
  {
   "cell_type": "code",
   "execution_count": 77,
   "metadata": {},
   "outputs": [
    {
     "data": {
      "text/html": [
       "<div>\n",
       "<style scoped>\n",
       "    .dataframe tbody tr th:only-of-type {\n",
       "        vertical-align: middle;\n",
       "    }\n",
       "\n",
       "    .dataframe tbody tr th {\n",
       "        vertical-align: top;\n",
       "    }\n",
       "\n",
       "    .dataframe thead th {\n",
       "        text-align: right;\n",
       "    }\n",
       "</style>\n",
       "<table border=\"1\" class=\"dataframe\">\n",
       "  <thead>\n",
       "    <tr style=\"text-align: right;\">\n",
       "      <th></th>\n",
       "    </tr>\n",
       "  </thead>\n",
       "  <tbody>\n",
       "  </tbody>\n",
       "</table>\n",
       "</div>"
      ],
      "text/plain": [
       "Empty DataFrame\n",
       "Columns: []\n",
       "Index: []"
      ]
     },
     "execution_count": 77,
     "metadata": {},
     "output_type": "execute_result"
    }
   ],
   "source": [
    "search_results_df.head() #not sure why it's not working"
   ]
  },
  {
   "cell_type": "code",
   "execution_count": 58,
   "metadata": {},
   "outputs": [],
   "source": [
    "search_results_df.to_csv(\"breakdown_by_browser.csv\")"
   ]
  },
  {
   "cell_type": "code",
   "execution_count": null,
   "metadata": {},
   "outputs": [],
   "source": []
  },
  {
   "cell_type": "code",
   "execution_count": null,
   "metadata": {},
   "outputs": [],
   "source": []
  },
  {
   "cell_type": "code",
   "execution_count": null,
   "metadata": {},
   "outputs": [],
   "source": []
  },
  {
   "cell_type": "code",
   "execution_count": null,
   "metadata": {},
   "outputs": [],
   "source": []
  }
 ],
 "metadata": {
  "kernelspec": {
   "display_name": "conda_python3",
   "language": "python",
   "name": "conda_python3"
  },
  "language_info": {
   "codemirror_mode": {
    "name": "ipython",
    "version": 3
   },
   "file_extension": ".py",
   "mimetype": "text/x-python",
   "name": "python",
   "nbconvert_exporter": "python",
   "pygments_lexer": "ipython3",
   "version": "3.6.5"
  }
 },
 "nbformat": 4,
 "nbformat_minor": 4
}
