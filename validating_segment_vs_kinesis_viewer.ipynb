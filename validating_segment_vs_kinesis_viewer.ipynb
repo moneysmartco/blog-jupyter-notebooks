{
 "cells": [
  {
   "cell_type": "markdown",
   "metadata": {},
   "source": [
    "# Overview\n",
    "\n",
    "In a separate file we generate a dataframe that can be used for comparing segment vs kinesis.\n",
    "\n",
    "This requires the output of that process, and provides a simpler area for investigating it (and hopefully less likely to crash)."
   ]
  },
  {
   "cell_type": "markdown",
   "metadata": {},
   "source": [
    "# Prerequisites\n",
    "\n",
    "* This uses ipython widgets that might not show up if you don't have the right jupyterlab extension installed\n"
   ]
  },
  {
   "cell_type": "code",
   "execution_count": 14,
   "metadata": {},
   "outputs": [
    {
     "name": "stdout",
     "output_type": "stream",
     "text": [
      "Requirement already satisfied: pyarrow in /home/ec2-user/anaconda3/lib/python3.6/site-packages (0.16.0)\n",
      "Requirement already satisfied: numpy>=1.14 in /home/ec2-user/anaconda3/lib/python3.6/site-packages (from pyarrow) (1.16.4)\n",
      "Requirement already satisfied: six>=1.0.0 in /home/ec2-user/anaconda3/lib/python3.6/site-packages (from pyarrow) (1.13.0)\n"
     ]
    }
   ],
   "source": [
    "!pip install pyarrow"
   ]
  },
  {
   "cell_type": "markdown",
   "metadata": {},
   "source": [
    "# Imports"
   ]
  },
  {
   "cell_type": "code",
   "execution_count": 8,
   "metadata": {},
   "outputs": [],
   "source": [
    "# Safe imports\n",
    "from datetime import datetime, timedelta, date"
   ]
  },
  {
   "cell_type": "code",
   "execution_count": 9,
   "metadata": {},
   "outputs": [],
   "source": [
    "import pandas as pd\n",
    "import numpy as np\n",
    "import math"
   ]
  },
  {
   "cell_type": "code",
   "execution_count": 10,
   "metadata": {},
   "outputs": [],
   "source": [
    "import ipywidgets as widgets\n",
    "from ipywidgets import interact, interact_manual"
   ]
  },
  {
   "cell_type": "code",
   "execution_count": 11,
   "metadata": {},
   "outputs": [
    {
     "ename": "ModuleNotFoundError",
     "evalue": "No module named 'user_agents'",
     "output_type": "error",
     "traceback": [
      "\u001b[0;31m---------------------------------------------------------------------------\u001b[0m",
      "\u001b[0;31mModuleNotFoundError\u001b[0m                       Traceback (most recent call last)",
      "\u001b[0;32m<ipython-input-11-270ffe35c9b4>\u001b[0m in \u001b[0;36m<module>\u001b[0;34m()\u001b[0m\n\u001b[1;32m      3\u001b[0m \u001b[0;32mfrom\u001b[0m \u001b[0mathena_querying\u001b[0m \u001b[0;32mimport\u001b[0m \u001b[0mAthenaQuery\u001b[0m\u001b[0;34m\u001b[0m\u001b[0m\n\u001b[1;32m      4\u001b[0m \u001b[0;32mfrom\u001b[0m \u001b[0mathena_common_queries\u001b[0m \u001b[0;32mimport\u001b[0m \u001b[0;34m*\u001b[0m\u001b[0;34m\u001b[0m\u001b[0m\n\u001b[0;32m----> 5\u001b[0;31m \u001b[0;32mimport\u001b[0m \u001b[0muser_agents\u001b[0m \u001b[0;31m# this converts user agent from browser to mobile / desktop etc.\u001b[0m\u001b[0;34m\u001b[0m\u001b[0m\n\u001b[0m",
      "\u001b[0;31mModuleNotFoundError\u001b[0m: No module named 'user_agents'"
     ]
    }
   ],
   "source": [
    "# Imports on files that might have dependencies that need installing\n",
    "import data_pier_querying\n",
    "from athena_querying import AthenaQuery\n",
    "from athena_common_queries import *\n",
    "import user_agents # this converts user agent from browser to mobile / desktop etc."
   ]
  },
  {
   "cell_type": "markdown",
   "metadata": {},
   "source": [
    "# Settings"
   ]
  },
  {
   "cell_type": "code",
   "execution_count": 12,
   "metadata": {},
   "outputs": [],
   "source": [
    "load_merged_results_file_path = \"merged_df_with_meta_20200209_0000_to_20200216_0000.gzip\""
   ]
  },
  {
   "cell_type": "code",
   "execution_count": 13,
   "metadata": {},
   "outputs": [
    {
     "ename": "ImportError",
     "evalue": "Unable to find a usable engine; tried using: 'pyarrow', 'fastparquet'.\npyarrow or fastparquet is required for parquet support",
     "output_type": "error",
     "traceback": [
      "\u001b[0;31m---------------------------------------------------------------------------\u001b[0m",
      "\u001b[0;31mImportError\u001b[0m                               Traceback (most recent call last)",
      "\u001b[0;32m<ipython-input-13-7ae9face2495>\u001b[0m in \u001b[0;36m<module>\u001b[0;34m()\u001b[0m\n\u001b[0;32m----> 1\u001b[0;31m \u001b[0mmerged_df_with_meta\u001b[0m \u001b[0;34m=\u001b[0m \u001b[0mpd\u001b[0m\u001b[0;34m.\u001b[0m\u001b[0mread_parquet\u001b[0m\u001b[0;34m(\u001b[0m\u001b[0mload_merged_results_file_path\u001b[0m\u001b[0;34m)\u001b[0m\u001b[0;34m\u001b[0m\u001b[0m\n\u001b[0m",
      "\u001b[0;32m~/anaconda3/envs/python3/lib/python3.6/site-packages/pandas/io/parquet.py\u001b[0m in \u001b[0;36mread_parquet\u001b[0;34m(path, engine, columns, **kwargs)\u001b[0m\n\u001b[1;32m    279\u001b[0m     \"\"\"\n\u001b[1;32m    280\u001b[0m \u001b[0;34m\u001b[0m\u001b[0m\n\u001b[0;32m--> 281\u001b[0;31m     \u001b[0mimpl\u001b[0m \u001b[0;34m=\u001b[0m \u001b[0mget_engine\u001b[0m\u001b[0;34m(\u001b[0m\u001b[0mengine\u001b[0m\u001b[0;34m)\u001b[0m\u001b[0;34m\u001b[0m\u001b[0m\n\u001b[0m\u001b[1;32m    282\u001b[0m     \u001b[0;32mreturn\u001b[0m \u001b[0mimpl\u001b[0m\u001b[0;34m.\u001b[0m\u001b[0mread\u001b[0m\u001b[0;34m(\u001b[0m\u001b[0mpath\u001b[0m\u001b[0;34m,\u001b[0m \u001b[0mcolumns\u001b[0m\u001b[0;34m=\u001b[0m\u001b[0mcolumns\u001b[0m\u001b[0;34m,\u001b[0m \u001b[0;34m**\u001b[0m\u001b[0mkwargs\u001b[0m\u001b[0;34m)\u001b[0m\u001b[0;34m\u001b[0m\u001b[0m\n",
      "\u001b[0;32m~/anaconda3/envs/python3/lib/python3.6/site-packages/pandas/io/parquet.py\u001b[0m in \u001b[0;36mget_engine\u001b[0;34m(engine)\u001b[0m\n\u001b[1;32m     30\u001b[0m             \u001b[0;32mpass\u001b[0m\u001b[0;34m\u001b[0m\u001b[0m\n\u001b[1;32m     31\u001b[0m \u001b[0;34m\u001b[0m\u001b[0m\n\u001b[0;32m---> 32\u001b[0;31m         raise ImportError(\"Unable to find a usable engine; \"\n\u001b[0m\u001b[1;32m     33\u001b[0m                           \u001b[0;34m\"tried using: 'pyarrow', 'fastparquet'.\\n\"\u001b[0m\u001b[0;34m\u001b[0m\u001b[0m\n\u001b[1;32m     34\u001b[0m                           \u001b[0;34m\"pyarrow or fastparquet is required for parquet \"\u001b[0m\u001b[0;34m\u001b[0m\u001b[0m\n",
      "\u001b[0;31mImportError\u001b[0m: Unable to find a usable engine; tried using: 'pyarrow', 'fastparquet'.\npyarrow or fastparquet is required for parquet support"
     ]
    }
   ],
   "source": [
    "merged_df_with_meta = pd.read_parquet(load_merged_results_file_path)"
   ]
  },
  {
   "cell_type": "code",
   "execution_count": 7,
   "metadata": {},
   "outputs": [
    {
     "ename": "NameError",
     "evalue": "name 'merged_df_with_meta' is not defined",
     "output_type": "error",
     "traceback": [
      "\u001b[0;31m---------------------------------------------------------------------------\u001b[0m",
      "\u001b[0;31mNameError\u001b[0m                                 Traceback (most recent call last)",
      "\u001b[0;32m<ipython-input-7-c676021c4948>\u001b[0m in \u001b[0;36m<module>\u001b[0;34m()\u001b[0m\n\u001b[0;32m----> 1\u001b[0;31m \u001b[0mmerged_df_with_meta\u001b[0m\u001b[0;34m.\u001b[0m\u001b[0mhead\u001b[0m\u001b[0;34m(\u001b[0m\u001b[0;36m2\u001b[0m\u001b[0;34m)\u001b[0m\u001b[0;34m\u001b[0m\u001b[0m\n\u001b[0m",
      "\u001b[0;31mNameError\u001b[0m: name 'merged_df_with_meta' is not defined"
     ]
    }
   ],
   "source": [
    "merged_df_with_meta.head(2)"
   ]
  },
  {
   "cell_type": "code",
   "execution_count": 8,
   "metadata": {},
   "outputs": [
    {
     "ename": "NameError",
     "evalue": "name 'merged_df_with_meta' is not defined",
     "output_type": "error",
     "traceback": [
      "\u001b[0;31m---------------------------------------------------------------------------\u001b[0m",
      "\u001b[0;31mNameError\u001b[0m                                 Traceback (most recent call last)",
      "\u001b[0;32m<ipython-input-8-a0babfd94e90>\u001b[0m in \u001b[0;36m<module>\u001b[0;34m()\u001b[0m\n\u001b[0;32m----> 1\u001b[0;31m \u001b[0mlen\u001b[0m\u001b[0;34m(\u001b[0m\u001b[0mmerged_df_with_meta\u001b[0m\u001b[0;34m)\u001b[0m\u001b[0;34m\u001b[0m\u001b[0m\n\u001b[0m",
      "\u001b[0;31mNameError\u001b[0m: name 'merged_df_with_meta' is not defined"
     ]
    }
   ],
   "source": [
    "len(merged_df_with_meta)"
   ]
  },
  {
   "cell_type": "code",
   "execution_count": 9,
   "metadata": {},
   "outputs": [
    {
     "data": {
      "text/plain": [
       "anonymous_id         object\n",
       "event_name           object\n",
       "page_url             object\n",
       "date               category\n",
       "s_count               int64\n",
       "k_count               int64\n",
       "page_type          category\n",
       "slug               category\n",
       "slug_root            object\n",
       "ab_test            category\n",
       "country_code       category\n",
       "user_agent           object\n",
       "device_family      category\n",
       "os_family          category\n",
       "os_version         category\n",
       "browser_family     category\n",
       "browser_version    category\n",
       "is_bot              float16\n",
       "dtype: object"
      ]
     },
     "execution_count": 9,
     "metadata": {},
     "output_type": "execute_result"
    }
   ],
   "source": [
    "merged_df_with_meta.dtypes"
   ]
  },
  {
   "cell_type": "code",
   "execution_count": 10,
   "metadata": {},
   "outputs": [],
   "source": [
    "\n",
    "def highlight_cols(cell):\n",
    "    #use hex colours, or named ones to ensure excel compatibility on export\n",
    "    if cell==\"\":\n",
    "        return \"\"\n",
    "    ci = min(100, int(abs(cell*10)))\n",
    "    if abs(cell)<=2:\n",
    "        return \"color:green;\"\n",
    "    if cell <0:\n",
    "\n",
    "        return \"background-color:#%02x%02x%02x;\" % (255,255-ci,255-ci)\n",
    "    if cell>0:\n",
    "        #return \"background-color:cyan;\"\n",
    "        return \"background-color:#%02x%02x%02x;\" % (255-ci, 255-ci, 255)\n",
    "\n",
    "    return \"background-color:red;\"\n",
    "\n",
    "def colour_grouped_table(df):\n",
    "\n",
    "    return df.style.applymap(highlight_cols, subset=[\"k_vs_s_%\"])"
   ]
  },
  {
   "cell_type": "code",
   "execution_count": 11,
   "metadata": {},
   "outputs": [],
   "source": [
    "def group_by_and_show_count_difference(df, group_by_cols, with_styling=True):\n",
    "    \"\"\"\n",
    "    This expects counts in s_count and k_count\n",
    "    \"\"\"\n",
    "    \n",
    "    grouped = df.groupby(group_by_cols).sum().reset_index()\n",
    "    \n",
    "    grouped[\"k_vs_s_%\"] = grouped.apply(lambda row:(999 if row.k_count else 0) if row.s_count==0 else round(((row.k_count - row.s_count)/row.s_count)*100, 1), axis=1 )\n",
    "    grouped = grouped[(grouped.k_count>0) | (grouped.s_count>0)] # filters out NaNs after grouping\n",
    "    \n",
    "    \n",
    "\n",
    "    return grouped"
   ]
  },
  {
   "cell_type": "code",
   "execution_count": null,
   "metadata": {},
   "outputs": [],
   "source": []
  },
  {
   "cell_type": "markdown",
   "metadata": {},
   "source": [
    "# Search Feature"
   ]
  },
  {
   "cell_type": "code",
   "execution_count": 12,
   "metadata": {},
   "outputs": [
    {
     "data": {
      "text/plain": [
       "['sg', 'hk', '??', 'tw', 'ph', 'id']"
      ]
     },
     "execution_count": 12,
     "metadata": {},
     "output_type": "execute_result"
    }
   ],
   "source": [
    "country_codes = merged_df_with_meta.country_code.unique().to_list()\n",
    "country_codes"
   ]
  },
  {
   "cell_type": "code",
   "execution_count": 13,
   "metadata": {},
   "outputs": [],
   "source": [
    "top_level_slugs = list(merged_df_with_meta[merged_df_with_meta.page_type!=\"blog\"].slug_root.unique())\n",
    "top_level_slugs.sort()\n",
    "event_types = list(merged_df_with_meta.event_name.unique())\n",
    "event_types.sort()\n",
    "\n",
    "page_types = list(merged_df_with_meta.page_type.unique())\n",
    "\n",
    "num_events = len(merged_df_with_meta)"
   ]
  },
  {
   "cell_type": "code",
   "execution_count": 14,
   "metadata": {},
   "outputs": [],
   "source": [
    "\n",
    "search_results_df = pd.DataFrame()\n",
    "\n",
    "def on_search_button_click(b):\n",
    "    #pandas likes lists, not tuples (at least for group by)\n",
    "    print(\"searching\")\n",
    "    print(\"erm...\")\n",
    "    df = merged_df_with_meta\n",
    "    \n",
    "    anonymous_id = anonymous_user_input.value.strip()\n",
    "    search_anonymous_id = bool(anonymous_id)\n",
    "    \n",
    "    event_types = list(event_type_select.value)\n",
    "    search_event_types = len(event_types)>0\n",
    "    \n",
    "    slug_search_string = slug_search_input.value.strip()\n",
    "    search_slug_by_string = bool(slug_search_string)\n",
    "    \n",
    "    country_codes = list(country_code_dropdown.value)\n",
    "    search_country_codes =  len(country_codes)!=0\n",
    "        \n",
    "    top_level_slugs = list(top_level_slug_select.value)\n",
    "    search_by_top_level_slugs = len(top_level_slugs)>0\n",
    "    \n",
    "    group_by_cols = list(group_by_select.value)\n",
    "    do_group_by = len(group_by_cols)>0\n",
    "    \n",
    "    page_types = list(page_type_select.value)\n",
    "    search_by_page_type = len(page_types)>0\n",
    "    \n",
    "    at_least_events = int(event_count_slider.value)\n",
    "    \n",
    "    print(\"%s %s\"%(search_by_page_type, page_types))\n",
    "\n",
    "    print(\"Events search\")\n",
    "    d = df[(( not search_anonymous_id) | (df.anonymous_id==anonymous_id)) \\\n",
    "           & ( (not search_event_types) | (df.event_name.isin(event_types))) \\\n",
    "          & (( not search_slug_by_string) | (df.slug.str.contains(slug_search_string))) \\\n",
    "            & (( not search_country_codes) | (df.country_code.isin(country_codes))) \\\n",
    "           & (( not search_by_top_level_slugs) | (df.slug_root.isin(top_level_slugs))) \\\n",
    "            & (( not search_by_page_type) | (df.page_type.isin(page_types))) \\\n",
    "           \n",
    "           ]\n",
    "\n",
    "\n",
    "\n",
    "    if do_group_by:\n",
    "        #d = d.groupby(group_by_cols).sum()\n",
    "        d = group_by_and_show_count_difference(d, group_by_cols)\n",
    "        d = d[((d.s_count > at_least_events) | (d.k_count>at_least_events))]\n",
    "        colour_grouped_table(d)\n",
    "    search_results_df = d\n",
    "    display(search_results_df)\n",
    "    \n",
    "    \n",
    "    #return search_results_df\n",
    "    print(\"done searching\")\n",
    "    \n",
    "def on_reset_button_click(b):\n",
    "    print(\"I would be resetting\")"
   ]
  },
  {
   "cell_type": "code",
   "execution_count": 15,
   "metadata": {},
   "outputs": [
    {
     "data": {
      "application/vnd.jupyter.widget-view+json": {
       "model_id": "88263177367142d58fe6ac6baa46d7f9",
       "version_major": 2,
       "version_minor": 0
      },
      "text/plain": [
       "VBox(children=(Box(children=(Text(value='', description='Anonymous_id'), SelectMultiple(description='Country',…"
      ]
     },
     "metadata": {},
     "output_type": "display_data"
    }
   ],
   "source": [
    "def button_click_placeholder(b):\n",
    "    print(\"just chilling\")\n",
    "\n",
    "anonymous_user_input = widgets.Text(description = \"Anonymous_id\")\n",
    "country_code_dropdown = widgets.SelectMultiple(\n",
    "    options= country_codes,\n",
    "    value=[\"sg\",\"hk\"],\n",
    "    # rows=10,\n",
    "    description='Country',\n",
    "    disabled=False\n",
    ")\n",
    "search_button = widgets.Button(description='Search', on_click=on_search_button_click)\n",
    "#reset_button = widgets.Button(description='Reset', on_click=on_reset_button_click)\n",
    "\n",
    "\n",
    "search_button.on_click(on_search_button_click)\n",
    "\n",
    "top_level_slug_select = widgets.SelectMultiple(options = top_level_slugs, description=\"slug\")\n",
    "\n",
    "slug_search_input = widgets.Text(description = \"Slug like\")\n",
    "\n",
    "event_type_select = widgets.SelectMultiple(options=event_types, description=\"Event\")\n",
    "\n",
    "page_type_select = widgets.SelectMultiple(options=page_types, description=\"Page Type\")\n",
    "\n",
    "\n",
    "#event_count_box = widgets.Text(description=\"Min num events\", )\n",
    "#event_count_slider = widgets.FloatLogSlider(value=num_events, min=0, max=num_events, step=1, description=\"Num events\", continuous_update=True, readout=True)\n",
    "event_count_slider = widgets.FloatLogSlider(value=0, min=0, max=math.log10(num_events), description=\"At least num events\")\n",
    "\n",
    "#search_modes = [\"Summary\", \"Summary Deduped\", \"Events\",] # summary - > grouped with difference, events -> grouped by anon_id etc, \n",
    "#search_mode_dropdown = widgets.Dropdown(description=\"Search Mode\", options=search_modes, value=search_modes[0])\n",
    "\n",
    "search_options = widgets.Box([anonymous_user_input, country_code_dropdown ,\n",
    "                              top_level_slug_select, slug_search_input,  event_type_select,\n",
    "                             page_type_select,\n",
    "                              event_count_slider\n",
    "                             ])\n",
    "\n",
    "search_options.layout=widgets.Layout(width='100%',display='inline-flex',flex_flow='row wrap') #auto wrap\n",
    "\n",
    "group_by_select = widgets.SelectMultiple(description=\"Group By\", options = merged_df_with_meta.columns.to_list())\n",
    "\n",
    "search_bar = widgets.VBox([search_options, group_by_select, widgets.Box([search_button])])\n",
    "display(search_bar)\n",
    "\n"
   ]
  },
  {
   "cell_type": "code",
   "execution_count": null,
   "metadata": {},
   "outputs": [],
   "source": []
  },
  {
   "cell_type": "code",
   "execution_count": null,
   "metadata": {},
   "outputs": [],
   "source": []
  },
  {
   "cell_type": "code",
   "execution_count": null,
   "metadata": {},
   "outputs": [],
   "source": []
  },
  {
   "cell_type": "code",
   "execution_count": null,
   "metadata": {},
   "outputs": [],
   "source": [
    "\n"
   ]
  },
  {
   "cell_type": "code",
   "execution_count": null,
   "metadata": {},
   "outputs": [],
   "source": []
  },
  {
   "cell_type": "code",
   "execution_count": null,
   "metadata": {},
   "outputs": [],
   "source": []
  },
  {
   "cell_type": "code",
   "execution_count": null,
   "metadata": {},
   "outputs": [],
   "source": []
  }
 ],
 "metadata": {
  "kernelspec": {
   "display_name": "conda_python3",
   "language": "python",
   "name": "conda_python3"
  },
  "language_info": {
   "codemirror_mode": {
    "name": "ipython",
    "version": 3
   },
   "file_extension": ".py",
   "mimetype": "text/x-python",
   "name": "python",
   "nbconvert_exporter": "python",
   "pygments_lexer": "ipython3",
   "version": "3.6.5"
  }
 },
 "nbformat": 4,
 "nbformat_minor": 4
}
