{
 "cells": [
  {
   "cell_type": "markdown",
   "metadata": {},
   "source": [
    "# Experiments with Wordpress Connection\n",
    "\n",
    "Moving these out of first_experiments to clean it up.  Later might move into library to import."
   ]
  },
  {
   "cell_type": "code",
   "execution_count": 13,
   "metadata": {},
   "outputs": [],
   "source": [
    "import pandas as pd\n",
    "import boto3\n",
    "import boto3\n",
    "import base64\n",
    "from botocore.exceptions import ClientError\n",
    "from datetime  import datetime, timedelta, date\n",
    "import time\n",
    "from urllib.parse import urlparse, parse_qs"
   ]
  },
  {
   "cell_type": "code",
   "execution_count": 2,
   "metadata": {},
   "outputs": [
    {
     "name": "stderr",
     "output_type": "stream",
     "text": [
      "/home/ec2-user/anaconda3/envs/python3/lib/python3.6/site-packages/psycopg2/__init__.py:144: UserWarning: The psycopg2 wheel package will be renamed from release 2.8; in order to keep installing from binary please use \"pip install psycopg2-binary\" instead. For details see: <http://initd.org/psycopg/docs/install.html#binary-install-from-pypi>.\n",
      "  \"\"\")\n"
     ]
    }
   ],
   "source": [
    "try:\n",
    "    import psycopg2\n",
    "except:\n",
    "    print(\"Failed ot import psychopg2, trying to install it\")\n",
    "    !{sys.executable} -m pip install psycopg2-binary\n",
    "    import psycopg2\n",
    "    print(\"Successfully installed\")"
   ]
  },
  {
   "cell_type": "code",
   "execution_count": 3,
   "metadata": {},
   "outputs": [],
   "source": [
    "import creds"
   ]
  },
  {
   "cell_type": "code",
   "execution_count": 4,
   "metadata": {},
   "outputs": [],
   "source": [
    "\n",
    "\n",
    "# TODO: the right way to do this would be to store connection details in the secrets manager.  Unfortunately not working :(\n",
    "def get_secret():\n",
    "\n",
    "    secret_name = \"data_pier\"\n",
    "    region_name = \"ap-southeast-1\"\n",
    "\n",
    "    # Create a Secrets Manager client\n",
    "    session = boto3.session.Session()\n",
    "    client = session.client(\n",
    "        service_name='secretsmanager',\n",
    "        region_name=region_name\n",
    "    )\n",
    "\n",
    "\n",
    "    # See https://docs.aws.amazon.com/secretsmanager/latest/apireference/API_GetSecretValue.html\n",
    "    # I've deleted a chunk of error handling bumpf\n",
    "\n",
    "    get_secret_value_response = client.get_secret_value(\n",
    "        SecretId=secret_name\n",
    "    )\n",
    "\n",
    "\n",
    "def get_data_pier_connection():\n",
    "    #db_pass = input()\n",
    "    db_pass = creds.pg_pass\n",
    "    db_host = \"data-pier-production.cl8qfdl47mtr.ap-southeast-1.rds.amazonaws.com\"\n",
    "    db_user = \"jamie\"\n",
    "    db_database = \"data_pier\"\n",
    "    pg_conn = psycopg2.connect(host=db_host, user = db_user, dbname=db_database, password= db_pass)\n",
    "    pg_conn.set_session(readonly=True, autocommit=True) #without this it can lock tables.\n",
    "    \n",
    "    \n",
    "    return pg_conn, pg_conn.cursor()"
   ]
  },
  {
   "cell_type": "code",
   "execution_count": 5,
   "metadata": {},
   "outputs": [],
   "source": [
    "pg_conn, cursor = get_data_pier_connection()\n",
    "cursor.execute(\"select * from information_schema.tables limit 10\")"
   ]
  },
  {
   "cell_type": "code",
   "execution_count": 6,
   "metadata": {},
   "outputs": [
    {
     "data": {
      "text/html": [
       "<div>\n",
       "<style scoped>\n",
       "    .dataframe tbody tr th:only-of-type {\n",
       "        vertical-align: middle;\n",
       "    }\n",
       "\n",
       "    .dataframe tbody tr th {\n",
       "        vertical-align: top;\n",
       "    }\n",
       "\n",
       "    .dataframe thead th {\n",
       "        text-align: right;\n",
       "    }\n",
       "</style>\n",
       "<table border=\"1\" class=\"dataframe\">\n",
       "  <thead>\n",
       "    <tr style=\"text-align: right;\">\n",
       "      <th></th>\n",
       "      <th>term_taxonomy_id</th>\n",
       "      <th>term_id</th>\n",
       "      <th>taxonomy</th>\n",
       "      <th>description</th>\n",
       "      <th>parent</th>\n",
       "      <th>count</th>\n",
       "    </tr>\n",
       "  </thead>\n",
       "  <tbody>\n",
       "    <tr>\n",
       "      <th>0</th>\n",
       "      <td>577.0</td>\n",
       "      <td>577.0</td>\n",
       "      <td>post_tag</td>\n",
       "      <td></td>\n",
       "      <td>0.0</td>\n",
       "      <td>137</td>\n",
       "    </tr>\n",
       "    <tr>\n",
       "      <th>1</th>\n",
       "      <td>582.0</td>\n",
       "      <td>582.0</td>\n",
       "      <td>post_tag</td>\n",
       "      <td></td>\n",
       "      <td>0.0</td>\n",
       "      <td>20</td>\n",
       "    </tr>\n",
       "    <tr>\n",
       "      <th>2</th>\n",
       "      <td>583.0</td>\n",
       "      <td>583.0</td>\n",
       "      <td>post_tag</td>\n",
       "      <td></td>\n",
       "      <td>0.0</td>\n",
       "      <td>49</td>\n",
       "    </tr>\n",
       "    <tr>\n",
       "      <th>3</th>\n",
       "      <td>586.0</td>\n",
       "      <td>586.0</td>\n",
       "      <td>post_tag</td>\n",
       "      <td></td>\n",
       "      <td>0.0</td>\n",
       "      <td>123</td>\n",
       "    </tr>\n",
       "    <tr>\n",
       "      <th>4</th>\n",
       "      <td>591.0</td>\n",
       "      <td>591.0</td>\n",
       "      <td>post_tag</td>\n",
       "      <td></td>\n",
       "      <td>0.0</td>\n",
       "      <td>58</td>\n",
       "    </tr>\n",
       "  </tbody>\n",
       "</table>\n",
       "</div>"
      ],
      "text/plain": [
       "   term_taxonomy_id  term_id  taxonomy description  parent  count\n",
       "0             577.0    577.0  post_tag                 0.0    137\n",
       "1             582.0    582.0  post_tag                 0.0     20\n",
       "2             583.0    583.0  post_tag                 0.0     49\n",
       "3             586.0    586.0  post_tag                 0.0    123\n",
       "4             591.0    591.0  post_tag                 0.0     58"
      ]
     },
     "execution_count": 6,
     "metadata": {},
     "output_type": "execute_result"
    }
   ],
   "source": [
    "#query = \"select * from information_schema.columns where table_schema='id_wordpress'\" \n",
    "query = \"select  * from id_wordpress.wp_terms join id_wordpress.wp_posts where slug like '%kartu%' limit 100\" # gets slug\n",
    "query = \"\"\"\n",
    "        select * from id_wordpress.wp_postmeta where meta_key not like'%oembed%' \n",
    "        and meta_key like '%slug%'\n",
    "        order by meta_key desc limit 100\n",
    "        \"\"\"\n",
    "\n",
    "query = \"select taxonomy, count(*) from id_wordpress.wp_term_taxonomy group by taxonomy\"\n",
    "query = \"select * from id_wordpress.wp_term_taxonomy where taxonomy='post_tag'\"\n",
    "pd.read_sql_query(query, pg_conn).head()"
   ]
  },
  {
   "cell_type": "code",
   "execution_count": 24,
   "metadata": {},
   "outputs": [
    {
     "name": "stdout",
     "output_type": "stream",
     "text": [
      "   post_id                       name  term_id  parent  count  taxonomy\n",
      "0    153.0                   Pinjaman    528.0  1180.0    510  category\n",
      "1    155.0                  Budgeting   1193.0  1191.0    633  category\n",
      "2    155.0                 tips hemat   1299.0     0.0    179  post_tag\n",
      "3    155.0  mengatur keuangan pribadi   1944.0     0.0      5  post_tag\n",
      "4    155.0              mengatur uang   3053.0     0.0      5  post_tag\n"
     ]
    }
   ],
   "source": [
    "def get_all_categories_tags(conn, schema):\n",
    "    \n",
    "    \"\"\"domain.com/<slug> (we can parse the slug based on URL single post format)\n",
    "Get the post from slug\n",
    "```sql\n",
    "SELECT wp_posts.*\n",
    "FROM wp_posts \n",
    "WHERE 1=1 \n",
    "AND wp_posts.post_name = '<slug>'\n",
    "AND wp_posts.post_type = 'post' \n",
    "ORDER BY wp_posts.post_date DESC\n",
    "```\n",
    "Get categories of a post (post_id is from post retrieved above). For tag, replace 'category' by 'tag'\n",
    "```sql\n",
    "SELECT t.term_id, tt.parent, tt.count, tt.taxonomy\n",
    "FROM wp_terms AS t \n",
    "INNER JOIN wp_term_taxonomy AS tt\n",
    "ON t.term_id = tt.term_id\n",
    "INNER JOIN wp_term_relationships AS tr\n",
    "ON tr.term_taxonomy_id = tt.term_taxonomy_id\n",
    "WHERE tt.taxonomy IN ('category')\n",
    "AND tr.object_id IN (<post_id>)\n",
    "ORDER BY t.name ASC\n",
    "```\n",
    "Get details of a term (category or tag) from IDs retrieved above\n",
    "```sql\n",
    "SELECT t.*, tt.*\n",
    "FROM wp_terms AS t\n",
    "INNER JOIN wp_term_taxonomy AS tt\n",
    "ON t.term_id = tt.term_id\n",
    "WHERE t.term_id = <term_id>\n",
    "```\"\"\"\n",
    "    \n",
    "    \n",
    "    tags_categories_query = \"\"\"\n",
    "    select \n",
    "        wp_posts.id as post_id, \n",
    "        -- wp_posts.post_name as slug, \n",
    "        cats.name, \n",
    "        cats.term_id, \n",
    "        cats.parent, \n",
    "        cats.count, \n",
    "        cats.taxonomy\n",
    "    \n",
    "    from {schema}.wp_posts\n",
    "    join (\n",
    "        SELECT tr.object_id, t.term_id, tt.parent, tt.count, tt.taxonomy, t.name\n",
    "        FROM {schema}.wp_terms AS t \n",
    "        INNER JOIN {schema}.wp_term_taxonomy AS tt\n",
    "        ON t.term_id = tt.term_id\n",
    "        INNER JOIN {schema}.wp_term_relationships AS tr\n",
    "        ON tr.term_taxonomy_id = tt.term_taxonomy_id\n",
    "         WHERE tt.taxonomy IN ('category', 'post_tag')\n",
    "       \n",
    "        \n",
    "    ) as cats\n",
    "    on cats.object_id = wp_posts.id\n",
    "    \n",
    "    where\n",
    "    wp_posts.post_type = 'post'\n",
    "    and wp_posts.post_status = 'publish'\n",
    "    \n",
    "    \"\"\".format(schema=schema)\n",
    "\n",
    "    \n",
    "    \n",
    "    tags_categories = pd.read_sql_query(tags_categories_query, conn)\n",
    "    #print(tags_categories[:100])\n",
    "    \n",
    "    print(tags_categories.head())\n",
    "    tags_categories.astype({\"post_id\":int, \"term_id\":int, \"parent\":int, \"taxonomy\": \"category\"}) #untested type casting\n",
    "    \n",
    "    \n",
    "    tags = tags_categories[tags_categories.taxonomy=='post_tag'][['post_id','name']]\n",
    "    \n",
    "    categories = tags_categories[tags_categories.taxonomy=='category'][['post_id','name']]\n",
    "    \n",
    "    \n",
    "    return categories, tags\n",
    "\n",
    "\n",
    "def get_post_data(conn, schema):\n",
    "    query = \"\"\"\n",
    "    select id as post_id, post_name as slug, post_author as author_id, CHAR_LENGTH(post_content) as post_num_chars, post_date, post_modified \n",
    "    from {schema}.wp_posts\n",
    "    \n",
    "    where \n",
    "    wp_posts.post_type = 'post'\n",
    "    and wp_posts.post_status = 'publish'\n",
    "    \"\"\".format(schema=schema)\n",
    "    df = pd.read_sql_query(query, conn)\n",
    "    df.astype({\"post_id\":int, \"author_id\":int}) #untested type casting\n",
    "    return df\n",
    "    \n",
    "def slug_to_url(slug):\n",
    "    return \"https://www.moneysmart.id/\"+slug\n",
    "\n",
    "\n",
    "\n",
    "post_data = get_post_data(pg_conn, \"id_wordpress\")\n",
    "    \n",
    "post_slugs_to_id_df = post_data[[\"slug\",\"post_id\",]].set_index([\"slug\",])\n",
    "\n",
    "categories, tags = get_all_categories_tags(pg_conn, \"id_wordpress\")"
   ]
  },
  {
   "cell_type": "code",
   "execution_count": 35,
   "metadata": {},
   "outputs": [
    {
     "data": {
      "text/html": [
       "<div>\n",
       "<style scoped>\n",
       "    .dataframe tbody tr th:only-of-type {\n",
       "        vertical-align: middle;\n",
       "    }\n",
       "\n",
       "    .dataframe tbody tr th {\n",
       "        vertical-align: top;\n",
       "    }\n",
       "\n",
       "    .dataframe thead th {\n",
       "        text-align: right;\n",
       "    }\n",
       "</style>\n",
       "<table border=\"1\" class=\"dataframe\">\n",
       "  <thead>\n",
       "    <tr style=\"text-align: right;\">\n",
       "      <th></th>\n",
       "      <th>post_id</th>\n",
       "      <th>slug</th>\n",
       "      <th>author_id</th>\n",
       "      <th>post_num_chars</th>\n",
       "      <th>post_date</th>\n",
       "      <th>post_modified</th>\n",
       "    </tr>\n",
       "  </thead>\n",
       "  <tbody>\n",
       "    <tr>\n",
       "      <th>0</th>\n",
       "      <td>153.0</td>\n",
       "      <td>cara-cepat-melunasi-kpr</td>\n",
       "      <td>58.0</td>\n",
       "      <td>11264</td>\n",
       "      <td>2013-05-10 14:17:47</td>\n",
       "      <td>2016-06-08 20:13:01</td>\n",
       "    </tr>\n",
       "    <tr>\n",
       "      <th>1</th>\n",
       "      <td>155.0</td>\n",
       "      <td>mengatur-keuangan-pribadi</td>\n",
       "      <td>2617.0</td>\n",
       "      <td>4365</td>\n",
       "      <td>2013-05-14 18:47:59</td>\n",
       "      <td>2019-03-22 11:53:08</td>\n",
       "    </tr>\n",
       "    <tr>\n",
       "      <th>2</th>\n",
       "      <td>158.0</td>\n",
       "      <td>kpr-rumah-dan-cara-memilihnya</td>\n",
       "      <td>2617.0</td>\n",
       "      <td>1959</td>\n",
       "      <td>2013-05-16 11:06:36</td>\n",
       "      <td>2019-03-22 11:29:39</td>\n",
       "    </tr>\n",
       "    <tr>\n",
       "      <th>3</th>\n",
       "      <td>161.0</td>\n",
       "      <td>agar-otak-selalu-segar</td>\n",
       "      <td>0.0</td>\n",
       "      <td>1652</td>\n",
       "      <td>2013-05-23 12:46:14</td>\n",
       "      <td>2013-05-23 12:46:14</td>\n",
       "    </tr>\n",
       "    <tr>\n",
       "      <th>4</th>\n",
       "      <td>199.0</td>\n",
       "      <td>mewujudkan-impian-membeli-mobil-murah</td>\n",
       "      <td>0.0</td>\n",
       "      <td>3079</td>\n",
       "      <td>2013-10-21 10:30:47</td>\n",
       "      <td>2013-10-21 10:30:47</td>\n",
       "    </tr>\n",
       "  </tbody>\n",
       "</table>\n",
       "</div>"
      ],
      "text/plain": [
       "   post_id                                   slug  author_id  post_num_chars  \\\n",
       "0    153.0                cara-cepat-melunasi-kpr       58.0           11264   \n",
       "1    155.0              mengatur-keuangan-pribadi     2617.0            4365   \n",
       "2    158.0          kpr-rumah-dan-cara-memilihnya     2617.0            1959   \n",
       "3    161.0                 agar-otak-selalu-segar        0.0            1652   \n",
       "4    199.0  mewujudkan-impian-membeli-mobil-murah        0.0            3079   \n",
       "\n",
       "            post_date       post_modified  \n",
       "0 2013-05-10 14:17:47 2016-06-08 20:13:01  \n",
       "1 2013-05-14 18:47:59 2019-03-22 11:53:08  \n",
       "2 2013-05-16 11:06:36 2019-03-22 11:29:39  \n",
       "3 2013-05-23 12:46:14 2013-05-23 12:46:14  \n",
       "4 2013-10-21 10:30:47 2013-10-21 10:30:47  "
      ]
     },
     "execution_count": 35,
     "metadata": {},
     "output_type": "execute_result"
    }
   ],
   "source": [
    "post_data.head()"
   ]
  },
  {
   "cell_type": "code",
   "execution_count": 42,
   "metadata": {},
   "outputs": [
    {
     "name": "stdout",
     "output_type": "stream",
     "text": [
      "approx size of total post data in mega-chars: 94.79 \n",
      "Gives an idea of whether going to run out of memory\n"
     ]
    }
   ],
   "source": [
    "print(\"approx size of total post data in mega-chars: %.2f \" % (sum(post_data[\"post_num_chars\"])/1.0e6 ) )\n",
    "print(\"Gives an idea of whether going to run out of memory\")"
   ]
  },
  {
   "cell_type": "code",
   "execution_count": 25,
   "metadata": {},
   "outputs": [
    {
     "data": {
      "text/html": [
       "<div>\n",
       "<style scoped>\n",
       "    .dataframe tbody tr th:only-of-type {\n",
       "        vertical-align: middle;\n",
       "    }\n",
       "\n",
       "    .dataframe tbody tr th {\n",
       "        vertical-align: top;\n",
       "    }\n",
       "\n",
       "    .dataframe thead th {\n",
       "        text-align: right;\n",
       "    }\n",
       "</style>\n",
       "<table border=\"1\" class=\"dataframe\">\n",
       "  <thead>\n",
       "    <tr style=\"text-align: right;\">\n",
       "      <th></th>\n",
       "      <th>post_id</th>\n",
       "    </tr>\n",
       "    <tr>\n",
       "      <th>slug</th>\n",
       "      <th></th>\n",
       "    </tr>\n",
       "  </thead>\n",
       "  <tbody>\n",
       "    <tr>\n",
       "      <th>cara-cepat-melunasi-kpr</th>\n",
       "      <td>153.0</td>\n",
       "    </tr>\n",
       "    <tr>\n",
       "      <th>mengatur-keuangan-pribadi</th>\n",
       "      <td>155.0</td>\n",
       "    </tr>\n",
       "    <tr>\n",
       "      <th>kpr-rumah-dan-cara-memilihnya</th>\n",
       "      <td>158.0</td>\n",
       "    </tr>\n",
       "    <tr>\n",
       "      <th>agar-otak-selalu-segar</th>\n",
       "      <td>161.0</td>\n",
       "    </tr>\n",
       "    <tr>\n",
       "      <th>mewujudkan-impian-membeli-mobil-murah</th>\n",
       "      <td>199.0</td>\n",
       "    </tr>\n",
       "  </tbody>\n",
       "</table>\n",
       "</div>"
      ],
      "text/plain": [
       "                                       post_id\n",
       "slug                                          \n",
       "cara-cepat-melunasi-kpr                  153.0\n",
       "mengatur-keuangan-pribadi                155.0\n",
       "kpr-rumah-dan-cara-memilihnya            158.0\n",
       "agar-otak-selalu-segar                   161.0\n",
       "mewujudkan-impian-membeli-mobil-murah    199.0"
      ]
     },
     "execution_count": 25,
     "metadata": {},
     "output_type": "execute_result"
    }
   ],
   "source": [
    "post_slugs_to_id_df.head()\n"
   ]
  },
  {
   "cell_type": "code",
   "execution_count": 26,
   "metadata": {},
   "outputs": [],
   "source": [
    "def convert_canonical_url_to_slug(url):\n",
    "    if \"//\" not in url:\n",
    "        raise Exception(\"expected start of url in {}\".format(url))\n",
    "    id_root = \"https://www.moneysmart.id\"\n",
    "    #ms_id_index = url.find(id_root)\n",
    "    if not url.startswith(id_root):\n",
    "        raise Exception(\"{url} doesn't look like a canonical url\".format(url = url))\n",
    "        \n",
    "    #slug = url[ms_id_index+ len(id_root)+1:].strip(\"/\")\n",
    "    parsed_url = urlparse(url)\n",
    "    slug = parsed_url.path.strip(\"/\")\n",
    "    \n",
    "    if slug == \"\":\n",
    "        slug =\"/\"\n",
    "    return slug\n",
    "        \n",
    "def is_article_slug(slug):\n",
    "    if \"/\" in slug or len(slug)==0:\n",
    "        return False\n",
    "    return True\n",
    "\n",
    "def get_post_id_from_slug(slug):\n",
    "    post_id = post_slugs_to_id_df.loc[slug, :][0]\n",
    "    return post_id\n",
    "\n",
    "\n",
    "def get_post_id_from_url(url):\n",
    "    #Expects only post urls\n",
    "    slug = convert_canonical_url_to_slug(url)\n",
    "    print(slug)\n",
    "    post_id = get_post_id_from_slug(slug)\n",
    "    return post_id"
   ]
  },
  {
   "cell_type": "code",
   "execution_count": 29,
   "metadata": {},
   "outputs": [
    {
     "name": "stdout",
     "output_type": "stream",
     "text": [
      "cara-cepat-melunasi-kpr\n"
     ]
    },
    {
     "data": {
      "text/plain": [
       "153.0"
      ]
     },
     "execution_count": 29,
     "metadata": {},
     "output_type": "execute_result"
    }
   ],
   "source": [
    "get_post_id_from_url(\"https://www.moneysmart.id/cara-cepat-melunasi-kpr/\")"
   ]
  },
  {
   "cell_type": "code",
   "execution_count": 31,
   "metadata": {},
   "outputs": [
    {
     "data": {
      "text/html": [
       "<div>\n",
       "<style scoped>\n",
       "    .dataframe tbody tr th:only-of-type {\n",
       "        vertical-align: middle;\n",
       "    }\n",
       "\n",
       "    .dataframe tbody tr th {\n",
       "        vertical-align: top;\n",
       "    }\n",
       "\n",
       "    .dataframe thead th {\n",
       "        text-align: right;\n",
       "    }\n",
       "</style>\n",
       "<table border=\"1\" class=\"dataframe\">\n",
       "  <thead>\n",
       "    <tr style=\"text-align: right;\">\n",
       "      <th></th>\n",
       "      <th>post_id</th>\n",
       "      <th>name</th>\n",
       "    </tr>\n",
       "  </thead>\n",
       "  <tbody>\n",
       "    <tr>\n",
       "      <th>0</th>\n",
       "      <td>153.0</td>\n",
       "      <td>Pinjaman</td>\n",
       "    </tr>\n",
       "    <tr>\n",
       "      <th>1</th>\n",
       "      <td>155.0</td>\n",
       "      <td>Budgeting</td>\n",
       "    </tr>\n",
       "    <tr>\n",
       "      <th>6</th>\n",
       "      <td>158.0</td>\n",
       "      <td>Pinjaman</td>\n",
       "    </tr>\n",
       "    <tr>\n",
       "      <th>10</th>\n",
       "      <td>161.0</td>\n",
       "      <td>Ragam</td>\n",
       "    </tr>\n",
       "    <tr>\n",
       "      <th>11</th>\n",
       "      <td>171.0</td>\n",
       "      <td>Kuliner &amp;amp; Travel</td>\n",
       "    </tr>\n",
       "  </tbody>\n",
       "</table>\n",
       "</div>"
      ],
      "text/plain": [
       "    post_id                  name\n",
       "0     153.0              Pinjaman\n",
       "1     155.0             Budgeting\n",
       "6     158.0              Pinjaman\n",
       "10    161.0                 Ragam\n",
       "11    171.0  Kuliner &amp; Travel"
      ]
     },
     "execution_count": 31,
     "metadata": {},
     "output_type": "execute_result"
    }
   ],
   "source": [
    "categories.head()"
   ]
  },
  {
   "cell_type": "code",
   "execution_count": 32,
   "metadata": {},
   "outputs": [],
   "source": [
    "# article_categories = categories.groupby('slug').aggregate(lambda x:x.unique().tolist())\n",
    "# article_tags = tags.groupby('slug').aggregate(lambda x:x.unique().tolist())"
   ]
  },
  {
   "cell_type": "code",
   "execution_count": 33,
   "metadata": {},
   "outputs": [],
   "source": [
    "#[z for z in article_categories.values if len(z[1])>0]\n",
    "# article_categories\n",
    "# article_categories['num_categories'] = article_categories['name'].apply(len)"
   ]
  },
  {
   "cell_type": "code",
   "execution_count": 34,
   "metadata": {},
   "outputs": [
    {
     "name": "stdout",
     "output_type": "stream",
     "text": [
      "no tags\n",
      "no categories for pembalap-indonesia-berkarier-di-mancanegara\n",
      "it took \n",
      "0.001224517822265625\n"
     ]
    },
    {
     "ename": "NameError",
     "evalue": "name 'cats_tags' is not defined",
     "output_type": "error",
     "traceback": [
      "\u001b[0;31m---------------------------------------------------------------------------\u001b[0m",
      "\u001b[0;31mNameError\u001b[0m                                 Traceback (most recent call last)",
      "\u001b[0;32m<ipython-input-34-a8dace5cb595>\u001b[0m in \u001b[0;36m<module>\u001b[0;34m()\u001b[0m\n\u001b[1;32m     28\u001b[0m \u001b[0mprint\u001b[0m\u001b[0;34m(\u001b[0m\u001b[0;34m\"it took \"\u001b[0m\u001b[0;34m)\u001b[0m\u001b[0;34m\u001b[0m\u001b[0m\n\u001b[1;32m     29\u001b[0m \u001b[0mprint\u001b[0m\u001b[0;34m(\u001b[0m\u001b[0mend_time\u001b[0m\u001b[0;34m-\u001b[0m\u001b[0mstart_time\u001b[0m\u001b[0;34m)\u001b[0m\u001b[0;34m\u001b[0m\u001b[0m\n\u001b[0;32m---> 30\u001b[0;31m \u001b[0mcats_tags\u001b[0m\u001b[0;34m\u001b[0m\u001b[0m\n\u001b[0m",
      "\u001b[0;31mNameError\u001b[0m: name 'cats_tags' is not defined"
     ]
    }
   ],
   "source": [
    "#TODO: sometime should do all this based on post_id\n",
    "\n",
    "def get_categories_tags_for_url(slug):\n",
    "    #cats = categories[categories.slug==slug]\n",
    "    \n",
    "    post_id = get_post_id_from_slug(slug)\n",
    "    tags = \n",
    "    \n",
    "    \"\"\"\n",
    "    try:\n",
    "        tags = article_tags.loc[slug, :][1]\n",
    "    except:\n",
    "        print(\"no tags\")\n",
    "        tags = []\n",
    "    try:\n",
    "        cats = article_categories.loc[slug, :][1]\n",
    "    except:\n",
    "        print(\"no categories for %s\"%slug)\n",
    "        cats = []\n",
    "        \"\"\"\n",
    "    return cats, tags\n",
    "\n",
    "def get_category_tags_for_url(slug):\n",
    "    \"\"\"\n",
    "    this returns just the first category (and maybe not even the primary category... yet)\n",
    "    It's useful for grouping easily by category without duplication.\n",
    "    \"\"\"\n",
    "    cats, tags = get_categories_tags_for_slug()\n",
    "\n",
    "start_time = time.time()\n",
    "cats, tags = get_categories_tags_for_url(\"pembalap-indonesia-berkarier-di-mancanegara\")\n",
    "end_time = time.time()\n",
    "\n",
    "print(\"it took \")\n",
    "print(end_time-start_time)\n",
    "cats_tags"
   ]
  },
  {
   "cell_type": "code",
   "execution_count": null,
   "metadata": {},
   "outputs": [],
   "source": []
  },
  {
   "cell_type": "markdown",
   "metadata": {},
   "source": [
    "# Post Data\n",
    "\n",
    "Do some pretty simple parsing using beautifulsoup:\n",
    "\n",
    "* Word count\n",
    "* Number of characters\n",
    "* Number of links\n",
    "* Number of tables\n",
    "* Number of uls\n",
    "* Numboer of lists\n",
    "* Number of h2s\n",
    "* Youtube embeds?\n",
    "\n",
    "And add some regular metadata (should be in data frames):\n",
    "\n",
    "* First published\n",
    "* Last update\n",
    "* Author"
   ]
  },
  {
   "cell_type": "code",
   "execution_count": null,
   "metadata": {},
   "outputs": [],
   "source": [
    "class PostBodyStats(object):\n",
    "    def __init__(self, post_body):\n",
    "        self.word_count = self.extract_word_count(post_body)\n",
    "        self.character_count = self.extract_character_count(post_body)\n",
    "        self.links_count_total = self.extract_links_count(post_body)\n",
    "    \n",
    "    def extract_word_count(self, post_body):\n",
    "        \n",
    "        >>\n",
    "        \n",
    "    def extract_number_of_characters(self, post_body)"
   ]
  },
  {
   "cell_type": "markdown",
   "metadata": {},
   "source": [
    "## Dump to CSV for Sharing"
   ]
  },
  {
   "cell_type": "code",
   "execution_count": null,
   "metadata": {},
   "outputs": [],
   "source": []
  }
 ],
 "metadata": {
  "kernelspec": {
   "display_name": "conda_python3",
   "language": "python",
   "name": "conda_python3"
  },
  "language_info": {
   "codemirror_mode": {
    "name": "ipython",
    "version": 3
   },
   "file_extension": ".py",
   "mimetype": "text/x-python",
   "name": "python",
   "nbconvert_exporter": "python",
   "pygments_lexer": "ipython3",
   "version": "3.6.5"
  }
 },
 "nbformat": 4,
 "nbformat_minor": 4
}
