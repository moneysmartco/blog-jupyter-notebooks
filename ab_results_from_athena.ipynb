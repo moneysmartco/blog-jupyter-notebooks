{
 "cells": [
  {
   "cell_type": "markdown",
   "metadata": {},
   "source": [
    "# AB SEO Test Summary"
   ]
  },
  {
   "cell_type": "code",
   "execution_count": 6,
   "metadata": {},
   "outputs": [
    {
     "name": "stdout",
     "output_type": "stream",
     "text": [
      "Requirement already satisfied: pyathena in /home/ec2-user/anaconda3/envs/python3/lib/python3.6/site-packages (1.8.0)\n",
      "Requirement already satisfied: future in /home/ec2-user/anaconda3/envs/python3/lib/python3.6/site-packages (from pyathena) (0.18.2)\n",
      "Requirement already satisfied: tenacity>=4.1.0 in /home/ec2-user/anaconda3/envs/python3/lib/python3.6/site-packages (from pyathena) (6.0.0)\n",
      "Requirement already satisfied: botocore>=1.5.52 in /home/ec2-user/anaconda3/envs/python3/lib/python3.6/site-packages (from pyathena) (1.13.19)\n",
      "Requirement already satisfied: boto3>=1.4.4 in /home/ec2-user/anaconda3/envs/python3/lib/python3.6/site-packages (from pyathena) (1.10.19)\n",
      "Requirement already satisfied: six>=1.9.0 in /home/ec2-user/anaconda3/envs/python3/lib/python3.6/site-packages (from tenacity>=4.1.0->pyathena) (1.11.0)\n",
      "Requirement already satisfied: urllib3<1.26,>=1.20; python_version >= \"3.4\" in /home/ec2-user/anaconda3/envs/python3/lib/python3.6/site-packages (from botocore>=1.5.52->pyathena) (1.23)\n",
      "Requirement already satisfied: docutils<0.16,>=0.10 in /home/ec2-user/anaconda3/envs/python3/lib/python3.6/site-packages (from botocore>=1.5.52->pyathena) (0.14)\n",
      "Requirement already satisfied: python-dateutil<2.8.1,>=2.1; python_version >= \"2.7\" in /home/ec2-user/anaconda3/envs/python3/lib/python3.6/site-packages (from botocore>=1.5.52->pyathena) (2.7.3)\n",
      "Requirement already satisfied: jmespath<1.0.0,>=0.7.1 in /home/ec2-user/anaconda3/envs/python3/lib/python3.6/site-packages (from botocore>=1.5.52->pyathena) (0.9.4)\n",
      "Requirement already satisfied: s3transfer<0.3.0,>=0.2.0 in /home/ec2-user/anaconda3/envs/python3/lib/python3.6/site-packages (from boto3>=1.4.4->pyathena) (0.2.1)\n",
      "\u001b[33mYou are using pip version 10.0.1, however version 19.3.1 is available.\n",
      "You should consider upgrading via the 'pip install --upgrade pip' command.\u001b[0m\n"
     ]
    }
   ],
   "source": [
    "!pip install pyathena"
   ]
  },
  {
   "cell_type": "code",
   "execution_count": 7,
   "metadata": {},
   "outputs": [],
   "source": [
    "from pyathena import connect"
   ]
  },
  {
   "cell_type": "code",
   "execution_count": 8,
   "metadata": {},
   "outputs": [],
   "source": [
    "# from smart_open import smart_open"
   ]
  },
  {
   "cell_type": "code",
   "execution_count": 9,
   "metadata": {},
   "outputs": [],
   "source": [
    "\n",
    "\n",
    "import pandas as pd\n",
    "import numpy as np\n",
    "from datetime  import datetime, timedelta, date\n",
    "import time\n",
    "\n",
    "\n",
    "from athena_querying import *\n",
    "import numpy as np\n",
    "\n",
    "import matplotlib.pyplot as plt\n",
    "import seaborn as sns\n",
    "%matplotlib inline "
   ]
  },
  {
   "cell_type": "code",
   "execution_count": 13,
   "metadata": {},
   "outputs": [],
   "source": [
    "from athena_common_queries import *"
   ]
  },
  {
   "cell_type": "code",
   "execution_count": 12,
   "metadata": {},
   "outputs": [
    {
     "ename": "SyntaxError",
     "evalue": "invalid syntax (<ipython-input-12-38c9e7a59c4d>, line 1)",
     "output_type": "error",
     "traceback": [
      "\u001b[0;36m  File \u001b[0;32m\"<ipython-input-12-38c9e7a59c4d>\"\u001b[0;36m, line \u001b[0;32m1\u001b[0m\n\u001b[0;31m    reload athena_common_queries\u001b[0m\n\u001b[0m                               ^\u001b[0m\n\u001b[0;31mSyntaxError\u001b[0m\u001b[0;31m:\u001b[0m invalid syntax\n"
     ]
    }
   ],
   "source": [
    "reload athena_common_queries"
   ]
  },
  {
   "cell_type": "code",
   "execution_count": 14,
   "metadata": {},
   "outputs": [
    {
     "name": "stdout",
     "output_type": "stream",
     "text": [
      "Getting the pageview and read events from 2019-12-10T00:00:00 to 2019-12-12T11:04:51.616538\n"
     ]
    }
   ],
   "source": [
    "query = create_blog_pageview_and_scroll_query(\"SG\", datetime(2019,12,10), datetime.now())"
   ]
  },
  {
   "cell_type": "code",
   "execution_count": 15,
   "metadata": {},
   "outputs": [
    {
     "name": "stdout",
     "output_type": "stream",
     "text": [
      "\n",
      "    SELECT\n",
      "      CAST(\"from_iso8601_timestamp\"(\"sent_at\") AS timestamp) \"sent_at_timestamp\"\n",
      "    , \"sent_at\"\n",
      "    , \"type\"\n",
      "    , \"body\".\"event_name\"\n",
      "    , \"body\".\"data\".\"status\"\n",
      "    , (CASE \"body\".\"data\".\"status\" \n",
      "        WHEN 'Page Bottom Reached' THEN 100 \n",
      "        WHEN 'Article Reading Completed' THEN 100 WHEN 'Article Body 100' THEN 100 \n",
      "        WHEN 'Article Reading 75%' THEN 75 WHEN 'Article Body 75' THEN 75 \n",
      "        WHEN 'Article Reading 50%' THEN 50 WHEN 'Article Body 50' THEN 50 \n",
      "        WHEN 'Article Reading 25%' THEN 25 WHEN 'Article Body 25' THEN 25\n",
      "        WHEN 'Article Reading Started' THEN 0 WHEN 'Article Loaded' THEN 0 \n",
      "        ELSE 0 END) \"article_read_depth\"\n",
      "    , \"user\".\"anonymous_id\"\n",
      "    , \"user\".\"amp_id\"\n",
      "    \n",
      " \n",
      "    , \"context\".\"page_url\"\n",
      "    , \"context\".\"referrer\"\n",
      "    , CAST(\"strpos\"(\"context\".\"page_url\", '?amp') AS boolean) \"is_amp\"\n",
      "    , CAST(((\"context\".\"page_url\" LIKE '%utm_medium%') OR (\"context\".\"page_url\" LIKE '%gclid%')) AS boolean) \"has_marketing_param\"\n",
      "    \n",
      "    -- might be able to do based on context.amp_version\n",
      "    -- This doesn't work for all historical AMP data.\n",
      "    , CASE \n",
      "        WHEN context.amp_version is not null THEN context.canonical_url\n",
      "        ELSE split_part(context.page_url, '?', 1)\n",
      "        END as canonical_url\n",
      "        \n",
      "    , CASE\n",
      "        WHEN context.page_url like 'https://blog3.moneysmart%' THEN true\n",
      "        WHEN context.page_url like 'https://blog.moneysmart%' THEN false\n",
      "        WHEN context.page_url like 'https://www.moneysmart%' THEN false\n",
      "        WHEN context.page_url like 'https://www.moneysmart%' THEN false\n",
      "        ELSE null -- shouldn't happen\n",
      "        END as is_test\n",
      "\n",
      "    \n",
      "    \n",
      "        , context.device.type as device_type\n",
      "        , context.browser.name as browser_name\n",
      "        , context.browser.major as browser_major_version\n",
      "        , context.browser.version as browser_version\n",
      "        \n",
      "        , context.operating_system.name as operating_system_name\n",
      "        , context.operating_system.version as operating_system_version\n",
      "        , context.user_agent as user_agent\n",
      "        \n",
      "    FROM\n",
      "      ms_data_lake_production.ms_data_stream_production_processed\n",
      "    WHERE \n",
      "        ((\"body\".\"event_name\" = 'Reading') OR (\"body\".\"event_name\" = 'PageView')) \n",
      "        \n",
      "  AND \n",
      "            (context.canonical_url AND\n",
      "    \n",
      "            \"regexp_extract\"(context.page_url, '^(([^:/?#]+):)?(//([^/?#]*))?([^?#]*)(\\?([^#]*))?(#(.*))?', 4) LIKE '%blog.moneysmart.sg%')\n",
      "            OR\n",
      "            (\"regexp_extract\"(context.canonical_url, '^(([^:/?#]+):)?(//([^/?#]*))?([^?#]*)(\\?([^#]*))?(#(.*))?', 4) LIKE '%blog.moneysmart.sg%')\n",
      "            \n",
      "            \n",
      "             \n",
      " AND (\n",
      " partition_0 >= '2019'\n",
      " AND partition_1 >= '12'\n",
      " AND partition_2 >= '10'\n",
      " AND partition_0 <= '2019'\n",
      " AND partition_1 <= '12'\n",
      " AND partition_2 <= '12'\n",
      ") \n"
     ]
    }
   ],
   "source": [
    "print(query)"
   ]
  },
  {
   "cell_type": "markdown",
   "metadata": {},
   "source": [
    "## Settings"
   ]
  },
  {
   "cell_type": "code",
   "execution_count": 7,
   "metadata": {},
   "outputs": [],
   "source": [
    "run_speed_tests = False"
   ]
  },
  {
   "cell_type": "markdown",
   "metadata": {},
   "source": [
    "# Using Athena Querying convenience"
   ]
  },
  {
   "cell_type": "code",
   "execution_count": 16,
   "metadata": {},
   "outputs": [],
   "source": [
    "\n",
    "aq = AthenaQuery()\n",
    "aq.connect()\n"
   ]
  },
  {
   "cell_type": "code",
   "execution_count": null,
   "metadata": {},
   "outputs": [],
   "source": [
    "# Get AB Results Summary for SG"
   ]
  },
  {
   "cell_type": "markdown",
   "metadata": {},
   "source": [
    "# Get Results"
   ]
  },
  {
   "cell_type": "code",
   "execution_count": 8,
   "metadata": {},
   "outputs": [],
   "source": [
    "if run_speed_tests:\n",
    "    athena_conn, athena_cursor = connect_to_athena()\n",
    "    print(\"Checking athena works\")\n",
    "    query = \"select * from ms_data_stream_production_processed limit 100\"\n",
    "    test_query_results = pd.read_sql(query, athena_conn)\n",
    "\n",
    "    test_query_results.head(10)"
   ]
  },
  {
   "cell_type": "code",
   "execution_count": 9,
   "metadata": {},
   "outputs": [],
   "source": [
    "# blog_pageview_metrics\n",
    "# blog_pageviews_per_user_per_day"
   ]
  },
  {
   "cell_type": "markdown",
   "metadata": {},
   "source": [
    "# Speed Testing"
   ]
  },
  {
   "cell_type": "code",
   "execution_count": 10,
   "metadata": {},
   "outputs": [],
   "source": [
    "speed_test_query = \"select * from \"+athena_database +\".blog_pageview_metrics order by day_str, is_test\""
   ]
  },
  {
   "cell_type": "code",
   "execution_count": 11,
   "metadata": {},
   "outputs": [],
   "source": [
    "# Original / obvious way (may be dependent on imports that have been changed in other files)\n",
    "if run_speed_tests:\n",
    "    start_time = datetime.now()\n",
    "    \n",
    "    pageview_metrics_results = pd.read_sql(speed_test_query, athena_conn)\n",
    "    end_time = datetime.now()\n",
    "    execution_seconds_conventional = (end_time-start_time).total_seconds()\n",
    "    print(\"Running the old way took %.2f seconds\"%execution_seconds_conventional)\n",
    "    pageview_metrics_results.head()\n"
   ]
  },
  {
   "cell_type": "code",
   "execution_count": null,
   "metadata": {},
   "outputs": [],
   "source": []
  },
  {
   "cell_type": "code",
   "execution_count": null,
   "metadata": {},
   "outputs": [],
   "source": []
  },
  {
   "cell_type": "code",
   "execution_count": 12,
   "metadata": {},
   "outputs": [],
   "source": [
    "# TODO: sounds like you can speed up athena massively by querying from the S3 bucket, \n",
    "# rather than getting results from the connection object.  There's some issue with long running queries and large results.\n",
    "# https://github.com/laughingman7743/PyAthena/issues/46\n",
    "# https://stackoverflow.com/questions/53262533/why-pyathena-doesnt-work-on-longer-running-queries-while-athena-runs-them/53324034"
   ]
  },
  {
   "cell_type": "code",
   "execution_count": 13,
   "metadata": {},
   "outputs": [],
   "source": [
    "# Using pandas cursor \n",
    "if run_speed_tests:\n",
    "    ap_start_time = datetime.now()\n",
    "    athena_cursor.execute(speed_test_query)\n",
    "    ap_query_done_time = datetime.now()\n",
    "    query_duration_seconds = (ap_query_done_time - ap_start_time).total_seconds()\n",
    "    print(\"Query finished after %.2f\" % query_duration_seconds)\n",
    "    \n",
    "    df = as_pandas(athena_cursor)\n",
    "    ap_done_time = datetime.now()\n",
    "    ap_total_seconds = (ap_done_time - ap_start_time).total_seconds()\n",
    "    print(\"All finished using as_pandas in %.2f\"%ap_total_seconds)\n",
    "    df.head()"
   ]
  },
  {
   "cell_type": "code",
   "execution_count": 14,
   "metadata": {},
   "outputs": [],
   "source": [
    "# Querying the S3 results directly\n",
    "if run_speed_tests:\n",
    "    # assume query has been run and timed already\n",
    "    # Note that this way it doesn't have context on the data types, but I'm not sure glue was set up properly for that anyway.\n",
    "    s3_start_time = datetime.now()\n",
    "    bucket, key = athena_cursor.output_location.strip('s3://').split('/', 1)\n",
    "    print(bucket,key)\n",
    "    session = boto3.session.Session()\n",
    "\n",
    "    # result = session.resource('s3').Object(bucket, key)\n",
    "    s3_client = boto3.client('s3')\n",
    "    response = s3_client.get_object(Bucket=bucket,Key=key)\n",
    "    \n",
    "    file = response[\"Body\"]\n",
    "\n",
    "    df = pd.read_csv(file)\n",
    "    s3_end_time = datetime.now()\n",
    "    s3_read_seconds = (s3_end_time - s3_start_time).total_seconds()\n",
    "    print(\"Reading the CSV from S3 (not running query) took %.2f\"%s3_read_seconds)"
   ]
  },
  {
   "cell_type": "code",
   "execution_count": 15,
   "metadata": {},
   "outputs": [
    {
     "ename": "NameError",
     "evalue": "name 'df' is not defined",
     "output_type": "error",
     "traceback": [
      "\u001b[0;31m---------------------------------------------------------------------------\u001b[0m",
      "\u001b[0;31mNameError\u001b[0m                                 Traceback (most recent call last)",
      "\u001b[0;32m<ipython-input-15-00cf07b74dcd>\u001b[0m in \u001b[0;36m<module>\u001b[0;34m()\u001b[0m\n\u001b[0;32m----> 1\u001b[0;31m \u001b[0mdf\u001b[0m\u001b[0;34m\u001b[0m\u001b[0m\n\u001b[0m",
      "\u001b[0;31mNameError\u001b[0m: name 'df' is not defined"
     ]
    }
   ],
   "source": [
    "df"
   ]
  },
  {
   "cell_type": "code",
   "execution_count": 25,
   "metadata": {},
   "outputs": [
    {
     "name": "stdout",
     "output_type": "stream",
     "text": [
      "object\n",
      "object\n",
      "object\n",
      "object\n",
      "object\n",
      "int64\n",
      "bool\n",
      "int64\n"
     ]
    }
   ],
   "source": [
    "for c in df.dtypes: print(c)"
   ]
  },
  {
   "cell_type": "code",
   "execution_count": 31,
   "metadata": {},
   "outputs": [],
   "source": [
    "df = df.astype({\n",
    "    \"anonymous_id\":\"string_\",\n",
    "    \"canonical_url\":\"string_\",\n",
    "    \"day_str\":\"string_\",\n",
    "    \"from_time\":\"datetime64\",\n",
    "   \"to_time\":\"datetime64\",\n",
    "    \"time_on_page_seconds\":\"float16\",\n",
    "    \"is_test\":\"bool\",\n",
    "    \"max_article_read_depth\":\"int16\",\n",
    "    \n",
    "}, copy=False)\n"
   ]
  },
  {
   "cell_type": "code",
   "execution_count": 32,
   "metadata": {},
   "outputs": [
    {
     "name": "stdout",
     "output_type": "stream",
     "text": [
      "object\n",
      "object\n",
      "object\n",
      "datetime64[ns]\n",
      "datetime64[ns]\n",
      "float16\n",
      "bool\n",
      "int16\n"
     ]
    }
   ],
   "source": [
    "for c in df.dtypes: print(c)"
   ]
  },
  {
   "cell_type": "code",
   "execution_count": 12,
   "metadata": {},
   "outputs": [
    {
     "data": {
      "text/plain": [
       "'1.8.0'"
      ]
     },
     "execution_count": 12,
     "metadata": {},
     "output_type": "execute_result"
    }
   ],
   "source": [
    "pyathena.__version__"
   ]
  },
  {
   "cell_type": "code",
   "execution_count": 33,
   "metadata": {},
   "outputs": [],
   "source": []
  },
  {
   "cell_type": "code",
   "execution_count": 34,
   "metadata": {},
   "outputs": [
    {
     "name": "stdout",
     "output_type": "stream",
     "text": [
      "Running query\n",
      "Query finished after 16.73\n",
      "Now going to get the results from S3\n",
      "Reading the CSV from S3 (not running query) took 272002.44\n",
      "All finished using as_pandas in 18.89\n",
      "Num records = 389406\n"
     ]
    },
    {
     "data": {
      "text/html": [
       "<div>\n",
       "<style scoped>\n",
       "    .dataframe tbody tr th:only-of-type {\n",
       "        vertical-align: middle;\n",
       "    }\n",
       "\n",
       "    .dataframe tbody tr th {\n",
       "        vertical-align: top;\n",
       "    }\n",
       "\n",
       "    .dataframe thead th {\n",
       "        text-align: right;\n",
       "    }\n",
       "</style>\n",
       "<table border=\"1\" class=\"dataframe\">\n",
       "  <thead>\n",
       "    <tr style=\"text-align: right;\">\n",
       "      <th></th>\n",
       "      <th>anonymous_id</th>\n",
       "      <th>canonical_url</th>\n",
       "      <th>day_str</th>\n",
       "      <th>from_time</th>\n",
       "      <th>to_time</th>\n",
       "      <th>time_on_page_seconds</th>\n",
       "      <th>is_test</th>\n",
       "      <th>max_article_read_depth</th>\n",
       "    </tr>\n",
       "  </thead>\n",
       "  <tbody>\n",
       "    <tr>\n",
       "      <th>0</th>\n",
       "      <td>85da893c-245e-46db-9892-3e36d4a47fe0</td>\n",
       "      <td>https://www.moneysmart.tw/articles/%E5%8F%B0%E...</td>\n",
       "      <td>2019-10-28</td>\n",
       "      <td>2019-10-28 22:34:44.142</td>\n",
       "      <td>2019-10-28 22:38:25.310</td>\n",
       "      <td>221</td>\n",
       "      <td>False</td>\n",
       "      <td>100</td>\n",
       "    </tr>\n",
       "    <tr>\n",
       "      <th>1</th>\n",
       "      <td>e083f2c1-7459-4bae-98e0-0de99464e816</td>\n",
       "      <td>https://www.moneysmart.tw/articles/%E5%8F%B0%E...</td>\n",
       "      <td>2019-10-28</td>\n",
       "      <td>2019-10-28 22:56:40.997</td>\n",
       "      <td>2019-10-28 22:57:49.543</td>\n",
       "      <td>68</td>\n",
       "      <td>False</td>\n",
       "      <td>100</td>\n",
       "    </tr>\n",
       "    <tr>\n",
       "      <th>2</th>\n",
       "      <td>0581c41d-2310-45cc-9c95-c082e418de02</td>\n",
       "      <td>https://www.moneysmart.tw/articles/%E5%8F%B0%E...</td>\n",
       "      <td>2019-10-28</td>\n",
       "      <td>2019-10-28 16:38:07.689</td>\n",
       "      <td>2019-10-28 16:39:21.032</td>\n",
       "      <td>73</td>\n",
       "      <td>False</td>\n",
       "      <td>100</td>\n",
       "    </tr>\n",
       "    <tr>\n",
       "      <th>3</th>\n",
       "      <td>0629cb02-8f5e-4a3d-bf6d-0820e116cb94</td>\n",
       "      <td>https://www.moneysmart.tw/articles/%E5%AD%98%E...</td>\n",
       "      <td>2019-10-28</td>\n",
       "      <td>2019-10-28 16:26:48.853</td>\n",
       "      <td>2019-10-28 16:27:25.412</td>\n",
       "      <td>36</td>\n",
       "      <td>False</td>\n",
       "      <td>100</td>\n",
       "    </tr>\n",
       "    <tr>\n",
       "      <th>4</th>\n",
       "      <td>8cc3e00a-6fe6-4c83-b6fd-bb06d0f328b6</td>\n",
       "      <td>https://www.moneysmart.tw/articles/%e9%89%85%e...</td>\n",
       "      <td>2019-10-28</td>\n",
       "      <td>2019-10-28 16:16:48.076</td>\n",
       "      <td>2019-10-28 16:16:48.076</td>\n",
       "      <td>0</td>\n",
       "      <td>False</td>\n",
       "      <td>0</td>\n",
       "    </tr>\n",
       "    <tr>\n",
       "      <th>5</th>\n",
       "      <td>66ee0aaf-15d7-49d8-89e1-80eeecc0dcc9</td>\n",
       "      <td>https://www.moneysmart.tw/articles/%E5%8F%B0%E...</td>\n",
       "      <td>2019-10-28</td>\n",
       "      <td>2019-10-28 19:19:49.531</td>\n",
       "      <td>2019-10-28 19:20:11.895</td>\n",
       "      <td>22</td>\n",
       "      <td>False</td>\n",
       "      <td>100</td>\n",
       "    </tr>\n",
       "    <tr>\n",
       "      <th>6</th>\n",
       "      <td>50afd6f9-5cbc-49e9-bc2c-fba42a46cc59</td>\n",
       "      <td>https://www.moneysmart.tw/articles/netflix-lin...</td>\n",
       "      <td>2019-10-28</td>\n",
       "      <td>2019-10-28 19:36:28.890</td>\n",
       "      <td>2019-10-28 19:37:34.584</td>\n",
       "      <td>65</td>\n",
       "      <td>False</td>\n",
       "      <td>100</td>\n",
       "    </tr>\n",
       "    <tr>\n",
       "      <th>7</th>\n",
       "      <td>cc386a09-4cdd-4aca-b77e-139599922f24</td>\n",
       "      <td>https://www.moneysmart.tw/articles/%E5%9C%B0%E...</td>\n",
       "      <td>2019-10-28</td>\n",
       "      <td>2019-10-28 16:56:29.927</td>\n",
       "      <td>2019-10-28 16:56:29.951</td>\n",
       "      <td>0</td>\n",
       "      <td>False</td>\n",
       "      <td>100</td>\n",
       "    </tr>\n",
       "    <tr>\n",
       "      <th>8</th>\n",
       "      <td>b524ec2f-069b-4c82-a80f-d4008adc14f4</td>\n",
       "      <td>https://www.moneysmart.tw/articles/2019-%E6%84...</td>\n",
       "      <td>2019-10-28</td>\n",
       "      <td>2019-10-28 16:57:01.905</td>\n",
       "      <td>2019-10-28 16:57:01.905</td>\n",
       "      <td>0</td>\n",
       "      <td>False</td>\n",
       "      <td>0</td>\n",
       "    </tr>\n",
       "    <tr>\n",
       "      <th>9</th>\n",
       "      <td>3d14032a-6d30-4acd-bb26-944dcbd97a53</td>\n",
       "      <td>https://www.moneysmart.tw/articles/costco%E8%B...</td>\n",
       "      <td>2019-10-28</td>\n",
       "      <td>2019-10-28 22:11:53.677</td>\n",
       "      <td>2019-10-28 22:11:53.677</td>\n",
       "      <td>0</td>\n",
       "      <td>False</td>\n",
       "      <td>0</td>\n",
       "    </tr>\n",
       "  </tbody>\n",
       "</table>\n",
       "</div>"
      ],
      "text/plain": [
       "                           anonymous_id  \\\n",
       "0  85da893c-245e-46db-9892-3e36d4a47fe0   \n",
       "1  e083f2c1-7459-4bae-98e0-0de99464e816   \n",
       "2  0581c41d-2310-45cc-9c95-c082e418de02   \n",
       "3  0629cb02-8f5e-4a3d-bf6d-0820e116cb94   \n",
       "4  8cc3e00a-6fe6-4c83-b6fd-bb06d0f328b6   \n",
       "5  66ee0aaf-15d7-49d8-89e1-80eeecc0dcc9   \n",
       "6  50afd6f9-5cbc-49e9-bc2c-fba42a46cc59   \n",
       "7  cc386a09-4cdd-4aca-b77e-139599922f24   \n",
       "8  b524ec2f-069b-4c82-a80f-d4008adc14f4   \n",
       "9  3d14032a-6d30-4acd-bb26-944dcbd97a53   \n",
       "\n",
       "                                       canonical_url     day_str  \\\n",
       "0  https://www.moneysmart.tw/articles/%E5%8F%B0%E...  2019-10-28   \n",
       "1  https://www.moneysmart.tw/articles/%E5%8F%B0%E...  2019-10-28   \n",
       "2  https://www.moneysmart.tw/articles/%E5%8F%B0%E...  2019-10-28   \n",
       "3  https://www.moneysmart.tw/articles/%E5%AD%98%E...  2019-10-28   \n",
       "4  https://www.moneysmart.tw/articles/%e9%89%85%e...  2019-10-28   \n",
       "5  https://www.moneysmart.tw/articles/%E5%8F%B0%E...  2019-10-28   \n",
       "6  https://www.moneysmart.tw/articles/netflix-lin...  2019-10-28   \n",
       "7  https://www.moneysmart.tw/articles/%E5%9C%B0%E...  2019-10-28   \n",
       "8  https://www.moneysmart.tw/articles/2019-%E6%84...  2019-10-28   \n",
       "9  https://www.moneysmart.tw/articles/costco%E8%B...  2019-10-28   \n",
       "\n",
       "                 from_time                  to_time  time_on_page_seconds  \\\n",
       "0  2019-10-28 22:34:44.142  2019-10-28 22:38:25.310                   221   \n",
       "1  2019-10-28 22:56:40.997  2019-10-28 22:57:49.543                    68   \n",
       "2  2019-10-28 16:38:07.689  2019-10-28 16:39:21.032                    73   \n",
       "3  2019-10-28 16:26:48.853  2019-10-28 16:27:25.412                    36   \n",
       "4  2019-10-28 16:16:48.076  2019-10-28 16:16:48.076                     0   \n",
       "5  2019-10-28 19:19:49.531  2019-10-28 19:20:11.895                    22   \n",
       "6  2019-10-28 19:36:28.890  2019-10-28 19:37:34.584                    65   \n",
       "7  2019-10-28 16:56:29.927  2019-10-28 16:56:29.951                     0   \n",
       "8  2019-10-28 16:57:01.905  2019-10-28 16:57:01.905                     0   \n",
       "9  2019-10-28 22:11:53.677  2019-10-28 22:11:53.677                     0   \n",
       "\n",
       "   is_test  max_article_read_depth  \n",
       "0    False                     100  \n",
       "1    False                     100  \n",
       "2    False                     100  \n",
       "3    False                     100  \n",
       "4    False                       0  \n",
       "5    False                     100  \n",
       "6    False                     100  \n",
       "7    False                     100  \n",
       "8    False                       0  \n",
       "9    False                       0  "
      ]
     },
     "execution_count": 34,
     "metadata": {},
     "output_type": "execute_result"
    }
   ],
   "source": [
    "# Run a test query to see that the function works\n",
    "\n",
    "df = query_athena_via_s3(speed_test_query, athena_cursor, s3_client, print_debug_messages=True)\n",
    "print(\"Num records = %i\"% len(df))\n",
    "df.head(10)"
   ]
  },
  {
   "cell_type": "markdown",
   "metadata": {},
   "source": [
    "# Hacky AMP Pageviews Per Session Trend in AB Test\n"
   ]
  },
  {
   "cell_type": "code",
   "execution_count": null,
   "metadata": {},
   "outputs": [],
   "source": [
    "#athena = AthenaQuery()\n",
    "\n",
    "# Get the Test URLs\n",
    "\n",
    "\n",
    "# Generate a humongous query\n",
    "# Pageviews per user who has visited an SEO test url.\n",
    "\n",
    "# Get the results\n",
    "\n",
    "\n"
   ]
  }
 ],
 "metadata": {
  "kernelspec": {
   "display_name": "conda_python3",
   "language": "python",
   "name": "conda_python3"
  },
  "language_info": {
   "codemirror_mode": {
    "name": "ipython",
    "version": 3
   },
   "file_extension": ".py",
   "mimetype": "text/x-python",
   "name": "python",
   "nbconvert_exporter": "python",
   "pygments_lexer": "ipython3",
   "version": "3.6.5"
  }
 },
 "nbformat": 4,
 "nbformat_minor": 4
}
