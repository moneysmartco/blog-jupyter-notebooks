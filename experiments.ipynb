{
 "cells": [
  {
   "cell_type": "markdown",
   "metadata": {},
   "source": [
    "# Looking at AMP Conversions off SEO test pages"
   ]
  },
  {
   "cell_type": "markdown",
   "metadata": {},
   "source": [
    "## Hacky Technique\n",
    "\n",
    "We know:\n",
    "* We have a list of SEO test urls\n",
    "* AMP pages on google have CDN cache urls\n",
    "* If someone clicks from an AMP onto the site, then it passes ms_linker into the query params\n",
    "\n",
    "\n",
    "... but this isn't sufficent as we don't have tracking off the dable, and dable goes to non-AMP.  That is the same for v1 and v2.\n",
    "\n",
    "\n",
    "... but we've launched to 100%, so maybe just track global values.\n",
    "\n",
    "\n",
    "Still need AMP scroll depth."
   ]
  },
  {
   "cell_type": "markdown",
   "metadata": {},
   "source": [
    "# Testing Widgets"
   ]
  },
  {
   "cell_type": "code",
   "execution_count": 11,
   "metadata": {},
   "outputs": [],
   "source": [
    "\n",
    "import ipywidgets as widgets"
   ]
  },
  {
   "cell_type": "code",
   "execution_count": 12,
   "metadata": {},
   "outputs": [
    {
     "data": {
      "application/vnd.jupyter.widget-view+json": {
       "model_id": "fb9980031c564889b058b0955c807ca5",
       "version_major": 2,
       "version_minor": 0
      },
      "text/plain": [
       "IntSlider(value=0)"
      ]
     },
     "metadata": {},
     "output_type": "display_data"
    }
   ],
   "source": [
    "widgets.IntSlider()"
   ]
  },
  {
   "cell_type": "code",
   "execution_count": 13,
   "metadata": {},
   "outputs": [],
   "source": [
    "button = widgets.Button(description =\"Click Me\")\n",
    "def on_button_click(b):\n",
    "    print(\"Clicked :)\")\n",
    "\n",
    "button.on_click(on_button_click)\n"
   ]
  },
  {
   "cell_type": "code",
   "execution_count": 14,
   "metadata": {},
   "outputs": [
    {
     "data": {
      "application/vnd.jupyter.widget-view+json": {
       "model_id": "47c69630fd4e474e9d954e44bfe88673",
       "version_major": 2,
       "version_minor": 0
      },
      "text/plain": [
       "Button(description='Click Me', style=ButtonStyle())"
      ]
     },
     "metadata": {},
     "output_type": "display_data"
    }
   ],
   "source": [
    "display(button)"
   ]
  },
  {
   "cell_type": "code",
   "execution_count": 20,
   "metadata": {},
   "outputs": [
    {
     "data": {
      "application/vnd.jupyter.widget-view+json": {
       "model_id": "863bf45f8d6540deb7b5915652a46bc9",
       "version_major": 2,
       "version_minor": 0
      },
      "text/plain": [
       "VBox(children=(Box(children=(Text(value=''), SelectMultiple(description='Country', options=('sg', 'hk', 'tw', …"
      ]
     },
     "metadata": {},
     "output_type": "display_data"
    }
   ],
   "source": [
    "anonymous_user_input = widgets.Text()\n",
    "country_code_dropdown = widgets.SelectMultiple(\n",
    "    options= [\"sg\", \"hk\",\"tw\", \"ph\",\"id\", \"??\"],\n",
    "    #value='OSX',\n",
    "    # rows=10,\n",
    "    description='Country',\n",
    "    disabled=False\n",
    ")\n",
    "search_button = widgets.Button(description='Search', on_click=on_button_click)\n",
    "reset_button = widgets.Button(description=\"Reset\")\n",
    "\n",
    "top_level_slug_select = widgets.SelectMultiple(options = [\"/credit-cards/\", \"/travel-insurance/\"], description=\"slug\")\n",
    "event_type_select = widgets.SelectMultiple(options=[\"PageView\", \"Clicky\"], description=\"Event\")\n",
    "\n",
    "\n",
    "\n",
    "search_options = widgets.Box([anonymous_user_input, country_code_dropdown , top_level_slug_select, event_type_select])\n",
    "\n",
    "search_bar = widgets.VBox([search_options, widgets.Box([search_button, reset_button])])\n",
    "display(search_bar)"
   ]
  },
  {
   "cell_type": "code",
   "execution_count": 22,
   "metadata": {},
   "outputs": [
    {
     "data": {
      "text/plain": [
       "('tw', 'ph')"
      ]
     },
     "execution_count": 22,
     "metadata": {},
     "output_type": "execute_result"
    }
   ],
   "source": [
    "country_code_dropdown.value"
   ]
  },
  {
   "cell_type": "code",
   "execution_count": null,
   "metadata": {},
   "outputs": [],
   "source": []
  },
  {
   "cell_type": "code",
   "execution_count": null,
   "metadata": {},
   "outputs": [],
   "source": []
  },
  {
   "cell_type": "code",
   "execution_count": null,
   "metadata": {},
   "outputs": [],
   "source": []
  }
 ],
 "metadata": {
  "kernelspec": {
   "display_name": "conda_python3",
   "language": "python",
   "name": "conda_python3"
  },
  "language_info": {
   "codemirror_mode": {
    "name": "ipython",
    "version": 3
   },
   "file_extension": ".py",
   "mimetype": "text/x-python",
   "name": "python",
   "nbconvert_exporter": "python",
   "pygments_lexer": "ipython3",
   "version": "3.6.5"
  }
 },
 "nbformat": 4,
 "nbformat_minor": 4
}
