{
 "cells": [
  {
   "cell_type": "markdown",
   "metadata": {},
   "source": [
    "# Checking the SEO Test Setup\n",
    "\n",
    "I.e. checking that the right urls are set up, without going too crazy on testing everything.\n",
    "\n",
    "In brief:\n",
    "\n",
    "* Focus on the articles\n",
    "* Check the test urls are accessible and show v2\n",
    "* If AMP is enabled, test that control urls show v1 AMP and test urls show v2\n",
    "* Check the canonicals\n",
    "* Check the breadcrumbs\n",
    "* That cloudflare looks to be working\n",
    "\n",
    "\n",
    "Out of scope:\n",
    "\n",
    "* That an AMP page is valid AMP (we have a separate test suite for this)\n",
    "* Being robust to html that isn't what's expected during blog v2 launch!\n",
    "* Testing non-article pages (home page, category page etc)"
   ]
  },
  {
   "cell_type": "code",
   "execution_count": 3,
   "metadata": {},
   "outputs": [],
   "source": [
    "import requests\n",
    "from datetime import datetime\n",
    "from bs4 import BeautifulSoup\n",
    "import csv\n",
    "import json\n",
    "import urllib\n",
    "import json\n",
    "import time\n",
    "import matplotlib.pyplot as plt\n",
    "from random import random, randint"
   ]
  },
  {
   "cell_type": "markdown",
   "metadata": {},
   "source": [
    "## Settings\n"
   ]
  },
  {
   "cell_type": "code",
   "execution_count": 1,
   "metadata": {},
   "outputs": [],
   "source": [
    "country_to_test = \"tw\"\n",
    "test_staging = True\n",
    "\n",
    "test_urls_csv_filepath = {  # These originally come from https://docs.google.com/spreadsheets/d/1UdrncwVdObaA6d0lnvbAQCHBpQMzEhWPz5OTR9Syobo/edit#gid=0\n",
    "    \"id\":\"./SEO Test Urls/id_seo_test_urls.csv\",\n",
    "    \"tw\":\"./SEO Test Urls/tw_seo_test_urls.csv\",\n",
    "    \"sg\": None,\n",
    "    \"hk\": None,\n",
    "}\n",
    "\n",
    "production_staging_urls = {\n",
    "    \"id\": [\"www.moneysmart.id\", \"www.msiddev.com\"],\n",
    "    \"tw\":[\"www.moneysmart.id\", \"www.msiddev.com\"],\n",
    "    \"sg\": [\"blog.moneysmart.sg\",\"blog.mssgdev.com\"],\n",
    "    \"hk\":[\"www.moneysmart.hk\", \"blog.mshkdev.com\"],\n",
    "}\n",
    "\n",
    "post_sitemaps = { #yes, we could load some more dynamically but it saves some coding\n",
    "    \"id\": [\"https://www.moneysmart.id/post-sitemap%i.xml\"%i for i in range(1,13)],\n",
    "    \"tw\": [\"https://www.moneysmart.tw/post-sitemap.xml\"],\n",
    "    \"sg\": [\"https://blog.moneysmart.sg/post-sitemap%i.xml\"%i for i in range(1,5)],\n",
    "    \"hk\": [\"https://blog.moneysmart.hk/post-sitemap%i.xml\"%i for i in range(1,3)],\n",
    "    \n",
    "    #Aside, there seems to be public pages for the ads in the sitemap :( \n",
    "    \n",
    "}\n",
    "\n",
    "\n",
    "#These passwords aren't sensitive, they're just there to block search engine.\n",
    "v1_staging_passwords = {\n",
    "    \"id\":[\"admin\", \"moneysmart\"],\n",
    "    \"tw\":[\"admin\", \"moneysmart\"],\n",
    "    \"sg\":[\"admin\", \"duri@n\"],\n",
    "    \"hk\":[\"admin\", \"yu3ch@\"],\n",
    "}\n",
    "\n",
    "v2_staging_passwords = {\n",
    "    \"id\":[\"admin\", \"moneysmart\"],\n",
    "    \"tw\":[\"admin\", \"moneysmart\"],\n",
    "    \"sg\":[\"admin\", \"moneysmart\"],\n",
    "    \"hk\":[\"admin\", \"moneysmart\"],\n",
    "}\n"
   ]
  },
  {
   "cell_type": "markdown",
   "metadata": {},
   "source": [
    "## Test URL Sets"
   ]
  },
  {
   "cell_type": "code",
   "execution_count": 4,
   "metadata": {},
   "outputs": [
    {
     "name": "stdout",
     "output_type": "stream",
     "text": [
      "Skipping first line of url file: ['url']\n",
      "Found 51 test urls to check for\n"
     ]
    }
   ],
   "source": [
    "def load_seo_test_urls(country_code):\n",
    "    filepath = test_urls_csv_filepath[country_code]\n",
    "    urls = []\n",
    "    with open(filepath) as f:\n",
    "        csv_reader = csv.reader(f, delimiter=',')\n",
    "        for i, row in enumerate(csv_reader):\n",
    "            if i==0:\n",
    "                print(\"Skipping first line of url file: %s\"%row)\n",
    "                continue\n",
    "            urls.append(row[0].strip())\n",
    "\n",
    "    return urls\n",
    "\n",
    "seo_test_urls = load_seo_test_urls(country_to_test)\n",
    "\n",
    "print(\"Found %i test urls to check for\" % len(seo_test_urls))\n"
   ]
  },
  {
   "cell_type": "code",
   "execution_count": 5,
   "metadata": {},
   "outputs": [
    {
     "name": "stdout",
     "output_type": "stream",
     "text": [
      "https://www.moneysmart.tw/articles/各家銀行信用卡免付費客服電話/\n",
      "https://www.moneysmart.tw/articles/黃金存摺-開戶-銀行/\n",
      "https://www.moneysmart.tw/articles/如果你是旅遊常客，何不使用雙幣信用卡？/\n",
      "https://www.moneysmart.tw/articles/line-points-中信-line-pay-聯邦賴點一卡通/\n",
      "https://www.moneysmart.tw/articles/海外旅遊-現金回饋-信用卡-2019/\n",
      "https://www.moneysmart.tw/articles/2019年悠遊聯名卡自動加值回饋與相關優惠/\n",
      "https://www.moneysmart.tw/articles/善用結帳日，額外爽賺利息/\n",
      "https://www.moneysmart.tw/articles/linepay卡-中國信託-hotelscom/\n",
      "https://www.moneysmart.tw/articles/燃料費-信用卡/\n",
      "https://www.moneysmart.tw/articles/2019-電影-信用卡-優惠/\n",
      "https://www.moneysmart.tw/articles/出國旅遊用現金、信用卡、旅支還是金融卡提款？/\n",
      "https://www.moneysmart.tw/articles/uupon-20190319-02/\n",
      "https://www.moneysmart.tw/articles/costco-會員千元年費，商品真的有比較便宜嗎？/\n",
      "https://www.moneysmart.tw/articles/數位帳戶-王道-richart-大戶-永豐-台新/\n",
      "https://www.moneysmart.tw/articles/line-pay-回饋-信用卡/\n",
      "https://www.moneysmart.tw/articles/花旗紅利點數貶值之後，卡友們應該何去何從？/\n",
      "https://www.moneysmart.tw/articles/買賣外幣停看聽，牌告匯率先看懂/\n",
      "https://www.moneysmart.tw/articles/mot-monthly-ticket-20190313-1/\n",
      "https://www.moneysmart.tw/articles/海外回饋-彰銀-my樂-現金回饋卡/\n",
      "https://www.moneysmart.tw/articles/2019-母親節大餐哪裡吃？刷卡優惠看這裡/\n",
      "https://www.moneysmart.tw/articles/匯豐華航聯名卡祭出最優-3元1哩購票回饋/\n",
      "https://www.moneysmart.tw/articles/最高-9-回饋！2019-netflix-方案-x-現金回饋信用卡推薦/\n",
      "https://www.moneysmart.tw/articles/movies-creditcard-20190312-2/\n",
      "https://www.moneysmart.tw/articles/旅遊-日本-刷卡-信用卡-回饋/\n",
      "https://www.moneysmart.tw/articles/豬公-零錢換鈔票-存款/\n",
      "https://www.moneysmart.tw/articles/costco辦卡-聯名卡-商業會員-金星會員/\n",
      "https://www.moneysmart.tw/articles/定期存款與定期儲蓄存款的不同/\n",
      "https://www.moneysmart.tw/articles/iphone-11-舊機-新機-折抵-分期付款/\n",
      "https://www.moneysmart.tw/articles/兒童帳戶-兒童儲蓄帳戶/\n",
      "https://www.moneysmart.tw/articles/line-pay、街口，消費者實用度六大評鑑出爐/\n",
      "https://www.moneysmart.tw/articles/通勤族必備之一卡通聯名卡乘車相關優惠/\n",
      "https://www.moneysmart.tw/articles/2019-美金-定存-利率/\n",
      "https://www.moneysmart.tw/articles/kkbox-spotify-applemusic-mymusic-20190322-02/\n",
      "https://www.moneysmart.tw/articles/新鮮人-小額-投資/\n",
      "https://www.moneysmart.tw/articles/2019年亞洲萬里通第一季活動，里數送不停讓你更快/\n",
      "https://www.moneysmart.tw/articles/長榮哩程累積與兌換即將迎來一些變革/\n",
      "https://www.moneysmart.tw/articles/國泰世華-蝦皮購物聯名卡-23-回饋/\n",
      "https://www.moneysmart.tw/articles/open-point-新會員-多元支付/\n",
      "https://www.moneysmart.tw/articles/回饋-pi-拍錢包-玉山銀行-信用卡/\n",
      "https://www.moneysmart.tw/articles/開戶-手續費-折扣/\n",
      "https://www.moneysmart.tw/articles/錄取率-面試-感謝信-工作-求職/\n",
      "https://www.moneysmart.tw/articles/行動支付-健保費-街口支付-pi-錢包/\n",
      "https://www.moneysmart.tw/articles/超商刷卡-行動支付-2019/\n",
      "https://www.moneysmart.tw/articles/交通神卡是這張-2019-台鐵-高鐵-信用卡現金回饋/\n",
      "https://www.moneysmart.tw/articles/手機電話費-信用卡/\n",
      "https://www.moneysmart.tw/articles/新婚-育兒-單身-租屋補助/\n",
      "https://www.moneysmart.tw/articles/外幣-南非幣-定存-利率-匯率/\n",
      "https://www.moneysmart.tw/articles/新鮮人-存錢-第一桶金/\n",
      "https://www.moneysmart.tw/articles/銀行定存必備六大技巧，不讓銀行再賺走你一分錢/\n",
      "https://www.moneysmart.tw/articles/現金回饋派站出來！2019-國內-海外-網購信用卡評比/\n",
      "https://www.moneysmart.tw/articles/2019-貓狗-寵物險大評比-寵物險比較/\n"
     ]
    }
   ],
   "source": [
    "for a in seo_test_urls:print(a)"
   ]
  },
  {
   "cell_type": "markdown",
   "metadata": {},
   "source": [
    "## All Posts from Sitemaps (and test sitemap works!)"
   ]
  },
  {
   "cell_type": "code",
   "execution_count": 6,
   "metadata": {},
   "outputs": [
    {
     "name": "stdout",
     "output_type": "stream",
     "text": [
      "Loading urls from sitemap 0 of 1 https://www.moneysmart.tw/post-sitemap.xml\n",
      "Found 671 posts in the sitemap\n"
     ]
    }
   ],
   "source": [
    "def get_urls_from_sitemap(sitemap_url):\n",
    "    \n",
    "    r = requests.get(sitemap_url)\n",
    "    soup = BeautifulSoup(r.text, \"html.parser\") #html parser does xml fine\n",
    "    urls = [element.text for element in soup.findAll('loc')]\n",
    "    return urls\n",
    "\n",
    "def get_all_post_urls_from_sitemap(country_code):\n",
    "    sitemaps = post_sitemaps[country_code]\n",
    "    all_urls = []\n",
    "    for i, sitemap in enumerate(sitemaps):\n",
    "        print(\"Loading urls from sitemap %i of %i %s\" % (i, len(sitemaps), sitemap))\n",
    "        sitemap_urls = get_urls_from_sitemap(sitemap)\n",
    "        all_urls+=sitemap_urls\n",
    "    return all_urls\n",
    "\n",
    "all_post_urls = get_all_post_urls_from_sitemap(country_to_test)\n",
    "\n",
    "print(\"Found %i posts in the sitemap\"%len(all_post_urls))"
   ]
  },
  {
   "cell_type": "code",
   "execution_count": 7,
   "metadata": {},
   "outputs": [
    {
     "name": "stdout",
     "output_type": "stream",
     "text": [
      "That leaves 668 post urls that aren't in the test\n"
     ]
    }
   ],
   "source": [
    "non_seo_test_urls = list(set(all_post_urls) - set(seo_test_urls))\n",
    "print(\"That leaves %i post urls that aren't in the test\" % len(non_seo_test_urls))"
   ]
  },
  {
   "cell_type": "code",
   "execution_count": null,
   "metadata": {},
   "outputs": [],
   "source": []
  },
  {
   "cell_type": "markdown",
   "metadata": {},
   "source": [
    "## Utility Functions"
   ]
  },
  {
   "cell_type": "code",
   "execution_count": 126,
   "metadata": {},
   "outputs": [],
   "source": [
    "def is_v2_url(url):\n",
    "    splits = urllib.parse.urlparse(url)\n",
    "    if \"www3.\" in splits.netloc or \"blog3.\" in splits.netloc:\n",
    "        return True\n",
    "    return False\n",
    "\n",
    "def is_v1_url(url):\n",
    "    return not is_v2_url(url)\n",
    "\n",
    "def make_v2_url(url):\n",
    "    #>>>\n",
    "    \n",
    "    return v2_url\n",
    "    \n",
    "def make_v2_staging_url(url):\n",
    "    # not responsible for auth\n",
    "    pass\n",
    "    \n",
    "    \n",
    "def make_v1_staging_url(url):\n",
    "    # not responsible for auth\n",
    "    pass\n",
    "                                   \n",
    "\n",
    "def is_amp_page(url, page_cache):\n",
    "    \"\"\"\n",
    "    Very basic test on whether the page is marked in the html tag as AMP\n",
    "    \n",
    "       # <html ⚡> or <html amp>\n",
    "    rab\"\"\"\n",
    "    soup = page_cache.get_soup(url)\n",
    "    html_tag = soup.find('html')\n",
    "    html_tag.attrs\n",
    "    \n",
    "    if \"amp\" in html_tag.attrs or \"⚡\" in html_tag.attrs:\n",
    "        return True\n",
    "    return False\n",
    "    \n",
    "    \n",
    " \n",
    "    \n",
    "def is_v2_page(url, page_cache):\n",
    "    \"\"\"\n",
    "    Very basic test if it's a v2 page based on knowledge of it.\n",
    "    \"\"\"\n",
    "    html = page_cache.get_html(url)\n",
    "    if \"nuxt\" in html:\n",
    "        return True\n",
    "    return False\n",
    "    \n",
    "    \n",
    "def is_v2_amp_page(url, page_cache):\n",
    "    if is_v2_page(url, page_cache) and is_amp_page(url, page_cache):\n",
    "        return True\n",
    "    return False\n",
    "    \n",
    "def extract_link_of_type(url, page_cache, type_of_link):\n",
    "    \"\"\"\n",
    "    Generally don't call this directly.\n",
    "    \n",
    "    Expects it to be unique in the page / no duplicates\n",
    "    \"\"\"\n",
    "    \n",
    "    soup = page_cache.get_soup(url)\n",
    "    links = soup.find_all(\"link\")\n",
    "    suitable_link_tags = [z for z in links if \"rel\" in z.attrs and z.attrs[\"rel\"].lower()==type_of_link.lower()]\n",
    "    if len(suitable_link_tags)==0:\n",
    "        return None\n",
    "    if len(suitable_link_tags)>1:\n",
    "        raise Exception()\n",
    "    \n",
    "    link_url = amp_link_tags[0].get(\"href\")\n",
    "    \n",
    "    return link_url\n",
    "    \n",
    "    \n",
    "    \n",
    "    \n",
    "    \n",
    "def extract_link_to_amp_version(url, page_cache):\n",
    "    \"\"\"\n",
    "    Returns none if the amp version can't be found\n",
    "    \n",
    "    Looking for <link rel=\"amphtml\" href=\"...\"\n",
    "    \n",
    "    Returns the url it links to\n",
    "    \"\"\"\n",
    "    amp_url = extract_link_of_type(url, page_cache, \"amphtml\")\n",
    "    \n",
    "    return amp_url\n",
    "\n",
    "def amp_and_canonical_urls_match(amp_url, canonical_url):\n",
    "    if amp_url == canonical_url+\"?amp\": # better would be to do a join using url library\n",
    "        return True\n",
    "    return False\n",
    "    \n",
    "    \n",
    "\n",
    "    \n",
    "    \n",
    "def extract_canonical_tag(url, page_cache):\n",
    "    \"\"\"\n",
    "    \n",
    "    Looks for <link rel=\"canonical\" href=\"....\">\n",
    "    \n",
    "    This is similar to amphtml\n",
    "    \"\"\"\n",
    "    canonical_url = extract_link_of_type(url, page_cache, \"canonical\")\n",
    "    return canonical_url\n",
    "\n",
    "    \n",
    "def canonical_tag_is_valid(url, canonical_url):\n",
    "    \"\"\"\n",
    "    Returns bool, error_message\n",
    "    \n",
    "    \"\"\"\n",
    "    url_components = urllib.parse.urlparse(url)\n",
    "    canonical_components = urllib.parse.urlparse(canonical_url)\n",
    "    \n",
    "    error_message = \"\"\n",
    "    \n",
    "    \n",
    "    #Canonical uses https\n",
    "    if canoncical_components.scheme != \"https\":\n",
    "        error_message += \"Canonical does't use https. \"\n",
    "    \n",
    "    # no query params in canonical\n",
    "    if canonical_components.query:\n",
    "        error_message += \"Canonical url contains query parameters. \"\n",
    "    \n",
    "    \n",
    "    # goes to base url\n",
    "    expected_root_url = production_staging_urls[country_code]\n",
    "    if not canonical_url.startswith(expected_root_url):\n",
    "        error_message += \"Canonical url doesn't appear to point to right site.\"\n",
    "    \n",
    "    \n",
    "    # url and canonical point to the same article\n",
    "    if url_components.path != canonical_components.path:\n",
    "        error_message += \"Canonical and url don't point to same url. \"\n",
    "    \n",
    "    \n",
    "    return error_message!=\"\", error_message\n",
    "    \n",
    "    \n",
    "def extract_ld_json_structured_data(url, page_cache, type_of_structured_data):\n",
    "    \"\"\"\n",
    "    Returns as parsed JSON i.e. should be able to inspect as a dictionary etc.\n",
    "    \"\"\"\n",
    "    \n",
    "    #Note there's lots of valid ways of doing this, I'm just trying to match the way it's been implemented\n",
    "    \n",
    "    soup = page_cache.get_soup(url)\n",
    "    \n",
    "    script_tags = soup.find_all(\"script\")\n",
    "    sd_tags = [z for z in script_tags if \"type\" in z.attrs and z.attrs[\"type\"]==\"application/ld+json\"]\n",
    "    json_structured_datas = [json.loads(z.contents) for z in sd_tags]\n",
    "    structured_datas_of_type = [z for z in structured_datas if z[\"@type\"]==type_of_strucutred_data]\n",
    "    if len(structured_datas_of_type) > 1:\n",
    "        raise Exception()\n",
    "    if len(structured_datas_of_type) == 0:\n",
    "        raise Exception() # just for debugging\n",
    "        return None\n",
    "    return structured_datas_of_type[0]\n",
    "    \n",
    "def extract_blogposting_structured_data(url, page_cache):\n",
    "    sd = extract_ld_json_structured_data(url, page_cache, \"BlogPosting\")\n",
    "    return sd\n",
    "    \n",
    "def extract_breadcrumbs_as_list(url, page_cache):\n",
    "    \"\"\"\n",
    "    Returns [[name, url]]\n",
    "    \n",
    "        {\n",
    "    \"@context\": \"https://schema.org\",\n",
    "    \"@type\": \"BreadcrumbList\",\n",
    "      \"itemListElement\": [{\n",
    "        \"@type\": \"ListItem\",\n",
    "        \"position\": 1,\n",
    "        \"name\": \"Books\",\n",
    "        \"item\": \"https://example.com/books\"\n",
    "      },\n",
    "      ...\n",
    "      }\n",
    "    \n",
    "    \"\"\"\n",
    "    sd = extract_ld_json_structured_data(url, page_cache, \"BreadcrumbList\")\n",
    "    \n",
    "    breadcrumbs = [[z[\"position\"], z[\"name\"], z[\"item\"]] \\\n",
    "                   for z in sd[\"itemListElement\"]\\\n",
    "                      if z[\"@type\"]==\"ListItem\"\n",
    "                  ]\n",
    "    breadcrumbs.sort(lambda x: x[0]) #sort by position\n",
    "    \n",
    "    \n",
    "    return [z[1:] for z in breadcrumbs]\n",
    "\n",
    "    \n",
    "\n",
    "    \n",
    "def article_breadcrumbs_are_valid(breadcrumb_ld_json):\n",
    "    # separate function to download, extract and turn into list\n",
    "    \n",
    "    pass\n",
    "    \n",
    "    #Has category\n",
    "    \n",
    "    #Has at least 3 levels of depth (home, category, article)\n",
    "    \n",
    "    #All urls are canonical (i.e. they start the right way)\n",
    "    \n",
    "    \n",
    "    \n"
   ]
  },
  {
   "cell_type": "code",
   "execution_count": 133,
   "metadata": {},
   "outputs": [],
   "source": [
    "class PageCache(object):\n",
    "    \"\"\"\n",
    "    This is an abstraction for getting a url, which understands\n",
    "    translation between staging and production, authentication etc\n",
    "    and uses a cache to allow efficient repeat requests.\n",
    "    (and whether that cache is in memory, or not is academic)\n",
    "    \n",
    "    It also includes throttling.\n",
    "    \n",
    "    The result might be a redirect to say www3 or whatever.\n",
    "    \n",
    "    NB this does currently rely on some globals\n",
    "    \"\"\"\n",
    "    \n",
    "    def __init__(self):\n",
    "        self._page_cache_dict = {} #url:[page_html, load_time, cloudflare_in_headers, cloudflare_hit, url_after_redirect]\n",
    "        self._soup_cache_dict = {} #url: beautifulsoup\n",
    "        self._page_load_time_dict = {} # a log of how long it takes to load the pages in seconds\n",
    "        self.last_page_respone_time  = datetime.now()\n",
    "        self.min_seconds_between_server_requests = 0.5 #currently after request completion, rather than start\n",
    "    \n",
    "    def get_html(self, url, refresh_cache = False):\n",
    "        \"\"\"\n",
    "        This gets the url, but only requests it if it isn't in the page cache currently\n",
    "        \"\"\"\n",
    "        if refresh_cache or url not in self._page_cache_dict:\n",
    "            seconds_since_last_request = (datetime.now() - self.last_page_respone_time).total_seconds()\n",
    "            wait_time = self.min_seconds_between_server_requests - seconds_since_last_request\n",
    "            if wait_time>0:\n",
    "                print(\"Throttling request for %.2f seconds\"%wait_time)\n",
    "                time.sleep(wait_time)\n",
    "            \n",
    "            self._download_url_and_cache(url) # this also does things like check caching and do timing.\n",
    "            \n",
    "        html = self._page_cache_dict[url][0]\n",
    "        \n",
    "        self.last_page_request_time = datetime.now()\n",
    "        \n",
    "        return html\n",
    "        \n",
    "    def get_soup(self, url):\n",
    "        \"\"\"\n",
    "        Returns the beautifulsoup version of the page for tag extraction\n",
    "        \"\"\"\n",
    "        if url not in self._soup_cache_dict:\n",
    "            html = self.get_html(url)\n",
    "            soup = BeautifulSoup(html, \"html.parser\")\n",
    "            self._soup_cache_dict[url] = soup\n",
    "\n",
    "        return self._soup_cache_dict[url]\n",
    "        \n",
    "\n",
    "        \n",
    "    def _download_url_and_cache(self, url):\n",
    "        user_pass = None\n",
    "        \n",
    "        \n",
    "        if test_staging:\n",
    "            #Need to deal with basic auth\n",
    "            # TODO\n",
    "            if is_v1_url(url):\n",
    "                user_pass = v1_staging_passwords[country_to_test]\n",
    "            else:\n",
    "                user_pass = v2_staging_passwords[country_to_test]\n",
    "        \n",
    "        \n",
    "        r = requests.get(url, auth= user_pass)\n",
    "        if r.status_code == \"401\":\n",
    "            \n",
    "            print(\"Got a 401 on %s with credentials %s\" % (url, user_pass))\n",
    "            if test_staging:\n",
    "                print(\"Going to try again with other creds as likely redirect with different creds.\")\n",
    "                if not is_v1_url(url): # flipping counter-intuitively\n",
    "                    user_pass = v1_staging_passwords[country_to_test]\n",
    "                else:\n",
    "                    user_pass = v2_staging_passwords[country_to_test]\n",
    "                r = requests.get(url, auth=user_pass)\n",
    "                if r.status_code == \"401\":\n",
    "                    print(\"failed with other auth\")\n",
    "                    raise Exception()\n",
    "            else:\n",
    "                raise Exception()\n",
    "        \n",
    "        r.raise_for_status() #Throw an exception if get e.g. a 404.\n",
    "        \n",
    "        load_time = r.elapsed.total_seconds()\n",
    "        text = r.text\n",
    "        headers = r.headers\n",
    "        \n",
    "        # Look at headers to judge if caching on the html is working\n",
    "        is_cdn_caching = False\n",
    "        is_cdn_cache_hit = False\n",
    "        if \"Server\" in headers:\n",
    "            if headers[\"Server\"]==\"cloudflare\":\n",
    "                is_cdn_caching = True\n",
    "                if headers[\"cf-cache-status\"]==\"HIT\":\n",
    "                    is_cdn_cache_hit = True\n",
    "            \n",
    "\n",
    "        url_after_redirect = r.url\n",
    "        #\"cf-cache-status\" \"HIT\"  /\"EXPIRED\"\n",
    "        #\"server:cloudflare\"\n",
    "        \n",
    "        self._page_cache_dict[url] = text, load_time, is_cdn_caching, is_cdn_cache_hit, url_after_redirect"
   ]
  },
  {
   "cell_type": "code",
   "execution_count": 134,
   "metadata": {},
   "outputs": [],
   "source": [
    "page_cache = PageCache()"
   ]
  },
  {
   "cell_type": "code",
   "execution_count": 135,
   "metadata": {},
   "outputs": [],
   "source": [
    "soup = page_cache.get_soup(\"https://www3.moneysmart.id\")"
   ]
  },
  {
   "cell_type": "code",
   "execution_count": 136,
   "metadata": {},
   "outputs": [
    {
     "data": {
      "text/plain": [
       "{'lang': 'id-ID', 'prefix': 'og: http://ogp.me/ns#'}"
      ]
     },
     "execution_count": 136,
     "metadata": {},
     "output_type": "execute_result"
    }
   ],
   "source": [
    "soup.html.attrs"
   ]
  },
  {
   "cell_type": "code",
   "execution_count": 63,
   "metadata": {},
   "outputs": [
    {
     "data": {
      "text/plain": [
       "ParseResult(scheme='https', netloc='www3.moneysmart.id', path='/my_cat/my_article', params='', query='amp', fragment='')"
      ]
     },
     "execution_count": 63,
     "metadata": {},
     "output_type": "execute_result"
    }
   ],
   "source": [
    "urllib.parse.urlparse(\"https://www3.moneysmart.id/my_cat/my_article?amp\")"
   ]
  },
  {
   "cell_type": "code",
   "execution_count": 131,
   "metadata": {},
   "outputs": [],
   "source": [
    "r = requests.get(\"https://www3.moneysmart.id/tas-hermes-mahal-ini-sebabnya/?forceTest=test\")\n",
    "r_amp = requests.get(\"https://www3.moneysmart.id/tas-hermes-mahal-ini-sebabnya/?amp\")"
   ]
  },
  {
   "cell_type": "code",
   "execution_count": 132,
   "metadata": {},
   "outputs": [
    {
     "data": {
      "text/plain": [
       "200"
      ]
     },
     "execution_count": 132,
     "metadata": {},
     "output_type": "execute_result"
    }
   ],
   "source": [
    "r.status_code"
   ]
  },
  {
   "cell_type": "code",
   "execution_count": 20,
   "metadata": {},
   "outputs": [
    {
     "data": {
      "text/plain": [
       "'<!doctype html>\\n<html data-n-head-ssr lang=\"id-ID\" data-n-head=\"lang\">\\n<head data-n-head=\"\">\\n<title '"
      ]
     },
     "execution_count": 20,
     "metadata": {},
     "output_type": "execute_result"
    }
   ],
   "source": [
    "r.text[:100]"
   ]
  },
  {
   "cell_type": "code",
   "execution_count": 137,
   "metadata": {},
   "outputs": [
    {
     "ename": "TypeError",
     "evalue": "the JSON object must be str, bytes or bytearray, not 'list'",
     "output_type": "error",
     "traceback": [
      "\u001b[0;31m---------------------------------------------------------------------------\u001b[0m",
      "\u001b[0;31mTypeError\u001b[0m                                 Traceback (most recent call last)",
      "\u001b[0;32m<ipython-input-137-d68cae5426a7>\u001b[0m in \u001b[0;36m<module>\u001b[0;34m()\u001b[0m\n\u001b[0;32m----> 1\u001b[0;31m \u001b[0mextract_blogposting_structured_data\u001b[0m\u001b[0;34m(\u001b[0m\u001b[0;34m\"https://www.moneysmart.id/ayah-nadiem-makarim\"\u001b[0m\u001b[0;34m,\u001b[0m \u001b[0mpage_cache\u001b[0m\u001b[0;34m)\u001b[0m\u001b[0;34m\u001b[0m\u001b[0m\n\u001b[0m",
      "\u001b[0;32m<ipython-input-126-0709f786542c>\u001b[0m in \u001b[0;36mextract_blogposting_structured_data\u001b[0;34m(url, page_cache)\u001b[0m\n\u001b[1;32m    165\u001b[0m \u001b[0;34m\u001b[0m\u001b[0m\n\u001b[1;32m    166\u001b[0m \u001b[0;32mdef\u001b[0m \u001b[0mextract_blogposting_structured_data\u001b[0m\u001b[0;34m(\u001b[0m\u001b[0murl\u001b[0m\u001b[0;34m,\u001b[0m \u001b[0mpage_cache\u001b[0m\u001b[0;34m)\u001b[0m\u001b[0;34m:\u001b[0m\u001b[0;34m\u001b[0m\u001b[0m\n\u001b[0;32m--> 167\u001b[0;31m     \u001b[0msd\u001b[0m \u001b[0;34m=\u001b[0m \u001b[0mextract_ld_json_structured_data\u001b[0m\u001b[0;34m(\u001b[0m\u001b[0murl\u001b[0m\u001b[0;34m,\u001b[0m \u001b[0mpage_cache\u001b[0m\u001b[0;34m,\u001b[0m \u001b[0;34m\"BlogPosting\"\u001b[0m\u001b[0;34m)\u001b[0m\u001b[0;34m\u001b[0m\u001b[0m\n\u001b[0m\u001b[1;32m    168\u001b[0m     \u001b[0;32mreturn\u001b[0m \u001b[0msd\u001b[0m\u001b[0;34m\u001b[0m\u001b[0m\n\u001b[1;32m    169\u001b[0m \u001b[0;34m\u001b[0m\u001b[0m\n",
      "\u001b[0;32m<ipython-input-126-0709f786542c>\u001b[0m in \u001b[0;36mextract_ld_json_structured_data\u001b[0;34m(url, page_cache, type_of_structured_data)\u001b[0m\n\u001b[1;32m    155\u001b[0m     \u001b[0mscript_tags\u001b[0m \u001b[0;34m=\u001b[0m \u001b[0msoup\u001b[0m\u001b[0;34m.\u001b[0m\u001b[0mfind_all\u001b[0m\u001b[0;34m(\u001b[0m\u001b[0;34m\"script\"\u001b[0m\u001b[0;34m)\u001b[0m\u001b[0;34m\u001b[0m\u001b[0m\n\u001b[1;32m    156\u001b[0m     \u001b[0msd_tags\u001b[0m \u001b[0;34m=\u001b[0m \u001b[0;34m[\u001b[0m\u001b[0mz\u001b[0m \u001b[0;32mfor\u001b[0m \u001b[0mz\u001b[0m \u001b[0;32min\u001b[0m \u001b[0mscript_tags\u001b[0m \u001b[0;32mif\u001b[0m \u001b[0;34m\"type\"\u001b[0m \u001b[0;32min\u001b[0m \u001b[0mz\u001b[0m\u001b[0;34m.\u001b[0m\u001b[0mattrs\u001b[0m \u001b[0;32mand\u001b[0m \u001b[0mz\u001b[0m\u001b[0;34m.\u001b[0m\u001b[0mattrs\u001b[0m\u001b[0;34m[\u001b[0m\u001b[0;34m\"type\"\u001b[0m\u001b[0;34m]\u001b[0m\u001b[0;34m==\u001b[0m\u001b[0;34m\"application/ld+json\"\u001b[0m\u001b[0;34m]\u001b[0m\u001b[0;34m\u001b[0m\u001b[0m\n\u001b[0;32m--> 157\u001b[0;31m     \u001b[0mjson_structured_datas\u001b[0m \u001b[0;34m=\u001b[0m \u001b[0;34m[\u001b[0m\u001b[0mjson\u001b[0m\u001b[0;34m.\u001b[0m\u001b[0mloads\u001b[0m\u001b[0;34m(\u001b[0m\u001b[0mz\u001b[0m\u001b[0;34m.\u001b[0m\u001b[0mcontents\u001b[0m\u001b[0;34m)\u001b[0m \u001b[0;32mfor\u001b[0m \u001b[0mz\u001b[0m \u001b[0;32min\u001b[0m \u001b[0msd_tags\u001b[0m\u001b[0;34m]\u001b[0m\u001b[0;34m\u001b[0m\u001b[0m\n\u001b[0m\u001b[1;32m    158\u001b[0m     \u001b[0mstructured_datas_of_type\u001b[0m \u001b[0;34m=\u001b[0m \u001b[0;34m[\u001b[0m\u001b[0mz\u001b[0m \u001b[0;32mfor\u001b[0m \u001b[0mz\u001b[0m \u001b[0;32min\u001b[0m \u001b[0mstructured_datas\u001b[0m \u001b[0;32mif\u001b[0m \u001b[0mz\u001b[0m\u001b[0;34m[\u001b[0m\u001b[0;34m\"@type\"\u001b[0m\u001b[0;34m]\u001b[0m\u001b[0;34m==\u001b[0m\u001b[0mtype_of_strucutred_data\u001b[0m\u001b[0;34m]\u001b[0m\u001b[0;34m\u001b[0m\u001b[0m\n\u001b[1;32m    159\u001b[0m     \u001b[0;32mif\u001b[0m \u001b[0mlen\u001b[0m\u001b[0;34m(\u001b[0m\u001b[0mstructured_datas_of_type\u001b[0m\u001b[0;34m)\u001b[0m \u001b[0;34m>\u001b[0m \u001b[0;36m1\u001b[0m\u001b[0;34m:\u001b[0m\u001b[0;34m\u001b[0m\u001b[0m\n",
      "\u001b[0;32m<ipython-input-126-0709f786542c>\u001b[0m in \u001b[0;36m<listcomp>\u001b[0;34m(.0)\u001b[0m\n\u001b[1;32m    155\u001b[0m     \u001b[0mscript_tags\u001b[0m \u001b[0;34m=\u001b[0m \u001b[0msoup\u001b[0m\u001b[0;34m.\u001b[0m\u001b[0mfind_all\u001b[0m\u001b[0;34m(\u001b[0m\u001b[0;34m\"script\"\u001b[0m\u001b[0;34m)\u001b[0m\u001b[0;34m\u001b[0m\u001b[0m\n\u001b[1;32m    156\u001b[0m     \u001b[0msd_tags\u001b[0m \u001b[0;34m=\u001b[0m \u001b[0;34m[\u001b[0m\u001b[0mz\u001b[0m \u001b[0;32mfor\u001b[0m \u001b[0mz\u001b[0m \u001b[0;32min\u001b[0m \u001b[0mscript_tags\u001b[0m \u001b[0;32mif\u001b[0m \u001b[0;34m\"type\"\u001b[0m \u001b[0;32min\u001b[0m \u001b[0mz\u001b[0m\u001b[0;34m.\u001b[0m\u001b[0mattrs\u001b[0m \u001b[0;32mand\u001b[0m \u001b[0mz\u001b[0m\u001b[0;34m.\u001b[0m\u001b[0mattrs\u001b[0m\u001b[0;34m[\u001b[0m\u001b[0;34m\"type\"\u001b[0m\u001b[0;34m]\u001b[0m\u001b[0;34m==\u001b[0m\u001b[0;34m\"application/ld+json\"\u001b[0m\u001b[0;34m]\u001b[0m\u001b[0;34m\u001b[0m\u001b[0m\n\u001b[0;32m--> 157\u001b[0;31m     \u001b[0mjson_structured_datas\u001b[0m \u001b[0;34m=\u001b[0m \u001b[0;34m[\u001b[0m\u001b[0mjson\u001b[0m\u001b[0;34m.\u001b[0m\u001b[0mloads\u001b[0m\u001b[0;34m(\u001b[0m\u001b[0mz\u001b[0m\u001b[0;34m.\u001b[0m\u001b[0mcontents\u001b[0m\u001b[0;34m)\u001b[0m \u001b[0;32mfor\u001b[0m \u001b[0mz\u001b[0m \u001b[0;32min\u001b[0m \u001b[0msd_tags\u001b[0m\u001b[0;34m]\u001b[0m\u001b[0;34m\u001b[0m\u001b[0m\n\u001b[0m\u001b[1;32m    158\u001b[0m     \u001b[0mstructured_datas_of_type\u001b[0m \u001b[0;34m=\u001b[0m \u001b[0;34m[\u001b[0m\u001b[0mz\u001b[0m \u001b[0;32mfor\u001b[0m \u001b[0mz\u001b[0m \u001b[0;32min\u001b[0m \u001b[0mstructured_datas\u001b[0m \u001b[0;32mif\u001b[0m \u001b[0mz\u001b[0m\u001b[0;34m[\u001b[0m\u001b[0;34m\"@type\"\u001b[0m\u001b[0;34m]\u001b[0m\u001b[0;34m==\u001b[0m\u001b[0mtype_of_strucutred_data\u001b[0m\u001b[0;34m]\u001b[0m\u001b[0;34m\u001b[0m\u001b[0m\n\u001b[1;32m    159\u001b[0m     \u001b[0;32mif\u001b[0m \u001b[0mlen\u001b[0m\u001b[0;34m(\u001b[0m\u001b[0mstructured_datas_of_type\u001b[0m\u001b[0;34m)\u001b[0m \u001b[0;34m>\u001b[0m \u001b[0;36m1\u001b[0m\u001b[0;34m:\u001b[0m\u001b[0;34m\u001b[0m\u001b[0m\n",
      "\u001b[0;32m~/anaconda3/envs/python3/lib/python3.6/json/__init__.py\u001b[0m in \u001b[0;36mloads\u001b[0;34m(s, encoding, cls, object_hook, parse_float, parse_int, parse_constant, object_pairs_hook, **kw)\u001b[0m\n\u001b[1;32m    346\u001b[0m         \u001b[0;32mif\u001b[0m \u001b[0;32mnot\u001b[0m \u001b[0misinstance\u001b[0m\u001b[0;34m(\u001b[0m\u001b[0ms\u001b[0m\u001b[0;34m,\u001b[0m \u001b[0;34m(\u001b[0m\u001b[0mbytes\u001b[0m\u001b[0;34m,\u001b[0m \u001b[0mbytearray\u001b[0m\u001b[0;34m)\u001b[0m\u001b[0;34m)\u001b[0m\u001b[0;34m:\u001b[0m\u001b[0;34m\u001b[0m\u001b[0m\n\u001b[1;32m    347\u001b[0m             raise TypeError('the JSON object must be str, bytes or bytearray, '\n\u001b[0;32m--> 348\u001b[0;31m                             'not {!r}'.format(s.__class__.__name__))\n\u001b[0m\u001b[1;32m    349\u001b[0m         \u001b[0ms\u001b[0m \u001b[0;34m=\u001b[0m \u001b[0ms\u001b[0m\u001b[0;34m.\u001b[0m\u001b[0mdecode\u001b[0m\u001b[0;34m(\u001b[0m\u001b[0mdetect_encoding\u001b[0m\u001b[0;34m(\u001b[0m\u001b[0ms\u001b[0m\u001b[0;34m)\u001b[0m\u001b[0;34m,\u001b[0m \u001b[0;34m'surrogatepass'\u001b[0m\u001b[0;34m)\u001b[0m\u001b[0;34m\u001b[0m\u001b[0m\n\u001b[1;32m    350\u001b[0m \u001b[0;34m\u001b[0m\u001b[0m\n",
      "\u001b[0;31mTypeError\u001b[0m: the JSON object must be str, bytes or bytearray, not 'list'"
     ]
    }
   ],
   "source": [
    "extract_blogposting_structured_data(\"https://www.moneysmart.id/ayah-nadiem-makarim\", page_cache)"
   ]
  },
  {
   "cell_type": "markdown",
   "metadata": {},
   "source": [
    "# Tests"
   ]
  },
  {
   "cell_type": "markdown",
   "metadata": {},
   "source": [
    "## Check the Homepage still loads!"
   ]
  },
  {
   "cell_type": "code",
   "execution_count": null,
   "metadata": {},
   "outputs": [],
   "source": [
    "homepage_url = production_staging_urls[country_to_test][(1 if test_staging else 0)]\n",
    "html = page_cache.get_html(homepage_url)\n",
    "if len(html)<1000:\n",
    "    raise Exception()"
   ]
  },
  {
   "cell_type": "markdown",
   "metadata": {},
   "source": [
    "## Check the AB split percentage (approximately)"
   ]
  },
  {
   "cell_type": "code",
   "execution_count": 111,
   "metadata": {},
   "outputs": [
    {
     "name": "stdout",
     "output_type": "stream",
     "text": [
      "Testing 200 requests outside of SEO test to see AB split with url https://www.moneysmart.id/5-pertanyaan-mesti-dijawab-memutuskan-berhenti-kuliah/\n"
     ]
    },
    {
     "ename": "TypeError",
     "evalue": "get_html() got an unexpected keyword argument 'refresh_cache'",
     "output_type": "error",
     "traceback": [
      "\u001b[0;31m---------------------------------------------------------------------------\u001b[0m",
      "\u001b[0;31mTypeError\u001b[0m                                 Traceback (most recent call last)",
      "\u001b[0;32m<ipython-input-111-cb1cf4166f13>\u001b[0m in \u001b[0;36m<module>\u001b[0;34m()\u001b[0m\n\u001b[1;32m      5\u001b[0m \u001b[0mprint\u001b[0m\u001b[0;34m(\u001b[0m\u001b[0;34m\"Testing %i requests outside of SEO test to see AB split with url %s\"\u001b[0m \u001b[0;34m%\u001b[0m \u001b[0;34m(\u001b[0m\u001b[0mrequests_to_check_ab_split\u001b[0m\u001b[0;34m,\u001b[0m \u001b[0mtest_url\u001b[0m\u001b[0;34m)\u001b[0m\u001b[0;34m)\u001b[0m\u001b[0;34m\u001b[0m\u001b[0m\n\u001b[1;32m      6\u001b[0m \u001b[0;32mfor\u001b[0m \u001b[0mi\u001b[0m \u001b[0;32min\u001b[0m \u001b[0mrange\u001b[0m\u001b[0;34m(\u001b[0m\u001b[0mrequests_to_check_ab_split\u001b[0m\u001b[0;34m)\u001b[0m\u001b[0;34m:\u001b[0m\u001b[0;34m\u001b[0m\u001b[0m\n\u001b[0;32m----> 7\u001b[0;31m     \u001b[0mhtml\u001b[0m\u001b[0;34m=\u001b[0m\u001b[0mpage_cache\u001b[0m\u001b[0;34m.\u001b[0m\u001b[0mget_html\u001b[0m\u001b[0;34m(\u001b[0m\u001b[0mtest_url\u001b[0m\u001b[0;34m,\u001b[0m \u001b[0mrefresh_cache\u001b[0m \u001b[0;34m=\u001b[0m \u001b[0;32mTrue\u001b[0m\u001b[0;34m)\u001b[0m\u001b[0;34m\u001b[0m\u001b[0m\n\u001b[0m\u001b[1;32m      8\u001b[0m     \u001b[0mis_v2\u001b[0m \u001b[0;34m=\u001b[0m \u001b[0mis_v2_page\u001b[0m\u001b[0;34m(\u001b[0m\u001b[0mtest_url\u001b[0m\u001b[0;34m,\u001b[0m \u001b[0mpage_cache\u001b[0m\u001b[0;34m)\u001b[0m\u001b[0;34m\u001b[0m\u001b[0m\n\u001b[1;32m      9\u001b[0m     \u001b[0mhit_v2s\u001b[0m\u001b[0;34m.\u001b[0m\u001b[0mappend\u001b[0m\u001b[0;34m(\u001b[0m\u001b[0mis_v2\u001b[0m\u001b[0;34m)\u001b[0m\u001b[0;34m\u001b[0m\u001b[0m\n",
      "\u001b[0;31mTypeError\u001b[0m: get_html() got an unexpected keyword argument 'refresh_cache'"
     ]
    }
   ],
   "source": [
    "# get url in the right format for the environment\n",
    "requests_to_check_ab_split = 200\n",
    "test_url = non_seo_test_urls[randint(0, len(non_seo_test_urls))]\n",
    "hit_v2s = []\n",
    "print(\"Testing %i requests outside of SEO test to see AB split with url %s\" % (requests_to_check_ab_split, test_url))\n",
    "for i in range(requests_to_check_ab_split):\n",
    "    html=page_cache.get_html(test_url, refresh_cache = True)\n",
    "    is_v2 = is_v2_page(test_url, page_cache)\n",
    "    hit_v2s.append(is_v2)\n",
    "    \n",
    "num_v1s = len([z for z in hit_v2s if z==False])\n",
    "num_v2s = len([z for z in hit_v2s if z==True])\n",
    "percentage_v2 = 100 * float(num_v2s)/ (num_v1s + num_v2s)\n",
    "\n",
    "labels = [\"v1\", \"v2 - %.1f\" % percentage_v2]\n",
    "sizes = [num_v1s, num_v2s]\n",
    "    \n",
    "plt.pie(sizes, labels)\n",
    "plt.show()"
   ]
  },
  {
   "cell_type": "markdown",
   "metadata": {},
   "source": [
    "## Check Test Articles are v2"
   ]
  },
  {
   "cell_type": "code",
   "execution_count": 138,
   "metadata": {},
   "outputs": [
    {
     "name": "stdout",
     "output_type": "stream",
     "text": [
      "https://www.moneysmart.id/klikbca-gini-lho-cara-cepat-daftar-internet-banking-bca/ True\n",
      "https://www.moneysmart.id/klikbca-individual-ini-cara-daftar/ True\n",
      "https://www.moneysmart.id/daftar-kode-bank-indonesia-terlengkap-lebih-dari-100-bank/ True\n",
      "https://www.moneysmart.id/unipin-voucher-game-online/ True\n",
      "https://www.moneysmart.id/djp-online-cara-cepat-bayar-pajak-lapor-spt/ True\n",
      "https://www.moneysmart.id/harga-emas-hari-ini/ True\n",
      "https://www.moneysmart.id/cara-ambil-antrian-online-bpjs-ketenagakerjaan/ True\n",
      "https://www.moneysmart.id/vpn-tarumanagara-cara-log-in-klikbca-bisnis-tanpa-aplikasi/ True\n",
      "https://www.moneysmart.id/daftar-internet-banking-bni-gak-ribet-kok-gini-cara-cepatnya/ True\n",
      "https://www.moneysmart.id/cara-membuat-npwp-online/ True\n",
      "https://www.moneysmart.id/daftar-cimb-clicks-gampang-kok/ True\n",
      "https://www.moneysmart.id/nomor-call-center-bca-yang-bisa-dihubungi/ True\n",
      "https://www.moneysmart.id/surat-lamaran-kerja-dan-cara-serta-contohnya/ True\n",
      "https://www.moneysmart.id/bca-mobile-gini-lho-cara-aktifkan-mobile-banking-bca/ True\n",
      "https://www.moneysmart.id/hindari-gagal-transaksi-segini-limit-transfer-atm-bca-mandiri-bri-hingga-bni/ True\n",
      "https://www.moneysmart.id/6-fakta-menarik-nissa-sabyan-si-cantik-yang-jago-berselawat/ True\n",
      "https://www.moneysmart.id/ini-caranya-cek-pajak-kendaraan-bermotor-di-samsat-online/ True\n",
      "https://www.moneysmart.id/gak-punya-slip-gaji-ajukan-pinjaman-di-6-tempat-ini/ True\n",
      "https://www.moneysmart.id/harga-beberapa-ayam-aduan-ini-mahal-abis-dan-bikin-melongo/ True\n",
      "https://www.moneysmart.id/cara-daftar-bpjs-mandiri-online-dan-offline-gampang-banget/ True\n",
      "https://www.moneysmart.id/cincin-tunangan-emas-murah/ True\n",
      "https://www.moneysmart.id/kjp-plus-ini-cara-daftar-dan-cairkannya/ True\n",
      "https://www.moneysmart.id/daftar-biaya-pasang-listrik-baru-di-2018-yuk-siapin/ True\n",
      "https://www.moneysmart.id/soal-psikotes-dan-tips-mengerjakannya/ True\n",
      "https://www.moneysmart.id/uang-kuno-indonesia-kalau-dijual-buat-beli-mobil-lho/ True\n",
      "https://www.moneysmart.id/kartu-atm-bri/ True\n",
      "https://www.moneysmart.id/jenis-pinjaman-pegadaian-syarat-lengkap/ True\n",
      "https://www.moneysmart.id/besaran-biaya-transfer-antar-bank-terbaru/ True\n",
      "https://www.moneysmart.id/aplikasi-dana-pinjaman-online-yang-terdaftar-ojk/ True\n",
      "https://www.moneysmart.id/cara-daftar-paspor-online/ True\n",
      "https://www.moneysmart.id/5-resep-jajanan-anak-murah-meriah-bujet-15-ribu/ True\n",
      "https://www.moneysmart.id/segini-saldo-minimal-bni-bca-mandiri-bri-dan-bank-lain/ True\n",
      "https://www.moneysmart.id/6-tempat-gym-murah-di-jakarta-buat-yang-bujetnya-rp-350-ribu/ True\n",
      "https://www.moneysmart.id/harga-honda-crf-150l-318-juta-gaji-ump-bisa-kredit/ True\n",
      "https://www.moneysmart.id/mau-balik-nama-motor-biaya-harus-kamu-keluarkan/ True\n",
      "https://www.moneysmart.id/4-pilihan-tabungan-bank-syariah-mandiri-gak-pakai-riba/ True\n",
      "https://www.moneysmart.id/jangan-nunggak-iuran-bpjs-kesehatan-kalau-ogah-rugi-kayak-gini/ True\n",
      "https://www.moneysmart.id/kamu-bisa-hubungi-bni-call-nomor-call-center-bni-saat-kartu-kartumu-hilang/ True\n",
      "https://www.moneysmart.id/9-mata-uang-ini-tukerin-ke-rupiah-dijamin-untung-gede/ True\n",
      "https://www.moneysmart.id/cek-denda-tilang-yang-resmi/ True\n",
      "https://www.moneysmart.id/buat-kamu-yang-ingin-mendaftar-bni-mobile-banking-begini-caranya/ True\n",
      "https://www.moneysmart.id/pinjaman-online-langsung-cair-tanpa-jaminan-8-pilihannya/ True\n",
      "https://www.moneysmart.id/cara-cek-tagihan-bpjs-kesehatan-paling-mudah-dan-cepat/ True\n",
      "https://www.moneysmart.id/mandiri-call-nomor-call-center-mandiri-saat-kepepet/ True\n",
      "https://www.moneysmart.id/rincian-lengkap-biaya-tambah-daya-listrik-beserta-panduannya/ True\n",
      "https://www.moneysmart.id/biaya-administrasi-bulanan-di-8-bank-di-indonesia/ True\n",
      "https://www.moneysmart.id/gaji-polisi/ True\n",
      "https://www.moneysmart.id/rawat-inap-pakai-bpjs-kesehatan-ini-fasilitas-sesuai-kelasnya/ True\n",
      "https://www.moneysmart.id/besaran-denda-telat-bayar-pajak-motor/ True\n",
      "https://www.moneysmart.id/cara-gadai-bpkb-kendaraan-di-pegadaian/ True\n"
     ]
    }
   ],
   "source": [
    "for url in seo_test_urls:\n",
    "    print(url, is_v2_page(url,page_cache))"
   ]
  },
  {
   "cell_type": "code",
   "execution_count": 141,
   "metadata": {},
   "outputs": [
    {
     "data": {
      "text/plain": [
       "11152"
      ]
     },
     "execution_count": 141,
     "metadata": {},
     "output_type": "execute_result"
    }
   ],
   "source": [
    "len(non_seo_test_urls)"
   ]
  },
  {
   "cell_type": "code",
   "execution_count": 140,
   "metadata": {},
   "outputs": [
    {
     "name": "stdout",
     "output_type": "stream",
     "text": [
      "https://www.moneysmart.id/7-situs-survey-online-indonesia-bayar-kamu-pakai-dolar/ False\n",
      "https://www.moneysmart.id/pengin-liburan-murah-meriah-yuk-manfaatkan-travel-fair/ False\n",
      "https://www.moneysmart.id/lomba-blog-moneysmart-2018-cerdasdenganuangmu/ False\n",
      "https://www.moneysmart.id/ingin-tembus-panggung-new-york-fashion-week-simak-kisah-inspiratif-3-desainer-ini/ False\n",
      "https://www.moneysmart.id/begini-panduan-cara-memilih-kerja-di-perusahaan-besar-atau-kecil/ False\n",
      "https://www.moneysmart.id/jam-tangan-chopard-maia-estianty-dan-fakta-menariknya/ False\n",
      "https://www.moneysmart.id/mobil-ustadz-arifin-ilham/ False\n",
      "https://www.moneysmart.id/ubah-gaya-belanja-jadi-begini-di-2017-biar-nabung-gak-cuma-wacana/ False\n",
      "https://www.moneysmart.id/tarif-cukai-naik-ini-prediksiannya/ False\n",
      "https://www.moneysmart.id/ternyata-restoran-artis-pantes-8-tempat-makan-ini-hits-banget/ False\n",
      "https://www.moneysmart.id/wahai-para-suami-bedakan-ya-antara-uang-nafkah-dan-uang-belanja/ False\n",
      "https://www.moneysmart.id/selain-angel-lelga-4-seleb-mahar-pernikahannya-murah/ False\n",
      "https://www.moneysmart.id/injak-bali-turis-asing-dikenakan-biaya-masuk-lho/ False\n",
      "https://www.moneysmart.id/tcash-telkomsel-berubah-jadi-linkaja-begini-fakta-faktanya/ False\n",
      "https://www.moneysmart.id/mengenal-kapal-selam-indonesia-alugoro-405/ True\n",
      "https://www.moneysmart.id/4-ruas-tol-trans-jawa-baru-digratiskan-jokowi/ False\n",
      "https://www.moneysmart.id/moms-belanja-4-kartu-kredit-dapat-bonus-sembako-lho/ False\n",
      "https://www.moneysmart.id/nih-6-soft-skill-wajib-dimiliki-seorang-bos-kamu-sudah-punya-belum/ False\n",
      "https://www.moneysmart.id/perjalanan-bisnis-yusuf-mansur-dari-ulama-jadi-bos-investasi/ False\n",
      "https://www.moneysmart.id/kta-danamon-5-alasan-kenapa-pilih-danamon-instant-dibandingkan-lain/ False\n",
      "https://www.moneysmart.id/body-mist-keluaran-titi-kamal-dijual-hanya-rp-127-ribu/ False\n",
      "https://www.moneysmart.id/5-persoalan-penulis-buku/ False\n",
      "https://www.moneysmart.id/4-hal-soal-keuangan-rumah-tangga-perlu-dibicarakan-menikah/ False\n",
      "https://www.moneysmart.id/8-usaha-bangkrut-milik-artis-ini-buktikan-popularitas-bukan-jaminan/ False\n",
      "https://www.moneysmart.id/hidup-sederhana-4-pejabat-indonesia-ini-jadi-teladan/ False\n",
      "https://www.moneysmart.id/wisata-selfie-di-bandung/ False\n",
      "https://www.moneysmart.id/sri-mulyani-kembali-didapuk-jadi-menteri-keuangan-berapa-gajinya/ False\n",
      "https://www.moneysmart.id/yuk-kenalan-lebih-dalam-yang-namanya-kredit-tanpa-agunan-syariah/ False\n",
      "https://www.moneysmart.id/mau-menjadi-orang-sukses-miliki-dulu-8-karakter/ False\n",
      "https://www.moneysmart.id/cara-mengelola-uang-untuk-investasi-buat-yang-punya-gaji-atau-sekedar-penghasilan-sampingan/ False\n",
      "https://www.moneysmart.id/gaya-liburan-nikita-willy-dan-pacar/ False\n",
      "https://www.moneysmart.id/7-kebiasaan-boros-harus-dibuang-kalau-mau-dompet-aman/ False\n",
      "https://www.moneysmart.id/perhatikan-nih-10-etika-menggunakan-sosmed-agar-bisnismu-moncer-dan-gak-bikin-ilang-feeling/ False\n",
      "https://www.moneysmart.id/mengembangkan-bisnis-dengan-kredit-modal-kerja/ False\n",
      "https://www.moneysmart.id/berburu-barang-barang-prj-2017-mumpung-diskon/ False\n",
      "https://www.moneysmart.id/sebelum-belanja-di-bazar-simak-6-tips-ini-dulu-biar-kantong-gak-kebobolan/ False\n",
      "https://www.moneysmart.id/apa-saja-tahapan-pekerjaan-pembangunan-rumah-yang-harus-diperhitungkan/ True\n",
      "https://www.moneysmart.id/7-prinsip-tri-rismaharini-pemimpin-wanita-yang-dicintai-warganya/ False\n",
      "https://www.moneysmart.id/6-perlengkapan-bayi-baru-lahir-100-ribu-harus-dibeli/ False\n",
      "https://www.moneysmart.id/berminat-jadi-sekjen-kpk-ini-prosedurnya/ False\n",
      "https://www.moneysmart.id/pemimpin-negara-pemilik-lahan-terbesar/ False\n",
      "https://www.moneysmart.id/jual-beli-mobil-bekas-di-showroom-resmi/ False\n",
      "https://www.moneysmart.id/travelling-gratis-jika-bekerja-di-bidang-ini/ False\n",
      "https://www.moneysmart.id/investasi-reksa-dana-di-bank-manajer-investasi-bisa-kok/ True\n",
      "https://www.moneysmart.id/ternak-lovebird-yang-modalnya-rp-5-juta/ False\n",
      "https://www.moneysmart.id/fakta-tentang-hm-fitno/ True\n",
      "https://www.moneysmart.id/modal-profil-linkedin-dapat-kerja/ False\n",
      "https://www.moneysmart.id/kim-kardashian-dulu-asisten-kini-hartanya-capai-us-350-juta/ False\n",
      "https://www.moneysmart.id/hotel-bintang-7-termewah-dan-termahal-dunia/ False\n",
      "https://www.moneysmart.id/punya-karir-tidak-berkembang-jangan-buru-buru-resign-refleksi-diri-dengan-cara-ini/ False\n",
      "https://www.moneysmart.id/jadwal-pesawat-mundur-alias-delay-ini-6-hak-kamu/ False\n",
      "https://www.moneysmart.id/ratusan-pengemudi-grab-migrasi-ke-go-jek/ False\n",
      "https://www.moneysmart.id/suzuki-jimny-di-iims-2019/ False\n",
      "https://www.moneysmart.id/cara-diet-saat-puasa-yang-baik/ False\n",
      "https://www.moneysmart.id/siapa-mau-pohon-duit-lewat-investasi-reksa-dana-pendapatan-tetap/ False\n",
      "https://www.moneysmart.id/mandiri-secara-finansial-sedari-muda-bukan-gak-mungkin-usaha-dulu-dong/ False\n",
      "https://www.moneysmart.id/crazy-rich-indonesian-ini-menukarkan-dolar-milik-mereka-ke-rupiah-siapa-aja/ False\n",
      "https://www.moneysmart.id/menantu-bos-gudang-garam/ False\n",
      "https://www.moneysmart.id/orang-terkaya-cina-yang-misterius/ False\n",
      "https://www.moneysmart.id/mau-beli-tas-baru-nih-10-tas-termahal-dunia-nomor-5-bikin-geleng-geleng-kepala-lho/ False\n",
      "https://www.moneysmart.id/biar-masa-depan-cemerlang-kenali-5-investasi-pas-buat-mahasiswa-dan-pemula/ False\n",
      "https://www.moneysmart.id/siapa-bilang-milenial-gak-demen-investasi-gini-cara-ampuh-ajak-mereka/ False\n",
      "https://www.moneysmart.id/5-ide-renovasi-dapur-murah-dengan-bujet-di-bawah-rp-10-juta/ False\n",
      "https://www.moneysmart.id/kiat-kiat-bagi-karyawan-muda/ False\n",
      "https://www.moneysmart.id/beli-rumah-baiknya-sesudah-nikah-ya/ False\n",
      "https://www.moneysmart.id/kira-kira-produk-investasi-untuk-pekerja-freelance-tuh-apa-sih-yang-cocok-nih-6-investasi-tepat/ False\n",
      "https://www.moneysmart.id/cara-memaksimalkan-keuangan-itulah-duitpintar-com-sebenar-benarnya/ False\n",
      "https://www.moneysmart.id/1001-cara-cari-pendapatan-dari-internet/ False\n",
      "https://www.moneysmart.id/10-alasan-penolakan-klaim-asuransi-sepeda-motor-yang-disebabkan-oleh-kita-sendiri/ True\n",
      "https://www.moneysmart.id/orang-terkenal-pilih-toyota-vellfire/ False\n",
      "https://www.moneysmart.id/bandara-changi-mewahnya-luar-biasa-dan-bikin-betah/ False\n",
      "https://www.moneysmart.id/segini-biaya-umroh-2019-yang-harus-kamu-persiapkan/ False\n",
      "https://www.moneysmart.id/dapat-duit-saat-ngabuburit-kenapa-gak-coba-5-ide-ini/ False\n",
      "https://www.moneysmart.id/43-promo-kartu-kredit-cimb-niaga-buat-yang-hobi-kuliner-2018/ False\n",
      "https://www.moneysmart.id/cek-5-poin-ini-sebelum-terburu-nafsu-mengorbankan-karier-demi-traveling-sepuas-hati/ False\n",
      "https://www.moneysmart.id/garuda-indonesia-dan-lion-air-kandangkan-boeing-737-max-8/ False\n",
      "https://www.moneysmart.id/sumber-kekayaan-maudy-ayunda/ False\n",
      "https://www.moneysmart.id/pariwisata-salah-satu-motor-penyumbang-devisa-indonesia/ False\n",
      "https://www.moneysmart.id/awas-5-penyebab-bikin-kondisi-keuangan-berantakan/ False\n",
      "https://www.moneysmart.id/6-keuntungan-pengajuan-kredit-multiguna-dengan-jaminan-surat-kendaraan/ False\n",
      "https://www.moneysmart.id/6-destinasi-wisata-indonesia-rasa-eropa/ False\n",
      "https://www.moneysmart.id/lpdp-santri-beasiswa-khusus-lulusan-pesantren/ True\n",
      "https://www.moneysmart.id/serupa-tapi-tak-sama-ini-bedanya-pasar-modal-syariah-dan-konvensional/ False\n",
      "https://www.moneysmart.id/info-franchise-and-business-concept-expo-siap-digelar/ False\n",
      "https://www.moneysmart.id/rumah-nenek-raffi-ahmad/ True\n",
      "https://www.moneysmart.id/gaya-hidup-yang-ubah-nasibmu-jadi-banyak-uang-dan-sukses/ False\n",
      "https://www.moneysmart.id/wah-kriteria-memilih-suami-bukan-lagi-pada-keuangan-mapan-dan-wajah-tampan/ False\n",
      "https://www.moneysmart.id/3-saham-peternakan-ayam-menguntungkan-jelang-ramadan/ False\n",
      "https://www.moneysmart.id/lihat-manisnya-bisnis-rental-mobil-ala-si-cermat/ False\n",
      "https://www.moneysmart.id/gak-pernah-olahraga-jangan-harap-keuangan-terjaga/ False\n",
      "https://www.moneysmart.id/ini-keuntungan-membayar-cicilan-sepeda-motor-tepat-waktu/ False\n",
      "https://www.moneysmart.id/nyari-modal-usaha-gak-susah-kok/ True\n",
      "https://www.moneysmart.id/ternyata-beli-barang-harga-murah-gak-selalu-menguntungkan-kok/ False\n",
      "https://www.moneysmart.id/2-kontrak-kerja-datang-bersamaan-begini-cara-memilih-yang-tepat/ True\n",
      "https://www.moneysmart.id/mulai-usaha-pakai-utang-cek-untung-ruginya/ False\n",
      "https://www.moneysmart.id/kekayaan-kabareskrim-polri-idham-azis/ True\n",
      "https://www.moneysmart.id/pisau-termahal-di-dunia/ False\n",
      "https://www.moneysmart.id/mengintip-kemewahan-nissan-serena-mpv-murah-meriah-yang-gak-murahan/ False\n",
      "https://www.moneysmart.id/3-cara-berbisnis-barang-mewah-ala-pengusaha-indonesia/ True\n",
      "https://www.moneysmart.id/ini-nih-5-kebiasaan-yang-bisa-bikin-kamu-cepat-kaya/ False\n"
     ]
    }
   ],
   "source": [
    "for url in non_seo_test_urls[:100]:\n",
    "    print(url, is_v2_page(url,page_cache))"
   ]
  },
  {
   "cell_type": "markdown",
   "metadata": {},
   "source": [
    "## Check Test Articles have v2 AMP"
   ]
  },
  {
   "cell_type": "markdown",
   "metadata": {},
   "source": [
    "## Check Cloudflare is (to some extent) Working"
   ]
  },
  {
   "cell_type": "code",
   "execution_count": null,
   "metadata": {},
   "outputs": [],
   "source": []
  }
 ],
 "metadata": {
  "kernelspec": {
   "display_name": "conda_python3",
   "language": "python",
   "name": "conda_python3"
  },
  "language_info": {
   "codemirror_mode": {
    "name": "ipython",
    "version": 3
   },
   "file_extension": ".py",
   "mimetype": "text/x-python",
   "name": "python",
   "nbconvert_exporter": "python",
   "pygments_lexer": "ipython3",
   "version": "3.6.5"
  }
 },
 "nbformat": 4,
 "nbformat_minor": 4
}
