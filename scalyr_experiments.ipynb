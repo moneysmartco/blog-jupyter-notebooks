{
 "cells": [
  {
   "cell_type": "markdown",
   "metadata": {},
   "source": [
    "# Experiments Querying from Scalyr\n",
    "\n",
    "AToW this is just copy / paset from first_experiments.  Not sure if ever got it working properly."
   ]
  },
  {
   "cell_type": "markdown",
   "metadata": {},
   "source": [
    "### Scalyr Setup\n",
    "\n",
    "Functions to use later.  See https://www.scalyr.com/help/api#query"
   ]
  },
  {
   "cell_type": "code",
   "execution_count": null,
   "metadata": {},
   "outputs": [],
   "source": [
    "def query_scalyr():\n",
    "    api_key = creds.scalyr_api_key\n",
    "    query_url = https://www.scalyr.com/api/query\n",
    "    log_file_query_id_prod_pwa = \"log=*fe-pwa-id-production*\"\n",
    "    log_file_query_id_pod_wordpress = \n",
    "    ok_statuses = list(range(200,210))+ list(range(300, 310))\n",
    "    meh_statuses = [404,]\n",
    "    bad_statuses = list(range(500, 510))\n",
    "    print(\"Bad statuses\", bad_statuses)\n",
    "    \n",
    "\"\"\"\n",
    "{\n",
    "  \"token\":             \"xxx\",\n",
    "  \"queryType\":         \"log\",\n",
    "  \"filter\":            \"...\",\n",
    "  \"startTime\":         \"...\",\n",
    "  \"endTime\":           \"...\",\n",
    "  \"maxCount\":          nnn,\n",
    "  \"pageMode\":          \"...\",\n",
    "  \"columns\":           \"...\",\n",
    "  \"continuationToken\": \"...\",\n",
    "  \"priority\":          \"...\"\n",
    "}\n",
    "\"\"\"\n",
    "\n",
    "\"\"\"\n",
    "{\n",
    "  \"status\": \"success\",\n",
    "  \"matches\": [\n",
    "    {\n",
    "      \"timestamp\": \"1393009097459537089\",\n",
    "      \"message\": \"hello, world\",\n",
    "      \"severity\": 3,\n",
    "      \"session\": \"sess_d5952fdd-eed2-45f1-8106-b2f2af55dabd\",\n",
    "      \"thread\": \"28\",\n",
    "      \"fields\": {\n",
    "        \"tag\": \"foo\"\n",
    "      }\n",
    "    }\n",
    "  ],\n",
    "  \"sessions\": {\n",
    "    \"sess_d5952fdd-eed2-45f1-8106-b2f2af55dabd\": {\n",
    "      \"serverHost\": \"some.host.name\",\n",
    "      \"serverIP\": \"1.2.3.4\",\n",
    "      \"session\": \"sess_d5952fdd-eed2-45f1-8106-b2f2af55dabd\"\n",
    "    }\n",
    "  },\n",
    "  \"executionTime\": 12,\n",
    "  \"continuationToken\": \"L6_ckjI4BgATVPZkxGaUwQ--\"\n",
    "}\n",
    "\n",
    "\"\"\"\n"
   ]
  }
 ],
 "metadata": {
  "kernelspec": {
   "display_name": "conda_python3",
   "language": "python",
   "name": "conda_python3"
  },
  "language_info": {
   "codemirror_mode": {
    "name": "ipython",
    "version": 3
   },
   "file_extension": ".py",
   "mimetype": "text/x-python",
   "name": "python",
   "nbconvert_exporter": "python",
   "pygments_lexer": "ipython3",
   "version": "3.6.5"
  }
 },
 "nbformat": 4,
 "nbformat_minor": 4
}
