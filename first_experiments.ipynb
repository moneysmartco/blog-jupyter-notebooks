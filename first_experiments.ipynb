{
 "cells": [
  {
   "cell_type": "code",
   "execution_count": 131,
   "metadata": {},
   "outputs": [],
   "source": [
    "import sys\n",
    "try:\n",
    "    from pyathena import connect\n",
    "except:\n",
    "    print(\"Failed to import pyathena, trying to install it\")\n",
    "    !{sys.executable} -m pip install PyAthena\n",
    "    from pyathena import connect\n",
    "    print(\"successfully installed\")\n",
    "try:\n",
    "    import psycopg2\n",
    "except:\n",
    "    print(\"Failed ot import psychopg2, trying to install it\")\n",
    "    !{sys.executable} -m pip install psycopg2-binary\n",
    "    import psycopg2\n",
    "    print(\"Successfully installed\")\n",
    "import pandas as pd\n",
    "import boto3\n",
    "import boto3\n",
    "import base64\n",
    "from botocore.exceptions import ClientError\n",
    "from datetime  import datetime, timedelta, date\n",
    "import time"
   ]
  },
  {
   "cell_type": "code",
   "execution_count": 132,
   "metadata": {},
   "outputs": [],
   "source": [
    "import creds"
   ]
  },
  {
   "cell_type": "code",
   "execution_count": 1,
   "metadata": {},
   "outputs": [],
   "source": [
    "# if using jupyterlab and plotly doesn't work https://plot.ly/python/getting-started/#jupyterlab-support-python-35\n",
    "install_jupyterlab_plotly_extensions_command = \"\"\"\n",
    "# Avoid \"JavaScript heap out of memory\" errors during extension installation\n",
    "# (OS X/Linux)\n",
    "export NODE_OPTIONS=--max-old-space-size=4096\n",
    "# (Windows)\n",
    "set NODE_OPTIONS=--max-old-space-size=4096\n",
    "\n",
    "# Jupyter widgets extension\n",
    "jupyter labextension install @jupyter-widgets/jupyterlab-manager@1.0 --no-build\n",
    "\n",
    "# jupyterlab renderer support\n",
    "jupyter labextension install jupyterlab-plotly@1.1.0 --no-build\n",
    "\n",
    "# FigureWidget support\n",
    "jupyter labextension install plotlywidget@1.1.0 --no-build\n",
    "\n",
    "# JupyterLab chart editor support (optional)\n",
    "jupyter labextension install jupyterlab-chart-editor@1.2 --no-build\n",
    "\n",
    "# Build extensions (must be done to activate extensions since --no-build is used above)\n",
    "jupyter lab build\n",
    "\n",
    "# Unset NODE_OPTIONS environment variable\n",
    "# (OS X/Linux)\n",
    "unset NODE_OPTIONS\"\"\"\n",
    "\n",
    "\n",
    "\n",
    "    "
   ]
  },
  {
   "cell_type": "code",
   "execution_count": 7,
   "metadata": {},
   "outputs": [],
   "source": [
    "import plotly.graph_objects as go\n",
    "import plotly as py\n",
    "\n",
    "import plotly.offline as off\n",
    "import plotly.graph_objs as go\n",
    "import numpy as np\n",
    "from plotly.subplots import make_subplots\n",
    "\n",
    "#off.init_notebook_mode(connected=True)"
   ]
  },
  {
   "cell_type": "code",
   "execution_count": 8,
   "metadata": {},
   "outputs": [
    {
     "data": {
      "application/vnd.plotly.v1+json": {
       "config": {
        "plotlyServerURL": "https://plot.ly"
       },
       "data": [
        {
         "labels": [
          "a",
          "b",
          "c"
         ],
         "type": "pie",
         "values": [
          1,
          2,
          3
         ]
        }
       ],
       "layout": {
        "template": {
         "data": {
          "bar": [
           {
            "error_x": {
             "color": "#2a3f5f"
            },
            "error_y": {
             "color": "#2a3f5f"
            },
            "marker": {
             "line": {
              "color": "#E5ECF6",
              "width": 0.5
             }
            },
            "type": "bar"
           }
          ],
          "barpolar": [
           {
            "marker": {
             "line": {
              "color": "#E5ECF6",
              "width": 0.5
             }
            },
            "type": "barpolar"
           }
          ],
          "carpet": [
           {
            "aaxis": {
             "endlinecolor": "#2a3f5f",
             "gridcolor": "white",
             "linecolor": "white",
             "minorgridcolor": "white",
             "startlinecolor": "#2a3f5f"
            },
            "baxis": {
             "endlinecolor": "#2a3f5f",
             "gridcolor": "white",
             "linecolor": "white",
             "minorgridcolor": "white",
             "startlinecolor": "#2a3f5f"
            },
            "type": "carpet"
           }
          ],
          "choropleth": [
           {
            "colorbar": {
             "outlinewidth": 0,
             "ticks": ""
            },
            "type": "choropleth"
           }
          ],
          "contour": [
           {
            "colorbar": {
             "outlinewidth": 0,
             "ticks": ""
            },
            "colorscale": [
             [
              0,
              "#0d0887"
             ],
             [
              0.1111111111111111,
              "#46039f"
             ],
             [
              0.2222222222222222,
              "#7201a8"
             ],
             [
              0.3333333333333333,
              "#9c179e"
             ],
             [
              0.4444444444444444,
              "#bd3786"
             ],
             [
              0.5555555555555556,
              "#d8576b"
             ],
             [
              0.6666666666666666,
              "#ed7953"
             ],
             [
              0.7777777777777778,
              "#fb9f3a"
             ],
             [
              0.8888888888888888,
              "#fdca26"
             ],
             [
              1,
              "#f0f921"
             ]
            ],
            "type": "contour"
           }
          ],
          "contourcarpet": [
           {
            "colorbar": {
             "outlinewidth": 0,
             "ticks": ""
            },
            "type": "contourcarpet"
           }
          ],
          "heatmap": [
           {
            "colorbar": {
             "outlinewidth": 0,
             "ticks": ""
            },
            "colorscale": [
             [
              0,
              "#0d0887"
             ],
             [
              0.1111111111111111,
              "#46039f"
             ],
             [
              0.2222222222222222,
              "#7201a8"
             ],
             [
              0.3333333333333333,
              "#9c179e"
             ],
             [
              0.4444444444444444,
              "#bd3786"
             ],
             [
              0.5555555555555556,
              "#d8576b"
             ],
             [
              0.6666666666666666,
              "#ed7953"
             ],
             [
              0.7777777777777778,
              "#fb9f3a"
             ],
             [
              0.8888888888888888,
              "#fdca26"
             ],
             [
              1,
              "#f0f921"
             ]
            ],
            "type": "heatmap"
           }
          ],
          "heatmapgl": [
           {
            "colorbar": {
             "outlinewidth": 0,
             "ticks": ""
            },
            "colorscale": [
             [
              0,
              "#0d0887"
             ],
             [
              0.1111111111111111,
              "#46039f"
             ],
             [
              0.2222222222222222,
              "#7201a8"
             ],
             [
              0.3333333333333333,
              "#9c179e"
             ],
             [
              0.4444444444444444,
              "#bd3786"
             ],
             [
              0.5555555555555556,
              "#d8576b"
             ],
             [
              0.6666666666666666,
              "#ed7953"
             ],
             [
              0.7777777777777778,
              "#fb9f3a"
             ],
             [
              0.8888888888888888,
              "#fdca26"
             ],
             [
              1,
              "#f0f921"
             ]
            ],
            "type": "heatmapgl"
           }
          ],
          "histogram": [
           {
            "marker": {
             "colorbar": {
              "outlinewidth": 0,
              "ticks": ""
             }
            },
            "type": "histogram"
           }
          ],
          "histogram2d": [
           {
            "colorbar": {
             "outlinewidth": 0,
             "ticks": ""
            },
            "colorscale": [
             [
              0,
              "#0d0887"
             ],
             [
              0.1111111111111111,
              "#46039f"
             ],
             [
              0.2222222222222222,
              "#7201a8"
             ],
             [
              0.3333333333333333,
              "#9c179e"
             ],
             [
              0.4444444444444444,
              "#bd3786"
             ],
             [
              0.5555555555555556,
              "#d8576b"
             ],
             [
              0.6666666666666666,
              "#ed7953"
             ],
             [
              0.7777777777777778,
              "#fb9f3a"
             ],
             [
              0.8888888888888888,
              "#fdca26"
             ],
             [
              1,
              "#f0f921"
             ]
            ],
            "type": "histogram2d"
           }
          ],
          "histogram2dcontour": [
           {
            "colorbar": {
             "outlinewidth": 0,
             "ticks": ""
            },
            "colorscale": [
             [
              0,
              "#0d0887"
             ],
             [
              0.1111111111111111,
              "#46039f"
             ],
             [
              0.2222222222222222,
              "#7201a8"
             ],
             [
              0.3333333333333333,
              "#9c179e"
             ],
             [
              0.4444444444444444,
              "#bd3786"
             ],
             [
              0.5555555555555556,
              "#d8576b"
             ],
             [
              0.6666666666666666,
              "#ed7953"
             ],
             [
              0.7777777777777778,
              "#fb9f3a"
             ],
             [
              0.8888888888888888,
              "#fdca26"
             ],
             [
              1,
              "#f0f921"
             ]
            ],
            "type": "histogram2dcontour"
           }
          ],
          "mesh3d": [
           {
            "colorbar": {
             "outlinewidth": 0,
             "ticks": ""
            },
            "type": "mesh3d"
           }
          ],
          "parcoords": [
           {
            "line": {
             "colorbar": {
              "outlinewidth": 0,
              "ticks": ""
             }
            },
            "type": "parcoords"
           }
          ],
          "scatter": [
           {
            "marker": {
             "colorbar": {
              "outlinewidth": 0,
              "ticks": ""
             }
            },
            "type": "scatter"
           }
          ],
          "scatter3d": [
           {
            "line": {
             "colorbar": {
              "outlinewidth": 0,
              "ticks": ""
             }
            },
            "marker": {
             "colorbar": {
              "outlinewidth": 0,
              "ticks": ""
             }
            },
            "type": "scatter3d"
           }
          ],
          "scattercarpet": [
           {
            "marker": {
             "colorbar": {
              "outlinewidth": 0,
              "ticks": ""
             }
            },
            "type": "scattercarpet"
           }
          ],
          "scattergeo": [
           {
            "marker": {
             "colorbar": {
              "outlinewidth": 0,
              "ticks": ""
             }
            },
            "type": "scattergeo"
           }
          ],
          "scattergl": [
           {
            "marker": {
             "colorbar": {
              "outlinewidth": 0,
              "ticks": ""
             }
            },
            "type": "scattergl"
           }
          ],
          "scattermapbox": [
           {
            "marker": {
             "colorbar": {
              "outlinewidth": 0,
              "ticks": ""
             }
            },
            "type": "scattermapbox"
           }
          ],
          "scatterpolar": [
           {
            "marker": {
             "colorbar": {
              "outlinewidth": 0,
              "ticks": ""
             }
            },
            "type": "scatterpolar"
           }
          ],
          "scatterpolargl": [
           {
            "marker": {
             "colorbar": {
              "outlinewidth": 0,
              "ticks": ""
             }
            },
            "type": "scatterpolargl"
           }
          ],
          "scatterternary": [
           {
            "marker": {
             "colorbar": {
              "outlinewidth": 0,
              "ticks": ""
             }
            },
            "type": "scatterternary"
           }
          ],
          "surface": [
           {
            "colorbar": {
             "outlinewidth": 0,
             "ticks": ""
            },
            "colorscale": [
             [
              0,
              "#0d0887"
             ],
             [
              0.1111111111111111,
              "#46039f"
             ],
             [
              0.2222222222222222,
              "#7201a8"
             ],
             [
              0.3333333333333333,
              "#9c179e"
             ],
             [
              0.4444444444444444,
              "#bd3786"
             ],
             [
              0.5555555555555556,
              "#d8576b"
             ],
             [
              0.6666666666666666,
              "#ed7953"
             ],
             [
              0.7777777777777778,
              "#fb9f3a"
             ],
             [
              0.8888888888888888,
              "#fdca26"
             ],
             [
              1,
              "#f0f921"
             ]
            ],
            "type": "surface"
           }
          ],
          "table": [
           {
            "cells": {
             "fill": {
              "color": "#EBF0F8"
             },
             "line": {
              "color": "white"
             }
            },
            "header": {
             "fill": {
              "color": "#C8D4E3"
             },
             "line": {
              "color": "white"
             }
            },
            "type": "table"
           }
          ]
         },
         "layout": {
          "annotationdefaults": {
           "arrowcolor": "#2a3f5f",
           "arrowhead": 0,
           "arrowwidth": 1
          },
          "colorscale": {
           "diverging": [
            [
             0,
             "#8e0152"
            ],
            [
             0.1,
             "#c51b7d"
            ],
            [
             0.2,
             "#de77ae"
            ],
            [
             0.3,
             "#f1b6da"
            ],
            [
             0.4,
             "#fde0ef"
            ],
            [
             0.5,
             "#f7f7f7"
            ],
            [
             0.6,
             "#e6f5d0"
            ],
            [
             0.7,
             "#b8e186"
            ],
            [
             0.8,
             "#7fbc41"
            ],
            [
             0.9,
             "#4d9221"
            ],
            [
             1,
             "#276419"
            ]
           ],
           "sequential": [
            [
             0,
             "#0d0887"
            ],
            [
             0.1111111111111111,
             "#46039f"
            ],
            [
             0.2222222222222222,
             "#7201a8"
            ],
            [
             0.3333333333333333,
             "#9c179e"
            ],
            [
             0.4444444444444444,
             "#bd3786"
            ],
            [
             0.5555555555555556,
             "#d8576b"
            ],
            [
             0.6666666666666666,
             "#ed7953"
            ],
            [
             0.7777777777777778,
             "#fb9f3a"
            ],
            [
             0.8888888888888888,
             "#fdca26"
            ],
            [
             1,
             "#f0f921"
            ]
           ],
           "sequentialminus": [
            [
             0,
             "#0d0887"
            ],
            [
             0.1111111111111111,
             "#46039f"
            ],
            [
             0.2222222222222222,
             "#7201a8"
            ],
            [
             0.3333333333333333,
             "#9c179e"
            ],
            [
             0.4444444444444444,
             "#bd3786"
            ],
            [
             0.5555555555555556,
             "#d8576b"
            ],
            [
             0.6666666666666666,
             "#ed7953"
            ],
            [
             0.7777777777777778,
             "#fb9f3a"
            ],
            [
             0.8888888888888888,
             "#fdca26"
            ],
            [
             1,
             "#f0f921"
            ]
           ]
          },
          "colorway": [
           "#636efa",
           "#EF553B",
           "#00cc96",
           "#ab63fa",
           "#FFA15A",
           "#19d3f3",
           "#FF6692",
           "#B6E880",
           "#FF97FF",
           "#FECB52"
          ],
          "font": {
           "color": "#2a3f5f"
          },
          "geo": {
           "bgcolor": "white",
           "lakecolor": "white",
           "landcolor": "#E5ECF6",
           "showlakes": true,
           "showland": true,
           "subunitcolor": "white"
          },
          "hoverlabel": {
           "align": "left"
          },
          "hovermode": "closest",
          "mapbox": {
           "style": "light"
          },
          "paper_bgcolor": "white",
          "plot_bgcolor": "#E5ECF6",
          "polar": {
           "angularaxis": {
            "gridcolor": "white",
            "linecolor": "white",
            "ticks": ""
           },
           "bgcolor": "#E5ECF6",
           "radialaxis": {
            "gridcolor": "white",
            "linecolor": "white",
            "ticks": ""
           }
          },
          "scene": {
           "xaxis": {
            "backgroundcolor": "#E5ECF6",
            "gridcolor": "white",
            "gridwidth": 2,
            "linecolor": "white",
            "showbackground": true,
            "ticks": "",
            "zerolinecolor": "white"
           },
           "yaxis": {
            "backgroundcolor": "#E5ECF6",
            "gridcolor": "white",
            "gridwidth": 2,
            "linecolor": "white",
            "showbackground": true,
            "ticks": "",
            "zerolinecolor": "white"
           },
           "zaxis": {
            "backgroundcolor": "#E5ECF6",
            "gridcolor": "white",
            "gridwidth": 2,
            "linecolor": "white",
            "showbackground": true,
            "ticks": "",
            "zerolinecolor": "white"
           }
          },
          "shapedefaults": {
           "line": {
            "color": "#2a3f5f"
           }
          },
          "ternary": {
           "aaxis": {
            "gridcolor": "white",
            "linecolor": "white",
            "ticks": ""
           },
           "baxis": {
            "gridcolor": "white",
            "linecolor": "white",
            "ticks": ""
           },
           "bgcolor": "#E5ECF6",
           "caxis": {
            "gridcolor": "white",
            "linecolor": "white",
            "ticks": ""
           }
          },
          "title": {
           "x": 0.05
          },
          "xaxis": {
           "automargin": true,
           "gridcolor": "white",
           "linecolor": "white",
           "ticks": "",
           "zerolinecolor": "white",
           "zerolinewidth": 2
          },
          "yaxis": {
           "automargin": true,
           "gridcolor": "white",
           "linecolor": "white",
           "ticks": "",
           "zerolinecolor": "white",
           "zerolinewidth": 2
          }
         }
        },
        "xaxis": {
         "anchor": "y",
         "domain": [
          0,
          1
         ]
        },
        "yaxis": {
         "anchor": "x",
         "domain": [
          0,
          1
         ]
        }
       }
      },
      "text/html": [
       "<div>\n",
       "        \n",
       "        \n",
       "            <div id=\"cd6b1241-9e1c-4c3b-9977-8a63c57587d7\" class=\"plotly-graph-div\" style=\"height:525px; width:100%;\"></div>\n",
       "            <script type=\"text/javascript\">\n",
       "                require([\"plotly\"], function(Plotly) {\n",
       "                    window.PLOTLYENV=window.PLOTLYENV || {};\n",
       "                    \n",
       "                if (document.getElementById(\"cd6b1241-9e1c-4c3b-9977-8a63c57587d7\")) {\n",
       "                    Plotly.newPlot(\n",
       "                        'cd6b1241-9e1c-4c3b-9977-8a63c57587d7',\n",
       "                        [{\"labels\": [\"a\", \"b\", \"c\"], \"type\": \"pie\", \"values\": [1, 2, 3]}],\n",
       "                        {\"template\": {\"data\": {\"bar\": [{\"error_x\": {\"color\": \"#2a3f5f\"}, \"error_y\": {\"color\": \"#2a3f5f\"}, \"marker\": {\"line\": {\"color\": \"#E5ECF6\", \"width\": 0.5}}, \"type\": \"bar\"}], \"barpolar\": [{\"marker\": {\"line\": {\"color\": \"#E5ECF6\", \"width\": 0.5}}, \"type\": \"barpolar\"}], \"carpet\": [{\"aaxis\": {\"endlinecolor\": \"#2a3f5f\", \"gridcolor\": \"white\", \"linecolor\": \"white\", \"minorgridcolor\": \"white\", \"startlinecolor\": \"#2a3f5f\"}, \"baxis\": {\"endlinecolor\": \"#2a3f5f\", \"gridcolor\": \"white\", \"linecolor\": \"white\", \"minorgridcolor\": \"white\", \"startlinecolor\": \"#2a3f5f\"}, \"type\": \"carpet\"}], \"choropleth\": [{\"colorbar\": {\"outlinewidth\": 0, \"ticks\": \"\"}, \"type\": \"choropleth\"}], \"contour\": [{\"colorbar\": {\"outlinewidth\": 0, \"ticks\": \"\"}, \"colorscale\": [[0.0, \"#0d0887\"], [0.1111111111111111, \"#46039f\"], [0.2222222222222222, \"#7201a8\"], [0.3333333333333333, \"#9c179e\"], [0.4444444444444444, \"#bd3786\"], [0.5555555555555556, \"#d8576b\"], [0.6666666666666666, \"#ed7953\"], [0.7777777777777778, \"#fb9f3a\"], [0.8888888888888888, \"#fdca26\"], [1.0, \"#f0f921\"]], \"type\": \"contour\"}], \"contourcarpet\": [{\"colorbar\": {\"outlinewidth\": 0, \"ticks\": \"\"}, \"type\": \"contourcarpet\"}], \"heatmap\": [{\"colorbar\": {\"outlinewidth\": 0, \"ticks\": \"\"}, \"colorscale\": [[0.0, \"#0d0887\"], [0.1111111111111111, \"#46039f\"], [0.2222222222222222, \"#7201a8\"], [0.3333333333333333, \"#9c179e\"], [0.4444444444444444, \"#bd3786\"], [0.5555555555555556, \"#d8576b\"], [0.6666666666666666, \"#ed7953\"], [0.7777777777777778, \"#fb9f3a\"], [0.8888888888888888, \"#fdca26\"], [1.0, \"#f0f921\"]], \"type\": \"heatmap\"}], \"heatmapgl\": [{\"colorbar\": {\"outlinewidth\": 0, \"ticks\": \"\"}, \"colorscale\": [[0.0, \"#0d0887\"], [0.1111111111111111, \"#46039f\"], [0.2222222222222222, \"#7201a8\"], [0.3333333333333333, \"#9c179e\"], [0.4444444444444444, \"#bd3786\"], [0.5555555555555556, \"#d8576b\"], [0.6666666666666666, \"#ed7953\"], [0.7777777777777778, \"#fb9f3a\"], [0.8888888888888888, \"#fdca26\"], [1.0, \"#f0f921\"]], \"type\": \"heatmapgl\"}], \"histogram\": [{\"marker\": {\"colorbar\": {\"outlinewidth\": 0, \"ticks\": \"\"}}, \"type\": \"histogram\"}], \"histogram2d\": [{\"colorbar\": {\"outlinewidth\": 0, \"ticks\": \"\"}, \"colorscale\": [[0.0, \"#0d0887\"], [0.1111111111111111, \"#46039f\"], [0.2222222222222222, \"#7201a8\"], [0.3333333333333333, \"#9c179e\"], [0.4444444444444444, \"#bd3786\"], [0.5555555555555556, \"#d8576b\"], [0.6666666666666666, \"#ed7953\"], [0.7777777777777778, \"#fb9f3a\"], [0.8888888888888888, \"#fdca26\"], [1.0, \"#f0f921\"]], \"type\": \"histogram2d\"}], \"histogram2dcontour\": [{\"colorbar\": {\"outlinewidth\": 0, \"ticks\": \"\"}, \"colorscale\": [[0.0, \"#0d0887\"], [0.1111111111111111, \"#46039f\"], [0.2222222222222222, \"#7201a8\"], [0.3333333333333333, \"#9c179e\"], [0.4444444444444444, \"#bd3786\"], [0.5555555555555556, \"#d8576b\"], [0.6666666666666666, \"#ed7953\"], [0.7777777777777778, \"#fb9f3a\"], [0.8888888888888888, \"#fdca26\"], [1.0, \"#f0f921\"]], \"type\": \"histogram2dcontour\"}], \"mesh3d\": [{\"colorbar\": {\"outlinewidth\": 0, \"ticks\": \"\"}, \"type\": \"mesh3d\"}], \"parcoords\": [{\"line\": {\"colorbar\": {\"outlinewidth\": 0, \"ticks\": \"\"}}, \"type\": \"parcoords\"}], \"scatter\": [{\"marker\": {\"colorbar\": {\"outlinewidth\": 0, \"ticks\": \"\"}}, \"type\": \"scatter\"}], \"scatter3d\": [{\"line\": {\"colorbar\": {\"outlinewidth\": 0, \"ticks\": \"\"}}, \"marker\": {\"colorbar\": {\"outlinewidth\": 0, \"ticks\": \"\"}}, \"type\": \"scatter3d\"}], \"scattercarpet\": [{\"marker\": {\"colorbar\": {\"outlinewidth\": 0, \"ticks\": \"\"}}, \"type\": \"scattercarpet\"}], \"scattergeo\": [{\"marker\": {\"colorbar\": {\"outlinewidth\": 0, \"ticks\": \"\"}}, \"type\": \"scattergeo\"}], \"scattergl\": [{\"marker\": {\"colorbar\": {\"outlinewidth\": 0, \"ticks\": \"\"}}, \"type\": \"scattergl\"}], \"scattermapbox\": [{\"marker\": {\"colorbar\": {\"outlinewidth\": 0, \"ticks\": \"\"}}, \"type\": \"scattermapbox\"}], \"scatterpolar\": [{\"marker\": {\"colorbar\": {\"outlinewidth\": 0, \"ticks\": \"\"}}, \"type\": \"scatterpolar\"}], \"scatterpolargl\": [{\"marker\": {\"colorbar\": {\"outlinewidth\": 0, \"ticks\": \"\"}}, \"type\": \"scatterpolargl\"}], \"scatterternary\": [{\"marker\": {\"colorbar\": {\"outlinewidth\": 0, \"ticks\": \"\"}}, \"type\": \"scatterternary\"}], \"surface\": [{\"colorbar\": {\"outlinewidth\": 0, \"ticks\": \"\"}, \"colorscale\": [[0.0, \"#0d0887\"], [0.1111111111111111, \"#46039f\"], [0.2222222222222222, \"#7201a8\"], [0.3333333333333333, \"#9c179e\"], [0.4444444444444444, \"#bd3786\"], [0.5555555555555556, \"#d8576b\"], [0.6666666666666666, \"#ed7953\"], [0.7777777777777778, \"#fb9f3a\"], [0.8888888888888888, \"#fdca26\"], [1.0, \"#f0f921\"]], \"type\": \"surface\"}], \"table\": [{\"cells\": {\"fill\": {\"color\": \"#EBF0F8\"}, \"line\": {\"color\": \"white\"}}, \"header\": {\"fill\": {\"color\": \"#C8D4E3\"}, \"line\": {\"color\": \"white\"}}, \"type\": \"table\"}]}, \"layout\": {\"annotationdefaults\": {\"arrowcolor\": \"#2a3f5f\", \"arrowhead\": 0, \"arrowwidth\": 1}, \"colorscale\": {\"diverging\": [[0, \"#8e0152\"], [0.1, \"#c51b7d\"], [0.2, \"#de77ae\"], [0.3, \"#f1b6da\"], [0.4, \"#fde0ef\"], [0.5, \"#f7f7f7\"], [0.6, \"#e6f5d0\"], [0.7, \"#b8e186\"], [0.8, \"#7fbc41\"], [0.9, \"#4d9221\"], [1, \"#276419\"]], \"sequential\": [[0.0, \"#0d0887\"], [0.1111111111111111, \"#46039f\"], [0.2222222222222222, \"#7201a8\"], [0.3333333333333333, \"#9c179e\"], [0.4444444444444444, \"#bd3786\"], [0.5555555555555556, \"#d8576b\"], [0.6666666666666666, \"#ed7953\"], [0.7777777777777778, \"#fb9f3a\"], [0.8888888888888888, \"#fdca26\"], [1.0, \"#f0f921\"]], \"sequentialminus\": [[0.0, \"#0d0887\"], [0.1111111111111111, \"#46039f\"], [0.2222222222222222, \"#7201a8\"], [0.3333333333333333, \"#9c179e\"], [0.4444444444444444, \"#bd3786\"], [0.5555555555555556, \"#d8576b\"], [0.6666666666666666, \"#ed7953\"], [0.7777777777777778, \"#fb9f3a\"], [0.8888888888888888, \"#fdca26\"], [1.0, \"#f0f921\"]]}, \"colorway\": [\"#636efa\", \"#EF553B\", \"#00cc96\", \"#ab63fa\", \"#FFA15A\", \"#19d3f3\", \"#FF6692\", \"#B6E880\", \"#FF97FF\", \"#FECB52\"], \"font\": {\"color\": \"#2a3f5f\"}, \"geo\": {\"bgcolor\": \"white\", \"lakecolor\": \"white\", \"landcolor\": \"#E5ECF6\", \"showlakes\": true, \"showland\": true, \"subunitcolor\": \"white\"}, \"hoverlabel\": {\"align\": \"left\"}, \"hovermode\": \"closest\", \"mapbox\": {\"style\": \"light\"}, \"paper_bgcolor\": \"white\", \"plot_bgcolor\": \"#E5ECF6\", \"polar\": {\"angularaxis\": {\"gridcolor\": \"white\", \"linecolor\": \"white\", \"ticks\": \"\"}, \"bgcolor\": \"#E5ECF6\", \"radialaxis\": {\"gridcolor\": \"white\", \"linecolor\": \"white\", \"ticks\": \"\"}}, \"scene\": {\"xaxis\": {\"backgroundcolor\": \"#E5ECF6\", \"gridcolor\": \"white\", \"gridwidth\": 2, \"linecolor\": \"white\", \"showbackground\": true, \"ticks\": \"\", \"zerolinecolor\": \"white\"}, \"yaxis\": {\"backgroundcolor\": \"#E5ECF6\", \"gridcolor\": \"white\", \"gridwidth\": 2, \"linecolor\": \"white\", \"showbackground\": true, \"ticks\": \"\", \"zerolinecolor\": \"white\"}, \"zaxis\": {\"backgroundcolor\": \"#E5ECF6\", \"gridcolor\": \"white\", \"gridwidth\": 2, \"linecolor\": \"white\", \"showbackground\": true, \"ticks\": \"\", \"zerolinecolor\": \"white\"}}, \"shapedefaults\": {\"line\": {\"color\": \"#2a3f5f\"}}, \"ternary\": {\"aaxis\": {\"gridcolor\": \"white\", \"linecolor\": \"white\", \"ticks\": \"\"}, \"baxis\": {\"gridcolor\": \"white\", \"linecolor\": \"white\", \"ticks\": \"\"}, \"bgcolor\": \"#E5ECF6\", \"caxis\": {\"gridcolor\": \"white\", \"linecolor\": \"white\", \"ticks\": \"\"}}, \"title\": {\"x\": 0.05}, \"xaxis\": {\"automargin\": true, \"gridcolor\": \"white\", \"linecolor\": \"white\", \"ticks\": \"\", \"zerolinecolor\": \"white\", \"zerolinewidth\": 2}, \"yaxis\": {\"automargin\": true, \"gridcolor\": \"white\", \"linecolor\": \"white\", \"ticks\": \"\", \"zerolinecolor\": \"white\", \"zerolinewidth\": 2}}}, \"xaxis\": {\"anchor\": \"y\", \"domain\": [0.0, 1.0]}, \"yaxis\": {\"anchor\": \"x\", \"domain\": [0.0, 1.0]}},\n",
       "                        {\"responsive\": true}\n",
       "                    ).then(function(){\n",
       "                            \n",
       "var gd = document.getElementById('cd6b1241-9e1c-4c3b-9977-8a63c57587d7');\n",
       "var x = new MutationObserver(function (mutations, observer) {{\n",
       "        var display = window.getComputedStyle(gd).display;\n",
       "        if (!display || display === 'none') {{\n",
       "            console.log([gd, 'removed!']);\n",
       "            Plotly.purge(gd);\n",
       "            observer.disconnect();\n",
       "        }}\n",
       "}});\n",
       "\n",
       "// Listen for the removal of the full notebook cells\n",
       "var notebookContainer = gd.closest('#notebook-container');\n",
       "if (notebookContainer) {{\n",
       "    x.observe(notebookContainer, {childList: true});\n",
       "}}\n",
       "\n",
       "// Listen for the clearing of the current output cell\n",
       "var outputEl = gd.closest('.output');\n",
       "if (outputEl) {{\n",
       "    x.observe(outputEl, {childList: true});\n",
       "}}\n",
       "\n",
       "                        })\n",
       "                };\n",
       "                });\n",
       "            </script>\n",
       "        </div>"
      ]
     },
     "metadata": {},
     "output_type": "display_data"
    }
   ],
   "source": [
    "\n",
    "fig = make_subplots(1, 1)\n",
    "\n",
    "fig.add_trace(\n",
    "    go.Pie(values=[1,2,3], labels=[\"a\", \"b\", \"c\"]),\n",
    ")\n",
    "\n",
    "                \n",
    "fig.show()"
   ]
  },
  {
   "cell_type": "code",
   "execution_count": 135,
   "metadata": {},
   "outputs": [],
   "source": [
    "s3_client = boto3.client('s3')\n",
    "s3_resource = boto3.resource('s3') #slower, but easier\n",
    "# s3_conn = boto3.s3.connect_to_region('us-west-2')\n",
    "\n",
    "athena = boto3.client('athena')"
   ]
  },
  {
   "cell_type": "markdown",
   "metadata": {},
   "source": [
    "# Settings"
   ]
  },
  {
   "cell_type": "code",
   "execution_count": 147,
   "metadata": {},
   "outputs": [],
   "source": [
    "#--- Analysis Settings --\n",
    "num_days_to_analyse = 8\n",
    "analysis_end_time = datetime.fromordinal(date.today().toordinal()) # start of today as we only get yesterday's data.\n",
    "analysis_start_time = analysis_end_time - timedelta(days=num_days_to_analyse)\n",
    "country_code_to_analyse = \"ID\"\n",
    "\n",
    "\n",
    "#--- Core Settings -- \n",
    "event_log_s3_path = \"s3://ms-data-pipeline-production/ms-data-stream-production-processed\"\n",
    "event_log_s3_bucket = event_log_s3_path.split(\"s3://\")[1].split(\"/\")[0]\n",
    "event_log_s3_prefix = event_log_s3_path.split(\"/\")[-1]\n",
    "athena_bucket_path = \"s3://aws-athena-query-results-358002497134-ap-southeast-1/\"\n",
    "athena_database = \"ms_data_processed_production\"\n",
    "athena_year_partition = \"partition_0\" #2019\n",
    "athena_month_partition = \"partition_1\" #02\n",
    "athena_day_partition = \"partition_2\" #02\n",
    "athena_raw_events_table = \"ms_data_stream_production_processed\"\n",
    "athena_easy_events_table =  \"id_ab_test\"\n",
    "aws_region_name = \"ap-southeast-1\"\n",
    "\n",
    "\n",
    "# --\n",
    "list_out_s3_bucket = False #extremely slow.\n"
   ]
  },
  {
   "cell_type": "markdown",
   "metadata": {
    "toc-hr-collapsed": false
   },
   "source": [
    "# Getting Base Data"
   ]
  },
  {
   "cell_type": "markdown",
   "metadata": {},
   "source": [
    "## Events from Athena"
   ]
  },
  {
   "cell_type": "code",
   "execution_count": 148,
   "metadata": {},
   "outputs": [
    {
     "name": "stdout",
     "output_type": "stream",
     "text": [
      "Connecting to Athena\n"
     ]
    }
   ],
   "source": [
    "print(\"Connecting to Athena\")\n",
    "athena_conn = connect(s3_staging_dir=athena_bucket_path, region_name=aws_region_name)"
   ]
  },
  {
   "cell_type": "code",
   "execution_count": 149,
   "metadata": {},
   "outputs": [
    {
     "name": "stdout",
     "output_type": "stream",
     "text": [
      "Running small test query to check the athena connection\n"
     ]
    },
    {
     "data": {
      "text/html": [
       "<div>\n",
       "<style scoped>\n",
       "    .dataframe tbody tr th:only-of-type {\n",
       "        vertical-align: middle;\n",
       "    }\n",
       "\n",
       "    .dataframe tbody tr th {\n",
       "        vertical-align: top;\n",
       "    }\n",
       "\n",
       "    .dataframe thead th {\n",
       "        text-align: right;\n",
       "    }\n",
       "</style>\n",
       "<table border=\"1\" class=\"dataframe\">\n",
       "  <thead>\n",
       "    <tr style=\"text-align: right;\">\n",
       "      <th></th>\n",
       "      <th>type</th>\n",
       "      <th>context</th>\n",
       "      <th>user</th>\n",
       "      <th>body</th>\n",
       "      <th>sent_at</th>\n",
       "      <th>partition_0</th>\n",
       "      <th>partition_1</th>\n",
       "      <th>partition_2</th>\n",
       "    </tr>\n",
       "  </thead>\n",
       "  <tbody>\n",
       "    <tr>\n",
       "      <th>0</th>\n",
       "      <td>page</td>\n",
       "      <td>{title=Travel Insurance 2019 - Singapore | Mon...</td>\n",
       "      <td>{anonymous_id=7f7eabc8-fe51-429e-8e0a-e2eb983d...</td>\n",
       "      <td>{event_name=PageView, data={title=null, status...</td>\n",
       "      <td>2019-09-22T18:53:17.878Z</td>\n",
       "      <td>2019</td>\n",
       "      <td>09</td>\n",
       "      <td>23</td>\n",
       "    </tr>\n",
       "    <tr>\n",
       "      <th>1</th>\n",
       "      <td>event</td>\n",
       "      <td>{title=Beli Rumah Lelang Sitaan Bank Pasti Leb...</td>\n",
       "      <td>{anonymous_id=null, amp_id=amp-m45NpgpPYK6ybrd...</td>\n",
       "      <td>{event_name=Reading, data={title=null, status=...</td>\n",
       "      <td>2019-09-22T18:53:19.549000+00:00</td>\n",
       "      <td>2019</td>\n",
       "      <td>09</td>\n",
       "      <td>23</td>\n",
       "    </tr>\n",
       "    <tr>\n",
       "      <th>2</th>\n",
       "      <td>event</td>\n",
       "      <td>{title=Kerja Malam Dilakoni para Pekerja denga...</td>\n",
       "      <td>{anonymous_id=ff969c33-b3b6-4b58-a16e-05b23bbd...</td>\n",
       "      <td>{event_name=Reading, data={title=Kerja Malam D...</td>\n",
       "      <td>2019-09-22T18:53:18.516Z</td>\n",
       "      <td>2019</td>\n",
       "      <td>09</td>\n",
       "      <td>23</td>\n",
       "    </tr>\n",
       "    <tr>\n",
       "      <th>3</th>\n",
       "      <td>event</td>\n",
       "      <td>{title=Mengintip Rumah Mayangsari yang Megah d...</td>\n",
       "      <td>{anonymous_id=d8773ea0-3dc9-40e3-beb9-8296967d...</td>\n",
       "      <td>{event_name=Reading, data={title=Mengintip Rum...</td>\n",
       "      <td>2019-09-22T18:53:20.775Z</td>\n",
       "      <td>2019</td>\n",
       "      <td>09</td>\n",
       "      <td>23</td>\n",
       "    </tr>\n",
       "    <tr>\n",
       "      <th>4</th>\n",
       "      <td>event</td>\n",
       "      <td>{title=Rumah Iis Dahlia Harganya Rp 17 Miliar,...</td>\n",
       "      <td>{anonymous_id=01a23afd-f512-4db2-bb68-687c6a55...</td>\n",
       "      <td>{event_name=Reading, data={title=Rumah Iis Dah...</td>\n",
       "      <td>2019-09-22T18:53:20.018Z</td>\n",
       "      <td>2019</td>\n",
       "      <td>09</td>\n",
       "      <td>23</td>\n",
       "    </tr>\n",
       "    <tr>\n",
       "      <th>5</th>\n",
       "      <td>page</td>\n",
       "      <td>{title=全港最佳信用卡 2019 | MoneySmart.hk, page_url=...</td>\n",
       "      <td>{anonymous_id=8a7ab3a1-3746-4b35-8bbe-454b17c6...</td>\n",
       "      <td>{event_name=PageView, data={title=null, status...</td>\n",
       "      <td>2019-09-22T18:53:19.939Z</td>\n",
       "      <td>2019</td>\n",
       "      <td>09</td>\n",
       "      <td>23</td>\n",
       "    </tr>\n",
       "    <tr>\n",
       "      <th>6</th>\n",
       "      <td>page</td>\n",
       "      <td>{title=Muzdalifah Punya 6 Sudut Rumah Megah ya...</td>\n",
       "      <td>{anonymous_id=9cfab873-3c35-49ba-9952-3c231cc6...</td>\n",
       "      <td>{event_name=PageView, data={title=null, status...</td>\n",
       "      <td>2019-09-22T18:53:22.852Z</td>\n",
       "      <td>2019</td>\n",
       "      <td>09</td>\n",
       "      <td>23</td>\n",
       "    </tr>\n",
       "    <tr>\n",
       "      <th>7</th>\n",
       "      <td>event</td>\n",
       "      <td>{title=5 Resep Jajanan Kekinian Bujet Rp 30 Ri...</td>\n",
       "      <td>{anonymous_id=null, amp_id=w5MJ260GaGR0KCZpC21...</td>\n",
       "      <td>{event_name=Reading, data={title=null, status=...</td>\n",
       "      <td>2019-09-22T17:53:42.578000+00:00</td>\n",
       "      <td>2019</td>\n",
       "      <td>09</td>\n",
       "      <td>23</td>\n",
       "    </tr>\n",
       "    <tr>\n",
       "      <th>8</th>\n",
       "      <td>event</td>\n",
       "      <td>{title=Bambang Irianto Ditetapkan Tersangka KP...</td>\n",
       "      <td>{anonymous_id=dea6b68f-acb4-42a2-8be0-041abf9b...</td>\n",
       "      <td>{event_name=Reading, data={title=Bambang Irian...</td>\n",
       "      <td>2019-09-22T18:53:20.441Z</td>\n",
       "      <td>2019</td>\n",
       "      <td>09</td>\n",
       "      <td>23</td>\n",
       "    </tr>\n",
       "    <tr>\n",
       "      <th>9</th>\n",
       "      <td>page</td>\n",
       "      <td>{title=Mau Beli Mobil Antik Mercy Tiger? Siapi...</td>\n",
       "      <td>{anonymous_id=null, amp_id=s-LZgJ7zh1lc8j5ey_L...</td>\n",
       "      <td>{event_name=PageView, data={title=null, status...</td>\n",
       "      <td>2019-09-22T18:53:20.270000+00:00</td>\n",
       "      <td>2019</td>\n",
       "      <td>09</td>\n",
       "      <td>23</td>\n",
       "    </tr>\n",
       "  </tbody>\n",
       "</table>\n",
       "</div>"
      ],
      "text/plain": [
       "    type                                            context  \\\n",
       "0   page  {title=Travel Insurance 2019 - Singapore | Mon...   \n",
       "1  event  {title=Beli Rumah Lelang Sitaan Bank Pasti Leb...   \n",
       "2  event  {title=Kerja Malam Dilakoni para Pekerja denga...   \n",
       "3  event  {title=Mengintip Rumah Mayangsari yang Megah d...   \n",
       "4  event  {title=Rumah Iis Dahlia Harganya Rp 17 Miliar,...   \n",
       "5   page  {title=全港最佳信用卡 2019 | MoneySmart.hk, page_url=...   \n",
       "6   page  {title=Muzdalifah Punya 6 Sudut Rumah Megah ya...   \n",
       "7  event  {title=5 Resep Jajanan Kekinian Bujet Rp 30 Ri...   \n",
       "8  event  {title=Bambang Irianto Ditetapkan Tersangka KP...   \n",
       "9   page  {title=Mau Beli Mobil Antik Mercy Tiger? Siapi...   \n",
       "\n",
       "                                                user  \\\n",
       "0  {anonymous_id=7f7eabc8-fe51-429e-8e0a-e2eb983d...   \n",
       "1  {anonymous_id=null, amp_id=amp-m45NpgpPYK6ybrd...   \n",
       "2  {anonymous_id=ff969c33-b3b6-4b58-a16e-05b23bbd...   \n",
       "3  {anonymous_id=d8773ea0-3dc9-40e3-beb9-8296967d...   \n",
       "4  {anonymous_id=01a23afd-f512-4db2-bb68-687c6a55...   \n",
       "5  {anonymous_id=8a7ab3a1-3746-4b35-8bbe-454b17c6...   \n",
       "6  {anonymous_id=9cfab873-3c35-49ba-9952-3c231cc6...   \n",
       "7  {anonymous_id=null, amp_id=w5MJ260GaGR0KCZpC21...   \n",
       "8  {anonymous_id=dea6b68f-acb4-42a2-8be0-041abf9b...   \n",
       "9  {anonymous_id=null, amp_id=s-LZgJ7zh1lc8j5ey_L...   \n",
       "\n",
       "                                                body  \\\n",
       "0  {event_name=PageView, data={title=null, status...   \n",
       "1  {event_name=Reading, data={title=null, status=...   \n",
       "2  {event_name=Reading, data={title=Kerja Malam D...   \n",
       "3  {event_name=Reading, data={title=Mengintip Rum...   \n",
       "4  {event_name=Reading, data={title=Rumah Iis Dah...   \n",
       "5  {event_name=PageView, data={title=null, status...   \n",
       "6  {event_name=PageView, data={title=null, status...   \n",
       "7  {event_name=Reading, data={title=null, status=...   \n",
       "8  {event_name=Reading, data={title=Bambang Irian...   \n",
       "9  {event_name=PageView, data={title=null, status...   \n",
       "\n",
       "                            sent_at partition_0 partition_1 partition_2  \n",
       "0          2019-09-22T18:53:17.878Z        2019          09          23  \n",
       "1  2019-09-22T18:53:19.549000+00:00        2019          09          23  \n",
       "2          2019-09-22T18:53:18.516Z        2019          09          23  \n",
       "3          2019-09-22T18:53:20.775Z        2019          09          23  \n",
       "4          2019-09-22T18:53:20.018Z        2019          09          23  \n",
       "5          2019-09-22T18:53:19.939Z        2019          09          23  \n",
       "6          2019-09-22T18:53:22.852Z        2019          09          23  \n",
       "7  2019-09-22T17:53:42.578000+00:00        2019          09          23  \n",
       "8          2019-09-22T18:53:20.441Z        2019          09          23  \n",
       "9  2019-09-22T18:53:20.270000+00:00        2019          09          23  "
      ]
     },
     "execution_count": 149,
     "metadata": {},
     "output_type": "execute_result"
    }
   ],
   "source": [
    "print(\"Running small test query to check the athena connection\")\n",
    "pd.read_sql(\"select * from \"+athena_database+\".\"+athena_raw_events_table+\" limit 10\", athena_conn)"
   ]
  },
  {
   "cell_type": "code",
   "execution_count": 150,
   "metadata": {},
   "outputs": [],
   "source": [
    "def create_blog_pageview_and_scroll_query(country_code, from_datetime, to_datetime, limit=None, include_device_type_data = True):\n",
    "    \"\"\" \n",
    "    This has been taken from the view in athena to make it more flexible.\n",
    "    country_code should be e.g. TW / SG / ...\n",
    "    \n",
    "    It filters out just events from the blog\n",
    "    \"\"\"\n",
    "    print(\"Getting the pageview and read events from %s to %s\"%(from_datetime.isoformat(), to_datetime.isoformat()))\n",
    "    \n",
    "    country_code_to_url_core = {\n",
    "        \"ID\":\"moneysmart.id\", \n",
    "        \"PH\":\"moneysmart.ph\", \n",
    "        \"TW\":\"moneysmart.tw\", \n",
    "        \"SG\":\"blog.moneysmart.sg\", \n",
    "        \"HK\":\"blog.moneysmart.hk\"\n",
    "        \n",
    "    }\n",
    "    \n",
    "    if country_code not in country_code_to_url_core:\n",
    "        raise Exception(\"Didn't recognise country code\"+repr(country_code)+\".\")\n",
    "        \n",
    "    #These are just used for the partition selection and further filter is done on the datetime level.\n",
    "    start_year_inclusive = from_datetime.year\n",
    "    end_year_inclusive = to_datetime.year\n",
    "    start_month_inclusive = from_datetime.month\n",
    "    end_month_inclusive = to_datetime.month\n",
    "    start_day_inclusive = from_datetime.day\n",
    "    end_day_inclusive = to_datetime.day\n",
    "        \n",
    "    query = \"\"\"\n",
    "    SELECT\n",
    "      CAST(\"from_iso8601_timestamp\"(\"sent_at\") AS timestamp) \"sent_at_timestamp\"\n",
    "    , \"sent_at\"\n",
    "    , \"type\"\n",
    "    , \"body\".\"event_name\"\n",
    "    , \"body\".\"data\".\"status\"\n",
    "    , (CASE \"body\".\"data\".\"status\" \n",
    "        WHEN 'Page Bottom Reached' THEN 100 \n",
    "        WHEN 'Article Reading Completed' THEN 100 WHEN 'Article Body 100' THEN 100 \n",
    "        WHEN 'Article Reading 75%' THEN 75 WHEN 'Article Body 75' THEN 75 \n",
    "        WHEN 'Article Reading 50%' THEN 50 WHEN 'Article Body 50' THEN 50 \n",
    "        WHEN 'Article Reading 25%' THEN 25 WHEN 'Article Body 25' THEN 25\n",
    "        WHEN 'Article Reading Started' THEN 0 WHEN 'Article Loaded' THEN 0 \n",
    "        ELSE 0 END) \"article_read_depth\"\n",
    "    , \"user\".\"anonymous_id\"\n",
    "    , \"split_part\"(\"context\".\"page_url\", '?', 1) \"canonical_url\"\n",
    "    , \"context\".\"page_url\"\n",
    "    , \"context\".\"referrer\"\n",
    "    , CAST(\"strpos\"(\"context\".\"page_url\", '?amp') AS boolean) \"is_amp\"\n",
    "    , CAST(((\"context\".\"page_url\" LIKE '%utm_medium%') OR (\"context\".\"page_url\" LIKE '%gclid%')) AS boolean) \"has_marketing_param\"\n",
    "    , CAST(\"strpos\"(\"context\".\"page_url\", '://www3.') AS boolean) \"is_test\"\n",
    "    , CAST(\"strpos\"(\"context\".\"page_url\", '://www.') AS boolean) \"is_control\"\n",
    "    \"\"\"\n",
    "    if include_device_type_data:\n",
    "        query += \"\"\"\n",
    "        , context.device.type as device_type\n",
    "        , context.browser.name as browser_name\n",
    "        , context.browser.major as browser_major_version\n",
    "        , context.browser.version as browser_version\n",
    "        \n",
    "        , context.operating_system.name as operating_system_name\n",
    "        , context.operating_system.version as operating_system_version\n",
    "        , context.user_agent as user_agent\n",
    "        \"\"\"\n",
    "        \n",
    "    query += \"\"\"\n",
    "    FROM\n",
    "      \"\"\"+athena_database+ \".\" +athena_raw_events_table+ \"\"\"\n",
    "    WHERE \n",
    "        ((\"body\".\"event_name\" = 'Reading') OR (\"body\".\"event_name\" = 'PageView')) \n",
    "        \n",
    "\"\"\"\n",
    "    \n",
    "    country_constraint = \"\"\" AND \n",
    "            (\"regexp_extract\"(\"context\".\"page_url\", '^(([^:/?#]+):)?(//([^/?#]*))?([^?#]*)(\\?([^#]*))?(#(.*))?', 4) \n",
    "            LIKE '%{}%')\"\"\".format(country_code_to_url_core[country_code])\n",
    "\n",
    "    \n",
    "    partition_constraints = \"\\n AND (\"\n",
    "    partition_constraints += \"\\n \" + athena_year_partition + \" >= '%.4i'\"%start_year_inclusive\n",
    "    partition_constraints += \"\\n AND \" + athena_month_partition + \" >= '%.2i'\"%start_month_inclusive\n",
    "    partition_constraints += \"\\n AND \" + athena_day_partition+ \" >= '%.2i'\"%start_day_inclusive\n",
    "    \n",
    "    #TOD: >> I think this needs some adjustment for when you roll between months.\n",
    "    partition_constraints += \"\\n AND \" + athena_year_partition + \" <= '%.4i'\"%end_year_inclusive\n",
    "    partition_constraints += \"\\n AND \" + athena_month_partition + \" <= '%.2i'\"%end_month_inclusive\n",
    "    partition_constraints += \"\\n AND \" + athena_day_partition+ \" <= '%.2i'\"%end_day_inclusive\n",
    "    partition_constraints += \"\\n) \"\n",
    "     # TODO: + datetime further constraints\n",
    "    \n",
    "    query = query + \" \"+country_constraint\n",
    "    query = query+ \" \" + partition_constraints\n",
    "    \n",
    "    if limit:\n",
    "        query += \" LIMIT %i\"%limit\n",
    "    \n",
    "    return query\n",
    "    \n",
    "def get_blog_events(country_code, from_datetime, to_datetime, limit=None):\n",
    "    #TODO: ideally you break into chunks during reading and replace various strings with post_id and set data types to more efficient ones (category)\n",
    "    start_time =  datetime.now()\n",
    "    print(\"Starting athena events query at %s\"% start_time.isoformat())\n",
    "    print(\"This might take some time\")\n",
    "    \n",
    "    query = create_blog_pageview_and_scroll_query(country_code, from_datetime, to_datetime, limit=limit)\n",
    "    \n",
    "    print(\"Query : \"+ query)\n",
    "    \n",
    "    events = pd.read_sql(query, athena_conn)\n",
    "    \n",
    "    end_time =  datetime.now()\n",
    "    print(\"Ended query at %s\"%end_time.isoformat())\n",
    "    dt = end_time-start_time\n",
    "    print(\"Query took %s\" %dt)\n",
    "    return events\n",
    "    "
   ]
  },
  {
   "cell_type": "code",
   "execution_count": 151,
   "metadata": {},
   "outputs": [
    {
     "name": "stdout",
     "output_type": "stream",
     "text": [
      "Starting athena events query at 2019-10-21T09:12:51.922615\n",
      "This might take some time\n",
      "Getting the pageview and read events from 2019-10-13T00:00:00 to 2019-10-21T00:00:00\n",
      "Query : \n",
      "    SELECT\n",
      "      CAST(\"from_iso8601_timestamp\"(\"sent_at\") AS timestamp) \"sent_at_timestamp\"\n",
      "    , \"sent_at\"\n",
      "    , \"type\"\n",
      "    , \"body\".\"event_name\"\n",
      "    , \"body\".\"data\".\"status\"\n",
      "    , (CASE \"body\".\"data\".\"status\" \n",
      "        WHEN 'Page Bottom Reached' THEN 100 \n",
      "        WHEN 'Article Reading Completed' THEN 100 WHEN 'Article Body 100' THEN 100 \n",
      "        WHEN 'Article Reading 75%' THEN 75 WHEN 'Article Body 75' THEN 75 \n",
      "        WHEN 'Article Reading 50%' THEN 50 WHEN 'Article Body 50' THEN 50 \n",
      "        WHEN 'Article Reading 25%' THEN 25 WHEN 'Article Body 25' THEN 25\n",
      "        WHEN 'Article Reading Started' THEN 0 WHEN 'Article Loaded' THEN 0 \n",
      "        ELSE 0 END) \"article_read_depth\"\n",
      "    , \"user\".\"anonymous_id\"\n",
      "    , \"split_part\"(\"context\".\"page_url\", '?', 1) \"canonical_url\"\n",
      "    , \"context\".\"page_url\"\n",
      "    , \"context\".\"referrer\"\n",
      "    , CAST(\"strpos\"(\"context\".\"page_url\", '?amp') AS boolean) \"is_amp\"\n",
      "    , CAST(((\"context\".\"page_url\" LIKE '%utm_medium%') OR (\"context\".\"page_url\" LIKE '%gclid%')) AS boolean) \"has_marketing_param\"\n",
      "    , CAST(\"strpos\"(\"context\".\"page_url\", '://www3.') AS boolean) \"is_test\"\n",
      "    , CAST(\"strpos\"(\"context\".\"page_url\", '://www.') AS boolean) \"is_control\"\n",
      "    \n",
      "        , context.device.type as device_type\n",
      "        , context.browser.name as browser_name\n",
      "        , context.browser.major as browser_major_version\n",
      "        , context.browser.version as browser_version\n",
      "        \n",
      "        , context.operating_system.name as operating_system_name\n",
      "        , context.operating_system.version as operating_system_version\n",
      "        , context.user_agent as user_agent\n",
      "        \n",
      "    FROM\n",
      "      ms_data_processed_production.ms_data_stream_production_processed\n",
      "    WHERE \n",
      "        ((\"body\".\"event_name\" = 'Reading') OR (\"body\".\"event_name\" = 'PageView')) \n",
      "        \n",
      "  AND \n",
      "            (\"regexp_extract\"(\"context\".\"page_url\", '^(([^:/?#]+):)?(//([^/?#]*))?([^?#]*)(\\?([^#]*))?(#(.*))?', 4) \n",
      "            LIKE '%moneysmart.id%') \n",
      " AND (\n",
      " partition_0 >= '2019'\n",
      " AND partition_1 >= '10'\n",
      " AND partition_2 >= '13'\n",
      " AND partition_0 <= '2019'\n",
      " AND partition_1 <= '10'\n",
      " AND partition_2 <= '21'\n",
      ") \n",
      "Ended query at 2019-10-21T09:18:30.645894\n",
      "Query took 0:05:38.723279\n"
     ]
    }
   ],
   "source": [
    "events = get_blog_events(country_code_to_analyse, analysis_start_time, analysis_end_time, limit =None)\n"
   ]
  },
  {
   "cell_type": "code",
   "execution_count": 152,
   "metadata": {},
   "outputs": [
    {
     "name": "stdout",
     "output_type": "stream",
     "text": [
      "Got 836324 events\n"
     ]
    },
    {
     "data": {
      "text/html": [
       "<div>\n",
       "<style scoped>\n",
       "    .dataframe tbody tr th:only-of-type {\n",
       "        vertical-align: middle;\n",
       "    }\n",
       "\n",
       "    .dataframe tbody tr th {\n",
       "        vertical-align: top;\n",
       "    }\n",
       "\n",
       "    .dataframe thead th {\n",
       "        text-align: right;\n",
       "    }\n",
       "</style>\n",
       "<table border=\"1\" class=\"dataframe\">\n",
       "  <thead>\n",
       "    <tr style=\"text-align: right;\">\n",
       "      <th></th>\n",
       "      <th>sent_at_timestamp</th>\n",
       "      <th>sent_at</th>\n",
       "      <th>type</th>\n",
       "      <th>event_name</th>\n",
       "      <th>status</th>\n",
       "      <th>article_read_depth</th>\n",
       "      <th>anonymous_id</th>\n",
       "      <th>canonical_url</th>\n",
       "      <th>page_url</th>\n",
       "      <th>referrer</th>\n",
       "      <th>...</th>\n",
       "      <th>has_marketing_param</th>\n",
       "      <th>is_test</th>\n",
       "      <th>is_control</th>\n",
       "      <th>device_type</th>\n",
       "      <th>browser_name</th>\n",
       "      <th>browser_major_version</th>\n",
       "      <th>browser_version</th>\n",
       "      <th>operating_system_name</th>\n",
       "      <th>operating_system_version</th>\n",
       "      <th>user_agent</th>\n",
       "    </tr>\n",
       "  </thead>\n",
       "  <tbody>\n",
       "    <tr>\n",
       "      <th>0</th>\n",
       "      <td>2019-10-12 18:52:28.633</td>\n",
       "      <td>2019-10-12T18:52:28.633Z</td>\n",
       "      <td>page</td>\n",
       "      <td>PageView</td>\n",
       "      <td>None</td>\n",
       "      <td>0</td>\n",
       "      <td>4a298a33-84b7-444e-96d7-37fe20889347</td>\n",
       "      <td>https://www.moneysmart.id/mobil-arteria-dahlan/</td>\n",
       "      <td>https://www.moneysmart.id/mobil-arteria-dahlan...</td>\n",
       "      <td>http://m.facebook.com/</td>\n",
       "      <td>...</td>\n",
       "      <td>True</td>\n",
       "      <td>False</td>\n",
       "      <td>True</td>\n",
       "      <td>mobile</td>\n",
       "      <td>Facebook</td>\n",
       "      <td>242</td>\n",
       "      <td>242.0.0.43.119</td>\n",
       "      <td>Android</td>\n",
       "      <td>7.1.1</td>\n",
       "      <td>Mozilla/5.0 (Linux; Android 7.1.1; CPH1717 Bui...</td>\n",
       "    </tr>\n",
       "    <tr>\n",
       "      <th>1</th>\n",
       "      <td>2019-10-12 18:52:29.893</td>\n",
       "      <td>2019-10-12T18:52:29.893Z</td>\n",
       "      <td>page</td>\n",
       "      <td>PageView</td>\n",
       "      <td>None</td>\n",
       "      <td>0</td>\n",
       "      <td>29739869-94bd-4c21-8d89-751ef2b204b6</td>\n",
       "      <td>https://www.moneysmart.id/keluarga-halilintar-...</td>\n",
       "      <td>https://www.moneysmart.id/keluarga-halilintar-...</td>\n",
       "      <td></td>\n",
       "      <td>...</td>\n",
       "      <td>True</td>\n",
       "      <td>False</td>\n",
       "      <td>True</td>\n",
       "      <td>mobile</td>\n",
       "      <td>None</td>\n",
       "      <td>None</td>\n",
       "      <td>None</td>\n",
       "      <td>Android</td>\n",
       "      <td>27</td>\n",
       "      <td>BacaBerita App/11.5.1 (Linux; U; Android 27; e...</td>\n",
       "    </tr>\n",
       "    <tr>\n",
       "      <th>2</th>\n",
       "      <td>2019-10-12 18:52:29.160</td>\n",
       "      <td>2019-10-12T18:52:29.160Z</td>\n",
       "      <td>page</td>\n",
       "      <td>PageView</td>\n",
       "      <td>None</td>\n",
       "      <td>0</td>\n",
       "      <td>a954d9ba-b4ee-47d2-b09e-cd0ace077603</td>\n",
       "      <td>https://www.moneysmart.id/tahir-masuk-jajajara...</td>\n",
       "      <td>https://www.moneysmart.id/tahir-masuk-jajajara...</td>\n",
       "      <td></td>\n",
       "      <td>...</td>\n",
       "      <td>True</td>\n",
       "      <td>False</td>\n",
       "      <td>True</td>\n",
       "      <td>mobile</td>\n",
       "      <td>None</td>\n",
       "      <td>None</td>\n",
       "      <td>None</td>\n",
       "      <td>Android</td>\n",
       "      <td>28</td>\n",
       "      <td>BacaBerita App/12.2.2 (Linux; U; Android 28; e...</td>\n",
       "    </tr>\n",
       "    <tr>\n",
       "      <th>3</th>\n",
       "      <td>2019-10-12 18:52:30.135</td>\n",
       "      <td>2019-10-12T18:52:30.135Z</td>\n",
       "      <td>event</td>\n",
       "      <td>Reading</td>\n",
       "      <td>Article Body 50</td>\n",
       "      <td>50</td>\n",
       "      <td>f25077c7-cfbc-49ab-a6c9-262a2376be45</td>\n",
       "      <td>https://www3.moneysmart.id/keluarga-halilintar...</td>\n",
       "      <td>https://www3.moneysmart.id/keluarga-halilintar...</td>\n",
       "      <td>android-app://com.google.android.googlequickse...</td>\n",
       "      <td>...</td>\n",
       "      <td>False</td>\n",
       "      <td>True</td>\n",
       "      <td>False</td>\n",
       "      <td>mobile</td>\n",
       "      <td>Chrome</td>\n",
       "      <td>77</td>\n",
       "      <td>77.0.3865.73</td>\n",
       "      <td>Android</td>\n",
       "      <td>9</td>\n",
       "      <td>Mozilla/5.0 (Linux; Android 9; SM-A730F) Apple...</td>\n",
       "    </tr>\n",
       "    <tr>\n",
       "      <th>4</th>\n",
       "      <td>2019-10-12 18:52:29.005</td>\n",
       "      <td>2019-10-12T18:52:29.005Z</td>\n",
       "      <td>event</td>\n",
       "      <td>Reading</td>\n",
       "      <td>Article Body 100</td>\n",
       "      <td>100</td>\n",
       "      <td>94937adc-1315-4484-a47d-43895385beda</td>\n",
       "      <td>https://www.moneysmart.id/presiden-ri-dan-peso...</td>\n",
       "      <td>https://www.moneysmart.id/presiden-ri-dan-peso...</td>\n",
       "      <td>http://m.facebook.com/</td>\n",
       "      <td>...</td>\n",
       "      <td>True</td>\n",
       "      <td>False</td>\n",
       "      <td>True</td>\n",
       "      <td>mobile</td>\n",
       "      <td>Facebook</td>\n",
       "      <td>242</td>\n",
       "      <td>242.0.0.43.119</td>\n",
       "      <td>Android</td>\n",
       "      <td>7.1.2</td>\n",
       "      <td>Mozilla/5.0 (Linux; Android 7.1.2; Redmi Note ...</td>\n",
       "    </tr>\n",
       "  </tbody>\n",
       "</table>\n",
       "<p>5 rows × 21 columns</p>\n",
       "</div>"
      ],
      "text/plain": [
       "        sent_at_timestamp                   sent_at   type event_name  \\\n",
       "0 2019-10-12 18:52:28.633  2019-10-12T18:52:28.633Z   page   PageView   \n",
       "1 2019-10-12 18:52:29.893  2019-10-12T18:52:29.893Z   page   PageView   \n",
       "2 2019-10-12 18:52:29.160  2019-10-12T18:52:29.160Z   page   PageView   \n",
       "3 2019-10-12 18:52:30.135  2019-10-12T18:52:30.135Z  event    Reading   \n",
       "4 2019-10-12 18:52:29.005  2019-10-12T18:52:29.005Z  event    Reading   \n",
       "\n",
       "             status  article_read_depth                          anonymous_id  \\\n",
       "0              None                   0  4a298a33-84b7-444e-96d7-37fe20889347   \n",
       "1              None                   0  29739869-94bd-4c21-8d89-751ef2b204b6   \n",
       "2              None                   0  a954d9ba-b4ee-47d2-b09e-cd0ace077603   \n",
       "3   Article Body 50                  50  f25077c7-cfbc-49ab-a6c9-262a2376be45   \n",
       "4  Article Body 100                 100  94937adc-1315-4484-a47d-43895385beda   \n",
       "\n",
       "                                       canonical_url  \\\n",
       "0    https://www.moneysmart.id/mobil-arteria-dahlan/   \n",
       "1  https://www.moneysmart.id/keluarga-halilintar-...   \n",
       "2  https://www.moneysmart.id/tahir-masuk-jajajara...   \n",
       "3  https://www3.moneysmart.id/keluarga-halilintar...   \n",
       "4  https://www.moneysmart.id/presiden-ri-dan-peso...   \n",
       "\n",
       "                                            page_url  \\\n",
       "0  https://www.moneysmart.id/mobil-arteria-dahlan...   \n",
       "1  https://www.moneysmart.id/keluarga-halilintar-...   \n",
       "2  https://www.moneysmart.id/tahir-masuk-jajajara...   \n",
       "3  https://www3.moneysmart.id/keluarga-halilintar...   \n",
       "4  https://www.moneysmart.id/presiden-ri-dan-peso...   \n",
       "\n",
       "                                            referrer  ...  \\\n",
       "0                             http://m.facebook.com/  ...   \n",
       "1                                                     ...   \n",
       "2                                                     ...   \n",
       "3  android-app://com.google.android.googlequickse...  ...   \n",
       "4                             http://m.facebook.com/  ...   \n",
       "\n",
       "   has_marketing_param  is_test  is_control  device_type browser_name  \\\n",
       "0                 True    False        True       mobile     Facebook   \n",
       "1                 True    False        True       mobile         None   \n",
       "2                 True    False        True       mobile         None   \n",
       "3                False     True       False       mobile       Chrome   \n",
       "4                 True    False        True       mobile     Facebook   \n",
       "\n",
       "  browser_major_version browser_version operating_system_name  \\\n",
       "0                   242  242.0.0.43.119               Android   \n",
       "1                  None            None               Android   \n",
       "2                  None            None               Android   \n",
       "3                    77    77.0.3865.73               Android   \n",
       "4                   242  242.0.0.43.119               Android   \n",
       "\n",
       "  operating_system_version                                         user_agent  \n",
       "0                    7.1.1  Mozilla/5.0 (Linux; Android 7.1.1; CPH1717 Bui...  \n",
       "1                       27  BacaBerita App/11.5.1 (Linux; U; Android 27; e...  \n",
       "2                       28  BacaBerita App/12.2.2 (Linux; U; Android 28; e...  \n",
       "3                        9  Mozilla/5.0 (Linux; Android 9; SM-A730F) Apple...  \n",
       "4                    7.1.2  Mozilla/5.0 (Linux; Android 7.1.2; Redmi Note ...  \n",
       "\n",
       "[5 rows x 21 columns]"
      ]
     },
     "execution_count": 152,
     "metadata": {},
     "output_type": "execute_result"
    }
   ],
   "source": [
    "print(\"Got %i events\"%len(events))\n",
    "events.head(5)"
   ]
  },
  {
   "cell_type": "code",
   "execution_count": 153,
   "metadata": {},
   "outputs": [],
   "source": [
    "pageview_events = events[events.event_name==\"PageView\"]"
   ]
  },
  {
   "cell_type": "code",
   "execution_count": 154,
   "metadata": {},
   "outputs": [
    {
     "data": {
      "text/html": [
       "<div>\n",
       "<style scoped>\n",
       "    .dataframe tbody tr th:only-of-type {\n",
       "        vertical-align: middle;\n",
       "    }\n",
       "\n",
       "    .dataframe tbody tr th {\n",
       "        vertical-align: top;\n",
       "    }\n",
       "\n",
       "    .dataframe thead th {\n",
       "        text-align: right;\n",
       "    }\n",
       "</style>\n",
       "<table border=\"1\" class=\"dataframe\">\n",
       "  <thead>\n",
       "    <tr style=\"text-align: right;\">\n",
       "      <th></th>\n",
       "      <th>sent_at_timestamp</th>\n",
       "      <th>sent_at</th>\n",
       "      <th>type</th>\n",
       "      <th>event_name</th>\n",
       "      <th>status</th>\n",
       "      <th>article_read_depth</th>\n",
       "      <th>anonymous_id</th>\n",
       "      <th>canonical_url</th>\n",
       "      <th>page_url</th>\n",
       "      <th>referrer</th>\n",
       "      <th>...</th>\n",
       "      <th>has_marketing_param</th>\n",
       "      <th>is_test</th>\n",
       "      <th>is_control</th>\n",
       "      <th>device_type</th>\n",
       "      <th>browser_name</th>\n",
       "      <th>browser_major_version</th>\n",
       "      <th>browser_version</th>\n",
       "      <th>operating_system_name</th>\n",
       "      <th>operating_system_version</th>\n",
       "      <th>user_agent</th>\n",
       "    </tr>\n",
       "  </thead>\n",
       "  <tbody>\n",
       "    <tr>\n",
       "      <th>0</th>\n",
       "      <td>2019-10-12 18:52:28.633</td>\n",
       "      <td>2019-10-12T18:52:28.633Z</td>\n",
       "      <td>page</td>\n",
       "      <td>PageView</td>\n",
       "      <td>None</td>\n",
       "      <td>0</td>\n",
       "      <td>4a298a33-84b7-444e-96d7-37fe20889347</td>\n",
       "      <td>https://www.moneysmart.id/mobil-arteria-dahlan/</td>\n",
       "      <td>https://www.moneysmart.id/mobil-arteria-dahlan...</td>\n",
       "      <td>http://m.facebook.com/</td>\n",
       "      <td>...</td>\n",
       "      <td>True</td>\n",
       "      <td>False</td>\n",
       "      <td>True</td>\n",
       "      <td>mobile</td>\n",
       "      <td>Facebook</td>\n",
       "      <td>242</td>\n",
       "      <td>242.0.0.43.119</td>\n",
       "      <td>Android</td>\n",
       "      <td>7.1.1</td>\n",
       "      <td>Mozilla/5.0 (Linux; Android 7.1.1; CPH1717 Bui...</td>\n",
       "    </tr>\n",
       "    <tr>\n",
       "      <th>1</th>\n",
       "      <td>2019-10-12 18:52:29.893</td>\n",
       "      <td>2019-10-12T18:52:29.893Z</td>\n",
       "      <td>page</td>\n",
       "      <td>PageView</td>\n",
       "      <td>None</td>\n",
       "      <td>0</td>\n",
       "      <td>29739869-94bd-4c21-8d89-751ef2b204b6</td>\n",
       "      <td>https://www.moneysmart.id/keluarga-halilintar-...</td>\n",
       "      <td>https://www.moneysmart.id/keluarga-halilintar-...</td>\n",
       "      <td></td>\n",
       "      <td>...</td>\n",
       "      <td>True</td>\n",
       "      <td>False</td>\n",
       "      <td>True</td>\n",
       "      <td>mobile</td>\n",
       "      <td>None</td>\n",
       "      <td>None</td>\n",
       "      <td>None</td>\n",
       "      <td>Android</td>\n",
       "      <td>27</td>\n",
       "      <td>BacaBerita App/11.5.1 (Linux; U; Android 27; e...</td>\n",
       "    </tr>\n",
       "    <tr>\n",
       "      <th>2</th>\n",
       "      <td>2019-10-12 18:52:29.160</td>\n",
       "      <td>2019-10-12T18:52:29.160Z</td>\n",
       "      <td>page</td>\n",
       "      <td>PageView</td>\n",
       "      <td>None</td>\n",
       "      <td>0</td>\n",
       "      <td>a954d9ba-b4ee-47d2-b09e-cd0ace077603</td>\n",
       "      <td>https://www.moneysmart.id/tahir-masuk-jajajara...</td>\n",
       "      <td>https://www.moneysmart.id/tahir-masuk-jajajara...</td>\n",
       "      <td></td>\n",
       "      <td>...</td>\n",
       "      <td>True</td>\n",
       "      <td>False</td>\n",
       "      <td>True</td>\n",
       "      <td>mobile</td>\n",
       "      <td>None</td>\n",
       "      <td>None</td>\n",
       "      <td>None</td>\n",
       "      <td>Android</td>\n",
       "      <td>28</td>\n",
       "      <td>BacaBerita App/12.2.2 (Linux; U; Android 28; e...</td>\n",
       "    </tr>\n",
       "    <tr>\n",
       "      <th>5</th>\n",
       "      <td>2019-10-12 18:52:27.833</td>\n",
       "      <td>2019-10-12T18:52:27.833Z</td>\n",
       "      <td>page</td>\n",
       "      <td>PageView</td>\n",
       "      <td>None</td>\n",
       "      <td>0</td>\n",
       "      <td>6e600b3b-a905-4281-b9cb-8a9c595276bf</td>\n",
       "      <td>https://www.moneysmart.id/film-live-action-dis...</td>\n",
       "      <td>https://www.moneysmart.id/film-live-action-dis...</td>\n",
       "      <td>https://www.google.co.id/search?q=film+powerfu...</td>\n",
       "      <td>...</td>\n",
       "      <td>False</td>\n",
       "      <td>False</td>\n",
       "      <td>True</td>\n",
       "      <td>mobile</td>\n",
       "      <td>UCBrowser</td>\n",
       "      <td>12</td>\n",
       "      <td>12.13.0.1207</td>\n",
       "      <td>Android</td>\n",
       "      <td>8.1.0</td>\n",
       "      <td>Mozilla/5.0 (Linux; U; Android 8.1.0; en-US; v...</td>\n",
       "    </tr>\n",
       "    <tr>\n",
       "      <th>7</th>\n",
       "      <td>2019-10-12 18:52:30.706</td>\n",
       "      <td>2019-10-12T18:52:30.706Z</td>\n",
       "      <td>page</td>\n",
       "      <td>PageView</td>\n",
       "      <td>None</td>\n",
       "      <td>0</td>\n",
       "      <td>92395e5b-2486-4f9a-bac6-c6b7e9371068</td>\n",
       "      <td>https://www.moneysmart.id/keluarga-halilintar-...</td>\n",
       "      <td>https://www.moneysmart.id/keluarga-halilintar-...</td>\n",
       "      <td></td>\n",
       "      <td>...</td>\n",
       "      <td>True</td>\n",
       "      <td>False</td>\n",
       "      <td>True</td>\n",
       "      <td>mobile</td>\n",
       "      <td>None</td>\n",
       "      <td>None</td>\n",
       "      <td>None</td>\n",
       "      <td>Android</td>\n",
       "      <td>27</td>\n",
       "      <td>BacaBerita App/12.1.4 (Linux; U; Android 27; e...</td>\n",
       "    </tr>\n",
       "  </tbody>\n",
       "</table>\n",
       "<p>5 rows × 21 columns</p>\n",
       "</div>"
      ],
      "text/plain": [
       "        sent_at_timestamp                   sent_at  type event_name status  \\\n",
       "0 2019-10-12 18:52:28.633  2019-10-12T18:52:28.633Z  page   PageView   None   \n",
       "1 2019-10-12 18:52:29.893  2019-10-12T18:52:29.893Z  page   PageView   None   \n",
       "2 2019-10-12 18:52:29.160  2019-10-12T18:52:29.160Z  page   PageView   None   \n",
       "5 2019-10-12 18:52:27.833  2019-10-12T18:52:27.833Z  page   PageView   None   \n",
       "7 2019-10-12 18:52:30.706  2019-10-12T18:52:30.706Z  page   PageView   None   \n",
       "\n",
       "   article_read_depth                          anonymous_id  \\\n",
       "0                   0  4a298a33-84b7-444e-96d7-37fe20889347   \n",
       "1                   0  29739869-94bd-4c21-8d89-751ef2b204b6   \n",
       "2                   0  a954d9ba-b4ee-47d2-b09e-cd0ace077603   \n",
       "5                   0  6e600b3b-a905-4281-b9cb-8a9c595276bf   \n",
       "7                   0  92395e5b-2486-4f9a-bac6-c6b7e9371068   \n",
       "\n",
       "                                       canonical_url  \\\n",
       "0    https://www.moneysmart.id/mobil-arteria-dahlan/   \n",
       "1  https://www.moneysmart.id/keluarga-halilintar-...   \n",
       "2  https://www.moneysmart.id/tahir-masuk-jajajara...   \n",
       "5  https://www.moneysmart.id/film-live-action-dis...   \n",
       "7  https://www.moneysmart.id/keluarga-halilintar-...   \n",
       "\n",
       "                                            page_url  \\\n",
       "0  https://www.moneysmart.id/mobil-arteria-dahlan...   \n",
       "1  https://www.moneysmart.id/keluarga-halilintar-...   \n",
       "2  https://www.moneysmart.id/tahir-masuk-jajajara...   \n",
       "5  https://www.moneysmart.id/film-live-action-dis...   \n",
       "7  https://www.moneysmart.id/keluarga-halilintar-...   \n",
       "\n",
       "                                            referrer  ...  \\\n",
       "0                             http://m.facebook.com/  ...   \n",
       "1                                                     ...   \n",
       "2                                                     ...   \n",
       "5  https://www.google.co.id/search?q=film+powerfu...  ...   \n",
       "7                                                     ...   \n",
       "\n",
       "   has_marketing_param  is_test  is_control  device_type browser_name  \\\n",
       "0                 True    False        True       mobile     Facebook   \n",
       "1                 True    False        True       mobile         None   \n",
       "2                 True    False        True       mobile         None   \n",
       "5                False    False        True       mobile    UCBrowser   \n",
       "7                 True    False        True       mobile         None   \n",
       "\n",
       "  browser_major_version browser_version operating_system_name  \\\n",
       "0                   242  242.0.0.43.119               Android   \n",
       "1                  None            None               Android   \n",
       "2                  None            None               Android   \n",
       "5                    12    12.13.0.1207               Android   \n",
       "7                  None            None               Android   \n",
       "\n",
       "  operating_system_version                                         user_agent  \n",
       "0                    7.1.1  Mozilla/5.0 (Linux; Android 7.1.1; CPH1717 Bui...  \n",
       "1                       27  BacaBerita App/11.5.1 (Linux; U; Android 27; e...  \n",
       "2                       28  BacaBerita App/12.2.2 (Linux; U; Android 28; e...  \n",
       "5                    8.1.0  Mozilla/5.0 (Linux; U; Android 8.1.0; en-US; v...  \n",
       "7                       27  BacaBerita App/12.1.4 (Linux; U; Android 27; e...  \n",
       "\n",
       "[5 rows x 21 columns]"
      ]
     },
     "execution_count": 154,
     "metadata": {},
     "output_type": "execute_result"
    }
   ],
   "source": [
    "pageview_events.head()"
   ]
  },
  {
   "cell_type": "code",
   "execution_count": null,
   "metadata": {},
   "outputs": [],
   "source": []
  },
  {
   "cell_type": "code",
   "execution_count": 106,
   "metadata": {},
   "outputs": [
    {
     "data": {
      "text/html": [
       "<div>\n",
       "<style scoped>\n",
       "    .dataframe tbody tr th:only-of-type {\n",
       "        vertical-align: middle;\n",
       "    }\n",
       "\n",
       "    .dataframe tbody tr th {\n",
       "        vertical-align: top;\n",
       "    }\n",
       "\n",
       "    .dataframe thead th {\n",
       "        text-align: right;\n",
       "    }\n",
       "</style>\n",
       "<table border=\"1\" class=\"dataframe\">\n",
       "  <thead>\n",
       "    <tr style=\"text-align: right;\">\n",
       "      <th></th>\n",
       "      <th>sent_at_timestamp</th>\n",
       "      <th>sent_at</th>\n",
       "      <th>type</th>\n",
       "      <th>event_name</th>\n",
       "      <th>status</th>\n",
       "      <th>article_read_depth</th>\n",
       "      <th>anonymous_id</th>\n",
       "      <th>canonical_url</th>\n",
       "      <th>page_url</th>\n",
       "      <th>referrer</th>\n",
       "      <th>is_amp</th>\n",
       "      <th>has_marketing_param</th>\n",
       "      <th>is_test</th>\n",
       "      <th>is_control</th>\n",
       "    </tr>\n",
       "  </thead>\n",
       "  <tbody>\n",
       "    <tr>\n",
       "      <th>0</th>\n",
       "      <td>2019-09-19 19:44:10.463</td>\n",
       "      <td>2019-09-19T19:44:10.463Z</td>\n",
       "      <td>page</td>\n",
       "      <td>PageView</td>\n",
       "      <td>None</td>\n",
       "      <td>0</td>\n",
       "      <td>1ca9fcd7-16c8-4d12-85bb-da3ab4c0ffc4</td>\n",
       "      <td>https://www.moneysmart.id/koleksi-kendaraan-bj...</td>\n",
       "      <td>https://www.moneysmart.id/koleksi-kendaraan-bj...</td>\n",
       "      <td>http://m.facebook.com/</td>\n",
       "      <td>False</td>\n",
       "      <td>True</td>\n",
       "      <td>False</td>\n",
       "      <td>True</td>\n",
       "    </tr>\n",
       "    <tr>\n",
       "      <th>1</th>\n",
       "      <td>2019-09-19 19:44:09.133</td>\n",
       "      <td>2019-09-19T19:44:09.133Z</td>\n",
       "      <td>event</td>\n",
       "      <td>Reading</td>\n",
       "      <td>Article Body 100</td>\n",
       "      <td>100</td>\n",
       "      <td>c3e6e222-70f3-4181-9c2d-f51592710a68</td>\n",
       "      <td>https://www.moneysmart.id/artis-indonesia-dulu...</td>\n",
       "      <td>https://www.moneysmart.id/artis-indonesia-dulu...</td>\n",
       "      <td>http://m.facebook.com/</td>\n",
       "      <td>False</td>\n",
       "      <td>True</td>\n",
       "      <td>False</td>\n",
       "      <td>True</td>\n",
       "    </tr>\n",
       "    <tr>\n",
       "      <th>2</th>\n",
       "      <td>2019-09-19 19:56:04.395</td>\n",
       "      <td>2019-09-19T19:56:04.395000+00:00</td>\n",
       "      <td>event</td>\n",
       "      <td>Reading</td>\n",
       "      <td>Article Body 50</td>\n",
       "      <td>50</td>\n",
       "      <td>None</td>\n",
       "      <td>https://www.moneysmart.id/4-cara-nonton-stream...</td>\n",
       "      <td>https://www.moneysmart.id/4-cara-nonton-stream...</td>\n",
       "      <td></td>\n",
       "      <td>True</td>\n",
       "      <td>False</td>\n",
       "      <td>False</td>\n",
       "      <td>True</td>\n",
       "    </tr>\n",
       "    <tr>\n",
       "      <th>3</th>\n",
       "      <td>2019-09-19 19:56:01.573</td>\n",
       "      <td>2019-09-19T19:56:01.573Z</td>\n",
       "      <td>page</td>\n",
       "      <td>PageView</td>\n",
       "      <td>None</td>\n",
       "      <td>0</td>\n",
       "      <td>9e811884-49e2-4032-9540-0c2a54734c92</td>\n",
       "      <td>https://www.moneysmart.id/fakta-sandhyca-putri...</td>\n",
       "      <td>https://www.moneysmart.id/fakta-sandhyca-putri...</td>\n",
       "      <td>http://m.facebook.com/</td>\n",
       "      <td>False</td>\n",
       "      <td>True</td>\n",
       "      <td>False</td>\n",
       "      <td>True</td>\n",
       "    </tr>\n",
       "    <tr>\n",
       "      <th>4</th>\n",
       "      <td>2019-09-19 19:56:02.491</td>\n",
       "      <td>2019-09-19T19:56:02.491Z</td>\n",
       "      <td>page</td>\n",
       "      <td>PageView</td>\n",
       "      <td>None</td>\n",
       "      <td>0</td>\n",
       "      <td>4ef346ca-f0af-4dfb-b475-86d781ddce5c</td>\n",
       "      <td>https://www.moneysmart.id/saham-perusahaan-mer...</td>\n",
       "      <td>https://www.moneysmart.id/saham-perusahaan-mer...</td>\n",
       "      <td></td>\n",
       "      <td>False</td>\n",
       "      <td>True</td>\n",
       "      <td>False</td>\n",
       "      <td>True</td>\n",
       "    </tr>\n",
       "  </tbody>\n",
       "</table>\n",
       "</div>"
      ],
      "text/plain": [
       "        sent_at_timestamp                           sent_at   type event_name  \\\n",
       "0 2019-09-19 19:44:10.463          2019-09-19T19:44:10.463Z   page   PageView   \n",
       "1 2019-09-19 19:44:09.133          2019-09-19T19:44:09.133Z  event    Reading   \n",
       "2 2019-09-19 19:56:04.395  2019-09-19T19:56:04.395000+00:00  event    Reading   \n",
       "3 2019-09-19 19:56:01.573          2019-09-19T19:56:01.573Z   page   PageView   \n",
       "4 2019-09-19 19:56:02.491          2019-09-19T19:56:02.491Z   page   PageView   \n",
       "\n",
       "             status  article_read_depth                          anonymous_id  \\\n",
       "0              None                   0  1ca9fcd7-16c8-4d12-85bb-da3ab4c0ffc4   \n",
       "1  Article Body 100                 100  c3e6e222-70f3-4181-9c2d-f51592710a68   \n",
       "2   Article Body 50                  50                                  None   \n",
       "3              None                   0  9e811884-49e2-4032-9540-0c2a54734c92   \n",
       "4              None                   0  4ef346ca-f0af-4dfb-b475-86d781ddce5c   \n",
       "\n",
       "                                       canonical_url  \\\n",
       "0  https://www.moneysmart.id/koleksi-kendaraan-bj...   \n",
       "1  https://www.moneysmart.id/artis-indonesia-dulu...   \n",
       "2  https://www.moneysmart.id/4-cara-nonton-stream...   \n",
       "3  https://www.moneysmart.id/fakta-sandhyca-putri...   \n",
       "4  https://www.moneysmart.id/saham-perusahaan-mer...   \n",
       "\n",
       "                                            page_url                referrer  \\\n",
       "0  https://www.moneysmart.id/koleksi-kendaraan-bj...  http://m.facebook.com/   \n",
       "1  https://www.moneysmart.id/artis-indonesia-dulu...  http://m.facebook.com/   \n",
       "2  https://www.moneysmart.id/4-cara-nonton-stream...                           \n",
       "3  https://www.moneysmart.id/fakta-sandhyca-putri...  http://m.facebook.com/   \n",
       "4  https://www.moneysmart.id/saham-perusahaan-mer...                           \n",
       "\n",
       "   is_amp  has_marketing_param  is_test  is_control  \n",
       "0   False                 True    False        True  \n",
       "1   False                 True    False        True  \n",
       "2    True                False    False        True  \n",
       "3   False                 True    False        True  \n",
       "4   False                 True    False        True  "
      ]
     },
     "execution_count": 106,
     "metadata": {},
     "output_type": "execute_result"
    }
   ],
   "source": [
    "events.head()"
   ]
  },
  {
   "cell_type": "markdown",
   "metadata": {},
   "source": [
    "## Convert Raw Pageview Events Into Scroll Depth Summary\n",
    "\n",
    "Basically re-creating:\n",
    "\n",
    "```\n",
    "CREATE OR REPLACE VIEW id_pageview_metrics AS \n",
    "SELECT\n",
    "  \"anonymous_id\"\n",
    ", \"canonical_url\"\n",
    ", \"substr\"(\"sent_at\", 1, 10) \"day_str\"\n",
    ", \"min\"(\"sent_at_timestamp\") \"from_time\"\n",
    ", \"max\"(\"sent_at_timestamp\") \"to_time\"\n",
    ", \"date_diff\"('second', \"min\"(\"sent_at_timestamp\"), \"max\"(\"sent_at_timestamp\")) \"time_on_page_seconds\"\n",
    ", \"max\"(\"is_test\") \"is_test\"\n",
    ", \"max\"(\"article_read_depth\") \"max_article_read_depth\"\n",
    "FROM\n",
    "  id_ab_test\n",
    "WHERE (NOT \"is_amp\")\n",
    "GROUP BY 1, 2, 3   >>> should it not have is_test in the group by????\n",
    "```"
   ]
  },
  {
   "cell_type": "code",
   "execution_count": 113,
   "metadata": {},
   "outputs": [
    {
     "ename": "TypeError",
     "evalue": "unsupported operand type(s) for -: 'function' and 'function'",
     "output_type": "error",
     "traceback": [
      "\u001b[0;31m---------------------------------------------------------------------------\u001b[0m",
      "\u001b[0;31mTypeError\u001b[0m                                 Traceback (most recent call last)",
      "\u001b[0;32m<ipython-input-113-2097412a9182>\u001b[0m in \u001b[0;36m<module>\u001b[0;34m()\u001b[0m\n\u001b[1;32m      4\u001b[0m \u001b[0;31m# TODO: add is_amp\u001b[0m\u001b[0;34m\u001b[0m\u001b[0;34m\u001b[0m\u001b[0m\n\u001b[1;32m      5\u001b[0m \u001b[0;34m\u001b[0m\u001b[0m\n\u001b[0;32m----> 6\u001b[0;31m \u001b[0mengagement_summary\u001b[0m \u001b[0;34m=\u001b[0m \u001b[0mevents\u001b[0m\u001b[0;34m.\u001b[0m\u001b[0mgroupby\u001b[0m\u001b[0;34m(\u001b[0m\u001b[0;34m[\u001b[0m\u001b[0;34m\"anonymous_id\"\u001b[0m\u001b[0;34m,\u001b[0m \u001b[0;34m\"canonical_url\"\u001b[0m\u001b[0;34m,\u001b[0m \u001b[0mevents\u001b[0m\u001b[0;34m.\u001b[0m\u001b[0msent_at_timestamp\u001b[0m\u001b[0;34m.\u001b[0m\u001b[0mdt\u001b[0m\u001b[0;34m.\u001b[0m\u001b[0mfloor\u001b[0m\u001b[0;34m(\u001b[0m\u001b[0;34m'd'\u001b[0m\u001b[0;34m)\u001b[0m\u001b[0;34m,\u001b[0m \u001b[0;34m\"is_test\"\u001b[0m\u001b[0;34m,\u001b[0m \u001b[0;34m\"is_amp\"\u001b[0m\u001b[0;34m]\u001b[0m\u001b[0;34m)\u001b[0m    \u001b[0;34m.\u001b[0m\u001b[0maggregate\u001b[0m\u001b[0;34m(\u001b[0m\u001b[0;34m{\u001b[0m\u001b[0;34m\"sent_at_timestamp\"\u001b[0m\u001b[0;34m:\u001b[0m \u001b[0;34m[\u001b[0m\u001b[0mnp\u001b[0m\u001b[0;34m.\u001b[0m\u001b[0mmin\u001b[0m\u001b[0;34m,\u001b[0m \u001b[0mnp\u001b[0m\u001b[0;34m.\u001b[0m\u001b[0mmax\u001b[0m\u001b[0;34m,\u001b[0m \u001b[0mnp\u001b[0m\u001b[0;34m.\u001b[0m\u001b[0mmax\u001b[0m\u001b[0;34m-\u001b[0m\u001b[0mnp\u001b[0m\u001b[0;34m.\u001b[0m\u001b[0mmin\u001b[0m\u001b[0;34m]\u001b[0m\u001b[0;34m,\u001b[0m \u001b[0;34m\"article_read_depth\"\u001b[0m\u001b[0;34m:\u001b[0m\u001b[0mnp\u001b[0m\u001b[0;34m.\u001b[0m\u001b[0mmax\u001b[0m \u001b[0;34m}\u001b[0m\u001b[0;34m,\u001b[0m \u001b[0maxis\u001b[0m\u001b[0;34m=\u001b[0m\u001b[0;34m\"columns\"\u001b[0m\u001b[0;34m)\u001b[0m\u001b[0;34m\u001b[0m\u001b[0m\n\u001b[0m\u001b[1;32m      7\u001b[0m \u001b[0;34m\u001b[0m\u001b[0m\n\u001b[1;32m      8\u001b[0m \u001b[0;34m\u001b[0m\u001b[0m\n",
      "\u001b[0;31mTypeError\u001b[0m: unsupported operand type(s) for -: 'function' and 'function'"
     ]
    }
   ],
   "source": [
    "# Group by page and user to within the same day to get an idea of engagement within the page \n",
    "# (if there's only one event on the page, then it's likely there was no 2nd pageview, not perfect though.)\n",
    "\n",
    "# TODO: add is_amp\n",
    "\n",
    "engagement_summary = events.groupby([\"anonymous_id\", \"canonical_url\", events.sent_at_timestamp.dt.floor('d'), \"is_test\", \"is_amp\"])\\\n",
    "    .aggregate({\"sent_at_timestamp\": [np.min, np.max], \"article_read_depth\":np.max }, axis=\"columns\")\n",
    "\n",
    "engagement_summary[\"time_on_page_seconds\"] = engagement_summary.apply(lambda row: row[] - row[], axis=1)\n",
    "\n",
    "#>>> TODO: add the time on the page as time_on_page_seconds, which I think you could do as appending a column\n",
    "\n",
    "#non_amp_engagement_summary = engagement_summary[engagement_summary.is_amp==False]"
   ]
  },
  {
   "cell_type": "code",
   "execution_count": 118,
   "metadata": {},
   "outputs": [
    {
     "data": {
      "text/html": [
       "<div>\n",
       "<style scoped>\n",
       "    .dataframe tbody tr th:only-of-type {\n",
       "        vertical-align: middle;\n",
       "    }\n",
       "\n",
       "    .dataframe tbody tr th {\n",
       "        vertical-align: top;\n",
       "    }\n",
       "\n",
       "    .dataframe thead tr th {\n",
       "        text-align: left;\n",
       "    }\n",
       "</style>\n",
       "<table border=\"1\" class=\"dataframe\">\n",
       "  <thead>\n",
       "    <tr>\n",
       "      <th></th>\n",
       "      <th>anonymous_id</th>\n",
       "      <th>canonical_url</th>\n",
       "      <th>sent_at_timestamp</th>\n",
       "      <th>is_test</th>\n",
       "      <th>is_amp</th>\n",
       "      <th colspan=\"2\" halign=\"left\">sent_at_timestamp</th>\n",
       "      <th>article_read_depth</th>\n",
       "    </tr>\n",
       "    <tr>\n",
       "      <th></th>\n",
       "      <th></th>\n",
       "      <th></th>\n",
       "      <th></th>\n",
       "      <th></th>\n",
       "      <th></th>\n",
       "      <th>amin</th>\n",
       "      <th>amax</th>\n",
       "      <th>amax</th>\n",
       "    </tr>\n",
       "  </thead>\n",
       "  <tbody>\n",
       "    <tr>\n",
       "      <th>0</th>\n",
       "      <td>00005691-02d9-48c2-ba12-b8939ccbce34</td>\n",
       "      <td>https://www.moneysmart.id/utang-luar-negeri-in...</td>\n",
       "      <td>2019-09-20</td>\n",
       "      <td>False</td>\n",
       "      <td>False</td>\n",
       "      <td>2019-09-20 10:00:45.039</td>\n",
       "      <td>2019-09-20 10:01:20.870</td>\n",
       "      <td>50</td>\n",
       "    </tr>\n",
       "    <tr>\n",
       "      <th>1</th>\n",
       "      <td>0000b293-f267-410d-85fc-5895dc68aa3b</td>\n",
       "      <td>https://www.moneysmart.id/rumah-luwih-hotel-ba...</td>\n",
       "      <td>2019-09-20</td>\n",
       "      <td>False</td>\n",
       "      <td>False</td>\n",
       "      <td>2019-09-20 00:50:23.083</td>\n",
       "      <td>2019-09-20 00:52:23.595</td>\n",
       "      <td>100</td>\n",
       "    </tr>\n",
       "    <tr>\n",
       "      <th>2</th>\n",
       "      <td>0000cc5d-4dd3-46ac-80e0-567192a868fe</td>\n",
       "      <td>https://www.moneysmart.id/gak-sesulit-yang-dib...</td>\n",
       "      <td>2019-09-20</td>\n",
       "      <td>False</td>\n",
       "      <td>False</td>\n",
       "      <td>2019-09-20 08:26:14.978</td>\n",
       "      <td>2019-09-20 08:27:21.581</td>\n",
       "      <td>75</td>\n",
       "    </tr>\n",
       "    <tr>\n",
       "      <th>3</th>\n",
       "      <td>0000e1aa-7786-4276-b928-367a16e0901b</td>\n",
       "      <td>https://www.moneysmart.id/agnez-mo-pakai-baran...</td>\n",
       "      <td>2019-09-20</td>\n",
       "      <td>False</td>\n",
       "      <td>False</td>\n",
       "      <td>2019-09-20 12:52:48.356</td>\n",
       "      <td>2019-09-20 12:53:17.308</td>\n",
       "      <td>100</td>\n",
       "    </tr>\n",
       "    <tr>\n",
       "      <th>4</th>\n",
       "      <td>00010b6a-aa66-4d61-8817-e4963e43a24f</td>\n",
       "      <td>https://www.moneysmart.id/johan-budi-memiliki-...</td>\n",
       "      <td>2019-09-20</td>\n",
       "      <td>False</td>\n",
       "      <td>False</td>\n",
       "      <td>2019-09-20 14:15:56.913</td>\n",
       "      <td>2019-09-20 14:18:05.452</td>\n",
       "      <td>100</td>\n",
       "    </tr>\n",
       "  </tbody>\n",
       "</table>\n",
       "</div>"
      ],
      "text/plain": [
       "                           anonymous_id  \\\n",
       "                                          \n",
       "0  00005691-02d9-48c2-ba12-b8939ccbce34   \n",
       "1  0000b293-f267-410d-85fc-5895dc68aa3b   \n",
       "2  0000cc5d-4dd3-46ac-80e0-567192a868fe   \n",
       "3  0000e1aa-7786-4276-b928-367a16e0901b   \n",
       "4  00010b6a-aa66-4d61-8817-e4963e43a24f   \n",
       "\n",
       "                                       canonical_url sent_at_timestamp  \\\n",
       "                                                                         \n",
       "0  https://www.moneysmart.id/utang-luar-negeri-in...        2019-09-20   \n",
       "1  https://www.moneysmart.id/rumah-luwih-hotel-ba...        2019-09-20   \n",
       "2  https://www.moneysmart.id/gak-sesulit-yang-dib...        2019-09-20   \n",
       "3  https://www.moneysmart.id/agnez-mo-pakai-baran...        2019-09-20   \n",
       "4  https://www.moneysmart.id/johan-budi-memiliki-...        2019-09-20   \n",
       "\n",
       "  is_test is_amp       sent_at_timestamp                          \\\n",
       "                                    amin                    amax   \n",
       "0   False  False 2019-09-20 10:00:45.039 2019-09-20 10:01:20.870   \n",
       "1   False  False 2019-09-20 00:50:23.083 2019-09-20 00:52:23.595   \n",
       "2   False  False 2019-09-20 08:26:14.978 2019-09-20 08:27:21.581   \n",
       "3   False  False 2019-09-20 12:52:48.356 2019-09-20 12:53:17.308   \n",
       "4   False  False 2019-09-20 14:15:56.913 2019-09-20 14:18:05.452   \n",
       "\n",
       "  article_read_depth  \n",
       "                amax  \n",
       "0                 50  \n",
       "1                100  \n",
       "2                 75  \n",
       "3                100  \n",
       "4                100  "
      ]
     },
     "execution_count": 118,
     "metadata": {},
     "output_type": "execute_result"
    }
   ],
   "source": [
    "engagement_summary.reset_index(inplace=True)\n",
    "engagement_summary.head()\n"
   ]
  },
  {
   "cell_type": "markdown",
   "metadata": {
    "toc-hr-collapsed": false
   },
   "source": [
    "# Queries to Add\n",
    "```\n",
    "\n",
    "select * from id_pageview_metrics where time_on_page_seconds <5 and max_article_read_depth = 100 limit 100\n",
    "```\n",
    "---\n",
    "```\n",
    "select * from id_engagement_summary order by day_str, is_test \n",
    "\n",
    "```"
   ]
  },
  {
   "cell_type": "code",
   "execution_count": null,
   "metadata": {},
   "outputs": [],
   "source": [
    "\n",
    "\n",
    "# TODO: the right way to do this would be to store connection details in the secrets manager.  Unfortunately not working :(\n",
    "def get_secret():\n",
    "\n",
    "    secret_name = \"data_pier\"\n",
    "    region_name = \"ap-southeast-1\"\n",
    "\n",
    "    # Create a Secrets Manager client\n",
    "    session = boto3.session.Session()\n",
    "    client = session.client(\n",
    "        service_name='secretsmanager',\n",
    "        region_name=region_name\n",
    "    )\n",
    "\n",
    "\n",
    "    # See https://docs.aws.amazon.com/secretsmanager/latest/apireference/API_GetSecretValue.html\n",
    "    # I've deleted a chunk of error handling bumpf\n",
    "\n",
    "    get_secret_value_response = client.get_secret_value(\n",
    "        SecretId=secret_name\n",
    "    )\n",
    "\n",
    "\n",
    "def get_data_pier_connection():\n",
    "    #db_pass = input()\n",
    "    db_pass = creds.pg_pass\n",
    "    db_host = \"data-pier-production.cl8qfdl47mtr.ap-southeast-1.rds.amazonaws.com\"\n",
    "    db_user = \"jamie\"\n",
    "    db_database = \"data_pier\"\n",
    "    pg_conn = psycopg2.connect(host=db_host, user = db_user, dbname=db_database, password= db_pass)\n",
    "    pg_conn.set_session(readonly=True, autocommit=True) #without this it can lock tables.\n",
    "    \n",
    "    \n",
    "    return pg_conn, pg_conn.cursor()\n"
   ]
  },
  {
   "cell_type": "code",
   "execution_count": 195,
   "metadata": {},
   "outputs": [
    {
     "name": "stdin",
     "output_type": "stream",
     "text": [
      " BVHSjgnqHpqPRgHHaG9sYdJqD94ZeykJ\n"
     ]
    }
   ],
   "source": [
    "pg_conn, cursor = get_data_pier_connection()\n",
    "cursor.execute(\"select * from information_schema.tables limit 10\")"
   ]
  },
  {
   "cell_type": "code",
   "execution_count": 199,
   "metadata": {},
   "outputs": [
    {
     "data": {
      "text/html": [
       "<div>\n",
       "<style scoped>\n",
       "    .dataframe tbody tr th:only-of-type {\n",
       "        vertical-align: middle;\n",
       "    }\n",
       "\n",
       "    .dataframe tbody tr th {\n",
       "        vertical-align: top;\n",
       "    }\n",
       "\n",
       "    .dataframe thead th {\n",
       "        text-align: right;\n",
       "    }\n",
       "</style>\n",
       "<table border=\"1\" class=\"dataframe\">\n",
       "  <thead>\n",
       "    <tr style=\"text-align: right;\">\n",
       "      <th></th>\n",
       "      <th>term_taxonomy_id</th>\n",
       "      <th>term_id</th>\n",
       "      <th>taxonomy</th>\n",
       "      <th>description</th>\n",
       "      <th>parent</th>\n",
       "      <th>count</th>\n",
       "    </tr>\n",
       "  </thead>\n",
       "  <tbody>\n",
       "    <tr>\n",
       "      <th>0</th>\n",
       "      <td>577.0</td>\n",
       "      <td>577.0</td>\n",
       "      <td>post_tag</td>\n",
       "      <td></td>\n",
       "      <td>0.0</td>\n",
       "      <td>133</td>\n",
       "    </tr>\n",
       "    <tr>\n",
       "      <th>1</th>\n",
       "      <td>582.0</td>\n",
       "      <td>582.0</td>\n",
       "      <td>post_tag</td>\n",
       "      <td></td>\n",
       "      <td>0.0</td>\n",
       "      <td>20</td>\n",
       "    </tr>\n",
       "    <tr>\n",
       "      <th>2</th>\n",
       "      <td>583.0</td>\n",
       "      <td>583.0</td>\n",
       "      <td>post_tag</td>\n",
       "      <td></td>\n",
       "      <td>0.0</td>\n",
       "      <td>47</td>\n",
       "    </tr>\n",
       "    <tr>\n",
       "      <th>3</th>\n",
       "      <td>586.0</td>\n",
       "      <td>586.0</td>\n",
       "      <td>post_tag</td>\n",
       "      <td></td>\n",
       "      <td>0.0</td>\n",
       "      <td>117</td>\n",
       "    </tr>\n",
       "    <tr>\n",
       "      <th>4</th>\n",
       "      <td>591.0</td>\n",
       "      <td>591.0</td>\n",
       "      <td>post_tag</td>\n",
       "      <td></td>\n",
       "      <td>0.0</td>\n",
       "      <td>56</td>\n",
       "    </tr>\n",
       "  </tbody>\n",
       "</table>\n",
       "</div>"
      ],
      "text/plain": [
       "   term_taxonomy_id  term_id  taxonomy description  parent  count\n",
       "0             577.0    577.0  post_tag                 0.0    133\n",
       "1             582.0    582.0  post_tag                 0.0     20\n",
       "2             583.0    583.0  post_tag                 0.0     47\n",
       "3             586.0    586.0  post_tag                 0.0    117\n",
       "4             591.0    591.0  post_tag                 0.0     56"
      ]
     },
     "execution_count": 199,
     "metadata": {},
     "output_type": "execute_result"
    }
   ],
   "source": [
    "#query = \"select * from information_schema.columns where table_schema='id_wordpress'\" \n",
    "query = \"select  * from id_wordpress.wp_terms join id_wordpress.wp_posts where slug like '%kartu%' limit 100\" # gets slug\n",
    "query = \"\"\"\n",
    "        select * from id_wordpress.wp_postmeta where meta_key not like'%oembed%' \n",
    "        and meta_key like '%slug%'\n",
    "        order by meta_key desc limit 100\n",
    "        \"\"\"\n",
    "\n",
    "query = \"select taxonomy, count(*) from id_wordpress.wp_term_taxonomy group by taxonomy\"\n",
    "query = \"select * from id_wordpress.wp_term_taxonomy where taxonomy='post_tag'\"\n",
    "pd.read_sql_query(query, pg_conn).head()"
   ]
  },
  {
   "cell_type": "code",
   "execution_count": 119,
   "metadata": {},
   "outputs": [],
   "source": [
    "pps_query = \"\"\"\n",
    "select users.day_str, users.is_test, num_users, num_pageviews, cast(num_pageviews as DOUBLE) / (num_users) as pageviews_per_user_per_day from \n",
    "\n",
    "(select day_str, is_test, count(distinct(anonymous_id)) AS num_users from id_pageview_metrics group by day_str, is_test) as users\n",
    "\n",
    "JOIN\n",
    "\n",
    "(select day_str, is_test, count(*) as num_pageviews from id_pageview_metrics group by day_str, is_test) as pageviews\n",
    "\n",
    "ON \n",
    " users.day_str = pageviews.day_str\n",
    " and \n",
    " users.is_test = pageviews.is_test\n",
    "order by day_str, is_test\n",
    "\"\"\"\n",
    "pageviews_per_session = pd.read_sql_query(pps_query, athena_conn)"
   ]
  },
  {
   "cell_type": "code",
   "execution_count": 84,
   "metadata": {},
   "outputs": [
    {
     "data": {
      "text/html": [
       "<div>\n",
       "<style scoped>\n",
       "    .dataframe tbody tr th:only-of-type {\n",
       "        vertical-align: middle;\n",
       "    }\n",
       "\n",
       "    .dataframe tbody tr th {\n",
       "        vertical-align: top;\n",
       "    }\n",
       "\n",
       "    .dataframe thead th {\n",
       "        text-align: right;\n",
       "    }\n",
       "</style>\n",
       "<table border=\"1\" class=\"dataframe\">\n",
       "  <thead>\n",
       "    <tr style=\"text-align: right;\">\n",
       "      <th></th>\n",
       "      <th>day_str</th>\n",
       "      <th>is_test</th>\n",
       "      <th>num_users</th>\n",
       "      <th>num_pageviews</th>\n",
       "      <th>pageviews_per_user_per_day</th>\n",
       "    </tr>\n",
       "  </thead>\n",
       "  <tbody>\n",
       "    <tr>\n",
       "      <th>0</th>\n",
       "      <td>2019-08-29</td>\n",
       "      <td>False</td>\n",
       "      <td>22667</td>\n",
       "      <td>27063</td>\n",
       "      <td>1.193938</td>\n",
       "    </tr>\n",
       "    <tr>\n",
       "      <th>1</th>\n",
       "      <td>2019-08-29</td>\n",
       "      <td>True</td>\n",
       "      <td>778</td>\n",
       "      <td>1003</td>\n",
       "      <td>1.289203</td>\n",
       "    </tr>\n",
       "    <tr>\n",
       "      <th>2</th>\n",
       "      <td>2019-08-30</td>\n",
       "      <td>False</td>\n",
       "      <td>147652</td>\n",
       "      <td>178157</td>\n",
       "      <td>1.206601</td>\n",
       "    </tr>\n",
       "    <tr>\n",
       "      <th>3</th>\n",
       "      <td>2019-08-30</td>\n",
       "      <td>True</td>\n",
       "      <td>5432</td>\n",
       "      <td>6586</td>\n",
       "      <td>1.212445</td>\n",
       "    </tr>\n",
       "    <tr>\n",
       "      <th>4</th>\n",
       "      <td>2019-08-31</td>\n",
       "      <td>False</td>\n",
       "      <td>146489</td>\n",
       "      <td>177051</td>\n",
       "      <td>1.208630</td>\n",
       "    </tr>\n",
       "    <tr>\n",
       "      <th>5</th>\n",
       "      <td>2019-08-31</td>\n",
       "      <td>True</td>\n",
       "      <td>4999</td>\n",
       "      <td>5962</td>\n",
       "      <td>1.192639</td>\n",
       "    </tr>\n",
       "    <tr>\n",
       "      <th>6</th>\n",
       "      <td>2019-09-01</td>\n",
       "      <td>False</td>\n",
       "      <td>150252</td>\n",
       "      <td>180434</td>\n",
       "      <td>1.200876</td>\n",
       "    </tr>\n",
       "    <tr>\n",
       "      <th>7</th>\n",
       "      <td>2019-09-01</td>\n",
       "      <td>True</td>\n",
       "      <td>5429</td>\n",
       "      <td>6314</td>\n",
       "      <td>1.163013</td>\n",
       "    </tr>\n",
       "    <tr>\n",
       "      <th>8</th>\n",
       "      <td>2019-09-02</td>\n",
       "      <td>False</td>\n",
       "      <td>150894</td>\n",
       "      <td>182569</td>\n",
       "      <td>1.209916</td>\n",
       "    </tr>\n",
       "    <tr>\n",
       "      <th>9</th>\n",
       "      <td>2019-09-02</td>\n",
       "      <td>True</td>\n",
       "      <td>5893</td>\n",
       "      <td>7009</td>\n",
       "      <td>1.189377</td>\n",
       "    </tr>\n",
       "    <tr>\n",
       "      <th>10</th>\n",
       "      <td>2019-09-03</td>\n",
       "      <td>False</td>\n",
       "      <td>158564</td>\n",
       "      <td>191973</td>\n",
       "      <td>1.210697</td>\n",
       "    </tr>\n",
       "    <tr>\n",
       "      <th>11</th>\n",
       "      <td>2019-09-03</td>\n",
       "      <td>True</td>\n",
       "      <td>5993</td>\n",
       "      <td>6971</td>\n",
       "      <td>1.163190</td>\n",
       "    </tr>\n",
       "    <tr>\n",
       "      <th>12</th>\n",
       "      <td>2019-09-04</td>\n",
       "      <td>False</td>\n",
       "      <td>138080</td>\n",
       "      <td>166404</td>\n",
       "      <td>1.205127</td>\n",
       "    </tr>\n",
       "    <tr>\n",
       "      <th>13</th>\n",
       "      <td>2019-09-04</td>\n",
       "      <td>True</td>\n",
       "      <td>4926</td>\n",
       "      <td>5808</td>\n",
       "      <td>1.179050</td>\n",
       "    </tr>\n",
       "  </tbody>\n",
       "</table>\n",
       "</div>"
      ],
      "text/plain": [
       "       day_str  is_test  num_users  num_pageviews  pageviews_per_user_per_day\n",
       "0   2019-08-29    False      22667          27063                    1.193938\n",
       "1   2019-08-29     True        778           1003                    1.289203\n",
       "2   2019-08-30    False     147652         178157                    1.206601\n",
       "3   2019-08-30     True       5432           6586                    1.212445\n",
       "4   2019-08-31    False     146489         177051                    1.208630\n",
       "5   2019-08-31     True       4999           5962                    1.192639\n",
       "6   2019-09-01    False     150252         180434                    1.200876\n",
       "7   2019-09-01     True       5429           6314                    1.163013\n",
       "8   2019-09-02    False     150894         182569                    1.209916\n",
       "9   2019-09-02     True       5893           7009                    1.189377\n",
       "10  2019-09-03    False     158564         191973                    1.210697\n",
       "11  2019-09-03     True       5993           6971                    1.163190\n",
       "12  2019-09-04    False     138080         166404                    1.205127\n",
       "13  2019-09-04     True       4926           5808                    1.179050"
      ]
     },
     "execution_count": 84,
     "metadata": {},
     "output_type": "execute_result"
    }
   ],
   "source": [
    "pageviews_per_session\n"
   ]
  },
  {
   "cell_type": "code",
   "execution_count": 85,
   "metadata": {},
   "outputs": [
    {
     "data": {
      "text/html": [
       "<div>\n",
       "<style scoped>\n",
       "    .dataframe tbody tr th:only-of-type {\n",
       "        vertical-align: middle;\n",
       "    }\n",
       "\n",
       "    .dataframe tbody tr th {\n",
       "        vertical-align: top;\n",
       "    }\n",
       "\n",
       "    .dataframe thead th {\n",
       "        text-align: right;\n",
       "    }\n",
       "</style>\n",
       "<table border=\"1\" class=\"dataframe\">\n",
       "  <thead>\n",
       "    <tr style=\"text-align: right;\">\n",
       "      <th></th>\n",
       "      <th>num_users</th>\n",
       "      <th>num_pageviews</th>\n",
       "      <th>pageviews_per_user_per_day</th>\n",
       "    </tr>\n",
       "    <tr>\n",
       "      <th>is_test</th>\n",
       "      <th></th>\n",
       "      <th></th>\n",
       "      <th></th>\n",
       "    </tr>\n",
       "  </thead>\n",
       "  <tbody>\n",
       "    <tr>\n",
       "      <th>False</th>\n",
       "      <td>130656.857143</td>\n",
       "      <td>157664.428571</td>\n",
       "      <td>1.205112</td>\n",
       "    </tr>\n",
       "    <tr>\n",
       "      <th>True</th>\n",
       "      <td>4778.571429</td>\n",
       "      <td>5664.714286</td>\n",
       "      <td>1.198417</td>\n",
       "    </tr>\n",
       "  </tbody>\n",
       "</table>\n",
       "</div>"
      ],
      "text/plain": [
       "             num_users  num_pageviews  pageviews_per_user_per_day\n",
       "is_test                                                          \n",
       "False    130656.857143  157664.428571                    1.205112\n",
       "True       4778.571429    5664.714286                    1.198417"
      ]
     },
     "execution_count": 85,
     "metadata": {},
     "output_type": "execute_result"
    }
   ],
   "source": [
    "pageviews_per_session.groupby(['is_test']).mean()"
   ]
  },
  {
   "cell_type": "code",
   "execution_count": 308,
   "metadata": {},
   "outputs": [
    {
     "data": {
      "text/html": [
       "<div>\n",
       "<style scoped>\n",
       "    .dataframe tbody tr th:only-of-type {\n",
       "        vertical-align: middle;\n",
       "    }\n",
       "\n",
       "    .dataframe tbody tr th {\n",
       "        vertical-align: top;\n",
       "    }\n",
       "\n",
       "    .dataframe thead th {\n",
       "        text-align: right;\n",
       "    }\n",
       "</style>\n",
       "<table border=\"1\" class=\"dataframe\">\n",
       "  <thead>\n",
       "    <tr style=\"text-align: right;\">\n",
       "      <th></th>\n",
       "      <th>post_id</th>\n",
       "    </tr>\n",
       "  </thead>\n",
       "  <tbody>\n",
       "    <tr>\n",
       "      <th>0</th>\n",
       "      <td>153.0</td>\n",
       "    </tr>\n",
       "    <tr>\n",
       "      <th>1</th>\n",
       "      <td>155.0</td>\n",
       "    </tr>\n",
       "    <tr>\n",
       "      <th>2</th>\n",
       "      <td>158.0</td>\n",
       "    </tr>\n",
       "    <tr>\n",
       "      <th>3</th>\n",
       "      <td>161.0</td>\n",
       "    </tr>\n",
       "    <tr>\n",
       "      <th>4</th>\n",
       "      <td>199.0</td>\n",
       "    </tr>\n",
       "  </tbody>\n",
       "</table>\n",
       "</div>"
      ],
      "text/plain": [
       "   post_id\n",
       "0    153.0\n",
       "1    155.0\n",
       "2    158.0\n",
       "3    161.0\n",
       "4    199.0"
      ]
     },
     "execution_count": 308,
     "metadata": {},
     "output_type": "execute_result"
    }
   ],
   "source": [
    "post_slugs_to_id_df.head()"
   ]
  },
  {
   "cell_type": "code",
   "execution_count": 210,
   "metadata": {},
   "outputs": [
    {
     "name": "stdout",
     "output_type": "stream",
     "text": [
      "   post_id                       name  term_id  parent  count  taxonomy\n",
      "0    153.0                   Pinjaman    528.0  1180.0    504  category\n",
      "1    155.0                  Budgeting   1193.0  1191.0    616  category\n",
      "2    155.0                 tips hemat   1299.0     0.0    175  post_tag\n",
      "3    155.0  mengatur keuangan pribadi   1944.0     0.0      5  post_tag\n",
      "4    155.0              mengatur uang   3053.0     0.0      5  post_tag\n"
     ]
    }
   ],
   "source": [
    "def get_all_categories_tags(conn, schema):\n",
    "    \n",
    "    \"\"\"domain.com/<slug> (we can parse the slug based on URL single post format)\n",
    "Get the post from slug\n",
    "```sql\n",
    "SELECT wp_posts.*\n",
    "FROM wp_posts \n",
    "WHERE 1=1 \n",
    "AND wp_posts.post_name = '<slug>'\n",
    "AND wp_posts.post_type = 'post' \n",
    "ORDER BY wp_posts.post_date DESC\n",
    "```\n",
    "Get categories of a post (post_id is from post retrieved above). For tag, replace 'category' by 'tag'\n",
    "```sql\n",
    "SELECT t.term_id, tt.parent, tt.count, tt.taxonomy\n",
    "FROM wp_terms AS t \n",
    "INNER JOIN wp_term_taxonomy AS tt\n",
    "ON t.term_id = tt.term_id\n",
    "INNER JOIN wp_term_relationships AS tr\n",
    "ON tr.term_taxonomy_id = tt.term_taxonomy_id\n",
    "WHERE tt.taxonomy IN ('category')\n",
    "AND tr.object_id IN (<post_id>)\n",
    "ORDER BY t.name ASC\n",
    "```\n",
    "Get details of a term (category or tag) from IDs retrieved above\n",
    "```sql\n",
    "SELECT t.*, tt.*\n",
    "FROM wp_terms AS t\n",
    "INNER JOIN wp_term_taxonomy AS tt\n",
    "ON t.term_id = tt.term_id\n",
    "WHERE t.term_id = <term_id>\n",
    "```\"\"\"\n",
    "    \n",
    "    \n",
    "    tags_categories_query = \"\"\"\n",
    "    select \n",
    "        wp_posts.id as post_id, \n",
    "        -- wp_posts.post_name as slug, \n",
    "        cats.name, \n",
    "        cats.term_id, \n",
    "        cats.parent, \n",
    "        cats.count, \n",
    "        cats.taxonomy\n",
    "    \n",
    "    from {schema}.wp_posts\n",
    "    join (\n",
    "        SELECT tr.object_id, t.term_id, tt.parent, tt.count, tt.taxonomy, t.name\n",
    "        FROM {schema}.wp_terms AS t \n",
    "        INNER JOIN {schema}.wp_term_taxonomy AS tt\n",
    "        ON t.term_id = tt.term_id\n",
    "        INNER JOIN {schema}.wp_term_relationships AS tr\n",
    "        ON tr.term_taxonomy_id = tt.term_taxonomy_id\n",
    "         WHERE tt.taxonomy IN ('category', 'post_tag')\n",
    "       \n",
    "        \n",
    "    ) as cats\n",
    "    on cats.object_id = wp_posts.id\n",
    "    \n",
    "    where\n",
    "    wp_posts.post_type = 'post'\n",
    "    and wp_posts.post_status = 'publish'\n",
    "    \n",
    "    \"\"\".format(schema=schema)\n",
    "\n",
    "    \n",
    "    \n",
    "    tags_categories = pd.read_sql_query(tags_categories_query, conn)\n",
    "    #print(tags_categories[:100])\n",
    "    \n",
    "    print(tags_categories.head())\n",
    "    tags_categories.astype({\"post_id\":int, \"term_id\":int, \"parent\":int, \"taxonomy\": \"category\"}) #untested type casting\n",
    "    \n",
    "    \n",
    "    tags = tags_categories[tags_categories.taxonomy=='post_tag'][['post_id','name']]\n",
    "    \n",
    "    categories = tags_categories[tags_categories.taxonomy=='category'][['post_id','name']]\n",
    "    \n",
    "    \n",
    "    return categories, tags\n",
    "\n",
    "\n",
    "def get_post_data(conn, schema):\n",
    "    query = \"\"\"\n",
    "    select id as post_id, post_name as slug, post_author as author_id, CHAR_LENGTH(post_content) as post_num_chars, post_date, post_modified \n",
    "    from {schema}.wp_posts\n",
    "    \n",
    "    where \n",
    "    wp_posts.post_type = 'post'\n",
    "    and wp_posts.post_status = 'publish'\n",
    "    \"\"\".format(schema=schema)\n",
    "    df = pd.read_sql_query(query, conn)\n",
    "    df.astype({\"post_id\":int, \"author_id\":int}) #untested type casting\n",
    "    return df\n",
    "    \n",
    "def slug_to_url(slug):\n",
    "    return \"https://www.moneysmart.id/\"+slug\n",
    "\n",
    "\n",
    "\n",
    "post_data = get_post_data(pg_conn, \"id_wordpress\")\n",
    "    \n",
    "post_slugs_to_id_df = post_data[[\"post_id\",]] #.index(post_data[\"slug\"])\n",
    "\n",
    "categories, tags = get_all_categories_tags(pg_conn, \"id_wordpress\")\n",
    "                                           "
   ]
  },
  {
   "cell_type": "code",
   "execution_count": 226,
   "metadata": {},
   "outputs": [],
   "source": [
    "def convert_canonical_url_to_slug(url):\n",
    "    if \"//\" not in url:\n",
    "        raise Exception(\"expected start of url in {}\".format(url))\n",
    "    id_root = \"https://www.moneysmart.id\"\n",
    "    ms_id_index = url.find(id_root)\n",
    "    if not ms_id_index:\n",
    "        raise Exception(\"{url} doesn't look like a canonical url\".format(url = url))\n",
    "        \n",
    "    slug = url[ms_id_index+ len(id_root)+1:].strip(\"/\")\n",
    "    \n",
    "    if slug == \"\":\n",
    "        slug =\"/\"\n",
    "    return slug\n",
    "        \n",
    "def is_article_slug(slug):\n",
    "    if \"/\" in slug or len(slug)==0:\n",
    "        return False\n",
    "    return True\n",
    "\n",
    "def get_post_id_from_slug(slug):\n",
    "    post_id = post_slugs_to_id_df.loc[slug, :][0]\n",
    "    return post_id\n",
    "\n",
    "\n",
    "def get_post_id_from_url(url):\n",
    "    #Expects only post urls\n",
    "    slug = convert_canonical_url_to_slug(url)\n",
    "    print(slug)\n",
    "    post_id = get_post_id_from_slug(slug)\n",
    "    return post_id"
   ]
  },
  {
   "cell_type": "code",
   "execution_count": 307,
   "metadata": {},
   "outputs": [
    {
     "name": "stdout",
     "output_type": "stream",
     "text": [
      "cara-cepat-melunasi-kpr\n"
     ]
    },
    {
     "ename": "KeyError",
     "evalue": "'cara-cepat-melunasi-kpr'",
     "output_type": "error",
     "traceback": [
      "\u001b[0;31m---------------------------------------------------------------------------\u001b[0m",
      "\u001b[0;31mKeyError\u001b[0m                                  Traceback (most recent call last)",
      "\u001b[0;32m~/anaconda3/envs/python3/lib/python3.6/site-packages/pandas/core/indexes/base.py\u001b[0m in \u001b[0;36mget_loc\u001b[0;34m(self, key, method, tolerance)\u001b[0m\n\u001b[1;32m   2656\u001b[0m             \u001b[0;32mtry\u001b[0m\u001b[0;34m:\u001b[0m\u001b[0;34m\u001b[0m\u001b[0m\n\u001b[0;32m-> 2657\u001b[0;31m                 \u001b[0;32mreturn\u001b[0m \u001b[0mself\u001b[0m\u001b[0;34m.\u001b[0m\u001b[0m_engine\u001b[0m\u001b[0;34m.\u001b[0m\u001b[0mget_loc\u001b[0m\u001b[0;34m(\u001b[0m\u001b[0mkey\u001b[0m\u001b[0;34m)\u001b[0m\u001b[0;34m\u001b[0m\u001b[0m\n\u001b[0m\u001b[1;32m   2658\u001b[0m             \u001b[0;32mexcept\u001b[0m \u001b[0mKeyError\u001b[0m\u001b[0;34m:\u001b[0m\u001b[0;34m\u001b[0m\u001b[0m\n",
      "\u001b[0;32mpandas/_libs/index.pyx\u001b[0m in \u001b[0;36mpandas._libs.index.IndexEngine.get_loc\u001b[0;34m()\u001b[0m\n",
      "\u001b[0;32mpandas/_libs/index.pyx\u001b[0m in \u001b[0;36mpandas._libs.index.IndexEngine.get_loc\u001b[0;34m()\u001b[0m\n",
      "\u001b[0;32mpandas/_libs/index_class_helper.pxi\u001b[0m in \u001b[0;36mpandas._libs.index.Int64Engine._check_type\u001b[0;34m()\u001b[0m\n",
      "\u001b[0;31mKeyError\u001b[0m: 'cara-cepat-melunasi-kpr'",
      "\nDuring handling of the above exception, another exception occurred:\n",
      "\u001b[0;31mKeyError\u001b[0m                                  Traceback (most recent call last)",
      "\u001b[0;32m<ipython-input-307-d81f04a412ff>\u001b[0m in \u001b[0;36m<module>\u001b[0;34m()\u001b[0m\n\u001b[0;32m----> 1\u001b[0;31m \u001b[0mget_post_id_from_url\u001b[0m\u001b[0;34m(\u001b[0m\u001b[0;34m\"htts://www.moneysmart.id/cara-cepat-melunasi-kpr\"\u001b[0m\u001b[0;34m)\u001b[0m\u001b[0;34m\u001b[0m\u001b[0m\n\u001b[0m",
      "\u001b[0;32m<ipython-input-226-0f6ef67d2204>\u001b[0m in \u001b[0;36mget_post_id_from_url\u001b[0;34m(url)\u001b[0m\n\u001b[1;32m     27\u001b[0m     \u001b[0mslug\u001b[0m \u001b[0;34m=\u001b[0m \u001b[0mconvert_canonical_url_to_slug\u001b[0m\u001b[0;34m(\u001b[0m\u001b[0murl\u001b[0m\u001b[0;34m)\u001b[0m\u001b[0;34m\u001b[0m\u001b[0m\n\u001b[1;32m     28\u001b[0m     \u001b[0mprint\u001b[0m\u001b[0;34m(\u001b[0m\u001b[0mslug\u001b[0m\u001b[0;34m)\u001b[0m\u001b[0;34m\u001b[0m\u001b[0m\n\u001b[0;32m---> 29\u001b[0;31m     \u001b[0mpost_id\u001b[0m \u001b[0;34m=\u001b[0m \u001b[0mget_post_id_from_slug\u001b[0m\u001b[0;34m(\u001b[0m\u001b[0mslug\u001b[0m\u001b[0;34m)\u001b[0m\u001b[0;34m\u001b[0m\u001b[0m\n\u001b[0m\u001b[1;32m     30\u001b[0m     \u001b[0;32mreturn\u001b[0m \u001b[0mpost_id\u001b[0m\u001b[0;34m\u001b[0m\u001b[0m\n",
      "\u001b[0;32m<ipython-input-226-0f6ef67d2204>\u001b[0m in \u001b[0;36mget_post_id_from_slug\u001b[0;34m(slug)\u001b[0m\n\u001b[1;32m     19\u001b[0m \u001b[0;34m\u001b[0m\u001b[0m\n\u001b[1;32m     20\u001b[0m \u001b[0;32mdef\u001b[0m \u001b[0mget_post_id_from_slug\u001b[0m\u001b[0;34m(\u001b[0m\u001b[0mslug\u001b[0m\u001b[0;34m)\u001b[0m\u001b[0;34m:\u001b[0m\u001b[0;34m\u001b[0m\u001b[0m\n\u001b[0;32m---> 21\u001b[0;31m     \u001b[0mpost_id\u001b[0m \u001b[0;34m=\u001b[0m \u001b[0mpost_slugs_to_id_df\u001b[0m\u001b[0;34m.\u001b[0m\u001b[0mloc\u001b[0m\u001b[0;34m[\u001b[0m\u001b[0mslug\u001b[0m\u001b[0;34m,\u001b[0m \u001b[0;34m:\u001b[0m\u001b[0;34m]\u001b[0m\u001b[0;34m[\u001b[0m\u001b[0;36m0\u001b[0m\u001b[0;34m]\u001b[0m\u001b[0;34m\u001b[0m\u001b[0m\n\u001b[0m\u001b[1;32m     22\u001b[0m     \u001b[0;32mreturn\u001b[0m \u001b[0mpost_id\u001b[0m\u001b[0;34m\u001b[0m\u001b[0m\n\u001b[1;32m     23\u001b[0m \u001b[0;34m\u001b[0m\u001b[0m\n",
      "\u001b[0;32m~/anaconda3/envs/python3/lib/python3.6/site-packages/pandas/core/indexing.py\u001b[0m in \u001b[0;36m__getitem__\u001b[0;34m(self, key)\u001b[0m\n\u001b[1;32m   1492\u001b[0m             \u001b[0;32mexcept\u001b[0m \u001b[0;34m(\u001b[0m\u001b[0mKeyError\u001b[0m\u001b[0;34m,\u001b[0m \u001b[0mIndexError\u001b[0m\u001b[0;34m,\u001b[0m \u001b[0mAttributeError\u001b[0m\u001b[0;34m)\u001b[0m\u001b[0;34m:\u001b[0m\u001b[0;34m\u001b[0m\u001b[0m\n\u001b[1;32m   1493\u001b[0m                 \u001b[0;32mpass\u001b[0m\u001b[0;34m\u001b[0m\u001b[0m\n\u001b[0;32m-> 1494\u001b[0;31m             \u001b[0;32mreturn\u001b[0m \u001b[0mself\u001b[0m\u001b[0;34m.\u001b[0m\u001b[0m_getitem_tuple\u001b[0m\u001b[0;34m(\u001b[0m\u001b[0mkey\u001b[0m\u001b[0;34m)\u001b[0m\u001b[0;34m\u001b[0m\u001b[0m\n\u001b[0m\u001b[1;32m   1495\u001b[0m         \u001b[0;32melse\u001b[0m\u001b[0;34m:\u001b[0m\u001b[0;34m\u001b[0m\u001b[0m\n\u001b[1;32m   1496\u001b[0m             \u001b[0;31m# we by definition only have the 0th axis\u001b[0m\u001b[0;34m\u001b[0m\u001b[0;34m\u001b[0m\u001b[0m\n",
      "\u001b[0;32m~/anaconda3/envs/python3/lib/python3.6/site-packages/pandas/core/indexing.py\u001b[0m in \u001b[0;36m_getitem_tuple\u001b[0;34m(self, tup)\u001b[0m\n\u001b[1;32m    866\u001b[0m     \u001b[0;32mdef\u001b[0m \u001b[0m_getitem_tuple\u001b[0m\u001b[0;34m(\u001b[0m\u001b[0mself\u001b[0m\u001b[0;34m,\u001b[0m \u001b[0mtup\u001b[0m\u001b[0;34m)\u001b[0m\u001b[0;34m:\u001b[0m\u001b[0;34m\u001b[0m\u001b[0m\n\u001b[1;32m    867\u001b[0m         \u001b[0;32mtry\u001b[0m\u001b[0;34m:\u001b[0m\u001b[0;34m\u001b[0m\u001b[0m\n\u001b[0;32m--> 868\u001b[0;31m             \u001b[0;32mreturn\u001b[0m \u001b[0mself\u001b[0m\u001b[0;34m.\u001b[0m\u001b[0m_getitem_lowerdim\u001b[0m\u001b[0;34m(\u001b[0m\u001b[0mtup\u001b[0m\u001b[0;34m)\u001b[0m\u001b[0;34m\u001b[0m\u001b[0m\n\u001b[0m\u001b[1;32m    869\u001b[0m         \u001b[0;32mexcept\u001b[0m \u001b[0mIndexingError\u001b[0m\u001b[0;34m:\u001b[0m\u001b[0;34m\u001b[0m\u001b[0m\n\u001b[1;32m    870\u001b[0m             \u001b[0;32mpass\u001b[0m\u001b[0;34m\u001b[0m\u001b[0m\n",
      "\u001b[0;32m~/anaconda3/envs/python3/lib/python3.6/site-packages/pandas/core/indexing.py\u001b[0m in \u001b[0;36m_getitem_lowerdim\u001b[0;34m(self, tup)\u001b[0m\n\u001b[1;32m    986\u001b[0m         \u001b[0;32mfor\u001b[0m \u001b[0mi\u001b[0m\u001b[0;34m,\u001b[0m \u001b[0mkey\u001b[0m \u001b[0;32min\u001b[0m \u001b[0menumerate\u001b[0m\u001b[0;34m(\u001b[0m\u001b[0mtup\u001b[0m\u001b[0;34m)\u001b[0m\u001b[0;34m:\u001b[0m\u001b[0;34m\u001b[0m\u001b[0m\n\u001b[1;32m    987\u001b[0m             \u001b[0;32mif\u001b[0m \u001b[0mis_label_like\u001b[0m\u001b[0;34m(\u001b[0m\u001b[0mkey\u001b[0m\u001b[0;34m)\u001b[0m \u001b[0;32mor\u001b[0m \u001b[0misinstance\u001b[0m\u001b[0;34m(\u001b[0m\u001b[0mkey\u001b[0m\u001b[0;34m,\u001b[0m \u001b[0mtuple\u001b[0m\u001b[0;34m)\u001b[0m\u001b[0;34m:\u001b[0m\u001b[0;34m\u001b[0m\u001b[0m\n\u001b[0;32m--> 988\u001b[0;31m                 \u001b[0msection\u001b[0m \u001b[0;34m=\u001b[0m \u001b[0mself\u001b[0m\u001b[0;34m.\u001b[0m\u001b[0m_getitem_axis\u001b[0m\u001b[0;34m(\u001b[0m\u001b[0mkey\u001b[0m\u001b[0;34m,\u001b[0m \u001b[0maxis\u001b[0m\u001b[0;34m=\u001b[0m\u001b[0mi\u001b[0m\u001b[0;34m)\u001b[0m\u001b[0;34m\u001b[0m\u001b[0m\n\u001b[0m\u001b[1;32m    989\u001b[0m \u001b[0;34m\u001b[0m\u001b[0m\n\u001b[1;32m    990\u001b[0m                 \u001b[0;31m# we have yielded a scalar ?\u001b[0m\u001b[0;34m\u001b[0m\u001b[0;34m\u001b[0m\u001b[0m\n",
      "\u001b[0;32m~/anaconda3/envs/python3/lib/python3.6/site-packages/pandas/core/indexing.py\u001b[0m in \u001b[0;36m_getitem_axis\u001b[0;34m(self, key, axis)\u001b[0m\n\u001b[1;32m   1911\u001b[0m         \u001b[0;31m# fall thru to straight lookup\u001b[0m\u001b[0;34m\u001b[0m\u001b[0;34m\u001b[0m\u001b[0m\n\u001b[1;32m   1912\u001b[0m         \u001b[0mself\u001b[0m\u001b[0;34m.\u001b[0m\u001b[0m_validate_key\u001b[0m\u001b[0;34m(\u001b[0m\u001b[0mkey\u001b[0m\u001b[0;34m,\u001b[0m \u001b[0maxis\u001b[0m\u001b[0;34m)\u001b[0m\u001b[0;34m\u001b[0m\u001b[0m\n\u001b[0;32m-> 1913\u001b[0;31m         \u001b[0;32mreturn\u001b[0m \u001b[0mself\u001b[0m\u001b[0;34m.\u001b[0m\u001b[0m_get_label\u001b[0m\u001b[0;34m(\u001b[0m\u001b[0mkey\u001b[0m\u001b[0;34m,\u001b[0m \u001b[0maxis\u001b[0m\u001b[0;34m=\u001b[0m\u001b[0maxis\u001b[0m\u001b[0;34m)\u001b[0m\u001b[0;34m\u001b[0m\u001b[0m\n\u001b[0m\u001b[1;32m   1914\u001b[0m \u001b[0;34m\u001b[0m\u001b[0m\n\u001b[1;32m   1915\u001b[0m \u001b[0;34m\u001b[0m\u001b[0m\n",
      "\u001b[0;32m~/anaconda3/envs/python3/lib/python3.6/site-packages/pandas/core/indexing.py\u001b[0m in \u001b[0;36m_get_label\u001b[0;34m(self, label, axis)\u001b[0m\n\u001b[1;32m    139\u001b[0m             \u001b[0;32mraise\u001b[0m \u001b[0mIndexingError\u001b[0m\u001b[0;34m(\u001b[0m\u001b[0;34m'no slices here, handle elsewhere'\u001b[0m\u001b[0;34m)\u001b[0m\u001b[0;34m\u001b[0m\u001b[0m\n\u001b[1;32m    140\u001b[0m \u001b[0;34m\u001b[0m\u001b[0m\n\u001b[0;32m--> 141\u001b[0;31m         \u001b[0;32mreturn\u001b[0m \u001b[0mself\u001b[0m\u001b[0;34m.\u001b[0m\u001b[0mobj\u001b[0m\u001b[0;34m.\u001b[0m\u001b[0m_xs\u001b[0m\u001b[0;34m(\u001b[0m\u001b[0mlabel\u001b[0m\u001b[0;34m,\u001b[0m \u001b[0maxis\u001b[0m\u001b[0;34m=\u001b[0m\u001b[0maxis\u001b[0m\u001b[0;34m)\u001b[0m\u001b[0;34m\u001b[0m\u001b[0m\n\u001b[0m\u001b[1;32m    142\u001b[0m \u001b[0;34m\u001b[0m\u001b[0m\n\u001b[1;32m    143\u001b[0m     \u001b[0;32mdef\u001b[0m \u001b[0m_get_loc\u001b[0m\u001b[0;34m(\u001b[0m\u001b[0mself\u001b[0m\u001b[0;34m,\u001b[0m \u001b[0mkey\u001b[0m\u001b[0;34m,\u001b[0m \u001b[0maxis\u001b[0m\u001b[0;34m=\u001b[0m\u001b[0;32mNone\u001b[0m\u001b[0;34m)\u001b[0m\u001b[0;34m:\u001b[0m\u001b[0;34m\u001b[0m\u001b[0m\n",
      "\u001b[0;32m~/anaconda3/envs/python3/lib/python3.6/site-packages/pandas/core/generic.py\u001b[0m in \u001b[0;36mxs\u001b[0;34m(self, key, axis, level, drop_level)\u001b[0m\n\u001b[1;32m   3583\u001b[0m                                                       drop_level=drop_level)\n\u001b[1;32m   3584\u001b[0m         \u001b[0;32melse\u001b[0m\u001b[0;34m:\u001b[0m\u001b[0;34m\u001b[0m\u001b[0m\n\u001b[0;32m-> 3585\u001b[0;31m             \u001b[0mloc\u001b[0m \u001b[0;34m=\u001b[0m \u001b[0mself\u001b[0m\u001b[0;34m.\u001b[0m\u001b[0mindex\u001b[0m\u001b[0;34m.\u001b[0m\u001b[0mget_loc\u001b[0m\u001b[0;34m(\u001b[0m\u001b[0mkey\u001b[0m\u001b[0;34m)\u001b[0m\u001b[0;34m\u001b[0m\u001b[0m\n\u001b[0m\u001b[1;32m   3586\u001b[0m \u001b[0;34m\u001b[0m\u001b[0m\n\u001b[1;32m   3587\u001b[0m             \u001b[0;32mif\u001b[0m \u001b[0misinstance\u001b[0m\u001b[0;34m(\u001b[0m\u001b[0mloc\u001b[0m\u001b[0;34m,\u001b[0m \u001b[0mnp\u001b[0m\u001b[0;34m.\u001b[0m\u001b[0mndarray\u001b[0m\u001b[0;34m)\u001b[0m\u001b[0;34m:\u001b[0m\u001b[0;34m\u001b[0m\u001b[0m\n",
      "\u001b[0;32m~/anaconda3/envs/python3/lib/python3.6/site-packages/pandas/core/indexes/base.py\u001b[0m in \u001b[0;36mget_loc\u001b[0;34m(self, key, method, tolerance)\u001b[0m\n\u001b[1;32m   2657\u001b[0m                 \u001b[0;32mreturn\u001b[0m \u001b[0mself\u001b[0m\u001b[0;34m.\u001b[0m\u001b[0m_engine\u001b[0m\u001b[0;34m.\u001b[0m\u001b[0mget_loc\u001b[0m\u001b[0;34m(\u001b[0m\u001b[0mkey\u001b[0m\u001b[0;34m)\u001b[0m\u001b[0;34m\u001b[0m\u001b[0m\n\u001b[1;32m   2658\u001b[0m             \u001b[0;32mexcept\u001b[0m \u001b[0mKeyError\u001b[0m\u001b[0;34m:\u001b[0m\u001b[0;34m\u001b[0m\u001b[0m\n\u001b[0;32m-> 2659\u001b[0;31m                 \u001b[0;32mreturn\u001b[0m \u001b[0mself\u001b[0m\u001b[0;34m.\u001b[0m\u001b[0m_engine\u001b[0m\u001b[0;34m.\u001b[0m\u001b[0mget_loc\u001b[0m\u001b[0;34m(\u001b[0m\u001b[0mself\u001b[0m\u001b[0;34m.\u001b[0m\u001b[0m_maybe_cast_indexer\u001b[0m\u001b[0;34m(\u001b[0m\u001b[0mkey\u001b[0m\u001b[0;34m)\u001b[0m\u001b[0;34m)\u001b[0m\u001b[0;34m\u001b[0m\u001b[0m\n\u001b[0m\u001b[1;32m   2660\u001b[0m         \u001b[0mindexer\u001b[0m \u001b[0;34m=\u001b[0m \u001b[0mself\u001b[0m\u001b[0;34m.\u001b[0m\u001b[0mget_indexer\u001b[0m\u001b[0;34m(\u001b[0m\u001b[0;34m[\u001b[0m\u001b[0mkey\u001b[0m\u001b[0;34m]\u001b[0m\u001b[0;34m,\u001b[0m \u001b[0mmethod\u001b[0m\u001b[0;34m=\u001b[0m\u001b[0mmethod\u001b[0m\u001b[0;34m,\u001b[0m \u001b[0mtolerance\u001b[0m\u001b[0;34m=\u001b[0m\u001b[0mtolerance\u001b[0m\u001b[0;34m)\u001b[0m\u001b[0;34m\u001b[0m\u001b[0m\n\u001b[1;32m   2661\u001b[0m         \u001b[0;32mif\u001b[0m \u001b[0mindexer\u001b[0m\u001b[0;34m.\u001b[0m\u001b[0mndim\u001b[0m \u001b[0;34m>\u001b[0m \u001b[0;36m1\u001b[0m \u001b[0;32mor\u001b[0m \u001b[0mindexer\u001b[0m\u001b[0;34m.\u001b[0m\u001b[0msize\u001b[0m \u001b[0;34m>\u001b[0m \u001b[0;36m1\u001b[0m\u001b[0;34m:\u001b[0m\u001b[0;34m\u001b[0m\u001b[0m\n",
      "\u001b[0;32mpandas/_libs/index.pyx\u001b[0m in \u001b[0;36mpandas._libs.index.IndexEngine.get_loc\u001b[0;34m()\u001b[0m\n",
      "\u001b[0;32mpandas/_libs/index.pyx\u001b[0m in \u001b[0;36mpandas._libs.index.IndexEngine.get_loc\u001b[0;34m()\u001b[0m\n",
      "\u001b[0;32mpandas/_libs/index_class_helper.pxi\u001b[0m in \u001b[0;36mpandas._libs.index.Int64Engine._check_type\u001b[0;34m()\u001b[0m\n",
      "\u001b[0;31mKeyError\u001b[0m: 'cara-cepat-melunasi-kpr'"
     ]
    }
   ],
   "source": [
    "get_post_id_from_url(\"htts://www.moneysmart.id/cara-cepat-melunasi-kpr\")"
   ]
  },
  {
   "cell_type": "code",
   "execution_count": 183,
   "metadata": {},
   "outputs": [
    {
     "data": {
      "text/html": [
       "<div>\n",
       "<style scoped>\n",
       "    .dataframe tbody tr th:only-of-type {\n",
       "        vertical-align: middle;\n",
       "    }\n",
       "\n",
       "    .dataframe tbody tr th {\n",
       "        vertical-align: top;\n",
       "    }\n",
       "\n",
       "    .dataframe thead th {\n",
       "        text-align: right;\n",
       "    }\n",
       "</style>\n",
       "<table border=\"1\" class=\"dataframe\">\n",
       "  <thead>\n",
       "    <tr style=\"text-align: right;\">\n",
       "      <th></th>\n",
       "      <th>id</th>\n",
       "      <th>slug</th>\n",
       "      <th>name</th>\n",
       "    </tr>\n",
       "  </thead>\n",
       "  <tbody>\n",
       "    <tr>\n",
       "      <th>0</th>\n",
       "      <td>153.0</td>\n",
       "      <td>cara-cepat-melunasi-kpr</td>\n",
       "      <td>Pinjaman</td>\n",
       "    </tr>\n",
       "    <tr>\n",
       "      <th>1</th>\n",
       "      <td>155.0</td>\n",
       "      <td>mengatur-keuangan-pribadi</td>\n",
       "      <td>Budgeting</td>\n",
       "    </tr>\n",
       "    <tr>\n",
       "      <th>6</th>\n",
       "      <td>158.0</td>\n",
       "      <td>kpr-rumah-dan-cara-memilihnya</td>\n",
       "      <td>Pinjaman</td>\n",
       "    </tr>\n",
       "    <tr>\n",
       "      <th>10</th>\n",
       "      <td>161.0</td>\n",
       "      <td>agar-otak-selalu-segar</td>\n",
       "      <td>Ragam</td>\n",
       "    </tr>\n",
       "    <tr>\n",
       "      <th>11</th>\n",
       "      <td>171.0</td>\n",
       "      <td>tips-menambah-teman-dan-berbelanja-saat-berlibur</td>\n",
       "      <td>Kuliner &amp;amp; Travel</td>\n",
       "    </tr>\n",
       "  </tbody>\n",
       "</table>\n",
       "</div>"
      ],
      "text/plain": [
       "       id                                              slug  \\\n",
       "0   153.0                           cara-cepat-melunasi-kpr   \n",
       "1   155.0                         mengatur-keuangan-pribadi   \n",
       "6   158.0                     kpr-rumah-dan-cara-memilihnya   \n",
       "10  161.0                            agar-otak-selalu-segar   \n",
       "11  171.0  tips-menambah-teman-dan-berbelanja-saat-berlibur   \n",
       "\n",
       "                    name  \n",
       "0               Pinjaman  \n",
       "1              Budgeting  \n",
       "6               Pinjaman  \n",
       "10                 Ragam  \n",
       "11  Kuliner &amp; Travel  "
      ]
     },
     "execution_count": 183,
     "metadata": {},
     "output_type": "execute_result"
    }
   ],
   "source": [
    "categories.head(5)"
   ]
  },
  {
   "cell_type": "code",
   "execution_count": 128,
   "metadata": {},
   "outputs": [],
   "source": []
  },
  {
   "cell_type": "code",
   "execution_count": 152,
   "metadata": {},
   "outputs": [],
   "source": [
    "article_categories = categories.groupby('slug').aggregate(lambda x:x.unique().tolist())\n",
    "article_tags = tags.groupby('slug').aggregate(lambda x:x.unique().tolist())"
   ]
  },
  {
   "cell_type": "code",
   "execution_count": 141,
   "metadata": {},
   "outputs": [],
   "source": [
    "#[z for z in article_categories.values if len(z[1])>0]\n",
    "article_categories\n",
    "article_categories['num_categories'] = article_categories['name'].apply(len)"
   ]
  },
  {
   "cell_type": "code",
   "execution_count": 177,
   "metadata": {},
   "outputs": [
    {
     "name": "stdout",
     "output_type": "stream",
     "text": [
      "it took \n",
      "0.0007693767547607422\n"
     ]
    },
    {
     "data": {
      "text/plain": [
       "(['Inspirasi'],\n",
       " ['pembalap',\n",
       "  'pembalap indonesia',\n",
       "  'pembalap indonesia berkarier hingga mancanegara'])"
      ]
     },
     "execution_count": 177,
     "metadata": {},
     "output_type": "execute_result"
    }
   ],
   "source": [
    "#TODO: sometime should do all this based on post_id\n",
    "\n",
    "def get_categories_tags_for_url(slug):\n",
    "    #cats = categories[categories.slug==slug]\n",
    "    try:\n",
    "        tags = article_tags.loc[slug, :][1]\n",
    "    except:\n",
    "        print(\"no tags\")\n",
    "        tags = []\n",
    "    try:\n",
    "        cats = article_categories.loc[slug, :][1]\n",
    "    except:\n",
    "        print(\"no categories for %s\"%slug)\n",
    "        cats = []\n",
    "    return cats, tags\n",
    "\n",
    "def get_category_tags_for_url(slug):\n",
    "    \"\"\"\n",
    "    this returns just the first category (and maybe not even the primary category... yet)\n",
    "    It's useful for grouping easily by category without duplication.\n",
    "    \"\"\"\n",
    "    cats, tags = get_categories_tags_for_slug()\n",
    "\n",
    "start_time = time.time()\n",
    "cats, tags = get_categories_tags_for_url(\"pembalap-indonesia-berkarier-di-mancanegara\")\n",
    "end_time = time.time()\n",
    "\n",
    "print(\"it took \")\n",
    "print(end_time-start_time)\n",
    "cats_tags"
   ]
  },
  {
   "cell_type": "code",
   "execution_count": 306,
   "metadata": {
    "scrolled": true
   },
   "outputs": [
    {
     "data": {
      "text/html": [
       "<div>\n",
       "<style scoped>\n",
       "    .dataframe tbody tr th:only-of-type {\n",
       "        vertical-align: middle;\n",
       "    }\n",
       "\n",
       "    .dataframe tbody tr th {\n",
       "        vertical-align: top;\n",
       "    }\n",
       "\n",
       "    .dataframe thead th {\n",
       "        text-align: right;\n",
       "    }\n",
       "</style>\n",
       "<table border=\"1\" class=\"dataframe\">\n",
       "  <thead>\n",
       "    <tr style=\"text-align: right;\">\n",
       "      <th></th>\n",
       "      <th>sent_at_timestamp</th>\n",
       "      <th>sent_at</th>\n",
       "      <th>type</th>\n",
       "      <th>event_name</th>\n",
       "      <th>status</th>\n",
       "      <th>article_read_depth</th>\n",
       "      <th>anonymous_id</th>\n",
       "      <th>canonical_url</th>\n",
       "      <th>page_url</th>\n",
       "      <th>is_amp</th>\n",
       "      <th>has_marketing_param</th>\n",
       "      <th>is_test</th>\n",
       "      <th>is_control</th>\n",
       "    </tr>\n",
       "  </thead>\n",
       "  <tbody>\n",
       "    <tr>\n",
       "      <th>0</th>\n",
       "      <td>2019-09-03 23:47:24.676</td>\n",
       "      <td>2019-09-03T23:47:24.676Z</td>\n",
       "      <td>event</td>\n",
       "      <td>Reading</td>\n",
       "      <td>Article Body 50</td>\n",
       "      <td>50</td>\n",
       "      <td>23e29496-49af-4b8c-b7a3-6755efb15a22</td>\n",
       "      <td>https://www.moneysmart.id/usaha-modal-10-juta-...</td>\n",
       "      <td>https://www.moneysmart.id/usaha-modal-10-juta-...</td>\n",
       "      <td>False</td>\n",
       "      <td>True</td>\n",
       "      <td>False</td>\n",
       "      <td>True</td>\n",
       "    </tr>\n",
       "    <tr>\n",
       "      <th>1</th>\n",
       "      <td>2019-09-03 23:47:23.679</td>\n",
       "      <td>2019-09-03T23:47:23.679Z</td>\n",
       "      <td>event</td>\n",
       "      <td>Reading</td>\n",
       "      <td>Article Body 50</td>\n",
       "      <td>50</td>\n",
       "      <td>ea8cb9ae-bf5f-4f4d-9bf8-a0b912c0c3cf</td>\n",
       "      <td>https://www.moneysmart.id/ustadz-abdul-somad-m...</td>\n",
       "      <td>https://www.moneysmart.id/ustadz-abdul-somad-m...</td>\n",
       "      <td>False</td>\n",
       "      <td>True</td>\n",
       "      <td>False</td>\n",
       "      <td>True</td>\n",
       "    </tr>\n",
       "    <tr>\n",
       "      <th>2</th>\n",
       "      <td>2019-09-03 23:47:22.269</td>\n",
       "      <td>2019-09-03T23:47:22.269Z</td>\n",
       "      <td>page</td>\n",
       "      <td>PageView</td>\n",
       "      <td>None</td>\n",
       "      <td>0</td>\n",
       "      <td>5892e337-2770-4314-8eea-3f5a76c721be</td>\n",
       "      <td>https://www.moneysmart.id/keluarga-terkaya-di-...</td>\n",
       "      <td>https://www.moneysmart.id/keluarga-terkaya-di-...</td>\n",
       "      <td>False</td>\n",
       "      <td>True</td>\n",
       "      <td>False</td>\n",
       "      <td>True</td>\n",
       "    </tr>\n",
       "    <tr>\n",
       "      <th>3</th>\n",
       "      <td>2019-09-03 23:47:22.059</td>\n",
       "      <td>2019-09-03T23:47:22.059Z</td>\n",
       "      <td>event</td>\n",
       "      <td>Reading</td>\n",
       "      <td>Article Body 50</td>\n",
       "      <td>50</td>\n",
       "      <td>5a10018c-1585-498f-a5cd-3a7c79cfbb6f</td>\n",
       "      <td>https://www.moneysmart.id/rumah-singgah-pasha-...</td>\n",
       "      <td>https://www.moneysmart.id/rumah-singgah-pasha-...</td>\n",
       "      <td>False</td>\n",
       "      <td>True</td>\n",
       "      <td>False</td>\n",
       "      <td>True</td>\n",
       "    </tr>\n",
       "    <tr>\n",
       "      <th>4</th>\n",
       "      <td>2019-09-03 23:47:22.134</td>\n",
       "      <td>2019-09-03T23:47:22.134Z</td>\n",
       "      <td>event</td>\n",
       "      <td>Reading</td>\n",
       "      <td>Article Body 25</td>\n",
       "      <td>25</td>\n",
       "      <td>9d0bea57-cb28-4720-8b81-ae529b15ad58</td>\n",
       "      <td>https://www.moneysmart.id/panji-trihatmodjo-ge...</td>\n",
       "      <td>https://www.moneysmart.id/panji-trihatmodjo-ge...</td>\n",
       "      <td>False</td>\n",
       "      <td>True</td>\n",
       "      <td>False</td>\n",
       "      <td>True</td>\n",
       "    </tr>\n",
       "  </tbody>\n",
       "</table>\n",
       "</div>"
      ],
      "text/plain": [
       "        sent_at_timestamp                   sent_at   type event_name  \\\n",
       "0 2019-09-03 23:47:24.676  2019-09-03T23:47:24.676Z  event    Reading   \n",
       "1 2019-09-03 23:47:23.679  2019-09-03T23:47:23.679Z  event    Reading   \n",
       "2 2019-09-03 23:47:22.269  2019-09-03T23:47:22.269Z   page   PageView   \n",
       "3 2019-09-03 23:47:22.059  2019-09-03T23:47:22.059Z  event    Reading   \n",
       "4 2019-09-03 23:47:22.134  2019-09-03T23:47:22.134Z  event    Reading   \n",
       "\n",
       "            status  article_read_depth                          anonymous_id  \\\n",
       "0  Article Body 50                  50  23e29496-49af-4b8c-b7a3-6755efb15a22   \n",
       "1  Article Body 50                  50  ea8cb9ae-bf5f-4f4d-9bf8-a0b912c0c3cf   \n",
       "2             None                   0  5892e337-2770-4314-8eea-3f5a76c721be   \n",
       "3  Article Body 50                  50  5a10018c-1585-498f-a5cd-3a7c79cfbb6f   \n",
       "4  Article Body 25                  25  9d0bea57-cb28-4720-8b81-ae529b15ad58   \n",
       "\n",
       "                                       canonical_url  \\\n",
       "0  https://www.moneysmart.id/usaha-modal-10-juta-...   \n",
       "1  https://www.moneysmart.id/ustadz-abdul-somad-m...   \n",
       "2  https://www.moneysmart.id/keluarga-terkaya-di-...   \n",
       "3  https://www.moneysmart.id/rumah-singgah-pasha-...   \n",
       "4  https://www.moneysmart.id/panji-trihatmodjo-ge...   \n",
       "\n",
       "                                            page_url  is_amp  \\\n",
       "0  https://www.moneysmart.id/usaha-modal-10-juta-...   False   \n",
       "1  https://www.moneysmart.id/ustadz-abdul-somad-m...   False   \n",
       "2  https://www.moneysmart.id/keluarga-terkaya-di-...   False   \n",
       "3  https://www.moneysmart.id/rumah-singgah-pasha-...   False   \n",
       "4  https://www.moneysmart.id/panji-trihatmodjo-ge...   False   \n",
       "\n",
       "   has_marketing_param  is_test  is_control  \n",
       "0                 True    False        True  \n",
       "1                 True    False        True  \n",
       "2                 True    False        True  \n",
       "3                 True    False        True  \n",
       "4                 True    False        True  "
      ]
     },
     "execution_count": 306,
     "metadata": {},
     "output_type": "execute_result"
    }
   ],
   "source": [
    "#pageviews_with_categories = pageview_events.join()\n",
    "events.head()"
   ]
  },
  {
   "cell_type": "markdown",
   "metadata": {},
   "source": [
    "### Scalyr Setup\n",
    "\n",
    "Functions to use later.  See https://www.scalyr.com/help/api#query"
   ]
  },
  {
   "cell_type": "code",
   "execution_count": null,
   "metadata": {},
   "outputs": [],
   "source": [
    "def query_scalyr():\n",
    "    api_key = creds.scalyr_api_key\n",
    "    query_url = https://www.scalyr.com/api/query\n",
    "    log_file_query_id_prod_pwa = \"log=*fe-pwa-id-production*\"\n",
    "    log_file_query_id_pod_wordpress = \n",
    "    ok_statuses = list(range(200,210))+ list(range(300, 310))\n",
    "    meh_statuses = [404,]\n",
    "    bad_statuses = list(range(500, 510))\n",
    "    print(\"Bad statuses\", bad_statuses)\n",
    "    \n",
    "\"\"\"\n",
    "{\n",
    "  \"token\":             \"xxx\",\n",
    "  \"queryType\":         \"log\",\n",
    "  \"filter\":            \"...\",\n",
    "  \"startTime\":         \"...\",\n",
    "  \"endTime\":           \"...\",\n",
    "  \"maxCount\":          nnn,\n",
    "  \"pageMode\":          \"...\",\n",
    "  \"columns\":           \"...\",\n",
    "  \"continuationToken\": \"...\",\n",
    "  \"priority\":          \"...\"\n",
    "}\n",
    "\"\"\"\n",
    "\n",
    "\"\"\"\n",
    "{\n",
    "  \"status\": \"success\",\n",
    "  \"matches\": [\n",
    "    {\n",
    "      \"timestamp\": \"1393009097459537089\",\n",
    "      \"message\": \"hello, world\",\n",
    "      \"severity\": 3,\n",
    "      \"session\": \"sess_d5952fdd-eed2-45f1-8106-b2f2af55dabd\",\n",
    "      \"thread\": \"28\",\n",
    "      \"fields\": {\n",
    "        \"tag\": \"foo\"\n",
    "      }\n",
    "    }\n",
    "  ],\n",
    "  \"sessions\": {\n",
    "    \"sess_d5952fdd-eed2-45f1-8106-b2f2af55dabd\": {\n",
    "      \"serverHost\": \"some.host.name\",\n",
    "      \"serverIP\": \"1.2.3.4\",\n",
    "      \"session\": \"sess_d5952fdd-eed2-45f1-8106-b2f2af55dabd\"\n",
    "    }\n",
    "  },\n",
    "  \"executionTime\": 12,\n",
    "  \"continuationToken\": \"L6_ckjI4BgATVPZkxGaUwQ--\"\n",
    "}\n",
    "\n",
    "\"\"\"\n"
   ]
  },
  {
   "cell_type": "code",
   "execution_count": null,
   "metadata": {},
   "outputs": [],
   "source": []
  },
  {
   "cell_type": "markdown",
   "metadata": {},
   "source": [
    "# Data Cleaning\n",
    "\n",
    "* Remove what looks like bots / any really heavy users (not sure if most bots will trigger analytics events)\n"
   ]
  },
  {
   "cell_type": "code",
   "execution_count": 13,
   "metadata": {},
   "outputs": [],
   "source": [
    "non_amp_events = events[events.is_amp==False]"
   ]
  },
  {
   "cell_type": "markdown",
   "metadata": {},
   "source": [
    "# Sense Checks"
   ]
  },
  {
   "cell_type": "markdown",
   "metadata": {},
   "source": [
    "## Overall AB Split\n",
    "\n",
    "Theories about why the AB split won't match what is \"set\" on the AB splitter:\n",
    "\n",
    "* Repeat users will almost always be in the control set, and we have built up a good backlog over a couple of months (40% of our users are returning from google analytics, but that is over full lifetime of the cookie https://analytics.google.com/analytics/web/?authuser=2#/report/visitors-type/a117250120w173910722p173182279/ )\n",
    "* Potenially it's related to coming from AMP (don't think so)\n",
    "* Potentially it's based on origin of the traffic (e.g. certain query params, but this has been turned off)."
   ]
  },
  {
   "cell_type": "code",
   "execution_count": 3,
   "metadata": {},
   "outputs": [
    {
     "ename": "NameError",
     "evalue": "name 'non_amp_events' is not defined",
     "output_type": "error",
     "traceback": [
      "\u001b[0;31m---------------------------------------------------------------------------\u001b[0m",
      "\u001b[0;31mNameError\u001b[0m                                 Traceback (most recent call last)",
      "\u001b[0;32m<ipython-input-3-ef3e2fa94854>\u001b[0m in \u001b[0;36m<module>\u001b[0;34m()\u001b[0m\n\u001b[0;32m----> 1\u001b[0;31m \u001b[0mab_split_summary\u001b[0m \u001b[0;34m=\u001b[0m \u001b[0mnon_amp_events\u001b[0m\u001b[0;34m.\u001b[0m\u001b[0mgroupby\u001b[0m\u001b[0;34m(\u001b[0m\u001b[0;34m\"is_test\"\u001b[0m\u001b[0;34m)\u001b[0m\u001b[0;34m.\u001b[0m\u001b[0mcount\u001b[0m\u001b[0;34m(\u001b[0m\u001b[0;34m)\u001b[0m\u001b[0;34m[\u001b[0m\u001b[0;34m\"sent_at\"\u001b[0m\u001b[0;34m]\u001b[0m\u001b[0;34m\u001b[0m\u001b[0m\n\u001b[0m\u001b[1;32m      2\u001b[0m \u001b[0mab_split_summary_pretty\u001b[0m \u001b[0;34m=\u001b[0m \u001b[0;34m[\u001b[0m\u001b[0;34m[\u001b[0m\u001b[0;34m(\u001b[0m\u001b[0;34m\"Test (v2)\"\u001b[0m \u001b[0;32mif\u001b[0m \u001b[0mz\u001b[0m\u001b[0;34m[\u001b[0m\u001b[0;36m0\u001b[0m\u001b[0;34m]\u001b[0m \u001b[0;32melse\u001b[0m \u001b[0;34m\"Control (v1)\"\u001b[0m\u001b[0;34m)\u001b[0m\u001b[0;34m,\u001b[0m \u001b[0mz\u001b[0m\u001b[0;34m[\u001b[0m\u001b[0;36m1\u001b[0m\u001b[0;34m]\u001b[0m\u001b[0;34m]\u001b[0m \u001b[0;32mfor\u001b[0m \u001b[0mz\u001b[0m \u001b[0;32min\u001b[0m \u001b[0mab_split_summary\u001b[0m\u001b[0;34m.\u001b[0m\u001b[0miteritems\u001b[0m\u001b[0;34m(\u001b[0m\u001b[0;34m)\u001b[0m\u001b[0;34m]\u001b[0m\u001b[0;34m\u001b[0m\u001b[0m\n\u001b[1;32m      3\u001b[0m \u001b[0;34m\u001b[0m\u001b[0m\n\u001b[1;32m      4\u001b[0m \u001b[0;34m\u001b[0m\u001b[0m\n\u001b[1;32m      5\u001b[0m \u001b[0;32mimport\u001b[0m \u001b[0mplotly\u001b[0m\u001b[0;34m.\u001b[0m\u001b[0mgraph_objects\u001b[0m \u001b[0;32mas\u001b[0m \u001b[0mgo\u001b[0m\u001b[0;34m\u001b[0m\u001b[0m\n",
      "\u001b[0;31mNameError\u001b[0m: name 'non_amp_events' is not defined"
     ]
    }
   ],
   "source": [
    "ab_split_summary = non_amp_events.groupby(\"is_test\").count()[\"sent_at\"]\n",
    "ab_split_summary_pretty = [[(\"Test (v2)\" if z[0] else \"Control (v1)\"), z[1]] for z in ab_split_summary.iteritems()]\n",
    "\n",
    "\n",
    "import plotly.graph_objects as go\n",
    "fig = make_subplots(1, 1)\n",
    "\n",
    "fig.add_trace(\n",
    "    go.Pie(values=[z[1] for z in ab_split_summary_pretty], labels=[z[0] for z in ab_split_summary_pretty]),\n",
    ")\n",
    "\n",
    "                \n",
    "fig.show()"
   ]
  },
  {
   "cell_type": "code",
   "execution_count": 296,
   "metadata": {},
   "outputs": [],
   "source": [
    "\n"
   ]
  },
  {
   "cell_type": "markdown",
   "metadata": {},
   "source": [
    "## Type of Event"
   ]
  },
  {
   "cell_type": "code",
   "execution_count": 266,
   "metadata": {},
   "outputs": [],
   "source": [
    "event_name_counts = events.groupby(events.event_name)\n",
    "event_name_counts\n"
   ]
  },
  {
   "cell_type": "code",
   "execution_count": 305,
   "metadata": {},
   "outputs": [
    {
     "name": "stdout",
     "output_type": "stream",
     "text": [
      "ERROR: Missing expected statuses for Reading event in Test: Article Body 0\n",
      "ERROR: Missing expected statuses for Reading event in Control: Article Body 0\n"
     ]
    }
   ],
   "source": [
    "# Doing this sense check on the event fields, not the computed depth\n",
    "expected_statuses = [\"Article Body {}\".format(i) for i in [0, 25, 50, 75, 100]]\n",
    "expected_statuses_set = set(expected_statuses)\n",
    "reading_status_counts = events[events.event_name==\"Reading\"].groupby([events.status, events.is_test]).count()['sent_at'] #[[\"event_name\", \"is_test\" ], :]\n",
    "reading_status_counts.sort_index()\n",
    "reading_status_counts = [[z[0][0], z[0][1], z[1]] for z in reading_status_counts.iteritems()]\n",
    "test_reading_status_counts = [z for z in reading_status_counts if z[1]==True]\n",
    "control_reading_status_counts = [z for z in reading_status_counts if z[1]==True]\n",
    "\n",
    "for name, reading_statuses in [[\"Test\", test_reading_status_counts], [\"Control\", control_reading_status_counts]]:\n",
    "    statuses_set = set([z[0] for z in reading_statuses])\n",
    "    missing_statuses = list(expected_statuses_set - statuses_set)\n",
    "    extra_statuses = list(statuses_set - expected_statuses_set)\n",
    "    \n",
    "    if len(missing_statuses)>0:\n",
    "        print(\"ERROR: Missing expected statuses for Reading event in \"+name+\": \" + \", \".join(missing_statuses))\n",
    "        \n",
    "    if len(extra_statuses)>0:\n",
    "        print(\"ERROR: Unexpected statuses for Reading event in \"+name+\": \" + \", \".join(extra_statuses))\n",
    "                        \n",
    "# Going to look at scroll depth comparison lower down, so don't need to worry about it just now.\n"
   ]
  },
  {
   "cell_type": "markdown",
   "metadata": {},
   "source": [
    "## Pageviews Grouped\n",
    "\n",
    "* By category\n",
    "* By device\n",
    "* By query params (limited to the top n, and grouping glcid and fbclid)\n",
    "\n",
    "... and for each one give the v2 percentage (which might need another chart)"
   ]
  },
  {
   "cell_type": "code",
   "execution_count": null,
   "metadata": {},
   "outputs": [],
   "source": []
  },
  {
   "cell_type": "markdown",
   "metadata": {},
   "source": [
    "## Distribution Over Time"
   ]
  },
  {
   "cell_type": "code",
   "execution_count": 262,
   "metadata": {},
   "outputs": [
    {
     "ename": "AttributeError",
     "evalue": "'Series' object has no attribute 'hour'",
     "output_type": "error",
     "traceback": [
      "\u001b[0;31m---------------------------------------------------------------------------\u001b[0m",
      "\u001b[0;31mAttributeError\u001b[0m                            Traceback (most recent call last)",
      "\u001b[0;32m<ipython-input-262-a7b4cbcb8b84>\u001b[0m in \u001b[0;36m<module>\u001b[0;34m()\u001b[0m\n\u001b[1;32m      1\u001b[0m \u001b[0;31m# Group by hour and plot with time axis\u001b[0m\u001b[0;34m\u001b[0m\u001b[0;34m\u001b[0m\u001b[0m\n\u001b[0;32m----> 2\u001b[0;31m \u001b[0mevents\u001b[0m\u001b[0;34m.\u001b[0m\u001b[0mgroupby\u001b[0m\u001b[0;34m(\u001b[0m\u001b[0;34m[\u001b[0m\u001b[0mevents\u001b[0m\u001b[0;34m.\u001b[0m\u001b[0msent_at_timestamp\u001b[0m\u001b[0;34m.\u001b[0m\u001b[0mhour\u001b[0m\u001b[0;34m,\u001b[0m \u001b[0mevents\u001b[0m\u001b[0;34m.\u001b[0m\u001b[0mis_test\u001b[0m\u001b[0;34m]\u001b[0m\u001b[0;34m)\u001b[0m\u001b[0;34m.\u001b[0m\u001b[0mcount\u001b[0m\u001b[0;34m(\u001b[0m\u001b[0;34m)\u001b[0m\u001b[0;34m\u001b[0m\u001b[0m\n\u001b[0m",
      "\u001b[0;32m~/anaconda3/envs/python3/lib/python3.6/site-packages/pandas/core/generic.py\u001b[0m in \u001b[0;36m__getattr__\u001b[0;34m(self, name)\u001b[0m\n\u001b[1;32m   5065\u001b[0m             \u001b[0;32mif\u001b[0m \u001b[0mself\u001b[0m\u001b[0;34m.\u001b[0m\u001b[0m_info_axis\u001b[0m\u001b[0;34m.\u001b[0m\u001b[0m_can_hold_identifiers_and_holds_name\u001b[0m\u001b[0;34m(\u001b[0m\u001b[0mname\u001b[0m\u001b[0;34m)\u001b[0m\u001b[0;34m:\u001b[0m\u001b[0;34m\u001b[0m\u001b[0m\n\u001b[1;32m   5066\u001b[0m                 \u001b[0;32mreturn\u001b[0m \u001b[0mself\u001b[0m\u001b[0;34m[\u001b[0m\u001b[0mname\u001b[0m\u001b[0;34m]\u001b[0m\u001b[0;34m\u001b[0m\u001b[0m\n\u001b[0;32m-> 5067\u001b[0;31m             \u001b[0;32mreturn\u001b[0m \u001b[0mobject\u001b[0m\u001b[0;34m.\u001b[0m\u001b[0m__getattribute__\u001b[0m\u001b[0;34m(\u001b[0m\u001b[0mself\u001b[0m\u001b[0;34m,\u001b[0m \u001b[0mname\u001b[0m\u001b[0;34m)\u001b[0m\u001b[0;34m\u001b[0m\u001b[0m\n\u001b[0m\u001b[1;32m   5068\u001b[0m \u001b[0;34m\u001b[0m\u001b[0m\n\u001b[1;32m   5069\u001b[0m     \u001b[0;32mdef\u001b[0m \u001b[0m__setattr__\u001b[0m\u001b[0;34m(\u001b[0m\u001b[0mself\u001b[0m\u001b[0;34m,\u001b[0m \u001b[0mname\u001b[0m\u001b[0;34m,\u001b[0m \u001b[0mvalue\u001b[0m\u001b[0;34m)\u001b[0m\u001b[0;34m:\u001b[0m\u001b[0;34m\u001b[0m\u001b[0m\n",
      "\u001b[0;31mAttributeError\u001b[0m: 'Series' object has no attribute 'hour'"
     ]
    }
   ],
   "source": [
    "# Group by hour and plot with time axis\n",
    "events.groupby([events.sent_at_timestamp.hour, events.is_test]).count()"
   ]
  },
  {
   "cell_type": "markdown",
   "metadata": {},
   "source": [
    "# Scroll Depth Distributions\n",
    "\n",
    "By split:\n",
    "* How far down the page does a user scroll on average (table and plot)\n",
    "* Time to reach a point down the page (charts) \n"
   ]
  },
  {
   "cell_type": "code",
   "execution_count": null,
   "metadata": {},
   "outputs": [],
   "source": []
  },
  {
   "cell_type": "markdown",
   "metadata": {},
   "source": [
    "# Pageview Per Session\n",
    "\n",
    "* Where they click (future)\n",
    "* "
   ]
  },
  {
   "cell_type": "code",
   "execution_count": null,
   "metadata": {},
   "outputs": [],
   "source": []
  },
  {
   "cell_type": "markdown",
   "metadata": {},
   "source": [
    "# Exploring by Browser / Device\n",
    "\n",
    "We've seen issues on Babe, UCBrowser etc.  Need to check if there are issues from those platforms.\n",
    "\n",
    "The issues we saw likely resulted in scroll depth issues.  I'm also not sure what analytics we're going to get from those platform, so just generally need to poke it."
   ]
  },
  {
   "cell_type": "markdown",
   "metadata": {},
   "source": [
    "## Hacky Events By Device Type"
   ]
  },
  {
   "cell_type": "code",
   "execution_count": 262,
   "metadata": {},
   "outputs": [
    {
     "data": {
      "text/html": [
       "<div>\n",
       "<style scoped>\n",
       "    .dataframe tbody tr th:only-of-type {\n",
       "        vertical-align: middle;\n",
       "    }\n",
       "\n",
       "    .dataframe tbody tr th {\n",
       "        vertical-align: top;\n",
       "    }\n",
       "\n",
       "    .dataframe thead th {\n",
       "        text-align: right;\n",
       "    }\n",
       "</style>\n",
       "<table border=\"1\" class=\"dataframe\">\n",
       "  <thead>\n",
       "    <tr style=\"text-align: right;\">\n",
       "      <th></th>\n",
       "      <th>sent_at_timestamp</th>\n",
       "      <th>sent_at</th>\n",
       "      <th>type</th>\n",
       "      <th>event_name</th>\n",
       "      <th>status</th>\n",
       "      <th>article_read_depth</th>\n",
       "      <th>anonymous_id</th>\n",
       "      <th>canonical_url</th>\n",
       "      <th>page_url</th>\n",
       "      <th>referrer</th>\n",
       "      <th>...</th>\n",
       "      <th>has_marketing_param</th>\n",
       "      <th>is_test</th>\n",
       "      <th>is_control</th>\n",
       "      <th>device_type</th>\n",
       "      <th>browser_name</th>\n",
       "      <th>browser_major_version</th>\n",
       "      <th>browser_version</th>\n",
       "      <th>operating_system_name</th>\n",
       "      <th>operating_system_version</th>\n",
       "      <th>user_agent</th>\n",
       "    </tr>\n",
       "  </thead>\n",
       "  <tbody>\n",
       "    <tr>\n",
       "      <th>0</th>\n",
       "      <td>2019-10-12 18:52:28.633</td>\n",
       "      <td>2019-10-12T18:52:28.633Z</td>\n",
       "      <td>page</td>\n",
       "      <td>PageView</td>\n",
       "      <td>None</td>\n",
       "      <td>0</td>\n",
       "      <td>4a298a33-84b7-444e-96d7-37fe20889347</td>\n",
       "      <td>https://www.moneysmart.id/mobil-arteria-dahlan/</td>\n",
       "      <td>https://www.moneysmart.id/mobil-arteria-dahlan...</td>\n",
       "      <td>http://m.facebook.com/</td>\n",
       "      <td>...</td>\n",
       "      <td>True</td>\n",
       "      <td>False</td>\n",
       "      <td>True</td>\n",
       "      <td>mobile</td>\n",
       "      <td>Facebook</td>\n",
       "      <td>242</td>\n",
       "      <td>242.0.0.43.119</td>\n",
       "      <td>Android</td>\n",
       "      <td>7.1.1</td>\n",
       "      <td>Mozilla/5.0 (Linux; Android 7.1.1; CPH1717 Bui...</td>\n",
       "    </tr>\n",
       "    <tr>\n",
       "      <th>1</th>\n",
       "      <td>2019-10-12 18:52:29.893</td>\n",
       "      <td>2019-10-12T18:52:29.893Z</td>\n",
       "      <td>page</td>\n",
       "      <td>PageView</td>\n",
       "      <td>None</td>\n",
       "      <td>0</td>\n",
       "      <td>29739869-94bd-4c21-8d89-751ef2b204b6</td>\n",
       "      <td>https://www.moneysmart.id/keluarga-halilintar-...</td>\n",
       "      <td>https://www.moneysmart.id/keluarga-halilintar-...</td>\n",
       "      <td></td>\n",
       "      <td>...</td>\n",
       "      <td>True</td>\n",
       "      <td>False</td>\n",
       "      <td>True</td>\n",
       "      <td>mobile</td>\n",
       "      <td>None</td>\n",
       "      <td>None</td>\n",
       "      <td>None</td>\n",
       "      <td>Android</td>\n",
       "      <td>27</td>\n",
       "      <td>BacaBerita App/11.5.1 (Linux; U; Android 27; e...</td>\n",
       "    </tr>\n",
       "    <tr>\n",
       "      <th>2</th>\n",
       "      <td>2019-10-12 18:52:29.160</td>\n",
       "      <td>2019-10-12T18:52:29.160Z</td>\n",
       "      <td>page</td>\n",
       "      <td>PageView</td>\n",
       "      <td>None</td>\n",
       "      <td>0</td>\n",
       "      <td>a954d9ba-b4ee-47d2-b09e-cd0ace077603</td>\n",
       "      <td>https://www.moneysmart.id/tahir-masuk-jajajara...</td>\n",
       "      <td>https://www.moneysmart.id/tahir-masuk-jajajara...</td>\n",
       "      <td></td>\n",
       "      <td>...</td>\n",
       "      <td>True</td>\n",
       "      <td>False</td>\n",
       "      <td>True</td>\n",
       "      <td>mobile</td>\n",
       "      <td>None</td>\n",
       "      <td>None</td>\n",
       "      <td>None</td>\n",
       "      <td>Android</td>\n",
       "      <td>28</td>\n",
       "      <td>BacaBerita App/12.2.2 (Linux; U; Android 28; e...</td>\n",
       "    </tr>\n",
       "    <tr>\n",
       "      <th>5</th>\n",
       "      <td>2019-10-12 18:52:27.833</td>\n",
       "      <td>2019-10-12T18:52:27.833Z</td>\n",
       "      <td>page</td>\n",
       "      <td>PageView</td>\n",
       "      <td>None</td>\n",
       "      <td>0</td>\n",
       "      <td>6e600b3b-a905-4281-b9cb-8a9c595276bf</td>\n",
       "      <td>https://www.moneysmart.id/film-live-action-dis...</td>\n",
       "      <td>https://www.moneysmart.id/film-live-action-dis...</td>\n",
       "      <td>https://www.google.co.id/search?q=film+powerfu...</td>\n",
       "      <td>...</td>\n",
       "      <td>False</td>\n",
       "      <td>False</td>\n",
       "      <td>True</td>\n",
       "      <td>mobile</td>\n",
       "      <td>UCBrowser</td>\n",
       "      <td>12</td>\n",
       "      <td>12.13.0.1207</td>\n",
       "      <td>Android</td>\n",
       "      <td>8.1.0</td>\n",
       "      <td>Mozilla/5.0 (Linux; U; Android 8.1.0; en-US; v...</td>\n",
       "    </tr>\n",
       "    <tr>\n",
       "      <th>7</th>\n",
       "      <td>2019-10-12 18:52:30.706</td>\n",
       "      <td>2019-10-12T18:52:30.706Z</td>\n",
       "      <td>page</td>\n",
       "      <td>PageView</td>\n",
       "      <td>None</td>\n",
       "      <td>0</td>\n",
       "      <td>92395e5b-2486-4f9a-bac6-c6b7e9371068</td>\n",
       "      <td>https://www.moneysmart.id/keluarga-halilintar-...</td>\n",
       "      <td>https://www.moneysmart.id/keluarga-halilintar-...</td>\n",
       "      <td></td>\n",
       "      <td>...</td>\n",
       "      <td>True</td>\n",
       "      <td>False</td>\n",
       "      <td>True</td>\n",
       "      <td>mobile</td>\n",
       "      <td>None</td>\n",
       "      <td>None</td>\n",
       "      <td>None</td>\n",
       "      <td>Android</td>\n",
       "      <td>27</td>\n",
       "      <td>BacaBerita App/12.1.4 (Linux; U; Android 27; e...</td>\n",
       "    </tr>\n",
       "  </tbody>\n",
       "</table>\n",
       "<p>5 rows × 21 columns</p>\n",
       "</div>"
      ],
      "text/plain": [
       "        sent_at_timestamp                   sent_at  type event_name status  \\\n",
       "0 2019-10-12 18:52:28.633  2019-10-12T18:52:28.633Z  page   PageView   None   \n",
       "1 2019-10-12 18:52:29.893  2019-10-12T18:52:29.893Z  page   PageView   None   \n",
       "2 2019-10-12 18:52:29.160  2019-10-12T18:52:29.160Z  page   PageView   None   \n",
       "5 2019-10-12 18:52:27.833  2019-10-12T18:52:27.833Z  page   PageView   None   \n",
       "7 2019-10-12 18:52:30.706  2019-10-12T18:52:30.706Z  page   PageView   None   \n",
       "\n",
       "   article_read_depth                          anonymous_id  \\\n",
       "0                   0  4a298a33-84b7-444e-96d7-37fe20889347   \n",
       "1                   0  29739869-94bd-4c21-8d89-751ef2b204b6   \n",
       "2                   0  a954d9ba-b4ee-47d2-b09e-cd0ace077603   \n",
       "5                   0  6e600b3b-a905-4281-b9cb-8a9c595276bf   \n",
       "7                   0  92395e5b-2486-4f9a-bac6-c6b7e9371068   \n",
       "\n",
       "                                       canonical_url  \\\n",
       "0    https://www.moneysmart.id/mobil-arteria-dahlan/   \n",
       "1  https://www.moneysmart.id/keluarga-halilintar-...   \n",
       "2  https://www.moneysmart.id/tahir-masuk-jajajara...   \n",
       "5  https://www.moneysmart.id/film-live-action-dis...   \n",
       "7  https://www.moneysmart.id/keluarga-halilintar-...   \n",
       "\n",
       "                                            page_url  \\\n",
       "0  https://www.moneysmart.id/mobil-arteria-dahlan...   \n",
       "1  https://www.moneysmart.id/keluarga-halilintar-...   \n",
       "2  https://www.moneysmart.id/tahir-masuk-jajajara...   \n",
       "5  https://www.moneysmart.id/film-live-action-dis...   \n",
       "7  https://www.moneysmart.id/keluarga-halilintar-...   \n",
       "\n",
       "                                            referrer  ...  \\\n",
       "0                             http://m.facebook.com/  ...   \n",
       "1                                                     ...   \n",
       "2                                                     ...   \n",
       "5  https://www.google.co.id/search?q=film+powerfu...  ...   \n",
       "7                                                     ...   \n",
       "\n",
       "   has_marketing_param  is_test  is_control  device_type browser_name  \\\n",
       "0                 True    False        True       mobile     Facebook   \n",
       "1                 True    False        True       mobile         None   \n",
       "2                 True    False        True       mobile         None   \n",
       "5                False    False        True       mobile    UCBrowser   \n",
       "7                 True    False        True       mobile         None   \n",
       "\n",
       "  browser_major_version browser_version operating_system_name  \\\n",
       "0                   242  242.0.0.43.119               Android   \n",
       "1                  None            None               Android   \n",
       "2                  None            None               Android   \n",
       "5                    12    12.13.0.1207               Android   \n",
       "7                  None            None               Android   \n",
       "\n",
       "  operating_system_version                                         user_agent  \n",
       "0                    7.1.1  Mozilla/5.0 (Linux; Android 7.1.1; CPH1717 Bui...  \n",
       "1                       27  BacaBerita App/11.5.1 (Linux; U; Android 27; e...  \n",
       "2                       28  BacaBerita App/12.2.2 (Linux; U; Android 28; e...  \n",
       "5                    8.1.0  Mozilla/5.0 (Linux; U; Android 8.1.0; en-US; v...  \n",
       "7                       27  BacaBerita App/12.1.4 (Linux; U; Android 27; e...  \n",
       "\n",
       "[5 rows x 21 columns]"
      ]
     },
     "execution_count": 262,
     "metadata": {},
     "output_type": "execute_result"
    }
   ],
   "source": [
    "events.head()\n",
    "events[events.event_name==\"PageView\"].head()"
   ]
  },
  {
   "cell_type": "code",
   "execution_count": 302,
   "metadata": {},
   "outputs": [],
   "source": [
    "# Get the events for a given day by device type, across all URLs\n",
    "\n",
    "\n",
    "\"\"\", context.device.type as device_type\n",
    "        , context.browser.name as browser_name\n",
    "        , context.browser.major as browser_major_version\n",
    "        , context.browser.version as browser_version\n",
    "        \n",
    "        , context.operating_system.name as operating_system_name\n",
    "        , context.operating_system.version as operating_system_version\n",
    "        , context.user_agent as user_agent\"\"\"\n",
    "\n",
    "# cols_to_group_by = [\"event_name\", \"status\",  \"device_type\", \"browser_name\", \"browser_version\"]\n",
    "cols_to_group_by = [\"event_name\", \"status\",  \"device_type\", \"browser_name\", \"user_agent\"]\n",
    "cols_to_group_by  = [\"event_name\", \"status\",  \"device_type\", ]\n",
    "# combined_raw_df  = events.groupby(cols_to_group_by+[\"is_test\",]).size()\n",
    "\n",
    "combined_raw_df = pd.DataFrame({\"count\":events.fillna(0).groupby(cols_to_group_by+[\"is_test\",]).size()}).reset_index()  #fillna(-1) is to stop it removing Nulls \n",
    "\n",
    "# combined_raw_df[combined_raw_df.event_name==\"PageView\"]\n"
   ]
  },
  {
   "cell_type": "code",
   "execution_count": 303,
   "metadata": {},
   "outputs": [],
   "source": [
    "# combined_raw_df[combined_raw_df.is_test==True]"
   ]
  },
  {
   "cell_type": "code",
   "execution_count": 304,
   "metadata": {},
   "outputs": [
    {
     "name": "stdout",
     "output_type": "stream",
     "text": [
      "   event_name            status device_type  is_test  test_count\n",
      "2    PageView                 0     desktop     True        1049\n",
      "4    PageView                 0      mobile     True       26023\n",
      "6    PageView                 0      tablet     True         241\n",
      "9     Reading  Article Body 100     desktop     True         598\n",
      "11    Reading  Article Body 100      mobile     True        9975\n",
      "13    Reading  Article Body 100      tablet     True          94\n",
      "16    Reading   Article Body 25     desktop     True         816\n",
      "18    Reading   Article Body 25      mobile     True       12638\n",
      "20    Reading   Article Body 25      tablet     True         117\n",
      "23    Reading   Article Body 50     desktop     True         749\n",
      "25    Reading   Article Body 50      mobile     True       11719\n",
      "27    Reading   Article Body 50      tablet     True         113\n",
      "30    Reading   Article Body 75     desktop     True         683\n",
      "32    Reading   Article Body 75      mobile     True       10949\n",
      "34    Reading   Article Body 75      tablet     True         106\n"
     ]
    }
   ],
   "source": [
    "\n",
    "\n",
    "# join across both sides of the AB test\n",
    "test_df =combined_raw_df[combined_raw_df.is_test==True]\n",
    "test_df = test_df.rename(columns={\"count\":\"test_count\"}) #in_place = True\n",
    "control_df = combined_raw_df[combined_raw_df.is_test==False]\n",
    "control_df = control_df.rename(columns={\"count\":\"control_count\"})\n",
    "\n",
    "print(test_df.head(20))\n",
    "\n",
    "#print(control_df.head())\n",
    "\n",
    "\n",
    "\n",
    "#print(test_df.keys)\n",
    "test_df.reset_index()\n",
    "#print(20*\"-\")\n",
    "#print(test_df.keys())\n",
    "#print(test_df.columns)\n",
    "test_df\n",
    "control_df.reset_index()\n",
    "test_df = test_df.set_index(cols_to_group_by)\n",
    "control_df = control_df.set_index(cols_to_group_by)\n",
    "\n",
    "combined_df = test_df.join(control_df, rsuffix=\"_\").reset_index()\n",
    "#combined_df.fillna(0) #get rid of NaN"
   ]
  },
  {
   "cell_type": "code",
   "execution_count": 305,
   "metadata": {},
   "outputs": [],
   "source": [
    "combined_df[\"test_fraction\"] = combined_df.apply (lambda row: row.test_count/(row.control_count + row.test_count), axis=1)"
   ]
  },
  {
   "cell_type": "code",
   "execution_count": 306,
   "metadata": {},
   "outputs": [
    {
     "data": {
      "text/html": [
       "<div>\n",
       "<style scoped>\n",
       "    .dataframe tbody tr th:only-of-type {\n",
       "        vertical-align: middle;\n",
       "    }\n",
       "\n",
       "    .dataframe tbody tr th {\n",
       "        vertical-align: top;\n",
       "    }\n",
       "\n",
       "    .dataframe thead th {\n",
       "        text-align: right;\n",
       "    }\n",
       "</style>\n",
       "<table border=\"1\" class=\"dataframe\">\n",
       "  <thead>\n",
       "    <tr style=\"text-align: right;\">\n",
       "      <th></th>\n",
       "      <th>event_name</th>\n",
       "      <th>status</th>\n",
       "      <th>device_type</th>\n",
       "      <th>is_test</th>\n",
       "      <th>test_count</th>\n",
       "      <th>is_test_</th>\n",
       "      <th>control_count</th>\n",
       "      <th>test_fraction</th>\n",
       "    </tr>\n",
       "  </thead>\n",
       "  <tbody>\n",
       "    <tr>\n",
       "      <th>13</th>\n",
       "      <td>Reading</td>\n",
       "      <td>Article Body 75</td>\n",
       "      <td>mobile</td>\n",
       "      <td>True</td>\n",
       "      <td>10949</td>\n",
       "      <td>False</td>\n",
       "      <td>119469</td>\n",
       "      <td>0.083953</td>\n",
       "    </tr>\n",
       "    <tr>\n",
       "      <th>4</th>\n",
       "      <td>Reading</td>\n",
       "      <td>Article Body 100</td>\n",
       "      <td>mobile</td>\n",
       "      <td>True</td>\n",
       "      <td>9975</td>\n",
       "      <td>False</td>\n",
       "      <td>108195</td>\n",
       "      <td>0.084412</td>\n",
       "    </tr>\n",
       "    <tr>\n",
       "      <th>10</th>\n",
       "      <td>Reading</td>\n",
       "      <td>Article Body 50</td>\n",
       "      <td>mobile</td>\n",
       "      <td>True</td>\n",
       "      <td>11719</td>\n",
       "      <td>False</td>\n",
       "      <td>125681</td>\n",
       "      <td>0.085291</td>\n",
       "    </tr>\n",
       "    <tr>\n",
       "      <th>7</th>\n",
       "      <td>Reading</td>\n",
       "      <td>Article Body 25</td>\n",
       "      <td>mobile</td>\n",
       "      <td>True</td>\n",
       "      <td>12638</td>\n",
       "      <td>False</td>\n",
       "      <td>132508</td>\n",
       "      <td>0.087071</td>\n",
       "    </tr>\n",
       "    <tr>\n",
       "      <th>9</th>\n",
       "      <td>Reading</td>\n",
       "      <td>Article Body 50</td>\n",
       "      <td>desktop</td>\n",
       "      <td>True</td>\n",
       "      <td>749</td>\n",
       "      <td>False</td>\n",
       "      <td>7535</td>\n",
       "      <td>0.090415</td>\n",
       "    </tr>\n",
       "    <tr>\n",
       "      <th>6</th>\n",
       "      <td>Reading</td>\n",
       "      <td>Article Body 25</td>\n",
       "      <td>desktop</td>\n",
       "      <td>True</td>\n",
       "      <td>816</td>\n",
       "      <td>False</td>\n",
       "      <td>8204</td>\n",
       "      <td>0.090466</td>\n",
       "    </tr>\n",
       "    <tr>\n",
       "      <th>0</th>\n",
       "      <td>PageView</td>\n",
       "      <td>0</td>\n",
       "      <td>desktop</td>\n",
       "      <td>True</td>\n",
       "      <td>1049</td>\n",
       "      <td>False</td>\n",
       "      <td>10546</td>\n",
       "      <td>0.090470</td>\n",
       "    </tr>\n",
       "    <tr>\n",
       "      <th>12</th>\n",
       "      <td>Reading</td>\n",
       "      <td>Article Body 75</td>\n",
       "      <td>desktop</td>\n",
       "      <td>True</td>\n",
       "      <td>683</td>\n",
       "      <td>False</td>\n",
       "      <td>6844</td>\n",
       "      <td>0.090740</td>\n",
       "    </tr>\n",
       "    <tr>\n",
       "      <th>3</th>\n",
       "      <td>Reading</td>\n",
       "      <td>Article Body 100</td>\n",
       "      <td>desktop</td>\n",
       "      <td>True</td>\n",
       "      <td>598</td>\n",
       "      <td>False</td>\n",
       "      <td>5901</td>\n",
       "      <td>0.092014</td>\n",
       "    </tr>\n",
       "    <tr>\n",
       "      <th>5</th>\n",
       "      <td>Reading</td>\n",
       "      <td>Article Body 100</td>\n",
       "      <td>tablet</td>\n",
       "      <td>True</td>\n",
       "      <td>94</td>\n",
       "      <td>False</td>\n",
       "      <td>880</td>\n",
       "      <td>0.096509</td>\n",
       "    </tr>\n",
       "    <tr>\n",
       "      <th>8</th>\n",
       "      <td>Reading</td>\n",
       "      <td>Article Body 25</td>\n",
       "      <td>tablet</td>\n",
       "      <td>True</td>\n",
       "      <td>117</td>\n",
       "      <td>False</td>\n",
       "      <td>1066</td>\n",
       "      <td>0.098901</td>\n",
       "    </tr>\n",
       "    <tr>\n",
       "      <th>14</th>\n",
       "      <td>Reading</td>\n",
       "      <td>Article Body 75</td>\n",
       "      <td>tablet</td>\n",
       "      <td>True</td>\n",
       "      <td>106</td>\n",
       "      <td>False</td>\n",
       "      <td>963</td>\n",
       "      <td>0.099158</td>\n",
       "    </tr>\n",
       "    <tr>\n",
       "      <th>11</th>\n",
       "      <td>Reading</td>\n",
       "      <td>Article Body 50</td>\n",
       "      <td>tablet</td>\n",
       "      <td>True</td>\n",
       "      <td>113</td>\n",
       "      <td>False</td>\n",
       "      <td>1010</td>\n",
       "      <td>0.100623</td>\n",
       "    </tr>\n",
       "    <tr>\n",
       "      <th>1</th>\n",
       "      <td>PageView</td>\n",
       "      <td>0</td>\n",
       "      <td>mobile</td>\n",
       "      <td>True</td>\n",
       "      <td>26023</td>\n",
       "      <td>False</td>\n",
       "      <td>187498</td>\n",
       "      <td>0.121876</td>\n",
       "    </tr>\n",
       "    <tr>\n",
       "      <th>2</th>\n",
       "      <td>PageView</td>\n",
       "      <td>0</td>\n",
       "      <td>tablet</td>\n",
       "      <td>True</td>\n",
       "      <td>241</td>\n",
       "      <td>False</td>\n",
       "      <td>1640</td>\n",
       "      <td>0.128123</td>\n",
       "    </tr>\n",
       "  </tbody>\n",
       "</table>\n",
       "</div>"
      ],
      "text/plain": [
       "   event_name            status device_type  is_test  test_count  is_test_  \\\n",
       "13    Reading   Article Body 75      mobile     True       10949     False   \n",
       "4     Reading  Article Body 100      mobile     True        9975     False   \n",
       "10    Reading   Article Body 50      mobile     True       11719     False   \n",
       "7     Reading   Article Body 25      mobile     True       12638     False   \n",
       "9     Reading   Article Body 50     desktop     True         749     False   \n",
       "6     Reading   Article Body 25     desktop     True         816     False   \n",
       "0    PageView                 0     desktop     True        1049     False   \n",
       "12    Reading   Article Body 75     desktop     True         683     False   \n",
       "3     Reading  Article Body 100     desktop     True         598     False   \n",
       "5     Reading  Article Body 100      tablet     True          94     False   \n",
       "8     Reading   Article Body 25      tablet     True         117     False   \n",
       "14    Reading   Article Body 75      tablet     True         106     False   \n",
       "11    Reading   Article Body 50      tablet     True         113     False   \n",
       "1    PageView                 0      mobile     True       26023     False   \n",
       "2    PageView                 0      tablet     True         241     False   \n",
       "\n",
       "    control_count  test_fraction  \n",
       "13         119469       0.083953  \n",
       "4          108195       0.084412  \n",
       "10         125681       0.085291  \n",
       "7          132508       0.087071  \n",
       "9            7535       0.090415  \n",
       "6            8204       0.090466  \n",
       "0           10546       0.090470  \n",
       "12           6844       0.090740  \n",
       "3            5901       0.092014  \n",
       "5             880       0.096509  \n",
       "8            1066       0.098901  \n",
       "14            963       0.099158  \n",
       "11           1010       0.100623  \n",
       "1          187498       0.121876  \n",
       "2            1640       0.128123  "
      ]
     },
     "execution_count": 306,
     "metadata": {},
     "output_type": "execute_result"
    }
   ],
   "source": [
    "# combined_df[combined_df['control_count']>1000][combined_df['browser_name']==\"Facebook\"].sort_values([\"browser_name\", \"browser_version\", \"status\"]).to_csv(\"results.csv\")\n",
    "# \"test_fraction\", \n",
    "\n",
    "# combined_df[combined_df['control_count']>100].sort_values([\"user_agent\", \"event_name\",\"status\"])\n",
    "\n",
    "\n",
    "combined_df[combined_df['control_count']>100][combined_df['test_count']>50].sort_values([\"test_fraction\"])\n"
   ]
  },
  {
   "cell_type": "markdown",
   "metadata": {},
   "source": [
    "# Error Logs\n",
    "\n",
    "\n",
    "## Scalyr\n",
    "\n",
    "https://www.scalyr.com/help/api#query\n",
    "\n",
    "* 500s and then with sense check removing bots\n",
    "* Where status != 200 or a 30x\n",
    "* All with links to the query dashboard.\n",
    "\n",
    "Do for:\n",
    "* ID v1\n",
    "* ID v2 front end\n",
    "\n",
    "\n",
    "## Airbrake?? \n",
    "\n",
    "* Overall counts probably only"
   ]
  },
  {
   "cell_type": "code",
   "execution_count": null,
   "metadata": {},
   "outputs": [],
   "source": []
  },
  {
   "cell_type": "markdown",
   "metadata": {},
   "source": [
    "# Search Console.\n",
    "\n",
    "* Position, clicks, impressions over time, with country filter set to ID\n",
    "* Track top organic urls and see if there's a different trend"
   ]
  },
  {
   "cell_type": "code",
   "execution_count": 312,
   "metadata": {},
   "outputs": [
    {
     "data": {
      "text/plain": [
       "42.048"
      ]
     },
     "execution_count": 312,
     "metadata": {},
     "output_type": "execute_result"
    }
   ],
   "source": [
    "0.0584*24*30"
   ]
  },
  {
   "cell_type": "markdown",
   "metadata": {},
   "source": [
    "# Digging Into What Makes Up a Split\n",
    "\n",
    "* By URL any significant  discrepancy?\n",
    "* Is it distorted by bots?"
   ]
  },
  {
   "cell_type": "markdown",
   "metadata": {},
   "source": [
    "## Pages Performing Worse in v2 Than v1\n",
    "\n",
    "Background to this is that we are seeing a drop off at the top of the page, and that might be due to specific pages, so we want to know if pages are performing poorly:\n",
    "\n",
    "* Pageviews ratio\n",
    "* Average scroll depth"
   ]
  },
  {
   "cell_type": "code",
   "execution_count": null,
   "metadata": {},
   "outputs": [],
   "source": []
  },
  {
   "cell_type": "markdown",
   "metadata": {},
   "source": [
    "# Query Params"
   ]
  },
  {
   "cell_type": "code",
   "execution_count": 46,
   "metadata": {},
   "outputs": [],
   "source": []
  },
  {
   "cell_type": "code",
   "execution_count": null,
   "metadata": {},
   "outputs": [],
   "source": [
    "from urllib.parse import urlparse, parse_qs\n",
    "\n",
    "def extract_query_params_from_url(url):\n",
    "    url_components = urlparse(url)  # this is also a good way of getting the canonical.\n",
    "    query_params_dict = parse_qs(url_components.query)\n",
    "    return query_params_dict\n",
    "    \n",
    "    \n",
    "def extract_reduced_query_params_from_url(url):\n",
    "    \"\"\"\n",
    "    Excludes AMP, and groups together where theree's a unique value e.g. gclid, or fbclid\n",
    "    \"\"\"\n",
    "    \n",
    "    query_params = extract_query_params_from_url(url)\n",
    "    unique_per_user_keys = [\"fbclid\", \"gclid\"]\n",
    "    for key in unique_per_user_keys:\n",
    "        if key in query_params:\n",
    "            query_params = {key:[\"unique-per-use-other-keys-removed\",]}  # doing this as facebook has loads of stuff\n",
    "            #query_params[key]=['unqiue_per_user']\n",
    "    #TODO: >> actually build this.\n",
    "    #fbclid\n",
    "    #gclid\n",
    "    \n",
    "    return query_params\n",
    "\n",
    "def extract_reduced_query_params_from_url_to_sorted_tuple(url):\n",
    "    \"\"\"\n",
    "    This is being done to make it hashable for grouping.\n",
    "    \"\"\"\n",
    "    query_params_dict = extract_reduced_query_params_from_url(url)\n",
    "    keys = list(query_params_dict.keys())\n",
    "    keys.sort()\n",
    "    ret = []\n",
    "    for key in keys:\n",
    "        ret.append((key, \",\".join(query_params_dict[key])))\n",
    "    \n",
    "    return tuple(ret) \n",
    "\n",
    "non_amp_pageview_query_params = pageview_events[pageview_events.is_amp==False].apply(lambda row: extract_reduced_query_params_from_url_to_sorted_tuple(row[\"page_url\"]), axis=1)\n",
    "non_amp_pageview_query_params.head()"
   ]
  },
  {
   "cell_type": "code",
   "execution_count": null,
   "metadata": {},
   "outputs": [],
   "source": [
    "non_amp_pageview_query_params[0]"
   ]
  },
  {
   "cell_type": "code",
   "execution_count": null,
   "metadata": {},
   "outputs": [],
   "source": [
    "pqdf = pd.DataFrame()\n",
    "pqdf[\"query_params\"]=non_amp_pageview_query_params\n",
    "pqdf[\"sent_at_timestamp\"] = pageview_events[pageview_events.is_amp==False][\"sent_at_timestamp\"]"
   ]
  },
  {
   "cell_type": "code",
   "execution_count": null,
   "metadata": {},
   "outputs": [],
   "source": [
    "pqdf.head()"
   ]
  },
  {
   "cell_type": "code",
   "execution_count": null,
   "metadata": {},
   "outputs": [],
   "source": [
    "pqdf.dtypes"
   ]
  },
  {
   "cell_type": "code",
   "execution_count": null,
   "metadata": {},
   "outputs": [],
   "source": [
    "query_params_by_date = pqdf.groupby([pqdf.sent_at_timestamp.dt.floor('d'), pqdf.query_params]).count()"
   ]
  },
  {
   "cell_type": "code",
   "execution_count": null,
   "metadata": {},
   "outputs": [],
   "source": [
    "query_params_by_date #.sort_values(query_params_by_date.sent_at_timestamp)"
   ]
  },
  {
   "cell_type": "code",
   "execution_count": null,
   "metadata": {},
   "outputs": [],
   "source": []
  }
 ],
 "metadata": {
  "kernelspec": {
   "display_name": "conda_python3",
   "language": "python",
   "name": "conda_python3"
  },
  "language_info": {
   "codemirror_mode": {
    "name": "ipython",
    "version": 3
   },
   "file_extension": ".py",
   "mimetype": "text/x-python",
   "name": "python",
   "nbconvert_exporter": "python",
   "pygments_lexer": "ipython3",
   "version": "3.6.5"
  }
 },
 "nbformat": 4,
 "nbformat_minor": 4
}
