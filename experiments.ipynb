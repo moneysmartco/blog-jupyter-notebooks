{
 "cells": [
  {
   "cell_type": "markdown",
   "metadata": {},
   "source": [
    "# Testing Widgets"
   ]
  },
  {
   "cell_type": "code",
   "execution_count": 11,
   "metadata": {},
   "outputs": [],
   "source": [
    "\n",
    "import ipywidgets as widgets"
   ]
  },
  {
   "cell_type": "code",
   "execution_count": 12,
   "metadata": {},
   "outputs": [
    {
     "data": {
      "application/vnd.jupyter.widget-view+json": {
       "model_id": "fb9980031c564889b058b0955c807ca5",
       "version_major": 2,
       "version_minor": 0
      },
      "text/plain": [
       "IntSlider(value=0)"
      ]
     },
     "metadata": {},
     "output_type": "display_data"
    }
   ],
   "source": [
    "widgets.IntSlider()"
   ]
  },
  {
   "cell_type": "code",
   "execution_count": 13,
   "metadata": {},
   "outputs": [],
   "source": [
    "button = widgets.Button(description =\"Click Me\")\n",
    "def on_button_click(b):\n",
    "    print(\"Clicked :)\")\n",
    "\n",
    "button.on_click(on_button_click)\n"
   ]
  },
  {
   "cell_type": "code",
   "execution_count": 14,
   "metadata": {},
   "outputs": [
    {
     "data": {
      "application/vnd.jupyter.widget-view+json": {
       "model_id": "47c69630fd4e474e9d954e44bfe88673",
       "version_major": 2,
       "version_minor": 0
      },
      "text/plain": [
       "Button(description='Click Me', style=ButtonStyle())"
      ]
     },
     "metadata": {},
     "output_type": "display_data"
    }
   ],
   "source": [
    "display(button)"
   ]
  },
  {
   "cell_type": "code",
   "execution_count": 20,
   "metadata": {},
   "outputs": [
    {
     "data": {
      "application/vnd.jupyter.widget-view+json": {
       "model_id": "863bf45f8d6540deb7b5915652a46bc9",
       "version_major": 2,
       "version_minor": 0
      },
      "text/plain": [
       "VBox(children=(Box(children=(Text(value=''), SelectMultiple(description='Country', options=('sg', 'hk', 'tw', …"
      ]
     },
     "metadata": {},
     "output_type": "display_data"
    }
   ],
   "source": [
    "anonymous_user_input = widgets.Text()\n",
    "country_code_dropdown = widgets.SelectMultiple(\n",
    "    options= [\"sg\", \"hk\",\"tw\", \"ph\",\"id\", \"??\"],\n",
    "    #value='OSX',\n",
    "    # rows=10,\n",
    "    description='Country',\n",
    "    disabled=False\n",
    ")\n",
    "search_button = widgets.Button(description='Search', on_click=on_button_click)\n",
    "reset_button = widgets.Button(description=\"Reset\")\n",
    "\n",
    "top_level_slug_select = widgets.SelectMultiple(options = [\"/credit-cards/\", \"/travel-insurance/\"], description=\"slug\")\n",
    "event_type_select = widgets.SelectMultiple(options=[\"PageView\", \"Clicky\"], description=\"Event\")\n",
    "\n",
    "\n",
    "\n",
    "search_options = widgets.Box([anonymous_user_input, country_code_dropdown , top_level_slug_select, event_type_select])\n",
    "\n",
    "search_bar = widgets.VBox([search_options, widgets.Box([search_button, reset_button])])\n",
    "display(search_bar)"
   ]
  },
  {
   "cell_type": "code",
   "execution_count": 22,
   "metadata": {},
   "outputs": [
    {
     "data": {
      "text/plain": [
       "('tw', 'ph')"
      ]
     },
     "execution_count": 22,
     "metadata": {},
     "output_type": "execute_result"
    }
   ],
   "source": [
    "country_code_dropdown.value"
   ]
  },
  {
   "cell_type": "code",
   "execution_count": null,
   "metadata": {},
   "outputs": [],
   "source": []
  },
  {
   "cell_type": "code",
   "execution_count": null,
   "metadata": {},
   "outputs": [],
   "source": []
  },
  {
   "cell_type": "markdown",
   "metadata": {},
   "source": [
    "# Testing Table Components"
   ]
  },
  {
   "cell_type": "code",
   "execution_count": 23,
   "metadata": {},
   "outputs": [
    {
     "name": "stdout",
     "output_type": "stream",
     "text": [
      "Collecting qgrid\n",
      "\u001b[?25l  Downloading https://files.pythonhosted.org/packages/e5/85/05249cea6d59e2dac423368bf8b1b3cff3d0b879dd72d0cd96b9d8d63304/qgrid-1.2.0.tar.gz (798kB)\n",
      "\u001b[K    100% |████████████████████████████████| 798kB 19.8MB/s ta 0:00:01\n",
      "\u001b[?25hRequirement already satisfied: notebook>=4.0.0 in /home/ec2-user/anaconda3/envs/python3/lib/python3.6/site-packages (from qgrid) (5.5.0)\n",
      "Requirement already satisfied: pandas>=0.18.0 in /home/ec2-user/anaconda3/envs/python3/lib/python3.6/site-packages (from qgrid) (0.24.2)\n",
      "Requirement already satisfied: ipywidgets>=7.0.0 in /home/ec2-user/anaconda3/envs/python3/lib/python3.6/site-packages (from qgrid) (7.4.0)\n",
      "Requirement already satisfied: jupyter-core>=4.4.0 in /home/ec2-user/anaconda3/envs/python3/lib/python3.6/site-packages (from notebook>=4.0.0->qgrid) (4.4.0)\n",
      "Requirement already satisfied: Send2Trash in /home/ec2-user/anaconda3/envs/python3/lib/python3.6/site-packages (from notebook>=4.0.0->qgrid) (1.5.0)\n",
      "Requirement already satisfied: ipykernel in /home/ec2-user/anaconda3/envs/python3/lib/python3.6/site-packages (from notebook>=4.0.0->qgrid) (4.8.2)\n",
      "Requirement already satisfied: nbconvert in /home/ec2-user/anaconda3/envs/python3/lib/python3.6/site-packages (from notebook>=4.0.0->qgrid) (5.4.1)\n",
      "Requirement already satisfied: nbformat in /home/ec2-user/anaconda3/envs/python3/lib/python3.6/site-packages (from notebook>=4.0.0->qgrid) (4.4.0)\n",
      "Requirement already satisfied: jinja2 in /home/ec2-user/anaconda3/envs/python3/lib/python3.6/site-packages (from notebook>=4.0.0->qgrid) (2.10)\n",
      "Requirement already satisfied: traitlets>=4.2.1 in /home/ec2-user/anaconda3/envs/python3/lib/python3.6/site-packages (from notebook>=4.0.0->qgrid) (4.3.2)\n",
      "Requirement already satisfied: pyzmq>=17 in /home/ec2-user/anaconda3/envs/python3/lib/python3.6/site-packages (from notebook>=4.0.0->qgrid) (17.0.0)\n",
      "Requirement already satisfied: ipython-genutils in /home/ec2-user/anaconda3/envs/python3/lib/python3.6/site-packages (from notebook>=4.0.0->qgrid) (0.2.0)\n",
      "Requirement already satisfied: tornado>=4 in /home/ec2-user/anaconda3/envs/python3/lib/python3.6/site-packages (from notebook>=4.0.0->qgrid) (5.0.2)\n",
      "Requirement already satisfied: jupyter-client>=5.2.0 in /home/ec2-user/anaconda3/envs/python3/lib/python3.6/site-packages (from notebook>=4.0.0->qgrid) (5.2.3)\n",
      "Requirement already satisfied: terminado>=0.8.1 in /home/ec2-user/anaconda3/envs/python3/lib/python3.6/site-packages (from notebook>=4.0.0->qgrid) (0.8.1)\n",
      "Requirement already satisfied: pytz>=2011k in /home/ec2-user/anaconda3/envs/python3/lib/python3.6/site-packages (from pandas>=0.18.0->qgrid) (2018.4)\n",
      "Requirement already satisfied: python-dateutil>=2.5.0 in /home/ec2-user/anaconda3/envs/python3/lib/python3.6/site-packages (from pandas>=0.18.0->qgrid) (2.7.3)\n",
      "Requirement already satisfied: numpy>=1.12.0 in /home/ec2-user/anaconda3/envs/python3/lib/python3.6/site-packages (from pandas>=0.18.0->qgrid) (1.14.3)\n",
      "Requirement already satisfied: widgetsnbextension~=3.4.0 in /home/ec2-user/anaconda3/envs/python3/lib/python3.6/site-packages (from ipywidgets>=7.0.0->qgrid) (3.4.2)\n",
      "Requirement already satisfied: ipython>=4.0.0; python_version >= \"3.3\" in /home/ec2-user/anaconda3/envs/python3/lib/python3.6/site-packages (from ipywidgets>=7.0.0->qgrid) (6.4.0)\n",
      "Requirement already satisfied: mistune>=0.8.1 in /home/ec2-user/anaconda3/envs/python3/lib/python3.6/site-packages (from nbconvert->notebook>=4.0.0->qgrid) (0.8.3)\n",
      "Requirement already satisfied: pygments in /home/ec2-user/anaconda3/envs/python3/lib/python3.6/site-packages (from nbconvert->notebook>=4.0.0->qgrid) (2.2.0)\n",
      "Requirement already satisfied: entrypoints>=0.2.2 in /home/ec2-user/anaconda3/envs/python3/lib/python3.6/site-packages (from nbconvert->notebook>=4.0.0->qgrid) (0.2.3)\n",
      "Requirement already satisfied: bleach in /home/ec2-user/anaconda3/envs/python3/lib/python3.6/site-packages (from nbconvert->notebook>=4.0.0->qgrid) (2.1.3)\n",
      "Requirement already satisfied: pandocfilters>=1.4.1 in /home/ec2-user/anaconda3/envs/python3/lib/python3.6/site-packages (from nbconvert->notebook>=4.0.0->qgrid) (1.4.2)\n",
      "Requirement already satisfied: testpath in /home/ec2-user/anaconda3/envs/python3/lib/python3.6/site-packages (from nbconvert->notebook>=4.0.0->qgrid) (0.3.1)\n",
      "Requirement already satisfied: defusedxml in /home/ec2-user/anaconda3/envs/python3/lib/python3.6/site-packages (from nbconvert->notebook>=4.0.0->qgrid) (0.6.0)\n",
      "Requirement already satisfied: jsonschema!=2.5.0,>=2.4 in /home/ec2-user/anaconda3/envs/python3/lib/python3.6/site-packages (from nbformat->notebook>=4.0.0->qgrid) (2.6.0)\n",
      "Requirement already satisfied: MarkupSafe>=0.23 in /home/ec2-user/anaconda3/envs/python3/lib/python3.6/site-packages (from jinja2->notebook>=4.0.0->qgrid) (1.0)\n",
      "Requirement already satisfied: six in /home/ec2-user/anaconda3/envs/python3/lib/python3.6/site-packages (from traitlets>=4.2.1->notebook>=4.0.0->qgrid) (1.11.0)\n",
      "Requirement already satisfied: decorator in /home/ec2-user/anaconda3/envs/python3/lib/python3.6/site-packages (from traitlets>=4.2.1->notebook>=4.0.0->qgrid) (4.3.0)\n",
      "Requirement already satisfied: simplegeneric>0.8 in /home/ec2-user/anaconda3/envs/python3/lib/python3.6/site-packages (from ipython>=4.0.0; python_version >= \"3.3\"->ipywidgets>=7.0.0->qgrid) (0.8.1)\n",
      "Requirement already satisfied: pickleshare in /home/ec2-user/anaconda3/envs/python3/lib/python3.6/site-packages (from ipython>=4.0.0; python_version >= \"3.3\"->ipywidgets>=7.0.0->qgrid) (0.7.4)\n",
      "Requirement already satisfied: setuptools>=18.5 in /home/ec2-user/anaconda3/envs/python3/lib/python3.6/site-packages (from ipython>=4.0.0; python_version >= \"3.3\"->ipywidgets>=7.0.0->qgrid) (39.1.0)\n",
      "Requirement already satisfied: prompt-toolkit<2.0.0,>=1.0.15 in /home/ec2-user/anaconda3/envs/python3/lib/python3.6/site-packages (from ipython>=4.0.0; python_version >= \"3.3\"->ipywidgets>=7.0.0->qgrid) (1.0.15)\n",
      "Requirement already satisfied: pexpect; sys_platform != \"win32\" in /home/ec2-user/anaconda3/envs/python3/lib/python3.6/site-packages (from ipython>=4.0.0; python_version >= \"3.3\"->ipywidgets>=7.0.0->qgrid) (4.5.0)\n",
      "Requirement already satisfied: backcall in /home/ec2-user/anaconda3/envs/python3/lib/python3.6/site-packages (from ipython>=4.0.0; python_version >= \"3.3\"->ipywidgets>=7.0.0->qgrid) (0.1.0)\n",
      "Requirement already satisfied: jedi>=0.10 in /home/ec2-user/anaconda3/envs/python3/lib/python3.6/site-packages (from ipython>=4.0.0; python_version >= \"3.3\"->ipywidgets>=7.0.0->qgrid) (0.12.0)\n",
      "Requirement already satisfied: html5lib!=1.0b1,!=1.0b2,!=1.0b3,!=1.0b4,!=1.0b5,!=1.0b6,!=1.0b7,!=1.0b8,>=0.99999999pre in /home/ec2-user/anaconda3/envs/python3/lib/python3.6/site-packages (from bleach->nbconvert->notebook>=4.0.0->qgrid) (1.0.1)\n",
      "Requirement already satisfied: wcwidth in /home/ec2-user/anaconda3/envs/python3/lib/python3.6/site-packages (from prompt-toolkit<2.0.0,>=1.0.15->ipython>=4.0.0; python_version >= \"3.3\"->ipywidgets>=7.0.0->qgrid) (0.1.7)\n",
      "Requirement already satisfied: ptyprocess>=0.5 in /home/ec2-user/anaconda3/envs/python3/lib/python3.6/site-packages (from pexpect; sys_platform != \"win32\"->ipython>=4.0.0; python_version >= \"3.3\"->ipywidgets>=7.0.0->qgrid) (0.5.2)\n",
      "Requirement already satisfied: parso>=0.2.0 in /home/ec2-user/anaconda3/envs/python3/lib/python3.6/site-packages (from jedi>=0.10->ipython>=4.0.0; python_version >= \"3.3\"->ipywidgets>=7.0.0->qgrid) (0.2.0)\n",
      "Requirement already satisfied: webencodings in /home/ec2-user/anaconda3/envs/python3/lib/python3.6/site-packages (from html5lib!=1.0b1,!=1.0b2,!=1.0b3,!=1.0b4,!=1.0b5,!=1.0b6,!=1.0b7,!=1.0b8,>=0.99999999pre->bleach->nbconvert->notebook>=4.0.0->qgrid) (0.5.1)\n",
      "Building wheels for collected packages: qgrid\n",
      "  Running setup.py bdist_wheel for qgrid ... \u001b[?25ldone\n",
      "\u001b[?25h  Stored in directory: /home/ec2-user/.cache/pip/wheels/fb/81/85/02067fe38c88f2b9327f6a6e7a067304bc62b5e39e2791e484\n",
      "Successfully built qgrid\n",
      "Installing collected packages: qgrid\n",
      "Successfully installed qgrid-1.2.0\n",
      "\u001b[33mYou are using pip version 10.0.1, however version 20.0.2 is available.\n",
      "You should consider upgrading via the 'pip install --upgrade pip' command.\u001b[0m\n"
     ]
    }
   ],
   "source": [
    "!pip install qgrid"
   ]
  },
  {
   "cell_type": "code",
   "execution_count": 26,
   "metadata": {},
   "outputs": [],
   "source": [
    "import qgrid"
   ]
  },
  {
   "cell_type": "code",
   "execution_count": 25,
   "metadata": {},
   "outputs": [],
   "source": [
    "df = pd.read_parquet(\"merged_df_with_meta_01-10_01-12.gzip\")"
   ]
  },
  {
   "cell_type": "code",
   "execution_count": 29,
   "metadata": {},
   "outputs": [
    {
     "data": {
      "text/html": [
       "<div>\n",
       "<style scoped>\n",
       "    .dataframe tbody tr th:only-of-type {\n",
       "        vertical-align: middle;\n",
       "    }\n",
       "\n",
       "    .dataframe tbody tr th {\n",
       "        vertical-align: top;\n",
       "    }\n",
       "\n",
       "    .dataframe thead th {\n",
       "        text-align: right;\n",
       "    }\n",
       "</style>\n",
       "<table border=\"1\" class=\"dataframe\">\n",
       "  <thead>\n",
       "    <tr style=\"text-align: right;\">\n",
       "      <th></th>\n",
       "      <th>anonymous_id</th>\n",
       "      <th>event_name</th>\n",
       "      <th>page_url</th>\n",
       "      <th>date</th>\n",
       "      <th>s_count</th>\n",
       "      <th>k_count</th>\n",
       "      <th>page_type</th>\n",
       "      <th>slug</th>\n",
       "      <th>slug_root</th>\n",
       "      <th>ab_test</th>\n",
       "      <th>country_code</th>\n",
       "      <th>user_agent</th>\n",
       "      <th>device_family</th>\n",
       "      <th>os_family</th>\n",
       "      <th>os_version</th>\n",
       "      <th>browser_family</th>\n",
       "      <th>browser_version</th>\n",
       "      <th>is_bot</th>\n",
       "    </tr>\n",
       "    <tr>\n",
       "      <th>index</th>\n",
       "      <th></th>\n",
       "      <th></th>\n",
       "      <th></th>\n",
       "      <th></th>\n",
       "      <th></th>\n",
       "      <th></th>\n",
       "      <th></th>\n",
       "      <th></th>\n",
       "      <th></th>\n",
       "      <th></th>\n",
       "      <th></th>\n",
       "      <th></th>\n",
       "      <th></th>\n",
       "      <th></th>\n",
       "      <th></th>\n",
       "      <th></th>\n",
       "      <th></th>\n",
       "      <th></th>\n",
       "    </tr>\n",
       "  </thead>\n",
       "  <tbody>\n",
       "    <tr>\n",
       "      <th>0</th>\n",
       "      <td>00000b54-600a-4de2-8700-fd9885252dca</td>\n",
       "      <td>PageView</td>\n",
       "      <td>https://blog.moneysmart.sg/career/5-easy-side-...</td>\n",
       "      <td>2020-01-12</td>\n",
       "      <td>2</td>\n",
       "      <td>2</td>\n",
       "      <td>blog</td>\n",
       "      <td>/career/5-easy-side-businesses-you-can-run-whi...</td>\n",
       "      <td>/career</td>\n",
       "      <td>control</td>\n",
       "      <td>sg</td>\n",
       "      <td>Mozilla/5.0 (iPhone; CPU iPhone OS 13_3 like M...</td>\n",
       "      <td>mobile</td>\n",
       "      <td>iOS</td>\n",
       "      <td>13.3</td>\n",
       "      <td>Mobile Safari</td>\n",
       "      <td>13.0.4</td>\n",
       "      <td>False</td>\n",
       "    </tr>\n",
       "    <tr>\n",
       "      <th>1</th>\n",
       "      <td>00000b54-600a-4de2-8700-fd9885252dca</td>\n",
       "      <td>PageView</td>\n",
       "      <td>https://www.moneysmart.sg/embed/98e61305602380...</td>\n",
       "      <td>2020-01-12</td>\n",
       "      <td>1</td>\n",
       "      <td>1</td>\n",
       "      <td>shop</td>\n",
       "      <td>/embed/98e61305602380971d9c5e68c4a75647</td>\n",
       "      <td>/embed</td>\n",
       "      <td>control</td>\n",
       "      <td>sg</td>\n",
       "      <td>Mozilla/5.0 (iPhone; CPU iPhone OS 13_3 like M...</td>\n",
       "      <td>mobile</td>\n",
       "      <td>iOS</td>\n",
       "      <td>13.3</td>\n",
       "      <td>Mobile Safari</td>\n",
       "      <td>13.0.4</td>\n",
       "      <td>False</td>\n",
       "    </tr>\n",
       "    <tr>\n",
       "      <th>2</th>\n",
       "      <td>00000b54-600a-4de2-8700-fd9885252dca</td>\n",
       "      <td>Reading</td>\n",
       "      <td>https://blog.moneysmart.sg/career/5-easy-side-...</td>\n",
       "      <td>2020-01-12</td>\n",
       "      <td>3</td>\n",
       "      <td>3</td>\n",
       "      <td>blog</td>\n",
       "      <td>/career/5-easy-side-businesses-you-can-run-whi...</td>\n",
       "      <td>/career</td>\n",
       "      <td>control</td>\n",
       "      <td>sg</td>\n",
       "      <td>Mozilla/5.0 (iPhone; CPU iPhone OS 13_3 like M...</td>\n",
       "      <td>mobile</td>\n",
       "      <td>iOS</td>\n",
       "      <td>13.3</td>\n",
       "      <td>Mobile Safari</td>\n",
       "      <td>13.0.4</td>\n",
       "      <td>False</td>\n",
       "    </tr>\n",
       "    <tr>\n",
       "      <th>3</th>\n",
       "      <td>00000b54-600a-4de2-8700-fd9885252dca</td>\n",
       "      <td>UserView.WidgetLoad</td>\n",
       "      <td>https://www.moneysmart.sg/embed/98e61305602380...</td>\n",
       "      <td>2020-01-12</td>\n",
       "      <td>1</td>\n",
       "      <td>1</td>\n",
       "      <td>shop</td>\n",
       "      <td>/embed/98e61305602380971d9c5e68c4a75647</td>\n",
       "      <td>/embed</td>\n",
       "      <td>control</td>\n",
       "      <td>sg</td>\n",
       "      <td>Mozilla/5.0 (iPhone; CPU iPhone OS 13_3 like M...</td>\n",
       "      <td>mobile</td>\n",
       "      <td>iOS</td>\n",
       "      <td>13.3</td>\n",
       "      <td>Mobile Safari</td>\n",
       "      <td>13.0.4</td>\n",
       "      <td>False</td>\n",
       "    </tr>\n",
       "    <tr>\n",
       "      <th>4</th>\n",
       "      <td>000034a2-e973-4108-b920-0681877d4fc0</td>\n",
       "      <td>PageView</td>\n",
       "      <td>https://blog.moneysmart.sg/budgeting/cheapest-...</td>\n",
       "      <td>2020-01-10</td>\n",
       "      <td>1</td>\n",
       "      <td>1</td>\n",
       "      <td>blog</td>\n",
       "      <td>/budgeting/cheapest-sim-only-plans</td>\n",
       "      <td>/budgeting</td>\n",
       "      <td>control</td>\n",
       "      <td>sg</td>\n",
       "      <td>Mozilla/5.0 (iPhone; CPU iPhone OS 13_3 like M...</td>\n",
       "      <td>mobile</td>\n",
       "      <td>iOS</td>\n",
       "      <td>13.3</td>\n",
       "      <td>Mobile Safari</td>\n",
       "      <td>13.3</td>\n",
       "      <td>False</td>\n",
       "    </tr>\n",
       "  </tbody>\n",
       "</table>\n",
       "</div>"
      ],
      "text/plain": [
       "                               anonymous_id           event_name  \\\n",
       "index                                                              \n",
       "0      00000b54-600a-4de2-8700-fd9885252dca             PageView   \n",
       "1      00000b54-600a-4de2-8700-fd9885252dca             PageView   \n",
       "2      00000b54-600a-4de2-8700-fd9885252dca              Reading   \n",
       "3      00000b54-600a-4de2-8700-fd9885252dca  UserView.WidgetLoad   \n",
       "4      000034a2-e973-4108-b920-0681877d4fc0             PageView   \n",
       "\n",
       "                                                page_url        date  s_count  \\\n",
       "index                                                                           \n",
       "0      https://blog.moneysmart.sg/career/5-easy-side-...  2020-01-12        2   \n",
       "1      https://www.moneysmart.sg/embed/98e61305602380...  2020-01-12        1   \n",
       "2      https://blog.moneysmart.sg/career/5-easy-side-...  2020-01-12        3   \n",
       "3      https://www.moneysmart.sg/embed/98e61305602380...  2020-01-12        1   \n",
       "4      https://blog.moneysmart.sg/budgeting/cheapest-...  2020-01-10        1   \n",
       "\n",
       "       k_count page_type                                               slug  \\\n",
       "index                                                                         \n",
       "0            2      blog  /career/5-easy-side-businesses-you-can-run-whi...   \n",
       "1            1      shop            /embed/98e61305602380971d9c5e68c4a75647   \n",
       "2            3      blog  /career/5-easy-side-businesses-you-can-run-whi...   \n",
       "3            1      shop            /embed/98e61305602380971d9c5e68c4a75647   \n",
       "4            1      blog                 /budgeting/cheapest-sim-only-plans   \n",
       "\n",
       "        slug_root  ab_test country_code  \\\n",
       "index                                     \n",
       "0         /career  control           sg   \n",
       "1          /embed  control           sg   \n",
       "2         /career  control           sg   \n",
       "3          /embed  control           sg   \n",
       "4      /budgeting  control           sg   \n",
       "\n",
       "                                              user_agent device_family  \\\n",
       "index                                                                    \n",
       "0      Mozilla/5.0 (iPhone; CPU iPhone OS 13_3 like M...        mobile   \n",
       "1      Mozilla/5.0 (iPhone; CPU iPhone OS 13_3 like M...        mobile   \n",
       "2      Mozilla/5.0 (iPhone; CPU iPhone OS 13_3 like M...        mobile   \n",
       "3      Mozilla/5.0 (iPhone; CPU iPhone OS 13_3 like M...        mobile   \n",
       "4      Mozilla/5.0 (iPhone; CPU iPhone OS 13_3 like M...        mobile   \n",
       "\n",
       "      os_family os_version browser_family browser_version  is_bot  \n",
       "index                                                              \n",
       "0           iOS       13.3  Mobile Safari          13.0.4   False  \n",
       "1           iOS       13.3  Mobile Safari          13.0.4   False  \n",
       "2           iOS       13.3  Mobile Safari          13.0.4   False  \n",
       "3           iOS       13.3  Mobile Safari          13.0.4   False  \n",
       "4           iOS       13.3  Mobile Safari            13.3   False  "
      ]
     },
     "execution_count": 29,
     "metadata": {},
     "output_type": "execute_result"
    }
   ],
   "source": [
    "df.head()"
   ]
  },
  {
   "cell_type": "code",
   "execution_count": 30,
   "metadata": {},
   "outputs": [
    {
     "name": "stderr",
     "output_type": "stream",
     "text": [
      "/home/ec2-user/anaconda3/envs/python3/lib/python3.6/site-packages/pandas/io/json/table_schema.py:76: UserWarning: Index name of 'index' is not round-trippable\n",
      "  warnings.warn(\"Index name of 'index' is not round-trippable\")\n"
     ]
    },
    {
     "data": {
      "application/vnd.jupyter.widget-view+json": {
       "model_id": "ab6086f232a44d9e9a2a1b29cba5f345",
       "version_major": 2,
       "version_minor": 0
      },
      "text/plain": [
       "QgridWidget(grid_options={'fullWidthRows': True, 'syncColumnCellResize': True, 'forceFitColumns': True, 'defau…"
      ]
     },
     "metadata": {},
     "output_type": "display_data"
    }
   ],
   "source": [
    "qgrid.show_grid(df.head())"
   ]
  },
  {
   "cell_type": "code",
   "execution_count": 31,
   "metadata": {},
   "outputs": [
    {
     "data": {
      "application/vnd.jupyter.widget-view+json": {
       "model_id": "d08aad95f21e44e1b9e4cf9deff691d9",
       "version_major": 2,
       "version_minor": 0
      },
      "text/plain": [
       "QgridWidget(grid_options={'fullWidthRows': False, 'syncColumnCellResize': True, 'forceFitColumns': True, 'defa…"
      ]
     },
     "metadata": {},
     "output_type": "display_data"
    }
   ],
   "source": [
    "\n",
    "\n",
    "df = pd.DataFrame(np.random.rand(5,5))\n",
    "\n",
    "gridopts = {\"fullWidthRows\": False,\n",
    "            \"autoEdit\": True,\n",
    "            \"sortable\": False,\n",
    "            }\n",
    "qgrid.show_grid(df, grid_options=gridopts)"
   ]
  },
  {
   "cell_type": "code",
   "execution_count": null,
   "metadata": {},
   "outputs": [
    {
     "name": "stdout",
     "output_type": "stream",
     "text": [
      "> /home/ec2-user/anaconda3/envs/JupyterSystemEnv/bin/npm pack @8080labs/qgrid\n",
      "\u001b[37;40mnpm\u001b[0m \u001b[0m\u001b[30;43mWARN\u001b[0m \u001b[0m\u001b[35mnpm\u001b[0m npm does not support Node.js v13.0.0\n",
      "\u001b[0m\u001b[37;40mnpm\u001b[0m \u001b[0m\u001b[30;43mWARN\u001b[0m \u001b[0m\u001b[35mnpm\u001b[0m You should probably upgrade to a newer version of node as we\n",
      "\u001b[0m\u001b[37;40mnpm\u001b[0m \u001b[0m\u001b[30;43mWARN\u001b[0m \u001b[0m\u001b[35mnpm\u001b[0m can't make any promises that npm will work with this version.\n",
      "\u001b[0m\u001b[37;40mnpm\u001b[0m \u001b[0m\u001b[30;43mWARN\u001b[0m \u001b[0m\u001b[35mnpm\u001b[0m Supported releases of Node.js are the latest release of 6, 8, 9, 10, 11, 12.\n",
      "\u001b[0m\u001b[37;40mnpm\u001b[0m \u001b[0m\u001b[30;43mWARN\u001b[0m \u001b[0m\u001b[35mnpm\u001b[0m You can find the latest version at https://nodejs.org/\n",
      "\u001b[K\u001b[?25h\u001b[37;40mnpm\u001b[0m \u001b[0m\u001b[34;40mnotice\u001b[0m\u001b[35m\u001b[0m g\u001b[0m node@v13.0.0\u001b[0m\u001b[K0.0\u001b[0m\u001b[K\n",
      "\u001b[0m\u001b[37;40mnpm\u001b[0m \u001b[0m\u001b[34;40mnotice\u001b[0m\u001b[35m\u001b[0m 📦  @8080labs/qgrid@1.1.1\n",
      "\u001b[0m\u001b[37;40mnpm\u001b[0m \u001b[0m\u001b[34;40mnotice\u001b[0m \u001b[0m\u001b[35m=== Tarball Contents ===\u001b[0m \n",
      "\u001b[0m\u001b[37;40mnpm\u001b[0m \u001b[0m\u001b[34;40mnotice\u001b[0m\u001b[35m\u001b[0m 14.5kB src/qgrid.css                            \n",
      "\u001b[0m\u001b[37;40mnpm\u001b[0m \u001b[0m\u001b[34;40mnotice\u001b[0m\u001b[35m\u001b[0m 830B   dist/2352874b5f636ca331fe9509a2f9bdd7.gif\n",
      "\u001b[0m\u001b[37;40mnpm\u001b[0m \u001b[0m\u001b[34;40mnotice\u001b[0m\u001b[35m\u001b[0m 836B   dist/3e4484ea8db10af1320808c8477346ea.gif\n",
      "\u001b[0m\u001b[37;40mnpm\u001b[0m \u001b[0m\u001b[34;40mnotice\u001b[0m\u001b[35m\u001b[0m 846B   dist/6ccc1ed85229f7c88b07bbbeefe5214d.gif\n",
      "\u001b[0m\u001b[37;40mnpm\u001b[0m \u001b[0m\u001b[34;40mnotice\u001b[0m\u001b[35m\u001b[0m 823B   dist/a92d8f6c106943995720f2884634670e.gif\n",
      "\u001b[0m\u001b[37;40mnpm\u001b[0m \u001b[0m\u001b[34;40mnotice\u001b[0m\u001b[35m\u001b[0m 851B   dist/b2c868bfc2cab12122861c8214e38724.gif\n",
      "\u001b[0m\u001b[37;40mnpm\u001b[0m \u001b[0m\u001b[34;40mnotice\u001b[0m\u001b[35m\u001b[0m 833B   dist/d104fcf119d40c51554ddb8b377142e5.gif\n",
      "\u001b[0m\u001b[37;40mnpm\u001b[0m \u001b[0m\u001b[34;40mnotice\u001b[0m\u001b[35m\u001b[0m 454B   src/embed.js                             \n",
      "\u001b[0m\u001b[37;40mnpm\u001b[0m \u001b[0m\u001b[34;40mnotice\u001b[0m\u001b[35m\u001b[0m 510B   src/extension.js                         \n",
      "\u001b[0m\u001b[37;40mnpm\u001b[0m \u001b[0m\u001b[34;40mnotice\u001b[0m\u001b[35m\u001b[0m 1.5MB  dist/index.js                            \n",
      "\u001b[0m\u001b[37;40mnpm\u001b[0m \u001b[0m\u001b[34;40mnotice\u001b[0m\u001b[35m\u001b[0m 255B   src/index.js                             \n",
      "\u001b[0m\u001b[37;40mnpm\u001b[0m \u001b[0m\u001b[34;40mnotice\u001b[0m\u001b[35m\u001b[0m 386B   src/jupyterlab-plugin.js                 \n",
      "\u001b[0m\u001b[37;40mnpm\u001b[0m \u001b[0m\u001b[34;40mnotice\u001b[0m\u001b[35m\u001b[0m 2.7kB  src/qgrid.booleanfilter.js               \n",
      "\u001b[0m\u001b[37;40mnpm\u001b[0m \u001b[0m\u001b[34;40mnotice\u001b[0m\u001b[35m\u001b[0m 4.9kB  src/qgrid.datefilter.js                  \n",
      "\u001b[0m\u001b[37;40mnpm\u001b[0m \u001b[0m\u001b[34;40mnotice\u001b[0m\u001b[35m\u001b[0m 2.7kB  src/qgrid.editors.js                     \n",
      "\u001b[0m\u001b[37;40mnpm\u001b[0m \u001b[0m\u001b[34;40mnotice\u001b[0m\u001b[35m\u001b[0m 5.8kB  src/qgrid.filterbase.js                  \n",
      "\u001b[0m\u001b[37;40mnpm\u001b[0m \u001b[0m\u001b[34;40mnotice\u001b[0m\u001b[35m\u001b[0m 4.0kB  src/qgrid.sliderfilter.js                \n",
      "\u001b[0m\u001b[37;40mnpm\u001b[0m \u001b[0m\u001b[34;40mnotice\u001b[0m\u001b[35m\u001b[0m 11.2kB src/qgrid.textfilter.js                  \n",
      "\u001b[0m\u001b[37;40mnpm\u001b[0m \u001b[0m\u001b[34;40mnotice\u001b[0m\u001b[35m\u001b[0m 25.3kB src/qgrid.widget.js                      \n",
      "\u001b[0m\u001b[37;40mnpm\u001b[0m \u001b[0m\u001b[34;40mnotice\u001b[0m\u001b[35m\u001b[0m 1.3kB  package.json                             \n",
      "\u001b[0m\u001b[37;40mnpm\u001b[0m \u001b[0m\u001b[34;40mnotice\u001b[0m\u001b[35m\u001b[0m 1.9MB  dist/index.js.map                        \n",
      "\u001b[0m\u001b[37;40mnpm\u001b[0m \u001b[0m\u001b[34;40mnotice\u001b[0m\u001b[35m\u001b[0m 7.1kB  dist/00dd0ec0a16a1085e714c7906ff8fb06.png\n",
      "\u001b[0m\u001b[37;40mnpm\u001b[0m \u001b[0m\u001b[34;40mnotice\u001b[0m\u001b[35m\u001b[0m 4.6kB  dist/093a819138276b446611d1d2a45b98a2.png\n",
      "\u001b[0m\u001b[37;40mnpm\u001b[0m \u001b[0m\u001b[34;40mnotice\u001b[0m\u001b[35m\u001b[0m 7.0kB  dist/40bf25799e4fec8079c7775083de09df.png\n",
      "\u001b[0m\u001b[37;40mnpm\u001b[0m \u001b[0m\u001b[34;40mnotice\u001b[0m\u001b[35m\u001b[0m 4.7kB  dist/4e7e3e142f3939883cd0a7e00cabdaef.png\n",
      "\u001b[0m\u001b[37;40mnpm\u001b[0m \u001b[0m\u001b[34;40mnotice\u001b[0m\u001b[35m\u001b[0m 7.0kB  dist/d10bc07005bb2d604f4905183690ac04.png\n",
      "\u001b[0m\u001b[37;40mnpm\u001b[0m \u001b[0m\u001b[34;40mnotice\u001b[0m\u001b[35m\u001b[0m 6.3kB  dist/ea4ebe072be75fbbea002631916836de.png\n",
      "\u001b[0m\u001b[37;40mnpm\u001b[0m \u001b[0m\u001b[34;40mnotice\u001b[0m \u001b[0m\u001b[35m=== Tarball Details ===\u001b[0m \n",
      "\u001b[0m\u001b[37;40mnpm\u001b[0m \u001b[0m\u001b[34;40mnotice\u001b[0m\u001b[35m\u001b[0m name:          @8080labs/qgrid                         \n",
      "\u001b[0m\u001b[37;40mnpm\u001b[0m \u001b[0m\u001b[34;40mnotice\u001b[0m\u001b[35m\u001b[0m version:       1.1.1                                   \n",
      "\u001b[0m\u001b[37;40mnpm\u001b[0m \u001b[0m\u001b[34;40mnotice\u001b[0m\u001b[35m\u001b[0m filename:      8080labs-qgrid-1.1.1.tgz                \n",
      "\u001b[0m\u001b[37;40mnpm\u001b[0m \u001b[0m\u001b[34;40mnotice\u001b[0m\u001b[35m\u001b[0m package size:  772.9 kB                                \n",
      "\u001b[0m\u001b[37;40mnpm\u001b[0m \u001b[0m\u001b[34;40mnotice\u001b[0m\u001b[35m\u001b[0m unpacked size: 3.5 MB                                  \n",
      "\u001b[0m\u001b[37;40mnpm\u001b[0m \u001b[0m\u001b[34;40mnotice\u001b[0m\u001b[35m\u001b[0m shasum:        edb8456d8b979713a90aac78b981c6de1ed3bcb7\n",
      "\u001b[0m\u001b[37;40mnpm\u001b[0m \u001b[0m\u001b[34;40mnotice\u001b[0m\u001b[35m\u001b[0m integrity:     sha512-szSqQPgOF2wzu[...]0i9IizPOWDMcw==\n",
      "\u001b[0m\u001b[37;40mnpm\u001b[0m \u001b[0m\u001b[34;40mnotice\u001b[0m\u001b[35m\u001b[0m total files:   27                                      \n",
      "\u001b[0m\u001b[37;40mnpm\u001b[0m \u001b[0m\u001b[34;40mnotice\u001b[0m\u001b[35m\u001b[0m \n",
      "\u001b[0m8080labs-qgrid-1.1.1.tgz\n",
      "> node /home/ec2-user/anaconda3/envs/python3/lib/python3.6/site-packages/jupyterlab/staging/yarn.js install\n",
      "\u001b[2K\u001b[1G\u001b[1myarn install v1.5.1\u001b[22m\n",
      "(node:2535) [DEP0005] DeprecationWarning: Buffer() is deprecated due to security and usability issues. Please use the Buffer.alloc(), Buffer.allocUnsafe(), or Buffer.from() methods instead.\n",
      "\u001b[2K\u001b[1G\u001b[34minfo\u001b[39m No lockfile found.\n",
      "\u001b[2K\u001b[1G\u001b[2m[1/4]\u001b[22m Resolving packages...\n",
      "\u001b[1G⠁ \u001b[0K\u001b[1G⠂ @jupyterlab/application@^0.16.3\u001b[0K\u001b[1G⠄ @jupyterlab/application@^0.16.3\u001b[0K\u001b[1G⡀ @jupyterlab/application@^0.16.3\u001b[0K\u001b[1G⢀ @jupyterlab/application@^0.16.3\u001b[0K\u001b[1G⠠ @jupyterlab/application@^0.16.3\u001b[0K\u001b[1G⠐ @jupyterlab/application@^0.16.3\u001b[0K\u001b[1G⠈ @jupyterlab/application@^0.16.3\u001b[0K\u001b[1G⠁ @jupyterlab/application@^0.16.3\u001b[0K\u001b[1G⠂ @jupyterlab/application@^0.16.3\u001b[0K\u001b[1G⠄ @jupyterlab/application@^0.16.3\u001b[0K\u001b[1G⡀ @jupyterlab/application@^0.16.3\u001b[0K\u001b[1G⢀ @jupyterlab/application@^0.16.3\u001b[0K\u001b[1G⠠ @jupyterlab/application@^0.16.3\u001b[0K\u001b[1G⠐ @jupyterlab/application@^0.16.3\u001b[0K\u001b[1G⠈ @jupyterlab/application@^0.16.3\u001b[0K\u001b[1G⠁ @jupyterlab/application@^0.16.3\u001b[0K\u001b[1G⠂ @jupyterlab/application@^0.16.3\u001b[0K\u001b[1G⠄ @jupyterlab/application@^0.16.3\u001b[0K\u001b[1G⡀ @jupyterlab/application@^0.16.3\u001b[0K\u001b[1G⢀ @jupyterlab/application@^0.16.3\u001b[0K\u001b[1G⠠ @jupyterlab/application@^0.16.3\u001b[0K\u001b[1G⠐ @jupyterlab/application@^0.16.3\u001b[0K\u001b[1G⠈ @jupyterlab/application@^0.16.3\u001b[0K\u001b[1G⠁ @jupyterlab/application@^0.16.3\u001b[0K\u001b[1G⠂ @jupyterlab/application@^0.16.3\u001b[0K\u001b[1G⠄ @jupyterlab/application@^0.16.3\u001b[0K\u001b[1G⡀ @jupyterlab/application@^0.16.3\u001b[0K\u001b[1G⢀ @jupyterlab/application@^0.16.3\u001b[0K\u001b[1G⠠ @phosphor/widgets@^1.5.0\u001b[0K\u001b[1G⠐ @phosphor/widgets@^1.5.0\u001b[0K\u001b[1G⠈ @phosphor/widgets@^1.5.0\u001b[0K\u001b[1G⠁ @phosphor/widgets@^1.5.0\u001b[0K\u001b[1G⠂ @phosphor/widgets@^1.5.0\u001b[0K\u001b[1G⠄ @phosphor/widgets@^1.5.0\u001b[0K\u001b[1G⡀ @phosphor/widgets@^1.5.0\u001b[0K\u001b[1G⢀ @phosphor/widgets@^1.5.0\u001b[0K\u001b[1G⠠ @phosphor/widgets@^1.5.0\u001b[0K\u001b[1G⠐ @phosphor/widgets@^1.5.0\u001b[0K\u001b[1G⠈ @phosphor/widgets@^1.5.0\u001b[0K\u001b[1G⠁ @phosphor/widgets@^1.5.0\u001b[0K\u001b[1G⠂ @phosphor/widgets@^1.5.0\u001b[0K\u001b[1G⠄ @phosphor/widgets@^1.5.0\u001b[0K\u001b[1G⡀ @phosphor/widgets@^1.5.0\u001b[0K\u001b[1G⢀ url-parse@~1.1.9\u001b[0K\u001b[1G⠠ ws@~1.1.4\u001b[0K\u001b[1G⠐ ws@~1.1.4\u001b[0K\u001b[1G⠈ ws@~1.1.4\u001b[0K\u001b[1G⠁ ws@~1.1.4\u001b[0K\u001b[1G⠂ ws@~1.1.4\u001b[0K\u001b[1G⠄ ws@~1.1.4\u001b[0K\u001b[1G⡀ ws@~1.1.4\u001b[0K\u001b[1G⢀ ws@~1.1.4\u001b[0K\u001b[1G⠠ ws@~1.1.4\u001b[0K\u001b[1G⠐ ws@~1.1.4\u001b[0K\u001b[1G⠈ ws@~1.1.4\u001b[0K\u001b[1G⠁ marked@~0.3.9\u001b[0K\u001b[1G⠂ @phosphor/widgets@^1.5.0\u001b[0K\u001b[1G⠄ is-stream@^1.0.1\u001b[0K\u001b[1G⡀ ultron@1.0.x\u001b[0K\u001b[1G⢀ ultron@1.0.x\u001b[0K\u001b[1G⠠ ultron@1.0.x\u001b[0K\u001b[1G⠐ ultron@1.0.x\u001b[0K\u001b[1G⠈ ultron@1.0.x\u001b[0K\u001b[1G⠁ ultron@1.0.x\u001b[0K\u001b[1G⠂ ultron@1.0.x\u001b[0K\u001b[1G⠄ ultron@1.0.x\u001b[0K\u001b[1G⡀ ultron@1.0.x\u001b[0K\u001b[1G⢀ ultron@1.0.x\u001b[0K\u001b[1G⠠ ultron@1.0.x\u001b[0K\u001b[1G⠐ @phosphor/virtualdom@^1.2.0\u001b[0K\u001b[1G⠈ prop-types@^15.6.0\u001b[0K\u001b[2K\u001b[1G\u001b[33mwarning\u001b[39m @jupyterlab/application > @jupyterlab/coreutils > comment-json > json-parser@1.1.5: `json-parser` is deprecated. Please use `comment-json` instead\n",
      "\u001b[1G⠁ esprima@^2.7.0\u001b[0K\u001b[1G⠂ iconv-lite@~0.4.13\u001b[0K\u001b[1G⠄ js-tokens@^3.0.0 || ^4.0.0\u001b[0K\u001b[1G⡀ readable-stream@^3.1.1\u001b[0K\u001b[2K\u001b[1G\u001b[33mwarning\u001b[39m @jupyterlab/application > @jupyterlab/apputils > react > fbjs > core-js@1.2.7: core-js@<3 is no longer maintained and not recommended for usage due to the number of issues. Please, upgrade your dependencies to the actual version of core-js@3.\n",
      "\u001b[1G⢀ safer-buffer@>= 2.1.2 < 3\u001b[0K\u001b[1G⠠ asap@~2.0.3\u001b[0K\u001b[1G⠐ asap@~2.0.3\u001b[0K\u001b[1G⠈ domelementtype@1\u001b[0K\u001b[1G⠁ entities@^2.0.0\u001b[0K\u001b[1G⠂ safe-buffer@~5.2.0\u001b[0K\u001b[1G⠄ safe-buffer@~5.2.0\u001b[0K\u001b[1G⡀ safe-buffer@~5.2.0\u001b[0K\u001b[1G⢀ safe-buffer@~5.2.0\u001b[0K\u001b[1G⠠ @phosphor/algorithm@^1.2.0\u001b[0K\u001b[1G⠐ @phosphor/algorithm@^1.2.0\u001b[0K\u001b[1G⠈ @phosphor/disposable@^1.3.1\u001b[0K\u001b[1G⠁ @phosphor/disposable@^1.3.1\u001b[0K\u001b[1G⠂ @phosphor/disposable@^1.3.1\u001b[0K\u001b[1G⠄ @phosphor/disposable@^1.3.1\u001b[0K\u001b[1G⡀ @phosphor/disposable@^1.3.1\u001b[0K\u001b[1G⢀ @phosphor/disposable@^1.3.1\u001b[0K\u001b[1G⠠ @phosphor/disposable@^1.3.1\u001b[0K\u001b[1G⠐ @phosphor/disposable@^1.3.1\u001b[0K\u001b[1G⠈ @phosphor/disposable@^1.3.1\u001b[0K\u001b[1G⠁ @phosphor/disposable@^1.3.1\u001b[0K\u001b[1G⠂ @phosphor/disposable@^1.3.1\u001b[0K\u001b[1G⠄ @phosphor/disposable@^1.3.1\u001b[0K\u001b[1G⡀ @jupyterlab/application-extension@^0.16.3\u001b[0K\u001b[1G⢀ @jupyterlab/application-extension@^0.16.3\u001b[0K\u001b[1G⠠ @jupyterlab/application-extension@^0.16.3\u001b[0K\u001b[1G⠐ @jupyterlab/application-extension@^0.16.3\u001b[0K\u001b[1G⠈ @jupyterlab/application-extension@^0.16.3\u001b[0K\u001b[1G⠁ @jupyterlab/application-extension@^0.16.3\u001b[0K\u001b[1G⠂ @jupyterlab/application-extension@^0.16.3\u001b[0K\u001b[1G⠄ @jupyterlab/application-extension@^0.16.3\u001b[0K\u001b[1G⡀ @jupyterlab/application-extension@^0.16.3\u001b[0K\u001b[1G⢀ @jupyterlab/application-extension@^0.16.3\u001b[0K\u001b[1G⠠ @jupyterlab/application-extension@^0.16.3\u001b[0K\u001b[1G⠐ @jupyterlab/application-extension@^0.16.3\u001b[0K\u001b[1G⠈ @jupyterlab/application-extension@^0.16.3\u001b[0K\u001b[1G⠁ @jupyterlab/application-extension@^0.16.3\u001b[0K\u001b[1G⠂ @jupyterlab/application-extension@^0.16.3\u001b[0K\u001b[1G⠄ @jupyterlab/application-extension@^0.16.3\u001b[0K\u001b[1G⡀ @jupyterlab/application-extension@^0.16.3\u001b[0K\u001b[1G⢀ @jupyterlab/application-extension@^0.16.3\u001b[0K\u001b[1G⠠ @jupyterlab/application-extension@^0.16.3\u001b[0K\u001b[1G⠐ @jupyterlab/application-extension@^0.16.3\u001b[0K\u001b[1G⠈ @jupyterlab/application-extension@^0.16.3\u001b[0K\u001b[1G⠁ @jupyterlab/application-extension@^0.16.3\u001b[0K\u001b[1G⠂ @jupyterlab/application-extension@^0.16.3\u001b[0K\u001b[1G⠄ @jupyterlab/application-extension@^0.16.3\u001b[0K\u001b[1G⡀ @jupyterlab/application-extension@^0.16.3\u001b[0K\u001b[1G⢀ @jupyterlab/application-extension@^0.16.3\u001b[0K\u001b[1G⠠ @jupyterlab/application-extension@^0.16.3\u001b[0K\u001b[1G⠐ @jupyterlab/application-extension@^0.16.3\u001b[0K\u001b[1G⠈ @jupyterlab/apputils-extension@^0.16.3\u001b[0K\u001b[1G⠁ @jupyterlab/apputils-extension@^0.16.3\u001b[0K\u001b[1G⠂ @jupyterlab/apputils-extension@^0.16.3\u001b[0K\u001b[1G⠄ @jupyterlab/apputils-extension@^0.16.3\u001b[0K\u001b[1G⡀ @jupyterlab/apputils-extension@^0.16.3\u001b[0K\u001b[1G⢀ @jupyterlab/apputils-extension@^0.16.3\u001b[0K\u001b[1G⠠ @jupyterlab/apputils-extension@^0.16.3\u001b[0K\u001b[1G⠐ @jupyterlab/apputils-extension@^0.16.3\u001b[0K\u001b[1G⠈ @jupyterlab/apputils-extension@^0.16.3\u001b[0K\u001b[1G⠁ @jupyterlab/apputils-extension@^0.16.3\u001b[0K\u001b[1G⠂ @jupyterlab/apputils-extension@^0.16.3\u001b[0K\u001b[1G⠄ @jupyterlab/apputils-extension@^0.16.3\u001b[0K\u001b[1G⡀ @jupyterlab/apputils-extension@^0.16.3\u001b[0K\u001b[1G⢀ @jupyterlab/apputils-extension@^0.16.3\u001b[0K\u001b[1G⠠ @jupyterlab/apputils-extension@^0.16.3\u001b[0K\u001b[1G⠐ @jupyterlab/apputils-extension@^0.16.3\u001b[0K\u001b[1G⠈ @jupyterlab/apputils-extension@^0.16.3\u001b[0K\u001b[1G⠁ @jupyterlab/apputils-extension@^0.16.3\u001b[0K\u001b[1G⠂ @jupyterlab/apputils-extension@^0.16.3\u001b[0K\u001b[1G⠄ @jupyterlab/apputils-extension@^0.16.3\u001b[0K\u001b[1G⡀ @jupyterlab/apputils-extension@^0.16.3\u001b[0K\u001b[1G⢀ @jupyterlab/apputils-extension@^0.16.3\u001b[0K\u001b[1G⠠ @jupyterlab/apputils-extension@^0.16.3\u001b[0K\u001b[1G⠐ @jupyterlab/apputils-extension@^0.16.3\u001b[0K\u001b[1G⠈ @jupyterlab/apputils-extension@^0.16.3\u001b[0K\u001b[1G⠁ @jupyterlab/apputils-extension@^0.16.3\u001b[0K\u001b[1G⠂ @jupyterlab/apputils-extension@^0.16.3\u001b[0K\u001b[1G⠄ es6-promise@~4.1.1\u001b[0K\u001b[1G⡀ es6-promise@~4.1.1\u001b[0K\u001b[1G⢀ es6-promise@~4.1.1\u001b[0K\u001b[1G⠠ es6-promise@~4.1.1\u001b[0K\u001b[1G⠐ es6-promise@~4.1.1\u001b[0K\u001b[1G⠈ es6-promise@~4.1.1\u001b[0K\u001b[1G⠁ es6-promise@~4.1.1\u001b[0K\u001b[1G⠂ es6-promise@~4.1.1\u001b[0K\u001b[1G⠄ es6-promise@~4.1.1\u001b[0K\u001b[1G⡀ es6-promise@~4.1.1\u001b[0K\u001b[1G⢀ es6-promise@~4.1.1\u001b[0K\u001b[1G⠠ es6-promise@~4.1.1\u001b[0K\u001b[1G⠐ es6-promise@~4.1.1\u001b[0K\u001b[1G⠈ es6-promise@~4.1.1\u001b[0K\u001b[1G⠁ es6-promise@~4.1.1\u001b[0K\u001b[1G⠂ es6-promise@~4.1.1\u001b[0K\u001b[1G⠄ es6-promise@~4.1.1\u001b[0K\u001b[1G⡀ es6-promise@~4.1.1\u001b[0K\u001b[1G⢀ es6-promise@~4.1.1\u001b[0K\u001b[1G⠠ es6-promise@~4.1.1\u001b[0K\u001b[1G⠐ es6-promise@~4.1.1\u001b[0K\u001b[1G⠈ es6-promise@~4.1.1\u001b[0K\u001b[1G⠁ es6-promise@~4.1.1\u001b[0K\u001b[1G⠂ es6-promise@~4.1.1\u001b[0K\u001b[1G⠄ es6-promise@~4.1.1\u001b[0K\u001b[1G⡀ es6-promise@~4.1.1\u001b[0K\u001b[1G⢀ es6-promise@~4.1.1\u001b[0K\u001b[1G⠠ es6-promise@~4.1.1\u001b[0K\u001b[1G⠐ es6-promise@~4.1.1\u001b[0K\u001b[1G⠈ @jupyterlab/cells@^0.16.3\u001b[0K\u001b[1G⠁ @jupyterlab/cells@^0.16.3\u001b[0K\u001b[1G⠂ @jupyterlab/cells@^0.16.3\u001b[0K\u001b[1G⠄ @jupyterlab/cells@^0.16.3\u001b[0K\u001b[1G⡀ @jupyterlab/cells@^0.16.3\u001b[0K\u001b[1G⢀ @jupyterlab/cells@^0.16.3\u001b[0K\u001b[1G⠠ @jupyterlab/cells@^0.16.3\u001b[0K\u001b[1G⠐ @jupyterlab/cells@^0.16.3\u001b[0K\u001b[1G⠈ @jupyterlab/cells@^0.16.3\u001b[0K\u001b[1G⠁ @jupyterlab/cells@^0.16.3\u001b[0K\u001b[1G⠂ @jupyterlab/cells@^0.16.3\u001b[0K\u001b[1G⠄ @jupyterlab/cells@^0.16.3\u001b[0K\u001b[1G⡀ @jupyterlab/cells@^0.16.3\u001b[0K\u001b[1G⢀ @jupyterlab/cells@^0.16.3\u001b[0K\u001b[1G⠠ @jupyterlab/cells@^0.16.3\u001b[0K\u001b[1G⠐ @jupyterlab/cells@^0.16.3\u001b[0K\u001b[1G⠈ @jupyterlab/cells@^0.16.3\u001b[0K\u001b[1G⠁ @jupyterlab/cells@^0.16.3\u001b[0K\u001b[1G⠂ @jupyterlab/cells@^0.16.3\u001b[0K\u001b[1G⠄ @jupyterlab/cells@^0.16.3\u001b[0K\u001b[1G⡀ @jupyterlab/cells@^0.16.3\u001b[0K\u001b[1G⢀ @jupyterlab/cells@^0.16.3\u001b[0K\u001b[1G⠠ @jupyterlab/cells@^0.16.3\u001b[0K\u001b[1G⠐ @jupyterlab/cells@^0.16.3\u001b[0K\u001b[1G⠈ @jupyterlab/cells@^0.16.3\u001b[0K\u001b[1G⠁ @jupyterlab/cells@^0.16.3\u001b[0K\u001b[1G⠂ @jupyterlab/cells@^0.16.3\u001b[0K\u001b[1G⠄ react@~16.2.0\u001b[0K\u001b[1G⡀ react@~16.2.0\u001b[0K\u001b[1G⢀ react@~16.2.0\u001b[0K\u001b[1G⠠ react@~16.2.0\u001b[0K\u001b[1G⠐ react@~16.2.0\u001b[0K\u001b[1G⠈ react@~16.2.0\u001b[0K\u001b[1G⠁ react@~16.2.0\u001b[0K\u001b[1G⠂ react@~16.2.0\u001b[0K\u001b[1G⠄ react@~16.2.0\u001b[0K\u001b[1G⡀ react@~16.2.0\u001b[0K\u001b[1G⢀ react@~16.2.0\u001b[0K\u001b[1G⠠ react@~16.2.0\u001b[0K\u001b[1G⠐ react@~16.2.0\u001b[0K\u001b[1G⠈ react@~16.2.0\u001b[0K\u001b[1G⠁ react@~16.2.0\u001b[0K\u001b[1G⠂ react@~16.2.0\u001b[0K\u001b[1G⠄ react@~16.2.0\u001b[0K\u001b[1G⡀ react@~16.2.0\u001b[0K\u001b[1G⢀ react@~16.2.0\u001b[0K\u001b[1G⠠ react@~16.2.0\u001b[0K\u001b[1G⠐ react@~16.2.0\u001b[0K\u001b[1G⠈ react@~16.2.0\u001b[0K\u001b[1G⠁ react@~16.2.0\u001b[0K\u001b[1G⠂ react@~16.2.0\u001b[0K\u001b[1G⠄ react@~16.2.0\u001b[0K\u001b[1G⡀ react@~16.2.0\u001b[0K\u001b[1G⢀ react@~16.2.0\u001b[0K\u001b[1G⠠ react@~16.2.0\u001b[0K\u001b[1G⠐ @jupyterlab/codemirror-extension@^0.16.3\u001b[0K\u001b[1G⠈ @jupyterlab/codemirror-extension@^0.16.3\u001b[0K\u001b[1G⠁ @jupyterlab/codemirror-extension@^0.16.3\u001b[0K\u001b[1G⠂ @jupyterlab/codemirror-extension@^0.16.3\u001b[0K\u001b[1G⠄ @jupyterlab/codemirror-extension@^0.16.3\u001b[0K\u001b[1G⡀ @jupyterlab/codemirror-extension@^0.16.3\u001b[0K\u001b[1G⢀ @jupyterlab/codemirror-extension@^0.16.3\u001b[0K\u001b[1G⠠ @jupyterlab/codemirror-extension@^0.16.3\u001b[0K\u001b[1G⠐ @jupyterlab/codemirror-extension@^0.16.3\u001b[0K\u001b[1G⠈ @jupyterlab/codemirror-extension@^0.16.3\u001b[0K\u001b[1G⠁ @jupyterlab/codemirror-extension@^0.16.3\u001b[0K\u001b[1G⠂ @jupyterlab/codemirror-extension@^0.16.3\u001b[0K\u001b[1G⠄ @jupyterlab/codemirror-extension@^0.16.3\u001b[0K\u001b[1G⡀ @jupyterlab/codemirror-extension@^0.16.3\u001b[0K\u001b[1G⢀ @jupyterlab/codemirror-extension@^0.16.3\u001b[0K\u001b[1G⠠ @jupyterlab/codemirror-extension@^0.16.3\u001b[0K\u001b[1G⠐ @jupyterlab/codemirror-extension@^0.16.3\u001b[0K\u001b[1G⠈ @jupyterlab/codemirror-extension@^0.16.3\u001b[0K\u001b[1G⠁ @jupyterlab/codemirror-extension@^0.16.3\u001b[0K\u001b[1G⠂ @jupyterlab/codemirror-extension@^0.16.3\u001b[0K\u001b[1G⠄ @jupyterlab/codemirror-extension@^0.16.3\u001b[0K\u001b[1G⡀ @jupyterlab/codemirror-extension@^0.16.3\u001b[0K\u001b[1G⢀ @jupyterlab/codemirror-extension@^0.16.3\u001b[0K\u001b[1G⠠ @jupyterlab/codemirror-extension@^0.16.3\u001b[0K\u001b[1G⠐ @jupyterlab/codemirror-extension@^0.16.3\u001b[0K\u001b[1G⠈ @jupyterlab/codemirror-extension@^0.16.3\u001b[0K\u001b[1G⠁ @jupyterlab/codemirror-extension@^0.16.3\u001b[0K\u001b[1G⠂ @jupyterlab/codemirror-extension@^0.16.3\u001b[0K\u001b[1G⠄ codemirror@~5.35.0\u001b[0K\u001b[1G⡀ codemirror@~5.35.0\u001b[0K\u001b[1G⢀ codemirror@~5.35.0\u001b[0K\u001b[1G⠠ codemirror@~5.35.0\u001b[0K\u001b[1G⠐ codemirror@~5.35.0\u001b[0K\u001b[1G⠈ codemirror@~5.35.0\u001b[0K\u001b[1G⠁ codemirror@~5.35.0\u001b[0K\u001b[1G⠂ codemirror@~5.35.0\u001b[0K\u001b[1G⠄ codemirror@~5.35.0\u001b[0K\u001b[1G⡀ codemirror@~5.35.0\u001b[0K\u001b[1G⢀ codemirror@~5.35.0\u001b[0K\u001b[1G⠠ codemirror@~5.35.0\u001b[0K\u001b[1G⠐ codemirror@~5.35.0\u001b[0K\u001b[1G⠈ codemirror@~5.35.0\u001b[0K\u001b[1G⠁ codemirror@~5.35.0\u001b[0K\u001b[1G⠂ codemirror@~5.35.0\u001b[0K\u001b[1G⠄ codemirror@~5.35.0\u001b[0K\u001b[1G⡀ codemirror@~5.35.0\u001b[0K\u001b[1G⢀ codemirror@~5.35.0\u001b[0K\u001b[1G⠠ codemirror@~5.35.0\u001b[0K\u001b[1G⠐ codemirror@~5.35.0\u001b[0K\u001b[1G⠈ codemirror@~5.35.0\u001b[0K\u001b[1G⠁ codemirror@~5.35.0\u001b[0K\u001b[1G⠂ codemirror@~5.35.0\u001b[0K\u001b[1G⠄ codemirror@~5.35.0\u001b[0K\u001b[1G⡀ codemirror@~5.35.0\u001b[0K\u001b[1G⢀ codemirror@~5.35.0\u001b[0K\u001b[1G⠠ codemirror@~5.35.0\u001b[0K\u001b[1G⠐ @jupyterlab/completer@^0.16.3\u001b[0K\u001b[1G⠈ @jupyterlab/completer@^0.16.3\u001b[0K\u001b[1G⠁ @jupyterlab/completer@^0.16.3\u001b[0K\u001b[1G⠂ @jupyterlab/completer@^0.16.3\u001b[0K\u001b[1G⠄ @jupyterlab/completer@^0.16.3\u001b[0K\u001b[1G⡀ @jupyterlab/completer@^0.16.3\u001b[0K\u001b[1G⢀ @jupyterlab/completer@^0.16.3\u001b[0K\u001b[1G⠠ @jupyterlab/completer@^0.16.3\u001b[0K\u001b[1G⠐ @jupyterlab/completer@^0.16.3\u001b[0K\u001b[1G⠈ @jupyterlab/completer@^0.16.3\u001b[0K\u001b[1G⠁ @jupyterlab/completer@^0.16.3\u001b[0K\u001b[1G⠂ @jupyterlab/completer@^0.16.3\u001b[0K\u001b[1G⠄ @jupyterlab/completer@^0.16.3\u001b[0K\u001b[1G⡀ @jupyterlab/completer@^0.16.3\u001b[0K\u001b[1G⢀ @jupyterlab/completer@^0.16.3\u001b[0K\u001b[1G⠠ @jupyterlab/completer@^0.16.3\u001b[0K\u001b[1G⠐ @jupyterlab/completer@^0.16.3\u001b[0K\u001b[1G⠈ @jupyterlab/completer@^0.16.3\u001b[0K\u001b[1G⠁ @jupyterlab/completer@^0.16.3\u001b[0K\u001b[1G⠂ @jupyterlab/completer@^0.16.3\u001b[0K\u001b[1G⠄ @jupyterlab/completer@^0.16.3\u001b[0K\u001b[1G⡀ @jupyterlab/completer@^0.16.3\u001b[0K\u001b[1G⢀ @jupyterlab/completer@^0.16.3\u001b[0K\u001b[1G⠠ @jupyterlab/completer@^0.16.3\u001b[0K\u001b[1G⠐ @jupyterlab/completer@^0.16.3\u001b[0K\u001b[1G⠈ @jupyterlab/completer@^0.16.3\u001b[0K\u001b[1G⠁ @jupyterlab/completer@^0.16.3\u001b[0K\u001b[1G⠂ @jupyterlab/completer-extension@^0.16.3\u001b[0K\u001b[1G⠄ @jupyterlab/completer-extension@^0.16.3\u001b[0K\u001b[1G⡀ @jupyterlab/completer-extension@^0.16.3\u001b[0K\u001b[1G⢀ @jupyterlab/completer-extension@^0.16.3\u001b[0K\u001b[1G⠠ @jupyterlab/completer-extension@^0.16.3\u001b[0K\u001b[1G⠐ @jupyterlab/completer-extension@^0.16.3\u001b[0K\u001b[1G⠈ @jupyterlab/completer-extension@^0.16.3\u001b[0K\u001b[1G⠁ @jupyterlab/completer-extension@^0.16.3\u001b[0K\u001b[1G⠂ @jupyterlab/completer-extension@^0.16.3\u001b[0K\u001b[1G⠄ @jupyterlab/completer-extension@^0.16.3\u001b[0K\u001b[1G⡀ @jupyterlab/completer-extension@^0.16.3\u001b[0K\u001b[1G⢀ @jupyterlab/completer-extension@^0.16.3\u001b[0K\u001b[1G⠠ @jupyterlab/completer-extension@^0.16.3\u001b[0K\u001b[1G⠐ @jupyterlab/completer-extension@^0.16.3\u001b[0K\u001b[1G⠈ @jupyterlab/completer-extension@^0.16.3\u001b[0K\u001b[1G⠁ @jupyterlab/completer-extension@^0.16.3\u001b[0K\u001b[1G⠂ @jupyterlab/completer-extension@^0.16.3\u001b[0K\u001b[1G⠄ @jupyterlab/completer-extension@^0.16.3\u001b[0K\u001b[1G⡀ @jupyterlab/completer-extension@^0.16.3\u001b[0K\u001b[1G⢀ @jupyterlab/completer-extension@^0.16.3\u001b[0K\u001b[1G⠠ @jupyterlab/completer-extension@^0.16.3\u001b[0K\u001b[1G⠐ @jupyterlab/completer-extension@^0.16.3\u001b[0K\u001b[1G⠈ @jupyterlab/completer-extension@^0.16.3\u001b[0K\u001b[1G⠁ @jupyterlab/completer-extension@^0.16.3\u001b[0K\u001b[1G⠂ @jupyterlab/completer-extension@^0.16.3\u001b[0K\u001b[1G⠄ @jupyterlab/completer-extension@^0.16.3\u001b[0K\u001b[1G⡀ @jupyterlab/completer-extension@^0.16.3\u001b[0K\u001b[1G⢀ @jupyterlab/completer-extension@^0.16.3\u001b[0K\u001b[1G⠠ @phosphor/widgets@^1.5.0\u001b[0K\u001b[1G⠐ @phosphor/widgets@^1.5.0\u001b[0K\u001b[1G⠈ @phosphor/widgets@^1.5.0\u001b[0K\u001b[1G⠁ @phosphor/widgets@^1.5.0\u001b[0K\u001b[1G⠂ @phosphor/widgets@^1.5.0\u001b[0K\u001b[1G⠄ @phosphor/widgets@^1.5.0\u001b[0K\u001b[1G⡀ @phosphor/widgets@^1.5.0\u001b[0K\u001b[1G⢀ @phosphor/widgets@^1.5.0\u001b[0K\u001b[1G⠠ @phosphor/widgets@^1.5.0\u001b[0K\u001b[1G⠐ @phosphor/widgets@^1.5.0\u001b[0K\u001b[1G⠈ @phosphor/widgets@^1.5.0\u001b[0K\u001b[1G⠁ @phosphor/widgets@^1.5.0\u001b[0K\u001b[1G⠂ @phosphor/widgets@^1.5.0\u001b[0K\u001b[1G⠄ @phosphor/widgets@^1.5.0\u001b[0K\u001b[1G⡀ @phosphor/widgets@^1.5.0\u001b[0K\u001b[1G⢀ @phosphor/widgets@^1.5.0\u001b[0K\u001b[1G⠠ @phosphor/widgets@^1.5.0\u001b[0K\u001b[1G⠐ @phosphor/widgets@^1.5.0\u001b[0K\u001b[1G⠈ @phosphor/widgets@^1.5.0\u001b[0K\u001b[1G⠁ @phosphor/widgets@^1.5.0\u001b[0K\u001b[1G⠂ @phosphor/widgets@^1.5.0\u001b[0K\u001b[1G⠄ @phosphor/widgets@^1.5.0\u001b[0K\u001b[1G⡀ @phosphor/widgets@^1.5.0\u001b[0K\u001b[1G⢀ @phosphor/widgets@^1.5.0\u001b[0K\u001b[1G⠠ @phosphor/widgets@^1.5.0\u001b[0K\u001b[1G⠐ @phosphor/widgets@^1.5.0\u001b[0K\u001b[1G⠈ react@~16.2.0\u001b[0K\u001b[1G⠁ @jupyterlab/console-extension@^0.16.3\u001b[0K\u001b[1G⠂ @jupyterlab/console-extension@^0.16.3\u001b[0K\u001b[1G⠄ @jupyterlab/console-extension@^0.16.3\u001b[0K\u001b[1G⡀ @jupyterlab/console-extension@^0.16.3\u001b[0K\u001b[1G⢀ @jupyterlab/console-extension@^0.16.3\u001b[0K\u001b[1G⠠ @jupyterlab/console-extension@^0.16.3\u001b[0K\u001b[1G⠐ @jupyterlab/console-extension@^0.16.3\u001b[0K\u001b[1G⠈ @jupyterlab/console-extension@^0.16.3\u001b[0K\u001b[1G⠁ @jupyterlab/console-extension@^0.16.3\u001b[0K\u001b[1G⠂ @jupyterlab/console-extension@^0.16.3\u001b[0K\u001b[1G⠄ @jupyterlab/console-extension@^0.16.3\u001b[0K\u001b[1G⡀ @jupyterlab/console-extension@^0.16.3\u001b[0K\u001b[1G⢀ @jupyterlab/console-extension@^0.16.3\u001b[0K\u001b[1G⠠ @jupyterlab/console-extension@^0.16.3\u001b[0K\u001b[1G⠐ @jupyterlab/console-extension@^0.16.3\u001b[0K\u001b[1G⠈ @jupyterlab/console-extension@^0.16.3\u001b[0K\u001b[1G⠁ @jupyterlab/console-extension@^0.16.3\u001b[0K\u001b[1G⠂ @jupyterlab/console-extension@^0.16.3\u001b[0K\u001b[1G⠄ @jupyterlab/console-extension@^0.16.3\u001b[0K\u001b[1G⡀ @jupyterlab/console-extension@^0.16.3\u001b[0K\u001b[1G⢀ @jupyterlab/console-extension@^0.16.3\u001b[0K\u001b[1G⠠ @jupyterlab/console-extension@^0.16.3\u001b[0K\u001b[1G⠐ @jupyterlab/console-extension@^0.16.3\u001b[0K\u001b[1G⠈ @jupyterlab/console-extension@^0.16.3\u001b[0K\u001b[1G⠁ @jupyterlab/console-extension@^0.16.3\u001b[0K\u001b[1G⠂ @jupyterlab/console-extension@^0.16.3\u001b[0K\u001b[1G⠄ @phosphor/widgets@^1.5.0\u001b[0K\u001b[1G⡀ @phosphor/widgets@^1.5.0\u001b[0K\u001b[1G⢀ @phosphor/widgets@^1.5.0\u001b[0K\u001b[1G⠠ @phosphor/widgets@^1.5.0\u001b[0K\u001b[1G⠐ @phosphor/widgets@^1.5.0\u001b[0K\u001b[1G⠈ @phosphor/widgets@^1.5.0\u001b[0K\u001b[1G⠁ @phosphor/widgets@^1.5.0\u001b[0K\u001b[1G⠂ @phosphor/widgets@^1.5.0\u001b[0K\u001b[1G⠄ @phosphor/widgets@^1.5.0\u001b[0K\u001b[1G⡀ @phosphor/widgets@^1.5.0\u001b[0K\u001b[1G⢀ @phosphor/widgets@^1.5.0\u001b[0K\u001b[1G⠠ @phosphor/widgets@^1.5.0\u001b[0K\u001b[1G⠐ @phosphor/widgets@^1.5.0\u001b[0K\u001b[1G⠈ @phosphor/widgets@^1.5.0\u001b[0K\u001b[1G⠁ @phosphor/widgets@^1.5.0\u001b[0K\u001b[1G⠂ @phosphor/widgets@^1.5.0\u001b[0K\u001b[1G⠄ @phosphor/widgets@^1.5.0\u001b[0K\u001b[1G⡀ @phosphor/widgets@^1.5.0\u001b[0K\u001b[1G⢀ @phosphor/widgets@^1.5.0\u001b[0K\u001b[1G⠠ @phosphor/widgets@^1.5.0\u001b[0K\u001b[1G⠐ @phosphor/widgets@^1.5.0\u001b[0K\u001b[1G⠈ @phosphor/widgets@^1.5.0\u001b[0K\u001b[1G⠁ @phosphor/widgets@^1.5.0\u001b[0K\u001b[1G⠂ @phosphor/widgets@^1.5.0\u001b[0K\u001b[1G⠄ @phosphor/widgets@^1.5.0\u001b[0K\u001b[1G⡀ @phosphor/widgets@^1.5.0\u001b[0K\u001b[1G⢀ @phosphor/widgets@^1.5.0\u001b[0K\u001b[1G⠠ @phosphor/widgets@^1.5.0\u001b[0K\u001b[1G⠐ react@~16.2.0\u001b[0K\u001b[1G⠈ @phosphor/widgets@^1.5.0\u001b[0K\u001b[1G⠁ @phosphor/widgets@^1.5.0\u001b[0K\u001b[1G⠂ @phosphor/widgets@^1.5.0\u001b[0K\u001b[1G⠄ @phosphor/widgets@^1.5.0\u001b[0K\u001b[1G⡀ @phosphor/widgets@^1.5.0\u001b[0K\u001b[1G⢀ @phosphor/widgets@^1.5.0\u001b[0K\u001b[1G⠠ @phosphor/widgets@^1.5.0\u001b[0K\u001b[1G⠐ @phosphor/widgets@^1.5.0\u001b[0K\u001b[1G⠈ @phosphor/widgets@^1.5.0\u001b[0K\u001b[1G⠁ @phosphor/widgets@^1.5.0\u001b[0K\u001b[1G⠂ @phosphor/widgets@^1.5.0\u001b[0K\u001b[1G⠄ @phosphor/widgets@^1.5.0\u001b[0K\u001b[1G⡀ @phosphor/widgets@^1.5.0\u001b[0K\u001b[1G⢀ @phosphor/widgets@^1.5.0\u001b[0K\u001b[1G⠠ @phosphor/widgets@^1.5.0\u001b[0K\u001b[1G⠐ @phosphor/widgets@^1.5.0\u001b[0K\u001b[1G⠈ @phosphor/widgets@^1.5.0\u001b[0K\u001b[1G⠁ @phosphor/widgets@^1.5.0\u001b[0K\u001b[1G⠂ @phosphor/widgets@^1.5.0\u001b[0K\u001b[1G⠄ @phosphor/widgets@^1.5.0\u001b[0K\u001b[1G⡀ @phosphor/widgets@^1.5.0\u001b[0K\u001b[1G⢀ @phosphor/widgets@^1.5.0\u001b[0K\u001b[1G⠠ @phosphor/widgets@^1.5.0\u001b[0K\u001b[1G⠐ @phosphor/widgets@^1.5.0\u001b[0K\u001b[1G⠈ @phosphor/widgets@^1.5.0\u001b[0K\u001b[1G⠁ @phosphor/widgets@^1.5.0\u001b[0K\u001b[1G⠂ @jupyterlab/csvviewer@^0.16.3\u001b[0K\u001b[1G⠄ @jupyterlab/csvviewer@^0.16.3\u001b[0K\u001b[1G⡀ @jupyterlab/csvviewer@^0.16.3\u001b[0K\u001b[1G⢀ @jupyterlab/csvviewer@^0.16.3\u001b[0K\u001b[1G⠠ @jupyterlab/csvviewer@^0.16.3\u001b[0K\u001b[1G⠐ @jupyterlab/csvviewer@^0.16.3\u001b[0K\u001b[1G⠈ @jupyterlab/csvviewer@^0.16.3\u001b[0K\u001b[1G⠁ @jupyterlab/csvviewer@^0.16.3\u001b[0K\u001b[1G⠂ @jupyterlab/csvviewer@^0.16.3\u001b[0K\u001b[1G⠄ @jupyterlab/csvviewer@^0.16.3\u001b[0K\u001b[1G⡀ @jupyterlab/csvviewer@^0.16.3\u001b[0K\u001b[1G⢀ @jupyterlab/csvviewer@^0.16.3\u001b[0K\u001b[1G⠠ @jupyterlab/csvviewer@^0.16.3\u001b[0K\u001b[1G⠐ @jupyterlab/csvviewer@^0.16.3\u001b[0K\u001b[1G⠈ @jupyterlab/csvviewer@^0.16.3\u001b[0K\u001b[1G⠁ @jupyterlab/csvviewer@^0.16.3\u001b[0K\u001b[1G⠂ @jupyterlab/csvviewer@^0.16.3\u001b[0K\u001b[1G⠄ @jupyterlab/csvviewer@^0.16.3\u001b[0K\u001b[1G⡀ @jupyterlab/csvviewer@^0.16.3\u001b[0K\u001b[1G⢀ @jupyterlab/csvviewer@^0.16.3\u001b[0K\u001b[1G⠠ @jupyterlab/csvviewer@^0.16.3\u001b[0K\u001b[1G⠐ @jupyterlab/csvviewer@^0.16.3\u001b[0K\u001b[1G⠈ @jupyterlab/csvviewer@^0.16.3\u001b[0K\u001b[1G⠁ @jupyterlab/csvviewer@^0.16.3\u001b[0K\u001b[1G⠂ @jupyterlab/csvviewer@^0.16.3\u001b[0K\u001b[1G⠄ @jupyterlab/csvviewer@^0.16.3\u001b[0K\u001b[1G⡀ @jupyterlab/csvviewer@^0.16.3\u001b[0K\u001b[1G⢀ @jupyterlab/csvviewer@^0.16.3\u001b[0K\u001b[1G⠠ @phosphor/widgets@^1.5.0\u001b[0K\u001b[1G⠐ @phosphor/widgets@^1.5.0\u001b[0K\u001b[1G⠈ @phosphor/widgets@^1.5.0\u001b[0K\u001b[1G⠁ @phosphor/widgets@^1.5.0\u001b[0K\u001b[1G⠂ @phosphor/widgets@^1.5.0\u001b[0K\u001b[1G⠄ @phosphor/widgets@^1.5.0\u001b[0K\u001b[1G⡀ @phosphor/widgets@^1.5.0\u001b[0K\u001b[1G⢀ @phosphor/widgets@^1.5.0\u001b[0K\u001b[1G⠠ @phosphor/widgets@^1.5.0\u001b[0K\u001b[1G⠐ @phosphor/widgets@^1.5.0\u001b[0K\u001b[1G⠈ @phosphor/widgets@^1.5.0\u001b[0K\u001b[1G⠁ @phosphor/widgets@^1.5.0\u001b[0K\u001b[1G⠂ @phosphor/widgets@^1.5.0\u001b[0K\u001b[1G⠄ @phosphor/widgets@^1.5.0\u001b[0K\u001b[1G⡀ @jupyterlab/csvviewer-extension@^0.16.3\u001b[0K\u001b[1G⢀ @jupyterlab/csvviewer-extension@^0.16.3\u001b[0K\u001b[1G⠠ @jupyterlab/csvviewer-extension@^0.16.3\u001b[0K\u001b[1G⠐ @jupyterlab/csvviewer-extension@^0.16.3\u001b[0K\u001b[1G⠈ @jupyterlab/csvviewer-extension@^0.16.3\u001b[0K\u001b[1G⠁ @jupyterlab/csvviewer-extension@^0.16.3\u001b[0K\u001b[1G⠂ @jupyterlab/csvviewer-extension@^0.16.3\u001b[0K\u001b[1G⠄ @jupyterlab/csvviewer-extension@^0.16.3\u001b[0K\u001b[1G⡀ @jupyterlab/csvviewer-extension@^0.16.3\u001b[0K\u001b[1G⢀ @jupyterlab/csvviewer-extension@^0.16.3\u001b[0K\u001b[1G⠠ @jupyterlab/csvviewer-extension@^0.16.3\u001b[0K\u001b[1G⠐ @jupyterlab/csvviewer-extension@^0.16.3\u001b[0K\u001b[1G⠈ @jupyterlab/csvviewer-extension@^0.16.3\u001b[0K\u001b[1G⠁ @jupyterlab/csvviewer-extension@^0.16.3\u001b[0K\u001b[1G⠂ @jupyterlab/csvviewer-extension@^0.16.3\u001b[0K"
     ]
    }
   ],
   "source": [
    "!jupyter labextension install @8080labs/qgrid"
   ]
  },
  {
   "cell_type": "code",
   "execution_count": null,
   "metadata": {},
   "outputs": [],
   "source": []
  }
 ],
 "metadata": {
  "kernelspec": {
   "display_name": "conda_python3",
   "language": "python",
   "name": "conda_python3"
  },
  "language_info": {
   "codemirror_mode": {
    "name": "ipython",
    "version": 3
   },
   "file_extension": ".py",
   "mimetype": "text/x-python",
   "name": "python",
   "nbconvert_exporter": "python",
   "pygments_lexer": "ipython3",
   "version": "3.6.5"
  }
 },
 "nbformat": 4,
 "nbformat_minor": 4
}
