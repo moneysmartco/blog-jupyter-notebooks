{
 "cells": [
  {
   "cell_type": "markdown",
   "metadata": {},
   "source": [
    "# Conversions\n",
    "\n",
    "This is trying to get a set of all the actions that we consider conversions as a business.\n",
    "\n",
    "Over time it might need to be updated.  In Metabase land, it's created on the view level, rather than being in the dim and fact tables, which makes it a bit hard to make general queries like \"which users converted, and where did they convert?\".\n",
    "\n",
    "I see a few conversion types:\n",
    "* Contact form filled in (as in they performed the action we wanted on the site)\n",
    "* Advert clicked / action taken on the blog that wasn't directly revenue generating (it might also lead to a revenue generating action) - not the priority.\n",
    "* Apply button clicked - whether this goes to an external site, or the application is performed on our own site.\n",
    "* Purchased on our site i.e. clicked to go to an application form and then actually converted.\n",
    "* Purchased on external site (we don't currently have user level tracking here though).\n",
    "\n",
    "Of the above, the most important one is the apply button click as it's the most comparable across all areas.\n",
    "\n",
    "You can get way more complicated by including information like the revenue per action etc if you want to know how valuable clicks are.  That's probably getting out of scope for the first level analysis.\n",
    "\n",
    "The initial use case for this is in looking at revenue generating conversion from the blog during blog AB test.  Given we're into credit cards, and they're fairly high volume, I'll likely focus on that."
   ]
  },
  {
   "cell_type": "markdown",
   "metadata": {},
   "source": [
    "# Planning\n",
    "\n",
    "## Overview\n",
    "\n",
    "Suggested data structure something like [anonymous_id, timestamp, conversion_type, channel of product purchased, page action took place on, action_page_type, action_page_widget]\n",
    "where page action took place on shouldn't be say ISS, but it should be something like the blog page.\n",
    "\n",
    "The action_page_type should be something of listing_page / PDP / blog_article and action_page_widget would be say comparison_widget / advert / inline_widget.\n",
    "\n",
    "In metabase land it also adds in things like session and landing page, but those are out of scope.  You can join the results of this based on anonymous_id and timestamp.\n",
    "\n",
    "... but will likely build this up incrementally as the main thing is knowing about the overall conversions that can be attributed to an anonymous_id rather than getting full segmentation.\n",
    "\n",
    "\n",
    "## Success Will Be\n",
    "\n",
    "Creating a library that can be used in other areas.  I.e. this notebook isn't the product.  It's just about building up and validating the code (will need to check against dashboards etc)\n",
    "\n",
    "## Known / Expected Data Sources\n",
    "\n",
    "* There's click events on various apply button clicks.\n",
    "* Most conversions will happen through ISS, which can be on one of several urls (blog, shop and iss.moneysmart.*) - I guess not used for applications on the site, but should be for all applications off the site.  This has been partly collected up IIRC in segment_vs_kinesis under ISS.\n",
    "* Not sure about mortgage.\n",
    "\n",
    "## Existing Code\n",
    "* The current code in use is in the views in the metl/dags/refresh_rs_views/templates codebase (on github)\n",
    "\n",
    "\n",
    "## Considerations\n",
    "\n",
    "* Dashboards will exclude internal users (by IP address)\n",
    "* https://get.moneysmart.sg/apply/citi-premiermiles-visa-sl-all-cards/ seems to not be tracked (unbounce, but maybe 130 views per day for a very high intent page)\n"
   ]
  },
  {
   "cell_type": "code",
   "execution_count": 10,
   "metadata": {},
   "outputs": [],
   "source": [
    "from athena_querying import AthenaQuery\n",
    "from athena_common_queries import create_partition_filter, athena_database, athena_raw_events_table #(from_datetime, to_datetime)\n",
    "from datetime import datetime, timedelta"
   ]
  },
  {
   "cell_type": "code",
   "execution_count": 11,
   "metadata": {},
   "outputs": [],
   "source": [
    "num_days_to_query = 2\n",
    "to_datetime = datetime(year=2020, month=2, day=9)\n",
    "from_datetime = to_datetime - timedelta(days=num_days_to_query)"
   ]
  },
  {
   "cell_type": "code",
   "execution_count": 12,
   "metadata": {},
   "outputs": [],
   "source": [
    "aq = AthenaQuery()\n",
    "aq.connect()"
   ]
  },
  {
   "cell_type": "code",
   "execution_count": 13,
   "metadata": {},
   "outputs": [
    {
     "name": "stdout",
     "output_type": "stream",
     "text": [
      "select \n",
      "        sent_at, \n",
      "        user.anonymous_id,\n",
      "        context.page_url\n",
      "        \n",
      "\n",
      "     from ms_data_lake_production.ms_data_stream_production_processed \n",
      "where \n",
      "    (context.page_url like '%moneysmart.sg%' or context.page_url like '%moneysmart.hk%')\n",
      "    and ( \"regexp_extract\"(\"context\".\"page_url\", '^(([^:/?#]+):)?(//([^/?#]*))?([^?#]*)(\\?([^#]*))?(#(.*))?', 5) like '%/apply' -- not sure if there's a risk of a trailing slash\n",
      "        OR \"regexp_extract\"(\"context\".\"page_url\", '^(([^:/?#]+):)?(//([^/?#]*))?([^?#]*)(\\?([^#]*))?(#(.*))?', 5) like '%/redirect'\n",
      "        OR \"regexp_extract\"(\"context\".\"page_url\", '^(([^:/?#]+):)?(//([^/?#]*))?([^?#]*)(\\?([^#]*))?(#(.*))?', 4) like '%iss.moneysmart%'\n",
      "    )\n",
      "\n",
      "and \n",
      "  (\n",
      " partition_0 >= '2020'\n",
      " AND partition_1 >= '02'\n",
      " AND partition_2 >= '07'\n",
      " OR (\n",
      " partition_0 >= '2020'\n",
      " AND partition_1 > '02'\n",
      " ) \n",
      " OR (\n",
      " partition_0 > '2020'\n",
      " ) \n",
      ")\n",
      " AND ((partition_0 <= '2020'\n",
      "\t AND partition_1 <= '02'\n",
      "\t AND partition_2 <= '09'\n",
      ") \n",
      " OR (\n",
      "\t partition_0 <= '2020'\n",
      "\t AND partition_1 < '02'\n",
      ") \n",
      " OR (\n",
      "\t partition_0 < '2020'\n",
      ") \n",
      ")\n"
     ]
    }
   ],
   "source": [
    "# if \"iss.moneysmart\" in nl or stripped_path.endswith(\"apply\") or stripped_path.endswith(\"redirect\"):\n",
    "query = \"\"\"select \n",
    "        sent_at, \n",
    "        user.anonymous_id,\n",
    "        context.page_url\n",
    "        \n",
    "\n",
    "    \"\"\"\n",
    "\n",
    "query+= \" from \"+athena_database+\".\"+athena_raw_events_table+\" \"\n",
    "query += \"\"\"\n",
    "where \n",
    "    (context.page_url like '%moneysmart.sg%' or context.page_url like '%moneysmart.hk%')\n",
    "    and ( \"regexp_extract\"(\"context\".\"page_url\", '^(([^:/?#]+):)?(//([^/?#]*))?([^?#]*)(\\?([^#]*))?(#(.*))?', 5) like '%/apply' -- not sure if there's a risk of a trailing slash\n",
    "        OR \"regexp_extract\"(\"context\".\"page_url\", '^(([^:/?#]+):)?(//([^/?#]*))?([^?#]*)(\\?([^#]*))?(#(.*))?', 5) like '%/redirect'\n",
    "        OR \"regexp_extract\"(\"context\".\"page_url\", '^(([^:/?#]+):)?(//([^/?#]*))?([^?#]*)(\\?([^#]*))?(#(.*))?', 4) like '%iss.moneysmart%'\n",
    "    )\n",
    "\n",
    "\"\"\"\n",
    "query += \"and \" + create_partition_filter(from_datetime, to_datetime)\n",
    "print(query)"
   ]
  },
  {
   "cell_type": "code",
   "execution_count": 15,
   "metadata": {},
   "outputs": [],
   "source": [
    "df = aq.query(query)"
   ]
  },
  {
   "cell_type": "code",
   "execution_count": 16,
   "metadata": {},
   "outputs": [
    {
     "data": {
      "text/plain": [
       "23363"
      ]
     },
     "execution_count": 16,
     "metadata": {},
     "output_type": "execute_result"
    }
   ],
   "source": [
    "len(df)"
   ]
  },
  {
   "cell_type": "code",
   "execution_count": null,
   "metadata": {},
   "outputs": [],
   "source": [
    "def process_apply_url_to_channel(url):\n",
    "    if url.startswith(\"https://iss.\")\n",
    "    \n",
    "    elif url.startswith(\"https://\")  # need to be a bit careful with AB test here.  www vs www-new etc\n",
    "    \n",
    "    else:\n",
    "        return \"unknown\""
   ]
  },
  {
   "cell_type": "code",
   "execution_count": null,
   "metadata": {},
   "outputs": [],
   "source": []
  }
 ],
 "metadata": {
  "kernelspec": {
   "display_name": "conda_python3",
   "language": "python",
   "name": "conda_python3"
  },
  "language_info": {
   "codemirror_mode": {
    "name": "ipython",
    "version": 3
   },
   "file_extension": ".py",
   "mimetype": "text/x-python",
   "name": "python",
   "nbconvert_exporter": "python",
   "pygments_lexer": "ipython3",
   "version": "3.6.5"
  }
 },
 "nbformat": 4,
 "nbformat_minor": 4
}
