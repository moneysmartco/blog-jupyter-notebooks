{
 "cells": [
  {
   "cell_type": "markdown",
   "metadata": {},
   "source": [
    "# User Journey Mapping\n",
    "\n",
    "## MVP Idea / Concept\n",
    "\n",
    "* Take a list of events (pageviews to start with) across a number of days (say a week or 2)\n",
    "* Categorise the pages as things like PDP (may want to query extra columns), landing etc\n",
    "* Understand when / how someone landed\n",
    "* Show the kinds of actions taken in advance of making a purchase (an action e.g. ending up on the interstitial), in particular group by say blog and shop\n",
    "* Group by day\n",
    "* Show for a cohort of users (e.g. for all the people that purchased this week, what actions did they take in the 4 weeks preceeding their purchase?\n",
    "\n",
    "Consider showing in a Sankey diagram if can make it work as that kind of flow.  But might make more sense as a series of bar charts through the days (each day has a bar for blog, LPS, shop say).\n",
    "\n",
    "Later can refine / augment, it's just to show that can get some of this information out."
   ]
  },
  {
   "cell_type": "code",
   "execution_count": null,
   "metadata": {},
   "outputs": [],
   "source": []
  }
 ],
 "metadata": {
  "kernelspec": {
   "display_name": "conda_python3",
   "language": "python",
   "name": "conda_python3"
  },
  "language_info": {
   "codemirror_mode": {
    "name": "ipython",
    "version": 3
   },
   "file_extension": ".py",
   "mimetype": "text/x-python",
   "name": "python",
   "nbconvert_exporter": "python",
   "pygments_lexer": "ipython3",
   "version": "3.6.5"
  },
  "toc-showtags": false
 },
 "nbformat": 4,
 "nbformat_minor": 4
}
