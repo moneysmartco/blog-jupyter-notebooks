{
 "cells": [
  {
   "cell_type": "code",
   "execution_count": 833,
   "metadata": {},
   "outputs": [],
   "source": [
    "import sys\n",
    "try:\n",
    "    from pyathena import connect\n",
    "except:\n",
    "    print(\"Failed to import pyathena, trying to install it\")\n",
    "    !{sys.executable} -m pip install PyAthena\n",
    "    from pyathena import connect\n",
    "    print(\"successfully installed\")\n",
    "try:\n",
    "    import psycopg2\n",
    "except:\n",
    "    print(\"Failed ot import psychopg2, trying to install it\")\n",
    "    !{sys.executable} -m pip install psycopg2-binary\n",
    "    import psycopg2\n",
    "    print(\"Successfully installed\")\n",
    "   \n",
    "import pandas as pd\n",
    "\"\"\"\n",
    "# Modin is a faster pandas implementation that better uses multiple cores.\n",
    "# You might have issues installing to get the right pandas version for it.\n",
    "try:\n",
    "    import modin.pandas as pd\n",
    "    \n",
    "except:\n",
    "    print(\"Failed ot import modin, trying to install it\")\n",
    "    !{sys.executable} -m pip install modin\n",
    "    !{sys.executable} -m pip install modin[ray]\n",
    "    !{sys.executable} -m pip install --upgrade numpy\n",
    "    import modin.pandas as pd\n",
    "    print(\"Successfully installed\")\n",
    " \"\"\"   \n",
    "    \n",
    "\n",
    "import boto3\n",
    "import boto3\n",
    "import base64\n",
    "from botocore.exceptions import ClientError\n",
    "from datetime  import datetime, timedelta, date\n",
    "import time\n",
    "\n",
    "from athena_querying import *\n",
    "from athena_common_queries import *\n",
    "\n",
    "import csv\n",
    "\n",
    "from matplotlib import cm #colormaps for pretty tables."
   ]
  },
  {
   "cell_type": "code",
   "execution_count": 834,
   "metadata": {},
   "outputs": [],
   "source": [
    "import creds"
   ]
  },
  {
   "cell_type": "code",
   "execution_count": 835,
   "metadata": {},
   "outputs": [],
   "source": [
    "# if using jupyterlab and plotly doesn't work https://plot.ly/python/getting-started/#jupyterlab-support-python-35\n",
    "install_jupyterlab_plotly_extensions_command = \"\"\"\n",
    "# Avoid \"JavaScript heap out of memory\" errors during extension installation\n",
    "# (OS X/Linux)\n",
    "export NODE_OPTIONS=--max-old-space-size=4096\n",
    "# (Windows)\n",
    "set NODE_OPTIONS=--max-old-space-size=4096\n",
    "\n",
    "# Jupyter widgets extension\n",
    "jupyter labextension install @jupyter-widgets/jupyterlab-manager@1.0 --no-build\n",
    "\n",
    "# jupyterlab renderer support\n",
    "jupyter labextension install jupyterlab-plotly@1.1.0 --no-build\n",
    "\n",
    "# FigureWidget support\n",
    "jupyter labextension install plotlywidget@1.1.0 --no-build\n",
    "\n",
    "# JupyterLab chart editor support (optional)\n",
    "jupyter labextension install jupyterlab-chart-editor@1.2 --no-build\n",
    "\n",
    "# Build extensions (must be done to activate extensions since --no-build is used above)\n",
    "jupyter lab build\n",
    "\n",
    "# Unset NODE_OPTIONS environment variable\n",
    "# (OS X/Linux)\n",
    "unset NODE_OPTIONS\"\"\"\n",
    "\n",
    "\n",
    "\n",
    "    "
   ]
  },
  {
   "cell_type": "code",
   "execution_count": 836,
   "metadata": {},
   "outputs": [],
   "source": [
    "import plotly.graph_objects as go\n",
    "import plotly as py\n",
    "\n",
    "import plotly.offline as off\n",
    "import plotly.graph_objs as go\n",
    "import numpy as np\n",
    "from plotly.subplots import make_subplots\n",
    "\n",
    "import matplotlib.pyplot as plt\n",
    "import seaborn as sns\n",
    "%matplotlib inline \n",
    "import os\n",
    "\n",
    "#off.init_notebook_mode(connected=True)"
   ]
  },
  {
   "cell_type": "code",
   "execution_count": 837,
   "metadata": {},
   "outputs": [],
   "source": [
    "# plotly, which seems to have endless issues to get working reliably on sagemaker.\n",
    "if False:\n",
    "    fig = make_subplots(1, 1)\n",
    "\n",
    "    fig.add_trace(\n",
    "        go.Pie(values=[1,2,3], labels=[\"a\", \"b\", \"c\"]),\n",
    "    )\n",
    "\n",
    "\n",
    "    fig.show()\n",
    "    \n",
    "    \n"
   ]
  },
  {
   "cell_type": "markdown",
   "metadata": {},
   "source": [
    "# Settings"
   ]
  },
  {
   "cell_type": "code",
   "execution_count": 838,
   "metadata": {},
   "outputs": [],
   "source": [
    "#--- Analysis Settings --\n",
    "num_days_to_analyse = 10\n",
    "analysis_end_time = datetime.fromordinal(date.today().toordinal()) # start of today as we only get yesterday's data.  Note it's UTC time, so do multiple days\n",
    "analysis_start_time = analysis_end_time - timedelta(days=num_days_to_analyse)\n",
    "country_codes_to_analyse = [\"hk\", \"sg\"] # lower case\n",
    "results_output_folder = './Blog AB Results'\n",
    "\n",
    "test_urls_csv_filepath = {  # These originally come from https://docs.google.com/spreadsheets/d/1UdrncwVdObaA6d0lnvbAQCHBpQMzEhWPz5OTR9Syobo/edit#gid=0\n",
    "    \"id\":\"./SEO Test Urls/id_seo_test_urls.csv\",\n",
    "    \"tw\":\"./SEO Test Urls/tw_seo_test_urls.csv\",\n",
    "    \"sg\": \"./SEO Test Urls/sg_seo_test_urls.csv\",\n",
    "    \"hk\": \"./SEO Test Urls/hk_seo_test_urls.csv\",\n",
    "}\n",
    "\n",
    "exclude_seo_test_urls = True\n",
    "only_seo_test_urls = False #useful for checking SEO test pages have sensible behaviour"
   ]
  },
  {
   "cell_type": "markdown",
   "metadata": {
    "toc-hr-collapsed": false
   },
   "source": [
    "# Getting Base Data"
   ]
  },
  {
   "cell_type": "markdown",
   "metadata": {},
   "source": [
    "## Events from Athena"
   ]
  },
  {
   "cell_type": "code",
   "execution_count": 839,
   "metadata": {},
   "outputs": [
    {
     "name": "stdout",
     "output_type": "stream",
     "text": [
      "Connecting to Athena\n"
     ]
    }
   ],
   "source": [
    "print(\"Connecting to Athena\")\n",
    "#athena_conn, athena_cursor = get_athena_conn()\n",
    "athena = AthenaQuery()\n",
    "athena.connect()"
   ]
  },
  {
   "cell_type": "code",
   "execution_count": null,
   "metadata": {},
   "outputs": [
    {
     "name": "stdout",
     "output_type": "stream",
     "text": [
      "Running small test query to check the athena connection\n"
     ]
    },
    {
     "data": {
      "text/html": [
       "<div>\n",
       "<style scoped>\n",
       "    .dataframe tbody tr th:only-of-type {\n",
       "        vertical-align: middle;\n",
       "    }\n",
       "\n",
       "    .dataframe tbody tr th {\n",
       "        vertical-align: top;\n",
       "    }\n",
       "\n",
       "    .dataframe thead th {\n",
       "        text-align: right;\n",
       "    }\n",
       "</style>\n",
       "<table border=\"1\" class=\"dataframe\">\n",
       "  <thead>\n",
       "    <tr style=\"text-align: right;\">\n",
       "      <th></th>\n",
       "      <th>type</th>\n",
       "      <th>context</th>\n",
       "      <th>user</th>\n",
       "      <th>body</th>\n",
       "      <th>sent_at</th>\n",
       "      <th>event_id</th>\n",
       "      <th>version</th>\n",
       "      <th>received_at</th>\n",
       "      <th>partition_0</th>\n",
       "      <th>partition_1</th>\n",
       "      <th>partition_2</th>\n",
       "    </tr>\n",
       "  </thead>\n",
       "  <tbody>\n",
       "    <tr>\n",
       "      <th>0</th>\n",
       "      <td>page</td>\n",
       "      <td>{title=Kata OJK, 75 Persen Orang Indonesia Pak...</td>\n",
       "      <td>{anonymous_id=null, amp_id=amp-vXPuO6NvZYXNPpZ...</td>\n",
       "      <td>{event_name=PageView, data={title=null, status...</td>\n",
       "      <td>2019-12-16T00:00:00.597000+00:00</td>\n",
       "      <td>NaN</td>\n",
       "      <td>NaN</td>\n",
       "      <td>NaN</td>\n",
       "      <td>2019</td>\n",
       "      <td>12</td>\n",
       "      <td>22</td>\n",
       "    </tr>\n",
       "    <tr>\n",
       "      <th>1</th>\n",
       "      <td>event</td>\n",
       "      <td>{title=Ini Bedanya Orang Kaya Sama Kelas Menen...</td>\n",
       "      <td>{anonymous_id=537d7f22-f169-4606-b6f3-62c8713c...</td>\n",
       "      <td>{event_name=Reading, data={title=Ini Bedanya O...</td>\n",
       "      <td>2019-12-22T00:00:08.913Z</td>\n",
       "      <td>NaN</td>\n",
       "      <td>NaN</td>\n",
       "      <td>NaN</td>\n",
       "      <td>2019</td>\n",
       "      <td>12</td>\n",
       "      <td>22</td>\n",
       "    </tr>\n",
       "    <tr>\n",
       "      <th>2</th>\n",
       "      <td>event</td>\n",
       "      <td>{title=電動機車補助少6千！三招教你 2019 年Gogoro怎麼買最便宜（2019....</td>\n",
       "      <td>{anonymous_id=f5d92ff8-8e01-423b-8523-a3e2695c...</td>\n",
       "      <td>{event_name=Reading, data={title=電動機車補助少6千！三招教...</td>\n",
       "      <td>2019-12-22T00:00:09.244Z</td>\n",
       "      <td>NaN</td>\n",
       "      <td>NaN</td>\n",
       "      <td>NaN</td>\n",
       "      <td>2019</td>\n",
       "      <td>12</td>\n",
       "      <td>22</td>\n",
       "    </tr>\n",
       "    <tr>\n",
       "      <th>3</th>\n",
       "      <td>page</td>\n",
       "      <td>{title=【申請懶人包】中銀香港 直接開大陸戶口 3大細節要留意 （可綁支付寶微信） |...</td>\n",
       "      <td>{anonymous_id=e6861d1a-ded4-4bb7-aa80-a3ac5e4c...</td>\n",
       "      <td>{event_name=PageView, data={title=null, status...</td>\n",
       "      <td>2019-12-22T00:02:21.656Z</td>\n",
       "      <td>NaN</td>\n",
       "      <td>NaN</td>\n",
       "      <td>NaN</td>\n",
       "      <td>2019</td>\n",
       "      <td>12</td>\n",
       "      <td>22</td>\n",
       "    </tr>\n",
       "    <tr>\n",
       "      <th>4</th>\n",
       "      <td>event</td>\n",
       "      <td>{title=Johor Bahru Guide - Where to Go &amp; Cheap...</td>\n",
       "      <td>{anonymous_id=5fc286b1-3374-48e2-b34f-b36a34df...</td>\n",
       "      <td>{event_name=Reading, data={title=Johor Bahru G...</td>\n",
       "      <td>2019-12-22T00:00:10.639Z</td>\n",
       "      <td>NaN</td>\n",
       "      <td>NaN</td>\n",
       "      <td>NaN</td>\n",
       "      <td>2019</td>\n",
       "      <td>12</td>\n",
       "      <td>22</td>\n",
       "    </tr>\n",
       "  </tbody>\n",
       "</table>\n",
       "</div>"
      ],
      "text/plain": [
       "    type                                            context  \\\n",
       "0   page  {title=Kata OJK, 75 Persen Orang Indonesia Pak...   \n",
       "1  event  {title=Ini Bedanya Orang Kaya Sama Kelas Menen...   \n",
       "2  event  {title=電動機車補助少6千！三招教你 2019 年Gogoro怎麼買最便宜（2019....   \n",
       "3   page  {title=【申請懶人包】中銀香港 直接開大陸戶口 3大細節要留意 （可綁支付寶微信） |...   \n",
       "4  event  {title=Johor Bahru Guide - Where to Go & Cheap...   \n",
       "\n",
       "                                                user  \\\n",
       "0  {anonymous_id=null, amp_id=amp-vXPuO6NvZYXNPpZ...   \n",
       "1  {anonymous_id=537d7f22-f169-4606-b6f3-62c8713c...   \n",
       "2  {anonymous_id=f5d92ff8-8e01-423b-8523-a3e2695c...   \n",
       "3  {anonymous_id=e6861d1a-ded4-4bb7-aa80-a3ac5e4c...   \n",
       "4  {anonymous_id=5fc286b1-3374-48e2-b34f-b36a34df...   \n",
       "\n",
       "                                                body  \\\n",
       "0  {event_name=PageView, data={title=null, status...   \n",
       "1  {event_name=Reading, data={title=Ini Bedanya O...   \n",
       "2  {event_name=Reading, data={title=電動機車補助少6千！三招教...   \n",
       "3  {event_name=PageView, data={title=null, status...   \n",
       "4  {event_name=Reading, data={title=Johor Bahru G...   \n",
       "\n",
       "                            sent_at  event_id  version  received_at  \\\n",
       "0  2019-12-16T00:00:00.597000+00:00       NaN      NaN          NaN   \n",
       "1          2019-12-22T00:00:08.913Z       NaN      NaN          NaN   \n",
       "2          2019-12-22T00:00:09.244Z       NaN      NaN          NaN   \n",
       "3          2019-12-22T00:02:21.656Z       NaN      NaN          NaN   \n",
       "4          2019-12-22T00:00:10.639Z       NaN      NaN          NaN   \n",
       "\n",
       "   partition_0  partition_1  partition_2  \n",
       "0         2019           12           22  \n",
       "1         2019           12           22  \n",
       "2         2019           12           22  \n",
       "3         2019           12           22  \n",
       "4         2019           12           22  "
      ]
     },
     "execution_count": 840,
     "metadata": {},
     "output_type": "execute_result"
    }
   ],
   "source": [
    "print(\"Running small test query to check the athena connection\")\n",
    "#pd.read_sql(\"select * from \"+athena_database+\".\"+athena_raw_events_table+\" limit 10\", athena_conn)\n",
    "athena.query(\"select * from \"+athena_database+\".\"+athena_raw_events_table+\" limit 5\")"
   ]
  },
  {
   "cell_type": "code",
   "execution_count": null,
   "metadata": {},
   "outputs": [],
   "source": []
  },
  {
   "cell_type": "code",
   "execution_count": null,
   "metadata": {},
   "outputs": [
    {
     "name": "stdout",
     "output_type": "stream",
     "text": [
      "Starting athena events query at 2020-03-12T06:43:44.281147\n",
      "This might take some time\n",
      "Getting the pageview and read events from 2020-03-02T00:00:00 to 2020-03-12T00:00:00\n",
      "Query : \n",
      "    SELECT\n",
      "    *\n",
      "    , (CASE status\n",
      "        WHEN 'Page Bottom Reached' THEN 100 \n",
      "        WHEN 'Article Reading Completed' THEN 100 WHEN 'Article Body 100' THEN 100 \n",
      "        WHEN 'Article Reading 75%' THEN 75 WHEN 'Article Body 75' THEN 75 \n",
      "        WHEN 'Article Reading 50%' THEN 50 WHEN 'Article Body 50' THEN 50 \n",
      "        WHEN 'Article Reading 25%' THEN 25 WHEN 'Article Body 25' THEN 25\n",
      "        WHEN 'Article Reading Started' THEN 0 WHEN 'Article Loaded' THEN 0 \n",
      "        ELSE 0 END) \"article_read_depth\"\n",
      "\n",
      "    \n",
      "\n",
      "    -- , CAST(((\"context\".\"page_url\" LIKE '%utm_medium%') OR (\"context\".\"page_url\" LIKE '%gclid%')) AS boolean) \"has_marketing_param\"\n",
      "    \n",
      "\n",
      "\n",
      "    \n",
      "    \n",
      "    FROM\n",
      "      (\n",
      "          \n",
      "    \n",
      "    SELECT \n",
      "          CAST(\"from_iso8601_timestamp\"(\"sent_at\") AS timestamp) \"sent_at_timestamp\"\n",
      "    , \"sent_at\"\n",
      "    , substr(sent_at, 1, 10) as date\n",
      "    , \"type\"\n",
      "    , \"body\".\"event_name\"\n",
      "    , \"body\".\"data\".\"status\"\n",
      "    , \"user\".\"anonymous_id\"\n",
      "    , \"user\".\"amp_id\"\n",
      "    , \"context\".\"page_url\"\n",
      "    , \"context\".\"referrer\"\n",
      " \n",
      "    \n",
      "           , CAST(\"strpos\"(\"context\".\"page_url\", '?amp') AS boolean) \"is_amp\"\n",
      "    , CAST(\"strpos\"(\"context\".\"page_url\", '://www-new.') AS boolean) OR CAST(\"strpos\"(\"context\".\"page_url\", '://www3.') AS boolean)  OR CAST(\"strpos\"(\"context\".\"page_url\", '://blog3.') AS boolean) as \"is_test\"\n",
      "    , CAST(\"strpos\"(\"context\".\"page_url\", '://www.') AS boolean) OR CAST(\"strpos\"(\"context\".\"page_url\", '://blog.') AS boolean) \"is_control\"\n",
      "    \n",
      "    \n",
      "    \n",
      "    , regexp_replace(CASE \n",
      "        WHEN context.amp_version is not null THEN regexp_extract(context.canonical_url, '^(([^:/?#]+):)?(//([^/?#]*))?([^?#]*)(\\?([^#]*))?(#(.*))?', 5)\n",
      "        ELSE regexp_extract(context.page_url, '^(([^:/?#]+):)?(//([^/?#]*))?([^?#]*)(\\?([^#]*))?(#(.*))?', 5)\n",
      "        END\n",
      "        , '/$', '') as slug\n",
      "    \n",
      "    \n",
      "    , CASE WHEN \"regexp_extract\"(\"context\".\"page_url\", '^(([^:/?#]+):)?(//([^/?#]*))?([^?#]*)(\\?([^#]*))?(#(.*))?', 4) LIKE '%moneysmart.sg%' THEN 'sg' \n",
      "        WHEN \"regexp_extract\"(\"context\".\"page_url\", '^(([^:/?#]+):)?(//([^/?#]*))?([^?#]*)(\\?([^#]*))?(#(.*))?', 4) LIKE '%moneysmart.hk%' THEN 'hk' \n",
      "        WHEN \"regexp_extract\"(\"context\".\"page_url\", '^(([^:/?#]+):)?(//([^/?#]*))?([^?#]*)(\\?([^#]*))?(#(.*))?', 4) LIKE '%moneysmart.id%' THEN 'id' \n",
      "        WHEN \"regexp_extract\"(\"context\".\"page_url\", '^(([^:/?#]+):)?(//([^/?#]*))?([^?#]*)(\\?([^#]*))?(#(.*))?', 4) LIKE '%moneysmart.ph%' THEN 'ph'\n",
      "        WHEN \"regexp_extract\"(\"context\".\"page_url\", '^(([^:/?#]+):)?(//([^/?#]*))?([^?#]*)(\\?([^#]*))?(#(.*))?', 4) LIKE '%moneysmart.tw%' THEN 'tw' \n",
      "        ELSE null END as country_code\n",
      "    \n",
      "    \n",
      "    \n",
      "    , \"regexp_extract\"(\"context\".\"page_url\", '^(([^:/?#]+):)?(//([^/?#]*))?([^?#]*)(\\?([^#]*))?(#(.*))?', 4) LIKE '%blog%' as is_blog\n",
      "    , \"regexp_extract\"(\"context\".\"page_url\", '^(([^:/?#]+):)?(//([^/?#]*))?([^?#]*)(\\?([^#]*))?(#(.*))?', 4) LIKE '%get%' as is_unbounce\n",
      "    , \"regexp_extract\"(\"context\".\"page_url\", '^(([^:/?#]+):)?(//([^/?#]*))?([^?#]*)(\\?([^#]*))?(#(.*))?', 5) like '/embed/%' as is_embed\n",
      "    \n",
      "        \n",
      "        \n",
      "        , context.user_agent as user_agent\n",
      "        \n",
      "        , context.device.type as device_type\n",
      "        , context.browser.name as browser_name\n",
      "        , context.browser.major as browser_major_version\n",
      "        , context.browser.version as browser_version\n",
      "        , context.operating_system.name as operating_system_name\n",
      "        , context.operating_system.version as operating_system_version\n",
      "       \n",
      "        \n",
      "    \n",
      "    FROM\n",
      "      ms_data_lake_production.ms_data_stream_production_processed\n",
      "    \n",
      "    \n",
      "    WHERE true -- makes query composition easier\n",
      "    \n",
      " AND body.event_name in ('PageView', 'Reading')\n",
      " AND \n",
      "  (\n",
      " partition_0 >= '2020'\n",
      " AND partition_1 >= '03'\n",
      " AND partition_2 >= '02'\n",
      " OR (\n",
      " partition_0 >= '2020'\n",
      " AND partition_1 > '03'\n",
      " ) \n",
      " OR (\n",
      " partition_0 > '2020'\n",
      " ) \n",
      ")\n",
      " AND ((partition_0 <= '2020'\n",
      "\t AND partition_1 <= '03'\n",
      "\t AND partition_2 <= '12'\n",
      ") \n",
      " OR (\n",
      "\t partition_0 <= '2020'\n",
      "\t AND partition_1 < '03'\n",
      ") \n",
      " OR (\n",
      "\t partition_0 < '2020'\n",
      ") \n",
      ")\n",
      " AND CAST(from_iso8601_timestamp(sent_at) AS timestamp)  between CAST(from_iso8601_timestamp('2020-03-02T00:00:00') AS timestamp) AND CAST(from_iso8601_timestamp('2020-03-12T00:00:00') AS timestamp)\n",
      "      )\n",
      "    WHERE \n",
      "        is_blog \n",
      "        \n",
      "        \n",
      "\n",
      " AND country_code in ('hk', 'sg')\n"
     ]
    },
    {
     "name": "stderr",
     "output_type": "stream",
     "text": [
      "DtypeWarning: Columns (7) have mixed types. Specify dtype option on import or set low_memory=False.\n"
     ]
    },
    {
     "name": "stdout",
     "output_type": "stream",
     "text": [
      "Ended query at 2020-03-12T06:44:52.813184\n",
      "\n",
      "Setting data types\n",
      "Ended query at 2020-03-12T06:44:55.946039\n",
      "Taking 3 seconds\n",
      "In total it took 71 seconds\n"
     ]
    }
   ],
   "source": [
    "events = get_blog_events(country_codes_to_analyse, analysis_start_time, analysis_end_time, athena, limit =None)\n"
   ]
  },
  {
   "cell_type": "code",
   "execution_count": null,
   "metadata": {},
   "outputs": [
    {
     "name": "stdout",
     "output_type": "stream",
     "text": [
      "Got 2479942 events\n"
     ]
    },
    {
     "data": {
      "text/html": [
       "<div>\n",
       "<style scoped>\n",
       "    .dataframe tbody tr th:only-of-type {\n",
       "        vertical-align: middle;\n",
       "    }\n",
       "\n",
       "    .dataframe tbody tr th {\n",
       "        vertical-align: top;\n",
       "    }\n",
       "\n",
       "    .dataframe thead th {\n",
       "        text-align: right;\n",
       "    }\n",
       "</style>\n",
       "<table border=\"1\" class=\"dataframe\">\n",
       "  <thead>\n",
       "    <tr style=\"text-align: right;\">\n",
       "      <th></th>\n",
       "      <th>sent_at_timestamp</th>\n",
       "      <th>sent_at</th>\n",
       "      <th>date</th>\n",
       "      <th>type</th>\n",
       "      <th>event_name</th>\n",
       "      <th>status</th>\n",
       "      <th>anonymous_id</th>\n",
       "      <th>amp_id</th>\n",
       "      <th>page_url</th>\n",
       "      <th>referrer</th>\n",
       "      <th>...</th>\n",
       "      <th>is_unbounce</th>\n",
       "      <th>is_embed</th>\n",
       "      <th>user_agent</th>\n",
       "      <th>device_type</th>\n",
       "      <th>browser_name</th>\n",
       "      <th>browser_major_version</th>\n",
       "      <th>browser_version</th>\n",
       "      <th>operating_system_name</th>\n",
       "      <th>operating_system_version</th>\n",
       "      <th>article_read_depth</th>\n",
       "    </tr>\n",
       "  </thead>\n",
       "  <tbody>\n",
       "    <tr>\n",
       "      <th>0</th>\n",
       "      <td>2020-03-10 00:52:03.904</td>\n",
       "      <td>2020-03-10T00:52:03.904Z</td>\n",
       "      <td>2020-03-10</td>\n",
       "      <td>page</td>\n",
       "      <td>PageView</td>\n",
       "      <td>NaN</td>\n",
       "      <td>935bb95e-1767-4364-a4cc-4fd665b1e03c</td>\n",
       "      <td>NaN</td>\n",
       "      <td>https://blog.moneysmart.sg/invest/investing-sh...</td>\n",
       "      <td>https://blog.moneysmart.sg/invest/investment-b...</td>\n",
       "      <td>...</td>\n",
       "      <td>False</td>\n",
       "      <td>False</td>\n",
       "      <td>Mozilla/5.0 (iPhone; CPU iPhone OS 13_3_1 like...</td>\n",
       "      <td>mobile</td>\n",
       "      <td>Mobile Safari</td>\n",
       "      <td>13.0</td>\n",
       "      <td>13.0.5</td>\n",
       "      <td>iOS</td>\n",
       "      <td>13.3.1</td>\n",
       "      <td>0</td>\n",
       "    </tr>\n",
       "    <tr>\n",
       "      <th>1</th>\n",
       "      <td>2020-03-10 00:51:59.366</td>\n",
       "      <td>2020-03-10T00:51:59.366Z</td>\n",
       "      <td>2020-03-10</td>\n",
       "      <td>page</td>\n",
       "      <td>PageView</td>\n",
       "      <td>NaN</td>\n",
       "      <td>e3664bd5-8211-4719-9654-9248b0e1d63d</td>\n",
       "      <td>NaN</td>\n",
       "      <td>https://blog.moneysmart.sg/career/national-ser...</td>\n",
       "      <td>https://www.google.com/</td>\n",
       "      <td>...</td>\n",
       "      <td>False</td>\n",
       "      <td>False</td>\n",
       "      <td>Mozilla/5.0 (Linux; Android 9; SM-G955F) Apple...</td>\n",
       "      <td>mobile</td>\n",
       "      <td>Chrome</td>\n",
       "      <td>80.0</td>\n",
       "      <td>80.0.3987.132</td>\n",
       "      <td>Android</td>\n",
       "      <td>9</td>\n",
       "      <td>0</td>\n",
       "    </tr>\n",
       "  </tbody>\n",
       "</table>\n",
       "<p>2 rows × 26 columns</p>\n",
       "</div>"
      ],
      "text/plain": [
       "         sent_at_timestamp                   sent_at        date  type  \\\n",
       "0  2020-03-10 00:52:03.904  2020-03-10T00:52:03.904Z  2020-03-10  page   \n",
       "1  2020-03-10 00:51:59.366  2020-03-10T00:51:59.366Z  2020-03-10  page   \n",
       "\n",
       "  event_name status                          anonymous_id amp_id  \\\n",
       "0   PageView    NaN  935bb95e-1767-4364-a4cc-4fd665b1e03c    NaN   \n",
       "1   PageView    NaN  e3664bd5-8211-4719-9654-9248b0e1d63d    NaN   \n",
       "\n",
       "                                            page_url  \\\n",
       "0  https://blog.moneysmart.sg/invest/investing-sh...   \n",
       "1  https://blog.moneysmart.sg/career/national-ser...   \n",
       "\n",
       "                                            referrer  ...  is_unbounce  \\\n",
       "0  https://blog.moneysmart.sg/invest/investment-b...  ...        False   \n",
       "1                            https://www.google.com/  ...        False   \n",
       "\n",
       "   is_embed                                         user_agent device_type  \\\n",
       "0     False  Mozilla/5.0 (iPhone; CPU iPhone OS 13_3_1 like...      mobile   \n",
       "1     False  Mozilla/5.0 (Linux; Android 9; SM-G955F) Apple...      mobile   \n",
       "\n",
       "    browser_name  browser_major_version  browser_version  \\\n",
       "0  Mobile Safari                   13.0           13.0.5   \n",
       "1         Chrome                   80.0    80.0.3987.132   \n",
       "\n",
       "   operating_system_name operating_system_version article_read_depth  \n",
       "0                    iOS                   13.3.1                  0  \n",
       "1                Android                        9                  0  \n",
       "\n",
       "[2 rows x 26 columns]"
      ]
     },
     "execution_count": 842,
     "metadata": {},
     "output_type": "execute_result"
    }
   ],
   "source": [
    "print(\"Got %i events\"%len(events))\n",
    "events.head(2)"
   ]
  },
  {
   "cell_type": "code",
   "execution_count": null,
   "metadata": {},
   "outputs": [
    {
     "data": {
      "text/html": [
       "<div>\n",
       "<style scoped>\n",
       "    .dataframe tbody tr th:only-of-type {\n",
       "        vertical-align: middle;\n",
       "    }\n",
       "\n",
       "    .dataframe tbody tr th {\n",
       "        vertical-align: top;\n",
       "    }\n",
       "\n",
       "    .dataframe thead th {\n",
       "        text-align: right;\n",
       "    }\n",
       "</style>\n",
       "<table border=\"1\" class=\"dataframe\">\n",
       "  <thead>\n",
       "    <tr style=\"text-align: right;\">\n",
       "      <th></th>\n",
       "      <th>slug</th>\n",
       "      <th>page_url</th>\n",
       "    </tr>\n",
       "  </thead>\n",
       "  <tbody>\n",
       "    <tr>\n",
       "      <th>99</th>\n",
       "      <td>/zh-hk/dining/%E9%8A%85%E9%91%BC%E7%81%A3-%E9%...</td>\n",
       "      <td>https://blog.moneysmart.hk/zh-hk/dining/%E9%8A...</td>\n",
       "    </tr>\n",
       "    <tr>\n",
       "      <th>100</th>\n",
       "      <td>/zh-hk/dining/%E9%8A%85%E9%91%BC%E7%81%A3-%E9%...</td>\n",
       "      <td>https://blog.moneysmart.hk/zh-hk/dining/%E9%8A...</td>\n",
       "    </tr>\n",
       "    <tr>\n",
       "      <th>107</th>\n",
       "      <td>/zh-hk/budgeting/%E9%9C%B2%E7%87%9F-%E6%96%B0%...</td>\n",
       "      <td>https://blog.moneysmart.hk/zh-hk/budgeting/%E9...</td>\n",
       "    </tr>\n",
       "    <tr>\n",
       "      <th>108</th>\n",
       "      <td>/zh-hk/budgeting/%E5%BD%B1%E7%89%87%E4%B8%B2%E...</td>\n",
       "      <td>https://blog.moneysmart.hk/zh-hk/budgeting/%E5...</td>\n",
       "    </tr>\n",
       "    <tr>\n",
       "      <th>129</th>\n",
       "      <td>/zh-hk/investment/%E9%9B%A2%E5%B2%B8%E6%88%B6%...</td>\n",
       "      <td>https://blog.moneysmart.hk/zh-hk/investment/%E...</td>\n",
       "    </tr>\n",
       "    <tr>\n",
       "      <th>131</th>\n",
       "      <td>/zh-hk/investment/%E8%82%A1%E6%81%AF-%E8%A8%88...</td>\n",
       "      <td>https://blog.moneysmart.hk/zh-hk/investment/%E...</td>\n",
       "    </tr>\n",
       "    <tr>\n",
       "      <th>132</th>\n",
       "      <td>/zh-hk/family/%E6%A8%93%E4%B8%8A%E6%BB%B4%E6%B...</td>\n",
       "      <td>https://blog.moneysmart.hk/zh-hk/family/%E6%A8...</td>\n",
       "    </tr>\n",
       "    <tr>\n",
       "      <th>144</th>\n",
       "      <td>/zh-hk/investment/%E4%B8%AD%E5%9C%8B%E5%BB%BA%...</td>\n",
       "      <td>https://blog.moneysmart.hk/zh-hk/investment/%E...</td>\n",
       "    </tr>\n",
       "    <tr>\n",
       "      <th>168</th>\n",
       "      <td>/zh-hk/budgeting/%E4%B8%AD%E9%8A%80-%E9%A6%99%...</td>\n",
       "      <td>https://blog.moneysmart.hk/zh-hk/budgeting/%E4...</td>\n",
       "    </tr>\n",
       "    <tr>\n",
       "      <th>179</th>\n",
       "      <td>/zh-hk/loans/%E5%82%B5%E5%8B%99%E9%87%8D%E7%B5...</td>\n",
       "      <td>https://blog.moneysmart.hk/zh-hk/loans/%E5%82%...</td>\n",
       "    </tr>\n",
       "    <tr>\n",
       "      <th>185</th>\n",
       "      <td>/zh-hk/loans/%E5%B0%8F%E9%A1%8D%E5%80%9F%E8%B2...</td>\n",
       "      <td>https://blog.moneysmart.hk/zh-hk/loans/%E5%B0%...</td>\n",
       "    </tr>\n",
       "    <tr>\n",
       "      <th>198</th>\n",
       "      <td>/zh-hk/mortgage/%E6%8C%89%E6%8F%AD-h%E6%8C%89-...</td>\n",
       "      <td>https://blog.moneysmart.hk/zh-hk/mortgage/%E6%...</td>\n",
       "    </tr>\n",
       "    <tr>\n",
       "      <th>226</th>\n",
       "      <td>/zh-hk/budgeting/iphone-11-%E4%BF%A1%E7%94%A8%...</td>\n",
       "      <td>https://blog.moneysmart.hk/zh-hk/budgeting/iph...</td>\n",
       "    </tr>\n",
       "    <tr>\n",
       "      <th>229</th>\n",
       "      <td>/zh-hk/credit-cards/black-friday-%E9%BB%91%E8%...</td>\n",
       "      <td>https://blog3.moneysmart.hk/zh-hk/credit-cards...</td>\n",
       "    </tr>\n",
       "    <tr>\n",
       "      <th>239</th>\n",
       "      <td>/zh-hk/credit-cards/%E9%8A%80%E8%A1%8C%E7%86%B...</td>\n",
       "      <td>https://blog.moneysmart.hk/zh-hk/credit-cards/...</td>\n",
       "    </tr>\n",
       "    <tr>\n",
       "      <th>241</th>\n",
       "      <td>/zh-hk/mortgage/%E5%B1%85%E5%B1%8B-2019-%E7%99...</td>\n",
       "      <td>https://blog.moneysmart.hk/zh-hk/mortgage/%E5%...</td>\n",
       "    </tr>\n",
       "    <tr>\n",
       "      <th>247</th>\n",
       "      <td>/zh-hk/budgeting/%E7%89%9B%E8%82%89%E4%B9%BE-%...</td>\n",
       "      <td>https://blog3.moneysmart.hk/zh-hk/budgeting/%E...</td>\n",
       "    </tr>\n",
       "    <tr>\n",
       "      <th>258</th>\n",
       "      <td>/zh-hk/family/%E8%AB%8B%E5%A7%90%E5%A7%90-%E8%...</td>\n",
       "      <td>https://blog.moneysmart.hk/zh-hk/family/%E8%AB...</td>\n",
       "    </tr>\n",
       "    <tr>\n",
       "      <th>306</th>\n",
       "      <td>/zh-hk/family/%E6%A8%93%E4%B8%8A%E6%BB%B4%E6%B...</td>\n",
       "      <td>https://blog3.moneysmart.hk/zh-hk/family/%E6%A...</td>\n",
       "    </tr>\n",
       "    <tr>\n",
       "      <th>328</th>\n",
       "      <td>/zh-hk/budgeting/%E5%BD%B1%E7%89%87%E4%B8%B2%E...</td>\n",
       "      <td>https://blog.moneysmart.hk/zh-hk/budgeting/%E5...</td>\n",
       "    </tr>\n",
       "  </tbody>\n",
       "</table>\n",
       "</div>"
      ],
      "text/plain": [
       "                                                  slug  \\\n",
       "99   /zh-hk/dining/%E9%8A%85%E9%91%BC%E7%81%A3-%E9%...   \n",
       "100  /zh-hk/dining/%E9%8A%85%E9%91%BC%E7%81%A3-%E9%...   \n",
       "107  /zh-hk/budgeting/%E9%9C%B2%E7%87%9F-%E6%96%B0%...   \n",
       "108  /zh-hk/budgeting/%E5%BD%B1%E7%89%87%E4%B8%B2%E...   \n",
       "129  /zh-hk/investment/%E9%9B%A2%E5%B2%B8%E6%88%B6%...   \n",
       "131  /zh-hk/investment/%E8%82%A1%E6%81%AF-%E8%A8%88...   \n",
       "132  /zh-hk/family/%E6%A8%93%E4%B8%8A%E6%BB%B4%E6%B...   \n",
       "144  /zh-hk/investment/%E4%B8%AD%E5%9C%8B%E5%BB%BA%...   \n",
       "168  /zh-hk/budgeting/%E4%B8%AD%E9%8A%80-%E9%A6%99%...   \n",
       "179  /zh-hk/loans/%E5%82%B5%E5%8B%99%E9%87%8D%E7%B5...   \n",
       "185  /zh-hk/loans/%E5%B0%8F%E9%A1%8D%E5%80%9F%E8%B2...   \n",
       "198  /zh-hk/mortgage/%E6%8C%89%E6%8F%AD-h%E6%8C%89-...   \n",
       "226  /zh-hk/budgeting/iphone-11-%E4%BF%A1%E7%94%A8%...   \n",
       "229  /zh-hk/credit-cards/black-friday-%E9%BB%91%E8%...   \n",
       "239  /zh-hk/credit-cards/%E9%8A%80%E8%A1%8C%E7%86%B...   \n",
       "241  /zh-hk/mortgage/%E5%B1%85%E5%B1%8B-2019-%E7%99...   \n",
       "247  /zh-hk/budgeting/%E7%89%9B%E8%82%89%E4%B9%BE-%...   \n",
       "258  /zh-hk/family/%E8%AB%8B%E5%A7%90%E5%A7%90-%E8%...   \n",
       "306  /zh-hk/family/%E6%A8%93%E4%B8%8A%E6%BB%B4%E6%B...   \n",
       "328  /zh-hk/budgeting/%E5%BD%B1%E7%89%87%E4%B8%B2%E...   \n",
       "\n",
       "                                              page_url  \n",
       "99   https://blog.moneysmart.hk/zh-hk/dining/%E9%8A...  \n",
       "100  https://blog.moneysmart.hk/zh-hk/dining/%E9%8A...  \n",
       "107  https://blog.moneysmart.hk/zh-hk/budgeting/%E9...  \n",
       "108  https://blog.moneysmart.hk/zh-hk/budgeting/%E5...  \n",
       "129  https://blog.moneysmart.hk/zh-hk/investment/%E...  \n",
       "131  https://blog.moneysmart.hk/zh-hk/investment/%E...  \n",
       "132  https://blog.moneysmart.hk/zh-hk/family/%E6%A8...  \n",
       "144  https://blog.moneysmart.hk/zh-hk/investment/%E...  \n",
       "168  https://blog.moneysmart.hk/zh-hk/budgeting/%E4...  \n",
       "179  https://blog.moneysmart.hk/zh-hk/loans/%E5%82%...  \n",
       "185  https://blog.moneysmart.hk/zh-hk/loans/%E5%B0%...  \n",
       "198  https://blog.moneysmart.hk/zh-hk/mortgage/%E6%...  \n",
       "226  https://blog.moneysmart.hk/zh-hk/budgeting/iph...  \n",
       "229  https://blog3.moneysmart.hk/zh-hk/credit-cards...  \n",
       "239  https://blog.moneysmart.hk/zh-hk/credit-cards/...  \n",
       "241  https://blog.moneysmart.hk/zh-hk/mortgage/%E5%...  \n",
       "247  https://blog3.moneysmart.hk/zh-hk/budgeting/%E...  \n",
       "258  https://blog.moneysmart.hk/zh-hk/family/%E8%AB...  \n",
       "306  https://blog3.moneysmart.hk/zh-hk/family/%E6%A...  \n",
       "328  https://blog.moneysmart.hk/zh-hk/budgeting/%E5...  "
      ]
     },
     "execution_count": 843,
     "metadata": {},
     "output_type": "execute_result"
    }
   ],
   "source": [
    "events[events.country_code==\"hk\"][:20][[\"slug\", \"page_url\"]]"
   ]
  },
  {
   "cell_type": "code",
   "execution_count": null,
   "metadata": {},
   "outputs": [],
   "source": []
  },
  {
   "cell_type": "code",
   "execution_count": null,
   "metadata": {},
   "outputs": [
    {
     "name": "stdout",
     "output_type": "stream",
     "text": [
      "Converting timestamp column into a datetime\n"
     ]
    }
   ],
   "source": [
    "# really this should be done in the common function, but doing here for now\n",
    "# It's needed for calculating things like time between events for a given user\n",
    "# It should be fairly safe as the conversion should be happening in SQL to make consistent.\n",
    "if str(events.dtypes[\"sent_at_timestamp\"])==\"object\": \n",
    "    print(\"Converting timestamp column into a datetime\")\n",
    "    events[\"sent_at_timestamp\"] = pd.to_datetime(events[\"sent_at_timestamp\"])\n",
    "    events.dtypes"
   ]
  },
  {
   "cell_type": "code",
   "execution_count": null,
   "metadata": {},
   "outputs": [],
   "source": []
  },
  {
   "cell_type": "code",
   "execution_count": null,
   "metadata": {},
   "outputs": [
    {
     "data": {
      "text/plain": [
       "sent_at_timestamp           datetime64[ns]\n",
       "sent_at                             object\n",
       "date                              category\n",
       "type                              category\n",
       "event_name                        category\n",
       "status                            category\n",
       "anonymous_id                        object\n",
       "amp_id                              object\n",
       "page_url                            object\n",
       "referrer                          category\n",
       "is_amp                                bool\n",
       "is_test                               bool\n",
       "is_control                            bool\n",
       "slug                              category\n",
       "country_code                      category\n",
       "is_blog                               bool\n",
       "is_unbounce                           bool\n",
       "is_embed                              bool\n",
       "user_agent                        category\n",
       "device_type                       category\n",
       "browser_name                      category\n",
       "browser_major_version             category\n",
       "browser_version                   category\n",
       "operating_system_name             category\n",
       "operating_system_version          category\n",
       "article_read_depth                   int16\n",
       "dtype: object"
      ]
     },
     "execution_count": 845,
     "metadata": {},
     "output_type": "execute_result"
    }
   ],
   "source": [
    "# Check it's using half efficient data types (more category / bool, less object)\n",
    "events.dtypes"
   ]
  },
  {
   "cell_type": "markdown",
   "metadata": {},
   "source": [
    "## Filtering out SEO Test Urls\n",
    "\n",
    "This optionally removes the urls that are set to 100% v2, but with url as per v1, so they will go into the wrong category (and generally will distort as performance depends on page)"
   ]
  },
  {
   "cell_type": "code",
   "execution_count": null,
   "metadata": {},
   "outputs": [],
   "source": [
    "def load_seo_test_urls(filepath):\n",
    "    urls = []\n",
    "    with open(filepath) as f:\n",
    "        csv_reader = csv.reader(f, delimiter=',')\n",
    "        for i, row in enumerate(csv_reader):\n",
    "            if i==0:\n",
    "                print(\"Skipping first line of url file: %s\"%row)\n",
    "                continue\n",
    "            urls.append(row[0].strip())\n",
    "\n",
    "    return urls\n",
    "\n"
   ]
  },
  {
   "cell_type": "code",
   "execution_count": null,
   "metadata": {},
   "outputs": [
    {
     "name": "stdout",
     "output_type": "stream",
     "text": [
      "Skipping first line of url file: ['url']\n",
      "Loaded 50 SEO test urls for hk\n",
      "Skipping first line of url file: ['url']\n",
      "Loaded 50 SEO test urls for sg\n"
     ]
    }
   ],
   "source": [
    "if exclude_seo_test_urls or only_seo_test_urls:\n",
    "    seo_test_urls = {}\n",
    "    for country_code in country_codes_to_analyse:\n",
    "        seo_test_urls[country_code] = load_seo_test_urls(test_urls_csv_filepath[country_code])\n",
    "        num_urls = len(seo_test_urls[country_code])\n",
    "        print(\"Loaded %i SEO test urls for %s\"%(num_urls,  country_code))"
   ]
  },
  {
   "cell_type": "code",
   "execution_count": null,
   "metadata": {},
   "outputs": [],
   "source": [
    "if exclude_seo_test_urls or only_seo_test_urls:\n",
    "    all_events = events # This will bloat memory, but it allows you to go back without reloading the source data."
   ]
  },
  {
   "cell_type": "code",
   "execution_count": null,
   "metadata": {},
   "outputs": [],
   "source": [
    "import re"
   ]
  },
  {
   "cell_type": "code",
   "execution_count": null,
   "metadata": {},
   "outputs": [],
   "source": []
  },
  {
   "cell_type": "code",
   "execution_count": null,
   "metadata": {},
   "outputs": [
    {
     "name": "stdout",
     "output_type": "stream",
     "text": [
      "Possibly filtering out some urls\n",
      "Before 2479942 events\n",
      "Excluding SEO test urls\n",
      "After 2309683 events (0.931)\n"
     ]
    }
   ],
   "source": [
    "print(\"Possibly filtering out some urls\")\n",
    "num_events_before = len(events)\n",
    "print(\"Before %i events\"% num_events_before)\n",
    "\n",
    "if exclude_seo_test_urls or only_seo_test_urls:\n",
    "    \n",
    "    seo_test_url_filter = \"|\".join([\"|\".join([re.escape(y) for y in z]) for z in list(seo_test_urls.values())[1:]])\n",
    "\n",
    "if exclude_seo_test_urls:\n",
    "    print(\"Excluding SEO test urls\")\n",
    "    events = all_events[~all_events.page_url.str.contains(seo_test_url_filter)]\n",
    "    \n",
    "    \n",
    "elif only_seo_test_urls:\n",
    "    print(\"Setting to only SEO test urls\")\n",
    "    events = all_events[all_events.page_url.str.contains(seo_test_url_filter)]\n",
    "    \n",
    "num_events_after = len(events)\n",
    "print(\"After %i events (%.3f)\"% (num_events_after, num_events_after / num_events_before))"
   ]
  },
  {
   "cell_type": "code",
   "execution_count": null,
   "metadata": {},
   "outputs": [],
   "source": [
    "#all_events.groupby(\"page_url\").size()"
   ]
  },
  {
   "cell_type": "code",
   "execution_count": null,
   "metadata": {},
   "outputs": [],
   "source": [
    "#events.groupby(\"page_url\").size()"
   ]
  },
  {
   "cell_type": "code",
   "execution_count": null,
   "metadata": {},
   "outputs": [],
   "source": [
    "#seo_test_url_filter"
   ]
  },
  {
   "cell_type": "markdown",
   "metadata": {},
   "source": [
    "# Summary of Events by Day"
   ]
  },
  {
   "cell_type": "code",
   "execution_count": null,
   "metadata": {},
   "outputs": [
    {
     "data": {
      "text/html": [
       "<div>\n",
       "<style scoped>\n",
       "    .dataframe tbody tr th:only-of-type {\n",
       "        vertical-align: middle;\n",
       "    }\n",
       "\n",
       "    .dataframe tbody tr th {\n",
       "        vertical-align: top;\n",
       "    }\n",
       "\n",
       "    .dataframe thead th {\n",
       "        text-align: right;\n",
       "    }\n",
       "</style>\n",
       "<table border=\"1\" class=\"dataframe\">\n",
       "  <thead>\n",
       "    <tr style=\"text-align: right;\">\n",
       "      <th></th>\n",
       "      <th>country_code</th>\n",
       "      <th>date</th>\n",
       "      <th>is_blog</th>\n",
       "      <th>event_name</th>\n",
       "      <th>count</th>\n",
       "    </tr>\n",
       "  </thead>\n",
       "  <tbody>\n",
       "    <tr>\n",
       "      <th>0</th>\n",
       "      <td>hk</td>\n",
       "      <td>2020-03-02</td>\n",
       "      <td>True</td>\n",
       "      <td>PageView</td>\n",
       "      <td>14051</td>\n",
       "    </tr>\n",
       "    <tr>\n",
       "      <th>1</th>\n",
       "      <td>hk</td>\n",
       "      <td>2020-03-02</td>\n",
       "      <td>True</td>\n",
       "      <td>Reading</td>\n",
       "      <td>26277</td>\n",
       "    </tr>\n",
       "    <tr>\n",
       "      <th>2</th>\n",
       "      <td>hk</td>\n",
       "      <td>2020-03-03</td>\n",
       "      <td>True</td>\n",
       "      <td>PageView</td>\n",
       "      <td>14041</td>\n",
       "    </tr>\n",
       "    <tr>\n",
       "      <th>3</th>\n",
       "      <td>hk</td>\n",
       "      <td>2020-03-03</td>\n",
       "      <td>True</td>\n",
       "      <td>Reading</td>\n",
       "      <td>25339</td>\n",
       "    </tr>\n",
       "    <tr>\n",
       "      <th>4</th>\n",
       "      <td>hk</td>\n",
       "      <td>2020-03-04</td>\n",
       "      <td>True</td>\n",
       "      <td>PageView</td>\n",
       "      <td>14014</td>\n",
       "    </tr>\n",
       "    <tr>\n",
       "      <th>5</th>\n",
       "      <td>hk</td>\n",
       "      <td>2020-03-04</td>\n",
       "      <td>True</td>\n",
       "      <td>Reading</td>\n",
       "      <td>24891</td>\n",
       "    </tr>\n",
       "    <tr>\n",
       "      <th>6</th>\n",
       "      <td>hk</td>\n",
       "      <td>2020-03-05</td>\n",
       "      <td>True</td>\n",
       "      <td>PageView</td>\n",
       "      <td>13190</td>\n",
       "    </tr>\n",
       "    <tr>\n",
       "      <th>7</th>\n",
       "      <td>hk</td>\n",
       "      <td>2020-03-05</td>\n",
       "      <td>True</td>\n",
       "      <td>Reading</td>\n",
       "      <td>23778</td>\n",
       "    </tr>\n",
       "    <tr>\n",
       "      <th>8</th>\n",
       "      <td>hk</td>\n",
       "      <td>2020-03-06</td>\n",
       "      <td>True</td>\n",
       "      <td>PageView</td>\n",
       "      <td>12948</td>\n",
       "    </tr>\n",
       "    <tr>\n",
       "      <th>9</th>\n",
       "      <td>hk</td>\n",
       "      <td>2020-03-06</td>\n",
       "      <td>True</td>\n",
       "      <td>Reading</td>\n",
       "      <td>22936</td>\n",
       "    </tr>\n",
       "    <tr>\n",
       "      <th>10</th>\n",
       "      <td>hk</td>\n",
       "      <td>2020-03-07</td>\n",
       "      <td>True</td>\n",
       "      <td>PageView</td>\n",
       "      <td>13096</td>\n",
       "    </tr>\n",
       "    <tr>\n",
       "      <th>11</th>\n",
       "      <td>hk</td>\n",
       "      <td>2020-03-07</td>\n",
       "      <td>True</td>\n",
       "      <td>Reading</td>\n",
       "      <td>24354</td>\n",
       "    </tr>\n",
       "    <tr>\n",
       "      <th>12</th>\n",
       "      <td>hk</td>\n",
       "      <td>2020-03-08</td>\n",
       "      <td>True</td>\n",
       "      <td>PageView</td>\n",
       "      <td>13347</td>\n",
       "    </tr>\n",
       "    <tr>\n",
       "      <th>13</th>\n",
       "      <td>hk</td>\n",
       "      <td>2020-03-08</td>\n",
       "      <td>True</td>\n",
       "      <td>Reading</td>\n",
       "      <td>25319</td>\n",
       "    </tr>\n",
       "    <tr>\n",
       "      <th>14</th>\n",
       "      <td>hk</td>\n",
       "      <td>2020-03-09</td>\n",
       "      <td>True</td>\n",
       "      <td>PageView</td>\n",
       "      <td>14038</td>\n",
       "    </tr>\n",
       "    <tr>\n",
       "      <th>15</th>\n",
       "      <td>hk</td>\n",
       "      <td>2020-03-09</td>\n",
       "      <td>True</td>\n",
       "      <td>Reading</td>\n",
       "      <td>25356</td>\n",
       "    </tr>\n",
       "    <tr>\n",
       "      <th>16</th>\n",
       "      <td>hk</td>\n",
       "      <td>2020-03-10</td>\n",
       "      <td>True</td>\n",
       "      <td>PageView</td>\n",
       "      <td>12932</td>\n",
       "    </tr>\n",
       "    <tr>\n",
       "      <th>17</th>\n",
       "      <td>hk</td>\n",
       "      <td>2020-03-10</td>\n",
       "      <td>True</td>\n",
       "      <td>Reading</td>\n",
       "      <td>23477</td>\n",
       "    </tr>\n",
       "    <tr>\n",
       "      <th>18</th>\n",
       "      <td>hk</td>\n",
       "      <td>2020-03-11</td>\n",
       "      <td>True</td>\n",
       "      <td>PageView</td>\n",
       "      <td>10647</td>\n",
       "    </tr>\n",
       "    <tr>\n",
       "      <th>19</th>\n",
       "      <td>hk</td>\n",
       "      <td>2020-03-11</td>\n",
       "      <td>True</td>\n",
       "      <td>Reading</td>\n",
       "      <td>19031</td>\n",
       "    </tr>\n",
       "    <tr>\n",
       "      <th>20</th>\n",
       "      <td>sg</td>\n",
       "      <td>2020-03-02</td>\n",
       "      <td>True</td>\n",
       "      <td>PageView</td>\n",
       "      <td>77082</td>\n",
       "    </tr>\n",
       "    <tr>\n",
       "      <th>21</th>\n",
       "      <td>sg</td>\n",
       "      <td>2020-03-02</td>\n",
       "      <td>True</td>\n",
       "      <td>Reading</td>\n",
       "      <td>126061</td>\n",
       "    </tr>\n",
       "    <tr>\n",
       "      <th>22</th>\n",
       "      <td>sg</td>\n",
       "      <td>2020-03-03</td>\n",
       "      <td>True</td>\n",
       "      <td>PageView</td>\n",
       "      <td>75988</td>\n",
       "    </tr>\n",
       "    <tr>\n",
       "      <th>23</th>\n",
       "      <td>sg</td>\n",
       "      <td>2020-03-03</td>\n",
       "      <td>True</td>\n",
       "      <td>Reading</td>\n",
       "      <td>122397</td>\n",
       "    </tr>\n",
       "    <tr>\n",
       "      <th>24</th>\n",
       "      <td>sg</td>\n",
       "      <td>2020-03-04</td>\n",
       "      <td>True</td>\n",
       "      <td>PageView</td>\n",
       "      <td>74919</td>\n",
       "    </tr>\n",
       "    <tr>\n",
       "      <th>25</th>\n",
       "      <td>sg</td>\n",
       "      <td>2020-03-04</td>\n",
       "      <td>True</td>\n",
       "      <td>Reading</td>\n",
       "      <td>121108</td>\n",
       "    </tr>\n",
       "    <tr>\n",
       "      <th>26</th>\n",
       "      <td>sg</td>\n",
       "      <td>2020-03-05</td>\n",
       "      <td>True</td>\n",
       "      <td>PageView</td>\n",
       "      <td>73310</td>\n",
       "    </tr>\n",
       "    <tr>\n",
       "      <th>27</th>\n",
       "      <td>sg</td>\n",
       "      <td>2020-03-05</td>\n",
       "      <td>True</td>\n",
       "      <td>Reading</td>\n",
       "      <td>118663</td>\n",
       "    </tr>\n",
       "    <tr>\n",
       "      <th>28</th>\n",
       "      <td>sg</td>\n",
       "      <td>2020-03-06</td>\n",
       "      <td>True</td>\n",
       "      <td>PageView</td>\n",
       "      <td>69747</td>\n",
       "    </tr>\n",
       "    <tr>\n",
       "      <th>29</th>\n",
       "      <td>sg</td>\n",
       "      <td>2020-03-06</td>\n",
       "      <td>True</td>\n",
       "      <td>Reading</td>\n",
       "      <td>109885</td>\n",
       "    </tr>\n",
       "    <tr>\n",
       "      <th>30</th>\n",
       "      <td>sg</td>\n",
       "      <td>2020-03-07</td>\n",
       "      <td>True</td>\n",
       "      <td>PageView</td>\n",
       "      <td>73499</td>\n",
       "    </tr>\n",
       "    <tr>\n",
       "      <th>31</th>\n",
       "      <td>sg</td>\n",
       "      <td>2020-03-07</td>\n",
       "      <td>True</td>\n",
       "      <td>Reading</td>\n",
       "      <td>115466</td>\n",
       "    </tr>\n",
       "    <tr>\n",
       "      <th>32</th>\n",
       "      <td>sg</td>\n",
       "      <td>2020-03-08</td>\n",
       "      <td>True</td>\n",
       "      <td>PageView</td>\n",
       "      <td>76213</td>\n",
       "    </tr>\n",
       "    <tr>\n",
       "      <th>33</th>\n",
       "      <td>sg</td>\n",
       "      <td>2020-03-08</td>\n",
       "      <td>True</td>\n",
       "      <td>Reading</td>\n",
       "      <td>123487</td>\n",
       "    </tr>\n",
       "    <tr>\n",
       "      <th>34</th>\n",
       "      <td>sg</td>\n",
       "      <td>2020-03-09</td>\n",
       "      <td>True</td>\n",
       "      <td>PageView</td>\n",
       "      <td>79960</td>\n",
       "    </tr>\n",
       "    <tr>\n",
       "      <th>35</th>\n",
       "      <td>sg</td>\n",
       "      <td>2020-03-09</td>\n",
       "      <td>True</td>\n",
       "      <td>Reading</td>\n",
       "      <td>128369</td>\n",
       "    </tr>\n",
       "    <tr>\n",
       "      <th>36</th>\n",
       "      <td>sg</td>\n",
       "      <td>2020-03-10</td>\n",
       "      <td>True</td>\n",
       "      <td>PageView</td>\n",
       "      <td>77132</td>\n",
       "    </tr>\n",
       "    <tr>\n",
       "      <th>37</th>\n",
       "      <td>sg</td>\n",
       "      <td>2020-03-10</td>\n",
       "      <td>True</td>\n",
       "      <td>Reading</td>\n",
       "      <td>125020</td>\n",
       "    </tr>\n",
       "    <tr>\n",
       "      <th>38</th>\n",
       "      <td>sg</td>\n",
       "      <td>2020-03-11</td>\n",
       "      <td>True</td>\n",
       "      <td>PageView</td>\n",
       "      <td>65059</td>\n",
       "    </tr>\n",
       "    <tr>\n",
       "      <th>39</th>\n",
       "      <td>sg</td>\n",
       "      <td>2020-03-11</td>\n",
       "      <td>True</td>\n",
       "      <td>Reading</td>\n",
       "      <td>103256</td>\n",
       "    </tr>\n",
       "  </tbody>\n",
       "</table>\n",
       "</div>"
      ],
      "text/plain": [
       "   country_code        date  is_blog event_name   count\n",
       "0            hk  2020-03-02     True   PageView   14051\n",
       "1            hk  2020-03-02     True    Reading   26277\n",
       "2            hk  2020-03-03     True   PageView   14041\n",
       "3            hk  2020-03-03     True    Reading   25339\n",
       "4            hk  2020-03-04     True   PageView   14014\n",
       "5            hk  2020-03-04     True    Reading   24891\n",
       "6            hk  2020-03-05     True   PageView   13190\n",
       "7            hk  2020-03-05     True    Reading   23778\n",
       "8            hk  2020-03-06     True   PageView   12948\n",
       "9            hk  2020-03-06     True    Reading   22936\n",
       "10           hk  2020-03-07     True   PageView   13096\n",
       "11           hk  2020-03-07     True    Reading   24354\n",
       "12           hk  2020-03-08     True   PageView   13347\n",
       "13           hk  2020-03-08     True    Reading   25319\n",
       "14           hk  2020-03-09     True   PageView   14038\n",
       "15           hk  2020-03-09     True    Reading   25356\n",
       "16           hk  2020-03-10     True   PageView   12932\n",
       "17           hk  2020-03-10     True    Reading   23477\n",
       "18           hk  2020-03-11     True   PageView   10647\n",
       "19           hk  2020-03-11     True    Reading   19031\n",
       "20           sg  2020-03-02     True   PageView   77082\n",
       "21           sg  2020-03-02     True    Reading  126061\n",
       "22           sg  2020-03-03     True   PageView   75988\n",
       "23           sg  2020-03-03     True    Reading  122397\n",
       "24           sg  2020-03-04     True   PageView   74919\n",
       "25           sg  2020-03-04     True    Reading  121108\n",
       "26           sg  2020-03-05     True   PageView   73310\n",
       "27           sg  2020-03-05     True    Reading  118663\n",
       "28           sg  2020-03-06     True   PageView   69747\n",
       "29           sg  2020-03-06     True    Reading  109885\n",
       "30           sg  2020-03-07     True   PageView   73499\n",
       "31           sg  2020-03-07     True    Reading  115466\n",
       "32           sg  2020-03-08     True   PageView   76213\n",
       "33           sg  2020-03-08     True    Reading  123487\n",
       "34           sg  2020-03-09     True   PageView   79960\n",
       "35           sg  2020-03-09     True    Reading  128369\n",
       "36           sg  2020-03-10     True   PageView   77132\n",
       "37           sg  2020-03-10     True    Reading  125020\n",
       "38           sg  2020-03-11     True   PageView   65059\n",
       "39           sg  2020-03-11     True    Reading  103256"
      ]
     },
     "execution_count": 854,
     "metadata": {},
     "output_type": "execute_result"
    }
   ],
   "source": [
    "events_by_day = events.groupby([ \"country_code\", \"date\", \"is_blog\", \"event_name\"]).size().reset_index()\n",
    "events_by_day.rename(columns={0:\"count\"}, inplace=True)\n",
    "events_by_day"
   ]
  },
  {
   "cell_type": "code",
   "execution_count": null,
   "metadata": {},
   "outputs": [
    {
     "data": {
      "application/vnd.plotly.v1+json": {
       "config": {
        "plotlyServerURL": "https://plot.ly"
       },
       "data": [
        {
         "mode": "lines",
         "name": "hk PageView",
         "type": "scatter",
         "x": [
          "2020-03-02",
          "2020-03-03",
          "2020-03-04",
          "2020-03-05",
          "2020-03-06",
          "2020-03-07",
          "2020-03-08",
          "2020-03-09",
          "2020-03-10",
          "2020-03-11"
         ],
         "xaxis": "x",
         "y": [
          14051,
          14041,
          14014,
          13190,
          12948,
          13096,
          13347,
          14038,
          12932,
          10647
         ],
         "yaxis": "y"
        },
        {
         "mode": "lines",
         "name": "hk Reading",
         "type": "scatter",
         "x": [
          "2020-03-02",
          "2020-03-03",
          "2020-03-04",
          "2020-03-05",
          "2020-03-06",
          "2020-03-07",
          "2020-03-08",
          "2020-03-09",
          "2020-03-10",
          "2020-03-11"
         ],
         "xaxis": "x",
         "y": [
          26277,
          25339,
          24891,
          23778,
          22936,
          24354,
          25319,
          25356,
          23477,
          19031
         ],
         "yaxis": "y"
        },
        {
         "mode": "lines",
         "name": "sg PageView",
         "type": "scatter",
         "x": [
          "2020-03-02",
          "2020-03-03",
          "2020-03-04",
          "2020-03-05",
          "2020-03-06",
          "2020-03-07",
          "2020-03-08",
          "2020-03-09",
          "2020-03-10",
          "2020-03-11"
         ],
         "xaxis": "x2",
         "y": [
          77082,
          75988,
          74919,
          73310,
          69747,
          73499,
          76213,
          79960,
          77132,
          65059
         ],
         "yaxis": "y2"
        },
        {
         "mode": "lines",
         "name": "sg Reading",
         "type": "scatter",
         "x": [
          "2020-03-02",
          "2020-03-03",
          "2020-03-04",
          "2020-03-05",
          "2020-03-06",
          "2020-03-07",
          "2020-03-08",
          "2020-03-09",
          "2020-03-10",
          "2020-03-11"
         ],
         "xaxis": "x2",
         "y": [
          126061,
          122397,
          121108,
          118663,
          109885,
          115466,
          123487,
          128369,
          125020,
          103256
         ],
         "yaxis": "y2"
        }
       ],
       "layout": {
        "autosize": true,
        "template": {
         "data": {
          "bar": [
           {
            "error_x": {
             "color": "#2a3f5f"
            },
            "error_y": {
             "color": "#2a3f5f"
            },
            "marker": {
             "line": {
              "color": "#E5ECF6",
              "width": 0.5
             }
            },
            "type": "bar"
           }
          ],
          "barpolar": [
           {
            "marker": {
             "line": {
              "color": "#E5ECF6",
              "width": 0.5
             }
            },
            "type": "barpolar"
           }
          ],
          "carpet": [
           {
            "aaxis": {
             "endlinecolor": "#2a3f5f",
             "gridcolor": "white",
             "linecolor": "white",
             "minorgridcolor": "white",
             "startlinecolor": "#2a3f5f"
            },
            "baxis": {
             "endlinecolor": "#2a3f5f",
             "gridcolor": "white",
             "linecolor": "white",
             "minorgridcolor": "white",
             "startlinecolor": "#2a3f5f"
            },
            "type": "carpet"
           }
          ],
          "choropleth": [
           {
            "colorbar": {
             "outlinewidth": 0,
             "ticks": ""
            },
            "type": "choropleth"
           }
          ],
          "contour": [
           {
            "colorbar": {
             "outlinewidth": 0,
             "ticks": ""
            },
            "colorscale": [
             [
              0,
              "#0d0887"
             ],
             [
              0.1111111111111111,
              "#46039f"
             ],
             [
              0.2222222222222222,
              "#7201a8"
             ],
             [
              0.3333333333333333,
              "#9c179e"
             ],
             [
              0.4444444444444444,
              "#bd3786"
             ],
             [
              0.5555555555555556,
              "#d8576b"
             ],
             [
              0.6666666666666666,
              "#ed7953"
             ],
             [
              0.7777777777777778,
              "#fb9f3a"
             ],
             [
              0.8888888888888888,
              "#fdca26"
             ],
             [
              1,
              "#f0f921"
             ]
            ],
            "type": "contour"
           }
          ],
          "contourcarpet": [
           {
            "colorbar": {
             "outlinewidth": 0,
             "ticks": ""
            },
            "type": "contourcarpet"
           }
          ],
          "heatmap": [
           {
            "colorbar": {
             "outlinewidth": 0,
             "ticks": ""
            },
            "colorscale": [
             [
              0,
              "#0d0887"
             ],
             [
              0.1111111111111111,
              "#46039f"
             ],
             [
              0.2222222222222222,
              "#7201a8"
             ],
             [
              0.3333333333333333,
              "#9c179e"
             ],
             [
              0.4444444444444444,
              "#bd3786"
             ],
             [
              0.5555555555555556,
              "#d8576b"
             ],
             [
              0.6666666666666666,
              "#ed7953"
             ],
             [
              0.7777777777777778,
              "#fb9f3a"
             ],
             [
              0.8888888888888888,
              "#fdca26"
             ],
             [
              1,
              "#f0f921"
             ]
            ],
            "type": "heatmap"
           }
          ],
          "heatmapgl": [
           {
            "colorbar": {
             "outlinewidth": 0,
             "ticks": ""
            },
            "colorscale": [
             [
              0,
              "#0d0887"
             ],
             [
              0.1111111111111111,
              "#46039f"
             ],
             [
              0.2222222222222222,
              "#7201a8"
             ],
             [
              0.3333333333333333,
              "#9c179e"
             ],
             [
              0.4444444444444444,
              "#bd3786"
             ],
             [
              0.5555555555555556,
              "#d8576b"
             ],
             [
              0.6666666666666666,
              "#ed7953"
             ],
             [
              0.7777777777777778,
              "#fb9f3a"
             ],
             [
              0.8888888888888888,
              "#fdca26"
             ],
             [
              1,
              "#f0f921"
             ]
            ],
            "type": "heatmapgl"
           }
          ],
          "histogram": [
           {
            "marker": {
             "colorbar": {
              "outlinewidth": 0,
              "ticks": ""
             }
            },
            "type": "histogram"
           }
          ],
          "histogram2d": [
           {
            "colorbar": {
             "outlinewidth": 0,
             "ticks": ""
            },
            "colorscale": [
             [
              0,
              "#0d0887"
             ],
             [
              0.1111111111111111,
              "#46039f"
             ],
             [
              0.2222222222222222,
              "#7201a8"
             ],
             [
              0.3333333333333333,
              "#9c179e"
             ],
             [
              0.4444444444444444,
              "#bd3786"
             ],
             [
              0.5555555555555556,
              "#d8576b"
             ],
             [
              0.6666666666666666,
              "#ed7953"
             ],
             [
              0.7777777777777778,
              "#fb9f3a"
             ],
             [
              0.8888888888888888,
              "#fdca26"
             ],
             [
              1,
              "#f0f921"
             ]
            ],
            "type": "histogram2d"
           }
          ],
          "histogram2dcontour": [
           {
            "colorbar": {
             "outlinewidth": 0,
             "ticks": ""
            },
            "colorscale": [
             [
              0,
              "#0d0887"
             ],
             [
              0.1111111111111111,
              "#46039f"
             ],
             [
              0.2222222222222222,
              "#7201a8"
             ],
             [
              0.3333333333333333,
              "#9c179e"
             ],
             [
              0.4444444444444444,
              "#bd3786"
             ],
             [
              0.5555555555555556,
              "#d8576b"
             ],
             [
              0.6666666666666666,
              "#ed7953"
             ],
             [
              0.7777777777777778,
              "#fb9f3a"
             ],
             [
              0.8888888888888888,
              "#fdca26"
             ],
             [
              1,
              "#f0f921"
             ]
            ],
            "type": "histogram2dcontour"
           }
          ],
          "mesh3d": [
           {
            "colorbar": {
             "outlinewidth": 0,
             "ticks": ""
            },
            "type": "mesh3d"
           }
          ],
          "parcoords": [
           {
            "line": {
             "colorbar": {
              "outlinewidth": 0,
              "ticks": ""
             }
            },
            "type": "parcoords"
           }
          ],
          "pie": [
           {
            "automargin": true,
            "type": "pie"
           }
          ],
          "scatter": [
           {
            "marker": {
             "colorbar": {
              "outlinewidth": 0,
              "ticks": ""
             }
            },
            "type": "scatter"
           }
          ],
          "scatter3d": [
           {
            "line": {
             "colorbar": {
              "outlinewidth": 0,
              "ticks": ""
             }
            },
            "marker": {
             "colorbar": {
              "outlinewidth": 0,
              "ticks": ""
             }
            },
            "type": "scatter3d"
           }
          ],
          "scattercarpet": [
           {
            "marker": {
             "colorbar": {
              "outlinewidth": 0,
              "ticks": ""
             }
            },
            "type": "scattercarpet"
           }
          ],
          "scattergeo": [
           {
            "marker": {
             "colorbar": {
              "outlinewidth": 0,
              "ticks": ""
             }
            },
            "type": "scattergeo"
           }
          ],
          "scattergl": [
           {
            "marker": {
             "colorbar": {
              "outlinewidth": 0,
              "ticks": ""
             }
            },
            "type": "scattergl"
           }
          ],
          "scattermapbox": [
           {
            "marker": {
             "colorbar": {
              "outlinewidth": 0,
              "ticks": ""
             }
            },
            "type": "scattermapbox"
           }
          ],
          "scatterpolar": [
           {
            "marker": {
             "colorbar": {
              "outlinewidth": 0,
              "ticks": ""
             }
            },
            "type": "scatterpolar"
           }
          ],
          "scatterpolargl": [
           {
            "marker": {
             "colorbar": {
              "outlinewidth": 0,
              "ticks": ""
             }
            },
            "type": "scatterpolargl"
           }
          ],
          "scatterternary": [
           {
            "marker": {
             "colorbar": {
              "outlinewidth": 0,
              "ticks": ""
             }
            },
            "type": "scatterternary"
           }
          ],
          "surface": [
           {
            "colorbar": {
             "outlinewidth": 0,
             "ticks": ""
            },
            "colorscale": [
             [
              0,
              "#0d0887"
             ],
             [
              0.1111111111111111,
              "#46039f"
             ],
             [
              0.2222222222222222,
              "#7201a8"
             ],
             [
              0.3333333333333333,
              "#9c179e"
             ],
             [
              0.4444444444444444,
              "#bd3786"
             ],
             [
              0.5555555555555556,
              "#d8576b"
             ],
             [
              0.6666666666666666,
              "#ed7953"
             ],
             [
              0.7777777777777778,
              "#fb9f3a"
             ],
             [
              0.8888888888888888,
              "#fdca26"
             ],
             [
              1,
              "#f0f921"
             ]
            ],
            "type": "surface"
           }
          ],
          "table": [
           {
            "cells": {
             "fill": {
              "color": "#EBF0F8"
             },
             "line": {
              "color": "white"
             }
            },
            "header": {
             "fill": {
              "color": "#C8D4E3"
             },
             "line": {
              "color": "white"
             }
            },
            "type": "table"
           }
          ]
         },
         "layout": {
          "annotationdefaults": {
           "arrowcolor": "#2a3f5f",
           "arrowhead": 0,
           "arrowwidth": 1
          },
          "coloraxis": {
           "colorbar": {
            "outlinewidth": 0,
            "ticks": ""
           }
          },
          "colorscale": {
           "diverging": [
            [
             0,
             "#8e0152"
            ],
            [
             0.1,
             "#c51b7d"
            ],
            [
             0.2,
             "#de77ae"
            ],
            [
             0.3,
             "#f1b6da"
            ],
            [
             0.4,
             "#fde0ef"
            ],
            [
             0.5,
             "#f7f7f7"
            ],
            [
             0.6,
             "#e6f5d0"
            ],
            [
             0.7,
             "#b8e186"
            ],
            [
             0.8,
             "#7fbc41"
            ],
            [
             0.9,
             "#4d9221"
            ],
            [
             1,
             "#276419"
            ]
           ],
           "sequential": [
            [
             0,
             "#0d0887"
            ],
            [
             0.1111111111111111,
             "#46039f"
            ],
            [
             0.2222222222222222,
             "#7201a8"
            ],
            [
             0.3333333333333333,
             "#9c179e"
            ],
            [
             0.4444444444444444,
             "#bd3786"
            ],
            [
             0.5555555555555556,
             "#d8576b"
            ],
            [
             0.6666666666666666,
             "#ed7953"
            ],
            [
             0.7777777777777778,
             "#fb9f3a"
            ],
            [
             0.8888888888888888,
             "#fdca26"
            ],
            [
             1,
             "#f0f921"
            ]
           ],
           "sequentialminus": [
            [
             0,
             "#0d0887"
            ],
            [
             0.1111111111111111,
             "#46039f"
            ],
            [
             0.2222222222222222,
             "#7201a8"
            ],
            [
             0.3333333333333333,
             "#9c179e"
            ],
            [
             0.4444444444444444,
             "#bd3786"
            ],
            [
             0.5555555555555556,
             "#d8576b"
            ],
            [
             0.6666666666666666,
             "#ed7953"
            ],
            [
             0.7777777777777778,
             "#fb9f3a"
            ],
            [
             0.8888888888888888,
             "#fdca26"
            ],
            [
             1,
             "#f0f921"
            ]
           ]
          },
          "colorway": [
           "#636efa",
           "#EF553B",
           "#00cc96",
           "#ab63fa",
           "#FFA15A",
           "#19d3f3",
           "#FF6692",
           "#B6E880",
           "#FF97FF",
           "#FECB52"
          ],
          "font": {
           "color": "#2a3f5f"
          },
          "geo": {
           "bgcolor": "white",
           "lakecolor": "white",
           "landcolor": "#E5ECF6",
           "showlakes": true,
           "showland": true,
           "subunitcolor": "white"
          },
          "hoverlabel": {
           "align": "left"
          },
          "hovermode": "closest",
          "mapbox": {
           "style": "light"
          },
          "paper_bgcolor": "white",
          "plot_bgcolor": "#E5ECF6",
          "polar": {
           "angularaxis": {
            "gridcolor": "white",
            "linecolor": "white",
            "ticks": ""
           },
           "bgcolor": "#E5ECF6",
           "radialaxis": {
            "gridcolor": "white",
            "linecolor": "white",
            "ticks": ""
           }
          },
          "scene": {
           "xaxis": {
            "backgroundcolor": "#E5ECF6",
            "gridcolor": "white",
            "gridwidth": 2,
            "linecolor": "white",
            "showbackground": true,
            "ticks": "",
            "zerolinecolor": "white"
           },
           "yaxis": {
            "backgroundcolor": "#E5ECF6",
            "gridcolor": "white",
            "gridwidth": 2,
            "linecolor": "white",
            "showbackground": true,
            "ticks": "",
            "zerolinecolor": "white"
           },
           "zaxis": {
            "backgroundcolor": "#E5ECF6",
            "gridcolor": "white",
            "gridwidth": 2,
            "linecolor": "white",
            "showbackground": true,
            "ticks": "",
            "zerolinecolor": "white"
           }
          },
          "shapedefaults": {
           "line": {
            "color": "#2a3f5f"
           }
          },
          "ternary": {
           "aaxis": {
            "gridcolor": "white",
            "linecolor": "white",
            "ticks": ""
           },
           "baxis": {
            "gridcolor": "white",
            "linecolor": "white",
            "ticks": ""
           },
           "bgcolor": "#E5ECF6",
           "caxis": {
            "gridcolor": "white",
            "linecolor": "white",
            "ticks": ""
           }
          },
          "title": {
           "x": 0.05
          },
          "xaxis": {
           "automargin": true,
           "gridcolor": "white",
           "linecolor": "white",
           "ticks": "",
           "title": {
            "standoff": 15
           },
           "zerolinecolor": "white",
           "zerolinewidth": 2
          },
          "yaxis": {
           "automargin": true,
           "gridcolor": "white",
           "linecolor": "white",
           "ticks": "",
           "title": {
            "standoff": 15
           },
           "zerolinecolor": "white",
           "zerolinewidth": 2
          }
         }
        },
        "xaxis": {
         "anchor": "y",
         "autorange": true,
         "domain": [
          0,
          1
         ],
         "range": [
          "2020-03-02",
          "2020-03-11"
         ],
         "type": "date"
        },
        "xaxis2": {
         "anchor": "y2",
         "autorange": true,
         "domain": [
          0,
          1
         ],
         "range": [
          "2020-03-02",
          "2020-03-11"
         ],
         "type": "date"
        },
        "yaxis": {
         "anchor": "x",
         "domain": [
          0.575,
          1
         ],
         "range": [
          0,
          26277
         ],
         "type": "linear"
        },
        "yaxis2": {
         "anchor": "x2",
         "domain": [
          0,
          0.425
         ],
         "range": [
          0,
          128369
         ],
         "type": "linear"
        }
       }
      },
      "image/png": "[encoded data removed]",
      "text/html": [
       "<div>\n",
       "        \n",
       "        \n",
       "            <div id=\"43ac92c5-bbcd-4c3c-8ef7-ffd9ecd07c05\" class=\"plotly-graph-div\" style=\"height:800px; width:100%;\"></div>\n",
       "            <script type=\"text/javascript\">\n",
       "                require([\"plotly\"], function(Plotly) {\n",
       "                    window.PLOTLYENV=window.PLOTLYENV || {};\n",
       "                    \n",
       "                if (document.getElementById(\"43ac92c5-bbcd-4c3c-8ef7-ffd9ecd07c05\")) {\n",
       "                    Plotly.newPlot(\n",
       "                        '43ac92c5-bbcd-4c3c-8ef7-ffd9ecd07c05',\n",
       "                        [{\"mode\": \"lines\", \"name\": \"hk PageView\", \"type\": \"scatter\", \"x\": [\"2020-03-02\", \"2020-03-03\", \"2020-03-04\", \"2020-03-05\", \"2020-03-06\", \"2020-03-07\", \"2020-03-08\", \"2020-03-09\", \"2020-03-10\", \"2020-03-11\"], \"xaxis\": \"x\", \"y\": [14051, 14041, 14014, 13190, 12948, 13096, 13347, 14038, 12932, 10647], \"yaxis\": \"y\"}, {\"mode\": \"lines\", \"name\": \"hk Reading\", \"type\": \"scatter\", \"x\": [\"2020-03-02\", \"2020-03-03\", \"2020-03-04\", \"2020-03-05\", \"2020-03-06\", \"2020-03-07\", \"2020-03-08\", \"2020-03-09\", \"2020-03-10\", \"2020-03-11\"], \"xaxis\": \"x\", \"y\": [26277, 25339, 24891, 23778, 22936, 24354, 25319, 25356, 23477, 19031], \"yaxis\": \"y\"}, {\"mode\": \"lines\", \"name\": \"sg PageView\", \"type\": \"scatter\", \"x\": [\"2020-03-02\", \"2020-03-03\", \"2020-03-04\", \"2020-03-05\", \"2020-03-06\", \"2020-03-07\", \"2020-03-08\", \"2020-03-09\", \"2020-03-10\", \"2020-03-11\"], \"xaxis\": \"x2\", \"y\": [77082, 75988, 74919, 73310, 69747, 73499, 76213, 79960, 77132, 65059], \"yaxis\": \"y2\"}, {\"mode\": \"lines\", \"name\": \"sg Reading\", \"type\": \"scatter\", \"x\": [\"2020-03-02\", \"2020-03-03\", \"2020-03-04\", \"2020-03-05\", \"2020-03-06\", \"2020-03-07\", \"2020-03-08\", \"2020-03-09\", \"2020-03-10\", \"2020-03-11\"], \"xaxis\": \"x2\", \"y\": [126061, 122397, 121108, 118663, 109885, 115466, 123487, 128369, 125020, 103256], \"yaxis\": \"y2\"}],\n",
       "                        {\"height\": 800, \"template\": {\"data\": {\"bar\": [{\"error_x\": {\"color\": \"#2a3f5f\"}, \"error_y\": {\"color\": \"#2a3f5f\"}, \"marker\": {\"line\": {\"color\": \"#E5ECF6\", \"width\": 0.5}}, \"type\": \"bar\"}], \"barpolar\": [{\"marker\": {\"line\": {\"color\": \"#E5ECF6\", \"width\": 0.5}}, \"type\": \"barpolar\"}], \"carpet\": [{\"aaxis\": {\"endlinecolor\": \"#2a3f5f\", \"gridcolor\": \"white\", \"linecolor\": \"white\", \"minorgridcolor\": \"white\", \"startlinecolor\": \"#2a3f5f\"}, \"baxis\": {\"endlinecolor\": \"#2a3f5f\", \"gridcolor\": \"white\", \"linecolor\": \"white\", \"minorgridcolor\": \"white\", \"startlinecolor\": \"#2a3f5f\"}, \"type\": \"carpet\"}], \"choropleth\": [{\"colorbar\": {\"outlinewidth\": 0, \"ticks\": \"\"}, \"type\": \"choropleth\"}], \"contour\": [{\"colorbar\": {\"outlinewidth\": 0, \"ticks\": \"\"}, \"colorscale\": [[0.0, \"#0d0887\"], [0.1111111111111111, \"#46039f\"], [0.2222222222222222, \"#7201a8\"], [0.3333333333333333, \"#9c179e\"], [0.4444444444444444, \"#bd3786\"], [0.5555555555555556, \"#d8576b\"], [0.6666666666666666, \"#ed7953\"], [0.7777777777777778, \"#fb9f3a\"], [0.8888888888888888, \"#fdca26\"], [1.0, \"#f0f921\"]], \"type\": \"contour\"}], \"contourcarpet\": [{\"colorbar\": {\"outlinewidth\": 0, \"ticks\": \"\"}, \"type\": \"contourcarpet\"}], \"heatmap\": [{\"colorbar\": {\"outlinewidth\": 0, \"ticks\": \"\"}, \"colorscale\": [[0.0, \"#0d0887\"], [0.1111111111111111, \"#46039f\"], [0.2222222222222222, \"#7201a8\"], [0.3333333333333333, \"#9c179e\"], [0.4444444444444444, \"#bd3786\"], [0.5555555555555556, \"#d8576b\"], [0.6666666666666666, \"#ed7953\"], [0.7777777777777778, \"#fb9f3a\"], [0.8888888888888888, \"#fdca26\"], [1.0, \"#f0f921\"]], \"type\": \"heatmap\"}], \"heatmapgl\": [{\"colorbar\": {\"outlinewidth\": 0, \"ticks\": \"\"}, \"colorscale\": [[0.0, \"#0d0887\"], [0.1111111111111111, \"#46039f\"], [0.2222222222222222, \"#7201a8\"], [0.3333333333333333, \"#9c179e\"], [0.4444444444444444, \"#bd3786\"], [0.5555555555555556, \"#d8576b\"], [0.6666666666666666, \"#ed7953\"], [0.7777777777777778, \"#fb9f3a\"], [0.8888888888888888, \"#fdca26\"], [1.0, \"#f0f921\"]], \"type\": \"heatmapgl\"}], \"histogram\": [{\"marker\": {\"colorbar\": {\"outlinewidth\": 0, \"ticks\": \"\"}}, \"type\": \"histogram\"}], \"histogram2d\": [{\"colorbar\": {\"outlinewidth\": 0, \"ticks\": \"\"}, \"colorscale\": [[0.0, \"#0d0887\"], [0.1111111111111111, \"#46039f\"], [0.2222222222222222, \"#7201a8\"], [0.3333333333333333, \"#9c179e\"], [0.4444444444444444, \"#bd3786\"], [0.5555555555555556, \"#d8576b\"], [0.6666666666666666, \"#ed7953\"], [0.7777777777777778, \"#fb9f3a\"], [0.8888888888888888, \"#fdca26\"], [1.0, \"#f0f921\"]], \"type\": \"histogram2d\"}], \"histogram2dcontour\": [{\"colorbar\": {\"outlinewidth\": 0, \"ticks\": \"\"}, \"colorscale\": [[0.0, \"#0d0887\"], [0.1111111111111111, \"#46039f\"], [0.2222222222222222, \"#7201a8\"], [0.3333333333333333, \"#9c179e\"], [0.4444444444444444, \"#bd3786\"], [0.5555555555555556, \"#d8576b\"], [0.6666666666666666, \"#ed7953\"], [0.7777777777777778, \"#fb9f3a\"], [0.8888888888888888, \"#fdca26\"], [1.0, \"#f0f921\"]], \"type\": \"histogram2dcontour\"}], \"mesh3d\": [{\"colorbar\": {\"outlinewidth\": 0, \"ticks\": \"\"}, \"type\": \"mesh3d\"}], \"parcoords\": [{\"line\": {\"colorbar\": {\"outlinewidth\": 0, \"ticks\": \"\"}}, \"type\": \"parcoords\"}], \"pie\": [{\"automargin\": true, \"type\": \"pie\"}], \"scatter\": [{\"marker\": {\"colorbar\": {\"outlinewidth\": 0, \"ticks\": \"\"}}, \"type\": \"scatter\"}], \"scatter3d\": [{\"line\": {\"colorbar\": {\"outlinewidth\": 0, \"ticks\": \"\"}}, \"marker\": {\"colorbar\": {\"outlinewidth\": 0, \"ticks\": \"\"}}, \"type\": \"scatter3d\"}], \"scattercarpet\": [{\"marker\": {\"colorbar\": {\"outlinewidth\": 0, \"ticks\": \"\"}}, \"type\": \"scattercarpet\"}], \"scattergeo\": [{\"marker\": {\"colorbar\": {\"outlinewidth\": 0, \"ticks\": \"\"}}, \"type\": \"scattergeo\"}], \"scattergl\": [{\"marker\": {\"colorbar\": {\"outlinewidth\": 0, \"ticks\": \"\"}}, \"type\": \"scattergl\"}], \"scattermapbox\": [{\"marker\": {\"colorbar\": {\"outlinewidth\": 0, \"ticks\": \"\"}}, \"type\": \"scattermapbox\"}], \"scatterpolar\": [{\"marker\": {\"colorbar\": {\"outlinewidth\": 0, \"ticks\": \"\"}}, \"type\": \"scatterpolar\"}], \"scatterpolargl\": [{\"marker\": {\"colorbar\": {\"outlinewidth\": 0, \"ticks\": \"\"}}, \"type\": \"scatterpolargl\"}], \"scatterternary\": [{\"marker\": {\"colorbar\": {\"outlinewidth\": 0, \"ticks\": \"\"}}, \"type\": \"scatterternary\"}], \"surface\": [{\"colorbar\": {\"outlinewidth\": 0, \"ticks\": \"\"}, \"colorscale\": [[0.0, \"#0d0887\"], [0.1111111111111111, \"#46039f\"], [0.2222222222222222, \"#7201a8\"], [0.3333333333333333, \"#9c179e\"], [0.4444444444444444, \"#bd3786\"], [0.5555555555555556, \"#d8576b\"], [0.6666666666666666, \"#ed7953\"], [0.7777777777777778, \"#fb9f3a\"], [0.8888888888888888, \"#fdca26\"], [1.0, \"#f0f921\"]], \"type\": \"surface\"}], \"table\": [{\"cells\": {\"fill\": {\"color\": \"#EBF0F8\"}, \"line\": {\"color\": \"white\"}}, \"header\": {\"fill\": {\"color\": \"#C8D4E3\"}, \"line\": {\"color\": \"white\"}}, \"type\": \"table\"}]}, \"layout\": {\"annotationdefaults\": {\"arrowcolor\": \"#2a3f5f\", \"arrowhead\": 0, \"arrowwidth\": 1}, \"coloraxis\": {\"colorbar\": {\"outlinewidth\": 0, \"ticks\": \"\"}}, \"colorscale\": {\"diverging\": [[0, \"#8e0152\"], [0.1, \"#c51b7d\"], [0.2, \"#de77ae\"], [0.3, \"#f1b6da\"], [0.4, \"#fde0ef\"], [0.5, \"#f7f7f7\"], [0.6, \"#e6f5d0\"], [0.7, \"#b8e186\"], [0.8, \"#7fbc41\"], [0.9, \"#4d9221\"], [1, \"#276419\"]], \"sequential\": [[0.0, \"#0d0887\"], [0.1111111111111111, \"#46039f\"], [0.2222222222222222, \"#7201a8\"], [0.3333333333333333, \"#9c179e\"], [0.4444444444444444, \"#bd3786\"], [0.5555555555555556, \"#d8576b\"], [0.6666666666666666, \"#ed7953\"], [0.7777777777777778, \"#fb9f3a\"], [0.8888888888888888, \"#fdca26\"], [1.0, \"#f0f921\"]], \"sequentialminus\": [[0.0, \"#0d0887\"], [0.1111111111111111, \"#46039f\"], [0.2222222222222222, \"#7201a8\"], [0.3333333333333333, \"#9c179e\"], [0.4444444444444444, \"#bd3786\"], [0.5555555555555556, \"#d8576b\"], [0.6666666666666666, \"#ed7953\"], [0.7777777777777778, \"#fb9f3a\"], [0.8888888888888888, \"#fdca26\"], [1.0, \"#f0f921\"]]}, \"colorway\": [\"#636efa\", \"#EF553B\", \"#00cc96\", \"#ab63fa\", \"#FFA15A\", \"#19d3f3\", \"#FF6692\", \"#B6E880\", \"#FF97FF\", \"#FECB52\"], \"font\": {\"color\": \"#2a3f5f\"}, \"geo\": {\"bgcolor\": \"white\", \"lakecolor\": \"white\", \"landcolor\": \"#E5ECF6\", \"showlakes\": true, \"showland\": true, \"subunitcolor\": \"white\"}, \"hoverlabel\": {\"align\": \"left\"}, \"hovermode\": \"closest\", \"mapbox\": {\"style\": \"light\"}, \"paper_bgcolor\": \"white\", \"plot_bgcolor\": \"#E5ECF6\", \"polar\": {\"angularaxis\": {\"gridcolor\": \"white\", \"linecolor\": \"white\", \"ticks\": \"\"}, \"bgcolor\": \"#E5ECF6\", \"radialaxis\": {\"gridcolor\": \"white\", \"linecolor\": \"white\", \"ticks\": \"\"}}, \"scene\": {\"xaxis\": {\"backgroundcolor\": \"#E5ECF6\", \"gridcolor\": \"white\", \"gridwidth\": 2, \"linecolor\": \"white\", \"showbackground\": true, \"ticks\": \"\", \"zerolinecolor\": \"white\"}, \"yaxis\": {\"backgroundcolor\": \"#E5ECF6\", \"gridcolor\": \"white\", \"gridwidth\": 2, \"linecolor\": \"white\", \"showbackground\": true, \"ticks\": \"\", \"zerolinecolor\": \"white\"}, \"zaxis\": {\"backgroundcolor\": \"#E5ECF6\", \"gridcolor\": \"white\", \"gridwidth\": 2, \"linecolor\": \"white\", \"showbackground\": true, \"ticks\": \"\", \"zerolinecolor\": \"white\"}}, \"shapedefaults\": {\"line\": {\"color\": \"#2a3f5f\"}}, \"ternary\": {\"aaxis\": {\"gridcolor\": \"white\", \"linecolor\": \"white\", \"ticks\": \"\"}, \"baxis\": {\"gridcolor\": \"white\", \"linecolor\": \"white\", \"ticks\": \"\"}, \"bgcolor\": \"#E5ECF6\", \"caxis\": {\"gridcolor\": \"white\", \"linecolor\": \"white\", \"ticks\": \"\"}}, \"title\": {\"x\": 0.05}, \"xaxis\": {\"automargin\": true, \"gridcolor\": \"white\", \"linecolor\": \"white\", \"ticks\": \"\", \"title\": {\"standoff\": 15}, \"zerolinecolor\": \"white\", \"zerolinewidth\": 2}, \"yaxis\": {\"automargin\": true, \"gridcolor\": \"white\", \"linecolor\": \"white\", \"ticks\": \"\", \"title\": {\"standoff\": 15}, \"zerolinecolor\": \"white\", \"zerolinewidth\": 2}}}, \"xaxis\": {\"anchor\": \"y\", \"domain\": [0.0, 1.0]}, \"xaxis2\": {\"anchor\": \"y2\", \"domain\": [0.0, 1.0]}, \"yaxis\": {\"anchor\": \"x\", \"domain\": [0.575, 1.0], \"range\": [0, 26277]}, \"yaxis2\": {\"anchor\": \"x2\", \"domain\": [0.0, 0.425], \"range\": [0, 128369]}},\n",
       "                        {\"responsive\": true}\n",
       "                    ).then(function(){\n",
       "                            \n",
       "var gd = document.getElementById('43ac92c5-bbcd-4c3c-8ef7-ffd9ecd07c05');\n",
       "var x = new MutationObserver(function (mutations, observer) {{\n",
       "        var display = window.getComputedStyle(gd).display;\n",
       "        if (!display || display === 'none') {{\n",
       "            console.log([gd, 'removed!']);\n",
       "            Plotly.purge(gd);\n",
       "            observer.disconnect();\n",
       "        }}\n",
       "}});\n",
       "\n",
       "// Listen for the removal of the full notebook cells\n",
       "var notebookContainer = gd.closest('#notebook-container');\n",
       "if (notebookContainer) {{\n",
       "    x.observe(notebookContainer, {childList: true});\n",
       "}}\n",
       "\n",
       "// Listen for the clearing of the current output cell\n",
       "var outputEl = gd.closest('.output');\n",
       "if (outputEl) {{\n",
       "    x.observe(outputEl, {childList: true});\n",
       "}}\n",
       "\n",
       "                        })\n",
       "                };\n",
       "                });\n",
       "            </script>\n",
       "        </div>"
      ]
     },
     "metadata": {},
     "output_type": "display_data"
    }
   ],
   "source": [
    "countries = events_by_day.country_code.unique()\n",
    "num_countries = len(countries)\n",
    "\n",
    "unique_events = events_by_day.event_name.unique()\n",
    "num_uniqe_events = len(unique_events)\n",
    "\n",
    "fig = py.subplots.make_subplots(rows=num_countries, cols=1)\n",
    "\n",
    "for i, country in enumerate(countries):\n",
    "    max_count = 0\n",
    "    for event_name in unique_events:\n",
    "        line_label = country+\" \"+event_name\n",
    "        df = events_by_day[(events_by_day.country_code==country) & (events_by_day.event_name == event_name)]\n",
    "        max_count = max(max_count, df[\"count\"].max())\n",
    "        fig.add_trace(go.Scatter(x=df[\"date\"], y=df[\"count\"], mode='lines', name=line_label), row=i+1, col=1)\n",
    "    fig.update_yaxes(range = [0, max_count], row=i+1, col=1)\n",
    "fig.update_layout(height=800)\n",
    "fig.show()"
   ]
  },
  {
   "cell_type": "code",
   "execution_count": null,
   "metadata": {},
   "outputs": [],
   "source": []
  },
  {
   "cell_type": "code",
   "execution_count": null,
   "metadata": {},
   "outputs": [
    {
     "name": "stdout",
     "output_type": "stream",
     "text": [
      "875213 pageviews\n"
     ]
    }
   ],
   "source": [
    "pageview_events = events[events.event_name==\"PageView\"]\n",
    "\n",
    "print(\"%i pageviews\"%len(pageview_events))"
   ]
  },
  {
   "cell_type": "markdown",
   "metadata": {
    "toc-hr-collapsed": false
   },
   "source": [
    "# Pageviews Per User Per Day"
   ]
  },
  {
   "cell_type": "code",
   "execution_count": null,
   "metadata": {},
   "outputs": [],
   "source": [
    "pageviews_per_user_per_day = pageview_events.groupby([\"country_code\",\"date\",\"is_test\", \"anonymous_id\"]).size().reset_index(name=\"count\")"
   ]
  },
  {
   "cell_type": "code",
   "execution_count": null,
   "metadata": {},
   "outputs": [],
   "source": []
  },
  {
   "cell_type": "code",
   "execution_count": null,
   "metadata": {},
   "outputs": [
    {
     "data": {
      "text/html": [
       "<div>\n",
       "<style scoped>\n",
       "    .dataframe tbody tr th:only-of-type {\n",
       "        vertical-align: middle;\n",
       "    }\n",
       "\n",
       "    .dataframe tbody tr th {\n",
       "        vertical-align: top;\n",
       "    }\n",
       "\n",
       "    .dataframe thead th {\n",
       "        text-align: right;\n",
       "    }\n",
       "</style>\n",
       "<table border=\"1\" class=\"dataframe\">\n",
       "  <thead>\n",
       "    <tr style=\"text-align: right;\">\n",
       "      <th></th>\n",
       "      <th>country_code</th>\n",
       "      <th>date</th>\n",
       "      <th>is_test</th>\n",
       "      <th>anonymous_id</th>\n",
       "      <th>count</th>\n",
       "    </tr>\n",
       "  </thead>\n",
       "  <tbody>\n",
       "    <tr>\n",
       "      <th>0</th>\n",
       "      <td>hk</td>\n",
       "      <td>2020-03-02</td>\n",
       "      <td>False</td>\n",
       "      <td>000577a0-0ac1-4300-93b9-70bd2c9074b4</td>\n",
       "      <td>1</td>\n",
       "    </tr>\n",
       "    <tr>\n",
       "      <th>1</th>\n",
       "      <td>hk</td>\n",
       "      <td>2020-03-02</td>\n",
       "      <td>False</td>\n",
       "      <td>000679c6-1449-4f2e-9cbb-3968fdae94ec</td>\n",
       "      <td>1</td>\n",
       "    </tr>\n",
       "  </tbody>\n",
       "</table>\n",
       "</div>"
      ],
      "text/plain": [
       "  country_code        date  is_test                          anonymous_id  \\\n",
       "0           hk  2020-03-02    False  000577a0-0ac1-4300-93b9-70bd2c9074b4   \n",
       "1           hk  2020-03-02    False  000679c6-1449-4f2e-9cbb-3968fdae94ec   \n",
       "\n",
       "   count  \n",
       "0      1  \n",
       "1      1  "
      ]
     },
     "execution_count": 858,
     "metadata": {},
     "output_type": "execute_result"
    }
   ],
   "source": [
    "pageviews_per_user_per_day.head(2)"
   ]
  },
  {
   "cell_type": "code",
   "execution_count": null,
   "metadata": {},
   "outputs": [
    {
     "data": {
      "text/html": [
       "<div>\n",
       "<style scoped>\n",
       "    .dataframe tbody tr th:only-of-type {\n",
       "        vertical-align: middle;\n",
       "    }\n",
       "\n",
       "    .dataframe tbody tr th {\n",
       "        vertical-align: top;\n",
       "    }\n",
       "\n",
       "    .dataframe thead tr th {\n",
       "        text-align: left;\n",
       "    }\n",
       "\n",
       "    .dataframe thead tr:last-of-type th {\n",
       "        text-align: right;\n",
       "    }\n",
       "</style>\n",
       "<table border=\"1\" class=\"dataframe\">\n",
       "  <thead>\n",
       "    <tr>\n",
       "      <th></th>\n",
       "      <th></th>\n",
       "      <th></th>\n",
       "      <th colspan=\"3\" halign=\"left\">count</th>\n",
       "    </tr>\n",
       "    <tr>\n",
       "      <th></th>\n",
       "      <th></th>\n",
       "      <th></th>\n",
       "      <th>mean</th>\n",
       "      <th>sum</th>\n",
       "      <th>count</th>\n",
       "    </tr>\n",
       "    <tr>\n",
       "      <th>country_code</th>\n",
       "      <th>date</th>\n",
       "      <th>is_test</th>\n",
       "      <th></th>\n",
       "      <th></th>\n",
       "      <th></th>\n",
       "    </tr>\n",
       "  </thead>\n",
       "  <tbody>\n",
       "    <tr>\n",
       "      <th rowspan=\"20\" valign=\"top\">hk</th>\n",
       "      <th rowspan=\"2\" valign=\"top\">2020-03-02</th>\n",
       "      <th>False</th>\n",
       "      <td>1.183359</td>\n",
       "      <td>12843</td>\n",
       "      <td>10853</td>\n",
       "    </tr>\n",
       "    <tr>\n",
       "      <th>True</th>\n",
       "      <td>1.188679</td>\n",
       "      <td>1134</td>\n",
       "      <td>954</td>\n",
       "    </tr>\n",
       "    <tr>\n",
       "      <th rowspan=\"2\" valign=\"top\">2020-03-03</th>\n",
       "      <th>False</th>\n",
       "      <td>1.194604</td>\n",
       "      <td>12664</td>\n",
       "      <td>10601</td>\n",
       "    </tr>\n",
       "    <tr>\n",
       "      <th>True</th>\n",
       "      <td>1.320000</td>\n",
       "      <td>1122</td>\n",
       "      <td>850</td>\n",
       "    </tr>\n",
       "    <tr>\n",
       "      <th rowspan=\"2\" valign=\"top\">2020-03-04</th>\n",
       "      <th>False</th>\n",
       "      <td>1.190328</td>\n",
       "      <td>12652</td>\n",
       "      <td>10629</td>\n",
       "    </tr>\n",
       "    <tr>\n",
       "      <th>True</th>\n",
       "      <td>1.277974</td>\n",
       "      <td>1085</td>\n",
       "      <td>849</td>\n",
       "    </tr>\n",
       "    <tr>\n",
       "      <th rowspan=\"2\" valign=\"top\">2020-03-05</th>\n",
       "      <th>False</th>\n",
       "      <td>1.195849</td>\n",
       "      <td>11870</td>\n",
       "      <td>9926</td>\n",
       "    </tr>\n",
       "    <tr>\n",
       "      <th>True</th>\n",
       "      <td>1.269767</td>\n",
       "      <td>1092</td>\n",
       "      <td>860</td>\n",
       "    </tr>\n",
       "    <tr>\n",
       "      <th rowspan=\"2\" valign=\"top\">2020-03-06</th>\n",
       "      <th>False</th>\n",
       "      <td>1.193217</td>\n",
       "      <td>11610</td>\n",
       "      <td>9730</td>\n",
       "    </tr>\n",
       "    <tr>\n",
       "      <th>True</th>\n",
       "      <td>1.288750</td>\n",
       "      <td>1031</td>\n",
       "      <td>800</td>\n",
       "    </tr>\n",
       "    <tr>\n",
       "      <th rowspan=\"2\" valign=\"top\">2020-03-07</th>\n",
       "      <th>False</th>\n",
       "      <td>1.192640</td>\n",
       "      <td>11992</td>\n",
       "      <td>10055</td>\n",
       "    </tr>\n",
       "    <tr>\n",
       "      <th>True</th>\n",
       "      <td>1.216867</td>\n",
       "      <td>1010</td>\n",
       "      <td>830</td>\n",
       "    </tr>\n",
       "    <tr>\n",
       "      <th rowspan=\"2\" valign=\"top\">2020-03-08</th>\n",
       "      <th>False</th>\n",
       "      <td>1.180092</td>\n",
       "      <td>12057</td>\n",
       "      <td>10217</td>\n",
       "    </tr>\n",
       "    <tr>\n",
       "      <th>True</th>\n",
       "      <td>1.248268</td>\n",
       "      <td>1081</td>\n",
       "      <td>866</td>\n",
       "    </tr>\n",
       "    <tr>\n",
       "      <th rowspan=\"2\" valign=\"top\">2020-03-09</th>\n",
       "      <th>False</th>\n",
       "      <td>1.197668</td>\n",
       "      <td>12530</td>\n",
       "      <td>10462</td>\n",
       "    </tr>\n",
       "    <tr>\n",
       "      <th>True</th>\n",
       "      <td>1.307779</td>\n",
       "      <td>1160</td>\n",
       "      <td>887</td>\n",
       "    </tr>\n",
       "    <tr>\n",
       "      <th rowspan=\"2\" valign=\"top\">2020-03-10</th>\n",
       "      <th>False</th>\n",
       "      <td>1.199593</td>\n",
       "      <td>11792</td>\n",
       "      <td>9830</td>\n",
       "    </tr>\n",
       "    <tr>\n",
       "      <th>True</th>\n",
       "      <td>1.250975</td>\n",
       "      <td>962</td>\n",
       "      <td>769</td>\n",
       "    </tr>\n",
       "    <tr>\n",
       "      <th rowspan=\"2\" valign=\"top\">2020-03-11</th>\n",
       "      <th>False</th>\n",
       "      <td>1.197319</td>\n",
       "      <td>9648</td>\n",
       "      <td>8058</td>\n",
       "    </tr>\n",
       "    <tr>\n",
       "      <th>True</th>\n",
       "      <td>1.267296</td>\n",
       "      <td>806</td>\n",
       "      <td>636</td>\n",
       "    </tr>\n",
       "    <tr>\n",
       "      <th rowspan=\"20\" valign=\"top\">sg</th>\n",
       "      <th rowspan=\"2\" valign=\"top\">2020-03-02</th>\n",
       "      <th>False</th>\n",
       "      <td>1.279509</td>\n",
       "      <td>70698</td>\n",
       "      <td>55254</td>\n",
       "    </tr>\n",
       "    <tr>\n",
       "      <th>True</th>\n",
       "      <td>1.397863</td>\n",
       "      <td>4318</td>\n",
       "      <td>3089</td>\n",
       "    </tr>\n",
       "    <tr>\n",
       "      <th rowspan=\"2\" valign=\"top\">2020-03-03</th>\n",
       "      <th>False</th>\n",
       "      <td>1.275886</td>\n",
       "      <td>69805</td>\n",
       "      <td>54711</td>\n",
       "    </tr>\n",
       "    <tr>\n",
       "      <th>True</th>\n",
       "      <td>1.404172</td>\n",
       "      <td>4308</td>\n",
       "      <td>3068</td>\n",
       "    </tr>\n",
       "    <tr>\n",
       "      <th rowspan=\"2\" valign=\"top\">2020-03-04</th>\n",
       "      <th>False</th>\n",
       "      <td>1.273249</td>\n",
       "      <td>68814</td>\n",
       "      <td>54046</td>\n",
       "    </tr>\n",
       "    <tr>\n",
       "      <th>True</th>\n",
       "      <td>1.387657</td>\n",
       "      <td>4317</td>\n",
       "      <td>3111</td>\n",
       "    </tr>\n",
       "    <tr>\n",
       "      <th rowspan=\"2\" valign=\"top\">2020-03-05</th>\n",
       "      <th>False</th>\n",
       "      <td>1.274133</td>\n",
       "      <td>68003</td>\n",
       "      <td>53372</td>\n",
       "    </tr>\n",
       "    <tr>\n",
       "      <th>True</th>\n",
       "      <td>1.382080</td>\n",
       "      <td>4026</td>\n",
       "      <td>2913</td>\n",
       "    </tr>\n",
       "    <tr>\n",
       "      <th rowspan=\"2\" valign=\"top\">2020-03-06</th>\n",
       "      <th>False</th>\n",
       "      <td>1.256989</td>\n",
       "      <td>64608</td>\n",
       "      <td>51399</td>\n",
       "    </tr>\n",
       "    <tr>\n",
       "      <th>True</th>\n",
       "      <td>1.389754</td>\n",
       "      <td>4015</td>\n",
       "      <td>2889</td>\n",
       "    </tr>\n",
       "    <tr>\n",
       "      <th rowspan=\"2\" valign=\"top\">2020-03-07</th>\n",
       "      <th>False</th>\n",
       "      <td>1.281497</td>\n",
       "      <td>67854</td>\n",
       "      <td>52949</td>\n",
       "    </tr>\n",
       "    <tr>\n",
       "      <th>True</th>\n",
       "      <td>1.424295</td>\n",
       "      <td>4139</td>\n",
       "      <td>2906</td>\n",
       "    </tr>\n",
       "    <tr>\n",
       "      <th rowspan=\"2\" valign=\"top\">2020-03-08</th>\n",
       "      <th>False</th>\n",
       "      <td>1.284005</td>\n",
       "      <td>70402</td>\n",
       "      <td>54830</td>\n",
       "    </tr>\n",
       "    <tr>\n",
       "      <th>True</th>\n",
       "      <td>1.416748</td>\n",
       "      <td>4348</td>\n",
       "      <td>3069</td>\n",
       "    </tr>\n",
       "    <tr>\n",
       "      <th rowspan=\"2\" valign=\"top\">2020-03-09</th>\n",
       "      <th>False</th>\n",
       "      <td>1.279926</td>\n",
       "      <td>74205</td>\n",
       "      <td>57976</td>\n",
       "    </tr>\n",
       "    <tr>\n",
       "      <th>True</th>\n",
       "      <td>1.398100</td>\n",
       "      <td>4562</td>\n",
       "      <td>3263</td>\n",
       "    </tr>\n",
       "    <tr>\n",
       "      <th rowspan=\"2\" valign=\"top\">2020-03-10</th>\n",
       "      <th>False</th>\n",
       "      <td>1.285130</td>\n",
       "      <td>71353</td>\n",
       "      <td>55522</td>\n",
       "    </tr>\n",
       "    <tr>\n",
       "      <th>True</th>\n",
       "      <td>1.377244</td>\n",
       "      <td>4297</td>\n",
       "      <td>3120</td>\n",
       "    </tr>\n",
       "    <tr>\n",
       "      <th rowspan=\"2\" valign=\"top\">2020-03-11</th>\n",
       "      <th>False</th>\n",
       "      <td>1.265064</td>\n",
       "      <td>60212</td>\n",
       "      <td>47596</td>\n",
       "    </tr>\n",
       "    <tr>\n",
       "      <th>True</th>\n",
       "      <td>1.437786</td>\n",
       "      <td>3767</td>\n",
       "      <td>2620</td>\n",
       "    </tr>\n",
       "  </tbody>\n",
       "</table>\n",
       "</div>"
      ],
      "text/plain": [
       "                                    count              \n",
       "                                     mean    sum  count\n",
       "country_code date       is_test                        \n",
       "hk           2020-03-02 False    1.183359  12843  10853\n",
       "                        True     1.188679   1134    954\n",
       "             2020-03-03 False    1.194604  12664  10601\n",
       "                        True     1.320000   1122    850\n",
       "             2020-03-04 False    1.190328  12652  10629\n",
       "                        True     1.277974   1085    849\n",
       "             2020-03-05 False    1.195849  11870   9926\n",
       "                        True     1.269767   1092    860\n",
       "             2020-03-06 False    1.193217  11610   9730\n",
       "                        True     1.288750   1031    800\n",
       "             2020-03-07 False    1.192640  11992  10055\n",
       "                        True     1.216867   1010    830\n",
       "             2020-03-08 False    1.180092  12057  10217\n",
       "                        True     1.248268   1081    866\n",
       "             2020-03-09 False    1.197668  12530  10462\n",
       "                        True     1.307779   1160    887\n",
       "             2020-03-10 False    1.199593  11792   9830\n",
       "                        True     1.250975    962    769\n",
       "             2020-03-11 False    1.197319   9648   8058\n",
       "                        True     1.267296    806    636\n",
       "sg           2020-03-02 False    1.279509  70698  55254\n",
       "                        True     1.397863   4318   3089\n",
       "             2020-03-03 False    1.275886  69805  54711\n",
       "                        True     1.404172   4308   3068\n",
       "             2020-03-04 False    1.273249  68814  54046\n",
       "                        True     1.387657   4317   3111\n",
       "             2020-03-05 False    1.274133  68003  53372\n",
       "                        True     1.382080   4026   2913\n",
       "             2020-03-06 False    1.256989  64608  51399\n",
       "                        True     1.389754   4015   2889\n",
       "             2020-03-07 False    1.281497  67854  52949\n",
       "                        True     1.424295   4139   2906\n",
       "             2020-03-08 False    1.284005  70402  54830\n",
       "                        True     1.416748   4348   3069\n",
       "             2020-03-09 False    1.279926  74205  57976\n",
       "                        True     1.398100   4562   3263\n",
       "             2020-03-10 False    1.285130  71353  55522\n",
       "                        True     1.377244   4297   3120\n",
       "             2020-03-11 False    1.265064  60212  47596\n",
       "                        True     1.437786   3767   2620"
      ]
     },
     "execution_count": 859,
     "metadata": {},
     "output_type": "execute_result"
    }
   ],
   "source": [
    "exclude_user_with_more_than_pageviews = 10\n",
    "average_pageviews_per_user_per_day = pageviews_per_user_per_day[pageviews_per_user_per_day[\"count\"]<=exclude_user_with_more_than_pageviews]\\\n",
    "    .groupby([\"country_code\",\"date\", \"is_test\"])\\\n",
    "    .agg({\"count\":[\"mean\", \"sum\", \"count\"]}) #, \"count\":\"sum\", \"count\":\"sum\"})\n",
    "average_pageviews_per_user_per_day"
   ]
  },
  {
   "cell_type": "code",
   "execution_count": null,
   "metadata": {},
   "outputs": [],
   "source": [
    "average_pageviews_per_user_per_day.rename(columns={\"sum\":\"num_pageviews\", \"count\":\"num_users\", \"mean\":\"pageviews_per_user\"}, level=1, inplace=True)"
   ]
  },
  {
   "cell_type": "code",
   "execution_count": null,
   "metadata": {},
   "outputs": [
    {
     "data": {
      "text/html": [
       "<div>\n",
       "<style scoped>\n",
       "    .dataframe tbody tr th:only-of-type {\n",
       "        vertical-align: middle;\n",
       "    }\n",
       "\n",
       "    .dataframe tbody tr th {\n",
       "        vertical-align: top;\n",
       "    }\n",
       "\n",
       "    .dataframe thead tr th {\n",
       "        text-align: left;\n",
       "    }\n",
       "</style>\n",
       "<table border=\"1\" class=\"dataframe\">\n",
       "  <thead>\n",
       "    <tr>\n",
       "      <th></th>\n",
       "      <th>country_code</th>\n",
       "      <th>date</th>\n",
       "      <th>is_test</th>\n",
       "      <th colspan=\"3\" halign=\"left\">aggregates</th>\n",
       "    </tr>\n",
       "    <tr>\n",
       "      <th></th>\n",
       "      <th></th>\n",
       "      <th></th>\n",
       "      <th></th>\n",
       "      <th>pageviews_per_user</th>\n",
       "      <th>num_pageviews</th>\n",
       "      <th>num_users</th>\n",
       "    </tr>\n",
       "  </thead>\n",
       "  <tbody>\n",
       "    <tr>\n",
       "      <th>0</th>\n",
       "      <td>hk</td>\n",
       "      <td>2020-03-02</td>\n",
       "      <td>False</td>\n",
       "      <td>1.183359</td>\n",
       "      <td>12843</td>\n",
       "      <td>10853</td>\n",
       "    </tr>\n",
       "    <tr>\n",
       "      <th>1</th>\n",
       "      <td>hk</td>\n",
       "      <td>2020-03-02</td>\n",
       "      <td>True</td>\n",
       "      <td>1.188679</td>\n",
       "      <td>1134</td>\n",
       "      <td>954</td>\n",
       "    </tr>\n",
       "    <tr>\n",
       "      <th>2</th>\n",
       "      <td>hk</td>\n",
       "      <td>2020-03-03</td>\n",
       "      <td>False</td>\n",
       "      <td>1.194604</td>\n",
       "      <td>12664</td>\n",
       "      <td>10601</td>\n",
       "    </tr>\n",
       "    <tr>\n",
       "      <th>3</th>\n",
       "      <td>hk</td>\n",
       "      <td>2020-03-03</td>\n",
       "      <td>True</td>\n",
       "      <td>1.320000</td>\n",
       "      <td>1122</td>\n",
       "      <td>850</td>\n",
       "    </tr>\n",
       "    <tr>\n",
       "      <th>4</th>\n",
       "      <td>hk</td>\n",
       "      <td>2020-03-04</td>\n",
       "      <td>False</td>\n",
       "      <td>1.190328</td>\n",
       "      <td>12652</td>\n",
       "      <td>10629</td>\n",
       "    </tr>\n",
       "    <tr>\n",
       "      <th>5</th>\n",
       "      <td>hk</td>\n",
       "      <td>2020-03-04</td>\n",
       "      <td>True</td>\n",
       "      <td>1.277974</td>\n",
       "      <td>1085</td>\n",
       "      <td>849</td>\n",
       "    </tr>\n",
       "    <tr>\n",
       "      <th>6</th>\n",
       "      <td>hk</td>\n",
       "      <td>2020-03-05</td>\n",
       "      <td>False</td>\n",
       "      <td>1.195849</td>\n",
       "      <td>11870</td>\n",
       "      <td>9926</td>\n",
       "    </tr>\n",
       "    <tr>\n",
       "      <th>7</th>\n",
       "      <td>hk</td>\n",
       "      <td>2020-03-05</td>\n",
       "      <td>True</td>\n",
       "      <td>1.269767</td>\n",
       "      <td>1092</td>\n",
       "      <td>860</td>\n",
       "    </tr>\n",
       "    <tr>\n",
       "      <th>8</th>\n",
       "      <td>hk</td>\n",
       "      <td>2020-03-06</td>\n",
       "      <td>False</td>\n",
       "      <td>1.193217</td>\n",
       "      <td>11610</td>\n",
       "      <td>9730</td>\n",
       "    </tr>\n",
       "    <tr>\n",
       "      <th>9</th>\n",
       "      <td>hk</td>\n",
       "      <td>2020-03-06</td>\n",
       "      <td>True</td>\n",
       "      <td>1.288750</td>\n",
       "      <td>1031</td>\n",
       "      <td>800</td>\n",
       "    </tr>\n",
       "    <tr>\n",
       "      <th>10</th>\n",
       "      <td>hk</td>\n",
       "      <td>2020-03-07</td>\n",
       "      <td>False</td>\n",
       "      <td>1.192640</td>\n",
       "      <td>11992</td>\n",
       "      <td>10055</td>\n",
       "    </tr>\n",
       "    <tr>\n",
       "      <th>11</th>\n",
       "      <td>hk</td>\n",
       "      <td>2020-03-07</td>\n",
       "      <td>True</td>\n",
       "      <td>1.216867</td>\n",
       "      <td>1010</td>\n",
       "      <td>830</td>\n",
       "    </tr>\n",
       "    <tr>\n",
       "      <th>12</th>\n",
       "      <td>hk</td>\n",
       "      <td>2020-03-08</td>\n",
       "      <td>False</td>\n",
       "      <td>1.180092</td>\n",
       "      <td>12057</td>\n",
       "      <td>10217</td>\n",
       "    </tr>\n",
       "    <tr>\n",
       "      <th>13</th>\n",
       "      <td>hk</td>\n",
       "      <td>2020-03-08</td>\n",
       "      <td>True</td>\n",
       "      <td>1.248268</td>\n",
       "      <td>1081</td>\n",
       "      <td>866</td>\n",
       "    </tr>\n",
       "    <tr>\n",
       "      <th>14</th>\n",
       "      <td>hk</td>\n",
       "      <td>2020-03-09</td>\n",
       "      <td>False</td>\n",
       "      <td>1.197668</td>\n",
       "      <td>12530</td>\n",
       "      <td>10462</td>\n",
       "    </tr>\n",
       "    <tr>\n",
       "      <th>15</th>\n",
       "      <td>hk</td>\n",
       "      <td>2020-03-09</td>\n",
       "      <td>True</td>\n",
       "      <td>1.307779</td>\n",
       "      <td>1160</td>\n",
       "      <td>887</td>\n",
       "    </tr>\n",
       "    <tr>\n",
       "      <th>16</th>\n",
       "      <td>hk</td>\n",
       "      <td>2020-03-10</td>\n",
       "      <td>False</td>\n",
       "      <td>1.199593</td>\n",
       "      <td>11792</td>\n",
       "      <td>9830</td>\n",
       "    </tr>\n",
       "    <tr>\n",
       "      <th>17</th>\n",
       "      <td>hk</td>\n",
       "      <td>2020-03-10</td>\n",
       "      <td>True</td>\n",
       "      <td>1.250975</td>\n",
       "      <td>962</td>\n",
       "      <td>769</td>\n",
       "    </tr>\n",
       "    <tr>\n",
       "      <th>18</th>\n",
       "      <td>hk</td>\n",
       "      <td>2020-03-11</td>\n",
       "      <td>False</td>\n",
       "      <td>1.197319</td>\n",
       "      <td>9648</td>\n",
       "      <td>8058</td>\n",
       "    </tr>\n",
       "    <tr>\n",
       "      <th>19</th>\n",
       "      <td>hk</td>\n",
       "      <td>2020-03-11</td>\n",
       "      <td>True</td>\n",
       "      <td>1.267296</td>\n",
       "      <td>806</td>\n",
       "      <td>636</td>\n",
       "    </tr>\n",
       "    <tr>\n",
       "      <th>20</th>\n",
       "      <td>sg</td>\n",
       "      <td>2020-03-02</td>\n",
       "      <td>False</td>\n",
       "      <td>1.279509</td>\n",
       "      <td>70698</td>\n",
       "      <td>55254</td>\n",
       "    </tr>\n",
       "    <tr>\n",
       "      <th>21</th>\n",
       "      <td>sg</td>\n",
       "      <td>2020-03-02</td>\n",
       "      <td>True</td>\n",
       "      <td>1.397863</td>\n",
       "      <td>4318</td>\n",
       "      <td>3089</td>\n",
       "    </tr>\n",
       "    <tr>\n",
       "      <th>22</th>\n",
       "      <td>sg</td>\n",
       "      <td>2020-03-03</td>\n",
       "      <td>False</td>\n",
       "      <td>1.275886</td>\n",
       "      <td>69805</td>\n",
       "      <td>54711</td>\n",
       "    </tr>\n",
       "    <tr>\n",
       "      <th>23</th>\n",
       "      <td>sg</td>\n",
       "      <td>2020-03-03</td>\n",
       "      <td>True</td>\n",
       "      <td>1.404172</td>\n",
       "      <td>4308</td>\n",
       "      <td>3068</td>\n",
       "    </tr>\n",
       "    <tr>\n",
       "      <th>24</th>\n",
       "      <td>sg</td>\n",
       "      <td>2020-03-04</td>\n",
       "      <td>False</td>\n",
       "      <td>1.273249</td>\n",
       "      <td>68814</td>\n",
       "      <td>54046</td>\n",
       "    </tr>\n",
       "    <tr>\n",
       "      <th>25</th>\n",
       "      <td>sg</td>\n",
       "      <td>2020-03-04</td>\n",
       "      <td>True</td>\n",
       "      <td>1.387657</td>\n",
       "      <td>4317</td>\n",
       "      <td>3111</td>\n",
       "    </tr>\n",
       "    <tr>\n",
       "      <th>26</th>\n",
       "      <td>sg</td>\n",
       "      <td>2020-03-05</td>\n",
       "      <td>False</td>\n",
       "      <td>1.274133</td>\n",
       "      <td>68003</td>\n",
       "      <td>53372</td>\n",
       "    </tr>\n",
       "    <tr>\n",
       "      <th>27</th>\n",
       "      <td>sg</td>\n",
       "      <td>2020-03-05</td>\n",
       "      <td>True</td>\n",
       "      <td>1.382080</td>\n",
       "      <td>4026</td>\n",
       "      <td>2913</td>\n",
       "    </tr>\n",
       "    <tr>\n",
       "      <th>28</th>\n",
       "      <td>sg</td>\n",
       "      <td>2020-03-06</td>\n",
       "      <td>False</td>\n",
       "      <td>1.256989</td>\n",
       "      <td>64608</td>\n",
       "      <td>51399</td>\n",
       "    </tr>\n",
       "    <tr>\n",
       "      <th>29</th>\n",
       "      <td>sg</td>\n",
       "      <td>2020-03-06</td>\n",
       "      <td>True</td>\n",
       "      <td>1.389754</td>\n",
       "      <td>4015</td>\n",
       "      <td>2889</td>\n",
       "    </tr>\n",
       "    <tr>\n",
       "      <th>30</th>\n",
       "      <td>sg</td>\n",
       "      <td>2020-03-07</td>\n",
       "      <td>False</td>\n",
       "      <td>1.281497</td>\n",
       "      <td>67854</td>\n",
       "      <td>52949</td>\n",
       "    </tr>\n",
       "    <tr>\n",
       "      <th>31</th>\n",
       "      <td>sg</td>\n",
       "      <td>2020-03-07</td>\n",
       "      <td>True</td>\n",
       "      <td>1.424295</td>\n",
       "      <td>4139</td>\n",
       "      <td>2906</td>\n",
       "    </tr>\n",
       "    <tr>\n",
       "      <th>32</th>\n",
       "      <td>sg</td>\n",
       "      <td>2020-03-08</td>\n",
       "      <td>False</td>\n",
       "      <td>1.284005</td>\n",
       "      <td>70402</td>\n",
       "      <td>54830</td>\n",
       "    </tr>\n",
       "    <tr>\n",
       "      <th>33</th>\n",
       "      <td>sg</td>\n",
       "      <td>2020-03-08</td>\n",
       "      <td>True</td>\n",
       "      <td>1.416748</td>\n",
       "      <td>4348</td>\n",
       "      <td>3069</td>\n",
       "    </tr>\n",
       "    <tr>\n",
       "      <th>34</th>\n",
       "      <td>sg</td>\n",
       "      <td>2020-03-09</td>\n",
       "      <td>False</td>\n",
       "      <td>1.279926</td>\n",
       "      <td>74205</td>\n",
       "      <td>57976</td>\n",
       "    </tr>\n",
       "    <tr>\n",
       "      <th>35</th>\n",
       "      <td>sg</td>\n",
       "      <td>2020-03-09</td>\n",
       "      <td>True</td>\n",
       "      <td>1.398100</td>\n",
       "      <td>4562</td>\n",
       "      <td>3263</td>\n",
       "    </tr>\n",
       "    <tr>\n",
       "      <th>36</th>\n",
       "      <td>sg</td>\n",
       "      <td>2020-03-10</td>\n",
       "      <td>False</td>\n",
       "      <td>1.285130</td>\n",
       "      <td>71353</td>\n",
       "      <td>55522</td>\n",
       "    </tr>\n",
       "    <tr>\n",
       "      <th>37</th>\n",
       "      <td>sg</td>\n",
       "      <td>2020-03-10</td>\n",
       "      <td>True</td>\n",
       "      <td>1.377244</td>\n",
       "      <td>4297</td>\n",
       "      <td>3120</td>\n",
       "    </tr>\n",
       "    <tr>\n",
       "      <th>38</th>\n",
       "      <td>sg</td>\n",
       "      <td>2020-03-11</td>\n",
       "      <td>False</td>\n",
       "      <td>1.265064</td>\n",
       "      <td>60212</td>\n",
       "      <td>47596</td>\n",
       "    </tr>\n",
       "    <tr>\n",
       "      <th>39</th>\n",
       "      <td>sg</td>\n",
       "      <td>2020-03-11</td>\n",
       "      <td>True</td>\n",
       "      <td>1.437786</td>\n",
       "      <td>3767</td>\n",
       "      <td>2620</td>\n",
       "    </tr>\n",
       "  </tbody>\n",
       "</table>\n",
       "</div>"
      ],
      "text/plain": [
       "   country_code        date is_test         aggregates                        \n",
       "                                    pageviews_per_user num_pageviews num_users\n",
       "0            hk  2020-03-02   False           1.183359         12843     10853\n",
       "1            hk  2020-03-02    True           1.188679          1134       954\n",
       "2            hk  2020-03-03   False           1.194604         12664     10601\n",
       "3            hk  2020-03-03    True           1.320000          1122       850\n",
       "4            hk  2020-03-04   False           1.190328         12652     10629\n",
       "5            hk  2020-03-04    True           1.277974          1085       849\n",
       "6            hk  2020-03-05   False           1.195849         11870      9926\n",
       "7            hk  2020-03-05    True           1.269767          1092       860\n",
       "8            hk  2020-03-06   False           1.193217         11610      9730\n",
       "9            hk  2020-03-06    True           1.288750          1031       800\n",
       "10           hk  2020-03-07   False           1.192640         11992     10055\n",
       "11           hk  2020-03-07    True           1.216867          1010       830\n",
       "12           hk  2020-03-08   False           1.180092         12057     10217\n",
       "13           hk  2020-03-08    True           1.248268          1081       866\n",
       "14           hk  2020-03-09   False           1.197668         12530     10462\n",
       "15           hk  2020-03-09    True           1.307779          1160       887\n",
       "16           hk  2020-03-10   False           1.199593         11792      9830\n",
       "17           hk  2020-03-10    True           1.250975           962       769\n",
       "18           hk  2020-03-11   False           1.197319          9648      8058\n",
       "19           hk  2020-03-11    True           1.267296           806       636\n",
       "20           sg  2020-03-02   False           1.279509         70698     55254\n",
       "21           sg  2020-03-02    True           1.397863          4318      3089\n",
       "22           sg  2020-03-03   False           1.275886         69805     54711\n",
       "23           sg  2020-03-03    True           1.404172          4308      3068\n",
       "24           sg  2020-03-04   False           1.273249         68814     54046\n",
       "25           sg  2020-03-04    True           1.387657          4317      3111\n",
       "26           sg  2020-03-05   False           1.274133         68003     53372\n",
       "27           sg  2020-03-05    True           1.382080          4026      2913\n",
       "28           sg  2020-03-06   False           1.256989         64608     51399\n",
       "29           sg  2020-03-06    True           1.389754          4015      2889\n",
       "30           sg  2020-03-07   False           1.281497         67854     52949\n",
       "31           sg  2020-03-07    True           1.424295          4139      2906\n",
       "32           sg  2020-03-08   False           1.284005         70402     54830\n",
       "33           sg  2020-03-08    True           1.416748          4348      3069\n",
       "34           sg  2020-03-09   False           1.279926         74205     57976\n",
       "35           sg  2020-03-09    True           1.398100          4562      3263\n",
       "36           sg  2020-03-10   False           1.285130         71353     55522\n",
       "37           sg  2020-03-10    True           1.377244          4297      3120\n",
       "38           sg  2020-03-11   False           1.265064         60212     47596\n",
       "39           sg  2020-03-11    True           1.437786          3767      2620"
      ]
     },
     "execution_count": 861,
     "metadata": {},
     "output_type": "execute_result"
    }
   ],
   "source": [
    "#average_pageviews_per_user_per_day.columns =average_pageviews_per_user_per_day.columns.get_level_values(0)\n",
    "average_pageviews_per_user_per_day = average_pageviews_per_user_per_day.reset_index()\n",
    "average_pageviews_per_user_per_day.rename(columns={\"count\":\"aggregates\"}, level=0, inplace=True)\n",
    "#average_pageviews_per_user_per_day.rename(columns={average_pageviews_per_user_per_day.columns[3]:\"pageviews_per_user\", average_pageviews_per_user_per_day.columns[4]:\"pageviews\", average_pageviews_per_user_per_day.columns[5]:\"users\"},inplace=True)\n",
    "average_pageviews_per_user_per_day\n",
    "#TODO: sort out the column naming"
   ]
  },
  {
   "cell_type": "code",
   "execution_count": null,
   "metadata": {},
   "outputs": [],
   "source": []
  },
  {
   "cell_type": "code",
   "execution_count": null,
   "metadata": {},
   "outputs": [],
   "source": [
    "#test_pv = average_pageviews_per_user_per_day[average_pageviews_per_user_per_day.is_test]\n",
    "#control_pv = test_pv = average_pageviews_per_user_per_day[~average_pageviews_per_user_per_day.is_test]"
   ]
  },
  {
   "cell_type": "markdown",
   "metadata": {},
   "source": [
    "## Overall Summary Pageviews Per User\n",
    "\n",
    "The average here gives equal weighting per day, so might be distorted if you have a lot of variation between days and the traffic (or accuracy of those numbers say with splits changing ) changes by day\n"
   ]
  },
  {
   "cell_type": "code",
   "execution_count": null,
   "metadata": {},
   "outputs": [
    {
     "name": "stderr",
     "output_type": "stream",
     "text": [
      "PerformanceWarning: dropping on a non-lexsorted multi-index without a level parameter may impact performance.\n"
     ]
    }
   ],
   "source": [
    "pv_per_user_per_day_grouped_by_country = average_pageviews_per_user_per_day.groupby([\"country_code\", \"is_test\"]).mean()# .agg({[\"aggregates\", \"pageviews_per_user\"]:\"mean\"})\n",
    "#pv_per_user_per_day_grouped_by_country"
   ]
  },
  {
   "cell_type": "code",
   "execution_count": null,
   "metadata": {},
   "outputs": [],
   "source": [
    "pv_summary = pd.pivot_table(pv_per_user_per_day_grouped_by_country, index=[\"country_code\"], values=[\"aggregates\"], columns=[\"is_test\"], fill_value=\"\")[\"aggregates\"] #selecting aggregates removes top level\n",
    "pv_summary.rename(columns={\"pageviews_per_user\":\"pageviews_per_user_per_day\"}, inplace=True)\n",
    "#pv_summary\n"
   ]
  },
  {
   "cell_type": "code",
   "execution_count": null,
   "metadata": {},
   "outputs": [
    {
     "data": {
      "text/html": [
       "<style  type=\"text/css\" >\n",
       "    #T_00b9cac6_642d_11ea_8ff6_054989be1d01row0_col6 {\n",
       "            background-color:  rgb(0,255,0);\n",
       "        }    #T_00b9cac6_642d_11ea_8ff6_054989be1d01row1_col6 {\n",
       "            background-color:  rgb(0,255,0);\n",
       "        }</style><table id=\"T_00b9cac6_642d_11ea_8ff6_054989be1d01\" ><thead>    <tr>        <th class=\"blank level0\" ></th>        <th class=\"col_heading level0 col0\" colspan=2>num_pageviews</th>        <th class=\"col_heading level0 col2\" colspan=2>num_users</th>        <th class=\"col_heading level0 col4\" colspan=5>pageviews_per_user_per_day</th>        <th class=\"col_heading level0 col9\" >ab_split</th>    </tr>    <tr>        <th class=\"index_name level1\" >is_test</th>        <th class=\"col_heading level1 col0\" >False</th>        <th class=\"col_heading level1 col1\" >True</th>        <th class=\"col_heading level1 col2\" >False</th>        <th class=\"col_heading level1 col3\" >True</th>        <th class=\"col_heading level1 col4\" >False</th>        <th class=\"col_heading level1 col5\" >True</th>        <th class=\"col_heading level1 col6\" >v2_vs_v1</th>        <th class=\"col_heading level1 col7\" >v2_vs_v1_%</th>        <th class=\"col_heading level1 col8\" >v2_vs_v1_%_conversion_increase</th>        <th class=\"col_heading level1 col9\" ></th>    </tr>    <tr>        <th class=\"index_name level0\" >country_code</th>        <th class=\"blank\" ></th>        <th class=\"blank\" ></th>        <th class=\"blank\" ></th>        <th class=\"blank\" ></th>        <th class=\"blank\" ></th>        <th class=\"blank\" ></th>        <th class=\"blank\" ></th>        <th class=\"blank\" ></th>        <th class=\"blank\" ></th>        <th class=\"blank\" ></th>    </tr></thead><tbody>\n",
       "                <tr>\n",
       "                        <th id=\"T_00b9cac6_642d_11ea_8ff6_054989be1d01level0_row0\" class=\"row_heading level0 row0\" >hk</th>\n",
       "                        <td id=\"T_00b9cac6_642d_11ea_8ff6_054989be1d01row0_col0\" class=\"data row0 col0\" >11965.8</td>\n",
       "                        <td id=\"T_00b9cac6_642d_11ea_8ff6_054989be1d01row0_col1\" class=\"data row0 col1\" >1048.3</td>\n",
       "                        <td id=\"T_00b9cac6_642d_11ea_8ff6_054989be1d01row0_col2\" class=\"data row0 col2\" >10036.1</td>\n",
       "                        <td id=\"T_00b9cac6_642d_11ea_8ff6_054989be1d01row0_col3\" class=\"data row0 col3\" >830.1</td>\n",
       "                        <td id=\"T_00b9cac6_642d_11ea_8ff6_054989be1d01row0_col4\" class=\"data row0 col4\" >1.19247</td>\n",
       "                        <td id=\"T_00b9cac6_642d_11ea_8ff6_054989be1d01row0_col5\" class=\"data row0 col5\" >1.26364</td>\n",
       "                        <td id=\"T_00b9cac6_642d_11ea_8ff6_054989be1d01row0_col6\" class=\"data row0 col6\" >0.0711685</td>\n",
       "                        <td id=\"T_00b9cac6_642d_11ea_8ff6_054989be1d01row0_col7\" class=\"data row0 col7\" >5.96817</td>\n",
       "                        <td id=\"T_00b9cac6_642d_11ea_8ff6_054989be1d01row0_col8\" class=\"data row0 col8\" >36.977</td>\n",
       "                        <td id=\"T_00b9cac6_642d_11ea_8ff6_054989be1d01row0_col9\" class=\"data row0 col9\" >0.0805511</td>\n",
       "            </tr>\n",
       "            <tr>\n",
       "                        <th id=\"T_00b9cac6_642d_11ea_8ff6_054989be1d01level0_row1\" class=\"row_heading level0 row1\" >sg</th>\n",
       "                        <td id=\"T_00b9cac6_642d_11ea_8ff6_054989be1d01row1_col0\" class=\"data row1 col0\" >68595.4</td>\n",
       "                        <td id=\"T_00b9cac6_642d_11ea_8ff6_054989be1d01row1_col1\" class=\"data row1 col1\" >4209.7</td>\n",
       "                        <td id=\"T_00b9cac6_642d_11ea_8ff6_054989be1d01row1_col2\" class=\"data row1 col2\" >53765.5</td>\n",
       "                        <td id=\"T_00b9cac6_642d_11ea_8ff6_054989be1d01row1_col3\" class=\"data row1 col3\" >3004.8</td>\n",
       "                        <td id=\"T_00b9cac6_642d_11ea_8ff6_054989be1d01row1_col4\" class=\"data row1 col4\" >1.27554</td>\n",
       "                        <td id=\"T_00b9cac6_642d_11ea_8ff6_054989be1d01row1_col5\" class=\"data row1 col5\" >1.40157</td>\n",
       "                        <td id=\"T_00b9cac6_642d_11ea_8ff6_054989be1d01row1_col6\" class=\"data row1 col6\" >0.126031</td>\n",
       "                        <td id=\"T_00b9cac6_642d_11ea_8ff6_054989be1d01row1_col7\" class=\"data row1 col7\" >9.88061</td>\n",
       "                        <td id=\"T_00b9cac6_642d_11ea_8ff6_054989be1d01row1_col8\" class=\"data row1 col8\" >45.7398</td>\n",
       "                        <td id=\"T_00b9cac6_642d_11ea_8ff6_054989be1d01row1_col9\" class=\"data row1 col9\" >0.0578215</td>\n",
       "            </tr>\n",
       "    </tbody></table>"
      ],
      "text/plain": [
       "<pandas.io.formats.style.Styler at 0x7f04a5461668>"
      ]
     },
     "execution_count": 865,
     "metadata": {},
     "output_type": "execute_result"
    }
   ],
   "source": [
    "pv_summary[\"pageviews_per_user_per_day\", \"v2_vs_v1\"] = pv_summary[\"pageviews_per_user_per_day\", True]-pv_summary[\"pageviews_per_user_per_day\",False]\n",
    "\n",
    "pv_summary[\"pageviews_per_user_per_day\", \"v2_vs_v1_%\"] = (pv_summary[\"pageviews_per_user_per_day\", True]-pv_summary[\"pageviews_per_user_per_day\", False])/ pv_summary[\"pageviews_per_user_per_day\", False] *100\n",
    "\n",
    "\n",
    "pv_summary[\"pageviews_per_user_per_day\", \"v2_vs_v1_%_conversion_increase\"] = (pv_summary[\"pageviews_per_user_per_day\", True]-pv_summary[\"pageviews_per_user_per_day\", False])/ (pv_summary[\"pageviews_per_user_per_day\", False]-1) *100\n",
    "\n",
    "#pv_summary[\"pageviews_per_user_per_day\", \"v2_vs_v1_%_weighted\"] = (pv_summary[\"pageviews_per_user_per_day\", True]-pv_summary[\"pageviews_per_user_per_day\", False]) * (pv_summary[\"num_users\", True]+pv_summary[\"num_users\", False]) / (pv_summary[\"pageviews_per_user_per_day\", False] * (pv_summary[\"num_users\", True]+pv_summary[\"num_users\", False]).sum()) *100 #turn into %\n",
    "\n",
    "\n",
    "\n",
    "\n",
    "pv_summary.rename({\"num_pageviews\":\"average_pageviews_per_day\", \n",
    "                   \"num_users\":\"average_users_per_day\", \n",
    "                   \"pageviews_per_user_per_day\":\"average_pageviews_per_user_per_day\"\n",
    "                  }, inplace=True)  #TODO: this isn't working for some reason, but I swear it was.\n",
    "\n",
    "def color_summary(x):\n",
    "    \n",
    "    good_threshold = 0.03 # want it quite low.\n",
    "    if x<0:\n",
    "        return \"background-color:red\"\n",
    "    else:\n",
    "        \n",
    "        gf = min(x/ good_threshold *255, 255)\n",
    "        return \"background-color: rgb(%i,%i,%i)\" % (255 - gf, 255, 255-gf)\n",
    "\n",
    "pv_summary[\"ab_split\"] = pv_summary[ \"num_pageviews\", True] / (pv_summary[\"num_pageviews\", True] + pv_summary[\"num_pageviews\", False])\n",
    "\n",
    "#pv_summary.style.applymap(color_summary, subset=pd.IndexSlice[:,pd.IndexSlice[:,\"v2_vs_v1\"]]) \n",
    "pv_summary.style.applymap(color_summary, subset=pv_summary.columns.get_loc_level('v2_vs_v1', level=1)[0]) \n"
   ]
  },
  {
   "cell_type": "code",
   "execution_count": null,
   "metadata": {},
   "outputs": [],
   "source": []
  },
  {
   "cell_type": "markdown",
   "metadata": {},
   "source": [
    "## Pageviews Per User Broken down by Day"
   ]
  },
  {
   "cell_type": "code",
   "execution_count": null,
   "metadata": {},
   "outputs": [
    {
     "name": "stderr",
     "output_type": "stream",
     "text": [
      "PerformanceWarning: dropping on a non-lexsorted multi-index without a level parameter may impact performance.\n"
     ]
    }
   ],
   "source": [
    "pv = pd.pivot_table(average_pageviews_per_user_per_day, index=[\"country_code\", \"date\"], values=[\"aggregates\"], columns=[\"is_test\"], fill_value=\"\")\n"
   ]
  },
  {
   "cell_type": "code",
   "execution_count": null,
   "metadata": {},
   "outputs": [],
   "source": []
  },
  {
   "cell_type": "code",
   "execution_count": null,
   "metadata": {},
   "outputs": [],
   "source": []
  },
  {
   "cell_type": "code",
   "execution_count": null,
   "metadata": {},
   "outputs": [],
   "source": [
    "pv[\"aggregates\", \"pageviews_per_user\", \"v2_vs_v1\"] = pv[\"aggregates\", \"pageviews_per_user\", True] - pv[\"aggregates\", \"pageviews_per_user\", False]\n",
    "pv[\"aggregates\", \"num_pageviews\", \"ab_split\"] = pv[\"aggregates\", \"num_pageviews\", True] / (pv[\"aggregates\", \"num_pageviews\", True] + pv[\"aggregates\", \"num_pageviews\", False])\n"
   ]
  },
  {
   "cell_type": "code",
   "execution_count": null,
   "metadata": {},
   "outputs": [
    {
     "data": {
      "text/html": [
       "<style  type=\"text/css\" >\n",
       "</style><table id=\"T_016a2e84_642d_11ea_8ff6_054989be1d01\" ><thead>    <tr>        <th class=\"blank\" ></th>        <th class=\"blank level0\" ></th>        <th class=\"col_heading level0 col0\" colspan=8>aggregates</th>    </tr>    <tr>        <th class=\"blank\" ></th>        <th class=\"blank level1\" ></th>        <th class=\"col_heading level1 col0\" colspan=2>num_pageviews</th>        <th class=\"col_heading level1 col2\" colspan=2>num_users</th>        <th class=\"col_heading level1 col4\" colspan=3>pageviews_per_user</th>        <th class=\"col_heading level1 col7\" >num_pageviews</th>    </tr>    <tr>        <th class=\"blank\" ></th>        <th class=\"index_name level2\" >is_test</th>        <th class=\"col_heading level2 col0\" >False</th>        <th class=\"col_heading level2 col1\" >True</th>        <th class=\"col_heading level2 col2\" >False</th>        <th class=\"col_heading level2 col3\" >True</th>        <th class=\"col_heading level2 col4\" >False</th>        <th class=\"col_heading level2 col5\" >True</th>        <th class=\"col_heading level2 col6\" >v2_vs_v1</th>        <th class=\"col_heading level2 col7\" >ab_split</th>    </tr>    <tr>        <th class=\"index_name level0\" >country_code</th>        <th class=\"index_name level1\" >date</th>        <th class=\"blank\" ></th>        <th class=\"blank\" ></th>        <th class=\"blank\" ></th>        <th class=\"blank\" ></th>        <th class=\"blank\" ></th>        <th class=\"blank\" ></th>        <th class=\"blank\" ></th>        <th class=\"blank\" ></th>    </tr></thead><tbody>\n",
       "                <tr>\n",
       "                        <th id=\"T_016a2e84_642d_11ea_8ff6_054989be1d01level0_row0\" class=\"row_heading level0 row0\" rowspan=10>hk</th>\n",
       "                        <th id=\"T_016a2e84_642d_11ea_8ff6_054989be1d01level1_row0\" class=\"row_heading level1 row0\" >2020-03-02</th>\n",
       "                        <td id=\"T_016a2e84_642d_11ea_8ff6_054989be1d01row0_col0\" class=\"data row0 col0\" >12843</td>\n",
       "                        <td id=\"T_016a2e84_642d_11ea_8ff6_054989be1d01row0_col1\" class=\"data row0 col1\" >1134</td>\n",
       "                        <td id=\"T_016a2e84_642d_11ea_8ff6_054989be1d01row0_col2\" class=\"data row0 col2\" >10853</td>\n",
       "                        <td id=\"T_016a2e84_642d_11ea_8ff6_054989be1d01row0_col3\" class=\"data row0 col3\" >954</td>\n",
       "                        <td id=\"T_016a2e84_642d_11ea_8ff6_054989be1d01row0_col4\" class=\"data row0 col4\" >1.18336</td>\n",
       "                        <td id=\"T_016a2e84_642d_11ea_8ff6_054989be1d01row0_col5\" class=\"data row0 col5\" >1.18868</td>\n",
       "                        <td id=\"T_016a2e84_642d_11ea_8ff6_054989be1d01row0_col6\" class=\"data row0 col6\" >0.00531981</td>\n",
       "                        <td id=\"T_016a2e84_642d_11ea_8ff6_054989be1d01row0_col7\" class=\"data row0 col7\" >0.0811333</td>\n",
       "            </tr>\n",
       "            <tr>\n",
       "                                <th id=\"T_016a2e84_642d_11ea_8ff6_054989be1d01level1_row1\" class=\"row_heading level1 row1\" >2020-03-03</th>\n",
       "                        <td id=\"T_016a2e84_642d_11ea_8ff6_054989be1d01row1_col0\" class=\"data row1 col0\" >12664</td>\n",
       "                        <td id=\"T_016a2e84_642d_11ea_8ff6_054989be1d01row1_col1\" class=\"data row1 col1\" >1122</td>\n",
       "                        <td id=\"T_016a2e84_642d_11ea_8ff6_054989be1d01row1_col2\" class=\"data row1 col2\" >10601</td>\n",
       "                        <td id=\"T_016a2e84_642d_11ea_8ff6_054989be1d01row1_col3\" class=\"data row1 col3\" >850</td>\n",
       "                        <td id=\"T_016a2e84_642d_11ea_8ff6_054989be1d01row1_col4\" class=\"data row1 col4\" >1.1946</td>\n",
       "                        <td id=\"T_016a2e84_642d_11ea_8ff6_054989be1d01row1_col5\" class=\"data row1 col5\" >1.32</td>\n",
       "                        <td id=\"T_016a2e84_642d_11ea_8ff6_054989be1d01row1_col6\" class=\"data row1 col6\" >0.125396</td>\n",
       "                        <td id=\"T_016a2e84_642d_11ea_8ff6_054989be1d01row1_col7\" class=\"data row1 col7\" >0.0813869</td>\n",
       "            </tr>\n",
       "            <tr>\n",
       "                                <th id=\"T_016a2e84_642d_11ea_8ff6_054989be1d01level1_row2\" class=\"row_heading level1 row2\" >2020-03-04</th>\n",
       "                        <td id=\"T_016a2e84_642d_11ea_8ff6_054989be1d01row2_col0\" class=\"data row2 col0\" >12652</td>\n",
       "                        <td id=\"T_016a2e84_642d_11ea_8ff6_054989be1d01row2_col1\" class=\"data row2 col1\" >1085</td>\n",
       "                        <td id=\"T_016a2e84_642d_11ea_8ff6_054989be1d01row2_col2\" class=\"data row2 col2\" >10629</td>\n",
       "                        <td id=\"T_016a2e84_642d_11ea_8ff6_054989be1d01row2_col3\" class=\"data row2 col3\" >849</td>\n",
       "                        <td id=\"T_016a2e84_642d_11ea_8ff6_054989be1d01row2_col4\" class=\"data row2 col4\" >1.19033</td>\n",
       "                        <td id=\"T_016a2e84_642d_11ea_8ff6_054989be1d01row2_col5\" class=\"data row2 col5\" >1.27797</td>\n",
       "                        <td id=\"T_016a2e84_642d_11ea_8ff6_054989be1d01row2_col6\" class=\"data row2 col6\" >0.0876457</td>\n",
       "                        <td id=\"T_016a2e84_642d_11ea_8ff6_054989be1d01row2_col7\" class=\"data row2 col7\" >0.0789838</td>\n",
       "            </tr>\n",
       "            <tr>\n",
       "                                <th id=\"T_016a2e84_642d_11ea_8ff6_054989be1d01level1_row3\" class=\"row_heading level1 row3\" >2020-03-05</th>\n",
       "                        <td id=\"T_016a2e84_642d_11ea_8ff6_054989be1d01row3_col0\" class=\"data row3 col0\" >11870</td>\n",
       "                        <td id=\"T_016a2e84_642d_11ea_8ff6_054989be1d01row3_col1\" class=\"data row3 col1\" >1092</td>\n",
       "                        <td id=\"T_016a2e84_642d_11ea_8ff6_054989be1d01row3_col2\" class=\"data row3 col2\" >9926</td>\n",
       "                        <td id=\"T_016a2e84_642d_11ea_8ff6_054989be1d01row3_col3\" class=\"data row3 col3\" >860</td>\n",
       "                        <td id=\"T_016a2e84_642d_11ea_8ff6_054989be1d01row3_col4\" class=\"data row3 col4\" >1.19585</td>\n",
       "                        <td id=\"T_016a2e84_642d_11ea_8ff6_054989be1d01row3_col5\" class=\"data row3 col5\" >1.26977</td>\n",
       "                        <td id=\"T_016a2e84_642d_11ea_8ff6_054989be1d01row3_col6\" class=\"data row3 col6\" >0.0739182</td>\n",
       "                        <td id=\"T_016a2e84_642d_11ea_8ff6_054989be1d01row3_col7\" class=\"data row3 col7\" >0.0842463</td>\n",
       "            </tr>\n",
       "            <tr>\n",
       "                                <th id=\"T_016a2e84_642d_11ea_8ff6_054989be1d01level1_row4\" class=\"row_heading level1 row4\" >2020-03-06</th>\n",
       "                        <td id=\"T_016a2e84_642d_11ea_8ff6_054989be1d01row4_col0\" class=\"data row4 col0\" >11610</td>\n",
       "                        <td id=\"T_016a2e84_642d_11ea_8ff6_054989be1d01row4_col1\" class=\"data row4 col1\" >1031</td>\n",
       "                        <td id=\"T_016a2e84_642d_11ea_8ff6_054989be1d01row4_col2\" class=\"data row4 col2\" >9730</td>\n",
       "                        <td id=\"T_016a2e84_642d_11ea_8ff6_054989be1d01row4_col3\" class=\"data row4 col3\" >800</td>\n",
       "                        <td id=\"T_016a2e84_642d_11ea_8ff6_054989be1d01row4_col4\" class=\"data row4 col4\" >1.19322</td>\n",
       "                        <td id=\"T_016a2e84_642d_11ea_8ff6_054989be1d01row4_col5\" class=\"data row4 col5\" >1.28875</td>\n",
       "                        <td id=\"T_016a2e84_642d_11ea_8ff6_054989be1d01row4_col6\" class=\"data row4 col6\" >0.0955331</td>\n",
       "                        <td id=\"T_016a2e84_642d_11ea_8ff6_054989be1d01row4_col7\" class=\"data row4 col7\" >0.08156</td>\n",
       "            </tr>\n",
       "            <tr>\n",
       "                                <th id=\"T_016a2e84_642d_11ea_8ff6_054989be1d01level1_row5\" class=\"row_heading level1 row5\" >2020-03-07</th>\n",
       "                        <td id=\"T_016a2e84_642d_11ea_8ff6_054989be1d01row5_col0\" class=\"data row5 col0\" >11992</td>\n",
       "                        <td id=\"T_016a2e84_642d_11ea_8ff6_054989be1d01row5_col1\" class=\"data row5 col1\" >1010</td>\n",
       "                        <td id=\"T_016a2e84_642d_11ea_8ff6_054989be1d01row5_col2\" class=\"data row5 col2\" >10055</td>\n",
       "                        <td id=\"T_016a2e84_642d_11ea_8ff6_054989be1d01row5_col3\" class=\"data row5 col3\" >830</td>\n",
       "                        <td id=\"T_016a2e84_642d_11ea_8ff6_054989be1d01row5_col4\" class=\"data row5 col4\" >1.19264</td>\n",
       "                        <td id=\"T_016a2e84_642d_11ea_8ff6_054989be1d01row5_col5\" class=\"data row5 col5\" >1.21687</td>\n",
       "                        <td id=\"T_016a2e84_642d_11ea_8ff6_054989be1d01row5_col6\" class=\"data row5 col6\" >0.024227</td>\n",
       "                        <td id=\"T_016a2e84_642d_11ea_8ff6_054989be1d01row5_col7\" class=\"data row5 col7\" >0.0776804</td>\n",
       "            </tr>\n",
       "            <tr>\n",
       "                                <th id=\"T_016a2e84_642d_11ea_8ff6_054989be1d01level1_row6\" class=\"row_heading level1 row6\" >2020-03-08</th>\n",
       "                        <td id=\"T_016a2e84_642d_11ea_8ff6_054989be1d01row6_col0\" class=\"data row6 col0\" >12057</td>\n",
       "                        <td id=\"T_016a2e84_642d_11ea_8ff6_054989be1d01row6_col1\" class=\"data row6 col1\" >1081</td>\n",
       "                        <td id=\"T_016a2e84_642d_11ea_8ff6_054989be1d01row6_col2\" class=\"data row6 col2\" >10217</td>\n",
       "                        <td id=\"T_016a2e84_642d_11ea_8ff6_054989be1d01row6_col3\" class=\"data row6 col3\" >866</td>\n",
       "                        <td id=\"T_016a2e84_642d_11ea_8ff6_054989be1d01row6_col4\" class=\"data row6 col4\" >1.18009</td>\n",
       "                        <td id=\"T_016a2e84_642d_11ea_8ff6_054989be1d01row6_col5\" class=\"data row6 col5\" >1.24827</td>\n",
       "                        <td id=\"T_016a2e84_642d_11ea_8ff6_054989be1d01row6_col6\" class=\"data row6 col6\" >0.0681759</td>\n",
       "                        <td id=\"T_016a2e84_642d_11ea_8ff6_054989be1d01row6_col7\" class=\"data row6 col7\" >0.0822804</td>\n",
       "            </tr>\n",
       "            <tr>\n",
       "                                <th id=\"T_016a2e84_642d_11ea_8ff6_054989be1d01level1_row7\" class=\"row_heading level1 row7\" >2020-03-09</th>\n",
       "                        <td id=\"T_016a2e84_642d_11ea_8ff6_054989be1d01row7_col0\" class=\"data row7 col0\" >12530</td>\n",
       "                        <td id=\"T_016a2e84_642d_11ea_8ff6_054989be1d01row7_col1\" class=\"data row7 col1\" >1160</td>\n",
       "                        <td id=\"T_016a2e84_642d_11ea_8ff6_054989be1d01row7_col2\" class=\"data row7 col2\" >10462</td>\n",
       "                        <td id=\"T_016a2e84_642d_11ea_8ff6_054989be1d01row7_col3\" class=\"data row7 col3\" >887</td>\n",
       "                        <td id=\"T_016a2e84_642d_11ea_8ff6_054989be1d01row7_col4\" class=\"data row7 col4\" >1.19767</td>\n",
       "                        <td id=\"T_016a2e84_642d_11ea_8ff6_054989be1d01row7_col5\" class=\"data row7 col5\" >1.30778</td>\n",
       "                        <td id=\"T_016a2e84_642d_11ea_8ff6_054989be1d01row7_col6\" class=\"data row7 col6\" >0.110111</td>\n",
       "                        <td id=\"T_016a2e84_642d_11ea_8ff6_054989be1d01row7_col7\" class=\"data row7 col7\" >0.0847334</td>\n",
       "            </tr>\n",
       "            <tr>\n",
       "                                <th id=\"T_016a2e84_642d_11ea_8ff6_054989be1d01level1_row8\" class=\"row_heading level1 row8\" >2020-03-10</th>\n",
       "                        <td id=\"T_016a2e84_642d_11ea_8ff6_054989be1d01row8_col0\" class=\"data row8 col0\" >11792</td>\n",
       "                        <td id=\"T_016a2e84_642d_11ea_8ff6_054989be1d01row8_col1\" class=\"data row8 col1\" >962</td>\n",
       "                        <td id=\"T_016a2e84_642d_11ea_8ff6_054989be1d01row8_col2\" class=\"data row8 col2\" >9830</td>\n",
       "                        <td id=\"T_016a2e84_642d_11ea_8ff6_054989be1d01row8_col3\" class=\"data row8 col3\" >769</td>\n",
       "                        <td id=\"T_016a2e84_642d_11ea_8ff6_054989be1d01row8_col4\" class=\"data row8 col4\" >1.19959</td>\n",
       "                        <td id=\"T_016a2e84_642d_11ea_8ff6_054989be1d01row8_col5\" class=\"data row8 col5\" >1.25098</td>\n",
       "                        <td id=\"T_016a2e84_642d_11ea_8ff6_054989be1d01row8_col6\" class=\"data row8 col6\" >0.0513822</td>\n",
       "                        <td id=\"T_016a2e84_642d_11ea_8ff6_054989be1d01row8_col7\" class=\"data row8 col7\" >0.0754273</td>\n",
       "            </tr>\n",
       "            <tr>\n",
       "                                <th id=\"T_016a2e84_642d_11ea_8ff6_054989be1d01level1_row9\" class=\"row_heading level1 row9\" >2020-03-11</th>\n",
       "                        <td id=\"T_016a2e84_642d_11ea_8ff6_054989be1d01row9_col0\" class=\"data row9 col0\" >9648</td>\n",
       "                        <td id=\"T_016a2e84_642d_11ea_8ff6_054989be1d01row9_col1\" class=\"data row9 col1\" >806</td>\n",
       "                        <td id=\"T_016a2e84_642d_11ea_8ff6_054989be1d01row9_col2\" class=\"data row9 col2\" >8058</td>\n",
       "                        <td id=\"T_016a2e84_642d_11ea_8ff6_054989be1d01row9_col3\" class=\"data row9 col3\" >636</td>\n",
       "                        <td id=\"T_016a2e84_642d_11ea_8ff6_054989be1d01row9_col4\" class=\"data row9 col4\" >1.19732</td>\n",
       "                        <td id=\"T_016a2e84_642d_11ea_8ff6_054989be1d01row9_col5\" class=\"data row9 col5\" >1.2673</td>\n",
       "                        <td id=\"T_016a2e84_642d_11ea_8ff6_054989be1d01row9_col6\" class=\"data row9 col6\" >0.0699762</td>\n",
       "                        <td id=\"T_016a2e84_642d_11ea_8ff6_054989be1d01row9_col7\" class=\"data row9 col7\" >0.0770997</td>\n",
       "            </tr>\n",
       "            <tr>\n",
       "                        <th id=\"T_016a2e84_642d_11ea_8ff6_054989be1d01level0_row10\" class=\"row_heading level0 row10\" rowspan=10>sg</th>\n",
       "                        <th id=\"T_016a2e84_642d_11ea_8ff6_054989be1d01level1_row10\" class=\"row_heading level1 row10\" >2020-03-02</th>\n",
       "                        <td id=\"T_016a2e84_642d_11ea_8ff6_054989be1d01row10_col0\" class=\"data row10 col0\" >70698</td>\n",
       "                        <td id=\"T_016a2e84_642d_11ea_8ff6_054989be1d01row10_col1\" class=\"data row10 col1\" >4318</td>\n",
       "                        <td id=\"T_016a2e84_642d_11ea_8ff6_054989be1d01row10_col2\" class=\"data row10 col2\" >55254</td>\n",
       "                        <td id=\"T_016a2e84_642d_11ea_8ff6_054989be1d01row10_col3\" class=\"data row10 col3\" >3089</td>\n",
       "                        <td id=\"T_016a2e84_642d_11ea_8ff6_054989be1d01row10_col4\" class=\"data row10 col4\" >1.27951</td>\n",
       "                        <td id=\"T_016a2e84_642d_11ea_8ff6_054989be1d01row10_col5\" class=\"data row10 col5\" >1.39786</td>\n",
       "                        <td id=\"T_016a2e84_642d_11ea_8ff6_054989be1d01row10_col6\" class=\"data row10 col6\" >0.118354</td>\n",
       "                        <td id=\"T_016a2e84_642d_11ea_8ff6_054989be1d01row10_col7\" class=\"data row10 col7\" >0.0575611</td>\n",
       "            </tr>\n",
       "            <tr>\n",
       "                                <th id=\"T_016a2e84_642d_11ea_8ff6_054989be1d01level1_row11\" class=\"row_heading level1 row11\" >2020-03-03</th>\n",
       "                        <td id=\"T_016a2e84_642d_11ea_8ff6_054989be1d01row11_col0\" class=\"data row11 col0\" >69805</td>\n",
       "                        <td id=\"T_016a2e84_642d_11ea_8ff6_054989be1d01row11_col1\" class=\"data row11 col1\" >4308</td>\n",
       "                        <td id=\"T_016a2e84_642d_11ea_8ff6_054989be1d01row11_col2\" class=\"data row11 col2\" >54711</td>\n",
       "                        <td id=\"T_016a2e84_642d_11ea_8ff6_054989be1d01row11_col3\" class=\"data row11 col3\" >3068</td>\n",
       "                        <td id=\"T_016a2e84_642d_11ea_8ff6_054989be1d01row11_col4\" class=\"data row11 col4\" >1.27589</td>\n",
       "                        <td id=\"T_016a2e84_642d_11ea_8ff6_054989be1d01row11_col5\" class=\"data row11 col5\" >1.40417</td>\n",
       "                        <td id=\"T_016a2e84_642d_11ea_8ff6_054989be1d01row11_col6\" class=\"data row11 col6\" >0.128286</td>\n",
       "                        <td id=\"T_016a2e84_642d_11ea_8ff6_054989be1d01row11_col7\" class=\"data row11 col7\" >0.0581275</td>\n",
       "            </tr>\n",
       "            <tr>\n",
       "                                <th id=\"T_016a2e84_642d_11ea_8ff6_054989be1d01level1_row12\" class=\"row_heading level1 row12\" >2020-03-04</th>\n",
       "                        <td id=\"T_016a2e84_642d_11ea_8ff6_054989be1d01row12_col0\" class=\"data row12 col0\" >68814</td>\n",
       "                        <td id=\"T_016a2e84_642d_11ea_8ff6_054989be1d01row12_col1\" class=\"data row12 col1\" >4317</td>\n",
       "                        <td id=\"T_016a2e84_642d_11ea_8ff6_054989be1d01row12_col2\" class=\"data row12 col2\" >54046</td>\n",
       "                        <td id=\"T_016a2e84_642d_11ea_8ff6_054989be1d01row12_col3\" class=\"data row12 col3\" >3111</td>\n",
       "                        <td id=\"T_016a2e84_642d_11ea_8ff6_054989be1d01row12_col4\" class=\"data row12 col4\" >1.27325</td>\n",
       "                        <td id=\"T_016a2e84_642d_11ea_8ff6_054989be1d01row12_col5\" class=\"data row12 col5\" >1.38766</td>\n",
       "                        <td id=\"T_016a2e84_642d_11ea_8ff6_054989be1d01row12_col6\" class=\"data row12 col6\" >0.114408</td>\n",
       "                        <td id=\"T_016a2e84_642d_11ea_8ff6_054989be1d01row12_col7\" class=\"data row12 col7\" >0.0590311</td>\n",
       "            </tr>\n",
       "            <tr>\n",
       "                                <th id=\"T_016a2e84_642d_11ea_8ff6_054989be1d01level1_row13\" class=\"row_heading level1 row13\" >2020-03-05</th>\n",
       "                        <td id=\"T_016a2e84_642d_11ea_8ff6_054989be1d01row13_col0\" class=\"data row13 col0\" >68003</td>\n",
       "                        <td id=\"T_016a2e84_642d_11ea_8ff6_054989be1d01row13_col1\" class=\"data row13 col1\" >4026</td>\n",
       "                        <td id=\"T_016a2e84_642d_11ea_8ff6_054989be1d01row13_col2\" class=\"data row13 col2\" >53372</td>\n",
       "                        <td id=\"T_016a2e84_642d_11ea_8ff6_054989be1d01row13_col3\" class=\"data row13 col3\" >2913</td>\n",
       "                        <td id=\"T_016a2e84_642d_11ea_8ff6_054989be1d01row13_col4\" class=\"data row13 col4\" >1.27413</td>\n",
       "                        <td id=\"T_016a2e84_642d_11ea_8ff6_054989be1d01row13_col5\" class=\"data row13 col5\" >1.38208</td>\n",
       "                        <td id=\"T_016a2e84_642d_11ea_8ff6_054989be1d01row13_col6\" class=\"data row13 col6\" >0.107948</td>\n",
       "                        <td id=\"T_016a2e84_642d_11ea_8ff6_054989be1d01row13_col7\" class=\"data row13 col7\" >0.0558942</td>\n",
       "            </tr>\n",
       "            <tr>\n",
       "                                <th id=\"T_016a2e84_642d_11ea_8ff6_054989be1d01level1_row14\" class=\"row_heading level1 row14\" >2020-03-06</th>\n",
       "                        <td id=\"T_016a2e84_642d_11ea_8ff6_054989be1d01row14_col0\" class=\"data row14 col0\" >64608</td>\n",
       "                        <td id=\"T_016a2e84_642d_11ea_8ff6_054989be1d01row14_col1\" class=\"data row14 col1\" >4015</td>\n",
       "                        <td id=\"T_016a2e84_642d_11ea_8ff6_054989be1d01row14_col2\" class=\"data row14 col2\" >51399</td>\n",
       "                        <td id=\"T_016a2e84_642d_11ea_8ff6_054989be1d01row14_col3\" class=\"data row14 col3\" >2889</td>\n",
       "                        <td id=\"T_016a2e84_642d_11ea_8ff6_054989be1d01row14_col4\" class=\"data row14 col4\" >1.25699</td>\n",
       "                        <td id=\"T_016a2e84_642d_11ea_8ff6_054989be1d01row14_col5\" class=\"data row14 col5\" >1.38975</td>\n",
       "                        <td id=\"T_016a2e84_642d_11ea_8ff6_054989be1d01row14_col6\" class=\"data row14 col6\" >0.132765</td>\n",
       "                        <td id=\"T_016a2e84_642d_11ea_8ff6_054989be1d01row14_col7\" class=\"data row14 col7\" >0.0585081</td>\n",
       "            </tr>\n",
       "            <tr>\n",
       "                                <th id=\"T_016a2e84_642d_11ea_8ff6_054989be1d01level1_row15\" class=\"row_heading level1 row15\" >2020-03-07</th>\n",
       "                        <td id=\"T_016a2e84_642d_11ea_8ff6_054989be1d01row15_col0\" class=\"data row15 col0\" >67854</td>\n",
       "                        <td id=\"T_016a2e84_642d_11ea_8ff6_054989be1d01row15_col1\" class=\"data row15 col1\" >4139</td>\n",
       "                        <td id=\"T_016a2e84_642d_11ea_8ff6_054989be1d01row15_col2\" class=\"data row15 col2\" >52949</td>\n",
       "                        <td id=\"T_016a2e84_642d_11ea_8ff6_054989be1d01row15_col3\" class=\"data row15 col3\" >2906</td>\n",
       "                        <td id=\"T_016a2e84_642d_11ea_8ff6_054989be1d01row15_col4\" class=\"data row15 col4\" >1.2815</td>\n",
       "                        <td id=\"T_016a2e84_642d_11ea_8ff6_054989be1d01row15_col5\" class=\"data row15 col5\" >1.42429</td>\n",
       "                        <td id=\"T_016a2e84_642d_11ea_8ff6_054989be1d01row15_col6\" class=\"data row15 col6\" >0.142797</td>\n",
       "                        <td id=\"T_016a2e84_642d_11ea_8ff6_054989be1d01row15_col7\" class=\"data row15 col7\" >0.0574917</td>\n",
       "            </tr>\n",
       "            <tr>\n",
       "                                <th id=\"T_016a2e84_642d_11ea_8ff6_054989be1d01level1_row16\" class=\"row_heading level1 row16\" >2020-03-08</th>\n",
       "                        <td id=\"T_016a2e84_642d_11ea_8ff6_054989be1d01row16_col0\" class=\"data row16 col0\" >70402</td>\n",
       "                        <td id=\"T_016a2e84_642d_11ea_8ff6_054989be1d01row16_col1\" class=\"data row16 col1\" >4348</td>\n",
       "                        <td id=\"T_016a2e84_642d_11ea_8ff6_054989be1d01row16_col2\" class=\"data row16 col2\" >54830</td>\n",
       "                        <td id=\"T_016a2e84_642d_11ea_8ff6_054989be1d01row16_col3\" class=\"data row16 col3\" >3069</td>\n",
       "                        <td id=\"T_016a2e84_642d_11ea_8ff6_054989be1d01row16_col4\" class=\"data row16 col4\" >1.28401</td>\n",
       "                        <td id=\"T_016a2e84_642d_11ea_8ff6_054989be1d01row16_col5\" class=\"data row16 col5\" >1.41675</td>\n",
       "                        <td id=\"T_016a2e84_642d_11ea_8ff6_054989be1d01row16_col6\" class=\"data row16 col6\" >0.132743</td>\n",
       "                        <td id=\"T_016a2e84_642d_11ea_8ff6_054989be1d01row16_col7\" class=\"data row16 col7\" >0.0581672</td>\n",
       "            </tr>\n",
       "            <tr>\n",
       "                                <th id=\"T_016a2e84_642d_11ea_8ff6_054989be1d01level1_row17\" class=\"row_heading level1 row17\" >2020-03-09</th>\n",
       "                        <td id=\"T_016a2e84_642d_11ea_8ff6_054989be1d01row17_col0\" class=\"data row17 col0\" >74205</td>\n",
       "                        <td id=\"T_016a2e84_642d_11ea_8ff6_054989be1d01row17_col1\" class=\"data row17 col1\" >4562</td>\n",
       "                        <td id=\"T_016a2e84_642d_11ea_8ff6_054989be1d01row17_col2\" class=\"data row17 col2\" >57976</td>\n",
       "                        <td id=\"T_016a2e84_642d_11ea_8ff6_054989be1d01row17_col3\" class=\"data row17 col3\" >3263</td>\n",
       "                        <td id=\"T_016a2e84_642d_11ea_8ff6_054989be1d01row17_col4\" class=\"data row17 col4\" >1.27993</td>\n",
       "                        <td id=\"T_016a2e84_642d_11ea_8ff6_054989be1d01row17_col5\" class=\"data row17 col5\" >1.3981</td>\n",
       "                        <td id=\"T_016a2e84_642d_11ea_8ff6_054989be1d01row17_col6\" class=\"data row17 col6\" >0.118174</td>\n",
       "                        <td id=\"T_016a2e84_642d_11ea_8ff6_054989be1d01row17_col7\" class=\"data row17 col7\" >0.0579177</td>\n",
       "            </tr>\n",
       "            <tr>\n",
       "                                <th id=\"T_016a2e84_642d_11ea_8ff6_054989be1d01level1_row18\" class=\"row_heading level1 row18\" >2020-03-10</th>\n",
       "                        <td id=\"T_016a2e84_642d_11ea_8ff6_054989be1d01row18_col0\" class=\"data row18 col0\" >71353</td>\n",
       "                        <td id=\"T_016a2e84_642d_11ea_8ff6_054989be1d01row18_col1\" class=\"data row18 col1\" >4297</td>\n",
       "                        <td id=\"T_016a2e84_642d_11ea_8ff6_054989be1d01row18_col2\" class=\"data row18 col2\" >55522</td>\n",
       "                        <td id=\"T_016a2e84_642d_11ea_8ff6_054989be1d01row18_col3\" class=\"data row18 col3\" >3120</td>\n",
       "                        <td id=\"T_016a2e84_642d_11ea_8ff6_054989be1d01row18_col4\" class=\"data row18 col4\" >1.28513</td>\n",
       "                        <td id=\"T_016a2e84_642d_11ea_8ff6_054989be1d01row18_col5\" class=\"data row18 col5\" >1.37724</td>\n",
       "                        <td id=\"T_016a2e84_642d_11ea_8ff6_054989be1d01row18_col6\" class=\"data row18 col6\" >0.0921134</td>\n",
       "                        <td id=\"T_016a2e84_642d_11ea_8ff6_054989be1d01row18_col7\" class=\"data row18 col7\" >0.0568011</td>\n",
       "            </tr>\n",
       "            <tr>\n",
       "                                <th id=\"T_016a2e84_642d_11ea_8ff6_054989be1d01level1_row19\" class=\"row_heading level1 row19\" >2020-03-11</th>\n",
       "                        <td id=\"T_016a2e84_642d_11ea_8ff6_054989be1d01row19_col0\" class=\"data row19 col0\" >60212</td>\n",
       "                        <td id=\"T_016a2e84_642d_11ea_8ff6_054989be1d01row19_col1\" class=\"data row19 col1\" >3767</td>\n",
       "                        <td id=\"T_016a2e84_642d_11ea_8ff6_054989be1d01row19_col2\" class=\"data row19 col2\" >47596</td>\n",
       "                        <td id=\"T_016a2e84_642d_11ea_8ff6_054989be1d01row19_col3\" class=\"data row19 col3\" >2620</td>\n",
       "                        <td id=\"T_016a2e84_642d_11ea_8ff6_054989be1d01row19_col4\" class=\"data row19 col4\" >1.26506</td>\n",
       "                        <td id=\"T_016a2e84_642d_11ea_8ff6_054989be1d01row19_col5\" class=\"data row19 col5\" >1.43779</td>\n",
       "                        <td id=\"T_016a2e84_642d_11ea_8ff6_054989be1d01row19_col6\" class=\"data row19 col6\" >0.172722</td>\n",
       "                        <td id=\"T_016a2e84_642d_11ea_8ff6_054989be1d01row19_col7\" class=\"data row19 col7\" >0.0588787</td>\n",
       "            </tr>\n",
       "    </tbody></table>"
      ],
      "text/plain": [
       "<pandas.io.formats.style.Styler at 0x7f04c15d4198>"
      ]
     },
     "execution_count": 868,
     "metadata": {},
     "output_type": "execute_result"
    }
   ],
   "source": [
    "\n",
    "def color_negatives(x):\n",
    "    if x>=0:\n",
    "        #return \"color:green\"\n",
    "        return \"\"\n",
    "    return \"background-color:pink\"\n",
    "\n",
    "pv.style.applymap(color_negatives, subset=[\"aggregates\", \"mean\",\"v2_vs_v1\"]) #TODO: this isn't working as intended, but hack works."
   ]
  },
  {
   "cell_type": "code",
   "execution_count": null,
   "metadata": {},
   "outputs": [],
   "source": [
    "pv2 = pv.reset_index()"
   ]
  },
  {
   "cell_type": "code",
   "execution_count": null,
   "metadata": {},
   "outputs": [],
   "source": [
    "#pv2[(pv2.country_code==country)][\"aggregates\", \"pageviews_per_user\", True].values"
   ]
  },
  {
   "cell_type": "code",
   "execution_count": null,
   "metadata": {},
   "outputs": [],
   "source": [
    "#pv2[pv2.country_code==\"sg\"].date"
   ]
  },
  {
   "cell_type": "code",
   "execution_count": null,
   "metadata": {},
   "outputs": [
    {
     "data": {
      "application/vnd.plotly.v1+json": {
       "config": {
        "plotlyServerURL": "https://plot.ly"
       },
       "data": [
        {
         "line": {
          "color": "green"
         },
         "mode": "lines",
         "name": "hk v2",
         "type": "scatter",
         "x": [
          "2020-03-02",
          "2020-03-03",
          "2020-03-04",
          "2020-03-05",
          "2020-03-06",
          "2020-03-07",
          "2020-03-08",
          "2020-03-09",
          "2020-03-10",
          "2020-03-11"
         ],
         "xaxis": "x",
         "y": [
          1.1886792452830188,
          1.32,
          1.2779740871613663,
          1.2697674418604652,
          1.28875,
          1.216867469879518,
          1.248267898383372,
          1.3077790304396844,
          1.2509752925877764,
          1.2672955974842768
         ],
         "yaxis": "y"
        },
        {
         "line": {
          "color": "blue"
         },
         "mode": "lines",
         "name": "hk v1",
         "type": "scatter",
         "x": [
          "2020-03-02",
          "2020-03-03",
          "2020-03-04",
          "2020-03-05",
          "2020-03-06",
          "2020-03-07",
          "2020-03-08",
          "2020-03-09",
          "2020-03-10",
          "2020-03-11"
         ],
         "xaxis": "x",
         "y": [
          1.1833594397862341,
          1.1946042826148477,
          1.1903283469752564,
          1.1958492847068305,
          1.1932168550873588,
          1.1926404773744406,
          1.1800920035235392,
          1.197667749952208,
          1.1995930824008139,
          1.197319434102755
         ],
         "yaxis": "y"
        },
        {
         "line": {
          "color": "green"
         },
         "mode": "lines",
         "name": "sg v2",
         "type": "scatter",
         "x": [
          "2020-03-02",
          "2020-03-03",
          "2020-03-04",
          "2020-03-05",
          "2020-03-06",
          "2020-03-07",
          "2020-03-08",
          "2020-03-09",
          "2020-03-10",
          "2020-03-11"
         ],
         "xaxis": "x2",
         "y": [
          1.3978633862091292,
          1.4041720990873534,
          1.3876567020250723,
          1.3820803295571575,
          1.38975424022153,
          1.424294562973159,
          1.4167481264255457,
          1.3980999080600673,
          1.3772435897435897,
          1.4377862595419848
         ],
         "yaxis": "y2"
        },
        {
         "line": {
          "color": "blue"
         },
         "mode": "lines",
         "name": "sg v1",
         "type": "scatter",
         "x": [
          "2020-03-02",
          "2020-03-03",
          "2020-03-04",
          "2020-03-05",
          "2020-03-06",
          "2020-03-07",
          "2020-03-08",
          "2020-03-09",
          "2020-03-10",
          "2020-03-11"
         ],
         "xaxis": "x2",
         "y": [
          1.2795091758062764,
          1.2758860192648644,
          1.2732487140583948,
          1.2741325039346474,
          1.256989435592132,
          1.281497289844945,
          1.284005106693416,
          1.279926176348834,
          1.285130218652066,
          1.2650642911169006
         ],
         "yaxis": "y2"
        }
       ],
       "layout": {
        "annotations": [
         {
          "font": {
           "size": 16
          },
          "showarrow": false,
          "text": "hk",
          "x": 0.5,
          "xanchor": "center",
          "xref": "paper",
          "y": 1,
          "yanchor": "bottom",
          "yref": "paper"
         },
         {
          "font": {
           "size": 16
          },
          "showarrow": false,
          "text": "sg",
          "x": 0.5,
          "xanchor": "center",
          "xref": "paper",
          "y": 0.375,
          "yanchor": "bottom",
          "yref": "paper"
         }
        ],
        "autosize": true,
        "template": {
         "data": {
          "bar": [
           {
            "error_x": {
             "color": "#2a3f5f"
            },
            "error_y": {
             "color": "#2a3f5f"
            },
            "marker": {
             "line": {
              "color": "#E5ECF6",
              "width": 0.5
             }
            },
            "type": "bar"
           }
          ],
          "barpolar": [
           {
            "marker": {
             "line": {
              "color": "#E5ECF6",
              "width": 0.5
             }
            },
            "type": "barpolar"
           }
          ],
          "carpet": [
           {
            "aaxis": {
             "endlinecolor": "#2a3f5f",
             "gridcolor": "white",
             "linecolor": "white",
             "minorgridcolor": "white",
             "startlinecolor": "#2a3f5f"
            },
            "baxis": {
             "endlinecolor": "#2a3f5f",
             "gridcolor": "white",
             "linecolor": "white",
             "minorgridcolor": "white",
             "startlinecolor": "#2a3f5f"
            },
            "type": "carpet"
           }
          ],
          "choropleth": [
           {
            "colorbar": {
             "outlinewidth": 0,
             "ticks": ""
            },
            "type": "choropleth"
           }
          ],
          "contour": [
           {
            "colorbar": {
             "outlinewidth": 0,
             "ticks": ""
            },
            "colorscale": [
             [
              0,
              "#0d0887"
             ],
             [
              0.1111111111111111,
              "#46039f"
             ],
             [
              0.2222222222222222,
              "#7201a8"
             ],
             [
              0.3333333333333333,
              "#9c179e"
             ],
             [
              0.4444444444444444,
              "#bd3786"
             ],
             [
              0.5555555555555556,
              "#d8576b"
             ],
             [
              0.6666666666666666,
              "#ed7953"
             ],
             [
              0.7777777777777778,
              "#fb9f3a"
             ],
             [
              0.8888888888888888,
              "#fdca26"
             ],
             [
              1,
              "#f0f921"
             ]
            ],
            "type": "contour"
           }
          ],
          "contourcarpet": [
           {
            "colorbar": {
             "outlinewidth": 0,
             "ticks": ""
            },
            "type": "contourcarpet"
           }
          ],
          "heatmap": [
           {
            "colorbar": {
             "outlinewidth": 0,
             "ticks": ""
            },
            "colorscale": [
             [
              0,
              "#0d0887"
             ],
             [
              0.1111111111111111,
              "#46039f"
             ],
             [
              0.2222222222222222,
              "#7201a8"
             ],
             [
              0.3333333333333333,
              "#9c179e"
             ],
             [
              0.4444444444444444,
              "#bd3786"
             ],
             [
              0.5555555555555556,
              "#d8576b"
             ],
             [
              0.6666666666666666,
              "#ed7953"
             ],
             [
              0.7777777777777778,
              "#fb9f3a"
             ],
             [
              0.8888888888888888,
              "#fdca26"
             ],
             [
              1,
              "#f0f921"
             ]
            ],
            "type": "heatmap"
           }
          ],
          "heatmapgl": [
           {
            "colorbar": {
             "outlinewidth": 0,
             "ticks": ""
            },
            "colorscale": [
             [
              0,
              "#0d0887"
             ],
             [
              0.1111111111111111,
              "#46039f"
             ],
             [
              0.2222222222222222,
              "#7201a8"
             ],
             [
              0.3333333333333333,
              "#9c179e"
             ],
             [
              0.4444444444444444,
              "#bd3786"
             ],
             [
              0.5555555555555556,
              "#d8576b"
             ],
             [
              0.6666666666666666,
              "#ed7953"
             ],
             [
              0.7777777777777778,
              "#fb9f3a"
             ],
             [
              0.8888888888888888,
              "#fdca26"
             ],
             [
              1,
              "#f0f921"
             ]
            ],
            "type": "heatmapgl"
           }
          ],
          "histogram": [
           {
            "marker": {
             "colorbar": {
              "outlinewidth": 0,
              "ticks": ""
             }
            },
            "type": "histogram"
           }
          ],
          "histogram2d": [
           {
            "colorbar": {
             "outlinewidth": 0,
             "ticks": ""
            },
            "colorscale": [
             [
              0,
              "#0d0887"
             ],
             [
              0.1111111111111111,
              "#46039f"
             ],
             [
              0.2222222222222222,
              "#7201a8"
             ],
             [
              0.3333333333333333,
              "#9c179e"
             ],
             [
              0.4444444444444444,
              "#bd3786"
             ],
             [
              0.5555555555555556,
              "#d8576b"
             ],
             [
              0.6666666666666666,
              "#ed7953"
             ],
             [
              0.7777777777777778,
              "#fb9f3a"
             ],
             [
              0.8888888888888888,
              "#fdca26"
             ],
             [
              1,
              "#f0f921"
             ]
            ],
            "type": "histogram2d"
           }
          ],
          "histogram2dcontour": [
           {
            "colorbar": {
             "outlinewidth": 0,
             "ticks": ""
            },
            "colorscale": [
             [
              0,
              "#0d0887"
             ],
             [
              0.1111111111111111,
              "#46039f"
             ],
             [
              0.2222222222222222,
              "#7201a8"
             ],
             [
              0.3333333333333333,
              "#9c179e"
             ],
             [
              0.4444444444444444,
              "#bd3786"
             ],
             [
              0.5555555555555556,
              "#d8576b"
             ],
             [
              0.6666666666666666,
              "#ed7953"
             ],
             [
              0.7777777777777778,
              "#fb9f3a"
             ],
             [
              0.8888888888888888,
              "#fdca26"
             ],
             [
              1,
              "#f0f921"
             ]
            ],
            "type": "histogram2dcontour"
           }
          ],
          "mesh3d": [
           {
            "colorbar": {
             "outlinewidth": 0,
             "ticks": ""
            },
            "type": "mesh3d"
           }
          ],
          "parcoords": [
           {
            "line": {
             "colorbar": {
              "outlinewidth": 0,
              "ticks": ""
             }
            },
            "type": "parcoords"
           }
          ],
          "pie": [
           {
            "automargin": true,
            "type": "pie"
           }
          ],
          "scatter": [
           {
            "marker": {
             "colorbar": {
              "outlinewidth": 0,
              "ticks": ""
             }
            },
            "type": "scatter"
           }
          ],
          "scatter3d": [
           {
            "line": {
             "colorbar": {
              "outlinewidth": 0,
              "ticks": ""
             }
            },
            "marker": {
             "colorbar": {
              "outlinewidth": 0,
              "ticks": ""
             }
            },
            "type": "scatter3d"
           }
          ],
          "scattercarpet": [
           {
            "marker": {
             "colorbar": {
              "outlinewidth": 0,
              "ticks": ""
             }
            },
            "type": "scattercarpet"
           }
          ],
          "scattergeo": [
           {
            "marker": {
             "colorbar": {
              "outlinewidth": 0,
              "ticks": ""
             }
            },
            "type": "scattergeo"
           }
          ],
          "scattergl": [
           {
            "marker": {
             "colorbar": {
              "outlinewidth": 0,
              "ticks": ""
             }
            },
            "type": "scattergl"
           }
          ],
          "scattermapbox": [
           {
            "marker": {
             "colorbar": {
              "outlinewidth": 0,
              "ticks": ""
             }
            },
            "type": "scattermapbox"
           }
          ],
          "scatterpolar": [
           {
            "marker": {
             "colorbar": {
              "outlinewidth": 0,
              "ticks": ""
             }
            },
            "type": "scatterpolar"
           }
          ],
          "scatterpolargl": [
           {
            "marker": {
             "colorbar": {
              "outlinewidth": 0,
              "ticks": ""
             }
            },
            "type": "scatterpolargl"
           }
          ],
          "scatterternary": [
           {
            "marker": {
             "colorbar": {
              "outlinewidth": 0,
              "ticks": ""
             }
            },
            "type": "scatterternary"
           }
          ],
          "surface": [
           {
            "colorbar": {
             "outlinewidth": 0,
             "ticks": ""
            },
            "colorscale": [
             [
              0,
              "#0d0887"
             ],
             [
              0.1111111111111111,
              "#46039f"
             ],
             [
              0.2222222222222222,
              "#7201a8"
             ],
             [
              0.3333333333333333,
              "#9c179e"
             ],
             [
              0.4444444444444444,
              "#bd3786"
             ],
             [
              0.5555555555555556,
              "#d8576b"
             ],
             [
              0.6666666666666666,
              "#ed7953"
             ],
             [
              0.7777777777777778,
              "#fb9f3a"
             ],
             [
              0.8888888888888888,
              "#fdca26"
             ],
             [
              1,
              "#f0f921"
             ]
            ],
            "type": "surface"
           }
          ],
          "table": [
           {
            "cells": {
             "fill": {
              "color": "#EBF0F8"
             },
             "line": {
              "color": "white"
             }
            },
            "header": {
             "fill": {
              "color": "#C8D4E3"
             },
             "line": {
              "color": "white"
             }
            },
            "type": "table"
           }
          ]
         },
         "layout": {
          "annotationdefaults": {
           "arrowcolor": "#2a3f5f",
           "arrowhead": 0,
           "arrowwidth": 1
          },
          "coloraxis": {
           "colorbar": {
            "outlinewidth": 0,
            "ticks": ""
           }
          },
          "colorscale": {
           "diverging": [
            [
             0,
             "#8e0152"
            ],
            [
             0.1,
             "#c51b7d"
            ],
            [
             0.2,
             "#de77ae"
            ],
            [
             0.3,
             "#f1b6da"
            ],
            [
             0.4,
             "#fde0ef"
            ],
            [
             0.5,
             "#f7f7f7"
            ],
            [
             0.6,
             "#e6f5d0"
            ],
            [
             0.7,
             "#b8e186"
            ],
            [
             0.8,
             "#7fbc41"
            ],
            [
             0.9,
             "#4d9221"
            ],
            [
             1,
             "#276419"
            ]
           ],
           "sequential": [
            [
             0,
             "#0d0887"
            ],
            [
             0.1111111111111111,
             "#46039f"
            ],
            [
             0.2222222222222222,
             "#7201a8"
            ],
            [
             0.3333333333333333,
             "#9c179e"
            ],
            [
             0.4444444444444444,
             "#bd3786"
            ],
            [
             0.5555555555555556,
             "#d8576b"
            ],
            [
             0.6666666666666666,
             "#ed7953"
            ],
            [
             0.7777777777777778,
             "#fb9f3a"
            ],
            [
             0.8888888888888888,
             "#fdca26"
            ],
            [
             1,
             "#f0f921"
            ]
           ],
           "sequentialminus": [
            [
             0,
             "#0d0887"
            ],
            [
             0.1111111111111111,
             "#46039f"
            ],
            [
             0.2222222222222222,
             "#7201a8"
            ],
            [
             0.3333333333333333,
             "#9c179e"
            ],
            [
             0.4444444444444444,
             "#bd3786"
            ],
            [
             0.5555555555555556,
             "#d8576b"
            ],
            [
             0.6666666666666666,
             "#ed7953"
            ],
            [
             0.7777777777777778,
             "#fb9f3a"
            ],
            [
             0.8888888888888888,
             "#fdca26"
            ],
            [
             1,
             "#f0f921"
            ]
           ]
          },
          "colorway": [
           "#636efa",
           "#EF553B",
           "#00cc96",
           "#ab63fa",
           "#FFA15A",
           "#19d3f3",
           "#FF6692",
           "#B6E880",
           "#FF97FF",
           "#FECB52"
          ],
          "font": {
           "color": "#2a3f5f"
          },
          "geo": {
           "bgcolor": "white",
           "lakecolor": "white",
           "landcolor": "#E5ECF6",
           "showlakes": true,
           "showland": true,
           "subunitcolor": "white"
          },
          "hoverlabel": {
           "align": "left"
          },
          "hovermode": "closest",
          "mapbox": {
           "style": "light"
          },
          "paper_bgcolor": "white",
          "plot_bgcolor": "#E5ECF6",
          "polar": {
           "angularaxis": {
            "gridcolor": "white",
            "linecolor": "white",
            "ticks": ""
           },
           "bgcolor": "#E5ECF6",
           "radialaxis": {
            "gridcolor": "white",
            "linecolor": "white",
            "ticks": ""
           }
          },
          "scene": {
           "xaxis": {
            "backgroundcolor": "#E5ECF6",
            "gridcolor": "white",
            "gridwidth": 2,
            "linecolor": "white",
            "showbackground": true,
            "ticks": "",
            "zerolinecolor": "white"
           },
           "yaxis": {
            "backgroundcolor": "#E5ECF6",
            "gridcolor": "white",
            "gridwidth": 2,
            "linecolor": "white",
            "showbackground": true,
            "ticks": "",
            "zerolinecolor": "white"
           },
           "zaxis": {
            "backgroundcolor": "#E5ECF6",
            "gridcolor": "white",
            "gridwidth": 2,
            "linecolor": "white",
            "showbackground": true,
            "ticks": "",
            "zerolinecolor": "white"
           }
          },
          "shapedefaults": {
           "line": {
            "color": "#2a3f5f"
           }
          },
          "ternary": {
           "aaxis": {
            "gridcolor": "white",
            "linecolor": "white",
            "ticks": ""
           },
           "baxis": {
            "gridcolor": "white",
            "linecolor": "white",
            "ticks": ""
           },
           "bgcolor": "#E5ECF6",
           "caxis": {
            "gridcolor": "white",
            "linecolor": "white",
            "ticks": ""
           }
          },
          "title": {
           "x": 0.05
          },
          "xaxis": {
           "automargin": true,
           "gridcolor": "white",
           "linecolor": "white",
           "ticks": "",
           "title": {
            "standoff": 15
           },
           "zerolinecolor": "white",
           "zerolinewidth": 2
          },
          "yaxis": {
           "automargin": true,
           "gridcolor": "white",
           "linecolor": "white",
           "ticks": "",
           "title": {
            "standoff": 15
           },
           "zerolinecolor": "white",
           "zerolinewidth": 2
          }
         }
        },
        "title": {
         "text": "Pageviews Per User Per Day"
        },
        "xaxis": {
         "anchor": "y",
         "autorange": true,
         "domain": [
          0,
          1
         ],
         "range": [
          "2020-03-02",
          "2020-03-11"
         ],
         "type": "date"
        },
        "xaxis2": {
         "anchor": "y2",
         "autorange": true,
         "domain": [
          0,
          1
         ],
         "range": [
          "2020-03-02",
          "2020-03-11"
         ],
         "type": "date"
        },
        "yaxis": {
         "anchor": "x",
         "domain": [
          0.625,
          1
         ],
         "range": [
          0,
          1.52
         ],
         "type": "linear"
        },
        "yaxis2": {
         "anchor": "x2",
         "domain": [
          0,
          0.375
         ],
         "range": [
          0,
          1.6377862595419848
         ],
         "type": "linear"
        }
       }
      },
      "image/png": "[encoded data removed]",
      "text/html": [
       "<div>\n",
       "        \n",
       "        \n",
       "            <div id=\"5e102522-d249-4c45-aa87-2384d0e8471c\" class=\"plotly-graph-div\" style=\"height:800px; width:100%;\"></div>\n",
       "            <script type=\"text/javascript\">\n",
       "                require([\"plotly\"], function(Plotly) {\n",
       "                    window.PLOTLYENV=window.PLOTLYENV || {};\n",
       "                    \n",
       "                if (document.getElementById(\"5e102522-d249-4c45-aa87-2384d0e8471c\")) {\n",
       "                    Plotly.newPlot(\n",
       "                        '5e102522-d249-4c45-aa87-2384d0e8471c',\n",
       "                        [{\"line\": {\"color\": \"green\"}, \"mode\": \"lines\", \"name\": \"hk v2\", \"type\": \"scatter\", \"x\": [\"2020-03-02\", \"2020-03-03\", \"2020-03-04\", \"2020-03-05\", \"2020-03-06\", \"2020-03-07\", \"2020-03-08\", \"2020-03-09\", \"2020-03-10\", \"2020-03-11\"], \"xaxis\": \"x\", \"y\": [1.1886792452830188, 1.32, 1.2779740871613663, 1.2697674418604652, 1.28875, 1.216867469879518, 1.248267898383372, 1.3077790304396844, 1.2509752925877764, 1.2672955974842768], \"yaxis\": \"y\"}, {\"line\": {\"color\": \"blue\"}, \"mode\": \"lines\", \"name\": \"hk v1\", \"type\": \"scatter\", \"x\": [\"2020-03-02\", \"2020-03-03\", \"2020-03-04\", \"2020-03-05\", \"2020-03-06\", \"2020-03-07\", \"2020-03-08\", \"2020-03-09\", \"2020-03-10\", \"2020-03-11\"], \"xaxis\": \"x\", \"y\": [1.1833594397862341, 1.1946042826148477, 1.1903283469752564, 1.1958492847068305, 1.1932168550873588, 1.1926404773744406, 1.1800920035235392, 1.197667749952208, 1.1995930824008139, 1.197319434102755], \"yaxis\": \"y\"}, {\"line\": {\"color\": \"green\"}, \"mode\": \"lines\", \"name\": \"sg v2\", \"type\": \"scatter\", \"x\": [\"2020-03-02\", \"2020-03-03\", \"2020-03-04\", \"2020-03-05\", \"2020-03-06\", \"2020-03-07\", \"2020-03-08\", \"2020-03-09\", \"2020-03-10\", \"2020-03-11\"], \"xaxis\": \"x2\", \"y\": [1.3978633862091292, 1.4041720990873534, 1.3876567020250723, 1.3820803295571575, 1.38975424022153, 1.424294562973159, 1.4167481264255457, 1.3980999080600673, 1.3772435897435897, 1.4377862595419848], \"yaxis\": \"y2\"}, {\"line\": {\"color\": \"blue\"}, \"mode\": \"lines\", \"name\": \"sg v1\", \"type\": \"scatter\", \"x\": [\"2020-03-02\", \"2020-03-03\", \"2020-03-04\", \"2020-03-05\", \"2020-03-06\", \"2020-03-07\", \"2020-03-08\", \"2020-03-09\", \"2020-03-10\", \"2020-03-11\"], \"xaxis\": \"x2\", \"y\": [1.2795091758062764, 1.2758860192648644, 1.2732487140583948, 1.2741325039346474, 1.256989435592132, 1.281497289844945, 1.284005106693416, 1.279926176348834, 1.285130218652066, 1.2650642911169006], \"yaxis\": \"y2\"}],\n",
       "                        {\"annotations\": [{\"font\": {\"size\": 16}, \"showarrow\": false, \"text\": \"hk\", \"x\": 0.5, \"xanchor\": \"center\", \"xref\": \"paper\", \"y\": 1.0, \"yanchor\": \"bottom\", \"yref\": \"paper\"}, {\"font\": {\"size\": 16}, \"showarrow\": false, \"text\": \"sg\", \"x\": 0.5, \"xanchor\": \"center\", \"xref\": \"paper\", \"y\": 0.375, \"yanchor\": \"bottom\", \"yref\": \"paper\"}], \"height\": 800, \"template\": {\"data\": {\"bar\": [{\"error_x\": {\"color\": \"#2a3f5f\"}, \"error_y\": {\"color\": \"#2a3f5f\"}, \"marker\": {\"line\": {\"color\": \"#E5ECF6\", \"width\": 0.5}}, \"type\": \"bar\"}], \"barpolar\": [{\"marker\": {\"line\": {\"color\": \"#E5ECF6\", \"width\": 0.5}}, \"type\": \"barpolar\"}], \"carpet\": [{\"aaxis\": {\"endlinecolor\": \"#2a3f5f\", \"gridcolor\": \"white\", \"linecolor\": \"white\", \"minorgridcolor\": \"white\", \"startlinecolor\": \"#2a3f5f\"}, \"baxis\": {\"endlinecolor\": \"#2a3f5f\", \"gridcolor\": \"white\", \"linecolor\": \"white\", \"minorgridcolor\": \"white\", \"startlinecolor\": \"#2a3f5f\"}, \"type\": \"carpet\"}], \"choropleth\": [{\"colorbar\": {\"outlinewidth\": 0, \"ticks\": \"\"}, \"type\": \"choropleth\"}], \"contour\": [{\"colorbar\": {\"outlinewidth\": 0, \"ticks\": \"\"}, \"colorscale\": [[0.0, \"#0d0887\"], [0.1111111111111111, \"#46039f\"], [0.2222222222222222, \"#7201a8\"], [0.3333333333333333, \"#9c179e\"], [0.4444444444444444, \"#bd3786\"], [0.5555555555555556, \"#d8576b\"], [0.6666666666666666, \"#ed7953\"], [0.7777777777777778, \"#fb9f3a\"], [0.8888888888888888, \"#fdca26\"], [1.0, \"#f0f921\"]], \"type\": \"contour\"}], \"contourcarpet\": [{\"colorbar\": {\"outlinewidth\": 0, \"ticks\": \"\"}, \"type\": \"contourcarpet\"}], \"heatmap\": [{\"colorbar\": {\"outlinewidth\": 0, \"ticks\": \"\"}, \"colorscale\": [[0.0, \"#0d0887\"], [0.1111111111111111, \"#46039f\"], [0.2222222222222222, \"#7201a8\"], [0.3333333333333333, \"#9c179e\"], [0.4444444444444444, \"#bd3786\"], [0.5555555555555556, \"#d8576b\"], [0.6666666666666666, \"#ed7953\"], [0.7777777777777778, \"#fb9f3a\"], [0.8888888888888888, \"#fdca26\"], [1.0, \"#f0f921\"]], \"type\": \"heatmap\"}], \"heatmapgl\": [{\"colorbar\": {\"outlinewidth\": 0, \"ticks\": \"\"}, \"colorscale\": [[0.0, \"#0d0887\"], [0.1111111111111111, \"#46039f\"], [0.2222222222222222, \"#7201a8\"], [0.3333333333333333, \"#9c179e\"], [0.4444444444444444, \"#bd3786\"], [0.5555555555555556, \"#d8576b\"], [0.6666666666666666, \"#ed7953\"], [0.7777777777777778, \"#fb9f3a\"], [0.8888888888888888, \"#fdca26\"], [1.0, \"#f0f921\"]], \"type\": \"heatmapgl\"}], \"histogram\": [{\"marker\": {\"colorbar\": {\"outlinewidth\": 0, \"ticks\": \"\"}}, \"type\": \"histogram\"}], \"histogram2d\": [{\"colorbar\": {\"outlinewidth\": 0, \"ticks\": \"\"}, \"colorscale\": [[0.0, \"#0d0887\"], [0.1111111111111111, \"#46039f\"], [0.2222222222222222, \"#7201a8\"], [0.3333333333333333, \"#9c179e\"], [0.4444444444444444, \"#bd3786\"], [0.5555555555555556, \"#d8576b\"], [0.6666666666666666, \"#ed7953\"], [0.7777777777777778, \"#fb9f3a\"], [0.8888888888888888, \"#fdca26\"], [1.0, \"#f0f921\"]], \"type\": \"histogram2d\"}], \"histogram2dcontour\": [{\"colorbar\": {\"outlinewidth\": 0, \"ticks\": \"\"}, \"colorscale\": [[0.0, \"#0d0887\"], [0.1111111111111111, \"#46039f\"], [0.2222222222222222, \"#7201a8\"], [0.3333333333333333, \"#9c179e\"], [0.4444444444444444, \"#bd3786\"], [0.5555555555555556, \"#d8576b\"], [0.6666666666666666, \"#ed7953\"], [0.7777777777777778, \"#fb9f3a\"], [0.8888888888888888, \"#fdca26\"], [1.0, \"#f0f921\"]], \"type\": \"histogram2dcontour\"}], \"mesh3d\": [{\"colorbar\": {\"outlinewidth\": 0, \"ticks\": \"\"}, \"type\": \"mesh3d\"}], \"parcoords\": [{\"line\": {\"colorbar\": {\"outlinewidth\": 0, \"ticks\": \"\"}}, \"type\": \"parcoords\"}], \"pie\": [{\"automargin\": true, \"type\": \"pie\"}], \"scatter\": [{\"marker\": {\"colorbar\": {\"outlinewidth\": 0, \"ticks\": \"\"}}, \"type\": \"scatter\"}], \"scatter3d\": [{\"line\": {\"colorbar\": {\"outlinewidth\": 0, \"ticks\": \"\"}}, \"marker\": {\"colorbar\": {\"outlinewidth\": 0, \"ticks\": \"\"}}, \"type\": \"scatter3d\"}], \"scattercarpet\": [{\"marker\": {\"colorbar\": {\"outlinewidth\": 0, \"ticks\": \"\"}}, \"type\": \"scattercarpet\"}], \"scattergeo\": [{\"marker\": {\"colorbar\": {\"outlinewidth\": 0, \"ticks\": \"\"}}, \"type\": \"scattergeo\"}], \"scattergl\": [{\"marker\": {\"colorbar\": {\"outlinewidth\": 0, \"ticks\": \"\"}}, \"type\": \"scattergl\"}], \"scattermapbox\": [{\"marker\": {\"colorbar\": {\"outlinewidth\": 0, \"ticks\": \"\"}}, \"type\": \"scattermapbox\"}], \"scatterpolar\": [{\"marker\": {\"colorbar\": {\"outlinewidth\": 0, \"ticks\": \"\"}}, \"type\": \"scatterpolar\"}], \"scatterpolargl\": [{\"marker\": {\"colorbar\": {\"outlinewidth\": 0, \"ticks\": \"\"}}, \"type\": \"scatterpolargl\"}], \"scatterternary\": [{\"marker\": {\"colorbar\": {\"outlinewidth\": 0, \"ticks\": \"\"}}, \"type\": \"scatterternary\"}], \"surface\": [{\"colorbar\": {\"outlinewidth\": 0, \"ticks\": \"\"}, \"colorscale\": [[0.0, \"#0d0887\"], [0.1111111111111111, \"#46039f\"], [0.2222222222222222, \"#7201a8\"], [0.3333333333333333, \"#9c179e\"], [0.4444444444444444, \"#bd3786\"], [0.5555555555555556, \"#d8576b\"], [0.6666666666666666, \"#ed7953\"], [0.7777777777777778, \"#fb9f3a\"], [0.8888888888888888, \"#fdca26\"], [1.0, \"#f0f921\"]], \"type\": \"surface\"}], \"table\": [{\"cells\": {\"fill\": {\"color\": \"#EBF0F8\"}, \"line\": {\"color\": \"white\"}}, \"header\": {\"fill\": {\"color\": \"#C8D4E3\"}, \"line\": {\"color\": \"white\"}}, \"type\": \"table\"}]}, \"layout\": {\"annotationdefaults\": {\"arrowcolor\": \"#2a3f5f\", \"arrowhead\": 0, \"arrowwidth\": 1}, \"coloraxis\": {\"colorbar\": {\"outlinewidth\": 0, \"ticks\": \"\"}}, \"colorscale\": {\"diverging\": [[0, \"#8e0152\"], [0.1, \"#c51b7d\"], [0.2, \"#de77ae\"], [0.3, \"#f1b6da\"], [0.4, \"#fde0ef\"], [0.5, \"#f7f7f7\"], [0.6, \"#e6f5d0\"], [0.7, \"#b8e186\"], [0.8, \"#7fbc41\"], [0.9, \"#4d9221\"], [1, \"#276419\"]], \"sequential\": [[0.0, \"#0d0887\"], [0.1111111111111111, \"#46039f\"], [0.2222222222222222, \"#7201a8\"], [0.3333333333333333, \"#9c179e\"], [0.4444444444444444, \"#bd3786\"], [0.5555555555555556, \"#d8576b\"], [0.6666666666666666, \"#ed7953\"], [0.7777777777777778, \"#fb9f3a\"], [0.8888888888888888, \"#fdca26\"], [1.0, \"#f0f921\"]], \"sequentialminus\": [[0.0, \"#0d0887\"], [0.1111111111111111, \"#46039f\"], [0.2222222222222222, \"#7201a8\"], [0.3333333333333333, \"#9c179e\"], [0.4444444444444444, \"#bd3786\"], [0.5555555555555556, \"#d8576b\"], [0.6666666666666666, \"#ed7953\"], [0.7777777777777778, \"#fb9f3a\"], [0.8888888888888888, \"#fdca26\"], [1.0, \"#f0f921\"]]}, \"colorway\": [\"#636efa\", \"#EF553B\", \"#00cc96\", \"#ab63fa\", \"#FFA15A\", \"#19d3f3\", \"#FF6692\", \"#B6E880\", \"#FF97FF\", \"#FECB52\"], \"font\": {\"color\": \"#2a3f5f\"}, \"geo\": {\"bgcolor\": \"white\", \"lakecolor\": \"white\", \"landcolor\": \"#E5ECF6\", \"showlakes\": true, \"showland\": true, \"subunitcolor\": \"white\"}, \"hoverlabel\": {\"align\": \"left\"}, \"hovermode\": \"closest\", \"mapbox\": {\"style\": \"light\"}, \"paper_bgcolor\": \"white\", \"plot_bgcolor\": \"#E5ECF6\", \"polar\": {\"angularaxis\": {\"gridcolor\": \"white\", \"linecolor\": \"white\", \"ticks\": \"\"}, \"bgcolor\": \"#E5ECF6\", \"radialaxis\": {\"gridcolor\": \"white\", \"linecolor\": \"white\", \"ticks\": \"\"}}, \"scene\": {\"xaxis\": {\"backgroundcolor\": \"#E5ECF6\", \"gridcolor\": \"white\", \"gridwidth\": 2, \"linecolor\": \"white\", \"showbackground\": true, \"ticks\": \"\", \"zerolinecolor\": \"white\"}, \"yaxis\": {\"backgroundcolor\": \"#E5ECF6\", \"gridcolor\": \"white\", \"gridwidth\": 2, \"linecolor\": \"white\", \"showbackground\": true, \"ticks\": \"\", \"zerolinecolor\": \"white\"}, \"zaxis\": {\"backgroundcolor\": \"#E5ECF6\", \"gridcolor\": \"white\", \"gridwidth\": 2, \"linecolor\": \"white\", \"showbackground\": true, \"ticks\": \"\", \"zerolinecolor\": \"white\"}}, \"shapedefaults\": {\"line\": {\"color\": \"#2a3f5f\"}}, \"ternary\": {\"aaxis\": {\"gridcolor\": \"white\", \"linecolor\": \"white\", \"ticks\": \"\"}, \"baxis\": {\"gridcolor\": \"white\", \"linecolor\": \"white\", \"ticks\": \"\"}, \"bgcolor\": \"#E5ECF6\", \"caxis\": {\"gridcolor\": \"white\", \"linecolor\": \"white\", \"ticks\": \"\"}}, \"title\": {\"x\": 0.05}, \"xaxis\": {\"automargin\": true, \"gridcolor\": \"white\", \"linecolor\": \"white\", \"ticks\": \"\", \"title\": {\"standoff\": 15}, \"zerolinecolor\": \"white\", \"zerolinewidth\": 2}, \"yaxis\": {\"automargin\": true, \"gridcolor\": \"white\", \"linecolor\": \"white\", \"ticks\": \"\", \"title\": {\"standoff\": 15}, \"zerolinecolor\": \"white\", \"zerolinewidth\": 2}}}, \"title\": {\"text\": \"Pageviews Per User Per Day\"}, \"xaxis\": {\"anchor\": \"y\", \"domain\": [0.0, 1.0]}, \"xaxis2\": {\"anchor\": \"y2\", \"domain\": [0.0, 1.0]}, \"yaxis\": {\"anchor\": \"x\", \"domain\": [0.625, 1.0], \"range\": [0, 1.52]}, \"yaxis2\": {\"anchor\": \"x2\", \"domain\": [0.0, 0.375], \"range\": [0, 1.6377862595419848]}},\n",
       "                        {\"responsive\": true}\n",
       "                    ).then(function(){\n",
       "                            \n",
       "var gd = document.getElementById('5e102522-d249-4c45-aa87-2384d0e8471c');\n",
       "var x = new MutationObserver(function (mutations, observer) {{\n",
       "        var display = window.getComputedStyle(gd).display;\n",
       "        if (!display || display === 'none') {{\n",
       "            console.log([gd, 'removed!']);\n",
       "            Plotly.purge(gd);\n",
       "            observer.disconnect();\n",
       "        }}\n",
       "}});\n",
       "\n",
       "// Listen for the removal of the full notebook cells\n",
       "var notebookContainer = gd.closest('#notebook-container');\n",
       "if (notebookContainer) {{\n",
       "    x.observe(notebookContainer, {childList: true});\n",
       "}}\n",
       "\n",
       "// Listen for the clearing of the current output cell\n",
       "var outputEl = gd.closest('.output');\n",
       "if (outputEl) {{\n",
       "    x.observe(outputEl, {childList: true});\n",
       "}}\n",
       "\n",
       "                        })\n",
       "                };\n",
       "                });\n",
       "            </script>\n",
       "        </div>"
      ]
     },
     "metadata": {},
     "output_type": "display_data"
    }
   ],
   "source": [
    "countries = pv2.country_code.unique()\n",
    "num_countries = len(countries)\n",
    "\n",
    "is_test_states = [True, False]\n",
    "num_unique_states = len(is_test_states)\n",
    "\n",
    "fig = py.subplots.make_subplots(rows=num_countries, cols=1, subplot_titles=countries)\n",
    "\n",
    "for i, country in enumerate(countries):\n",
    "    max_val = 0\n",
    "    for test_state in is_test_states:\n",
    "        color = \"green\" if test_state else \"blue\"\n",
    "        line_label = country+\" \"+(\"v2\" if test_state else \"v1\")\n",
    "        dates = pv2[pv2.country_code==country].date\n",
    "        values = pv2[(pv2.country_code==country)][\"aggregates\", \"pageviews_per_user\", test_state].values \n",
    "        max_val = max(max_val, max(values))\n",
    "        fig.add_trace(go.Scatter(x=dates, y=values, mode='lines', name=line_label, line_color=color), row=i+1, col=1)\n",
    "    fig.update_yaxes(range = [0, max_val+0.2], row=i+1, col=1)\n",
    "    \n",
    "fig.update_layout(height=800, title=\"Pageviews Per User Per Day\")\n",
    "\n",
    "fig.show()\n"
   ]
  },
  {
   "cell_type": "code",
   "execution_count": null,
   "metadata": {},
   "outputs": [],
   "source": []
  },
  {
   "cell_type": "code",
   "execution_count": null,
   "metadata": {},
   "outputs": [],
   "source": [
    "# average_pageviews_per_user_per_day = pageviews_per_user_per_day.groupby([\"country_code\",\"date\", \"is_test\"]).agg(average_pageviews_per_user = (\"count\",\"mean\"), num_users=  (\"count\",\"sum\"), num_pageviews = (\"count\", \"sum\"))"
   ]
  },
  {
   "cell_type": "code",
   "execution_count": null,
   "metadata": {},
   "outputs": [],
   "source": [
    "#average_pageviews_per_user_per_day\n"
   ]
  },
  {
   "cell_type": "markdown",
   "metadata": {},
   "source": [
    "# Scroll Depth Analysis"
   ]
  },
  {
   "cell_type": "markdown",
   "metadata": {},
   "source": [
    "## Convert Raw Pageview Events Into Scroll Depth Summary\n",
    "\n"
   ]
  },
  {
   "cell_type": "code",
   "execution_count": null,
   "metadata": {},
   "outputs": [],
   "source": [
    "cols_to_group_by = [z for z in list(events.columns) if z not in [\"article_read_depth\", \"sent_at_timestamp\", \"sent_at\", \"event_name\", \"status\"]]\n",
    "#cols_to_group_by"
   ]
  },
  {
   "cell_type": "code",
   "execution_count": null,
   "metadata": {},
   "outputs": [
    {
     "data": {
      "text/html": [
       "<div>\n",
       "<style scoped>\n",
       "    .dataframe tbody tr th:only-of-type {\n",
       "        vertical-align: middle;\n",
       "    }\n",
       "\n",
       "    .dataframe tbody tr th {\n",
       "        vertical-align: top;\n",
       "    }\n",
       "\n",
       "    .dataframe thead th {\n",
       "        text-align: right;\n",
       "    }\n",
       "</style>\n",
       "<table border=\"1\" class=\"dataframe\">\n",
       "  <thead>\n",
       "    <tr style=\"text-align: right;\">\n",
       "      <th></th>\n",
       "      <th>event_name</th>\n",
       "      <th>status</th>\n",
       "      <th>article_read_depth</th>\n",
       "    </tr>\n",
       "  </thead>\n",
       "  <tbody>\n",
       "    <tr>\n",
       "      <th>0</th>\n",
       "      <td>PageView</td>\n",
       "      <td>NaN</td>\n",
       "      <td>0</td>\n",
       "    </tr>\n",
       "    <tr>\n",
       "      <th>3</th>\n",
       "      <td>Reading</td>\n",
       "      <td>Article Body 50</td>\n",
       "      <td>50</td>\n",
       "    </tr>\n",
       "    <tr>\n",
       "      <th>4</th>\n",
       "      <td>PageView</td>\n",
       "      <td>NaN</td>\n",
       "      <td>0</td>\n",
       "    </tr>\n",
       "    <tr>\n",
       "      <th>5</th>\n",
       "      <td>PageView</td>\n",
       "      <td>NaN</td>\n",
       "      <td>0</td>\n",
       "    </tr>\n",
       "    <tr>\n",
       "      <th>7</th>\n",
       "      <td>PageView</td>\n",
       "      <td>NaN</td>\n",
       "      <td>0</td>\n",
       "    </tr>\n",
       "  </tbody>\n",
       "</table>\n",
       "</div>"
      ],
      "text/plain": [
       "  event_name           status  article_read_depth\n",
       "0   PageView              NaN                   0\n",
       "3    Reading  Article Body 50                  50\n",
       "4   PageView              NaN                   0\n",
       "5   PageView              NaN                   0\n",
       "7   PageView              NaN                   0"
      ]
     },
     "execution_count": 876,
     "metadata": {},
     "output_type": "execute_result"
    }
   ],
   "source": [
    "events[[\"event_name\", \"status\", \"article_read_depth\"]].head()"
   ]
  },
  {
   "cell_type": "code",
   "execution_count": null,
   "metadata": {},
   "outputs": [],
   "source": [
    "cols_to_group_by = [\"country_code\", \"date\",\"is_test\", \"page_url\",\"anonymous_id\", \"slug\"]\n",
    "\n",
    "scroll_df = events.groupby(cols_to_group_by).agg({\"article_read_depth\":\"max\", \"sent_at_timestamp\":(\"min\", \"max\")})"
   ]
  },
  {
   "cell_type": "code",
   "execution_count": null,
   "metadata": {},
   "outputs": [],
   "source": [
    "scroll_df.reset_index(col_level=1, inplace=True)"
   ]
  },
  {
   "cell_type": "code",
   "execution_count": null,
   "metadata": {},
   "outputs": [],
   "source": [
    "#NB: There are some massive outliars here.\n",
    "scroll_df[\"time_on_page\"] = (scroll_df[\"sent_at_timestamp\", \"max\"] - scroll_df[\"sent_at_timestamp\", \"min\"]).dt.total_seconds()"
   ]
  },
  {
   "cell_type": "code",
   "execution_count": null,
   "metadata": {},
   "outputs": [
    {
     "name": "stdout",
     "output_type": "stream",
     "text": [
      "found 40993 taking an (maybe excessively) long time on the page of 773047 or 0.05 of total\n"
     ]
    }
   ],
   "source": [
    "time_on_page_mins_threshold = 20\n",
    "long_time_on_pages = scroll_df[scroll_df[\"time_on_page\"]>time_on_page_mins_threshold*60]\n",
    "print(\"found %i taking an (maybe excessively) long time on the page of %i or %.2f of total\" %(len(long_time_on_pages), len(scroll_df), len(long_time_on_pages)/len(scroll_df)))"
   ]
  },
  {
   "cell_type": "code",
   "execution_count": null,
   "metadata": {},
   "outputs": [
    {
     "data": {
      "text/html": [
       "<div>\n",
       "<style scoped>\n",
       "    .dataframe tbody tr th:only-of-type {\n",
       "        vertical-align: middle;\n",
       "    }\n",
       "\n",
       "    .dataframe tbody tr th {\n",
       "        vertical-align: top;\n",
       "    }\n",
       "\n",
       "    .dataframe thead th {\n",
       "        text-align: right;\n",
       "    }\n",
       "</style>\n",
       "<table border=\"1\" class=\"dataframe\">\n",
       "  <thead>\n",
       "    <tr style=\"text-align: right;\">\n",
       "      <th></th>\n",
       "      <th>country_code</th>\n",
       "      <th>date</th>\n",
       "      <th>is_test</th>\n",
       "      <th>page_url</th>\n",
       "      <th>anonymous_id</th>\n",
       "      <th>slug</th>\n",
       "      <th>max_article_read_depth</th>\n",
       "      <th>min_time</th>\n",
       "      <th>max_time</th>\n",
       "      <th>time_on_page</th>\n",
       "    </tr>\n",
       "  </thead>\n",
       "  <tbody>\n",
       "    <tr>\n",
       "      <th>0</th>\n",
       "      <td>hk</td>\n",
       "      <td>2020-03-02</td>\n",
       "      <td>False</td>\n",
       "      <td>https://blog.moneysmart.hk/budgeting/%e5%84%aa...</td>\n",
       "      <td>9cd21bf1-414f-40b2-9836-15fc3d38199c</td>\n",
       "      <td>/budgeting/%e5%84%aa%e6%83%a0%e7%a2%bc-%e5%a4%...</td>\n",
       "      <td>75</td>\n",
       "      <td>2020-03-02 05:12:53.801</td>\n",
       "      <td>2020-03-02 05:14:12.268</td>\n",
       "      <td>78.467</td>\n",
       "    </tr>\n",
       "    <tr>\n",
       "      <th>1</th>\n",
       "      <td>hk</td>\n",
       "      <td>2020-03-02</td>\n",
       "      <td>False</td>\n",
       "      <td>https://blog.moneysmart.hk/budgeting/%e6%b8%af...</td>\n",
       "      <td>6a5a96db-d203-46b0-9ea1-c3693596376a</td>\n",
       "      <td>/budgeting/%e6%b8%af%e5%85%83-%e5%ae%9a%e6%9c%...</td>\n",
       "      <td>25</td>\n",
       "      <td>2020-03-02 15:21:50.505</td>\n",
       "      <td>2020-03-02 15:22:16.800</td>\n",
       "      <td>26.295</td>\n",
       "    </tr>\n",
       "    <tr>\n",
       "      <th>2</th>\n",
       "      <td>hk</td>\n",
       "      <td>2020-03-02</td>\n",
       "      <td>False</td>\n",
       "      <td>https://blog.moneysmart.hk/budgeting/%e8%b2%a1...</td>\n",
       "      <td>4bec7747-2a0d-478d-a76a-cda42fa8ec5b</td>\n",
       "      <td>/budgeting/%e8%b2%a1%e6%94%bf%e9%a0%90%e7%ae%9...</td>\n",
       "      <td>100</td>\n",
       "      <td>2020-03-02 13:28:06.721</td>\n",
       "      <td>2020-03-02 13:30:35.344</td>\n",
       "      <td>148.623</td>\n",
       "    </tr>\n",
       "    <tr>\n",
       "      <th>3</th>\n",
       "      <td>hk</td>\n",
       "      <td>2020-03-02</td>\n",
       "      <td>False</td>\n",
       "      <td>https://blog.moneysmart.hk/budgeting/%e8%b2%a1...</td>\n",
       "      <td>ddb58b28-8a04-444b-925e-38d7a78b9d51</td>\n",
       "      <td>/budgeting/%e8%b2%a1%e6%94%bf%e9%a0%90%e7%ae%9...</td>\n",
       "      <td>100</td>\n",
       "      <td>2020-03-02 14:24:58.108</td>\n",
       "      <td>2020-03-02 14:28:42.879</td>\n",
       "      <td>224.771</td>\n",
       "    </tr>\n",
       "    <tr>\n",
       "      <th>4</th>\n",
       "      <td>hk</td>\n",
       "      <td>2020-03-02</td>\n",
       "      <td>False</td>\n",
       "      <td>https://blog.moneysmart.hk/budgeting/bno-%e7%9...</td>\n",
       "      <td>1aa2b07c-01aa-4c75-8998-590e3227b4a6</td>\n",
       "      <td>/budgeting/bno-%e7%94%b3%e8%ab%8b-%e8%ad%b7%e7...</td>\n",
       "      <td>75</td>\n",
       "      <td>2020-03-02 06:59:11.741</td>\n",
       "      <td>2020-03-02 07:03:37.787</td>\n",
       "      <td>266.046</td>\n",
       "    </tr>\n",
       "  </tbody>\n",
       "</table>\n",
       "</div>"
      ],
      "text/plain": [
       "  country_code        date  is_test  \\\n",
       "0           hk  2020-03-02    False   \n",
       "1           hk  2020-03-02    False   \n",
       "2           hk  2020-03-02    False   \n",
       "3           hk  2020-03-02    False   \n",
       "4           hk  2020-03-02    False   \n",
       "\n",
       "                                            page_url  \\\n",
       "0  https://blog.moneysmart.hk/budgeting/%e5%84%aa...   \n",
       "1  https://blog.moneysmart.hk/budgeting/%e6%b8%af...   \n",
       "2  https://blog.moneysmart.hk/budgeting/%e8%b2%a1...   \n",
       "3  https://blog.moneysmart.hk/budgeting/%e8%b2%a1...   \n",
       "4  https://blog.moneysmart.hk/budgeting/bno-%e7%9...   \n",
       "\n",
       "                           anonymous_id  \\\n",
       "0  9cd21bf1-414f-40b2-9836-15fc3d38199c   \n",
       "1  6a5a96db-d203-46b0-9ea1-c3693596376a   \n",
       "2  4bec7747-2a0d-478d-a76a-cda42fa8ec5b   \n",
       "3  ddb58b28-8a04-444b-925e-38d7a78b9d51   \n",
       "4  1aa2b07c-01aa-4c75-8998-590e3227b4a6   \n",
       "\n",
       "                                                slug  max_article_read_depth  \\\n",
       "0  /budgeting/%e5%84%aa%e6%83%a0%e7%a2%bc-%e5%a4%...                      75   \n",
       "1  /budgeting/%e6%b8%af%e5%85%83-%e5%ae%9a%e6%9c%...                      25   \n",
       "2  /budgeting/%e8%b2%a1%e6%94%bf%e9%a0%90%e7%ae%9...                     100   \n",
       "3  /budgeting/%e8%b2%a1%e6%94%bf%e9%a0%90%e7%ae%9...                     100   \n",
       "4  /budgeting/bno-%e7%94%b3%e8%ab%8b-%e8%ad%b7%e7...                      75   \n",
       "\n",
       "                 min_time                max_time  time_on_page  \n",
       "0 2020-03-02 05:12:53.801 2020-03-02 05:14:12.268        78.467  \n",
       "1 2020-03-02 15:21:50.505 2020-03-02 15:22:16.800        26.295  \n",
       "2 2020-03-02 13:28:06.721 2020-03-02 13:30:35.344       148.623  \n",
       "3 2020-03-02 14:24:58.108 2020-03-02 14:28:42.879       224.771  \n",
       "4 2020-03-02 06:59:11.741 2020-03-02 07:03:37.787       266.046  "
      ]
     },
     "execution_count": 881,
     "metadata": {},
     "output_type": "execute_result"
    }
   ],
   "source": [
    "#df.rename({5:\"max_scroll_depth\",6:\"min_time\", 7:\"max_time\", 8:\"time_on_page\"}, axis=1)\n",
    "old_col_names = [\"\".join(z) for z in scroll_df.columns.values] #hacks for multi-level index.\n",
    "new_col_names = list(old_col_names) #copy\n",
    "new_col_names[6] = \"max_article_read_depth\"\n",
    "new_col_names[7] = \"min_time\"\n",
    "new_col_names[8] = \"max_time\"\n",
    "new_col_names[9] =\"time_on_page\"\n",
    "#df.rename(columns={df.columns[5]:\"mouse\"})\n",
    "scroll_df.columns=new_col_names\n",
    "scroll_df.head(5)"
   ]
  },
  {
   "cell_type": "code",
   "execution_count": null,
   "metadata": {},
   "outputs": [],
   "source": []
  },
  {
   "cell_type": "code",
   "execution_count": null,
   "metadata": {},
   "outputs": [],
   "source": [
    "scroll_by_day = scroll_df.groupby([\"country_code\",\"is_test\", \"date\"]).agg({\"max_article_read_depth\":(\"mean\", \"count\")})"
   ]
  },
  {
   "cell_type": "code",
   "execution_count": null,
   "metadata": {},
   "outputs": [],
   "source": [
    "#scroll_by_day.reset_index()"
   ]
  },
  {
   "cell_type": "code",
   "execution_count": null,
   "metadata": {},
   "outputs": [],
   "source": [
    "scroll_by_day  = pd.pivot_table(scroll_by_day, index=[\"country_code\", \"date\"], values=[\"max_article_read_depth\"], columns=[\"is_test\"], fill_value=\"\")"
   ]
  },
  {
   "cell_type": "code",
   "execution_count": null,
   "metadata": {},
   "outputs": [],
   "source": [
    "scroll_by_day.rename(columns={\"mean\":\"av_max_article_read_depth\"}, inplace=True)\n"
   ]
  },
  {
   "cell_type": "code",
   "execution_count": null,
   "metadata": {},
   "outputs": [],
   "source": [
    "#scroll_by_day.columns = scroll_by_day.columns.droplevel(level=1)"
   ]
  },
  {
   "cell_type": "code",
   "execution_count": null,
   "metadata": {},
   "outputs": [
    {
     "data": {
      "text/html": [
       "<div>\n",
       "<style scoped>\n",
       "    .dataframe tbody tr th:only-of-type {\n",
       "        vertical-align: middle;\n",
       "    }\n",
       "\n",
       "    .dataframe tbody tr th {\n",
       "        vertical-align: top;\n",
       "    }\n",
       "\n",
       "    .dataframe thead tr th {\n",
       "        text-align: left;\n",
       "    }\n",
       "\n",
       "    .dataframe thead tr:last-of-type th {\n",
       "        text-align: right;\n",
       "    }\n",
       "</style>\n",
       "<table border=\"1\" class=\"dataframe\">\n",
       "  <thead>\n",
       "    <tr>\n",
       "      <th></th>\n",
       "      <th></th>\n",
       "      <th colspan=\"4\" halign=\"left\">max_article_read_depth</th>\n",
       "    </tr>\n",
       "    <tr>\n",
       "      <th></th>\n",
       "      <th></th>\n",
       "      <th colspan=\"2\" halign=\"left\">count</th>\n",
       "      <th colspan=\"2\" halign=\"left\">av_max_article_read_depth</th>\n",
       "    </tr>\n",
       "    <tr>\n",
       "      <th></th>\n",
       "      <th>is_test</th>\n",
       "      <th>False</th>\n",
       "      <th>True</th>\n",
       "      <th>False</th>\n",
       "      <th>True</th>\n",
       "    </tr>\n",
       "    <tr>\n",
       "      <th>country_code</th>\n",
       "      <th>date</th>\n",
       "      <th></th>\n",
       "      <th></th>\n",
       "      <th></th>\n",
       "      <th></th>\n",
       "    </tr>\n",
       "  </thead>\n",
       "  <tbody>\n",
       "    <tr>\n",
       "      <th rowspan=\"10\" valign=\"top\">hk</th>\n",
       "      <th>2020-03-02</th>\n",
       "      <td>11698</td>\n",
       "      <td>988</td>\n",
       "      <td>51.662677</td>\n",
       "      <td>42.965587</td>\n",
       "    </tr>\n",
       "    <tr>\n",
       "      <th>2020-03-03</th>\n",
       "      <td>11443</td>\n",
       "      <td>934</td>\n",
       "      <td>50.456611</td>\n",
       "      <td>45.101713</td>\n",
       "    </tr>\n",
       "    <tr>\n",
       "      <th>2020-03-04</th>\n",
       "      <td>11458</td>\n",
       "      <td>961</td>\n",
       "      <td>49.906179</td>\n",
       "      <td>41.909469</td>\n",
       "    </tr>\n",
       "    <tr>\n",
       "      <th>2020-03-05</th>\n",
       "      <td>10741</td>\n",
       "      <td>935</td>\n",
       "      <td>50.572572</td>\n",
       "      <td>44.037433</td>\n",
       "    </tr>\n",
       "    <tr>\n",
       "      <th>2020-03-06</th>\n",
       "      <td>10608</td>\n",
       "      <td>861</td>\n",
       "      <td>49.292986</td>\n",
       "      <td>46.283391</td>\n",
       "    </tr>\n",
       "    <tr>\n",
       "      <th>2020-03-07</th>\n",
       "      <td>10759</td>\n",
       "      <td>879</td>\n",
       "      <td>51.600985</td>\n",
       "      <td>46.530148</td>\n",
       "    </tr>\n",
       "    <tr>\n",
       "      <th>2020-03-08</th>\n",
       "      <td>10980</td>\n",
       "      <td>967</td>\n",
       "      <td>52.629781</td>\n",
       "      <td>47.078594</td>\n",
       "    </tr>\n",
       "    <tr>\n",
       "      <th>2020-03-09</th>\n",
       "      <td>11306</td>\n",
       "      <td>1034</td>\n",
       "      <td>50.928710</td>\n",
       "      <td>44.584139</td>\n",
       "    </tr>\n",
       "    <tr>\n",
       "      <th>2020-03-10</th>\n",
       "      <td>10574</td>\n",
       "      <td>857</td>\n",
       "      <td>50.714016</td>\n",
       "      <td>46.645274</td>\n",
       "    </tr>\n",
       "    <tr>\n",
       "      <th>2020-03-11</th>\n",
       "      <td>8743</td>\n",
       "      <td>691</td>\n",
       "      <td>49.819856</td>\n",
       "      <td>46.454414</td>\n",
       "    </tr>\n",
       "    <tr>\n",
       "      <th rowspan=\"10\" valign=\"top\">sg</th>\n",
       "      <th>2020-03-02</th>\n",
       "      <td>64058</td>\n",
       "      <td>3735</td>\n",
       "      <td>46.270177</td>\n",
       "      <td>45.589023</td>\n",
       "    </tr>\n",
       "    <tr>\n",
       "      <th>2020-03-03</th>\n",
       "      <td>63504</td>\n",
       "      <td>3659</td>\n",
       "      <td>45.386117</td>\n",
       "      <td>45.060126</td>\n",
       "    </tr>\n",
       "    <tr>\n",
       "      <th>2020-03-04</th>\n",
       "      <td>62520</td>\n",
       "      <td>3663</td>\n",
       "      <td>45.506238</td>\n",
       "      <td>45.181545</td>\n",
       "    </tr>\n",
       "    <tr>\n",
       "      <th>2020-03-05</th>\n",
       "      <td>61351</td>\n",
       "      <td>3468</td>\n",
       "      <td>45.586462</td>\n",
       "      <td>44.831315</td>\n",
       "    </tr>\n",
       "    <tr>\n",
       "      <th>2020-03-06</th>\n",
       "      <td>58296</td>\n",
       "      <td>3349</td>\n",
       "      <td>44.270619</td>\n",
       "      <td>43.841445</td>\n",
       "    </tr>\n",
       "    <tr>\n",
       "      <th>2020-03-07</th>\n",
       "      <td>61029</td>\n",
       "      <td>3537</td>\n",
       "      <td>44.412083</td>\n",
       "      <td>44.465649</td>\n",
       "    </tr>\n",
       "    <tr>\n",
       "      <th>2020-03-08</th>\n",
       "      <td>63595</td>\n",
       "      <td>3619</td>\n",
       "      <td>45.692271</td>\n",
       "      <td>44.439072</td>\n",
       "    </tr>\n",
       "    <tr>\n",
       "      <th>2020-03-09</th>\n",
       "      <td>66616</td>\n",
       "      <td>3867</td>\n",
       "      <td>45.340083</td>\n",
       "      <td>42.668735</td>\n",
       "    </tr>\n",
       "    <tr>\n",
       "      <th>2020-03-10</th>\n",
       "      <td>64329</td>\n",
       "      <td>3726</td>\n",
       "      <td>45.755025</td>\n",
       "      <td>44.323671</td>\n",
       "    </tr>\n",
       "    <tr>\n",
       "      <th>2020-03-11</th>\n",
       "      <td>54509</td>\n",
       "      <td>3200</td>\n",
       "      <td>44.567870</td>\n",
       "      <td>44.312500</td>\n",
       "    </tr>\n",
       "  </tbody>\n",
       "</table>\n",
       "</div>"
      ],
      "text/plain": [
       "                        max_article_read_depth        \\\n",
       "                                         count         \n",
       "is_test                                  False True    \n",
       "country_code date                                      \n",
       "hk           2020-03-02                  11698   988   \n",
       "             2020-03-03                  11443   934   \n",
       "             2020-03-04                  11458   961   \n",
       "             2020-03-05                  10741   935   \n",
       "             2020-03-06                  10608   861   \n",
       "             2020-03-07                  10759   879   \n",
       "             2020-03-08                  10980   967   \n",
       "             2020-03-09                  11306  1034   \n",
       "             2020-03-10                  10574   857   \n",
       "             2020-03-11                   8743   691   \n",
       "sg           2020-03-02                  64058  3735   \n",
       "             2020-03-03                  63504  3659   \n",
       "             2020-03-04                  62520  3663   \n",
       "             2020-03-05                  61351  3468   \n",
       "             2020-03-06                  58296  3349   \n",
       "             2020-03-07                  61029  3537   \n",
       "             2020-03-08                  63595  3619   \n",
       "             2020-03-09                  66616  3867   \n",
       "             2020-03-10                  64329  3726   \n",
       "             2020-03-11                  54509  3200   \n",
       "\n",
       "                                                              \n",
       "                        av_max_article_read_depth             \n",
       "is_test                                     False      True   \n",
       "country_code date                                             \n",
       "hk           2020-03-02                 51.662677  42.965587  \n",
       "             2020-03-03                 50.456611  45.101713  \n",
       "             2020-03-04                 49.906179  41.909469  \n",
       "             2020-03-05                 50.572572  44.037433  \n",
       "             2020-03-06                 49.292986  46.283391  \n",
       "             2020-03-07                 51.600985  46.530148  \n",
       "             2020-03-08                 52.629781  47.078594  \n",
       "             2020-03-09                 50.928710  44.584139  \n",
       "             2020-03-10                 50.714016  46.645274  \n",
       "             2020-03-11                 49.819856  46.454414  \n",
       "sg           2020-03-02                 46.270177  45.589023  \n",
       "             2020-03-03                 45.386117  45.060126  \n",
       "             2020-03-04                 45.506238  45.181545  \n",
       "             2020-03-05                 45.586462  44.831315  \n",
       "             2020-03-06                 44.270619  43.841445  \n",
       "             2020-03-07                 44.412083  44.465649  \n",
       "             2020-03-08                 45.692271  44.439072  \n",
       "             2020-03-09                 45.340083  42.668735  \n",
       "             2020-03-10                 45.755025  44.323671  \n",
       "             2020-03-11                 44.567870  44.312500  "
      ]
     },
     "execution_count": 887,
     "metadata": {},
     "output_type": "execute_result"
    }
   ],
   "source": [
    "scroll_by_day"
   ]
  },
  {
   "cell_type": "code",
   "execution_count": null,
   "metadata": {},
   "outputs": [],
   "source": [
    "scroll_by_day[\"max_article_read_depth\",\"av_max_article_read_depth\", \"v2_vs_v1_av_read_depth\"] = \\\n",
    "    scroll_by_day[\"max_article_read_depth\",\"av_max_article_read_depth\", True]-scroll_by_day[\"max_article_read_depth\",\"av_max_article_read_depth\", False] "
   ]
  },
  {
   "cell_type": "code",
   "execution_count": null,
   "metadata": {},
   "outputs": [
    {
     "data": {
      "text/html": [
       "<style  type=\"text/css\" >\n",
       "    #T_07d7f454_642d_11ea_8ff6_054989be1d01row0_col4 {\n",
       "            background-color: pink;\n",
       "        }    #T_07d7f454_642d_11ea_8ff6_054989be1d01row1_col4 {\n",
       "            background-color: pink;\n",
       "        }    #T_07d7f454_642d_11ea_8ff6_054989be1d01row2_col4 {\n",
       "            background-color: pink;\n",
       "        }    #T_07d7f454_642d_11ea_8ff6_054989be1d01row3_col4 {\n",
       "            background-color: pink;\n",
       "        }    #T_07d7f454_642d_11ea_8ff6_054989be1d01row4_col4 {\n",
       "            background-color: pink;\n",
       "        }    #T_07d7f454_642d_11ea_8ff6_054989be1d01row5_col4 {\n",
       "            background-color: pink;\n",
       "        }    #T_07d7f454_642d_11ea_8ff6_054989be1d01row6_col4 {\n",
       "            background-color: pink;\n",
       "        }    #T_07d7f454_642d_11ea_8ff6_054989be1d01row7_col4 {\n",
       "            background-color: pink;\n",
       "        }    #T_07d7f454_642d_11ea_8ff6_054989be1d01row8_col4 {\n",
       "            background-color: pink;\n",
       "        }    #T_07d7f454_642d_11ea_8ff6_054989be1d01row9_col4 {\n",
       "            background-color: pink;\n",
       "        }    #T_07d7f454_642d_11ea_8ff6_054989be1d01row10_col4 {\n",
       "            background-color: pink;\n",
       "        }    #T_07d7f454_642d_11ea_8ff6_054989be1d01row11_col4 {\n",
       "            background-color: pink;\n",
       "        }    #T_07d7f454_642d_11ea_8ff6_054989be1d01row12_col4 {\n",
       "            background-color: pink;\n",
       "        }    #T_07d7f454_642d_11ea_8ff6_054989be1d01row13_col4 {\n",
       "            background-color: pink;\n",
       "        }    #T_07d7f454_642d_11ea_8ff6_054989be1d01row14_col4 {\n",
       "            background-color: pink;\n",
       "        }    #T_07d7f454_642d_11ea_8ff6_054989be1d01row16_col4 {\n",
       "            background-color: pink;\n",
       "        }    #T_07d7f454_642d_11ea_8ff6_054989be1d01row17_col4 {\n",
       "            background-color: pink;\n",
       "        }    #T_07d7f454_642d_11ea_8ff6_054989be1d01row18_col4 {\n",
       "            background-color: pink;\n",
       "        }    #T_07d7f454_642d_11ea_8ff6_054989be1d01row19_col4 {\n",
       "            background-color: pink;\n",
       "        }</style><table id=\"T_07d7f454_642d_11ea_8ff6_054989be1d01\" ><thead>    <tr>        <th class=\"blank\" ></th>        <th class=\"blank level0\" ></th>        <th class=\"col_heading level0 col0\" colspan=5>max_article_read_depth</th>    </tr>    <tr>        <th class=\"blank\" ></th>        <th class=\"blank level1\" ></th>        <th class=\"col_heading level1 col0\" colspan=2>count</th>        <th class=\"col_heading level1 col2\" colspan=3>av_max_article_read_depth</th>    </tr>    <tr>        <th class=\"blank\" ></th>        <th class=\"index_name level2\" >is_test</th>        <th class=\"col_heading level2 col0\" >False</th>        <th class=\"col_heading level2 col1\" >True</th>        <th class=\"col_heading level2 col2\" >False</th>        <th class=\"col_heading level2 col3\" >True</th>        <th class=\"col_heading level2 col4\" >v2_vs_v1_av_read_depth</th>    </tr>    <tr>        <th class=\"index_name level0\" >country_code</th>        <th class=\"index_name level1\" >date</th>        <th class=\"blank\" ></th>        <th class=\"blank\" ></th>        <th class=\"blank\" ></th>        <th class=\"blank\" ></th>        <th class=\"blank\" ></th>    </tr></thead><tbody>\n",
       "                <tr>\n",
       "                        <th id=\"T_07d7f454_642d_11ea_8ff6_054989be1d01level0_row0\" class=\"row_heading level0 row0\" rowspan=10>hk</th>\n",
       "                        <th id=\"T_07d7f454_642d_11ea_8ff6_054989be1d01level1_row0\" class=\"row_heading level1 row0\" >2020-03-02</th>\n",
       "                        <td id=\"T_07d7f454_642d_11ea_8ff6_054989be1d01row0_col0\" class=\"data row0 col0\" >11698</td>\n",
       "                        <td id=\"T_07d7f454_642d_11ea_8ff6_054989be1d01row0_col1\" class=\"data row0 col1\" >988</td>\n",
       "                        <td id=\"T_07d7f454_642d_11ea_8ff6_054989be1d01row0_col2\" class=\"data row0 col2\" >51.6627</td>\n",
       "                        <td id=\"T_07d7f454_642d_11ea_8ff6_054989be1d01row0_col3\" class=\"data row0 col3\" >42.9656</td>\n",
       "                        <td id=\"T_07d7f454_642d_11ea_8ff6_054989be1d01row0_col4\" class=\"data row0 col4\" >-8.69709</td>\n",
       "            </tr>\n",
       "            <tr>\n",
       "                                <th id=\"T_07d7f454_642d_11ea_8ff6_054989be1d01level1_row1\" class=\"row_heading level1 row1\" >2020-03-03</th>\n",
       "                        <td id=\"T_07d7f454_642d_11ea_8ff6_054989be1d01row1_col0\" class=\"data row1 col0\" >11443</td>\n",
       "                        <td id=\"T_07d7f454_642d_11ea_8ff6_054989be1d01row1_col1\" class=\"data row1 col1\" >934</td>\n",
       "                        <td id=\"T_07d7f454_642d_11ea_8ff6_054989be1d01row1_col2\" class=\"data row1 col2\" >50.4566</td>\n",
       "                        <td id=\"T_07d7f454_642d_11ea_8ff6_054989be1d01row1_col3\" class=\"data row1 col3\" >45.1017</td>\n",
       "                        <td id=\"T_07d7f454_642d_11ea_8ff6_054989be1d01row1_col4\" class=\"data row1 col4\" >-5.3549</td>\n",
       "            </tr>\n",
       "            <tr>\n",
       "                                <th id=\"T_07d7f454_642d_11ea_8ff6_054989be1d01level1_row2\" class=\"row_heading level1 row2\" >2020-03-04</th>\n",
       "                        <td id=\"T_07d7f454_642d_11ea_8ff6_054989be1d01row2_col0\" class=\"data row2 col0\" >11458</td>\n",
       "                        <td id=\"T_07d7f454_642d_11ea_8ff6_054989be1d01row2_col1\" class=\"data row2 col1\" >961</td>\n",
       "                        <td id=\"T_07d7f454_642d_11ea_8ff6_054989be1d01row2_col2\" class=\"data row2 col2\" >49.9062</td>\n",
       "                        <td id=\"T_07d7f454_642d_11ea_8ff6_054989be1d01row2_col3\" class=\"data row2 col3\" >41.9095</td>\n",
       "                        <td id=\"T_07d7f454_642d_11ea_8ff6_054989be1d01row2_col4\" class=\"data row2 col4\" >-7.99671</td>\n",
       "            </tr>\n",
       "            <tr>\n",
       "                                <th id=\"T_07d7f454_642d_11ea_8ff6_054989be1d01level1_row3\" class=\"row_heading level1 row3\" >2020-03-05</th>\n",
       "                        <td id=\"T_07d7f454_642d_11ea_8ff6_054989be1d01row3_col0\" class=\"data row3 col0\" >10741</td>\n",
       "                        <td id=\"T_07d7f454_642d_11ea_8ff6_054989be1d01row3_col1\" class=\"data row3 col1\" >935</td>\n",
       "                        <td id=\"T_07d7f454_642d_11ea_8ff6_054989be1d01row3_col2\" class=\"data row3 col2\" >50.5726</td>\n",
       "                        <td id=\"T_07d7f454_642d_11ea_8ff6_054989be1d01row3_col3\" class=\"data row3 col3\" >44.0374</td>\n",
       "                        <td id=\"T_07d7f454_642d_11ea_8ff6_054989be1d01row3_col4\" class=\"data row3 col4\" >-6.53514</td>\n",
       "            </tr>\n",
       "            <tr>\n",
       "                                <th id=\"T_07d7f454_642d_11ea_8ff6_054989be1d01level1_row4\" class=\"row_heading level1 row4\" >2020-03-06</th>\n",
       "                        <td id=\"T_07d7f454_642d_11ea_8ff6_054989be1d01row4_col0\" class=\"data row4 col0\" >10608</td>\n",
       "                        <td id=\"T_07d7f454_642d_11ea_8ff6_054989be1d01row4_col1\" class=\"data row4 col1\" >861</td>\n",
       "                        <td id=\"T_07d7f454_642d_11ea_8ff6_054989be1d01row4_col2\" class=\"data row4 col2\" >49.293</td>\n",
       "                        <td id=\"T_07d7f454_642d_11ea_8ff6_054989be1d01row4_col3\" class=\"data row4 col3\" >46.2834</td>\n",
       "                        <td id=\"T_07d7f454_642d_11ea_8ff6_054989be1d01row4_col4\" class=\"data row4 col4\" >-3.0096</td>\n",
       "            </tr>\n",
       "            <tr>\n",
       "                                <th id=\"T_07d7f454_642d_11ea_8ff6_054989be1d01level1_row5\" class=\"row_heading level1 row5\" >2020-03-07</th>\n",
       "                        <td id=\"T_07d7f454_642d_11ea_8ff6_054989be1d01row5_col0\" class=\"data row5 col0\" >10759</td>\n",
       "                        <td id=\"T_07d7f454_642d_11ea_8ff6_054989be1d01row5_col1\" class=\"data row5 col1\" >879</td>\n",
       "                        <td id=\"T_07d7f454_642d_11ea_8ff6_054989be1d01row5_col2\" class=\"data row5 col2\" >51.601</td>\n",
       "                        <td id=\"T_07d7f454_642d_11ea_8ff6_054989be1d01row5_col3\" class=\"data row5 col3\" >46.5301</td>\n",
       "                        <td id=\"T_07d7f454_642d_11ea_8ff6_054989be1d01row5_col4\" class=\"data row5 col4\" >-5.07084</td>\n",
       "            </tr>\n",
       "            <tr>\n",
       "                                <th id=\"T_07d7f454_642d_11ea_8ff6_054989be1d01level1_row6\" class=\"row_heading level1 row6\" >2020-03-08</th>\n",
       "                        <td id=\"T_07d7f454_642d_11ea_8ff6_054989be1d01row6_col0\" class=\"data row6 col0\" >10980</td>\n",
       "                        <td id=\"T_07d7f454_642d_11ea_8ff6_054989be1d01row6_col1\" class=\"data row6 col1\" >967</td>\n",
       "                        <td id=\"T_07d7f454_642d_11ea_8ff6_054989be1d01row6_col2\" class=\"data row6 col2\" >52.6298</td>\n",
       "                        <td id=\"T_07d7f454_642d_11ea_8ff6_054989be1d01row6_col3\" class=\"data row6 col3\" >47.0786</td>\n",
       "                        <td id=\"T_07d7f454_642d_11ea_8ff6_054989be1d01row6_col4\" class=\"data row6 col4\" >-5.55119</td>\n",
       "            </tr>\n",
       "            <tr>\n",
       "                                <th id=\"T_07d7f454_642d_11ea_8ff6_054989be1d01level1_row7\" class=\"row_heading level1 row7\" >2020-03-09</th>\n",
       "                        <td id=\"T_07d7f454_642d_11ea_8ff6_054989be1d01row7_col0\" class=\"data row7 col0\" >11306</td>\n",
       "                        <td id=\"T_07d7f454_642d_11ea_8ff6_054989be1d01row7_col1\" class=\"data row7 col1\" >1034</td>\n",
       "                        <td id=\"T_07d7f454_642d_11ea_8ff6_054989be1d01row7_col2\" class=\"data row7 col2\" >50.9287</td>\n",
       "                        <td id=\"T_07d7f454_642d_11ea_8ff6_054989be1d01row7_col3\" class=\"data row7 col3\" >44.5841</td>\n",
       "                        <td id=\"T_07d7f454_642d_11ea_8ff6_054989be1d01row7_col4\" class=\"data row7 col4\" >-6.34457</td>\n",
       "            </tr>\n",
       "            <tr>\n",
       "                                <th id=\"T_07d7f454_642d_11ea_8ff6_054989be1d01level1_row8\" class=\"row_heading level1 row8\" >2020-03-10</th>\n",
       "                        <td id=\"T_07d7f454_642d_11ea_8ff6_054989be1d01row8_col0\" class=\"data row8 col0\" >10574</td>\n",
       "                        <td id=\"T_07d7f454_642d_11ea_8ff6_054989be1d01row8_col1\" class=\"data row8 col1\" >857</td>\n",
       "                        <td id=\"T_07d7f454_642d_11ea_8ff6_054989be1d01row8_col2\" class=\"data row8 col2\" >50.714</td>\n",
       "                        <td id=\"T_07d7f454_642d_11ea_8ff6_054989be1d01row8_col3\" class=\"data row8 col3\" >46.6453</td>\n",
       "                        <td id=\"T_07d7f454_642d_11ea_8ff6_054989be1d01row8_col4\" class=\"data row8 col4\" >-4.06874</td>\n",
       "            </tr>\n",
       "            <tr>\n",
       "                                <th id=\"T_07d7f454_642d_11ea_8ff6_054989be1d01level1_row9\" class=\"row_heading level1 row9\" >2020-03-11</th>\n",
       "                        <td id=\"T_07d7f454_642d_11ea_8ff6_054989be1d01row9_col0\" class=\"data row9 col0\" >8743</td>\n",
       "                        <td id=\"T_07d7f454_642d_11ea_8ff6_054989be1d01row9_col1\" class=\"data row9 col1\" >691</td>\n",
       "                        <td id=\"T_07d7f454_642d_11ea_8ff6_054989be1d01row9_col2\" class=\"data row9 col2\" >49.8199</td>\n",
       "                        <td id=\"T_07d7f454_642d_11ea_8ff6_054989be1d01row9_col3\" class=\"data row9 col3\" >46.4544</td>\n",
       "                        <td id=\"T_07d7f454_642d_11ea_8ff6_054989be1d01row9_col4\" class=\"data row9 col4\" >-3.36544</td>\n",
       "            </tr>\n",
       "            <tr>\n",
       "                        <th id=\"T_07d7f454_642d_11ea_8ff6_054989be1d01level0_row10\" class=\"row_heading level0 row10\" rowspan=10>sg</th>\n",
       "                        <th id=\"T_07d7f454_642d_11ea_8ff6_054989be1d01level1_row10\" class=\"row_heading level1 row10\" >2020-03-02</th>\n",
       "                        <td id=\"T_07d7f454_642d_11ea_8ff6_054989be1d01row10_col0\" class=\"data row10 col0\" >64058</td>\n",
       "                        <td id=\"T_07d7f454_642d_11ea_8ff6_054989be1d01row10_col1\" class=\"data row10 col1\" >3735</td>\n",
       "                        <td id=\"T_07d7f454_642d_11ea_8ff6_054989be1d01row10_col2\" class=\"data row10 col2\" >46.2702</td>\n",
       "                        <td id=\"T_07d7f454_642d_11ea_8ff6_054989be1d01row10_col3\" class=\"data row10 col3\" >45.589</td>\n",
       "                        <td id=\"T_07d7f454_642d_11ea_8ff6_054989be1d01row10_col4\" class=\"data row10 col4\" >-0.681154</td>\n",
       "            </tr>\n",
       "            <tr>\n",
       "                                <th id=\"T_07d7f454_642d_11ea_8ff6_054989be1d01level1_row11\" class=\"row_heading level1 row11\" >2020-03-03</th>\n",
       "                        <td id=\"T_07d7f454_642d_11ea_8ff6_054989be1d01row11_col0\" class=\"data row11 col0\" >63504</td>\n",
       "                        <td id=\"T_07d7f454_642d_11ea_8ff6_054989be1d01row11_col1\" class=\"data row11 col1\" >3659</td>\n",
       "                        <td id=\"T_07d7f454_642d_11ea_8ff6_054989be1d01row11_col2\" class=\"data row11 col2\" >45.3861</td>\n",
       "                        <td id=\"T_07d7f454_642d_11ea_8ff6_054989be1d01row11_col3\" class=\"data row11 col3\" >45.0601</td>\n",
       "                        <td id=\"T_07d7f454_642d_11ea_8ff6_054989be1d01row11_col4\" class=\"data row11 col4\" >-0.325992</td>\n",
       "            </tr>\n",
       "            <tr>\n",
       "                                <th id=\"T_07d7f454_642d_11ea_8ff6_054989be1d01level1_row12\" class=\"row_heading level1 row12\" >2020-03-04</th>\n",
       "                        <td id=\"T_07d7f454_642d_11ea_8ff6_054989be1d01row12_col0\" class=\"data row12 col0\" >62520</td>\n",
       "                        <td id=\"T_07d7f454_642d_11ea_8ff6_054989be1d01row12_col1\" class=\"data row12 col1\" >3663</td>\n",
       "                        <td id=\"T_07d7f454_642d_11ea_8ff6_054989be1d01row12_col2\" class=\"data row12 col2\" >45.5062</td>\n",
       "                        <td id=\"T_07d7f454_642d_11ea_8ff6_054989be1d01row12_col3\" class=\"data row12 col3\" >45.1815</td>\n",
       "                        <td id=\"T_07d7f454_642d_11ea_8ff6_054989be1d01row12_col4\" class=\"data row12 col4\" >-0.324693</td>\n",
       "            </tr>\n",
       "            <tr>\n",
       "                                <th id=\"T_07d7f454_642d_11ea_8ff6_054989be1d01level1_row13\" class=\"row_heading level1 row13\" >2020-03-05</th>\n",
       "                        <td id=\"T_07d7f454_642d_11ea_8ff6_054989be1d01row13_col0\" class=\"data row13 col0\" >61351</td>\n",
       "                        <td id=\"T_07d7f454_642d_11ea_8ff6_054989be1d01row13_col1\" class=\"data row13 col1\" >3468</td>\n",
       "                        <td id=\"T_07d7f454_642d_11ea_8ff6_054989be1d01row13_col2\" class=\"data row13 col2\" >45.5865</td>\n",
       "                        <td id=\"T_07d7f454_642d_11ea_8ff6_054989be1d01row13_col3\" class=\"data row13 col3\" >44.8313</td>\n",
       "                        <td id=\"T_07d7f454_642d_11ea_8ff6_054989be1d01row13_col4\" class=\"data row13 col4\" >-0.755147</td>\n",
       "            </tr>\n",
       "            <tr>\n",
       "                                <th id=\"T_07d7f454_642d_11ea_8ff6_054989be1d01level1_row14\" class=\"row_heading level1 row14\" >2020-03-06</th>\n",
       "                        <td id=\"T_07d7f454_642d_11ea_8ff6_054989be1d01row14_col0\" class=\"data row14 col0\" >58296</td>\n",
       "                        <td id=\"T_07d7f454_642d_11ea_8ff6_054989be1d01row14_col1\" class=\"data row14 col1\" >3349</td>\n",
       "                        <td id=\"T_07d7f454_642d_11ea_8ff6_054989be1d01row14_col2\" class=\"data row14 col2\" >44.2706</td>\n",
       "                        <td id=\"T_07d7f454_642d_11ea_8ff6_054989be1d01row14_col3\" class=\"data row14 col3\" >43.8414</td>\n",
       "                        <td id=\"T_07d7f454_642d_11ea_8ff6_054989be1d01row14_col4\" class=\"data row14 col4\" >-0.429174</td>\n",
       "            </tr>\n",
       "            <tr>\n",
       "                                <th id=\"T_07d7f454_642d_11ea_8ff6_054989be1d01level1_row15\" class=\"row_heading level1 row15\" >2020-03-07</th>\n",
       "                        <td id=\"T_07d7f454_642d_11ea_8ff6_054989be1d01row15_col0\" class=\"data row15 col0\" >61029</td>\n",
       "                        <td id=\"T_07d7f454_642d_11ea_8ff6_054989be1d01row15_col1\" class=\"data row15 col1\" >3537</td>\n",
       "                        <td id=\"T_07d7f454_642d_11ea_8ff6_054989be1d01row15_col2\" class=\"data row15 col2\" >44.4121</td>\n",
       "                        <td id=\"T_07d7f454_642d_11ea_8ff6_054989be1d01row15_col3\" class=\"data row15 col3\" >44.4656</td>\n",
       "                        <td id=\"T_07d7f454_642d_11ea_8ff6_054989be1d01row15_col4\" class=\"data row15 col4\" >0.0535661</td>\n",
       "            </tr>\n",
       "            <tr>\n",
       "                                <th id=\"T_07d7f454_642d_11ea_8ff6_054989be1d01level1_row16\" class=\"row_heading level1 row16\" >2020-03-08</th>\n",
       "                        <td id=\"T_07d7f454_642d_11ea_8ff6_054989be1d01row16_col0\" class=\"data row16 col0\" >63595</td>\n",
       "                        <td id=\"T_07d7f454_642d_11ea_8ff6_054989be1d01row16_col1\" class=\"data row16 col1\" >3619</td>\n",
       "                        <td id=\"T_07d7f454_642d_11ea_8ff6_054989be1d01row16_col2\" class=\"data row16 col2\" >45.6923</td>\n",
       "                        <td id=\"T_07d7f454_642d_11ea_8ff6_054989be1d01row16_col3\" class=\"data row16 col3\" >44.4391</td>\n",
       "                        <td id=\"T_07d7f454_642d_11ea_8ff6_054989be1d01row16_col4\" class=\"data row16 col4\" >-1.2532</td>\n",
       "            </tr>\n",
       "            <tr>\n",
       "                                <th id=\"T_07d7f454_642d_11ea_8ff6_054989be1d01level1_row17\" class=\"row_heading level1 row17\" >2020-03-09</th>\n",
       "                        <td id=\"T_07d7f454_642d_11ea_8ff6_054989be1d01row17_col0\" class=\"data row17 col0\" >66616</td>\n",
       "                        <td id=\"T_07d7f454_642d_11ea_8ff6_054989be1d01row17_col1\" class=\"data row17 col1\" >3867</td>\n",
       "                        <td id=\"T_07d7f454_642d_11ea_8ff6_054989be1d01row17_col2\" class=\"data row17 col2\" >45.3401</td>\n",
       "                        <td id=\"T_07d7f454_642d_11ea_8ff6_054989be1d01row17_col3\" class=\"data row17 col3\" >42.6687</td>\n",
       "                        <td id=\"T_07d7f454_642d_11ea_8ff6_054989be1d01row17_col4\" class=\"data row17 col4\" >-2.67135</td>\n",
       "            </tr>\n",
       "            <tr>\n",
       "                                <th id=\"T_07d7f454_642d_11ea_8ff6_054989be1d01level1_row18\" class=\"row_heading level1 row18\" >2020-03-10</th>\n",
       "                        <td id=\"T_07d7f454_642d_11ea_8ff6_054989be1d01row18_col0\" class=\"data row18 col0\" >64329</td>\n",
       "                        <td id=\"T_07d7f454_642d_11ea_8ff6_054989be1d01row18_col1\" class=\"data row18 col1\" >3726</td>\n",
       "                        <td id=\"T_07d7f454_642d_11ea_8ff6_054989be1d01row18_col2\" class=\"data row18 col2\" >45.755</td>\n",
       "                        <td id=\"T_07d7f454_642d_11ea_8ff6_054989be1d01row18_col3\" class=\"data row18 col3\" >44.3237</td>\n",
       "                        <td id=\"T_07d7f454_642d_11ea_8ff6_054989be1d01row18_col4\" class=\"data row18 col4\" >-1.43135</td>\n",
       "            </tr>\n",
       "            <tr>\n",
       "                                <th id=\"T_07d7f454_642d_11ea_8ff6_054989be1d01level1_row19\" class=\"row_heading level1 row19\" >2020-03-11</th>\n",
       "                        <td id=\"T_07d7f454_642d_11ea_8ff6_054989be1d01row19_col0\" class=\"data row19 col0\" >54509</td>\n",
       "                        <td id=\"T_07d7f454_642d_11ea_8ff6_054989be1d01row19_col1\" class=\"data row19 col1\" >3200</td>\n",
       "                        <td id=\"T_07d7f454_642d_11ea_8ff6_054989be1d01row19_col2\" class=\"data row19 col2\" >44.5679</td>\n",
       "                        <td id=\"T_07d7f454_642d_11ea_8ff6_054989be1d01row19_col3\" class=\"data row19 col3\" >44.3125</td>\n",
       "                        <td id=\"T_07d7f454_642d_11ea_8ff6_054989be1d01row19_col4\" class=\"data row19 col4\" >-0.25537</td>\n",
       "            </tr>\n",
       "    </tbody></table>"
      ],
      "text/plain": [
       "<pandas.io.formats.style.Styler at 0x7f04b480a780>"
      ]
     },
     "execution_count": 889,
     "metadata": {},
     "output_type": "execute_result"
    }
   ],
   "source": [
    "def color_negatives(x):\n",
    "    if x>=0:\n",
    "        #return \"color:green\"\n",
    "        return \"\"\n",
    "    return \"background-color:pink\"\n",
    "\n",
    "scroll_by_day.style.applymap(color_negatives) "
   ]
  },
  {
   "cell_type": "markdown",
   "metadata": {},
   "source": [
    "# Scroll Depth Breakdown"
   ]
  },
  {
   "cell_type": "code",
   "execution_count": null,
   "metadata": {},
   "outputs": [],
   "source": [
    "scroll_by_depth = scroll_df.groupby([\"country_code\",\"is_test\", \"max_article_read_depth\"]).size().reset_index(name=\"num_pageviews\")\n",
    "#scroll_by_depth[\"%_pageviews\"] >>\n",
    "#scroll_by_depth"
   ]
  },
  {
   "cell_type": "code",
   "execution_count": null,
   "metadata": {},
   "outputs": [],
   "source": [
    "totals = scroll_by_depth.groupby([\"country_code\", \"is_test\"]).sum()[\"num_pageviews\"].reset_index()\n",
    "#.rename(columns={\"num_pageviews\":\"total_pageviews\"})\n",
    "totals = totals.rename(columns={\"num_pageviews\":\"total_pageviews\"})\n",
    "#totals"
   ]
  },
  {
   "cell_type": "code",
   "execution_count": null,
   "metadata": {},
   "outputs": [],
   "source": [
    "scroll_by_depth = scroll_by_depth.merge(totals, how=\"left\", on=[\"country_code\", \"is_test\"]) \n",
    "scroll_by_depth[\"fraction_pageviews\"] = scroll_by_depth[\"num_pageviews\"] / scroll_by_depth[\"total_pageviews\"]"
   ]
  },
  {
   "cell_type": "code",
   "execution_count": null,
   "metadata": {},
   "outputs": [],
   "source": [
    "#scroll_by_depth"
   ]
  },
  {
   "cell_type": "code",
   "execution_count": null,
   "metadata": {},
   "outputs": [
    {
     "data": {
      "text/html": [
       "<div>\n",
       "<style scoped>\n",
       "    .dataframe tbody tr th:only-of-type {\n",
       "        vertical-align: middle;\n",
       "    }\n",
       "\n",
       "    .dataframe tbody tr th {\n",
       "        vertical-align: top;\n",
       "    }\n",
       "\n",
       "    .dataframe thead tr th {\n",
       "        text-align: left;\n",
       "    }\n",
       "\n",
       "    .dataframe thead tr:last-of-type th {\n",
       "        text-align: right;\n",
       "    }\n",
       "</style>\n",
       "<table border=\"1\" class=\"dataframe\">\n",
       "  <thead>\n",
       "    <tr>\n",
       "      <th></th>\n",
       "      <th></th>\n",
       "      <th colspan=\"2\" halign=\"left\">fraction_pageviews</th>\n",
       "      <th colspan=\"2\" halign=\"left\">num_pageviews</th>\n",
       "      <th colspan=\"2\" halign=\"left\">total_pageviews</th>\n",
       "    </tr>\n",
       "    <tr>\n",
       "      <th></th>\n",
       "      <th>is_test</th>\n",
       "      <th>False</th>\n",
       "      <th>True</th>\n",
       "      <th>False</th>\n",
       "      <th>True</th>\n",
       "      <th>False</th>\n",
       "      <th>True</th>\n",
       "    </tr>\n",
       "    <tr>\n",
       "      <th>country_code</th>\n",
       "      <th>max_article_read_depth</th>\n",
       "      <th></th>\n",
       "      <th></th>\n",
       "      <th></th>\n",
       "      <th></th>\n",
       "      <th></th>\n",
       "      <th></th>\n",
       "    </tr>\n",
       "  </thead>\n",
       "  <tbody>\n",
       "    <tr>\n",
       "      <th rowspan=\"5\" valign=\"top\">hk</th>\n",
       "      <th>0</th>\n",
       "      <td>0.230671</td>\n",
       "      <td>0.269353</td>\n",
       "      <td>24984</td>\n",
       "      <td>2453</td>\n",
       "      <td>108310</td>\n",
       "      <td>9107</td>\n",
       "    </tr>\n",
       "    <tr>\n",
       "      <th>25</th>\n",
       "      <td>0.136783</td>\n",
       "      <td>0.170967</td>\n",
       "      <td>14815</td>\n",
       "      <td>1557</td>\n",
       "      <td>108310</td>\n",
       "      <td>9107</td>\n",
       "    </tr>\n",
       "    <tr>\n",
       "      <th>50</th>\n",
       "      <td>0.195051</td>\n",
       "      <td>0.212364</td>\n",
       "      <td>21126</td>\n",
       "      <td>1934</td>\n",
       "      <td>108310</td>\n",
       "      <td>9107</td>\n",
       "    </tr>\n",
       "    <tr>\n",
       "      <th>75</th>\n",
       "      <td>0.245536</td>\n",
       "      <td>0.182058</td>\n",
       "      <td>26594</td>\n",
       "      <td>1658</td>\n",
       "      <td>108310</td>\n",
       "      <td>9107</td>\n",
       "    </tr>\n",
       "    <tr>\n",
       "      <th>100</th>\n",
       "      <td>0.191958</td>\n",
       "      <td>0.165257</td>\n",
       "      <td>20791</td>\n",
       "      <td>1505</td>\n",
       "      <td>108310</td>\n",
       "      <td>9107</td>\n",
       "    </tr>\n",
       "    <tr>\n",
       "      <th rowspan=\"5\" valign=\"top\">sg</th>\n",
       "      <th>0</th>\n",
       "      <td>0.337666</td>\n",
       "      <td>0.373447</td>\n",
       "      <td>209288</td>\n",
       "      <td>13378</td>\n",
       "      <td>619807</td>\n",
       "      <td>35823</td>\n",
       "    </tr>\n",
       "    <tr>\n",
       "      <th>25</th>\n",
       "      <td>0.153606</td>\n",
       "      <td>0.133099</td>\n",
       "      <td>95206</td>\n",
       "      <td>4768</td>\n",
       "      <td>619807</td>\n",
       "      <td>35823</td>\n",
       "    </tr>\n",
       "    <tr>\n",
       "      <th>50</th>\n",
       "      <td>0.117153</td>\n",
       "      <td>0.105491</td>\n",
       "      <td>72612</td>\n",
       "      <td>3779</td>\n",
       "      <td>619807</td>\n",
       "      <td>35823</td>\n",
       "    </tr>\n",
       "    <tr>\n",
       "      <th>75</th>\n",
       "      <td>0.142156</td>\n",
       "      <td>0.117187</td>\n",
       "      <td>88109</td>\n",
       "      <td>4198</td>\n",
       "      <td>619807</td>\n",
       "      <td>35823</td>\n",
       "    </tr>\n",
       "    <tr>\n",
       "      <th>100</th>\n",
       "      <td>0.249420</td>\n",
       "      <td>0.270776</td>\n",
       "      <td>154592</td>\n",
       "      <td>9700</td>\n",
       "      <td>619807</td>\n",
       "      <td>35823</td>\n",
       "    </tr>\n",
       "  </tbody>\n",
       "</table>\n",
       "</div>"
      ],
      "text/plain": [
       "                                    fraction_pageviews            \\\n",
       "is_test                                          False     True    \n",
       "country_code max_article_read_depth                                \n",
       "hk           0                                0.230671  0.269353   \n",
       "             25                               0.136783  0.170967   \n",
       "             50                               0.195051  0.212364   \n",
       "             75                               0.245536  0.182058   \n",
       "             100                              0.191958  0.165257   \n",
       "sg           0                                0.337666  0.373447   \n",
       "             25                               0.153606  0.133099   \n",
       "             50                               0.117153  0.105491   \n",
       "             75                               0.142156  0.117187   \n",
       "             100                              0.249420  0.270776   \n",
       "\n",
       "                                    num_pageviews        total_pageviews  \\\n",
       "is_test                                     False  True            False   \n",
       "country_code max_article_read_depth                                        \n",
       "hk           0                              24984   2453          108310   \n",
       "             25                             14815   1557          108310   \n",
       "             50                             21126   1934          108310   \n",
       "             75                             26594   1658          108310   \n",
       "             100                            20791   1505          108310   \n",
       "sg           0                             209288  13378          619807   \n",
       "             25                             95206   4768          619807   \n",
       "             50                             72612   3779          619807   \n",
       "             75                             88109   4198          619807   \n",
       "             100                           154592   9700          619807   \n",
       "\n",
       "                                            \n",
       "is_test                              True   \n",
       "country_code max_article_read_depth         \n",
       "hk           0                        9107  \n",
       "             25                       9107  \n",
       "             50                       9107  \n",
       "             75                       9107  \n",
       "             100                      9107  \n",
       "sg           0                       35823  \n",
       "             25                      35823  \n",
       "             50                      35823  \n",
       "             75                      35823  \n",
       "             100                     35823  "
      ]
     },
     "execution_count": 894,
     "metadata": {},
     "output_type": "execute_result"
    }
   ],
   "source": [
    "scroll_by_depth_pv = pd.pivot_table(scroll_by_depth,\n",
    "                    index=[\"country_code\", \"max_article_read_depth\"], \n",
    "                    values=[\"num_pageviews\", \"total_pageviews\", \"fraction_pageviews\"],   \n",
    "                    columns=[\"is_test\"],   # \n",
    "                    fill_value=\"\")\n",
    "scroll_by_depth_pv"
   ]
  },
  {
   "cell_type": "code",
   "execution_count": null,
   "metadata": {},
   "outputs": [
    {
     "data": {
      "application/vnd.plotly.v1+json": {
       "config": {
        "plotlyServerURL": "https://plot.ly"
       },
       "data": [
        {
         "line": {
          "color": "green"
         },
         "mode": "lines",
         "name": "hk v2",
         "type": "scatter",
         "x": [
          0.2693532447567805,
          0.170967387723729,
          0.2123641155155375,
          0.1820577577687493,
          0.1652574942352037
         ],
         "xaxis": "x",
         "y": [
          0,
          25,
          50,
          75,
          100
         ],
         "yaxis": "y"
        },
        {
         "line": {
          "color": "blue"
         },
         "mode": "lines",
         "name": "hk v1",
         "type": "scatter",
         "x": [
          0.2306712214938602,
          0.13678330717385284,
          0.19505124180592742,
          0.24553596159172744,
          0.19195826793463208
         ],
         "xaxis": "x",
         "y": [
          0,
          25,
          50,
          75,
          100
         ],
         "yaxis": "y"
        },
        {
         "line": {
          "color": "green"
         },
         "mode": "lines",
         "name": "sg v2",
         "type": "scatter",
         "x": [
          0.37344722664210145,
          0.13309884710939898,
          0.10549088574379588,
          0.11718728191385423,
          0.27077575859084946
         ],
         "xaxis": "x2",
         "y": [
          0,
          25,
          50,
          75,
          100
         ],
         "yaxis": "y2"
        },
        {
         "line": {
          "color": "blue"
         },
         "mode": "lines",
         "name": "sg v1",
         "type": "scatter",
         "x": [
          0.3376664026059725,
          0.1536058805402327,
          0.11715259750212566,
          0.1421555419670962,
          0.24941957738457293
         ],
         "xaxis": "x2",
         "y": [
          0,
          25,
          50,
          75,
          100
         ],
         "yaxis": "y2"
        }
       ],
       "layout": {
        "annotations": [
         {
          "font": {
           "size": 16
          },
          "showarrow": false,
          "text": "hk",
          "x": 0.225,
          "xanchor": "center",
          "xref": "paper",
          "y": 1,
          "yanchor": "bottom",
          "yref": "paper"
         },
         {
          "font": {
           "size": 16
          },
          "showarrow": false,
          "text": "sg",
          "x": 0.775,
          "xanchor": "center",
          "xref": "paper",
          "y": 1,
          "yanchor": "bottom",
          "yref": "paper"
         }
        ],
        "height": 800,
        "template": {
         "data": {
          "bar": [
           {
            "error_x": {
             "color": "#2a3f5f"
            },
            "error_y": {
             "color": "#2a3f5f"
            },
            "marker": {
             "line": {
              "color": "#E5ECF6",
              "width": 0.5
             }
            },
            "type": "bar"
           }
          ],
          "barpolar": [
           {
            "marker": {
             "line": {
              "color": "#E5ECF6",
              "width": 0.5
             }
            },
            "type": "barpolar"
           }
          ],
          "carpet": [
           {
            "aaxis": {
             "endlinecolor": "#2a3f5f",
             "gridcolor": "white",
             "linecolor": "white",
             "minorgridcolor": "white",
             "startlinecolor": "#2a3f5f"
            },
            "baxis": {
             "endlinecolor": "#2a3f5f",
             "gridcolor": "white",
             "linecolor": "white",
             "minorgridcolor": "white",
             "startlinecolor": "#2a3f5f"
            },
            "type": "carpet"
           }
          ],
          "choropleth": [
           {
            "colorbar": {
             "outlinewidth": 0,
             "ticks": ""
            },
            "type": "choropleth"
           }
          ],
          "contour": [
           {
            "colorbar": {
             "outlinewidth": 0,
             "ticks": ""
            },
            "colorscale": [
             [
              0,
              "#0d0887"
             ],
             [
              0.1111111111111111,
              "#46039f"
             ],
             [
              0.2222222222222222,
              "#7201a8"
             ],
             [
              0.3333333333333333,
              "#9c179e"
             ],
             [
              0.4444444444444444,
              "#bd3786"
             ],
             [
              0.5555555555555556,
              "#d8576b"
             ],
             [
              0.6666666666666666,
              "#ed7953"
             ],
             [
              0.7777777777777778,
              "#fb9f3a"
             ],
             [
              0.8888888888888888,
              "#fdca26"
             ],
             [
              1,
              "#f0f921"
             ]
            ],
            "type": "contour"
           }
          ],
          "contourcarpet": [
           {
            "colorbar": {
             "outlinewidth": 0,
             "ticks": ""
            },
            "type": "contourcarpet"
           }
          ],
          "heatmap": [
           {
            "colorbar": {
             "outlinewidth": 0,
             "ticks": ""
            },
            "colorscale": [
             [
              0,
              "#0d0887"
             ],
             [
              0.1111111111111111,
              "#46039f"
             ],
             [
              0.2222222222222222,
              "#7201a8"
             ],
             [
              0.3333333333333333,
              "#9c179e"
             ],
             [
              0.4444444444444444,
              "#bd3786"
             ],
             [
              0.5555555555555556,
              "#d8576b"
             ],
             [
              0.6666666666666666,
              "#ed7953"
             ],
             [
              0.7777777777777778,
              "#fb9f3a"
             ],
             [
              0.8888888888888888,
              "#fdca26"
             ],
             [
              1,
              "#f0f921"
             ]
            ],
            "type": "heatmap"
           }
          ],
          "heatmapgl": [
           {
            "colorbar": {
             "outlinewidth": 0,
             "ticks": ""
            },
            "colorscale": [
             [
              0,
              "#0d0887"
             ],
             [
              0.1111111111111111,
              "#46039f"
             ],
             [
              0.2222222222222222,
              "#7201a8"
             ],
             [
              0.3333333333333333,
              "#9c179e"
             ],
             [
              0.4444444444444444,
              "#bd3786"
             ],
             [
              0.5555555555555556,
              "#d8576b"
             ],
             [
              0.6666666666666666,
              "#ed7953"
             ],
             [
              0.7777777777777778,
              "#fb9f3a"
             ],
             [
              0.8888888888888888,
              "#fdca26"
             ],
             [
              1,
              "#f0f921"
             ]
            ],
            "type": "heatmapgl"
           }
          ],
          "histogram": [
           {
            "marker": {
             "colorbar": {
              "outlinewidth": 0,
              "ticks": ""
             }
            },
            "type": "histogram"
           }
          ],
          "histogram2d": [
           {
            "colorbar": {
             "outlinewidth": 0,
             "ticks": ""
            },
            "colorscale": [
             [
              0,
              "#0d0887"
             ],
             [
              0.1111111111111111,
              "#46039f"
             ],
             [
              0.2222222222222222,
              "#7201a8"
             ],
             [
              0.3333333333333333,
              "#9c179e"
             ],
             [
              0.4444444444444444,
              "#bd3786"
             ],
             [
              0.5555555555555556,
              "#d8576b"
             ],
             [
              0.6666666666666666,
              "#ed7953"
             ],
             [
              0.7777777777777778,
              "#fb9f3a"
             ],
             [
              0.8888888888888888,
              "#fdca26"
             ],
             [
              1,
              "#f0f921"
             ]
            ],
            "type": "histogram2d"
           }
          ],
          "histogram2dcontour": [
           {
            "colorbar": {
             "outlinewidth": 0,
             "ticks": ""
            },
            "colorscale": [
             [
              0,
              "#0d0887"
             ],
             [
              0.1111111111111111,
              "#46039f"
             ],
             [
              0.2222222222222222,
              "#7201a8"
             ],
             [
              0.3333333333333333,
              "#9c179e"
             ],
             [
              0.4444444444444444,
              "#bd3786"
             ],
             [
              0.5555555555555556,
              "#d8576b"
             ],
             [
              0.6666666666666666,
              "#ed7953"
             ],
             [
              0.7777777777777778,
              "#fb9f3a"
             ],
             [
              0.8888888888888888,
              "#fdca26"
             ],
             [
              1,
              "#f0f921"
             ]
            ],
            "type": "histogram2dcontour"
           }
          ],
          "mesh3d": [
           {
            "colorbar": {
             "outlinewidth": 0,
             "ticks": ""
            },
            "type": "mesh3d"
           }
          ],
          "parcoords": [
           {
            "line": {
             "colorbar": {
              "outlinewidth": 0,
              "ticks": ""
             }
            },
            "type": "parcoords"
           }
          ],
          "pie": [
           {
            "automargin": true,
            "type": "pie"
           }
          ],
          "scatter": [
           {
            "marker": {
             "colorbar": {
              "outlinewidth": 0,
              "ticks": ""
             }
            },
            "type": "scatter"
           }
          ],
          "scatter3d": [
           {
            "line": {
             "colorbar": {
              "outlinewidth": 0,
              "ticks": ""
             }
            },
            "marker": {
             "colorbar": {
              "outlinewidth": 0,
              "ticks": ""
             }
            },
            "type": "scatter3d"
           }
          ],
          "scattercarpet": [
           {
            "marker": {
             "colorbar": {
              "outlinewidth": 0,
              "ticks": ""
             }
            },
            "type": "scattercarpet"
           }
          ],
          "scattergeo": [
           {
            "marker": {
             "colorbar": {
              "outlinewidth": 0,
              "ticks": ""
             }
            },
            "type": "scattergeo"
           }
          ],
          "scattergl": [
           {
            "marker": {
             "colorbar": {
              "outlinewidth": 0,
              "ticks": ""
             }
            },
            "type": "scattergl"
           }
          ],
          "scattermapbox": [
           {
            "marker": {
             "colorbar": {
              "outlinewidth": 0,
              "ticks": ""
             }
            },
            "type": "scattermapbox"
           }
          ],
          "scatterpolar": [
           {
            "marker": {
             "colorbar": {
              "outlinewidth": 0,
              "ticks": ""
             }
            },
            "type": "scatterpolar"
           }
          ],
          "scatterpolargl": [
           {
            "marker": {
             "colorbar": {
              "outlinewidth": 0,
              "ticks": ""
             }
            },
            "type": "scatterpolargl"
           }
          ],
          "scatterternary": [
           {
            "marker": {
             "colorbar": {
              "outlinewidth": 0,
              "ticks": ""
             }
            },
            "type": "scatterternary"
           }
          ],
          "surface": [
           {
            "colorbar": {
             "outlinewidth": 0,
             "ticks": ""
            },
            "colorscale": [
             [
              0,
              "#0d0887"
             ],
             [
              0.1111111111111111,
              "#46039f"
             ],
             [
              0.2222222222222222,
              "#7201a8"
             ],
             [
              0.3333333333333333,
              "#9c179e"
             ],
             [
              0.4444444444444444,
              "#bd3786"
             ],
             [
              0.5555555555555556,
              "#d8576b"
             ],
             [
              0.6666666666666666,
              "#ed7953"
             ],
             [
              0.7777777777777778,
              "#fb9f3a"
             ],
             [
              0.8888888888888888,
              "#fdca26"
             ],
             [
              1,
              "#f0f921"
             ]
            ],
            "type": "surface"
           }
          ],
          "table": [
           {
            "cells": {
             "fill": {
              "color": "#EBF0F8"
             },
             "line": {
              "color": "white"
             }
            },
            "header": {
             "fill": {
              "color": "#C8D4E3"
             },
             "line": {
              "color": "white"
             }
            },
            "type": "table"
           }
          ]
         },
         "layout": {
          "annotationdefaults": {
           "arrowcolor": "#2a3f5f",
           "arrowhead": 0,
           "arrowwidth": 1
          },
          "coloraxis": {
           "colorbar": {
            "outlinewidth": 0,
            "ticks": ""
           }
          },
          "colorscale": {
           "diverging": [
            [
             0,
             "#8e0152"
            ],
            [
             0.1,
             "#c51b7d"
            ],
            [
             0.2,
             "#de77ae"
            ],
            [
             0.3,
             "#f1b6da"
            ],
            [
             0.4,
             "#fde0ef"
            ],
            [
             0.5,
             "#f7f7f7"
            ],
            [
             0.6,
             "#e6f5d0"
            ],
            [
             0.7,
             "#b8e186"
            ],
            [
             0.8,
             "#7fbc41"
            ],
            [
             0.9,
             "#4d9221"
            ],
            [
             1,
             "#276419"
            ]
           ],
           "sequential": [
            [
             0,
             "#0d0887"
            ],
            [
             0.1111111111111111,
             "#46039f"
            ],
            [
             0.2222222222222222,
             "#7201a8"
            ],
            [
             0.3333333333333333,
             "#9c179e"
            ],
            [
             0.4444444444444444,
             "#bd3786"
            ],
            [
             0.5555555555555556,
             "#d8576b"
            ],
            [
             0.6666666666666666,
             "#ed7953"
            ],
            [
             0.7777777777777778,
             "#fb9f3a"
            ],
            [
             0.8888888888888888,
             "#fdca26"
            ],
            [
             1,
             "#f0f921"
            ]
           ],
           "sequentialminus": [
            [
             0,
             "#0d0887"
            ],
            [
             0.1111111111111111,
             "#46039f"
            ],
            [
             0.2222222222222222,
             "#7201a8"
            ],
            [
             0.3333333333333333,
             "#9c179e"
            ],
            [
             0.4444444444444444,
             "#bd3786"
            ],
            [
             0.5555555555555556,
             "#d8576b"
            ],
            [
             0.6666666666666666,
             "#ed7953"
            ],
            [
             0.7777777777777778,
             "#fb9f3a"
            ],
            [
             0.8888888888888888,
             "#fdca26"
            ],
            [
             1,
             "#f0f921"
            ]
           ]
          },
          "colorway": [
           "#636efa",
           "#EF553B",
           "#00cc96",
           "#ab63fa",
           "#FFA15A",
           "#19d3f3",
           "#FF6692",
           "#B6E880",
           "#FF97FF",
           "#FECB52"
          ],
          "font": {
           "color": "#2a3f5f"
          },
          "geo": {
           "bgcolor": "white",
           "lakecolor": "white",
           "landcolor": "#E5ECF6",
           "showlakes": true,
           "showland": true,
           "subunitcolor": "white"
          },
          "hoverlabel": {
           "align": "left"
          },
          "hovermode": "closest",
          "mapbox": {
           "style": "light"
          },
          "paper_bgcolor": "white",
          "plot_bgcolor": "#E5ECF6",
          "polar": {
           "angularaxis": {
            "gridcolor": "white",
            "linecolor": "white",
            "ticks": ""
           },
           "bgcolor": "#E5ECF6",
           "radialaxis": {
            "gridcolor": "white",
            "linecolor": "white",
            "ticks": ""
           }
          },
          "scene": {
           "xaxis": {
            "backgroundcolor": "#E5ECF6",
            "gridcolor": "white",
            "gridwidth": 2,
            "linecolor": "white",
            "showbackground": true,
            "ticks": "",
            "zerolinecolor": "white"
           },
           "yaxis": {
            "backgroundcolor": "#E5ECF6",
            "gridcolor": "white",
            "gridwidth": 2,
            "linecolor": "white",
            "showbackground": true,
            "ticks": "",
            "zerolinecolor": "white"
           },
           "zaxis": {
            "backgroundcolor": "#E5ECF6",
            "gridcolor": "white",
            "gridwidth": 2,
            "linecolor": "white",
            "showbackground": true,
            "ticks": "",
            "zerolinecolor": "white"
           }
          },
          "shapedefaults": {
           "line": {
            "color": "#2a3f5f"
           }
          },
          "ternary": {
           "aaxis": {
            "gridcolor": "white",
            "linecolor": "white",
            "ticks": ""
           },
           "baxis": {
            "gridcolor": "white",
            "linecolor": "white",
            "ticks": ""
           },
           "bgcolor": "#E5ECF6",
           "caxis": {
            "gridcolor": "white",
            "linecolor": "white",
            "ticks": ""
           }
          },
          "title": {
           "x": 0.05
          },
          "xaxis": {
           "automargin": true,
           "gridcolor": "white",
           "linecolor": "white",
           "ticks": "",
           "title": {
            "standoff": 15
           },
           "zerolinecolor": "white",
           "zerolinewidth": 2
          },
          "yaxis": {
           "automargin": true,
           "gridcolor": "white",
           "linecolor": "white",
           "ticks": "",
           "title": {
            "standoff": 15
           },
           "zerolinecolor": "white",
           "zerolinewidth": 2
          }
         }
        },
        "title": {
         "text": "How far users scroll down the page"
        },
        "width": 800,
        "xaxis": {
         "anchor": "y",
         "domain": [
          0,
          0.45
         ],
         "range": [
          0,
          1
         ],
         "title": {
          "text": "fraction of pageviews"
         },
         "type": "linear"
        },
        "xaxis2": {
         "anchor": "y2",
         "domain": [
          0.55,
          1
         ],
         "range": [
          0,
          1
         ],
         "title": {
          "text": "fraction of pageviews"
         },
         "type": "linear"
        },
        "yaxis": {
         "anchor": "x",
         "domain": [
          0,
          1
         ],
         "dtick": 25,
         "range": [
          100,
          0
         ],
         "tick0": 0,
         "title": {
          "text": "scroll depth"
         },
         "type": "linear"
        },
        "yaxis2": {
         "anchor": "x2",
         "domain": [
          0,
          1
         ],
         "dtick": 25,
         "range": [
          100,
          0
         ],
         "tick0": 0,
         "title": {
          "text": "scroll depth"
         },
         "type": "linear"
        }
       }
      },
      "image/png": "[encoded data removed]",
      "text/html": [
       "<div>\n",
       "        \n",
       "        \n",
       "            <div id=\"3f71ee52-98d2-458d-9e2d-f356ed5af536\" class=\"plotly-graph-div\" style=\"height:800px; width:800px;\"></div>\n",
       "            <script type=\"text/javascript\">\n",
       "                require([\"plotly\"], function(Plotly) {\n",
       "                    window.PLOTLYENV=window.PLOTLYENV || {};\n",
       "                    \n",
       "                if (document.getElementById(\"3f71ee52-98d2-458d-9e2d-f356ed5af536\")) {\n",
       "                    Plotly.newPlot(\n",
       "                        '3f71ee52-98d2-458d-9e2d-f356ed5af536',\n",
       "                        [{\"line\": {\"color\": \"green\"}, \"mode\": \"lines\", \"name\": \"hk v2\", \"type\": \"scatter\", \"x\": [0.2693532447567805, 0.170967387723729, 0.2123641155155375, 0.1820577577687493, 0.1652574942352037], \"xaxis\": \"x\", \"y\": [0, 25, 50, 75, 100], \"yaxis\": \"y\"}, {\"line\": {\"color\": \"blue\"}, \"mode\": \"lines\", \"name\": \"hk v1\", \"type\": \"scatter\", \"x\": [0.2306712214938602, 0.13678330717385284, 0.19505124180592742, 0.24553596159172744, 0.19195826793463208], \"xaxis\": \"x\", \"y\": [0, 25, 50, 75, 100], \"yaxis\": \"y\"}, {\"line\": {\"color\": \"green\"}, \"mode\": \"lines\", \"name\": \"sg v2\", \"type\": \"scatter\", \"x\": [0.37344722664210145, 0.13309884710939898, 0.10549088574379588, 0.11718728191385423, 0.27077575859084946], \"xaxis\": \"x2\", \"y\": [0, 25, 50, 75, 100], \"yaxis\": \"y2\"}, {\"line\": {\"color\": \"blue\"}, \"mode\": \"lines\", \"name\": \"sg v1\", \"type\": \"scatter\", \"x\": [0.3376664026059725, 0.1536058805402327, 0.11715259750212566, 0.1421555419670962, 0.24941957738457293], \"xaxis\": \"x2\", \"y\": [0, 25, 50, 75, 100], \"yaxis\": \"y2\"}],\n",
       "                        {\"annotations\": [{\"font\": {\"size\": 16}, \"showarrow\": false, \"text\": \"hk\", \"x\": 0.225, \"xanchor\": \"center\", \"xref\": \"paper\", \"y\": 1.0, \"yanchor\": \"bottom\", \"yref\": \"paper\"}, {\"font\": {\"size\": 16}, \"showarrow\": false, \"text\": \"sg\", \"x\": 0.775, \"xanchor\": \"center\", \"xref\": \"paper\", \"y\": 1.0, \"yanchor\": \"bottom\", \"yref\": \"paper\"}], \"height\": 800, \"template\": {\"data\": {\"bar\": [{\"error_x\": {\"color\": \"#2a3f5f\"}, \"error_y\": {\"color\": \"#2a3f5f\"}, \"marker\": {\"line\": {\"color\": \"#E5ECF6\", \"width\": 0.5}}, \"type\": \"bar\"}], \"barpolar\": [{\"marker\": {\"line\": {\"color\": \"#E5ECF6\", \"width\": 0.5}}, \"type\": \"barpolar\"}], \"carpet\": [{\"aaxis\": {\"endlinecolor\": \"#2a3f5f\", \"gridcolor\": \"white\", \"linecolor\": \"white\", \"minorgridcolor\": \"white\", \"startlinecolor\": \"#2a3f5f\"}, \"baxis\": {\"endlinecolor\": \"#2a3f5f\", \"gridcolor\": \"white\", \"linecolor\": \"white\", \"minorgridcolor\": \"white\", \"startlinecolor\": \"#2a3f5f\"}, \"type\": \"carpet\"}], \"choropleth\": [{\"colorbar\": {\"outlinewidth\": 0, \"ticks\": \"\"}, \"type\": \"choropleth\"}], \"contour\": [{\"colorbar\": {\"outlinewidth\": 0, \"ticks\": \"\"}, \"colorscale\": [[0.0, \"#0d0887\"], [0.1111111111111111, \"#46039f\"], [0.2222222222222222, \"#7201a8\"], [0.3333333333333333, \"#9c179e\"], [0.4444444444444444, \"#bd3786\"], [0.5555555555555556, \"#d8576b\"], [0.6666666666666666, \"#ed7953\"], [0.7777777777777778, \"#fb9f3a\"], [0.8888888888888888, \"#fdca26\"], [1.0, \"#f0f921\"]], \"type\": \"contour\"}], \"contourcarpet\": [{\"colorbar\": {\"outlinewidth\": 0, \"ticks\": \"\"}, \"type\": \"contourcarpet\"}], \"heatmap\": [{\"colorbar\": {\"outlinewidth\": 0, \"ticks\": \"\"}, \"colorscale\": [[0.0, \"#0d0887\"], [0.1111111111111111, \"#46039f\"], [0.2222222222222222, \"#7201a8\"], [0.3333333333333333, \"#9c179e\"], [0.4444444444444444, \"#bd3786\"], [0.5555555555555556, \"#d8576b\"], [0.6666666666666666, \"#ed7953\"], [0.7777777777777778, \"#fb9f3a\"], [0.8888888888888888, \"#fdca26\"], [1.0, \"#f0f921\"]], \"type\": \"heatmap\"}], \"heatmapgl\": [{\"colorbar\": {\"outlinewidth\": 0, \"ticks\": \"\"}, \"colorscale\": [[0.0, \"#0d0887\"], [0.1111111111111111, \"#46039f\"], [0.2222222222222222, \"#7201a8\"], [0.3333333333333333, \"#9c179e\"], [0.4444444444444444, \"#bd3786\"], [0.5555555555555556, \"#d8576b\"], [0.6666666666666666, \"#ed7953\"], [0.7777777777777778, \"#fb9f3a\"], [0.8888888888888888, \"#fdca26\"], [1.0, \"#f0f921\"]], \"type\": \"heatmapgl\"}], \"histogram\": [{\"marker\": {\"colorbar\": {\"outlinewidth\": 0, \"ticks\": \"\"}}, \"type\": \"histogram\"}], \"histogram2d\": [{\"colorbar\": {\"outlinewidth\": 0, \"ticks\": \"\"}, \"colorscale\": [[0.0, \"#0d0887\"], [0.1111111111111111, \"#46039f\"], [0.2222222222222222, \"#7201a8\"], [0.3333333333333333, \"#9c179e\"], [0.4444444444444444, \"#bd3786\"], [0.5555555555555556, \"#d8576b\"], [0.6666666666666666, \"#ed7953\"], [0.7777777777777778, \"#fb9f3a\"], [0.8888888888888888, \"#fdca26\"], [1.0, \"#f0f921\"]], \"type\": \"histogram2d\"}], \"histogram2dcontour\": [{\"colorbar\": {\"outlinewidth\": 0, \"ticks\": \"\"}, \"colorscale\": [[0.0, \"#0d0887\"], [0.1111111111111111, \"#46039f\"], [0.2222222222222222, \"#7201a8\"], [0.3333333333333333, \"#9c179e\"], [0.4444444444444444, \"#bd3786\"], [0.5555555555555556, \"#d8576b\"], [0.6666666666666666, \"#ed7953\"], [0.7777777777777778, \"#fb9f3a\"], [0.8888888888888888, \"#fdca26\"], [1.0, \"#f0f921\"]], \"type\": \"histogram2dcontour\"}], \"mesh3d\": [{\"colorbar\": {\"outlinewidth\": 0, \"ticks\": \"\"}, \"type\": \"mesh3d\"}], \"parcoords\": [{\"line\": {\"colorbar\": {\"outlinewidth\": 0, \"ticks\": \"\"}}, \"type\": \"parcoords\"}], \"pie\": [{\"automargin\": true, \"type\": \"pie\"}], \"scatter\": [{\"marker\": {\"colorbar\": {\"outlinewidth\": 0, \"ticks\": \"\"}}, \"type\": \"scatter\"}], \"scatter3d\": [{\"line\": {\"colorbar\": {\"outlinewidth\": 0, \"ticks\": \"\"}}, \"marker\": {\"colorbar\": {\"outlinewidth\": 0, \"ticks\": \"\"}}, \"type\": \"scatter3d\"}], \"scattercarpet\": [{\"marker\": {\"colorbar\": {\"outlinewidth\": 0, \"ticks\": \"\"}}, \"type\": \"scattercarpet\"}], \"scattergeo\": [{\"marker\": {\"colorbar\": {\"outlinewidth\": 0, \"ticks\": \"\"}}, \"type\": \"scattergeo\"}], \"scattergl\": [{\"marker\": {\"colorbar\": {\"outlinewidth\": 0, \"ticks\": \"\"}}, \"type\": \"scattergl\"}], \"scattermapbox\": [{\"marker\": {\"colorbar\": {\"outlinewidth\": 0, \"ticks\": \"\"}}, \"type\": \"scattermapbox\"}], \"scatterpolar\": [{\"marker\": {\"colorbar\": {\"outlinewidth\": 0, \"ticks\": \"\"}}, \"type\": \"scatterpolar\"}], \"scatterpolargl\": [{\"marker\": {\"colorbar\": {\"outlinewidth\": 0, \"ticks\": \"\"}}, \"type\": \"scatterpolargl\"}], \"scatterternary\": [{\"marker\": {\"colorbar\": {\"outlinewidth\": 0, \"ticks\": \"\"}}, \"type\": \"scatterternary\"}], \"surface\": [{\"colorbar\": {\"outlinewidth\": 0, \"ticks\": \"\"}, \"colorscale\": [[0.0, \"#0d0887\"], [0.1111111111111111, \"#46039f\"], [0.2222222222222222, \"#7201a8\"], [0.3333333333333333, \"#9c179e\"], [0.4444444444444444, \"#bd3786\"], [0.5555555555555556, \"#d8576b\"], [0.6666666666666666, \"#ed7953\"], [0.7777777777777778, \"#fb9f3a\"], [0.8888888888888888, \"#fdca26\"], [1.0, \"#f0f921\"]], \"type\": \"surface\"}], \"table\": [{\"cells\": {\"fill\": {\"color\": \"#EBF0F8\"}, \"line\": {\"color\": \"white\"}}, \"header\": {\"fill\": {\"color\": \"#C8D4E3\"}, \"line\": {\"color\": \"white\"}}, \"type\": \"table\"}]}, \"layout\": {\"annotationdefaults\": {\"arrowcolor\": \"#2a3f5f\", \"arrowhead\": 0, \"arrowwidth\": 1}, \"coloraxis\": {\"colorbar\": {\"outlinewidth\": 0, \"ticks\": \"\"}}, \"colorscale\": {\"diverging\": [[0, \"#8e0152\"], [0.1, \"#c51b7d\"], [0.2, \"#de77ae\"], [0.3, \"#f1b6da\"], [0.4, \"#fde0ef\"], [0.5, \"#f7f7f7\"], [0.6, \"#e6f5d0\"], [0.7, \"#b8e186\"], [0.8, \"#7fbc41\"], [0.9, \"#4d9221\"], [1, \"#276419\"]], \"sequential\": [[0.0, \"#0d0887\"], [0.1111111111111111, \"#46039f\"], [0.2222222222222222, \"#7201a8\"], [0.3333333333333333, \"#9c179e\"], [0.4444444444444444, \"#bd3786\"], [0.5555555555555556, \"#d8576b\"], [0.6666666666666666, \"#ed7953\"], [0.7777777777777778, \"#fb9f3a\"], [0.8888888888888888, \"#fdca26\"], [1.0, \"#f0f921\"]], \"sequentialminus\": [[0.0, \"#0d0887\"], [0.1111111111111111, \"#46039f\"], [0.2222222222222222, \"#7201a8\"], [0.3333333333333333, \"#9c179e\"], [0.4444444444444444, \"#bd3786\"], [0.5555555555555556, \"#d8576b\"], [0.6666666666666666, \"#ed7953\"], [0.7777777777777778, \"#fb9f3a\"], [0.8888888888888888, \"#fdca26\"], [1.0, \"#f0f921\"]]}, \"colorway\": [\"#636efa\", \"#EF553B\", \"#00cc96\", \"#ab63fa\", \"#FFA15A\", \"#19d3f3\", \"#FF6692\", \"#B6E880\", \"#FF97FF\", \"#FECB52\"], \"font\": {\"color\": \"#2a3f5f\"}, \"geo\": {\"bgcolor\": \"white\", \"lakecolor\": \"white\", \"landcolor\": \"#E5ECF6\", \"showlakes\": true, \"showland\": true, \"subunitcolor\": \"white\"}, \"hoverlabel\": {\"align\": \"left\"}, \"hovermode\": \"closest\", \"mapbox\": {\"style\": \"light\"}, \"paper_bgcolor\": \"white\", \"plot_bgcolor\": \"#E5ECF6\", \"polar\": {\"angularaxis\": {\"gridcolor\": \"white\", \"linecolor\": \"white\", \"ticks\": \"\"}, \"bgcolor\": \"#E5ECF6\", \"radialaxis\": {\"gridcolor\": \"white\", \"linecolor\": \"white\", \"ticks\": \"\"}}, \"scene\": {\"xaxis\": {\"backgroundcolor\": \"#E5ECF6\", \"gridcolor\": \"white\", \"gridwidth\": 2, \"linecolor\": \"white\", \"showbackground\": true, \"ticks\": \"\", \"zerolinecolor\": \"white\"}, \"yaxis\": {\"backgroundcolor\": \"#E5ECF6\", \"gridcolor\": \"white\", \"gridwidth\": 2, \"linecolor\": \"white\", \"showbackground\": true, \"ticks\": \"\", \"zerolinecolor\": \"white\"}, \"zaxis\": {\"backgroundcolor\": \"#E5ECF6\", \"gridcolor\": \"white\", \"gridwidth\": 2, \"linecolor\": \"white\", \"showbackground\": true, \"ticks\": \"\", \"zerolinecolor\": \"white\"}}, \"shapedefaults\": {\"line\": {\"color\": \"#2a3f5f\"}}, \"ternary\": {\"aaxis\": {\"gridcolor\": \"white\", \"linecolor\": \"white\", \"ticks\": \"\"}, \"baxis\": {\"gridcolor\": \"white\", \"linecolor\": \"white\", \"ticks\": \"\"}, \"bgcolor\": \"#E5ECF6\", \"caxis\": {\"gridcolor\": \"white\", \"linecolor\": \"white\", \"ticks\": \"\"}}, \"title\": {\"x\": 0.05}, \"xaxis\": {\"automargin\": true, \"gridcolor\": \"white\", \"linecolor\": \"white\", \"ticks\": \"\", \"title\": {\"standoff\": 15}, \"zerolinecolor\": \"white\", \"zerolinewidth\": 2}, \"yaxis\": {\"automargin\": true, \"gridcolor\": \"white\", \"linecolor\": \"white\", \"ticks\": \"\", \"title\": {\"standoff\": 15}, \"zerolinecolor\": \"white\", \"zerolinewidth\": 2}}}, \"title\": {\"text\": \"How far users scroll down the page\"}, \"width\": 800, \"xaxis\": {\"anchor\": \"y\", \"domain\": [0.0, 0.45], \"range\": [0, 1], \"title\": {\"text\": \"fraction of pageviews\"}}, \"xaxis2\": {\"anchor\": \"y2\", \"domain\": [0.55, 1.0], \"range\": [0, 1], \"title\": {\"text\": \"fraction of pageviews\"}}, \"yaxis\": {\"anchor\": \"x\", \"domain\": [0.0, 1.0], \"dtick\": 25, \"range\": [100, 0], \"tick0\": 0, \"title\": {\"text\": \"scroll depth\"}}, \"yaxis2\": {\"anchor\": \"x2\", \"domain\": [0.0, 1.0], \"dtick\": 25, \"range\": [100, 0], \"tick0\": 0, \"title\": {\"text\": \"scroll depth\"}}},\n",
       "                        {\"responsive\": true}\n",
       "                    ).then(function(){\n",
       "                            \n",
       "var gd = document.getElementById('3f71ee52-98d2-458d-9e2d-f356ed5af536');\n",
       "var x = new MutationObserver(function (mutations, observer) {{\n",
       "        var display = window.getComputedStyle(gd).display;\n",
       "        if (!display || display === 'none') {{\n",
       "            console.log([gd, 'removed!']);\n",
       "            Plotly.purge(gd);\n",
       "            observer.disconnect();\n",
       "        }}\n",
       "}});\n",
       "\n",
       "// Listen for the removal of the full notebook cells\n",
       "var notebookContainer = gd.closest('#notebook-container');\n",
       "if (notebookContainer) {{\n",
       "    x.observe(notebookContainer, {childList: true});\n",
       "}}\n",
       "\n",
       "// Listen for the clearing of the current output cell\n",
       "var outputEl = gd.closest('.output');\n",
       "if (outputEl) {{\n",
       "    x.observe(outputEl, {childList: true});\n",
       "}}\n",
       "\n",
       "                        })\n",
       "                };\n",
       "                });\n",
       "            </script>\n",
       "        </div>"
      ]
     },
     "metadata": {},
     "output_type": "display_data"
    }
   ],
   "source": [
    "countries = scroll_by_depth.country_code.unique()\n",
    "num_countries = len(countries)\n",
    "fig = py.subplots.make_subplots(rows=1, cols=num_countries, subplot_titles=countries) # plot vertically side by side\n",
    "for i, country_code in enumerate(countries):\n",
    "    for is_test, name, color in[(True, \"v2\", \"green\"), (False, \"v1\", \"blue\")]:\n",
    "        #plot depth vertically from 0 at the top of the page.\n",
    "        line_label =  \" \".join([country_code, name])\n",
    "        depths = scroll_by_depth[(scroll_by_depth.country_code == country_code) & (scroll_by_depth.is_test == is_test)][\"max_article_read_depth\"]  ## \tcountry_code\tis_test\tmax_article_read_depth\n",
    "        fraction_at_depths = scroll_by_depth[(scroll_by_depth.country_code == country_code) & (scroll_by_depth.is_test == is_test)][\"fraction_pageviews\"]\n",
    "        fig.add_trace(go.Scatter(x=fraction_at_depths, y=depths, mode='lines', name=line_label, line_color=color), row=1, col=i+1)\n",
    "        \n",
    "    fig.update_yaxes(range = [100,0], row=1, col=i+1, tick0=0, dtick=25, title_text=\"scroll depth\")\n",
    "    fig.update_xaxes(range = [0, 1], row=1, col=i+1, title_text = \"fraction of pageviews\")\n",
    "        \n",
    "fig.update_layout(height=800, width=400* num_countries, title=\"How far users scroll down the page\")\n",
    "\n",
    "fig.show()\n"
   ]
  },
  {
   "cell_type": "markdown",
   "metadata": {},
   "source": [
    "## Analysing Scroll Depth by Browser etc"
   ]
  },
  {
   "cell_type": "code",
   "execution_count": null,
   "metadata": {},
   "outputs": [
    {
     "data": {
      "text/html": [
       "<div>\n",
       "<style scoped>\n",
       "    .dataframe tbody tr th:only-of-type {\n",
       "        vertical-align: middle;\n",
       "    }\n",
       "\n",
       "    .dataframe tbody tr th {\n",
       "        vertical-align: top;\n",
       "    }\n",
       "\n",
       "    .dataframe thead th {\n",
       "        text-align: right;\n",
       "    }\n",
       "</style>\n",
       "<table border=\"1\" class=\"dataframe\">\n",
       "  <thead>\n",
       "    <tr style=\"text-align: right;\">\n",
       "      <th></th>\n",
       "      <th>country_code</th>\n",
       "      <th>date</th>\n",
       "      <th>is_test</th>\n",
       "      <th>page_url</th>\n",
       "      <th>anonymous_id</th>\n",
       "      <th>slug</th>\n",
       "      <th>max_article_read_depth</th>\n",
       "      <th>min_time</th>\n",
       "      <th>max_time</th>\n",
       "      <th>time_on_page</th>\n",
       "    </tr>\n",
       "  </thead>\n",
       "  <tbody>\n",
       "    <tr>\n",
       "      <th>0</th>\n",
       "      <td>hk</td>\n",
       "      <td>2020-03-02</td>\n",
       "      <td>False</td>\n",
       "      <td>https://blog.moneysmart.hk/budgeting/%e5%84%aa...</td>\n",
       "      <td>9cd21bf1-414f-40b2-9836-15fc3d38199c</td>\n",
       "      <td>/budgeting/%e5%84%aa%e6%83%a0%e7%a2%bc-%e5%a4%...</td>\n",
       "      <td>75</td>\n",
       "      <td>2020-03-02 05:12:53.801</td>\n",
       "      <td>2020-03-02 05:14:12.268</td>\n",
       "      <td>78.467</td>\n",
       "    </tr>\n",
       "    <tr>\n",
       "      <th>1</th>\n",
       "      <td>hk</td>\n",
       "      <td>2020-03-02</td>\n",
       "      <td>False</td>\n",
       "      <td>https://blog.moneysmart.hk/budgeting/%e6%b8%af...</td>\n",
       "      <td>6a5a96db-d203-46b0-9ea1-c3693596376a</td>\n",
       "      <td>/budgeting/%e6%b8%af%e5%85%83-%e5%ae%9a%e6%9c%...</td>\n",
       "      <td>25</td>\n",
       "      <td>2020-03-02 15:21:50.505</td>\n",
       "      <td>2020-03-02 15:22:16.800</td>\n",
       "      <td>26.295</td>\n",
       "    </tr>\n",
       "    <tr>\n",
       "      <th>2</th>\n",
       "      <td>hk</td>\n",
       "      <td>2020-03-02</td>\n",
       "      <td>False</td>\n",
       "      <td>https://blog.moneysmart.hk/budgeting/%e8%b2%a1...</td>\n",
       "      <td>4bec7747-2a0d-478d-a76a-cda42fa8ec5b</td>\n",
       "      <td>/budgeting/%e8%b2%a1%e6%94%bf%e9%a0%90%e7%ae%9...</td>\n",
       "      <td>100</td>\n",
       "      <td>2020-03-02 13:28:06.721</td>\n",
       "      <td>2020-03-02 13:30:35.344</td>\n",
       "      <td>148.623</td>\n",
       "    </tr>\n",
       "    <tr>\n",
       "      <th>3</th>\n",
       "      <td>hk</td>\n",
       "      <td>2020-03-02</td>\n",
       "      <td>False</td>\n",
       "      <td>https://blog.moneysmart.hk/budgeting/%e8%b2%a1...</td>\n",
       "      <td>ddb58b28-8a04-444b-925e-38d7a78b9d51</td>\n",
       "      <td>/budgeting/%e8%b2%a1%e6%94%bf%e9%a0%90%e7%ae%9...</td>\n",
       "      <td>100</td>\n",
       "      <td>2020-03-02 14:24:58.108</td>\n",
       "      <td>2020-03-02 14:28:42.879</td>\n",
       "      <td>224.771</td>\n",
       "    </tr>\n",
       "    <tr>\n",
       "      <th>4</th>\n",
       "      <td>hk</td>\n",
       "      <td>2020-03-02</td>\n",
       "      <td>False</td>\n",
       "      <td>https://blog.moneysmart.hk/budgeting/bno-%e7%9...</td>\n",
       "      <td>1aa2b07c-01aa-4c75-8998-590e3227b4a6</td>\n",
       "      <td>/budgeting/bno-%e7%94%b3%e8%ab%8b-%e8%ad%b7%e7...</td>\n",
       "      <td>75</td>\n",
       "      <td>2020-03-02 06:59:11.741</td>\n",
       "      <td>2020-03-02 07:03:37.787</td>\n",
       "      <td>266.046</td>\n",
       "    </tr>\n",
       "  </tbody>\n",
       "</table>\n",
       "</div>"
      ],
      "text/plain": [
       "  country_code        date  is_test  \\\n",
       "0           hk  2020-03-02    False   \n",
       "1           hk  2020-03-02    False   \n",
       "2           hk  2020-03-02    False   \n",
       "3           hk  2020-03-02    False   \n",
       "4           hk  2020-03-02    False   \n",
       "\n",
       "                                            page_url  \\\n",
       "0  https://blog.moneysmart.hk/budgeting/%e5%84%aa...   \n",
       "1  https://blog.moneysmart.hk/budgeting/%e6%b8%af...   \n",
       "2  https://blog.moneysmart.hk/budgeting/%e8%b2%a1...   \n",
       "3  https://blog.moneysmart.hk/budgeting/%e8%b2%a1...   \n",
       "4  https://blog.moneysmart.hk/budgeting/bno-%e7%9...   \n",
       "\n",
       "                           anonymous_id  \\\n",
       "0  9cd21bf1-414f-40b2-9836-15fc3d38199c   \n",
       "1  6a5a96db-d203-46b0-9ea1-c3693596376a   \n",
       "2  4bec7747-2a0d-478d-a76a-cda42fa8ec5b   \n",
       "3  ddb58b28-8a04-444b-925e-38d7a78b9d51   \n",
       "4  1aa2b07c-01aa-4c75-8998-590e3227b4a6   \n",
       "\n",
       "                                                slug  max_article_read_depth  \\\n",
       "0  /budgeting/%e5%84%aa%e6%83%a0%e7%a2%bc-%e5%a4%...                      75   \n",
       "1  /budgeting/%e6%b8%af%e5%85%83-%e5%ae%9a%e6%9c%...                      25   \n",
       "2  /budgeting/%e8%b2%a1%e6%94%bf%e9%a0%90%e7%ae%9...                     100   \n",
       "3  /budgeting/%e8%b2%a1%e6%94%bf%e9%a0%90%e7%ae%9...                     100   \n",
       "4  /budgeting/bno-%e7%94%b3%e8%ab%8b-%e8%ad%b7%e7...                      75   \n",
       "\n",
       "                 min_time                max_time  time_on_page  \n",
       "0 2020-03-02 05:12:53.801 2020-03-02 05:14:12.268        78.467  \n",
       "1 2020-03-02 15:21:50.505 2020-03-02 15:22:16.800        26.295  \n",
       "2 2020-03-02 13:28:06.721 2020-03-02 13:30:35.344       148.623  \n",
       "3 2020-03-02 14:24:58.108 2020-03-02 14:28:42.879       224.771  \n",
       "4 2020-03-02 06:59:11.741 2020-03-02 07:03:37.787       266.046  "
      ]
     },
     "execution_count": 896,
     "metadata": {},
     "output_type": "execute_result"
    }
   ],
   "source": [
    "scroll_df.head()"
   ]
  },
  {
   "cell_type": "code",
   "execution_count": null,
   "metadata": {},
   "outputs": [],
   "source": [
    "# Need to get the browser type to join with the anonymous_id if it's not in this df."
   ]
  },
  {
   "cell_type": "code",
   "execution_count": null,
   "metadata": {},
   "outputs": [],
   "source": [
    "# events.set_index(\"anonymous_id\")"
   ]
  },
  {
   "cell_type": "code",
   "execution_count": null,
   "metadata": {},
   "outputs": [
    {
     "name": "stdout",
     "output_type": "stream",
     "text": [
      "starting at 2020-03-12 06:45:16.005632\n"
     ]
    }
   ],
   "source": [
    "#This is kind of slow\n",
    "start_time = datetime.now()\n",
    "print(\"starting at %s\"%start_time)\n",
    "cols_to_group_full = [\"anonymous_id\", \"device_type\", \"browser_name\", \"browser_major_version\", \"browser_version\", \"operating_system_name\", \"operating_system_version\"] #super slow\n",
    "cols_to_group = [\"anonymous_id\", \"device_type\", \"browser_name\", \"browser_major_version\",\"operating_system_name\"]\n",
    "anonymous_id_to_browser = events[cols_to_group].groupby([\"anonymous_id\"], observed=True).first() #observed=True should improve performance with category types.\n",
    "end_time = datetime.now()\n",
    "dtime = (end_time -start_time).total_seconds()\n",
    "print(\"took %.1f seconds\"%dtime)"
   ]
  },
  {
   "cell_type": "code",
   "execution_count": 922,
   "metadata": {},
   "outputs": [
    {
     "data": {
      "text/html": [
       "<div>\n",
       "<style scoped>\n",
       "    .dataframe tbody tr th:only-of-type {\n",
       "        vertical-align: middle;\n",
       "    }\n",
       "\n",
       "    .dataframe tbody tr th {\n",
       "        vertical-align: top;\n",
       "    }\n",
       "\n",
       "    .dataframe thead th {\n",
       "        text-align: right;\n",
       "    }\n",
       "</style>\n",
       "<table border=\"1\" class=\"dataframe\">\n",
       "  <thead>\n",
       "    <tr style=\"text-align: right;\">\n",
       "      <th></th>\n",
       "      <th>device_type</th>\n",
       "      <th>browser_name</th>\n",
       "      <th>browser_major_version</th>\n",
       "      <th>operating_system_name</th>\n",
       "    </tr>\n",
       "    <tr>\n",
       "      <th>anonymous_id</th>\n",
       "      <th></th>\n",
       "      <th></th>\n",
       "      <th></th>\n",
       "      <th></th>\n",
       "    </tr>\n",
       "  </thead>\n",
       "  <tbody>\n",
       "    <tr>\n",
       "      <th>00005d7a-fefd-499c-a3a0-67bf9cfa9b0c</th>\n",
       "      <td>mobile</td>\n",
       "      <td>Chrome</td>\n",
       "      <td>80.0</td>\n",
       "      <td>Android</td>\n",
       "    </tr>\n",
       "    <tr>\n",
       "      <th>0000802d-0eea-4770-8aec-4301a4f9df0a</th>\n",
       "      <td>mobile</td>\n",
       "      <td>Chrome</td>\n",
       "      <td>80.0</td>\n",
       "      <td>Android</td>\n",
       "    </tr>\n",
       "    <tr>\n",
       "      <th>00008888-6fd4-4dc8-b9f9-863692b3ed5d</th>\n",
       "      <td>mobile</td>\n",
       "      <td>Mobile Safari</td>\n",
       "      <td>13.0</td>\n",
       "      <td>iOS</td>\n",
       "    </tr>\n",
       "    <tr>\n",
       "      <th>0000c622-794e-475f-9d8d-08b20d33925b</th>\n",
       "      <td>mobile</td>\n",
       "      <td>Mobile Safari</td>\n",
       "      <td>13.0</td>\n",
       "      <td>iOS</td>\n",
       "    </tr>\n",
       "    <tr>\n",
       "      <th>00010043-3088-4c48-b6af-77dd08f9be72</th>\n",
       "      <td>desktop</td>\n",
       "      <td>Chrome</td>\n",
       "      <td>80.0</td>\n",
       "      <td>Windows</td>\n",
       "    </tr>\n",
       "  </tbody>\n",
       "</table>\n",
       "</div>"
      ],
      "text/plain": [
       "                                     device_type   browser_name  \\\n",
       "anonymous_id                                                      \n",
       "00005d7a-fefd-499c-a3a0-67bf9cfa9b0c      mobile         Chrome   \n",
       "0000802d-0eea-4770-8aec-4301a4f9df0a      mobile         Chrome   \n",
       "00008888-6fd4-4dc8-b9f9-863692b3ed5d      mobile  Mobile Safari   \n",
       "0000c622-794e-475f-9d8d-08b20d33925b      mobile  Mobile Safari   \n",
       "00010043-3088-4c48-b6af-77dd08f9be72     desktop         Chrome   \n",
       "\n",
       "                                      browser_major_version  \\\n",
       "anonymous_id                                                  \n",
       "00005d7a-fefd-499c-a3a0-67bf9cfa9b0c                   80.0   \n",
       "0000802d-0eea-4770-8aec-4301a4f9df0a                   80.0   \n",
       "00008888-6fd4-4dc8-b9f9-863692b3ed5d                   13.0   \n",
       "0000c622-794e-475f-9d8d-08b20d33925b                   13.0   \n",
       "00010043-3088-4c48-b6af-77dd08f9be72                   80.0   \n",
       "\n",
       "                                     operating_system_name  \n",
       "anonymous_id                                                \n",
       "00005d7a-fefd-499c-a3a0-67bf9cfa9b0c               Android  \n",
       "0000802d-0eea-4770-8aec-4301a4f9df0a               Android  \n",
       "00008888-6fd4-4dc8-b9f9-863692b3ed5d                   iOS  \n",
       "0000c622-794e-475f-9d8d-08b20d33925b                   iOS  \n",
       "00010043-3088-4c48-b6af-77dd08f9be72               Windows  "
      ]
     },
     "execution_count": 922,
     "metadata": {},
     "output_type": "execute_result"
    }
   ],
   "source": [
    "anonymous_id_to_browser.head()"
   ]
  },
  {
   "cell_type": "code",
   "execution_count": 923,
   "metadata": {},
   "outputs": [],
   "source": [
    "#join to scroll depth data to help segment"
   ]
  },
  {
   "cell_type": "code",
   "execution_count": 924,
   "metadata": {},
   "outputs": [],
   "source": [
    "\n",
    "scroll_df_with_browser = scroll_df.merge(anonymous_id_to_browser, how=\"left\", on=\"anonymous_id\") #probably would be better to look at indexes for this kind of operation."
   ]
  },
  {
   "cell_type": "code",
   "execution_count": 925,
   "metadata": {},
   "outputs": [
    {
     "data": {
      "text/html": [
       "<div>\n",
       "<style scoped>\n",
       "    .dataframe tbody tr th:only-of-type {\n",
       "        vertical-align: middle;\n",
       "    }\n",
       "\n",
       "    .dataframe tbody tr th {\n",
       "        vertical-align: top;\n",
       "    }\n",
       "\n",
       "    .dataframe thead th {\n",
       "        text-align: right;\n",
       "    }\n",
       "</style>\n",
       "<table border=\"1\" class=\"dataframe\">\n",
       "  <thead>\n",
       "    <tr style=\"text-align: right;\">\n",
       "      <th></th>\n",
       "      <th>country_code</th>\n",
       "      <th>date</th>\n",
       "      <th>is_test</th>\n",
       "      <th>page_url</th>\n",
       "      <th>anonymous_id</th>\n",
       "      <th>slug</th>\n",
       "      <th>max_article_read_depth</th>\n",
       "      <th>min_time</th>\n",
       "      <th>max_time</th>\n",
       "      <th>time_on_page</th>\n",
       "      <th>device_type</th>\n",
       "      <th>browser_name</th>\n",
       "      <th>browser_major_version</th>\n",
       "      <th>operating_system_name</th>\n",
       "    </tr>\n",
       "  </thead>\n",
       "  <tbody>\n",
       "    <tr>\n",
       "      <th>0</th>\n",
       "      <td>hk</td>\n",
       "      <td>2020-03-02</td>\n",
       "      <td>False</td>\n",
       "      <td>https://blog.moneysmart.hk/budgeting/%e5%84%aa...</td>\n",
       "      <td>9cd21bf1-414f-40b2-9836-15fc3d38199c</td>\n",
       "      <td>/budgeting/%e5%84%aa%e6%83%a0%e7%a2%bc-%e5%a4%...</td>\n",
       "      <td>75</td>\n",
       "      <td>2020-03-02 05:12:53.801</td>\n",
       "      <td>2020-03-02 05:14:12.268</td>\n",
       "      <td>78.467</td>\n",
       "      <td>desktop</td>\n",
       "      <td>Firefox</td>\n",
       "      <td>73.0</td>\n",
       "      <td>Windows</td>\n",
       "    </tr>\n",
       "    <tr>\n",
       "      <th>1</th>\n",
       "      <td>hk</td>\n",
       "      <td>2020-03-02</td>\n",
       "      <td>False</td>\n",
       "      <td>https://blog.moneysmart.hk/budgeting/%e6%b8%af...</td>\n",
       "      <td>6a5a96db-d203-46b0-9ea1-c3693596376a</td>\n",
       "      <td>/budgeting/%e6%b8%af%e5%85%83-%e5%ae%9a%e6%9c%...</td>\n",
       "      <td>25</td>\n",
       "      <td>2020-03-02 15:21:50.505</td>\n",
       "      <td>2020-03-02 15:22:16.800</td>\n",
       "      <td>26.295</td>\n",
       "      <td>desktop</td>\n",
       "      <td>Safari</td>\n",
       "      <td>11.0</td>\n",
       "      <td>Mac OS</td>\n",
       "    </tr>\n",
       "    <tr>\n",
       "      <th>2</th>\n",
       "      <td>hk</td>\n",
       "      <td>2020-03-02</td>\n",
       "      <td>False</td>\n",
       "      <td>https://blog.moneysmart.hk/budgeting/%e8%b2%a1...</td>\n",
       "      <td>4bec7747-2a0d-478d-a76a-cda42fa8ec5b</td>\n",
       "      <td>/budgeting/%e8%b2%a1%e6%94%bf%e9%a0%90%e7%ae%9...</td>\n",
       "      <td>100</td>\n",
       "      <td>2020-03-02 13:28:06.721</td>\n",
       "      <td>2020-03-02 13:30:35.344</td>\n",
       "      <td>148.623</td>\n",
       "      <td>mobile</td>\n",
       "      <td>Mobile Safari</td>\n",
       "      <td>13.0</td>\n",
       "      <td>iOS</td>\n",
       "    </tr>\n",
       "    <tr>\n",
       "      <th>3</th>\n",
       "      <td>hk</td>\n",
       "      <td>2020-03-02</td>\n",
       "      <td>False</td>\n",
       "      <td>https://blog.moneysmart.hk/budgeting/%e8%b2%a1...</td>\n",
       "      <td>ddb58b28-8a04-444b-925e-38d7a78b9d51</td>\n",
       "      <td>/budgeting/%e8%b2%a1%e6%94%bf%e9%a0%90%e7%ae%9...</td>\n",
       "      <td>100</td>\n",
       "      <td>2020-03-02 14:24:58.108</td>\n",
       "      <td>2020-03-02 14:28:42.879</td>\n",
       "      <td>224.771</td>\n",
       "      <td>mobile</td>\n",
       "      <td>Chrome</td>\n",
       "      <td>80.0</td>\n",
       "      <td>Android</td>\n",
       "    </tr>\n",
       "    <tr>\n",
       "      <th>4</th>\n",
       "      <td>hk</td>\n",
       "      <td>2020-03-02</td>\n",
       "      <td>False</td>\n",
       "      <td>https://blog.moneysmart.hk/budgeting/bno-%e7%9...</td>\n",
       "      <td>1aa2b07c-01aa-4c75-8998-590e3227b4a6</td>\n",
       "      <td>/budgeting/bno-%e7%94%b3%e8%ab%8b-%e8%ad%b7%e7...</td>\n",
       "      <td>75</td>\n",
       "      <td>2020-03-02 06:59:11.741</td>\n",
       "      <td>2020-03-02 07:03:37.787</td>\n",
       "      <td>266.046</td>\n",
       "      <td>desktop</td>\n",
       "      <td>Chrome</td>\n",
       "      <td>80.0</td>\n",
       "      <td>Windows</td>\n",
       "    </tr>\n",
       "  </tbody>\n",
       "</table>\n",
       "</div>"
      ],
      "text/plain": [
       "  country_code        date  is_test  \\\n",
       "0           hk  2020-03-02    False   \n",
       "1           hk  2020-03-02    False   \n",
       "2           hk  2020-03-02    False   \n",
       "3           hk  2020-03-02    False   \n",
       "4           hk  2020-03-02    False   \n",
       "\n",
       "                                            page_url  \\\n",
       "0  https://blog.moneysmart.hk/budgeting/%e5%84%aa...   \n",
       "1  https://blog.moneysmart.hk/budgeting/%e6%b8%af...   \n",
       "2  https://blog.moneysmart.hk/budgeting/%e8%b2%a1...   \n",
       "3  https://blog.moneysmart.hk/budgeting/%e8%b2%a1...   \n",
       "4  https://blog.moneysmart.hk/budgeting/bno-%e7%9...   \n",
       "\n",
       "                           anonymous_id  \\\n",
       "0  9cd21bf1-414f-40b2-9836-15fc3d38199c   \n",
       "1  6a5a96db-d203-46b0-9ea1-c3693596376a   \n",
       "2  4bec7747-2a0d-478d-a76a-cda42fa8ec5b   \n",
       "3  ddb58b28-8a04-444b-925e-38d7a78b9d51   \n",
       "4  1aa2b07c-01aa-4c75-8998-590e3227b4a6   \n",
       "\n",
       "                                                slug  max_article_read_depth  \\\n",
       "0  /budgeting/%e5%84%aa%e6%83%a0%e7%a2%bc-%e5%a4%...                      75   \n",
       "1  /budgeting/%e6%b8%af%e5%85%83-%e5%ae%9a%e6%9c%...                      25   \n",
       "2  /budgeting/%e8%b2%a1%e6%94%bf%e9%a0%90%e7%ae%9...                     100   \n",
       "3  /budgeting/%e8%b2%a1%e6%94%bf%e9%a0%90%e7%ae%9...                     100   \n",
       "4  /budgeting/bno-%e7%94%b3%e8%ab%8b-%e8%ad%b7%e7...                      75   \n",
       "\n",
       "                 min_time                max_time  time_on_page device_type  \\\n",
       "0 2020-03-02 05:12:53.801 2020-03-02 05:14:12.268        78.467     desktop   \n",
       "1 2020-03-02 15:21:50.505 2020-03-02 15:22:16.800        26.295     desktop   \n",
       "2 2020-03-02 13:28:06.721 2020-03-02 13:30:35.344       148.623      mobile   \n",
       "3 2020-03-02 14:24:58.108 2020-03-02 14:28:42.879       224.771      mobile   \n",
       "4 2020-03-02 06:59:11.741 2020-03-02 07:03:37.787       266.046     desktop   \n",
       "\n",
       "    browser_name  browser_major_version operating_system_name  \n",
       "0        Firefox                   73.0               Windows  \n",
       "1         Safari                   11.0                Mac OS  \n",
       "2  Mobile Safari                   13.0                   iOS  \n",
       "3         Chrome                   80.0               Android  \n",
       "4         Chrome                   80.0               Windows  "
      ]
     },
     "execution_count": 925,
     "metadata": {},
     "output_type": "execute_result"
    }
   ],
   "source": [
    "scroll_df_with_browser.head()"
   ]
  },
  {
   "cell_type": "code",
   "execution_count": 926,
   "metadata": {},
   "outputs": [],
   "source": [
    "def color_scroll_diff(x):\n",
    "    #return \"background-color: red\"\n",
    "    error_space = 3\n",
    "    saturated_level = 30\n",
    "    cx = abs(x)/saturated_level*255\n",
    "    \n",
    "    #if x>error_space or x<(-1*error_space):\n",
    "     #   return\n",
    "        \n",
    "    if x<0:\n",
    "        return \"background-color: rgb(%i,%i,%i)\" % (255, 255-cx, 255-cx)\n",
    "    \n",
    "    if x>0:\n",
    "        return \"background-color: rgb(%i,%i,%i)\" % (255-cx, 255, 255-cx)\n",
    "\n",
    "\n",
    "def create_scroll_depth_table(df, cols_to_segment_by, with_highlighting = True):\n",
    "    cols_to_group_by = [\"country_code\", \"is_test\"]+ cols_to_segment_by\n",
    "    grouped_by_device_type = df.groupby(cols_to_group_by, observed=True).agg({\"max_article_read_depth\":\"mean\", \"anonymous_id\":\"size\"}).reset_index()\n",
    "    grouped_by_device_type.rename(columns={\"anonymous_id\":\"num_pageviews\", \"max_article_read_depth\":\"av_max_article_read_depth\"}, inplace=True)\n",
    "    grouped_by_device_type\n",
    "\n",
    "    index_cols = [\"country_code\",]+ cols_to_segment_by\n",
    "    grouped_by_device_type_pv = pd.pivot_table(grouped_by_device_type,\n",
    "                        index=index_cols, \n",
    "                        values=[\"av_max_article_read_depth\", \"num_pageviews\"],\n",
    "                        columns=[\"is_test\"],   # \n",
    "                        fill_value=0)\n",
    "    \n",
    "    grouped_by_device_type_pv[\"av_max_article_read_depth\", \"v2_vs_v1\"] = grouped_by_device_type_pv['av_max_article_read_depth', True]-grouped_by_device_type_pv['av_max_article_read_depth', False]\n",
    "    \n",
    "    if with_highlighting:\n",
    "        grouped_by_device_type_pv.style.applymap(color_scroll_diff)\n",
    "        #return grouped_by_device_type_pv.style.applymap(color_scroll_diff, subset=grouped_by_device_type_pv.columns.get_loc_level('v2_vs_v1', level=1)[0]) \n",
    "    \n",
    "    return grouped_by_device_type_pv\n",
    "\n",
    "def color_scroll_depth_table(g):\n",
    "    return g.style.applymap(color_scroll_diff, subset=g.columns.get_loc_level('v2_vs_v1', level=1)[0]) "
   ]
  },
  {
   "cell_type": "code",
   "execution_count": null,
   "metadata": {},
   "outputs": [],
   "source": []
  },
  {
   "cell_type": "code",
   "execution_count": null,
   "metadata": {},
   "outputs": [],
   "source": []
  },
  {
   "cell_type": "code",
   "execution_count": 927,
   "metadata": {},
   "outputs": [
    {
     "data": {
      "text/html": [
       "<style  type=\"text/css\" >\n",
       "    #T_20c143c0_6447_11ea_8ff6_054989be1d01row0_col4 {\n",
       "            background-color:  rgb(255,181,181);\n",
       "        }    #T_20c143c0_6447_11ea_8ff6_054989be1d01row1_col4 {\n",
       "            background-color:  rgb(255,217,217);\n",
       "        }    #T_20c143c0_6447_11ea_8ff6_054989be1d01row2_col4 {\n",
       "            background-color:  rgb(255,120,120);\n",
       "        }    #T_20c143c0_6447_11ea_8ff6_054989be1d01row3_col4 {\n",
       "            background-color:  rgb(232,255,232);\n",
       "        }    #T_20c143c0_6447_11ea_8ff6_054989be1d01row4_col4 {\n",
       "            background-color:  rgb(255,236,236);\n",
       "        }    #T_20c143c0_6447_11ea_8ff6_054989be1d01row5_col4 {\n",
       "            background-color:  rgb(253,255,253);\n",
       "        }</style><table id=\"T_20c143c0_6447_11ea_8ff6_054989be1d01\" ><thead>    <tr>        <th class=\"blank\" ></th>        <th class=\"blank level0\" ></th>        <th class=\"col_heading level0 col0\" colspan=2>av_max_article_read_depth</th>        <th class=\"col_heading level0 col2\" colspan=2>num_pageviews</th>        <th class=\"col_heading level0 col4\" >av_max_article_read_depth</th>    </tr>    <tr>        <th class=\"blank\" ></th>        <th class=\"index_name level1\" >is_test</th>        <th class=\"col_heading level1 col0\" >False</th>        <th class=\"col_heading level1 col1\" >True</th>        <th class=\"col_heading level1 col2\" >False</th>        <th class=\"col_heading level1 col3\" >True</th>        <th class=\"col_heading level1 col4\" >v2_vs_v1</th>    </tr>    <tr>        <th class=\"index_name level0\" >country_code</th>        <th class=\"index_name level1\" >device_type</th>        <th class=\"blank\" ></th>        <th class=\"blank\" ></th>        <th class=\"blank\" ></th>        <th class=\"blank\" ></th>        <th class=\"blank\" ></th>    </tr></thead><tbody>\n",
       "                <tr>\n",
       "                        <th id=\"T_20c143c0_6447_11ea_8ff6_054989be1d01level0_row0\" class=\"row_heading level0 row0\" rowspan=3>hk</th>\n",
       "                        <th id=\"T_20c143c0_6447_11ea_8ff6_054989be1d01level1_row0\" class=\"row_heading level1 row0\" >desktop</th>\n",
       "                        <td id=\"T_20c143c0_6447_11ea_8ff6_054989be1d01row0_col0\" class=\"data row0 col0\" >49.8083</td>\n",
       "                        <td id=\"T_20c143c0_6447_11ea_8ff6_054989be1d01row0_col1\" class=\"data row0 col1\" >41.1829</td>\n",
       "                        <td id=\"T_20c143c0_6447_11ea_8ff6_054989be1d01row0_col2\" class=\"data row0 col2\" >30510</td>\n",
       "                        <td id=\"T_20c143c0_6447_11ea_8ff6_054989be1d01row0_col3\" class=\"data row0 col3\" >2498</td>\n",
       "                        <td id=\"T_20c143c0_6447_11ea_8ff6_054989be1d01row0_col4\" class=\"data row0 col4\" >-8.62531</td>\n",
       "            </tr>\n",
       "            <tr>\n",
       "                                <th id=\"T_20c143c0_6447_11ea_8ff6_054989be1d01level1_row1\" class=\"row_heading level1 row1\" >mobile</th>\n",
       "                        <td id=\"T_20c143c0_6447_11ea_8ff6_054989be1d01row1_col0\" class=\"data row1 col0\" >51.0548</td>\n",
       "                        <td id=\"T_20c143c0_6447_11ea_8ff6_054989be1d01row1_col1\" class=\"data row1 col1\" >46.6729</td>\n",
       "                        <td id=\"T_20c143c0_6447_11ea_8ff6_054989be1d01row1_col2\" class=\"data row1 col2\" >76270</td>\n",
       "                        <td id=\"T_20c143c0_6447_11ea_8ff6_054989be1d01row1_col3\" class=\"data row1 col3\" >6462</td>\n",
       "                        <td id=\"T_20c143c0_6447_11ea_8ff6_054989be1d01row1_col4\" class=\"data row1 col4\" >-4.38195</td>\n",
       "            </tr>\n",
       "            <tr>\n",
       "                                <th id=\"T_20c143c0_6447_11ea_8ff6_054989be1d01level1_row2\" class=\"row_heading level1 row2\" >tablet</th>\n",
       "                        <td id=\"T_20c143c0_6447_11ea_8ff6_054989be1d01row2_col0\" class=\"data row2 col0\" >56.683</td>\n",
       "                        <td id=\"T_20c143c0_6447_11ea_8ff6_054989be1d01row2_col1\" class=\"data row2 col1\" >40.8163</td>\n",
       "                        <td id=\"T_20c143c0_6447_11ea_8ff6_054989be1d01row2_col2\" class=\"data row2 col2\" >1530</td>\n",
       "                        <td id=\"T_20c143c0_6447_11ea_8ff6_054989be1d01row2_col3\" class=\"data row2 col3\" >147</td>\n",
       "                        <td id=\"T_20c143c0_6447_11ea_8ff6_054989be1d01row2_col4\" class=\"data row2 col4\" >-15.8667</td>\n",
       "            </tr>\n",
       "            <tr>\n",
       "                        <th id=\"T_20c143c0_6447_11ea_8ff6_054989be1d01level0_row3\" class=\"row_heading level0 row3\" rowspan=3>sg</th>\n",
       "                        <th id=\"T_20c143c0_6447_11ea_8ff6_054989be1d01level1_row3\" class=\"row_heading level1 row3\" >desktop</th>\n",
       "                        <td id=\"T_20c143c0_6447_11ea_8ff6_054989be1d01row3_col0\" class=\"data row3 col0\" >49.3246</td>\n",
       "                        <td id=\"T_20c143c0_6447_11ea_8ff6_054989be1d01row3_col1\" class=\"data row3 col1\" >51.9897</td>\n",
       "                        <td id=\"T_20c143c0_6447_11ea_8ff6_054989be1d01row3_col2\" class=\"data row3 col2\" >199835</td>\n",
       "                        <td id=\"T_20c143c0_6447_11ea_8ff6_054989be1d01row3_col3\" class=\"data row3 col3\" >10793</td>\n",
       "                        <td id=\"T_20c143c0_6447_11ea_8ff6_054989be1d01row3_col4\" class=\"data row3 col4\" >2.66515</td>\n",
       "            </tr>\n",
       "            <tr>\n",
       "                                <th id=\"T_20c143c0_6447_11ea_8ff6_054989be1d01level1_row4\" class=\"row_heading level1 row4\" >mobile</th>\n",
       "                        <td id=\"T_20c143c0_6447_11ea_8ff6_054989be1d01row4_col0\" class=\"data row4 col0\" >43.2224</td>\n",
       "                        <td id=\"T_20c143c0_6447_11ea_8ff6_054989be1d01row4_col1\" class=\"data row4 col1\" >41.027</td>\n",
       "                        <td id=\"T_20c143c0_6447_11ea_8ff6_054989be1d01row4_col2\" class=\"data row4 col2\" >410807</td>\n",
       "                        <td id=\"T_20c143c0_6447_11ea_8ff6_054989be1d01row4_col3\" class=\"data row4 col3\" >24532</td>\n",
       "                        <td id=\"T_20c143c0_6447_11ea_8ff6_054989be1d01row4_col4\" class=\"data row4 col4\" >-2.1954</td>\n",
       "            </tr>\n",
       "            <tr>\n",
       "                                <th id=\"T_20c143c0_6447_11ea_8ff6_054989be1d01level1_row5\" class=\"row_heading level1 row5\" >tablet</th>\n",
       "                        <td id=\"T_20c143c0_6447_11ea_8ff6_054989be1d01row5_col0\" class=\"data row5 col0\" >50.8117</td>\n",
       "                        <td id=\"T_20c143c0_6447_11ea_8ff6_054989be1d01row5_col1\" class=\"data row5 col1\" >51.004</td>\n",
       "                        <td id=\"T_20c143c0_6447_11ea_8ff6_054989be1d01row5_col2\" class=\"data row5 col2\" >9148</td>\n",
       "                        <td id=\"T_20c143c0_6447_11ea_8ff6_054989be1d01row5_col3\" class=\"data row5 col3\" >498</td>\n",
       "                        <td id=\"T_20c143c0_6447_11ea_8ff6_054989be1d01row5_col4\" class=\"data row5 col4\" >0.192363</td>\n",
       "            </tr>\n",
       "    </tbody></table>"
      ],
      "text/plain": [
       "<pandas.io.formats.style.Styler at 0x7f04af7fb278>"
      ]
     },
     "execution_count": 927,
     "metadata": {},
     "output_type": "execute_result"
    }
   ],
   "source": [
    "grouped_by_device_type_pv =  create_scroll_depth_table(scroll_df_with_browser,[\"device_type\"] )               \n",
    "g = grouped_by_device_type_pv[grouped_by_device_type_pv[\"num_pageviews\", True]>100]\n",
    "\n",
    "\n",
    "color_scroll_depth_table(g)\n"
   ]
  },
  {
   "cell_type": "code",
   "execution_count": 928,
   "metadata": {},
   "outputs": [
    {
     "data": {
      "text/html": [
       "<style  type=\"text/css\" >\n",
       "    #T_20fcad7a_6447_11ea_8ff6_054989be1d01row0_col4 {\n",
       "            background-color:  rgb(255,244,244);\n",
       "        }    #T_20fcad7a_6447_11ea_8ff6_054989be1d01row1_col4 {\n",
       "            background-color:  rgb(255,194,194);\n",
       "        }    #T_20fcad7a_6447_11ea_8ff6_054989be1d01row2_col4 {\n",
       "            background-color:  rgb(255,182,182);\n",
       "        }    #T_20fcad7a_6447_11ea_8ff6_054989be1d01row3_col4 {\n",
       "            background-color:  rgb(255,208,208);\n",
       "        }    #T_20fcad7a_6447_11ea_8ff6_054989be1d01row4_col4 {\n",
       "            background-color:  rgb(255,222,222);\n",
       "        }    #T_20fcad7a_6447_11ea_8ff6_054989be1d01row5_col4 {\n",
       "            background-color:  rgb(255,117,117);\n",
       "        }    #T_20fcad7a_6447_11ea_8ff6_054989be1d01row6_col4 {\n",
       "            background-color:  rgb(251,255,251);\n",
       "        }    #T_20fcad7a_6447_11ea_8ff6_054989be1d01row7_col4 {\n",
       "            background-color:  rgb(226,255,226);\n",
       "        }    #T_20fcad7a_6447_11ea_8ff6_054989be1d01row8_col4 {\n",
       "            background-color:  rgb(255,215,215);\n",
       "        }    #T_20fcad7a_6447_11ea_8ff6_054989be1d01row9_col4 {\n",
       "            background-color:  rgb(253,255,253);\n",
       "        }    #T_20fcad7a_6447_11ea_8ff6_054989be1d01row10_col4 {\n",
       "            background-color:  rgb(255,189,189);\n",
       "        }    #T_20fcad7a_6447_11ea_8ff6_054989be1d01row11_col4 {\n",
       "            background-color:  rgb(235,255,235);\n",
       "        }</style><table id=\"T_20fcad7a_6447_11ea_8ff6_054989be1d01\" ><thead>    <tr>        <th class=\"blank\" ></th>        <th class=\"blank\" ></th>        <th class=\"blank level0\" ></th>        <th class=\"col_heading level0 col0\" colspan=2>av_max_article_read_depth</th>        <th class=\"col_heading level0 col2\" colspan=2>num_pageviews</th>        <th class=\"col_heading level0 col4\" >av_max_article_read_depth</th>    </tr>    <tr>        <th class=\"blank\" ></th>        <th class=\"blank\" ></th>        <th class=\"index_name level1\" >is_test</th>        <th class=\"col_heading level1 col0\" >False</th>        <th class=\"col_heading level1 col1\" >True</th>        <th class=\"col_heading level1 col2\" >False</th>        <th class=\"col_heading level1 col3\" >True</th>        <th class=\"col_heading level1 col4\" >v2_vs_v1</th>    </tr>    <tr>        <th class=\"index_name level0\" >country_code</th>        <th class=\"index_name level1\" >device_type</th>        <th class=\"index_name level2\" >operating_system_name</th>        <th class=\"blank\" ></th>        <th class=\"blank\" ></th>        <th class=\"blank\" ></th>        <th class=\"blank\" ></th>        <th class=\"blank\" ></th>    </tr></thead><tbody>\n",
       "                <tr>\n",
       "                        <th id=\"T_20fcad7a_6447_11ea_8ff6_054989be1d01level0_row0\" class=\"row_heading level0 row0\" rowspan=6>hk</th>\n",
       "                        <th id=\"T_20fcad7a_6447_11ea_8ff6_054989be1d01level1_row0\" class=\"row_heading level1 row0\" rowspan=3>desktop</th>\n",
       "                        <th id=\"T_20fcad7a_6447_11ea_8ff6_054989be1d01level2_row0\" class=\"row_heading level2 row0\" >Linux</th>\n",
       "                        <td id=\"T_20fcad7a_6447_11ea_8ff6_054989be1d01row0_col0\" class=\"data row0 col0\" >3.60241</td>\n",
       "                        <td id=\"T_20fcad7a_6447_11ea_8ff6_054989be1d01row0_col1\" class=\"data row0 col1\" >2.30924</td>\n",
       "                        <td id=\"T_20fcad7a_6447_11ea_8ff6_054989be1d01row0_col2\" class=\"data row0 col2\" >2075</td>\n",
       "                        <td id=\"T_20fcad7a_6447_11ea_8ff6_054989be1d01row0_col3\" class=\"data row0 col3\" >249</td>\n",
       "                        <td id=\"T_20fcad7a_6447_11ea_8ff6_054989be1d01row0_col4\" class=\"data row0 col4\" >-1.29317</td>\n",
       "            </tr>\n",
       "            <tr>\n",
       "                                        <th id=\"T_20fcad7a_6447_11ea_8ff6_054989be1d01level2_row1\" class=\"row_heading level2 row1\" >Mac OS</th>\n",
       "                        <td id=\"T_20fcad7a_6447_11ea_8ff6_054989be1d01row1_col0\" class=\"data row1 col0\" >52.9882</td>\n",
       "                        <td id=\"T_20fcad7a_6447_11ea_8ff6_054989be1d01row1_col1\" class=\"data row1 col1\" >45.8969</td>\n",
       "                        <td id=\"T_20fcad7a_6447_11ea_8ff6_054989be1d01row1_col2\" class=\"data row1 col2\" >6668</td>\n",
       "                        <td id=\"T_20fcad7a_6447_11ea_8ff6_054989be1d01row1_col3\" class=\"data row1 col3\" >524</td>\n",
       "                        <td id=\"T_20fcad7a_6447_11ea_8ff6_054989be1d01row1_col4\" class=\"data row1 col4\" >-7.09121</td>\n",
       "            </tr>\n",
       "            <tr>\n",
       "                                        <th id=\"T_20fcad7a_6447_11ea_8ff6_054989be1d01level2_row2\" class=\"row_heading level2 row2\" >Windows</th>\n",
       "                        <td id=\"T_20fcad7a_6447_11ea_8ff6_054989be1d01row2_col0\" class=\"data row2 col0\" >54.0451</td>\n",
       "                        <td id=\"T_20fcad7a_6447_11ea_8ff6_054989be1d01row2_col1\" class=\"data row2 col1\" >45.5315</td>\n",
       "                        <td id=\"T_20fcad7a_6447_11ea_8ff6_054989be1d01row2_col2\" class=\"data row2 col2\" >21353</td>\n",
       "                        <td id=\"T_20fcad7a_6447_11ea_8ff6_054989be1d01row2_col3\" class=\"data row2 col3\" >1712</td>\n",
       "                        <td id=\"T_20fcad7a_6447_11ea_8ff6_054989be1d01row2_col4\" class=\"data row2 col4\" >-8.51356</td>\n",
       "            </tr>\n",
       "            <tr>\n",
       "                                <th id=\"T_20fcad7a_6447_11ea_8ff6_054989be1d01level1_row3\" class=\"row_heading level1 row3\" rowspan=2>mobile</th>\n",
       "                        <th id=\"T_20fcad7a_6447_11ea_8ff6_054989be1d01level2_row3\" class=\"row_heading level2 row3\" >Android</th>\n",
       "                        <td id=\"T_20fcad7a_6447_11ea_8ff6_054989be1d01row3_col0\" class=\"data row3 col0\" >54.1604</td>\n",
       "                        <td id=\"T_20fcad7a_6447_11ea_8ff6_054989be1d01row3_col1\" class=\"data row3 col1\" >48.7174</td>\n",
       "                        <td id=\"T_20fcad7a_6447_11ea_8ff6_054989be1d01row3_col2\" class=\"data row3 col2\" >27461</td>\n",
       "                        <td id=\"T_20fcad7a_6447_11ea_8ff6_054989be1d01row3_col3\" class=\"data row3 col3\" >2378</td>\n",
       "                        <td id=\"T_20fcad7a_6447_11ea_8ff6_054989be1d01row3_col4\" class=\"data row3 col4\" >-5.44304</td>\n",
       "            </tr>\n",
       "            <tr>\n",
       "                                        <th id=\"T_20fcad7a_6447_11ea_8ff6_054989be1d01level2_row4\" class=\"row_heading level2 row4\" >iOS</th>\n",
       "                        <td id=\"T_20fcad7a_6447_11ea_8ff6_054989be1d01row4_col0\" class=\"data row4 col0\" >49.3114</td>\n",
       "                        <td id=\"T_20fcad7a_6447_11ea_8ff6_054989be1d01row4_col1\" class=\"data row4 col1\" >45.4824</td>\n",
       "                        <td id=\"T_20fcad7a_6447_11ea_8ff6_054989be1d01row4_col2\" class=\"data row4 col2\" >48794</td>\n",
       "                        <td id=\"T_20fcad7a_6447_11ea_8ff6_054989be1d01row4_col3\" class=\"data row4 col3\" >4084</td>\n",
       "                        <td id=\"T_20fcad7a_6447_11ea_8ff6_054989be1d01row4_col4\" class=\"data row4 col4\" >-3.82902</td>\n",
       "            </tr>\n",
       "            <tr>\n",
       "                                <th id=\"T_20fcad7a_6447_11ea_8ff6_054989be1d01level1_row5\" class=\"row_heading level1 row5\" >tablet</th>\n",
       "                        <th id=\"T_20fcad7a_6447_11ea_8ff6_054989be1d01level2_row5\" class=\"row_heading level2 row5\" >iOS</th>\n",
       "                        <td id=\"T_20fcad7a_6447_11ea_8ff6_054989be1d01row5_col0\" class=\"data row5 col0\" >56.0236</td>\n",
       "                        <td id=\"T_20fcad7a_6447_11ea_8ff6_054989be1d01row5_col1\" class=\"data row5 col1\" >39.8305</td>\n",
       "                        <td id=\"T_20fcad7a_6447_11ea_8ff6_054989be1d01row5_col2\" class=\"data row5 col2\" >1270</td>\n",
       "                        <td id=\"T_20fcad7a_6447_11ea_8ff6_054989be1d01row5_col3\" class=\"data row5 col3\" >118</td>\n",
       "                        <td id=\"T_20fcad7a_6447_11ea_8ff6_054989be1d01row5_col4\" class=\"data row5 col4\" >-16.1931</td>\n",
       "            </tr>\n",
       "            <tr>\n",
       "                        <th id=\"T_20fcad7a_6447_11ea_8ff6_054989be1d01level0_row6\" class=\"row_heading level0 row6\" rowspan=6>sg</th>\n",
       "                        <th id=\"T_20fcad7a_6447_11ea_8ff6_054989be1d01level1_row6\" class=\"row_heading level1 row6\" rowspan=2>desktop</th>\n",
       "                        <th id=\"T_20fcad7a_6447_11ea_8ff6_054989be1d01level2_row6\" class=\"row_heading level2 row6\" >Mac OS</th>\n",
       "                        <td id=\"T_20fcad7a_6447_11ea_8ff6_054989be1d01row6_col0\" class=\"data row6 col0\" >51.0407</td>\n",
       "                        <td id=\"T_20fcad7a_6447_11ea_8ff6_054989be1d01row6_col1\" class=\"data row6 col1\" >51.4824</td>\n",
       "                        <td id=\"T_20fcad7a_6447_11ea_8ff6_054989be1d01row6_col2\" class=\"data row6 col2\" >48765</td>\n",
       "                        <td id=\"T_20fcad7a_6447_11ea_8ff6_054989be1d01row6_col3\" class=\"data row6 col3\" >2867</td>\n",
       "                        <td id=\"T_20fcad7a_6447_11ea_8ff6_054989be1d01row6_col4\" class=\"data row6 col4\" >0.44168</td>\n",
       "            </tr>\n",
       "            <tr>\n",
       "                                        <th id=\"T_20fcad7a_6447_11ea_8ff6_054989be1d01level2_row7\" class=\"row_heading level2 row7\" >Windows</th>\n",
       "                        <td id=\"T_20fcad7a_6447_11ea_8ff6_054989be1d01row7_col0\" class=\"data row7 col0\" >49.0351</td>\n",
       "                        <td id=\"T_20fcad7a_6447_11ea_8ff6_054989be1d01row7_col1\" class=\"data row7 col1\" >52.3895</td>\n",
       "                        <td id=\"T_20fcad7a_6447_11ea_8ff6_054989be1d01row7_col2\" class=\"data row7 col2\" >148249</td>\n",
       "                        <td id=\"T_20fcad7a_6447_11ea_8ff6_054989be1d01row7_col3\" class=\"data row7 col3\" >7784</td>\n",
       "                        <td id=\"T_20fcad7a_6447_11ea_8ff6_054989be1d01row7_col4\" class=\"data row7 col4\" >3.35445</td>\n",
       "            </tr>\n",
       "            <tr>\n",
       "                                <th id=\"T_20fcad7a_6447_11ea_8ff6_054989be1d01level1_row8\" class=\"row_heading level1 row8\" rowspan=2>mobile</th>\n",
       "                        <th id=\"T_20fcad7a_6447_11ea_8ff6_054989be1d01level2_row8\" class=\"row_heading level2 row8\" >Android</th>\n",
       "                        <td id=\"T_20fcad7a_6447_11ea_8ff6_054989be1d01row8_col0\" class=\"data row8 col0\" >44.7264</td>\n",
       "                        <td id=\"T_20fcad7a_6447_11ea_8ff6_054989be1d01row8_col1\" class=\"data row8 col1\" >40.0909</td>\n",
       "                        <td id=\"T_20fcad7a_6447_11ea_8ff6_054989be1d01row8_col2\" class=\"data row8 col2\" >198348</td>\n",
       "                        <td id=\"T_20fcad7a_6447_11ea_8ff6_054989be1d01row8_col3\" class=\"data row8 col3\" >12539</td>\n",
       "                        <td id=\"T_20fcad7a_6447_11ea_8ff6_054989be1d01row8_col4\" class=\"data row8 col4\" >-4.63552</td>\n",
       "            </tr>\n",
       "            <tr>\n",
       "                                        <th id=\"T_20fcad7a_6447_11ea_8ff6_054989be1d01level2_row9\" class=\"row_heading level2 row9\" >iOS</th>\n",
       "                        <td id=\"T_20fcad7a_6447_11ea_8ff6_054989be1d01row9_col0\" class=\"data row9 col0\" >41.8226</td>\n",
       "                        <td id=\"T_20fcad7a_6447_11ea_8ff6_054989be1d01row9_col1\" class=\"data row9 col1\" >41.9977</td>\n",
       "                        <td id=\"T_20fcad7a_6447_11ea_8ff6_054989be1d01row9_col2\" class=\"data row9 col2\" >212332</td>\n",
       "                        <td id=\"T_20fcad7a_6447_11ea_8ff6_054989be1d01row9_col3\" class=\"data row9 col3\" >11984</td>\n",
       "                        <td id=\"T_20fcad7a_6447_11ea_8ff6_054989be1d01row9_col4\" class=\"data row9 col4\" >0.17507</td>\n",
       "            </tr>\n",
       "            <tr>\n",
       "                                <th id=\"T_20fcad7a_6447_11ea_8ff6_054989be1d01level1_row10\" class=\"row_heading level1 row10\" rowspan=2>tablet</th>\n",
       "                        <th id=\"T_20fcad7a_6447_11ea_8ff6_054989be1d01level2_row10\" class=\"row_heading level2 row10\" >Android</th>\n",
       "                        <td id=\"T_20fcad7a_6447_11ea_8ff6_054989be1d01row10_col0\" class=\"data row10 col0\" >51.8528</td>\n",
       "                        <td id=\"T_20fcad7a_6447_11ea_8ff6_054989be1d01row10_col1\" class=\"data row10 col1\" >44.1748</td>\n",
       "                        <td id=\"T_20fcad7a_6447_11ea_8ff6_054989be1d01row10_col2\" class=\"data row10 col2\" >2051</td>\n",
       "                        <td id=\"T_20fcad7a_6447_11ea_8ff6_054989be1d01row10_col3\" class=\"data row10 col3\" >103</td>\n",
       "                        <td id=\"T_20fcad7a_6447_11ea_8ff6_054989be1d01row10_col4\" class=\"data row10 col4\" >-7.678</td>\n",
       "            </tr>\n",
       "            <tr>\n",
       "                                        <th id=\"T_20fcad7a_6447_11ea_8ff6_054989be1d01level2_row11\" class=\"row_heading level2 row11\" >iOS</th>\n",
       "                        <td id=\"T_20fcad7a_6447_11ea_8ff6_054989be1d01row11_col0\" class=\"data row11 col0\" >50.5146</td>\n",
       "                        <td id=\"T_20fcad7a_6447_11ea_8ff6_054989be1d01row11_col1\" class=\"data row11 col1\" >52.7848</td>\n",
       "                        <td id=\"T_20fcad7a_6447_11ea_8ff6_054989be1d01row11_col2\" class=\"data row11 col2\" >7093</td>\n",
       "                        <td id=\"T_20fcad7a_6447_11ea_8ff6_054989be1d01row11_col3\" class=\"data row11 col3\" >395</td>\n",
       "                        <td id=\"T_20fcad7a_6447_11ea_8ff6_054989be1d01row11_col4\" class=\"data row11 col4\" >2.27022</td>\n",
       "            </tr>\n",
       "    </tbody></table>"
      ],
      "text/plain": [
       "<pandas.io.formats.style.Styler at 0x7f0483345128>"
      ]
     },
     "execution_count": 928,
     "metadata": {},
     "output_type": "execute_result"
    }
   ],
   "source": [
    "#threshold_for_interesting_on_test = len(scroll_df_with_browser[scroll_df_with_browser.is_test=True])/50\n",
    "\n",
    "grouped_by_device_type_pv =  create_scroll_depth_table(scroll_df_with_browser,[\"device_type\", \"operating_system_name\"] )               \n",
    "g = grouped_by_device_type_pv[grouped_by_device_type_pv[\"num_pageviews\", True]>100]\n",
    "color_scroll_depth_table(g)"
   ]
  },
  {
   "cell_type": "code",
   "execution_count": 929,
   "metadata": {},
   "outputs": [],
   "source": [
    "grouped_by_device_type_pv =  create_scroll_depth_table(scroll_df_with_browser,[\"device_type\", \"operating_system_name\", \"browser_name\", \"browser_major_version\"] )           \n",
    "\n",
    "g = grouped_by_device_type_pv[grouped_by_device_type_pv[\"num_pageviews\", True]>100]\n",
    "#color_scroll_depth_table(g) - not working for some reason\n"
   ]
  },
  {
   "cell_type": "code",
   "execution_count": 930,
   "metadata": {},
   "outputs": [],
   "source": [
    "#color_scroll_depth_table(g) "
   ]
  },
  {
   "cell_type": "code",
   "execution_count": 932,
   "metadata": {},
   "outputs": [
    {
     "data": {
      "text/html": [
       "<div>\n",
       "<style scoped>\n",
       "    .dataframe tbody tr th:only-of-type {\n",
       "        vertical-align: middle;\n",
       "    }\n",
       "\n",
       "    .dataframe tbody tr th {\n",
       "        vertical-align: top;\n",
       "    }\n",
       "\n",
       "    .dataframe thead tr th {\n",
       "        text-align: left;\n",
       "    }\n",
       "\n",
       "    .dataframe thead tr:last-of-type th {\n",
       "        text-align: right;\n",
       "    }\n",
       "</style>\n",
       "<table border=\"1\" class=\"dataframe\">\n",
       "  <thead>\n",
       "    <tr>\n",
       "      <th></th>\n",
       "      <th></th>\n",
       "      <th></th>\n",
       "      <th></th>\n",
       "      <th></th>\n",
       "      <th colspan=\"2\" halign=\"left\">av_max_article_read_depth</th>\n",
       "      <th colspan=\"2\" halign=\"left\">num_pageviews</th>\n",
       "      <th>av_max_article_read_depth</th>\n",
       "    </tr>\n",
       "    <tr>\n",
       "      <th></th>\n",
       "      <th></th>\n",
       "      <th></th>\n",
       "      <th></th>\n",
       "      <th>is_test</th>\n",
       "      <th>False</th>\n",
       "      <th>True</th>\n",
       "      <th>False</th>\n",
       "      <th>True</th>\n",
       "      <th>v2_vs_v1</th>\n",
       "    </tr>\n",
       "    <tr>\n",
       "      <th>country_code</th>\n",
       "      <th>device_type</th>\n",
       "      <th>operating_system_name</th>\n",
       "      <th>browser_name</th>\n",
       "      <th>browser_major_version</th>\n",
       "      <th></th>\n",
       "      <th></th>\n",
       "      <th></th>\n",
       "      <th></th>\n",
       "      <th></th>\n",
       "    </tr>\n",
       "  </thead>\n",
       "  <tbody>\n",
       "    <tr>\n",
       "      <th rowspan=\"9\" valign=\"top\">hk</th>\n",
       "      <th rowspan=\"4\" valign=\"top\">desktop</th>\n",
       "      <th>Linux</th>\n",
       "      <th>Chrome Headless</th>\n",
       "      <th>73.0</th>\n",
       "      <td>0.000000</td>\n",
       "      <td>0.000000</td>\n",
       "      <td>1937</td>\n",
       "      <td>237</td>\n",
       "      <td>0.000000</td>\n",
       "    </tr>\n",
       "    <tr>\n",
       "      <th rowspan=\"2\" valign=\"top\">Mac OS</th>\n",
       "      <th>Chrome</th>\n",
       "      <th>80.0</th>\n",
       "      <td>50.123196</td>\n",
       "      <td>43.638393</td>\n",
       "      <td>2841</td>\n",
       "      <td>224</td>\n",
       "      <td>-6.484803</td>\n",
       "    </tr>\n",
       "    <tr>\n",
       "      <th>Safari</th>\n",
       "      <th>13.0</th>\n",
       "      <td>56.602972</td>\n",
       "      <td>50.000000</td>\n",
       "      <td>2355</td>\n",
       "      <td>180</td>\n",
       "      <td>-6.602972</td>\n",
       "    </tr>\n",
       "    <tr>\n",
       "      <th>Windows</th>\n",
       "      <th>Chrome</th>\n",
       "      <th>80.0</th>\n",
       "      <td>54.101001</td>\n",
       "      <td>45.061256</td>\n",
       "      <td>15990</td>\n",
       "      <td>1306</td>\n",
       "      <td>-9.039745</td>\n",
       "    </tr>\n",
       "    <tr>\n",
       "      <th rowspan=\"5\" valign=\"top\">mobile</th>\n",
       "      <th rowspan=\"2\" valign=\"top\">Android</th>\n",
       "      <th>Chrome</th>\n",
       "      <th>80.0</th>\n",
       "      <td>54.285165</td>\n",
       "      <td>48.961611</td>\n",
       "      <td>18214</td>\n",
       "      <td>1589</td>\n",
       "      <td>-5.323554</td>\n",
       "    </tr>\n",
       "    <tr>\n",
       "      <th>Samsung Browser</th>\n",
       "      <th>11.0</th>\n",
       "      <td>54.365466</td>\n",
       "      <td>46.768707</td>\n",
       "      <td>3081</td>\n",
       "      <td>294</td>\n",
       "      <td>-7.596758</td>\n",
       "    </tr>\n",
       "    <tr>\n",
       "      <th rowspan=\"3\" valign=\"top\">iOS</th>\n",
       "      <th>Chrome</th>\n",
       "      <th>80.0</th>\n",
       "      <td>48.881493</td>\n",
       "      <td>46.568627</td>\n",
       "      <td>4582</td>\n",
       "      <td>408</td>\n",
       "      <td>-2.312865</td>\n",
       "    </tr>\n",
       "    <tr>\n",
       "      <th rowspan=\"2\" valign=\"top\">Mobile Safari</th>\n",
       "      <th>12.0</th>\n",
       "      <td>46.475312</td>\n",
       "      <td>43.055556</td>\n",
       "      <td>3362</td>\n",
       "      <td>270</td>\n",
       "      <td>-3.419757</td>\n",
       "    </tr>\n",
       "    <tr>\n",
       "      <th>13.0</th>\n",
       "      <td>48.930923</td>\n",
       "      <td>45.427951</td>\n",
       "      <td>35989</td>\n",
       "      <td>2991</td>\n",
       "      <td>-3.502973</td>\n",
       "    </tr>\n",
       "    <tr>\n",
       "      <th rowspan=\"27\" valign=\"top\">sg</th>\n",
       "      <th rowspan=\"10\" valign=\"top\">desktop</th>\n",
       "      <th rowspan=\"4\" valign=\"top\">Mac OS</th>\n",
       "      <th rowspan=\"2\" valign=\"top\">Chrome</th>\n",
       "      <th>79.0</th>\n",
       "      <td>51.632589</td>\n",
       "      <td>51.159420</td>\n",
       "      <td>4793</td>\n",
       "      <td>345</td>\n",
       "      <td>-0.473169</td>\n",
       "    </tr>\n",
       "    <tr>\n",
       "      <th>80.0</th>\n",
       "      <td>50.404160</td>\n",
       "      <td>50.809061</td>\n",
       "      <td>21588</td>\n",
       "      <td>1236</td>\n",
       "      <td>0.404902</td>\n",
       "    </tr>\n",
       "    <tr>\n",
       "      <th rowspan=\"2\" valign=\"top\">Safari</th>\n",
       "      <th>12.0</th>\n",
       "      <td>55.572792</td>\n",
       "      <td>53.186275</td>\n",
       "      <td>2095</td>\n",
       "      <td>102</td>\n",
       "      <td>-2.386518</td>\n",
       "    </tr>\n",
       "    <tr>\n",
       "      <th>13.0</th>\n",
       "      <td>52.139946</td>\n",
       "      <td>51.449672</td>\n",
       "      <td>15456</td>\n",
       "      <td>914</td>\n",
       "      <td>-0.690274</td>\n",
       "    </tr>\n",
       "    <tr>\n",
       "      <th rowspan=\"6\" valign=\"top\">Windows</th>\n",
       "      <th rowspan=\"3\" valign=\"top\">Chrome</th>\n",
       "      <th>77.0</th>\n",
       "      <td>50.756677</td>\n",
       "      <td>56.681034</td>\n",
       "      <td>1685</td>\n",
       "      <td>116</td>\n",
       "      <td>5.924358</td>\n",
       "    </tr>\n",
       "    <tr>\n",
       "      <th>79.0</th>\n",
       "      <td>50.049947</td>\n",
       "      <td>56.352941</td>\n",
       "      <td>8509</td>\n",
       "      <td>425</td>\n",
       "      <td>6.302994</td>\n",
       "    </tr>\n",
       "    <tr>\n",
       "      <th>80.0</th>\n",
       "      <td>49.350237</td>\n",
       "      <td>51.919175</td>\n",
       "      <td>111079</td>\n",
       "      <td>5914</td>\n",
       "      <td>2.568938</td>\n",
       "    </tr>\n",
       "    <tr>\n",
       "      <th>Edge</th>\n",
       "      <th>18.0</th>\n",
       "      <td>50.924724</td>\n",
       "      <td>53.225806</td>\n",
       "      <td>4623</td>\n",
       "      <td>279</td>\n",
       "      <td>2.301082</td>\n",
       "    </tr>\n",
       "    <tr>\n",
       "      <th>Firefox</th>\n",
       "      <th>73.0</th>\n",
       "      <td>44.834481</td>\n",
       "      <td>52.372263</td>\n",
       "      <td>9002</td>\n",
       "      <td>411</td>\n",
       "      <td>7.537782</td>\n",
       "    </tr>\n",
       "    <tr>\n",
       "      <th>IE</th>\n",
       "      <th>11.0</th>\n",
       "      <td>50.579897</td>\n",
       "      <td>51.867220</td>\n",
       "      <td>4656</td>\n",
       "      <td>241</td>\n",
       "      <td>1.287323</td>\n",
       "    </tr>\n",
       "    <tr>\n",
       "      <th rowspan=\"15\" valign=\"top\">mobile</th>\n",
       "      <th rowspan=\"8\" valign=\"top\">Android</th>\n",
       "      <th rowspan=\"4\" valign=\"top\">Chrome</th>\n",
       "      <th>38.0</th>\n",
       "      <td>30.918266</td>\n",
       "      <td>12.203791</td>\n",
       "      <td>4013</td>\n",
       "      <td>211</td>\n",
       "      <td>-18.714474</td>\n",
       "    </tr>\n",
       "    <tr>\n",
       "      <th>78.0</th>\n",
       "      <td>45.436164</td>\n",
       "      <td>46.008403</td>\n",
       "      <td>1731</td>\n",
       "      <td>119</td>\n",
       "      <td>0.572239</td>\n",
       "    </tr>\n",
       "    <tr>\n",
       "      <th>79.0</th>\n",
       "      <td>44.179789</td>\n",
       "      <td>39.220183</td>\n",
       "      <td>5017</td>\n",
       "      <td>327</td>\n",
       "      <td>-4.959605</td>\n",
       "    </tr>\n",
       "    <tr>\n",
       "      <th>80.0</th>\n",
       "      <td>45.573866</td>\n",
       "      <td>40.478747</td>\n",
       "      <td>138473</td>\n",
       "      <td>8846</td>\n",
       "      <td>-5.095119</td>\n",
       "    </tr>\n",
       "    <tr>\n",
       "      <th rowspan=\"2\" valign=\"top\">Facebook</th>\n",
       "      <th>259.0</th>\n",
       "      <td>46.898404</td>\n",
       "      <td>53.091398</td>\n",
       "      <td>3071</td>\n",
       "      <td>186</td>\n",
       "      <td>6.192993</td>\n",
       "    </tr>\n",
       "    <tr>\n",
       "      <th>260.0</th>\n",
       "      <td>38.614271</td>\n",
       "      <td>38.369963</td>\n",
       "      <td>4835</td>\n",
       "      <td>273</td>\n",
       "      <td>-0.244308</td>\n",
       "    </tr>\n",
       "    <tr>\n",
       "      <th rowspan=\"2\" valign=\"top\">Samsung Browser</th>\n",
       "      <th>10.0</th>\n",
       "      <td>43.286662</td>\n",
       "      <td>40.268065</td>\n",
       "      <td>6178</td>\n",
       "      <td>429</td>\n",
       "      <td>-3.018597</td>\n",
       "    </tr>\n",
       "    <tr>\n",
       "      <th>11.0</th>\n",
       "      <td>44.400191</td>\n",
       "      <td>38.542479</td>\n",
       "      <td>18831</td>\n",
       "      <td>1283</td>\n",
       "      <td>-5.857713</td>\n",
       "    </tr>\n",
       "    <tr>\n",
       "      <th rowspan=\"7\" valign=\"top\">iOS</th>\n",
       "      <th>Chrome</th>\n",
       "      <th>80.0</th>\n",
       "      <td>44.423604</td>\n",
       "      <td>43.635571</td>\n",
       "      <td>19327</td>\n",
       "      <td>1147</td>\n",
       "      <td>-0.788033</td>\n",
       "    </tr>\n",
       "    <tr>\n",
       "      <th rowspan=\"2\" valign=\"top\">GSA</th>\n",
       "      <th>94.0</th>\n",
       "      <td>47.332421</td>\n",
       "      <td>47.899160</td>\n",
       "      <td>2193</td>\n",
       "      <td>119</td>\n",
       "      <td>0.566738</td>\n",
       "    </tr>\n",
       "    <tr>\n",
       "      <th>96.0</th>\n",
       "      <td>48.713060</td>\n",
       "      <td>52.536232</td>\n",
       "      <td>4196</td>\n",
       "      <td>276</td>\n",
       "      <td>3.823172</td>\n",
       "    </tr>\n",
       "    <tr>\n",
       "      <th rowspan=\"3\" valign=\"top\">Mobile Safari</th>\n",
       "      <th>11.0</th>\n",
       "      <td>38.270826</td>\n",
       "      <td>41.715116</td>\n",
       "      <td>2773</td>\n",
       "      <td>172</td>\n",
       "      <td>3.444290</td>\n",
       "    </tr>\n",
       "    <tr>\n",
       "      <th>12.0</th>\n",
       "      <td>40.819619</td>\n",
       "      <td>44.924406</td>\n",
       "      <td>15495</td>\n",
       "      <td>926</td>\n",
       "      <td>4.104787</td>\n",
       "    </tr>\n",
       "    <tr>\n",
       "      <th>13.0</th>\n",
       "      <td>41.233458</td>\n",
       "      <td>40.830904</td>\n",
       "      <td>153852</td>\n",
       "      <td>8575</td>\n",
       "      <td>-0.402554</td>\n",
       "    </tr>\n",
       "    <tr>\n",
       "      <th>WebKit</th>\n",
       "      <th>605.0</th>\n",
       "      <td>44.410612</td>\n",
       "      <td>43.455497</td>\n",
       "      <td>7143</td>\n",
       "      <td>382</td>\n",
       "      <td>-0.955114</td>\n",
       "    </tr>\n",
       "    <tr>\n",
       "      <th rowspan=\"2\" valign=\"top\">tablet</th>\n",
       "      <th rowspan=\"2\" valign=\"top\">iOS</th>\n",
       "      <th>Chrome</th>\n",
       "      <th>80.0</th>\n",
       "      <td>50.423490</td>\n",
       "      <td>54.090909</td>\n",
       "      <td>1771</td>\n",
       "      <td>110</td>\n",
       "      <td>3.667420</td>\n",
       "    </tr>\n",
       "    <tr>\n",
       "      <th>Mobile Safari</th>\n",
       "      <th>12.0</th>\n",
       "      <td>51.037598</td>\n",
       "      <td>46.532847</td>\n",
       "      <td>2048</td>\n",
       "      <td>137</td>\n",
       "      <td>-4.504751</td>\n",
       "    </tr>\n",
       "  </tbody>\n",
       "</table>\n",
       "</div>"
      ],
      "text/plain": [
       "                                                                                     av_max_article_read_depth  \\\n",
       "is_test                                                                                                  False   \n",
       "country_code device_type operating_system_name browser_name    browser_major_version                             \n",
       "hk           desktop     Linux                 Chrome Headless 73.0                                   0.000000   \n",
       "                         Mac OS                Chrome          80.0                                  50.123196   \n",
       "                                               Safari          13.0                                  56.602972   \n",
       "                         Windows               Chrome          80.0                                  54.101001   \n",
       "             mobile      Android               Chrome          80.0                                  54.285165   \n",
       "                                               Samsung Browser 11.0                                  54.365466   \n",
       "                         iOS                   Chrome          80.0                                  48.881493   \n",
       "                                               Mobile Safari   12.0                                  46.475312   \n",
       "                                                               13.0                                  48.930923   \n",
       "sg           desktop     Mac OS                Chrome          79.0                                  51.632589   \n",
       "                                                               80.0                                  50.404160   \n",
       "                                               Safari          12.0                                  55.572792   \n",
       "                                                               13.0                                  52.139946   \n",
       "                         Windows               Chrome          77.0                                  50.756677   \n",
       "                                                               79.0                                  50.049947   \n",
       "                                                               80.0                                  49.350237   \n",
       "                                               Edge            18.0                                  50.924724   \n",
       "                                               Firefox         73.0                                  44.834481   \n",
       "                                               IE              11.0                                  50.579897   \n",
       "             mobile      Android               Chrome          38.0                                  30.918266   \n",
       "                                                               78.0                                  45.436164   \n",
       "                                                               79.0                                  44.179789   \n",
       "                                                               80.0                                  45.573866   \n",
       "                                               Facebook        259.0                                 46.898404   \n",
       "                                                               260.0                                 38.614271   \n",
       "                                               Samsung Browser 10.0                                  43.286662   \n",
       "                                                               11.0                                  44.400191   \n",
       "                         iOS                   Chrome          80.0                                  44.423604   \n",
       "                                               GSA             94.0                                  47.332421   \n",
       "                                                               96.0                                  48.713060   \n",
       "                                               Mobile Safari   11.0                                  38.270826   \n",
       "                                                               12.0                                  40.819619   \n",
       "                                                               13.0                                  41.233458   \n",
       "                                               WebKit          605.0                                 44.410612   \n",
       "             tablet      iOS                   Chrome          80.0                                  50.423490   \n",
       "                                               Mobile Safari   12.0                                  51.037598   \n",
       "\n",
       "                                                                                                 \\\n",
       "is_test                                                                                    True   \n",
       "country_code device_type operating_system_name browser_name    browser_major_version              \n",
       "hk           desktop     Linux                 Chrome Headless 73.0                    0.000000   \n",
       "                         Mac OS                Chrome          80.0                   43.638393   \n",
       "                                               Safari          13.0                   50.000000   \n",
       "                         Windows               Chrome          80.0                   45.061256   \n",
       "             mobile      Android               Chrome          80.0                   48.961611   \n",
       "                                               Samsung Browser 11.0                   46.768707   \n",
       "                         iOS                   Chrome          80.0                   46.568627   \n",
       "                                               Mobile Safari   12.0                   43.055556   \n",
       "                                                               13.0                   45.427951   \n",
       "sg           desktop     Mac OS                Chrome          79.0                   51.159420   \n",
       "                                                               80.0                   50.809061   \n",
       "                                               Safari          12.0                   53.186275   \n",
       "                                                               13.0                   51.449672   \n",
       "                         Windows               Chrome          77.0                   56.681034   \n",
       "                                                               79.0                   56.352941   \n",
       "                                                               80.0                   51.919175   \n",
       "                                               Edge            18.0                   53.225806   \n",
       "                                               Firefox         73.0                   52.372263   \n",
       "                                               IE              11.0                   51.867220   \n",
       "             mobile      Android               Chrome          38.0                   12.203791   \n",
       "                                                               78.0                   46.008403   \n",
       "                                                               79.0                   39.220183   \n",
       "                                                               80.0                   40.478747   \n",
       "                                               Facebook        259.0                  53.091398   \n",
       "                                                               260.0                  38.369963   \n",
       "                                               Samsung Browser 10.0                   40.268065   \n",
       "                                                               11.0                   38.542479   \n",
       "                         iOS                   Chrome          80.0                   43.635571   \n",
       "                                               GSA             94.0                   47.899160   \n",
       "                                                               96.0                   52.536232   \n",
       "                                               Mobile Safari   11.0                   41.715116   \n",
       "                                                               12.0                   44.924406   \n",
       "                                                               13.0                   40.830904   \n",
       "                                               WebKit          605.0                  43.455497   \n",
       "             tablet      iOS                   Chrome          80.0                   54.090909   \n",
       "                                               Mobile Safari   12.0                   46.532847   \n",
       "\n",
       "                                                                                     num_pageviews  \\\n",
       "is_test                                                                                      False   \n",
       "country_code device_type operating_system_name browser_name    browser_major_version                 \n",
       "hk           desktop     Linux                 Chrome Headless 73.0                           1937   \n",
       "                         Mac OS                Chrome          80.0                           2841   \n",
       "                                               Safari          13.0                           2355   \n",
       "                         Windows               Chrome          80.0                          15990   \n",
       "             mobile      Android               Chrome          80.0                          18214   \n",
       "                                               Samsung Browser 11.0                           3081   \n",
       "                         iOS                   Chrome          80.0                           4582   \n",
       "                                               Mobile Safari   12.0                           3362   \n",
       "                                                               13.0                          35989   \n",
       "sg           desktop     Mac OS                Chrome          79.0                           4793   \n",
       "                                                               80.0                          21588   \n",
       "                                               Safari          12.0                           2095   \n",
       "                                                               13.0                          15456   \n",
       "                         Windows               Chrome          77.0                           1685   \n",
       "                                                               79.0                           8509   \n",
       "                                                               80.0                         111079   \n",
       "                                               Edge            18.0                           4623   \n",
       "                                               Firefox         73.0                           9002   \n",
       "                                               IE              11.0                           4656   \n",
       "             mobile      Android               Chrome          38.0                           4013   \n",
       "                                                               78.0                           1731   \n",
       "                                                               79.0                           5017   \n",
       "                                                               80.0                         138473   \n",
       "                                               Facebook        259.0                          3071   \n",
       "                                                               260.0                          4835   \n",
       "                                               Samsung Browser 10.0                           6178   \n",
       "                                                               11.0                          18831   \n",
       "                         iOS                   Chrome          80.0                          19327   \n",
       "                                               GSA             94.0                           2193   \n",
       "                                                               96.0                           4196   \n",
       "                                               Mobile Safari   11.0                           2773   \n",
       "                                                               12.0                          15495   \n",
       "                                                               13.0                         153852   \n",
       "                                               WebKit          605.0                          7143   \n",
       "             tablet      iOS                   Chrome          80.0                           1771   \n",
       "                                               Mobile Safari   12.0                           2048   \n",
       "\n",
       "                                                                                            \\\n",
       "is_test                                                                               True   \n",
       "country_code device_type operating_system_name browser_name    browser_major_version         \n",
       "hk           desktop     Linux                 Chrome Headless 73.0                    237   \n",
       "                         Mac OS                Chrome          80.0                    224   \n",
       "                                               Safari          13.0                    180   \n",
       "                         Windows               Chrome          80.0                   1306   \n",
       "             mobile      Android               Chrome          80.0                   1589   \n",
       "                                               Samsung Browser 11.0                    294   \n",
       "                         iOS                   Chrome          80.0                    408   \n",
       "                                               Mobile Safari   12.0                    270   \n",
       "                                                               13.0                   2991   \n",
       "sg           desktop     Mac OS                Chrome          79.0                    345   \n",
       "                                                               80.0                   1236   \n",
       "                                               Safari          12.0                    102   \n",
       "                                                               13.0                    914   \n",
       "                         Windows               Chrome          77.0                    116   \n",
       "                                                               79.0                    425   \n",
       "                                                               80.0                   5914   \n",
       "                                               Edge            18.0                    279   \n",
       "                                               Firefox         73.0                    411   \n",
       "                                               IE              11.0                    241   \n",
       "             mobile      Android               Chrome          38.0                    211   \n",
       "                                                               78.0                    119   \n",
       "                                                               79.0                    327   \n",
       "                                                               80.0                   8846   \n",
       "                                               Facebook        259.0                   186   \n",
       "                                                               260.0                   273   \n",
       "                                               Samsung Browser 10.0                    429   \n",
       "                                                               11.0                   1283   \n",
       "                         iOS                   Chrome          80.0                   1147   \n",
       "                                               GSA             94.0                    119   \n",
       "                                                               96.0                    276   \n",
       "                                               Mobile Safari   11.0                    172   \n",
       "                                                               12.0                    926   \n",
       "                                                               13.0                   8575   \n",
       "                                               WebKit          605.0                   382   \n",
       "             tablet      iOS                   Chrome          80.0                    110   \n",
       "                                               Mobile Safari   12.0                    137   \n",
       "\n",
       "                                                                                     av_max_article_read_depth  \n",
       "is_test                                                                                               v2_vs_v1  \n",
       "country_code device_type operating_system_name browser_name    browser_major_version                            \n",
       "hk           desktop     Linux                 Chrome Headless 73.0                                   0.000000  \n",
       "                         Mac OS                Chrome          80.0                                  -6.484803  \n",
       "                                               Safari          13.0                                  -6.602972  \n",
       "                         Windows               Chrome          80.0                                  -9.039745  \n",
       "             mobile      Android               Chrome          80.0                                  -5.323554  \n",
       "                                               Samsung Browser 11.0                                  -7.596758  \n",
       "                         iOS                   Chrome          80.0                                  -2.312865  \n",
       "                                               Mobile Safari   12.0                                  -3.419757  \n",
       "                                                               13.0                                  -3.502973  \n",
       "sg           desktop     Mac OS                Chrome          79.0                                  -0.473169  \n",
       "                                                               80.0                                   0.404902  \n",
       "                                               Safari          12.0                                  -2.386518  \n",
       "                                                               13.0                                  -0.690274  \n",
       "                         Windows               Chrome          77.0                                   5.924358  \n",
       "                                                               79.0                                   6.302994  \n",
       "                                                               80.0                                   2.568938  \n",
       "                                               Edge            18.0                                   2.301082  \n",
       "                                               Firefox         73.0                                   7.537782  \n",
       "                                               IE              11.0                                   1.287323  \n",
       "             mobile      Android               Chrome          38.0                                 -18.714474  \n",
       "                                                               78.0                                   0.572239  \n",
       "                                                               79.0                                  -4.959605  \n",
       "                                                               80.0                                  -5.095119  \n",
       "                                               Facebook        259.0                                  6.192993  \n",
       "                                                               260.0                                 -0.244308  \n",
       "                                               Samsung Browser 10.0                                  -3.018597  \n",
       "                                                               11.0                                  -5.857713  \n",
       "                         iOS                   Chrome          80.0                                  -0.788033  \n",
       "                                               GSA             94.0                                   0.566738  \n",
       "                                                               96.0                                   3.823172  \n",
       "                                               Mobile Safari   11.0                                   3.444290  \n",
       "                                                               12.0                                   4.104787  \n",
       "                                                               13.0                                  -0.402554  \n",
       "                                               WebKit          605.0                                 -0.955114  \n",
       "             tablet      iOS                   Chrome          80.0                                   3.667420  \n",
       "                                               Mobile Safari   12.0                                  -4.504751  "
      ]
     },
     "execution_count": 932,
     "metadata": {},
     "output_type": "execute_result"
    }
   ],
   "source": [
    "g #.style.apply(lambda x:\"background-color: red\", subset=g.columns.get_loc_level('v2_vs_v1', level=1)[0], axis=1)"
   ]
  },
  {
   "cell_type": "code",
   "execution_count": null,
   "metadata": {},
   "outputs": [],
   "source": []
  },
  {
   "cell_type": "code",
   "execution_count": null,
   "metadata": {},
   "outputs": [],
   "source": []
  },
  {
   "cell_type": "markdown",
   "metadata": {},
   "source": [
    "## Problem Pages by Scroll Depth\n",
    "\n",
    "Might indicate pages that are loading, but then have very poor experience so people drop off.  Extreme case would be the page not loading.\n",
    "\n",
    "We have seen examples of this in the past."
   ]
  },
  {
   "cell_type": "code",
   "execution_count": 933,
   "metadata": {},
   "outputs": [],
   "source": [
    "problem_pages_by_depth =  create_scroll_depth_table(scroll_df_with_browser,[\"slug\"] )"
   ]
  },
  {
   "cell_type": "code",
   "execution_count": 934,
   "metadata": {},
   "outputs": [],
   "source": [
    "# Add some nice urls to make life easier\n",
    "problem_pages_by_depth[\"url\"] = problem_pages_by_depth.reset_index().apply(lambda x: \"https://blog.moneysmart.\"+x[\"country_code\"]+x[\"slug\"], axis=1) # I think should be able to make faster, but it's ok.\n",
    "problem_pages_by_depth.reset_index(inplace=True)\n",
    "#problem_pages_by_depth.drop(columns=[\"slug\"], inplace=True)\n",
    "#problem_pages_by_depth.reset_index(inplace=True)\n",
    "#problem_pages_by_depth[\"url\"] = \"https://blog.moneysmart.\"+problem_pages_by_depth[\"country_code\"]+ problem_pages_by_depth[\"url\"]\n",
    "#problem_pages_by_depth[\"url\"] = \"https://blog.moneysmart.\"+problem_pages_by_depth.country_code\n",
    "\n"
   ]
  },
  {
   "cell_type": "code",
   "execution_count": null,
   "metadata": {},
   "outputs": [],
   "source": []
  },
  {
   "cell_type": "code",
   "execution_count": 935,
   "metadata": {},
   "outputs": [
    {
     "data": {
      "text/plain": [
       "'\\ndef make_clickable(val):\\n    # target _blank to open new window\\n    print(\"cow\")\\n    return \\'<a target=\"_blank\" href=\"{}\">{}</a>\\'.format(val, val)\\n\\nproblem_pages_by_depth[:100].style.format({\\'url\\': make_clickable}, subset=[\"url\", ])\\n#problem_pages_by_depth.head()\\n'"
      ]
     },
     "execution_count": 935,
     "metadata": {},
     "output_type": "execute_result"
    }
   ],
   "source": [
    "\"\"\"\n",
    "def make_clickable(val):\n",
    "    # target _blank to open new window\n",
    "    print(\"cow\")\n",
    "    return '<a target=\"_blank\" href=\"{}\">{}</a>'.format(val, val)\n",
    "\n",
    "problem_pages_by_depth[:100].style.format({'url': make_clickable}, subset=[\"url\", ])\n",
    "#problem_pages_by_depth.head()\n",
    "\"\"\""
   ]
  },
  {
   "cell_type": "code",
   "execution_count": 936,
   "metadata": {},
   "outputs": [
    {
     "data": {
      "text/html": [
       "<style  type=\"text/css\" >\n",
       "    #T_69c75866_6447_11ea_8ff6_054989be1d01row0_col6 {\n",
       "            background-color:  rgb(255,175,175);\n",
       "        }    #T_69c75866_6447_11ea_8ff6_054989be1d01row1_col6 {\n",
       "            background-color:  rgb(255,169,169);\n",
       "        }    #T_69c75866_6447_11ea_8ff6_054989be1d01row2_col6 {\n",
       "            background-color:  rgb(255,177,177);\n",
       "        }    #T_69c75866_6447_11ea_8ff6_054989be1d01row3_col6 {\n",
       "            background-color:  rgb(255,251,251);\n",
       "        }    #T_69c75866_6447_11ea_8ff6_054989be1d01row4_col6 {\n",
       "            background-color:  rgb(238,255,238);\n",
       "        }    #T_69c75866_6447_11ea_8ff6_054989be1d01row5_col6 {\n",
       "            background-color:  rgb(255,198,198);\n",
       "        }    #T_69c75866_6447_11ea_8ff6_054989be1d01row6_col6 {\n",
       "            background-color:  rgb(255,137,137);\n",
       "        }    #T_69c75866_6447_11ea_8ff6_054989be1d01row7_col6 {\n",
       "            background-color:  rgb(229,255,229);\n",
       "        }    #T_69c75866_6447_11ea_8ff6_054989be1d01row8_col6 {\n",
       "            background-color:  rgb(255,225,225);\n",
       "        }    #T_69c75866_6447_11ea_8ff6_054989be1d01row9_col6 {\n",
       "            background-color:  rgb(218,255,218);\n",
       "        }    #T_69c75866_6447_11ea_8ff6_054989be1d01row10_col6 {\n",
       "            background-color:  rgb(255,190,190);\n",
       "        }    #T_69c75866_6447_11ea_8ff6_054989be1d01row11_col6 {\n",
       "            background-color:  rgb(255,235,235);\n",
       "        }    #T_69c75866_6447_11ea_8ff6_054989be1d01row12_col6 {\n",
       "            background-color:  rgb(255,231,231);\n",
       "        }    #T_69c75866_6447_11ea_8ff6_054989be1d01row13_col6 {\n",
       "            background-color:  rgb(255,219,219);\n",
       "        }    #T_69c75866_6447_11ea_8ff6_054989be1d01row14_col6 {\n",
       "            background-color:  rgb(255,196,196);\n",
       "        }    #T_69c75866_6447_11ea_8ff6_054989be1d01row15_col6 {\n",
       "            background-color:  rgb(255,245,245);\n",
       "        }    #T_69c75866_6447_11ea_8ff6_054989be1d01row16_col6 {\n",
       "            background-color:  rgb(229,255,229);\n",
       "        }    #T_69c75866_6447_11ea_8ff6_054989be1d01row17_col6 {\n",
       "            background-color:  rgb(245,255,245);\n",
       "        }    #T_69c75866_6447_11ea_8ff6_054989be1d01row18_col6 {\n",
       "            background-color:  rgb(255,241,241);\n",
       "        }    #T_69c75866_6447_11ea_8ff6_054989be1d01row19_col6 {\n",
       "            background-color:  rgb(255,193,193);\n",
       "        }    #T_69c75866_6447_11ea_8ff6_054989be1d01row20_col6 {\n",
       "            background-color:  rgb(239,255,239);\n",
       "        }    #T_69c75866_6447_11ea_8ff6_054989be1d01row21_col6 {\n",
       "            background-color:  rgb(255,248,248);\n",
       "        }    #T_69c75866_6447_11ea_8ff6_054989be1d01row22_col6 {\n",
       "            background-color:  rgb(186,255,186);\n",
       "        }    #T_69c75866_6447_11ea_8ff6_054989be1d01row23_col6 {\n",
       "            background-color:  rgb(228,255,228);\n",
       "        }    #T_69c75866_6447_11ea_8ff6_054989be1d01row24_col6 {\n",
       "            background-color:  rgb(246,255,246);\n",
       "        }    #T_69c75866_6447_11ea_8ff6_054989be1d01row25_col6 {\n",
       "            background-color:  rgb(255,234,234);\n",
       "        }    #T_69c75866_6447_11ea_8ff6_054989be1d01row26_col6 {\n",
       "            background-color:  rgb(255,253,253);\n",
       "        }    #T_69c75866_6447_11ea_8ff6_054989be1d01row27_col6 {\n",
       "            background-color:  rgb(255,174,174);\n",
       "        }    #T_69c75866_6447_11ea_8ff6_054989be1d01row28_col6 {\n",
       "            background-color:  rgb(255,253,253);\n",
       "        }    #T_69c75866_6447_11ea_8ff6_054989be1d01row29_col6 {\n",
       "            background-color:  rgb(255,246,246);\n",
       "        }    #T_69c75866_6447_11ea_8ff6_054989be1d01row30_col6 {\n",
       "            background-color:  rgb(255,222,222);\n",
       "        }    #T_69c75866_6447_11ea_8ff6_054989be1d01row31_col6 {\n",
       "            background-color:  rgb(230,255,230);\n",
       "        }</style><table id=\"T_69c75866_6447_11ea_8ff6_054989be1d01\" ><thead>    <tr>        <th class=\"blank level0\" ></th>        <th class=\"col_heading level0 col0\" >country_code</th>        <th class=\"col_heading level0 col1\" >slug</th>        <th class=\"col_heading level0 col2\" colspan=2>av_max_article_read_depth</th>        <th class=\"col_heading level0 col4\" colspan=2>num_pageviews</th>        <th class=\"col_heading level0 col6\" >av_max_article_read_depth</th>        <th class=\"col_heading level0 col7\" >url</th>    </tr>    <tr>        <th class=\"index_name level1\" >is_test</th>        <th class=\"col_heading level1 col0\" ></th>        <th class=\"col_heading level1 col1\" ></th>        <th class=\"col_heading level1 col2\" >False</th>        <th class=\"col_heading level1 col3\" >True</th>        <th class=\"col_heading level1 col4\" >False</th>        <th class=\"col_heading level1 col5\" >True</th>        <th class=\"col_heading level1 col6\" >v2_vs_v1</th>        <th class=\"col_heading level1 col7\" ></th>    </tr></thead><tbody>\n",
       "                <tr>\n",
       "                        <th id=\"T_69c75866_6447_11ea_8ff6_054989be1d01level0_row0\" class=\"row_heading level0 row0\" >1451</th>\n",
       "                        <td id=\"T_69c75866_6447_11ea_8ff6_054989be1d01row0_col0\" class=\"data row0 col0\" >hk</td>\n",
       "                        <td id=\"T_69c75866_6447_11ea_8ff6_054989be1d01row0_col1\" class=\"data row0 col1\" >/zh-hk/mortgage/%E5%B1%85%E5%B1%8B-2019-%E7%99%BD%E5%B1%85%E4%BA%8C-%E6%8C%89%E6%8F%AD-%E7%94%B3%E8%AB%8B-%E5%85%A5%E6%81%AF-%E8%B3%87%E7%94%A2</td>\n",
       "                        <td id=\"T_69c75866_6447_11ea_8ff6_054989be1d01row0_col2\" class=\"data row0 col2\" >40.1996</td>\n",
       "                        <td id=\"T_69c75866_6447_11ea_8ff6_054989be1d01row0_col3\" class=\"data row0 col3\" >30.8559</td>\n",
       "                        <td id=\"T_69c75866_6447_11ea_8ff6_054989be1d01row0_col4\" class=\"data row0 col4\" >977</td>\n",
       "                        <td id=\"T_69c75866_6447_11ea_8ff6_054989be1d01row0_col5\" class=\"data row0 col5\" >111</td>\n",
       "                        <td id=\"T_69c75866_6447_11ea_8ff6_054989be1d01row0_col6\" class=\"data row0 col6\" >-9.34373</td>\n",
       "                        <td id=\"T_69c75866_6447_11ea_8ff6_054989be1d01row0_col7\" class=\"data row0 col7\" >nan</td>\n",
       "            </tr>\n",
       "            <tr>\n",
       "                        <th id=\"T_69c75866_6447_11ea_8ff6_054989be1d01level0_row1\" class=\"row_heading level0 row1\" >3619</th>\n",
       "                        <td id=\"T_69c75866_6447_11ea_8ff6_054989be1d01row1_col0\" class=\"data row1 col0\" >sg</td>\n",
       "                        <td id=\"T_69c75866_6447_11ea_8ff6_054989be1d01row1_col1\" class=\"data row1 col1\" >/healthcare/counselling-singapore-free-affordable</td>\n",
       "                        <td id=\"T_69c75866_6447_11ea_8ff6_054989be1d01row1_col2\" class=\"data row1 col2\" >47.7925</td>\n",
       "                        <td id=\"T_69c75866_6447_11ea_8ff6_054989be1d01row1_col3\" class=\"data row1 col3\" >37.7404</td>\n",
       "                        <td id=\"T_69c75866_6447_11ea_8ff6_054989be1d01row1_col4\" class=\"data row1 col4\" >1359</td>\n",
       "                        <td id=\"T_69c75866_6447_11ea_8ff6_054989be1d01row1_col5\" class=\"data row1 col5\" >104</td>\n",
       "                        <td id=\"T_69c75866_6447_11ea_8ff6_054989be1d01row1_col6\" class=\"data row1 col6\" >-10.0521</td>\n",
       "                        <td id=\"T_69c75866_6447_11ea_8ff6_054989be1d01row1_col7\" class=\"data row1 col7\" >nan</td>\n",
       "            </tr>\n",
       "            <tr>\n",
       "                        <th id=\"T_69c75866_6447_11ea_8ff6_054989be1d01level0_row2\" class=\"row_heading level0 row2\" >3317</th>\n",
       "                        <td id=\"T_69c75866_6447_11ea_8ff6_054989be1d01row2_col0\" class=\"data row2 col0\" >sg</td>\n",
       "                        <td id=\"T_69c75866_6447_11ea_8ff6_054989be1d01row2_col1\" class=\"data row2 col1\" >/entertainment/movie-ticket-prices-singapore</td>\n",
       "                        <td id=\"T_69c75866_6447_11ea_8ff6_054989be1d01row2_col2\" class=\"data row2 col2\" >29.8789</td>\n",
       "                        <td id=\"T_69c75866_6447_11ea_8ff6_054989be1d01row2_col3\" class=\"data row2 col3\" >20.7547</td>\n",
       "                        <td id=\"T_69c75866_6447_11ea_8ff6_054989be1d01row2_col4\" class=\"data row2 col4\" >1486</td>\n",
       "                        <td id=\"T_69c75866_6447_11ea_8ff6_054989be1d01row2_col5\" class=\"data row2 col5\" >106</td>\n",
       "                        <td id=\"T_69c75866_6447_11ea_8ff6_054989be1d01row2_col6\" class=\"data row2 col6\" >-9.12415</td>\n",
       "                        <td id=\"T_69c75866_6447_11ea_8ff6_054989be1d01row2_col7\" class=\"data row2 col7\" >nan</td>\n",
       "            </tr>\n",
       "            <tr>\n",
       "                        <th id=\"T_69c75866_6447_11ea_8ff6_054989be1d01level0_row3\" class=\"row_heading level0 row3\" >896</th>\n",
       "                        <td id=\"T_69c75866_6447_11ea_8ff6_054989be1d01row3_col0\" class=\"data row3 col0\" >hk</td>\n",
       "                        <td id=\"T_69c75866_6447_11ea_8ff6_054989be1d01row3_col1\" class=\"data row3 col1\" >/zh-hk/credit-cards/%E6%9C%AC%E9%80%B1-%E4%BF%A1%E7%94%A8%E5%8D%A1-%E5%84%AA%E6%83%A0-%E6%AF%94%E8%BC%83</td>\n",
       "                        <td id=\"T_69c75866_6447_11ea_8ff6_054989be1d01row3_col2\" class=\"data row3 col2\" >10.3454</td>\n",
       "                        <td id=\"T_69c75866_6447_11ea_8ff6_054989be1d01row3_col3\" class=\"data row3 col3\" >9.9734</td>\n",
       "                        <td id=\"T_69c75866_6447_11ea_8ff6_054989be1d01row3_col4\" class=\"data row3 col4\" >1520</td>\n",
       "                        <td id=\"T_69c75866_6447_11ea_8ff6_054989be1d01row3_col5\" class=\"data row3 col5\" >188</td>\n",
       "                        <td id=\"T_69c75866_6447_11ea_8ff6_054989be1d01row3_col6\" class=\"data row3 col6\" >-0.37199</td>\n",
       "                        <td id=\"T_69c75866_6447_11ea_8ff6_054989be1d01row3_col7\" class=\"data row3 col7\" >nan</td>\n",
       "            </tr>\n",
       "            <tr>\n",
       "                        <th id=\"T_69c75866_6447_11ea_8ff6_054989be1d01level0_row4\" class=\"row_heading level0 row4\" >3277</th>\n",
       "                        <td id=\"T_69c75866_6447_11ea_8ff6_054989be1d01row4_col0\" class=\"data row4 col0\" >sg</td>\n",
       "                        <td id=\"T_69c75866_6447_11ea_8ff6_054989be1d01row4_col1\" class=\"data row4 col1\" >/entertainment/best-clubs-in-singapore-cover-charge</td>\n",
       "                        <td id=\"T_69c75866_6447_11ea_8ff6_054989be1d01row4_col2\" class=\"data row4 col2\" >33.4041</td>\n",
       "                        <td id=\"T_69c75866_6447_11ea_8ff6_054989be1d01row4_col3\" class=\"data row4 col3\" >35.3053</td>\n",
       "                        <td id=\"T_69c75866_6447_11ea_8ff6_054989be1d01row4_col4\" class=\"data row4 col4\" >1883</td>\n",
       "                        <td id=\"T_69c75866_6447_11ea_8ff6_054989be1d01row4_col5\" class=\"data row4 col5\" >131</td>\n",
       "                        <td id=\"T_69c75866_6447_11ea_8ff6_054989be1d01row4_col6\" class=\"data row4 col6\" >1.9012</td>\n",
       "                        <td id=\"T_69c75866_6447_11ea_8ff6_054989be1d01row4_col7\" class=\"data row4 col7\" >nan</td>\n",
       "            </tr>\n",
       "            <tr>\n",
       "                        <th id=\"T_69c75866_6447_11ea_8ff6_054989be1d01level0_row5\" class=\"row_heading level0 row5\" >2275</th>\n",
       "                        <td id=\"T_69c75866_6447_11ea_8ff6_054989be1d01row5_col0\" class=\"data row5 col0\" >sg</td>\n",
       "                        <td id=\"T_69c75866_6447_11ea_8ff6_054989be1d01row5_col1\" class=\"data row5 col1\" >/budgeting/mattress-singapore-guide</td>\n",
       "                        <td id=\"T_69c75866_6447_11ea_8ff6_054989be1d01row5_col2\" class=\"data row5 col2\" >41.3934</td>\n",
       "                        <td id=\"T_69c75866_6447_11ea_8ff6_054989be1d01row5_col3\" class=\"data row5 col3\" >34.7917</td>\n",
       "                        <td id=\"T_69c75866_6447_11ea_8ff6_054989be1d01row5_col4\" class=\"data row5 col4\" >1952</td>\n",
       "                        <td id=\"T_69c75866_6447_11ea_8ff6_054989be1d01row5_col5\" class=\"data row5 col5\" >120</td>\n",
       "                        <td id=\"T_69c75866_6447_11ea_8ff6_054989be1d01row5_col6\" class=\"data row5 col6\" >-6.60178</td>\n",
       "                        <td id=\"T_69c75866_6447_11ea_8ff6_054989be1d01row5_col7\" class=\"data row5 col7\" >nan</td>\n",
       "            </tr>\n",
       "            <tr>\n",
       "                        <th id=\"T_69c75866_6447_11ea_8ff6_054989be1d01level0_row6\" class=\"row_heading level0 row6\" >3827</th>\n",
       "                        <td id=\"T_69c75866_6447_11ea_8ff6_054989be1d01row6_col0\" class=\"data row6 col0\" >sg</td>\n",
       "                        <td id=\"T_69c75866_6447_11ea_8ff6_054989be1d01row6_col1\" class=\"data row6 col1\" >/invest/investing-shares-sgx-stocks-singapore</td>\n",
       "                        <td id=\"T_69c75866_6447_11ea_8ff6_054989be1d01row6_col2\" class=\"data row6 col2\" >49.0161</td>\n",
       "                        <td id=\"T_69c75866_6447_11ea_8ff6_054989be1d01row6_col3\" class=\"data row6 col3\" >35.1626</td>\n",
       "                        <td id=\"T_69c75866_6447_11ea_8ff6_054989be1d01row6_col4\" class=\"data row6 col4\" >1982</td>\n",
       "                        <td id=\"T_69c75866_6447_11ea_8ff6_054989be1d01row6_col5\" class=\"data row6 col5\" >123</td>\n",
       "                        <td id=\"T_69c75866_6447_11ea_8ff6_054989be1d01row6_col6\" class=\"data row6 col6\" >-13.8535</td>\n",
       "                        <td id=\"T_69c75866_6447_11ea_8ff6_054989be1d01row6_col7\" class=\"data row6 col7\" >nan</td>\n",
       "            </tr>\n",
       "            <tr>\n",
       "                        <th id=\"T_69c75866_6447_11ea_8ff6_054989be1d01level0_row7\" class=\"row_heading level0 row7\" >4958</th>\n",
       "                        <td id=\"T_69c75866_6447_11ea_8ff6_054989be1d01row7_col0\" class=\"data row7 col0\" >sg</td>\n",
       "                        <td id=\"T_69c75866_6447_11ea_8ff6_054989be1d01row7_col1\" class=\"data row7 col1\" >/travel/best-money-changers-singapore</td>\n",
       "                        <td id=\"T_69c75866_6447_11ea_8ff6_054989be1d01row7_col2\" class=\"data row7 col2\" >24.4138</td>\n",
       "                        <td id=\"T_69c75866_6447_11ea_8ff6_054989be1d01row7_col3\" class=\"data row7 col3\" >27.4194</td>\n",
       "                        <td id=\"T_69c75866_6447_11ea_8ff6_054989be1d01row7_col4\" class=\"data row7 col4\" >2047</td>\n",
       "                        <td id=\"T_69c75866_6447_11ea_8ff6_054989be1d01row7_col5\" class=\"data row7 col5\" >124</td>\n",
       "                        <td id=\"T_69c75866_6447_11ea_8ff6_054989be1d01row7_col6\" class=\"data row7 col6\" >3.00558</td>\n",
       "                        <td id=\"T_69c75866_6447_11ea_8ff6_054989be1d01row7_col7\" class=\"data row7 col7\" >nan</td>\n",
       "            </tr>\n",
       "            <tr>\n",
       "                        <th id=\"T_69c75866_6447_11ea_8ff6_054989be1d01level0_row8\" class=\"row_heading level0 row8\" >3862</th>\n",
       "                        <td id=\"T_69c75866_6447_11ea_8ff6_054989be1d01row8_col0\" class=\"data row8 col0\" >sg</td>\n",
       "                        <td id=\"T_69c75866_6447_11ea_8ff6_054989be1d01row8_col1\" class=\"data row8 col1\" >/invest/singapore-reits-investing</td>\n",
       "                        <td id=\"T_69c75866_6447_11ea_8ff6_054989be1d01row8_col2\" class=\"data row8 col2\" >40.0356</td>\n",
       "                        <td id=\"T_69c75866_6447_11ea_8ff6_054989be1d01row8_col3\" class=\"data row8 col3\" >36.5772</td>\n",
       "                        <td id=\"T_69c75866_6447_11ea_8ff6_054989be1d01row8_col4\" class=\"data row8 col4\" >2105</td>\n",
       "                        <td id=\"T_69c75866_6447_11ea_8ff6_054989be1d01row8_col5\" class=\"data row8 col5\" >149</td>\n",
       "                        <td id=\"T_69c75866_6447_11ea_8ff6_054989be1d01row8_col6\" class=\"data row8 col6\" >-3.45845</td>\n",
       "                        <td id=\"T_69c75866_6447_11ea_8ff6_054989be1d01row8_col7\" class=\"data row8 col7\" >nan</td>\n",
       "            </tr>\n",
       "            <tr>\n",
       "                        <th id=\"T_69c75866_6447_11ea_8ff6_054989be1d01level0_row9\" class=\"row_heading level0 row9\" >3631</th>\n",
       "                        <td id=\"T_69c75866_6447_11ea_8ff6_054989be1d01row9_col0\" class=\"data row9 col0\" >sg</td>\n",
       "                        <td id=\"T_69c75866_6447_11ea_8ff6_054989be1d01row9_col1\" class=\"data row9 col1\" >/healthcare/health-screening-singapore-cost</td>\n",
       "                        <td id=\"T_69c75866_6447_11ea_8ff6_054989be1d01row9_col2\" class=\"data row9 col2\" >32.1999</td>\n",
       "                        <td id=\"T_69c75866_6447_11ea_8ff6_054989be1d01row9_col3\" class=\"data row9 col3\" >36.4583</td>\n",
       "                        <td id=\"T_69c75866_6447_11ea_8ff6_054989be1d01row9_col4\" class=\"data row9 col4\" >2191</td>\n",
       "                        <td id=\"T_69c75866_6447_11ea_8ff6_054989be1d01row9_col5\" class=\"data row9 col5\" >120</td>\n",
       "                        <td id=\"T_69c75866_6447_11ea_8ff6_054989be1d01row9_col6\" class=\"data row9 col6\" >4.25842</td>\n",
       "                        <td id=\"T_69c75866_6447_11ea_8ff6_054989be1d01row9_col7\" class=\"data row9 col7\" >nan</td>\n",
       "            </tr>\n",
       "            <tr>\n",
       "                        <th id=\"T_69c75866_6447_11ea_8ff6_054989be1d01level0_row10\" class=\"row_heading level0 row10\" >3864</th>\n",
       "                        <td id=\"T_69c75866_6447_11ea_8ff6_054989be1d01row10_col0\" class=\"data row10 col0\" >sg</td>\n",
       "                        <td id=\"T_69c75866_6447_11ea_8ff6_054989be1d01row10_col1\" class=\"data row10 col1\" >/invest/singapore-savings-bonds-review</td>\n",
       "                        <td id=\"T_69c75866_6447_11ea_8ff6_054989be1d01row10_col2\" class=\"data row10 col2\" >38.6627</td>\n",
       "                        <td id=\"T_69c75866_6447_11ea_8ff6_054989be1d01row10_col3\" class=\"data row10 col3\" >31.0547</td>\n",
       "                        <td id=\"T_69c75866_6447_11ea_8ff6_054989be1d01row10_col4\" class=\"data row10 col4\" >2419</td>\n",
       "                        <td id=\"T_69c75866_6447_11ea_8ff6_054989be1d01row10_col5\" class=\"data row10 col5\" >128</td>\n",
       "                        <td id=\"T_69c75866_6447_11ea_8ff6_054989be1d01row10_col6\" class=\"data row10 col6\" >-7.60798</td>\n",
       "                        <td id=\"T_69c75866_6447_11ea_8ff6_054989be1d01row10_col7\" class=\"data row10 col7\" >nan</td>\n",
       "            </tr>\n",
       "            <tr>\n",
       "                        <th id=\"T_69c75866_6447_11ea_8ff6_054989be1d01level0_row11\" class=\"row_heading level0 row11\" >3091</th>\n",
       "                        <td id=\"T_69c75866_6447_11ea_8ff6_054989be1d01row11_col0\" class=\"data row11 col0\" >sg</td>\n",
       "                        <td id=\"T_69c75866_6447_11ea_8ff6_054989be1d01row11_col1\" class=\"data row11 col1\" >/dining/deliveroo-grabfood-foodpanda-promo-code</td>\n",
       "                        <td id=\"T_69c75866_6447_11ea_8ff6_054989be1d01row11_col2\" class=\"data row11 col2\" >31.1749</td>\n",
       "                        <td id=\"T_69c75866_6447_11ea_8ff6_054989be1d01row11_col3\" class=\"data row11 col3\" >28.9116</td>\n",
       "                        <td id=\"T_69c75866_6447_11ea_8ff6_054989be1d01row11_col4\" class=\"data row11 col4\" >2498</td>\n",
       "                        <td id=\"T_69c75866_6447_11ea_8ff6_054989be1d01row11_col5\" class=\"data row11 col5\" >147</td>\n",
       "                        <td id=\"T_69c75866_6447_11ea_8ff6_054989be1d01row11_col6\" class=\"data row11 col6\" >-2.26338</td>\n",
       "                        <td id=\"T_69c75866_6447_11ea_8ff6_054989be1d01row11_col7\" class=\"data row11 col7\" >nan</td>\n",
       "            </tr>\n",
       "            <tr>\n",
       "                        <th id=\"T_69c75866_6447_11ea_8ff6_054989be1d01level0_row12\" class=\"row_heading level0 row12\" >3222</th>\n",
       "                        <td id=\"T_69c75866_6447_11ea_8ff6_054989be1d01row12_col0\" class=\"data row12 col0\" >sg</td>\n",
       "                        <td id=\"T_69c75866_6447_11ea_8ff6_054989be1d01row12_col1\" class=\"data row12 col1\" >/education/singapore-university-education-cost</td>\n",
       "                        <td id=\"T_69c75866_6447_11ea_8ff6_054989be1d01row12_col2\" class=\"data row12 col2\" >23.3413</td>\n",
       "                        <td id=\"T_69c75866_6447_11ea_8ff6_054989be1d01row12_col3\" class=\"data row12 col3\" >20.5742</td>\n",
       "                        <td id=\"T_69c75866_6447_11ea_8ff6_054989be1d01row12_col4\" class=\"data row12 col4\" >2502</td>\n",
       "                        <td id=\"T_69c75866_6447_11ea_8ff6_054989be1d01row12_col5\" class=\"data row12 col5\" >209</td>\n",
       "                        <td id=\"T_69c75866_6447_11ea_8ff6_054989be1d01row12_col6\" class=\"data row12 col6\" >-2.76716</td>\n",
       "                        <td id=\"T_69c75866_6447_11ea_8ff6_054989be1d01row12_col7\" class=\"data row12 col7\" >nan</td>\n",
       "            </tr>\n",
       "            <tr>\n",
       "                        <th id=\"T_69c75866_6447_11ea_8ff6_054989be1d01level0_row13\" class=\"row_heading level0 row13\" >4322</th>\n",
       "                        <td id=\"T_69c75866_6447_11ea_8ff6_054989be1d01row13_col0\" class=\"data row13 col0\" >sg</td>\n",
       "                        <td id=\"T_69c75866_6447_11ea_8ff6_054989be1d01row13_col1\" class=\"data row13 col1\" >/property/cpf-housing-grant-guide</td>\n",
       "                        <td id=\"T_69c75866_6447_11ea_8ff6_054989be1d01row13_col2\" class=\"data row13 col2\" >36.0625</td>\n",
       "                        <td id=\"T_69c75866_6447_11ea_8ff6_054989be1d01row13_col3\" class=\"data row13 col3\" >31.8471</td>\n",
       "                        <td id=\"T_69c75866_6447_11ea_8ff6_054989be1d01row13_col4\" class=\"data row13 col4\" >2626</td>\n",
       "                        <td id=\"T_69c75866_6447_11ea_8ff6_054989be1d01row13_col5\" class=\"data row13 col5\" >157</td>\n",
       "                        <td id=\"T_69c75866_6447_11ea_8ff6_054989be1d01row13_col6\" class=\"data row13 col6\" >-4.21532</td>\n",
       "                        <td id=\"T_69c75866_6447_11ea_8ff6_054989be1d01row13_col7\" class=\"data row13 col7\" >nan</td>\n",
       "            </tr>\n",
       "            <tr>\n",
       "                        <th id=\"T_69c75866_6447_11ea_8ff6_054989be1d01level0_row14\" class=\"row_heading level0 row14\" >3077</th>\n",
       "                        <td id=\"T_69c75866_6447_11ea_8ff6_054989be1d01row14_col0\" class=\"data row14 col0\" >sg</td>\n",
       "                        <td id=\"T_69c75866_6447_11ea_8ff6_054989be1d01row14_col1\" class=\"data row14 col1\" >/dining/cheap-korean-bbq-buffets-singapore</td>\n",
       "                        <td id=\"T_69c75866_6447_11ea_8ff6_054989be1d01row14_col2\" class=\"data row14 col2\" >46.4351</td>\n",
       "                        <td id=\"T_69c75866_6447_11ea_8ff6_054989be1d01row14_col3\" class=\"data row14 col3\" >39.5105</td>\n",
       "                        <td id=\"T_69c75866_6447_11ea_8ff6_054989be1d01row14_col4\" class=\"data row14 col4\" >2735</td>\n",
       "                        <td id=\"T_69c75866_6447_11ea_8ff6_054989be1d01row14_col5\" class=\"data row14 col5\" >143</td>\n",
       "                        <td id=\"T_69c75866_6447_11ea_8ff6_054989be1d01row14_col6\" class=\"data row14 col6\" >-6.92461</td>\n",
       "                        <td id=\"T_69c75866_6447_11ea_8ff6_054989be1d01row14_col7\" class=\"data row14 col7\" >nan</td>\n",
       "            </tr>\n",
       "            <tr>\n",
       "                        <th id=\"T_69c75866_6447_11ea_8ff6_054989be1d01level0_row15\" class=\"row_heading level0 row15\" >3120</th>\n",
       "                        <td id=\"T_69c75866_6447_11ea_8ff6_054989be1d01row15_col0\" class=\"data row15 col0\" >sg</td>\n",
       "                        <td id=\"T_69c75866_6447_11ea_8ff6_054989be1d01row15_col1\" class=\"data row15 col1\" >/dining/mcdonalds-menu-prices-singapore</td>\n",
       "                        <td id=\"T_69c75866_6447_11ea_8ff6_054989be1d01row15_col2\" class=\"data row15 col2\" >35.5603</td>\n",
       "                        <td id=\"T_69c75866_6447_11ea_8ff6_054989be1d01row15_col3\" class=\"data row15 col3\" >34.4828</td>\n",
       "                        <td id=\"T_69c75866_6447_11ea_8ff6_054989be1d01row15_col4\" class=\"data row15 col4\" >2784</td>\n",
       "                        <td id=\"T_69c75866_6447_11ea_8ff6_054989be1d01row15_col5\" class=\"data row15 col5\" >145</td>\n",
       "                        <td id=\"T_69c75866_6447_11ea_8ff6_054989be1d01row15_col6\" class=\"data row15 col6\" >-1.07759</td>\n",
       "                        <td id=\"T_69c75866_6447_11ea_8ff6_054989be1d01row15_col7\" class=\"data row15 col7\" >nan</td>\n",
       "            </tr>\n",
       "            <tr>\n",
       "                        <th id=\"T_69c75866_6447_11ea_8ff6_054989be1d01level0_row16\" class=\"row_heading level0 row16\" >3498</th>\n",
       "                        <td id=\"T_69c75866_6447_11ea_8ff6_054989be1d01row16_col0\" class=\"data row16 col0\" >sg</td>\n",
       "                        <td id=\"T_69c75866_6447_11ea_8ff6_054989be1d01row16_col1\" class=\"data row16 col1\" >/fitness-beauty/cheap-gyms-singapore</td>\n",
       "                        <td id=\"T_69c75866_6447_11ea_8ff6_054989be1d01row16_col2\" class=\"data row16 col2\" >30.5224</td>\n",
       "                        <td id=\"T_69c75866_6447_11ea_8ff6_054989be1d01row16_col3\" class=\"data row16 col3\" >33.5484</td>\n",
       "                        <td id=\"T_69c75866_6447_11ea_8ff6_054989be1d01row16_col4\" class=\"data row16 col4\" >2852</td>\n",
       "                        <td id=\"T_69c75866_6447_11ea_8ff6_054989be1d01row16_col5\" class=\"data row16 col5\" >155</td>\n",
       "                        <td id=\"T_69c75866_6447_11ea_8ff6_054989be1d01row16_col6\" class=\"data row16 col6\" >3.02595</td>\n",
       "                        <td id=\"T_69c75866_6447_11ea_8ff6_054989be1d01row16_col7\" class=\"data row16 col7\" >nan</td>\n",
       "            </tr>\n",
       "            <tr>\n",
       "                        <th id=\"T_69c75866_6447_11ea_8ff6_054989be1d01level0_row17\" class=\"row_heading level0 row17\" >4699</th>\n",
       "                        <td id=\"T_69c75866_6447_11ea_8ff6_054989be1d01row17_col0\" class=\"data row17 col0\" >sg</td>\n",
       "                        <td id=\"T_69c75866_6447_11ea_8ff6_054989be1d01row17_col1\" class=\"data row17 col1\" >/shopping/taobao-singapore-guide-shopping-delivery</td>\n",
       "                        <td id=\"T_69c75866_6447_11ea_8ff6_054989be1d01row17_col2\" class=\"data row17 col2\" >30.2381</td>\n",
       "                        <td id=\"T_69c75866_6447_11ea_8ff6_054989be1d01row17_col3\" class=\"data row17 col3\" >31.4103</td>\n",
       "                        <td id=\"T_69c75866_6447_11ea_8ff6_054989be1d01row17_col4\" class=\"data row17 col4\" >3150</td>\n",
       "                        <td id=\"T_69c75866_6447_11ea_8ff6_054989be1d01row17_col5\" class=\"data row17 col5\" >156</td>\n",
       "                        <td id=\"T_69c75866_6447_11ea_8ff6_054989be1d01row17_col6\" class=\"data row17 col6\" >1.17216</td>\n",
       "                        <td id=\"T_69c75866_6447_11ea_8ff6_054989be1d01row17_col7\" class=\"data row17 col7\" >nan</td>\n",
       "            </tr>\n",
       "            <tr>\n",
       "                        <th id=\"T_69c75866_6447_11ea_8ff6_054989be1d01level0_row18\" class=\"row_heading level0 row18\" >2183</th>\n",
       "                        <td id=\"T_69c75866_6447_11ea_8ff6_054989be1d01row18_col0\" class=\"data row18 col0\" >sg</td>\n",
       "                        <td id=\"T_69c75866_6447_11ea_8ff6_054989be1d01row18_col1\" class=\"data row18 col1\" >/budgeting/delivery-courier-service-singapore</td>\n",
       "                        <td id=\"T_69c75866_6447_11ea_8ff6_054989be1d01row18_col2\" class=\"data row18 col2\" >27.8699</td>\n",
       "                        <td id=\"T_69c75866_6447_11ea_8ff6_054989be1d01row18_col3\" class=\"data row18 col3\" >26.3221</td>\n",
       "                        <td id=\"T_69c75866_6447_11ea_8ff6_054989be1d01row18_col4\" class=\"data row18 col4\" >3406</td>\n",
       "                        <td id=\"T_69c75866_6447_11ea_8ff6_054989be1d01row18_col5\" class=\"data row18 col5\" >208</td>\n",
       "                        <td id=\"T_69c75866_6447_11ea_8ff6_054989be1d01row18_col6\" class=\"data row18 col6\" >-1.54782</td>\n",
       "                        <td id=\"T_69c75866_6447_11ea_8ff6_054989be1d01row18_col7\" class=\"data row18 col7\" >nan</td>\n",
       "            </tr>\n",
       "            <tr>\n",
       "                        <th id=\"T_69c75866_6447_11ea_8ff6_054989be1d01level0_row19\" class=\"row_heading level0 row19\" >4464</th>\n",
       "                        <td id=\"T_69c75866_6447_11ea_8ff6_054989be1d01row19_col0\" class=\"data row19 col0\" >sg</td>\n",
       "                        <td id=\"T_69c75866_6447_11ea_8ff6_054989be1d01row19_col1\" class=\"data row19 col1\" >/renovation-loans/renovation-singapore</td>\n",
       "                        <td id=\"T_69c75866_6447_11ea_8ff6_054989be1d01row19_col2\" class=\"data row19 col2\" >36.681</td>\n",
       "                        <td id=\"T_69c75866_6447_11ea_8ff6_054989be1d01row19_col3\" class=\"data row19 col3\" >29.4837</td>\n",
       "                        <td id=\"T_69c75866_6447_11ea_8ff6_054989be1d01row19_col4\" class=\"data row19 col4\" >3480</td>\n",
       "                        <td id=\"T_69c75866_6447_11ea_8ff6_054989be1d01row19_col5\" class=\"data row19 col5\" >184</td>\n",
       "                        <td id=\"T_69c75866_6447_11ea_8ff6_054989be1d01row19_col6\" class=\"data row19 col6\" >-7.19734</td>\n",
       "                        <td id=\"T_69c75866_6447_11ea_8ff6_054989be1d01row19_col7\" class=\"data row19 col7\" >nan</td>\n",
       "            </tr>\n",
       "            <tr>\n",
       "                        <th id=\"T_69c75866_6447_11ea_8ff6_054989be1d01level0_row20\" class=\"row_heading level0 row20\" >2127</th>\n",
       "                        <td id=\"T_69c75866_6447_11ea_8ff6_054989be1d01row20_col0\" class=\"data row20 col0\" >sg</td>\n",
       "                        <td id=\"T_69c75866_6447_11ea_8ff6_054989be1d01row20_col1\" class=\"data row20 col1\" >/budgeting/birthday-treats-singapore</td>\n",
       "                        <td id=\"T_69c75866_6447_11ea_8ff6_054989be1d01row20_col2\" class=\"data row20 col2\" >21.4177</td>\n",
       "                        <td id=\"T_69c75866_6447_11ea_8ff6_054989be1d01row20_col3\" class=\"data row20 col3\" >23.2558</td>\n",
       "                        <td id=\"T_69c75866_6447_11ea_8ff6_054989be1d01row20_col4\" class=\"data row20 col4\" >3622</td>\n",
       "                        <td id=\"T_69c75866_6447_11ea_8ff6_054989be1d01row20_col5\" class=\"data row20 col5\" >172</td>\n",
       "                        <td id=\"T_69c75866_6447_11ea_8ff6_054989be1d01row20_col6\" class=\"data row20 col6\" >1.83809</td>\n",
       "                        <td id=\"T_69c75866_6447_11ea_8ff6_054989be1d01row20_col7\" class=\"data row20 col7\" >nan</td>\n",
       "            </tr>\n",
       "            <tr>\n",
       "                        <th id=\"T_69c75866_6447_11ea_8ff6_054989be1d01level0_row21\" class=\"row_heading level0 row21\" >4793</th>\n",
       "                        <td id=\"T_69c75866_6447_11ea_8ff6_054989be1d01row21_col0\" class=\"data row21 col0\" >sg</td>\n",
       "                        <td id=\"T_69c75866_6447_11ea_8ff6_054989be1d01row21_col1\" class=\"data row21 col1\" >/transportation/cheapest-parking-orchard-road</td>\n",
       "                        <td id=\"T_69c75866_6447_11ea_8ff6_054989be1d01row21_col2\" class=\"data row21 col2\" >39.8993</td>\n",
       "                        <td id=\"T_69c75866_6447_11ea_8ff6_054989be1d01row21_col3\" class=\"data row21 col3\" >39.0957</td>\n",
       "                        <td id=\"T_69c75866_6447_11ea_8ff6_054989be1d01row21_col4\" class=\"data row21 col4\" >3626</td>\n",
       "                        <td id=\"T_69c75866_6447_11ea_8ff6_054989be1d01row21_col5\" class=\"data row21 col5\" >188</td>\n",
       "                        <td id=\"T_69c75866_6447_11ea_8ff6_054989be1d01row21_col6\" class=\"data row21 col6\" >-0.803593</td>\n",
       "                        <td id=\"T_69c75866_6447_11ea_8ff6_054989be1d01row21_col7\" class=\"data row21 col7\" >nan</td>\n",
       "            </tr>\n",
       "            <tr>\n",
       "                        <th id=\"T_69c75866_6447_11ea_8ff6_054989be1d01level0_row22\" class=\"row_heading level0 row22\" >5024</th>\n",
       "                        <td id=\"T_69c75866_6447_11ea_8ff6_054989be1d01row22_col0\" class=\"data row22 col0\" >sg</td>\n",
       "                        <td id=\"T_69c75866_6447_11ea_8ff6_054989be1d01row22_col1\" class=\"data row22 col1\" >/travel/ktm-train-to-jb-guide</td>\n",
       "                        <td id=\"T_69c75866_6447_11ea_8ff6_054989be1d01row22_col2\" class=\"data row22 col2\" >25.8208</td>\n",
       "                        <td id=\"T_69c75866_6447_11ea_8ff6_054989be1d01row22_col3\" class=\"data row22 col3\" >33.9041</td>\n",
       "                        <td id=\"T_69c75866_6447_11ea_8ff6_054989be1d01row22_col4\" class=\"data row22 col4\" >4112</td>\n",
       "                        <td id=\"T_69c75866_6447_11ea_8ff6_054989be1d01row22_col5\" class=\"data row22 col5\" >219</td>\n",
       "                        <td id=\"T_69c75866_6447_11ea_8ff6_054989be1d01row22_col6\" class=\"data row22 col6\" >8.08334</td>\n",
       "                        <td id=\"T_69c75866_6447_11ea_8ff6_054989be1d01row22_col7\" class=\"data row22 col7\" >nan</td>\n",
       "            </tr>\n",
       "            <tr>\n",
       "                        <th id=\"T_69c75866_6447_11ea_8ff6_054989be1d01level0_row23\" class=\"row_heading level0 row23\" >4641</th>\n",
       "                        <td id=\"T_69c75866_6447_11ea_8ff6_054989be1d01row23_col0\" class=\"data row23 col0\" >sg</td>\n",
       "                        <td id=\"T_69c75866_6447_11ea_8ff6_054989be1d01row23_col1\" class=\"data row23 col1\" >/shopping/lazada-promo-code-promotion</td>\n",
       "                        <td id=\"T_69c75866_6447_11ea_8ff6_054989be1d01row23_col2\" class=\"data row23 col2\" >32.5585</td>\n",
       "                        <td id=\"T_69c75866_6447_11ea_8ff6_054989be1d01row23_col3\" class=\"data row23 col3\" >35.6335</td>\n",
       "                        <td id=\"T_69c75866_6447_11ea_8ff6_054989be1d01row23_col4\" class=\"data row23 col4\" >4485</td>\n",
       "                        <td id=\"T_69c75866_6447_11ea_8ff6_054989be1d01row23_col5\" class=\"data row23 col5\" >221</td>\n",
       "                        <td id=\"T_69c75866_6447_11ea_8ff6_054989be1d01row23_col6\" class=\"data row23 col6\" >3.07496</td>\n",
       "                        <td id=\"T_69c75866_6447_11ea_8ff6_054989be1d01row23_col7\" class=\"data row23 col7\" >nan</td>\n",
       "            </tr>\n",
       "            <tr>\n",
       "                        <th id=\"T_69c75866_6447_11ea_8ff6_054989be1d01level0_row24\" class=\"row_heading level0 row24\" >2358</th>\n",
       "                        <td id=\"T_69c75866_6447_11ea_8ff6_054989be1d01row24_col0\" class=\"data row24 col0\" >sg</td>\n",
       "                        <td id=\"T_69c75866_6447_11ea_8ff6_054989be1d01row24_col1\" class=\"data row24 col1\" >/budgeting/singtel-gomo-starhub-giga-data-plan</td>\n",
       "                        <td id=\"T_69c75866_6447_11ea_8ff6_054989be1d01row24_col2\" class=\"data row24 col2\" >32.5004</td>\n",
       "                        <td id=\"T_69c75866_6447_11ea_8ff6_054989be1d01row24_col3\" class=\"data row24 col3\" >33.528</td>\n",
       "                        <td id=\"T_69c75866_6447_11ea_8ff6_054989be1d01row24_col4\" class=\"data row24 col4\" >7013</td>\n",
       "                        <td id=\"T_69c75866_6447_11ea_8ff6_054989be1d01row24_col5\" class=\"data row24 col5\" >428</td>\n",
       "                        <td id=\"T_69c75866_6447_11ea_8ff6_054989be1d01row24_col6\" class=\"data row24 col6\" >1.02768</td>\n",
       "                        <td id=\"T_69c75866_6447_11ea_8ff6_054989be1d01row24_col7\" class=\"data row24 col7\" >nan</td>\n",
       "            </tr>\n",
       "            <tr>\n",
       "                        <th id=\"T_69c75866_6447_11ea_8ff6_054989be1d01level0_row25\" class=\"row_heading level0 row25\" >3818</th>\n",
       "                        <td id=\"T_69c75866_6447_11ea_8ff6_054989be1d01row25_col0\" class=\"data row25 col0\" >sg</td>\n",
       "                        <td id=\"T_69c75866_6447_11ea_8ff6_054989be1d01row25_col1\" class=\"data row25 col1\" >/invest/index-fund-etf-singapore</td>\n",
       "                        <td id=\"T_69c75866_6447_11ea_8ff6_054989be1d01row25_col2\" class=\"data row25 col2\" >36.9447</td>\n",
       "                        <td id=\"T_69c75866_6447_11ea_8ff6_054989be1d01row25_col3\" class=\"data row25 col3\" >34.4749</td>\n",
       "                        <td id=\"T_69c75866_6447_11ea_8ff6_054989be1d01row25_col4\" class=\"data row25 col4\" >7451</td>\n",
       "                        <td id=\"T_69c75866_6447_11ea_8ff6_054989be1d01row25_col5\" class=\"data row25 col5\" >438</td>\n",
       "                        <td id=\"T_69c75866_6447_11ea_8ff6_054989be1d01row25_col6\" class=\"data row25 col6\" >-2.46982</td>\n",
       "                        <td id=\"T_69c75866_6447_11ea_8ff6_054989be1d01row25_col7\" class=\"data row25 col7\" >nan</td>\n",
       "            </tr>\n",
       "            <tr>\n",
       "                        <th id=\"T_69c75866_6447_11ea_8ff6_054989be1d01level0_row26\" class=\"row_heading level0 row26\" >2157</th>\n",
       "                        <td id=\"T_69c75866_6447_11ea_8ff6_054989be1d01row26_col0\" class=\"data row26 col0\" >sg</td>\n",
       "                        <td id=\"T_69c75866_6447_11ea_8ff6_054989be1d01row26_col1\" class=\"data row26 col1\" >/budgeting/cheapest-sim-only-plans</td>\n",
       "                        <td id=\"T_69c75866_6447_11ea_8ff6_054989be1d01row26_col2\" class=\"data row26 col2\" >24.7766</td>\n",
       "                        <td id=\"T_69c75866_6447_11ea_8ff6_054989be1d01row26_col3\" class=\"data row26 col3\" >24.5918</td>\n",
       "                        <td id=\"T_69c75866_6447_11ea_8ff6_054989be1d01row26_col4\" class=\"data row26 col4\" >8393</td>\n",
       "                        <td id=\"T_69c75866_6447_11ea_8ff6_054989be1d01row26_col5\" class=\"data row26 col5\" >490</td>\n",
       "                        <td id=\"T_69c75866_6447_11ea_8ff6_054989be1d01row26_col6\" class=\"data row26 col6\" >-0.184763</td>\n",
       "                        <td id=\"T_69c75866_6447_11ea_8ff6_054989be1d01row26_col7\" class=\"data row26 col7\" >nan</td>\n",
       "            </tr>\n",
       "            <tr>\n",
       "                        <th id=\"T_69c75866_6447_11ea_8ff6_054989be1d01level0_row27\" class=\"row_heading level0 row27\" >326</th>\n",
       "                        <td id=\"T_69c75866_6447_11ea_8ff6_054989be1d01row27_col0\" class=\"data row27 col0\" >hk</td>\n",
       "                        <td id=\"T_69c75866_6447_11ea_8ff6_054989be1d01row27_col1\" class=\"data row27 col1\" >/zh-hk/budgeting/%E5%BD%B1%E7%89%87%E4%B8%B2%E6%B5%81-netflix-hmvod-primevideo-hbogo-%E6%9C%88%E8%B2%BB</td>\n",
       "                        <td id=\"T_69c75866_6447_11ea_8ff6_054989be1d01row27_col2\" class=\"data row27 col2\" >48.1867</td>\n",
       "                        <td id=\"T_69c75866_6447_11ea_8ff6_054989be1d01row27_col3\" class=\"data row27 col3\" >38.6788</td>\n",
       "                        <td id=\"T_69c75866_6447_11ea_8ff6_054989be1d01row27_col4\" class=\"data row27 col4\" >8424</td>\n",
       "                        <td id=\"T_69c75866_6447_11ea_8ff6_054989be1d01row27_col5\" class=\"data row27 col5\" >965</td>\n",
       "                        <td id=\"T_69c75866_6447_11ea_8ff6_054989be1d01row27_col6\" class=\"data row27 col6\" >-9.50797</td>\n",
       "                        <td id=\"T_69c75866_6447_11ea_8ff6_054989be1d01row27_col7\" class=\"data row27 col7\" >nan</td>\n",
       "            </tr>\n",
       "            <tr>\n",
       "                        <th id=\"T_69c75866_6447_11ea_8ff6_054989be1d01level0_row28\" class=\"row_heading level0 row28\" >2170</th>\n",
       "                        <td id=\"T_69c75866_6447_11ea_8ff6_054989be1d01row28_col0\" class=\"data row28 col0\" >sg</td>\n",
       "                        <td id=\"T_69c75866_6447_11ea_8ff6_054989be1d01row28_col1\" class=\"data row28 col1\" >/budgeting/cpf-contributions-singapore-guide-interest-rates-minimum-sum-calculator</td>\n",
       "                        <td id=\"T_69c75866_6447_11ea_8ff6_054989be1d01row28_col2\" class=\"data row28 col2\" >20.5453</td>\n",
       "                        <td id=\"T_69c75866_6447_11ea_8ff6_054989be1d01row28_col3\" class=\"data row28 col3\" >20.3795</td>\n",
       "                        <td id=\"T_69c75866_6447_11ea_8ff6_054989be1d01row28_col4\" class=\"data row28 col4\" >9389</td>\n",
       "                        <td id=\"T_69c75866_6447_11ea_8ff6_054989be1d01row28_col5\" class=\"data row28 col5\" >606</td>\n",
       "                        <td id=\"T_69c75866_6447_11ea_8ff6_054989be1d01row28_col6\" class=\"data row28 col6\" >-0.165781</td>\n",
       "                        <td id=\"T_69c75866_6447_11ea_8ff6_054989be1d01row28_col7\" class=\"data row28 col7\" >nan</td>\n",
       "            </tr>\n",
       "            <tr>\n",
       "                        <th id=\"T_69c75866_6447_11ea_8ff6_054989be1d01level0_row29\" class=\"row_heading level0 row29\" >4480</th>\n",
       "                        <td id=\"T_69c75866_6447_11ea_8ff6_054989be1d01row29_col0\" class=\"data row29 col0\" >sg</td>\n",
       "                        <td id=\"T_69c75866_6447_11ea_8ff6_054989be1d01row29_col1\" class=\"data row29 col1\" >/savings-accounts/best-savings-accounts-singapore</td>\n",
       "                        <td id=\"T_69c75866_6447_11ea_8ff6_054989be1d01row29_col2\" class=\"data row29 col2\" >31.1087</td>\n",
       "                        <td id=\"T_69c75866_6447_11ea_8ff6_054989be1d01row29_col3\" class=\"data row29 col3\" >30.113</td>\n",
       "                        <td id=\"T_69c75866_6447_11ea_8ff6_054989be1d01row29_col4\" class=\"data row29 col4\" >12785</td>\n",
       "                        <td id=\"T_69c75866_6447_11ea_8ff6_054989be1d01row29_col5\" class=\"data row29 col5\" >841</td>\n",
       "                        <td id=\"T_69c75866_6447_11ea_8ff6_054989be1d01row29_col6\" class=\"data row29 col6\" >-0.99576</td>\n",
       "                        <td id=\"T_69c75866_6447_11ea_8ff6_054989be1d01row29_col7\" class=\"data row29 col7\" >nan</td>\n",
       "            </tr>\n",
       "            <tr>\n",
       "                        <th id=\"T_69c75866_6447_11ea_8ff6_054989be1d01level0_row30\" class=\"row_heading level0 row30\" >2879</th>\n",
       "                        <td id=\"T_69c75866_6447_11ea_8ff6_054989be1d01row30_col0\" class=\"data row30 col0\" >sg</td>\n",
       "                        <td id=\"T_69c75866_6447_11ea_8ff6_054989be1d01row30_col1\" class=\"data row30 col1\" >/credit-cards/best-1-1-buffet-dining-promotions-singapore</td>\n",
       "                        <td id=\"T_69c75866_6447_11ea_8ff6_054989be1d01row30_col2\" class=\"data row30 col2\" >26.241</td>\n",
       "                        <td id=\"T_69c75866_6447_11ea_8ff6_054989be1d01row30_col3\" class=\"data row30 col3\" >22.3776</td>\n",
       "                        <td id=\"T_69c75866_6447_11ea_8ff6_054989be1d01row30_col4\" class=\"data row30 col4\" >28988</td>\n",
       "                        <td id=\"T_69c75866_6447_11ea_8ff6_054989be1d01row30_col5\" class=\"data row30 col5\" >2002</td>\n",
       "                        <td id=\"T_69c75866_6447_11ea_8ff6_054989be1d01row30_col6\" class=\"data row30 col6\" >-3.86341</td>\n",
       "                        <td id=\"T_69c75866_6447_11ea_8ff6_054989be1d01row30_col7\" class=\"data row30 col7\" >nan</td>\n",
       "            </tr>\n",
       "            <tr>\n",
       "                        <th id=\"T_69c75866_6447_11ea_8ff6_054989be1d01level0_row31\" class=\"row_heading level0 row31\" >3539</th>\n",
       "                        <td id=\"T_69c75866_6447_11ea_8ff6_054989be1d01row31_col0\" class=\"data row31 col0\" >sg</td>\n",
       "                        <td id=\"T_69c75866_6447_11ea_8ff6_054989be1d01row31_col1\" class=\"data row31 col1\" >/fixed-deposits/best-fixed-deposit-accounts-singapore</td>\n",
       "                        <td id=\"T_69c75866_6447_11ea_8ff6_054989be1d01row31_col2\" class=\"data row31 col2\" >27.7247</td>\n",
       "                        <td id=\"T_69c75866_6447_11ea_8ff6_054989be1d01row31_col3\" class=\"data row31 col3\" >30.6509</td>\n",
       "                        <td id=\"T_69c75866_6447_11ea_8ff6_054989be1d01row31_col4\" class=\"data row31 col4\" >34839</td>\n",
       "                        <td id=\"T_69c75866_6447_11ea_8ff6_054989be1d01row31_col5\" class=\"data row31 col5\" >1982</td>\n",
       "                        <td id=\"T_69c75866_6447_11ea_8ff6_054989be1d01row31_col6\" class=\"data row31 col6\" >2.92618</td>\n",
       "                        <td id=\"T_69c75866_6447_11ea_8ff6_054989be1d01row31_col7\" class=\"data row31 col7\" >nan</td>\n",
       "            </tr>\n",
       "    </tbody></table>"
      ],
      "text/plain": [
       "<pandas.io.formats.style.Styler at 0x7f04b0b01898>"
      ]
     },
     "execution_count": 936,
     "metadata": {},
     "output_type": "execute_result"
    }
   ],
   "source": [
    "g = problem_pages_by_depth[(problem_pages_by_depth[\"num_pageviews\", True]>100) & (problem_pages_by_depth[\"av_max_article_read_depth\", True]<40)].sort_values((\"num_pageviews\", False))\n",
    "\n",
    "color_scroll_depth_table(g)"
   ]
  },
  {
   "cell_type": "code",
   "execution_count": 937,
   "metadata": {},
   "outputs": [
    {
     "data": {
      "text/html": [
       "<style  type=\"text/css\" >\n",
       "    #T_69d30e18_6447_11ea_8ff6_054989be1d01row0_col6 {\n",
       "            background-color:  rgb(255,175,175);\n",
       "        }    #T_69d30e18_6447_11ea_8ff6_054989be1d01row1_col6 {\n",
       "            background-color:  rgb(255,164,164);\n",
       "        }    #T_69d30e18_6447_11ea_8ff6_054989be1d01row2_col6 {\n",
       "            background-color:  rgb(255,156,156);\n",
       "        }    #T_69d30e18_6447_11ea_8ff6_054989be1d01row3_col6 {\n",
       "            background-color:  rgb(255,189,189);\n",
       "        }    #T_69d30e18_6447_11ea_8ff6_054989be1d01row4_col6 {\n",
       "            background-color:  rgb(255,194,194);\n",
       "        }    #T_69d30e18_6447_11ea_8ff6_054989be1d01row5_col6 {\n",
       "            background-color:  rgb(255,143,143);\n",
       "        }    #T_69d30e18_6447_11ea_8ff6_054989be1d01row6_col6 {\n",
       "            background-color:  rgb(255,153,153);\n",
       "        }    #T_69d30e18_6447_11ea_8ff6_054989be1d01row7_col6 {\n",
       "            background-color:  rgb(255,181,181);\n",
       "        }    #T_69d30e18_6447_11ea_8ff6_054989be1d01row8_col6 {\n",
       "            background-color:  rgb(255,174,174);\n",
       "        }    #T_69d30e18_6447_11ea_8ff6_054989be1d01row9_col6 {\n",
       "            background-color:  rgb(255,169,169);\n",
       "        }    #T_69d30e18_6447_11ea_8ff6_054989be1d01row10_col6 {\n",
       "            background-color:  rgb(255,177,177);\n",
       "        }    #T_69d30e18_6447_11ea_8ff6_054989be1d01row11_col6 {\n",
       "            background-color:  rgb(255,198,198);\n",
       "        }    #T_69d30e18_6447_11ea_8ff6_054989be1d01row12_col6 {\n",
       "            background-color:  rgb(255,137,137);\n",
       "        }    #T_69d30e18_6447_11ea_8ff6_054989be1d01row13_col6 {\n",
       "            background-color:  rgb(255,209,209);\n",
       "        }    #T_69d30e18_6447_11ea_8ff6_054989be1d01row14_col6 {\n",
       "            background-color:  rgb(255,190,190);\n",
       "        }    #T_69d30e18_6447_11ea_8ff6_054989be1d01row15_col6 {\n",
       "            background-color:  rgb(255,196,196);\n",
       "        }    #T_69d30e18_6447_11ea_8ff6_054989be1d01row16_col6 {\n",
       "            background-color:  rgb(255,193,193);\n",
       "        }</style><table id=\"T_69d30e18_6447_11ea_8ff6_054989be1d01\" ><thead>    <tr>        <th class=\"blank level0\" ></th>        <th class=\"col_heading level0 col0\" >country_code</th>        <th class=\"col_heading level0 col1\" >slug</th>        <th class=\"col_heading level0 col2\" colspan=2>av_max_article_read_depth</th>        <th class=\"col_heading level0 col4\" colspan=2>num_pageviews</th>        <th class=\"col_heading level0 col6\" >av_max_article_read_depth</th>        <th class=\"col_heading level0 col7\" >url</th>    </tr>    <tr>        <th class=\"index_name level1\" >is_test</th>        <th class=\"col_heading level1 col0\" ></th>        <th class=\"col_heading level1 col1\" ></th>        <th class=\"col_heading level1 col2\" >False</th>        <th class=\"col_heading level1 col3\" >True</th>        <th class=\"col_heading level1 col4\" >False</th>        <th class=\"col_heading level1 col5\" >True</th>        <th class=\"col_heading level1 col6\" >v2_vs_v1</th>        <th class=\"col_heading level1 col7\" ></th>    </tr></thead><tbody>\n",
       "                <tr>\n",
       "                        <th id=\"T_69d30e18_6447_11ea_8ff6_054989be1d01level0_row0\" class=\"row_heading level0 row0\" >1451</th>\n",
       "                        <td id=\"T_69d30e18_6447_11ea_8ff6_054989be1d01row0_col0\" class=\"data row0 col0\" >hk</td>\n",
       "                        <td id=\"T_69d30e18_6447_11ea_8ff6_054989be1d01row0_col1\" class=\"data row0 col1\" >/zh-hk/mortgage/%E5%B1%85%E5%B1%8B-2019-%E7%99%BD%E5%B1%85%E4%BA%8C-%E6%8C%89%E6%8F%AD-%E7%94%B3%E8%AB%8B-%E5%85%A5%E6%81%AF-%E8%B3%87%E7%94%A2</td>\n",
       "                        <td id=\"T_69d30e18_6447_11ea_8ff6_054989be1d01row0_col2\" class=\"data row0 col2\" >40.1996</td>\n",
       "                        <td id=\"T_69d30e18_6447_11ea_8ff6_054989be1d01row0_col3\" class=\"data row0 col3\" >30.8559</td>\n",
       "                        <td id=\"T_69d30e18_6447_11ea_8ff6_054989be1d01row0_col4\" class=\"data row0 col4\" >977</td>\n",
       "                        <td id=\"T_69d30e18_6447_11ea_8ff6_054989be1d01row0_col5\" class=\"data row0 col5\" >111</td>\n",
       "                        <td id=\"T_69d30e18_6447_11ea_8ff6_054989be1d01row0_col6\" class=\"data row0 col6\" >-9.34373</td>\n",
       "                        <td id=\"T_69d30e18_6447_11ea_8ff6_054989be1d01row0_col7\" class=\"data row0 col7\" >nan</td>\n",
       "            </tr>\n",
       "            <tr>\n",
       "                        <th id=\"T_69d30e18_6447_11ea_8ff6_054989be1d01level0_row1\" class=\"row_heading level0 row1\" >359</th>\n",
       "                        <td id=\"T_69d30e18_6447_11ea_8ff6_054989be1d01row1_col0\" class=\"data row1 col0\" >hk</td>\n",
       "                        <td id=\"T_69d30e18_6447_11ea_8ff6_054989be1d01row1_col1\" class=\"data row1 col1\" >/zh-hk/budgeting/%E6%90%AC%E5%B1%8B-%E6%94%B6%E8%B2%BB-%E6%90%AC%E5%B1%8B%E5%85%AC%E5%8F%B8-%E5%83%B9%E9%8C%A2-%E9%99%84%E5%8A%A0%E8%B2%BB-%E6%AF%94%E8%BC%83-%E6%B6%88%E5%A7%94%E6%9C%83</td>\n",
       "                        <td id=\"T_69d30e18_6447_11ea_8ff6_054989be1d01row1_col2\" class=\"data row1 col2\" >57.8937</td>\n",
       "                        <td id=\"T_69d30e18_6447_11ea_8ff6_054989be1d01row1_col3\" class=\"data row1 col3\" >47.1983</td>\n",
       "                        <td id=\"T_69d30e18_6447_11ea_8ff6_054989be1d01row1_col4\" class=\"data row1 col4\" >1213</td>\n",
       "                        <td id=\"T_69d30e18_6447_11ea_8ff6_054989be1d01row1_col5\" class=\"data row1 col5\" >116</td>\n",
       "                        <td id=\"T_69d30e18_6447_11ea_8ff6_054989be1d01row1_col6\" class=\"data row1 col6\" >-10.6954</td>\n",
       "                        <td id=\"T_69d30e18_6447_11ea_8ff6_054989be1d01row1_col7\" class=\"data row1 col7\" >nan</td>\n",
       "            </tr>\n",
       "            <tr>\n",
       "                        <th id=\"T_69d30e18_6447_11ea_8ff6_054989be1d01level0_row2\" class=\"row_heading level0 row2\" >1473</th>\n",
       "                        <td id=\"T_69d30e18_6447_11ea_8ff6_054989be1d01row2_col0\" class=\"data row2 col0\" >hk</td>\n",
       "                        <td id=\"T_69d30e18_6447_11ea_8ff6_054989be1d01row2_col1\" class=\"data row2 col1\" >/zh-hk/mortgage/%E6%8C%89%E6%8F%AD-h%E6%8C%89-p%E6%8C%89-hibor-%E5%8A%A0%E6%81%AF-%E9%8A%80%E8%A1%8C-%E5%B0%81%E9%A0%82%E4%BD%8D</td>\n",
       "                        <td id=\"T_69d30e18_6447_11ea_8ff6_054989be1d01row2_col2\" class=\"data row2 col2\" >57.5805</td>\n",
       "                        <td id=\"T_69d30e18_6447_11ea_8ff6_054989be1d01row2_col3\" class=\"data row2 col3\" >45.9424</td>\n",
       "                        <td id=\"T_69d30e18_6447_11ea_8ff6_054989be1d01row2_col4\" class=\"data row2 col4\" >1583</td>\n",
       "                        <td id=\"T_69d30e18_6447_11ea_8ff6_054989be1d01row2_col5\" class=\"data row2 col5\" >191</td>\n",
       "                        <td id=\"T_69d30e18_6447_11ea_8ff6_054989be1d01row2_col6\" class=\"data row2 col6\" >-11.6381</td>\n",
       "                        <td id=\"T_69d30e18_6447_11ea_8ff6_054989be1d01row2_col7\" class=\"data row2 col7\" >nan</td>\n",
       "            </tr>\n",
       "            <tr>\n",
       "                        <th id=\"T_69d30e18_6447_11ea_8ff6_054989be1d01level0_row3\" class=\"row_heading level0 row3\" >1476</th>\n",
       "                        <td id=\"T_69d30e18_6447_11ea_8ff6_054989be1d01row3_col0\" class=\"data row3 col0\" >hk</td>\n",
       "                        <td id=\"T_69d30e18_6447_11ea_8ff6_054989be1d01row3_col1\" class=\"data row3 col1\" >/zh-hk/mortgage/%E6%97%A5%E5%87%BA%E5%BA%B7%E5%9F%8E-6%E6%9C%9F-%E9%A0%98%E9%83%BD-montara-malibu</td>\n",
       "                        <td id=\"T_69d30e18_6447_11ea_8ff6_054989be1d01row3_col2\" class=\"data row3 col2\" >57.803</td>\n",
       "                        <td id=\"T_69d30e18_6447_11ea_8ff6_054989be1d01row3_col3\" class=\"data row3 col3\" >50.1397</td>\n",
       "                        <td id=\"T_69d30e18_6447_11ea_8ff6_054989be1d01row3_col4\" class=\"data row3 col4\" >1650</td>\n",
       "                        <td id=\"T_69d30e18_6447_11ea_8ff6_054989be1d01row3_col5\" class=\"data row3 col5\" >179</td>\n",
       "                        <td id=\"T_69d30e18_6447_11ea_8ff6_054989be1d01row3_col6\" class=\"data row3 col6\" >-7.66337</td>\n",
       "                        <td id=\"T_69d30e18_6447_11ea_8ff6_054989be1d01row3_col7\" class=\"data row3 col7\" >nan</td>\n",
       "            </tr>\n",
       "            <tr>\n",
       "                        <th id=\"T_69d30e18_6447_11ea_8ff6_054989be1d01level0_row4\" class=\"row_heading level0 row4\" >305</th>\n",
       "                        <td id=\"T_69d30e18_6447_11ea_8ff6_054989be1d01row4_col0\" class=\"data row4 col0\" >hk</td>\n",
       "                        <td id=\"T_69d30e18_6447_11ea_8ff6_054989be1d01row4_col1\" class=\"data row4 col1\" >/zh-hk/budgeting/%E5%AF%AC%E9%A0%BB-%E4%B8%8A%E7%B6%B2-%E5%85%89%E7%BA%96%E5%85%A5%E5%B1%8B-%E6%AF%94%E8%BC%83</td>\n",
       "                        <td id=\"T_69d30e18_6447_11ea_8ff6_054989be1d01row4_col2\" class=\"data row4 col2\" >53.1331</td>\n",
       "                        <td id=\"T_69d30e18_6447_11ea_8ff6_054989be1d01row4_col3\" class=\"data row4 col3\" >46.0046</td>\n",
       "                        <td id=\"T_69d30e18_6447_11ea_8ff6_054989be1d01row4_col4\" class=\"data row4 col4\" >1923</td>\n",
       "                        <td id=\"T_69d30e18_6447_11ea_8ff6_054989be1d01row4_col5\" class=\"data row4 col5\" >219</td>\n",
       "                        <td id=\"T_69d30e18_6447_11ea_8ff6_054989be1d01row4_col6\" class=\"data row4 col6\" >-7.12856</td>\n",
       "                        <td id=\"T_69d30e18_6447_11ea_8ff6_054989be1d01row4_col7\" class=\"data row4 col7\" >nan</td>\n",
       "            </tr>\n",
       "            <tr>\n",
       "                        <th id=\"T_69d30e18_6447_11ea_8ff6_054989be1d01level0_row5\" class=\"row_heading level0 row5\" >1155</th>\n",
       "                        <td id=\"T_69d30e18_6447_11ea_8ff6_054989be1d01row5_col0\" class=\"data row5 col0\" >hk</td>\n",
       "                        <td id=\"T_69d30e18_6447_11ea_8ff6_054989be1d01row5_col1\" class=\"data row5 col1\" >/zh-hk/family/%E9%9B%A2%E5%A9%9A-%E6%89%8B%E7%BA%8C-%E5%BE%8B%E5%B8%AB-%E7%A8%8B%E5%BA%8F-%E8%B2%BB%E7%94%A8</td>\n",
       "                        <td id=\"T_69d30e18_6447_11ea_8ff6_054989be1d01row5_col2\" class=\"data row5 col2\" >55.9324</td>\n",
       "                        <td id=\"T_69d30e18_6447_11ea_8ff6_054989be1d01row5_col3\" class=\"data row5 col3\" >42.8431</td>\n",
       "                        <td id=\"T_69d30e18_6447_11ea_8ff6_054989be1d01row5_col4\" class=\"data row5 col4\" >2145</td>\n",
       "                        <td id=\"T_69d30e18_6447_11ea_8ff6_054989be1d01row5_col5\" class=\"data row5 col5\" >255</td>\n",
       "                        <td id=\"T_69d30e18_6447_11ea_8ff6_054989be1d01row5_col6\" class=\"data row5 col6\" >-13.0893</td>\n",
       "                        <td id=\"T_69d30e18_6447_11ea_8ff6_054989be1d01row5_col7\" class=\"data row5 col7\" >nan</td>\n",
       "            </tr>\n",
       "            <tr>\n",
       "                        <th id=\"T_69d30e18_6447_11ea_8ff6_054989be1d01level0_row6\" class=\"row_heading level0 row6\" >937</th>\n",
       "                        <td id=\"T_69d30e18_6447_11ea_8ff6_054989be1d01row6_col0\" class=\"data row6 col0\" >hk</td>\n",
       "                        <td id=\"T_69d30e18_6447_11ea_8ff6_054989be1d01row6_col1\" class=\"data row6 col1\" >/zh-hk/credit-cards/%E9%85%92%E5%BA%97%E8%87%AA%E5%8A%A9%E9%A4%90-%E8%B2%B7%E4%B8%80%E9%80%81%E4%B8%80-%E4%BF%A1%E7%94%A8%E5%8D%A1-%E5%84%AA%E6%83%A0-%E6%8A%98%E6%89%A3</td>\n",
       "                        <td id=\"T_69d30e18_6447_11ea_8ff6_054989be1d01row6_col2\" class=\"data row6 col2\" >67.732</td>\n",
       "                        <td id=\"T_69d30e18_6447_11ea_8ff6_054989be1d01row6_col3\" class=\"data row6 col3\" >55.7479</td>\n",
       "                        <td id=\"T_69d30e18_6447_11ea_8ff6_054989be1d01row6_col4\" class=\"data row6 col4\" >3340</td>\n",
       "                        <td id=\"T_69d30e18_6447_11ea_8ff6_054989be1d01row6_col5\" class=\"data row6 col5\" >361</td>\n",
       "                        <td id=\"T_69d30e18_6447_11ea_8ff6_054989be1d01row6_col6\" class=\"data row6 col6\" >-11.9841</td>\n",
       "                        <td id=\"T_69d30e18_6447_11ea_8ff6_054989be1d01row6_col7\" class=\"data row6 col7\" >nan</td>\n",
       "            </tr>\n",
       "            <tr>\n",
       "                        <th id=\"T_69d30e18_6447_11ea_8ff6_054989be1d01level0_row7\" class=\"row_heading level0 row7\" >250</th>\n",
       "                        <td id=\"T_69d30e18_6447_11ea_8ff6_054989be1d01row7_col0\" class=\"data row7 col0\" >hk</td>\n",
       "                        <td id=\"T_69d30e18_6447_11ea_8ff6_054989be1d01row7_col1\" class=\"data row7 col1\" >/zh-hk/budgeting/%E5%84%AA%E6%83%A0%E7%A2%BC-%E5%A4%96%E8%B3%A3app-deliveroo-foodpanda-ubereats-e%E8%82%9A%E4%BB%94</td>\n",
       "                        <td id=\"T_69d30e18_6447_11ea_8ff6_054989be1d01row7_col2\" class=\"data row7 col2\" >49.7665</td>\n",
       "                        <td id=\"T_69d30e18_6447_11ea_8ff6_054989be1d01row7_col3\" class=\"data row7 col3\" >41.1333</td>\n",
       "                        <td id=\"T_69d30e18_6447_11ea_8ff6_054989be1d01row7_col4\" class=\"data row7 col4\" >6853</td>\n",
       "                        <td id=\"T_69d30e18_6447_11ea_8ff6_054989be1d01row7_col5\" class=\"data row7 col5\" >750</td>\n",
       "                        <td id=\"T_69d30e18_6447_11ea_8ff6_054989be1d01row7_col6\" class=\"data row7 col6\" >-8.63319</td>\n",
       "                        <td id=\"T_69d30e18_6447_11ea_8ff6_054989be1d01row7_col7\" class=\"data row7 col7\" >nan</td>\n",
       "            </tr>\n",
       "            <tr>\n",
       "                        <th id=\"T_69d30e18_6447_11ea_8ff6_054989be1d01level0_row8\" class=\"row_heading level0 row8\" >326</th>\n",
       "                        <td id=\"T_69d30e18_6447_11ea_8ff6_054989be1d01row8_col0\" class=\"data row8 col0\" >hk</td>\n",
       "                        <td id=\"T_69d30e18_6447_11ea_8ff6_054989be1d01row8_col1\" class=\"data row8 col1\" >/zh-hk/budgeting/%E5%BD%B1%E7%89%87%E4%B8%B2%E6%B5%81-netflix-hmvod-primevideo-hbogo-%E6%9C%88%E8%B2%BB</td>\n",
       "                        <td id=\"T_69d30e18_6447_11ea_8ff6_054989be1d01row8_col2\" class=\"data row8 col2\" >48.1867</td>\n",
       "                        <td id=\"T_69d30e18_6447_11ea_8ff6_054989be1d01row8_col3\" class=\"data row8 col3\" >38.6788</td>\n",
       "                        <td id=\"T_69d30e18_6447_11ea_8ff6_054989be1d01row8_col4\" class=\"data row8 col4\" >8424</td>\n",
       "                        <td id=\"T_69d30e18_6447_11ea_8ff6_054989be1d01row8_col5\" class=\"data row8 col5\" >965</td>\n",
       "                        <td id=\"T_69d30e18_6447_11ea_8ff6_054989be1d01row8_col6\" class=\"data row8 col6\" >-9.50797</td>\n",
       "                        <td id=\"T_69d30e18_6447_11ea_8ff6_054989be1d01row8_col7\" class=\"data row8 col7\" >nan</td>\n",
       "            </tr>\n",
       "            <tr>\n",
       "                        <th id=\"T_69d30e18_6447_11ea_8ff6_054989be1d01level0_row9\" class=\"row_heading level0 row9\" >3619</th>\n",
       "                        <td id=\"T_69d30e18_6447_11ea_8ff6_054989be1d01row9_col0\" class=\"data row9 col0\" >sg</td>\n",
       "                        <td id=\"T_69d30e18_6447_11ea_8ff6_054989be1d01row9_col1\" class=\"data row9 col1\" >/healthcare/counselling-singapore-free-affordable</td>\n",
       "                        <td id=\"T_69d30e18_6447_11ea_8ff6_054989be1d01row9_col2\" class=\"data row9 col2\" >47.7925</td>\n",
       "                        <td id=\"T_69d30e18_6447_11ea_8ff6_054989be1d01row9_col3\" class=\"data row9 col3\" >37.7404</td>\n",
       "                        <td id=\"T_69d30e18_6447_11ea_8ff6_054989be1d01row9_col4\" class=\"data row9 col4\" >1359</td>\n",
       "                        <td id=\"T_69d30e18_6447_11ea_8ff6_054989be1d01row9_col5\" class=\"data row9 col5\" >104</td>\n",
       "                        <td id=\"T_69d30e18_6447_11ea_8ff6_054989be1d01row9_col6\" class=\"data row9 col6\" >-10.0521</td>\n",
       "                        <td id=\"T_69d30e18_6447_11ea_8ff6_054989be1d01row9_col7\" class=\"data row9 col7\" >nan</td>\n",
       "            </tr>\n",
       "            <tr>\n",
       "                        <th id=\"T_69d30e18_6447_11ea_8ff6_054989be1d01level0_row10\" class=\"row_heading level0 row10\" >3317</th>\n",
       "                        <td id=\"T_69d30e18_6447_11ea_8ff6_054989be1d01row10_col0\" class=\"data row10 col0\" >sg</td>\n",
       "                        <td id=\"T_69d30e18_6447_11ea_8ff6_054989be1d01row10_col1\" class=\"data row10 col1\" >/entertainment/movie-ticket-prices-singapore</td>\n",
       "                        <td id=\"T_69d30e18_6447_11ea_8ff6_054989be1d01row10_col2\" class=\"data row10 col2\" >29.8789</td>\n",
       "                        <td id=\"T_69d30e18_6447_11ea_8ff6_054989be1d01row10_col3\" class=\"data row10 col3\" >20.7547</td>\n",
       "                        <td id=\"T_69d30e18_6447_11ea_8ff6_054989be1d01row10_col4\" class=\"data row10 col4\" >1486</td>\n",
       "                        <td id=\"T_69d30e18_6447_11ea_8ff6_054989be1d01row10_col5\" class=\"data row10 col5\" >106</td>\n",
       "                        <td id=\"T_69d30e18_6447_11ea_8ff6_054989be1d01row10_col6\" class=\"data row10 col6\" >-9.12415</td>\n",
       "                        <td id=\"T_69d30e18_6447_11ea_8ff6_054989be1d01row10_col7\" class=\"data row10 col7\" >nan</td>\n",
       "            </tr>\n",
       "            <tr>\n",
       "                        <th id=\"T_69d30e18_6447_11ea_8ff6_054989be1d01level0_row11\" class=\"row_heading level0 row11\" >2275</th>\n",
       "                        <td id=\"T_69d30e18_6447_11ea_8ff6_054989be1d01row11_col0\" class=\"data row11 col0\" >sg</td>\n",
       "                        <td id=\"T_69d30e18_6447_11ea_8ff6_054989be1d01row11_col1\" class=\"data row11 col1\" >/budgeting/mattress-singapore-guide</td>\n",
       "                        <td id=\"T_69d30e18_6447_11ea_8ff6_054989be1d01row11_col2\" class=\"data row11 col2\" >41.3934</td>\n",
       "                        <td id=\"T_69d30e18_6447_11ea_8ff6_054989be1d01row11_col3\" class=\"data row11 col3\" >34.7917</td>\n",
       "                        <td id=\"T_69d30e18_6447_11ea_8ff6_054989be1d01row11_col4\" class=\"data row11 col4\" >1952</td>\n",
       "                        <td id=\"T_69d30e18_6447_11ea_8ff6_054989be1d01row11_col5\" class=\"data row11 col5\" >120</td>\n",
       "                        <td id=\"T_69d30e18_6447_11ea_8ff6_054989be1d01row11_col6\" class=\"data row11 col6\" >-6.60178</td>\n",
       "                        <td id=\"T_69d30e18_6447_11ea_8ff6_054989be1d01row11_col7\" class=\"data row11 col7\" >nan</td>\n",
       "            </tr>\n",
       "            <tr>\n",
       "                        <th id=\"T_69d30e18_6447_11ea_8ff6_054989be1d01level0_row12\" class=\"row_heading level0 row12\" >3827</th>\n",
       "                        <td id=\"T_69d30e18_6447_11ea_8ff6_054989be1d01row12_col0\" class=\"data row12 col0\" >sg</td>\n",
       "                        <td id=\"T_69d30e18_6447_11ea_8ff6_054989be1d01row12_col1\" class=\"data row12 col1\" >/invest/investing-shares-sgx-stocks-singapore</td>\n",
       "                        <td id=\"T_69d30e18_6447_11ea_8ff6_054989be1d01row12_col2\" class=\"data row12 col2\" >49.0161</td>\n",
       "                        <td id=\"T_69d30e18_6447_11ea_8ff6_054989be1d01row12_col3\" class=\"data row12 col3\" >35.1626</td>\n",
       "                        <td id=\"T_69d30e18_6447_11ea_8ff6_054989be1d01row12_col4\" class=\"data row12 col4\" >1982</td>\n",
       "                        <td id=\"T_69d30e18_6447_11ea_8ff6_054989be1d01row12_col5\" class=\"data row12 col5\" >123</td>\n",
       "                        <td id=\"T_69d30e18_6447_11ea_8ff6_054989be1d01row12_col6\" class=\"data row12 col6\" >-13.8535</td>\n",
       "                        <td id=\"T_69d30e18_6447_11ea_8ff6_054989be1d01row12_col7\" class=\"data row12 col7\" >nan</td>\n",
       "            </tr>\n",
       "            <tr>\n",
       "                        <th id=\"T_69d30e18_6447_11ea_8ff6_054989be1d01level0_row13\" class=\"row_heading level0 row13\" >2335</th>\n",
       "                        <td id=\"T_69d30e18_6447_11ea_8ff6_054989be1d01row13_col0\" class=\"data row13 col0\" >sg</td>\n",
       "                        <td id=\"T_69d30e18_6447_11ea_8ff6_054989be1d01row13_col1\" class=\"data row13 col1\" >/budgeting/sentosa-entry-fees-parking-price-guide</td>\n",
       "                        <td id=\"T_69d30e18_6447_11ea_8ff6_054989be1d01row13_col2\" class=\"data row13 col2\" >46.2285</td>\n",
       "                        <td id=\"T_69d30e18_6447_11ea_8ff6_054989be1d01row13_col3\" class=\"data row13 col3\" >40.8416</td>\n",
       "                        <td id=\"T_69d30e18_6447_11ea_8ff6_054989be1d01row13_col4\" class=\"data row13 col4\" >2035</td>\n",
       "                        <td id=\"T_69d30e18_6447_11ea_8ff6_054989be1d01row13_col5\" class=\"data row13 col5\" >101</td>\n",
       "                        <td id=\"T_69d30e18_6447_11ea_8ff6_054989be1d01row13_col6\" class=\"data row13 col6\" >-5.38692</td>\n",
       "                        <td id=\"T_69d30e18_6447_11ea_8ff6_054989be1d01row13_col7\" class=\"data row13 col7\" >nan</td>\n",
       "            </tr>\n",
       "            <tr>\n",
       "                        <th id=\"T_69d30e18_6447_11ea_8ff6_054989be1d01level0_row14\" class=\"row_heading level0 row14\" >3864</th>\n",
       "                        <td id=\"T_69d30e18_6447_11ea_8ff6_054989be1d01row14_col0\" class=\"data row14 col0\" >sg</td>\n",
       "                        <td id=\"T_69d30e18_6447_11ea_8ff6_054989be1d01row14_col1\" class=\"data row14 col1\" >/invest/singapore-savings-bonds-review</td>\n",
       "                        <td id=\"T_69d30e18_6447_11ea_8ff6_054989be1d01row14_col2\" class=\"data row14 col2\" >38.6627</td>\n",
       "                        <td id=\"T_69d30e18_6447_11ea_8ff6_054989be1d01row14_col3\" class=\"data row14 col3\" >31.0547</td>\n",
       "                        <td id=\"T_69d30e18_6447_11ea_8ff6_054989be1d01row14_col4\" class=\"data row14 col4\" >2419</td>\n",
       "                        <td id=\"T_69d30e18_6447_11ea_8ff6_054989be1d01row14_col5\" class=\"data row14 col5\" >128</td>\n",
       "                        <td id=\"T_69d30e18_6447_11ea_8ff6_054989be1d01row14_col6\" class=\"data row14 col6\" >-7.60798</td>\n",
       "                        <td id=\"T_69d30e18_6447_11ea_8ff6_054989be1d01row14_col7\" class=\"data row14 col7\" >nan</td>\n",
       "            </tr>\n",
       "            <tr>\n",
       "                        <th id=\"T_69d30e18_6447_11ea_8ff6_054989be1d01level0_row15\" class=\"row_heading level0 row15\" >3077</th>\n",
       "                        <td id=\"T_69d30e18_6447_11ea_8ff6_054989be1d01row15_col0\" class=\"data row15 col0\" >sg</td>\n",
       "                        <td id=\"T_69d30e18_6447_11ea_8ff6_054989be1d01row15_col1\" class=\"data row15 col1\" >/dining/cheap-korean-bbq-buffets-singapore</td>\n",
       "                        <td id=\"T_69d30e18_6447_11ea_8ff6_054989be1d01row15_col2\" class=\"data row15 col2\" >46.4351</td>\n",
       "                        <td id=\"T_69d30e18_6447_11ea_8ff6_054989be1d01row15_col3\" class=\"data row15 col3\" >39.5105</td>\n",
       "                        <td id=\"T_69d30e18_6447_11ea_8ff6_054989be1d01row15_col4\" class=\"data row15 col4\" >2735</td>\n",
       "                        <td id=\"T_69d30e18_6447_11ea_8ff6_054989be1d01row15_col5\" class=\"data row15 col5\" >143</td>\n",
       "                        <td id=\"T_69d30e18_6447_11ea_8ff6_054989be1d01row15_col6\" class=\"data row15 col6\" >-6.92461</td>\n",
       "                        <td id=\"T_69d30e18_6447_11ea_8ff6_054989be1d01row15_col7\" class=\"data row15 col7\" >nan</td>\n",
       "            </tr>\n",
       "            <tr>\n",
       "                        <th id=\"T_69d30e18_6447_11ea_8ff6_054989be1d01level0_row16\" class=\"row_heading level0 row16\" >4464</th>\n",
       "                        <td id=\"T_69d30e18_6447_11ea_8ff6_054989be1d01row16_col0\" class=\"data row16 col0\" >sg</td>\n",
       "                        <td id=\"T_69d30e18_6447_11ea_8ff6_054989be1d01row16_col1\" class=\"data row16 col1\" >/renovation-loans/renovation-singapore</td>\n",
       "                        <td id=\"T_69d30e18_6447_11ea_8ff6_054989be1d01row16_col2\" class=\"data row16 col2\" >36.681</td>\n",
       "                        <td id=\"T_69d30e18_6447_11ea_8ff6_054989be1d01row16_col3\" class=\"data row16 col3\" >29.4837</td>\n",
       "                        <td id=\"T_69d30e18_6447_11ea_8ff6_054989be1d01row16_col4\" class=\"data row16 col4\" >3480</td>\n",
       "                        <td id=\"T_69d30e18_6447_11ea_8ff6_054989be1d01row16_col5\" class=\"data row16 col5\" >184</td>\n",
       "                        <td id=\"T_69d30e18_6447_11ea_8ff6_054989be1d01row16_col6\" class=\"data row16 col6\" >-7.19734</td>\n",
       "                        <td id=\"T_69d30e18_6447_11ea_8ff6_054989be1d01row16_col7\" class=\"data row16 col7\" >nan</td>\n",
       "            </tr>\n",
       "    </tbody></table>"
      ],
      "text/plain": [
       "<pandas.io.formats.style.Styler at 0x7f04b0b012e8>"
      ]
     },
     "execution_count": 937,
     "metadata": {},
     "output_type": "execute_result"
    }
   ],
   "source": [
    "g = problem_pages_by_depth[(problem_pages_by_depth[\"num_pageviews\", True]>100) \\\n",
    "                       & ( (problem_pages_by_depth[\"av_max_article_read_depth\", True] - problem_pages_by_depth[\"av_max_article_read_depth\", False]) <-5)].sort_values([\"country_code\", (\"num_pageviews\", False)])\n",
    "\n",
    "color_scroll_depth_table(g)"
   ]
  },
  {
   "cell_type": "markdown",
   "metadata": {},
   "source": [
    "## Problem Pages by AB Split\n",
    "\n",
    "Might indicate pages that don't load at all on v2"
   ]
  },
  {
   "cell_type": "code",
   "execution_count": 938,
   "metadata": {},
   "outputs": [],
   "source": [
    "ab_split = len(scroll_df_with_browser[scroll_df_with_browser.is_test==True]) / len(scroll_df_with_browser)\n",
    "g = problem_pages_by_depth[(problem_pages_by_depth[\"num_pageviews\", False]>100) & ((problem_pages_by_depth[\"num_pageviews\", True] / problem_pages_by_depth[\"num_pageviews\", False]) < 0.5*ab_split)].sort_values([\"country_code\", (\"num_pageviews\", False)])\n"
   ]
  },
  {
   "cell_type": "markdown",
   "metadata": {
    "toc-hr-collapsed": false
   },
   "source": [
    "# Queries to Add\n",
    "```\n",
    "\n",
    "select * from id_pageview_metrics where time_on_page_seconds <5 and max_article_read_depth = 100 limit 100\n",
    "```\n",
    "---\n",
    "```\n",
    "select * from id_engagement_summary order by day_str, is_test \n",
    "\n",
    "```"
   ]
  },
  {
   "cell_type": "code",
   "execution_count": null,
   "metadata": {},
   "outputs": [],
   "source": []
  },
  {
   "cell_type": "code",
   "execution_count": null,
   "metadata": {},
   "outputs": [],
   "source": []
  },
  {
   "cell_type": "code",
   "execution_count": null,
   "metadata": {},
   "outputs": [],
   "source": []
  },
  {
   "cell_type": "markdown",
   "metadata": {},
   "source": [
    "# Data Cleaning\n",
    "\n",
    "* Remove what looks like bots / any really heavy users (not sure if most bots will trigger analytics events)\n"
   ]
  },
  {
   "cell_type": "code",
   "execution_count": null,
   "metadata": {},
   "outputs": [],
   "source": [
    "non_amp_events = events[events.is_amp==False]"
   ]
  },
  {
   "cell_type": "markdown",
   "metadata": {},
   "source": [
    "# ----- Old Stuff, maybe skip  -------\n",
    "\n",
    "Might include some AMP stuff or ideas about what to look at, but the raw dataset was slightly different."
   ]
  },
  {
   "cell_type": "markdown",
   "metadata": {},
   "source": [
    "# Sense Checks"
   ]
  },
  {
   "cell_type": "markdown",
   "metadata": {},
   "source": [
    "## Overall AB Split\n",
    "\n",
    "Theories about why the AB split won't match what is \"set\" on the AB splitter:\n",
    "\n",
    "* Repeat users will almost always be in the control set, and we have built up a good backlog over a couple of months (40% of our users are returning from google analytics, but that is over full lifetime of the cookie https://analytics.google.com/analytics/web/?authuser=2#/report/visitors-type/a117250120w173910722p173182279/ )\n",
    "* Potenially it's related to coming from AMP (don't think so)\n",
    "* Potentially it's based on origin of the traffic (e.g. certain query params, but this has been turned off)."
   ]
  },
  {
   "cell_type": "code",
   "execution_count": null,
   "metadata": {},
   "outputs": [],
   "source": [
    "ab_split_summary = non_amp_events.groupby(\"is_test\").count()[\"sent_at\"]\n",
    "ab_split_summary_pretty = [[(\"Test (v2)\" if z[0] else \"Control (v1)\"), z[1]] for z in ab_split_summary.iteritems()]\n",
    "\n",
    "\n",
    "import plotly.graph_objects as go\n",
    "fig = make_subplots(1, 1)\n",
    "\n",
    "fig.add_trace(\n",
    "    go.Pie(values=[z[1] for z in ab_split_summary_pretty], labels=[z[0] for z in ab_split_summary_pretty]),\n",
    ")\n",
    "\n",
    "                \n",
    "fig.show()"
   ]
  },
  {
   "cell_type": "code",
   "execution_count": null,
   "metadata": {},
   "outputs": [],
   "source": [
    "\n"
   ]
  },
  {
   "cell_type": "markdown",
   "metadata": {},
   "source": [
    "## Type of Event"
   ]
  },
  {
   "cell_type": "code",
   "execution_count": null,
   "metadata": {},
   "outputs": [],
   "source": [
    "len(events)"
   ]
  },
  {
   "cell_type": "code",
   "execution_count": null,
   "metadata": {},
   "outputs": [],
   "source": [
    "event_name_counts = events.groupby(events.event_name).size()\n",
    "event_name_counts\n"
   ]
  },
  {
   "cell_type": "code",
   "execution_count": null,
   "metadata": {},
   "outputs": [],
   "source": [
    "plt.pie(event_name_counts, labels=event_name_counts.keys())"
   ]
  },
  {
   "cell_type": "code",
   "execution_count": null,
   "metadata": {},
   "outputs": [],
   "source": [
    "# Doing this sense check on the event fields, not the computed depth\n",
    "expected_statuses = [\"Article Body {}\".format(i) for i in [0, 25, 50, 75, 100]]\n",
    "expected_statuses_set = set(expected_statuses)\n",
    "reading_status_counts = events[events.event_name==\"Reading\"].groupby([events.status, events.is_test]).count()['sent_at'] #[[\"event_name\", \"is_test\" ], :]\n",
    "reading_status_counts.sort_index()\n",
    "reading_status_counts = [[z[0][0], z[0][1], z[1]] for z in reading_status_counts.iteritems()]\n",
    "test_reading_status_counts = [z for z in reading_status_counts if z[1]==True]\n",
    "control_reading_status_counts = [z for z in reading_status_counts if z[1]==True]\n",
    "\n",
    "for name, reading_statuses in [[\"Test\", test_reading_status_counts], [\"Control\", control_reading_status_counts]]:\n",
    "    statuses_set = set([z[0] for z in reading_statuses])\n",
    "    missing_statuses = list(expected_statuses_set - statuses_set)\n",
    "    extra_statuses = list(statuses_set - expected_statuses_set)\n",
    "    \n",
    "    if len(missing_statuses)>0:\n",
    "        print(\"ERROR: Missing expected statuses for Reading event in \"+name+\": \" + \", \".join(missing_statuses))\n",
    "        \n",
    "    if len(extra_statuses)>0:\n",
    "        print(\"ERROR: Unexpected statuses for Reading event in \"+name+\": \" + \", \".join(extra_statuses))\n",
    "                        \n",
    "# Going to look at scroll depth comparison lower down, so don't need to worry about it just now.\n"
   ]
  },
  {
   "cell_type": "code",
   "execution_count": null,
   "metadata": {},
   "outputs": [],
   "source": [
    "expected_statuses"
   ]
  },
  {
   "cell_type": "code",
   "execution_count": null,
   "metadata": {},
   "outputs": [],
   "source": []
  },
  {
   "cell_type": "code",
   "execution_count": null,
   "metadata": {},
   "outputs": [],
   "source": []
  },
  {
   "cell_type": "markdown",
   "metadata": {},
   "source": [
    "## Pageviews Grouped\n",
    "\n",
    "* By category\n",
    "* By device\n",
    "* By query params (limited to the top n, and grouping glcid and fbclid)\n",
    "\n",
    "... and for each one give the v2 percentage (which might need another chart)"
   ]
  },
  {
   "cell_type": "code",
   "execution_count": null,
   "metadata": {},
   "outputs": [],
   "source": []
  },
  {
   "cell_type": "markdown",
   "metadata": {},
   "source": [
    "## Distribution Over Time"
   ]
  },
  {
   "cell_type": "code",
   "execution_count": null,
   "metadata": {},
   "outputs": [],
   "source": [
    "# Group by hour and plot with time axis\n",
    "events.groupby([events.sent_at_timestamp.hour, events.is_test]).count()"
   ]
  },
  {
   "cell_type": "markdown",
   "metadata": {},
   "source": [
    "# Scroll Depth Distributions\n",
    "\n",
    "By split:\n",
    "* How far down the page does a user scroll on average (table and plot)\n",
    "* Time to reach a point down the page (charts) \n"
   ]
  },
  {
   "cell_type": "code",
   "execution_count": null,
   "metadata": {},
   "outputs": [],
   "source": []
  },
  {
   "cell_type": "markdown",
   "metadata": {},
   "source": [
    "# Pageview Per Session\n",
    "\n",
    "* Where they click (future)\n",
    "* "
   ]
  },
  {
   "cell_type": "code",
   "execution_count": null,
   "metadata": {},
   "outputs": [],
   "source": []
  },
  {
   "cell_type": "markdown",
   "metadata": {},
   "source": [
    "# Exploring by Browser / Device\n",
    "\n",
    "We've seen issues on Babe, UCBrowser etc.  Need to check if there are issues from those platforms.\n",
    "\n",
    "The issues we saw likely resulted in scroll depth issues.  I'm also not sure what analytics we're going to get from those platform, so just generally need to poke it."
   ]
  },
  {
   "cell_type": "markdown",
   "metadata": {},
   "source": [
    "## Hacky Events By Device Type"
   ]
  },
  {
   "cell_type": "code",
   "execution_count": null,
   "metadata": {},
   "outputs": [],
   "source": [
    "events.head()\n",
    "events[events.event_name==\"PageView\"].head()"
   ]
  },
  {
   "cell_type": "code",
   "execution_count": null,
   "metadata": {},
   "outputs": [],
   "source": [
    "# Get the events for a given day by device type, across all URLs\n",
    "\n",
    "\n",
    "\"\"\", context.device.type as device_type\n",
    "        , context.browser.name as browser_name\n",
    "        , context.browser.major as browser_major_version\n",
    "        , context.browser.version as browser_version\n",
    "        \n",
    "        , context.operating_system.name as operating_system_name\n",
    "        , context.operating_system.version as operating_system_version\n",
    "        , context.user_agent as user_agent\"\"\"\n",
    "\n",
    "#cols_to_group_by = [\"event_name\", \"status\",  \"device_type\", \"browser_name\", \"browser_version\"]\n",
    "cols_to_group_by = [\"event_name\", \"status\",  \"device_type\", \"browser_name\"]\n",
    "# cols_to_group_by = [\"event_name\", \"status\",  \"device_type\", \"browser_name\", \"user_agent\"]\n",
    "#cols_to_group_by  = [\"event_name\", \"status\",  \"device_type\", ]\n",
    "# combined_raw_df  = events.groupby(cols_to_group_by+[\"is_test\",]).size()\n",
    "\n",
    "combined_raw_df = pd.DataFrame({\"count\":events.fillna(0).groupby(cols_to_group_by+[\"is_test\",]).size()}).reset_index()  #fillna(-1) is to stop it removing Nulls \n",
    "\n",
    "# combined_raw_df[combined_raw_df.event_name==\"PageView\"]\n"
   ]
  },
  {
   "cell_type": "code",
   "execution_count": null,
   "metadata": {},
   "outputs": [],
   "source": [
    "# combined_raw_df[combined_raw_df.is_test==True]"
   ]
  },
  {
   "cell_type": "code",
   "execution_count": null,
   "metadata": {},
   "outputs": [],
   "source": [
    "\n",
    "\n",
    "# join across both sides of the AB test\n",
    "test_df =combined_raw_df[combined_raw_df.is_test==True]\n",
    "test_df = test_df.rename(columns={\"count\":\"test_count\"}) #in_place = True\n",
    "control_df = combined_raw_df[combined_raw_df.is_test==False]\n",
    "control_df = control_df.rename(columns={\"count\":\"control_count\"})\n",
    "\n",
    "print(test_df.head(20))\n",
    "\n",
    "#print(control_df.head())\n",
    "\n",
    "\n",
    "\n",
    "#print(test_df.keys)\n",
    "test_df.reset_index()\n",
    "#print(20*\"-\")\n",
    "#print(test_df.keys())\n",
    "#print(test_df.columns)\n",
    "test_df\n",
    "control_df.reset_index()\n",
    "test_df = test_df.set_index(cols_to_group_by)\n",
    "control_df = control_df.set_index(cols_to_group_by)\n",
    "\n",
    "combined_df = test_df.join(control_df, rsuffix=\"_\").reset_index()\n",
    "#combined_df.fillna(0) #get rid of NaN"
   ]
  },
  {
   "cell_type": "code",
   "execution_count": null,
   "metadata": {},
   "outputs": [],
   "source": [
    "combined_df[\"test_fraction\"] = combined_df.apply (lambda row: row.test_count/(row.control_count + row.test_count), axis=1)"
   ]
  },
  {
   "cell_type": "code",
   "execution_count": null,
   "metadata": {},
   "outputs": [],
   "source": [
    "combined_df.head()"
   ]
  },
  {
   "cell_type": "code",
   "execution_count": null,
   "metadata": {},
   "outputs": [],
   "source": [
    "#combined_df[combined_df['control_count']>1000][combined_df['browser_name']==\"Facebook\"].sort_values([\"browser_name\", \"browser_version\", \"status\"]) #.to_csv(\"results.csv\")\n",
    "#combined_df[combined_df['control_count']>1000][combined_df['browser_name']==\"UCBrowser\"][(combined_df['event_name']==\"PageView\")  | (combined_df['status']==\"Article Body 100\")].sort_values([\"device_type\",\"browser_name\",\"status\"]) #.to_csv(\"results.csv\")\n",
    "# \"test_fraction\", \n",
    "#.sort_values([\"control_count\"])#\n",
    "\n",
    "combined_df[combined_df['control_count']>1000][combined_df['browser_name']==\"Facebook\"].sort_values([\"status\", \"browser_name\"]) #.to_csv(\"results.csv\")\n",
    "\n",
    "# df = combined_df[combined_df['control_count']>100].sort_values([\"user_agent\", \"event_name\",\"status\"])\n",
    "# df.to_csv(\"test_fraction_by_user_agent.csv\")\n",
    "\n",
    "# combined_df[combined_df['control_count']>1000].sort_values([\"browser_name\", \"browser_version\", \"status\"]) #.to_csv(\"results.csv\")\n",
    "\n",
    "#combined_df[combined_df['control_count']>100][combined_df['test_count']>50].sort_values([\"test_fraction\"])\n"
   ]
  },
  {
   "cell_type": "code",
   "execution_count": null,
   "metadata": {},
   "outputs": [],
   "source": [
    "208638.0 / len(events[events.event_name==\"PageView\"])"
   ]
  },
  {
   "cell_type": "code",
   "execution_count": null,
   "metadata": {},
   "outputs": [],
   "source": [
    "len(events[events.is_amp==True][events.event_name==\"PageView\"])"
   ]
  },
  {
   "cell_type": "markdown",
   "metadata": {},
   "source": [
    "## Hacky Check That No Pages Have Issues"
   ]
  },
  {
   "cell_type": "code",
   "execution_count": null,
   "metadata": {},
   "outputs": [],
   "source": [
    "events.head()\n"
   ]
  },
  {
   "cell_type": "code",
   "execution_count": null,
   "metadata": {},
   "outputs": [],
   "source": [
    "cols_to_group_by = [\"canonical_url\",\"type\", \"event_name\", \"status\", \"is_test\", \"device_type\"]\n",
    "# events_by_url = events.groupby(cols_to_group_by)\n",
    "# events_by_url.head()\n",
    "\n",
    "combined_raw_df = pd.DataFrame({\"count\":events.fillna(0).groupby(cols_to_group_by).size()}).reset_index()\n",
    "combined_raw_df"
   ]
  },
  {
   "cell_type": "code",
   "execution_count": null,
   "metadata": {},
   "outputs": [],
   "source": [
    "\n",
    "# join across both sides of the AB test\n",
    "test_df =combined_raw_df[combined_raw_df.is_test==True]\n",
    "test_df = test_df.rename(columns={\"count\":\"test_count\"}) #in_place = True\n",
    "control_df = combined_raw_df[combined_raw_df.is_test==False]\n",
    "control_df = control_df.rename(columns={\"count\":\"control_count\"})\n",
    "\n",
    "print(test_df.head(20))\n",
    "\n",
    "#print(control_df.head())\n",
    "\n",
    "\n",
    "\n",
    "#print(test_df.keys)\n",
    "test_df.reset_index()\n",
    "#print(20*\"-\")\n",
    "#print(test_df.keys())\n",
    "#print(test_df.columns)\n",
    "test_df\n",
    "control_df.reset_index()\n",
    "test_df = test_df.set_index(cols_to_group_by)\n",
    "control_df = control_df.set_index(cols_to_group_by)\n",
    "\n",
    "combined_df = test_df.join(control_df, rsuffix=\"_\").reset_index()\n",
    "#combined_df.fillna(0) #get rid of NaN"
   ]
  },
  {
   "cell_type": "code",
   "execution_count": null,
   "metadata": {},
   "outputs": [],
   "source": [
    "combined_df[\"test_fraction\"] = combined_df.apply (lambda row: row.test_count/(row.control_count + row.test_count), axis=1)"
   ]
  },
  {
   "cell_type": "code",
   "execution_count": null,
   "metadata": {},
   "outputs": [],
   "source": [
    "events[events.canonical_url.str.endswith(\"https://www.moneysmart.id/\")].groupby([\"canonical_url\"]).size()"
   ]
  },
  {
   "cell_type": "code",
   "execution_count": null,
   "metadata": {},
   "outputs": [],
   "source": [
    "events[events.canonical_url == \"https://www.moneysmart.id/\"].groupby([\"canonical_url\", \"is_test\"]).size()"
   ]
  },
  {
   "cell_type": "code",
   "execution_count": null,
   "metadata": {},
   "outputs": [],
   "source": [
    "combined_df[combined_df.canonical_url==\"https://www.moneysmart.id/\"]"
   ]
  },
  {
   "cell_type": "code",
   "execution_count": null,
   "metadata": {},
   "outputs": [],
   "source": [
    "# combined_df[combined_df.test_fraction<0.05][(combined_df['event_name']==\"PageView\")  | (combined_df['status']==\"Article Body 100\")].sort_values(combined_df.test_fraction) #.to_csv(\"results.csv\")\n",
    "# combined_df.sort_values(combined_df.canonical_url).head()\n",
    "combined_df.sort_values(\"canonical_url\")\n",
    "\n",
    ">> we're missing some events here e.g. if you look at homepage.  Likely need to fill with zeros or soemthign."
   ]
  },
  {
   "cell_type": "code",
   "execution_count": null,
   "metadata": {},
   "outputs": [],
   "source": []
  },
  {
   "cell_type": "markdown",
   "metadata": {},
   "source": [
    "# Search Console.\n",
    "\n",
    "* Position, clicks, impressions over time, with country filter set to ID\n",
    "* Track top organic urls and see if there's a different trend"
   ]
  },
  {
   "cell_type": "code",
   "execution_count": null,
   "metadata": {},
   "outputs": [],
   "source": [
    "0.0584*24*30"
   ]
  },
  {
   "cell_type": "markdown",
   "metadata": {},
   "source": [
    "# Digging Into What Makes Up a Split\n",
    "\n",
    "* By URL any significant  discrepancy?\n",
    "* Is it distorted by bots?"
   ]
  },
  {
   "cell_type": "code",
   "execution_count": null,
   "metadata": {},
   "outputs": [],
   "source": []
  },
  {
   "cell_type": "code",
   "execution_count": null,
   "metadata": {},
   "outputs": [],
   "source": []
  }
 ],
 "metadata": {
  "kernelspec": {
   "display_name": "conda_python3",
   "language": "python",
   "name": "conda_python3"
  },
  "language_info": {
   "codemirror_mode": {
    "name": "ipython",
    "version": 3
   },
   "file_extension": ".py",
   "mimetype": "text/x-python",
   "name": "python",
   "nbconvert_exporter": "python",
   "pygments_lexer": "ipython3",
   "version": "3.6.5"
  }
 },
 "nbformat": 4,
 "nbformat_minor": 4
}
