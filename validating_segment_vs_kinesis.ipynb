{
 "cells": [
  {
   "cell_type": "markdown",
   "metadata": {},
   "source": [
    "# Introduction\n",
    "\n",
    "This is used to compare the counts of events between segment and kinesis during the move between the two pipelines.\n",
    "\n",
    "As they counts inevitably don't match, it then provides detailed segmentation and search / exploratory tools towards the bottom.\n",
    "\n",
    "For a large number of days, you'll want a lot of RAM (16GB or 32GB).  For single day experimenting, you will be fine with 8GB.\n",
    "\n",
    "Running the whole script takes quite a long time initially, in particular due to the segment query (minutes to tens of minutes).  Once this has been done, further exploration is generally very quick (less than a second to a few seconds).\n",
    "\n",
    "It's not overly optimised, but some steps have been taken to reduce memory.\n",
    "\n",
    "# Requirements / Jupyter Extensions\n",
    "\n",
    "Install these through jupyterlab extension manager (if using jupyterlab)\n",
    "* jupyter-widgets\n",
    "* plotly (and ideally chart studio too)"
   ]
  },
  {
   "cell_type": "code",
   "execution_count": 1,
   "metadata": {},
   "outputs": [],
   "source": [
    "# Safe imports\n",
    "from datetime import datetime, timedelta, date"
   ]
  },
  {
   "cell_type": "code",
   "execution_count": 2,
   "metadata": {},
   "outputs": [
    {
     "name": "stderr",
     "output_type": "stream",
     "text": [
      "/home/ec2-user/anaconda3/envs/python3/lib/python3.6/site-packages/psycopg2/__init__.py:144: UserWarning: The psycopg2 wheel package will be renamed from release 2.8; in order to keep installing from binary please use \"pip install psycopg2-binary\" instead. For details see: <http://initd.org/psycopg/docs/install.html#binary-install-from-pypi>.\n",
      "  \"\"\")\n"
     ]
    }
   ],
   "source": [
    "# Run imports that might require installation to the environment, and install if necessary.\n",
    "try:\n",
    "    import psycopg2\n",
    "except:\n",
    "    print(\"Failed ot import psychopg2, trying to install it\")\n",
    "    !{sys.executable} -m pip install psycopg2-binary\n",
    "    import psycopg2\n",
    "    print(\"Successfully installed\")\n",
    "    \n",
    "    \n",
    "try:\n",
    "    import dateparser\n",
    "except:\n",
    "    print(\"Failed ot import dateparser, trying to install it\")\n",
    "    !{sys.executable} -m pip install dateparser\n",
    "    import dateparser\n",
    "    print(\"Successfully installed\")\n",
    "    \n",
    "try:\n",
    "    import pyathena #used in other imports, so really just checking it's available\n",
    "except:\n",
    "    print(\"Failed ot import pyathena, trying to install it\")\n",
    "    !{sys.executable} -m pip install pyathena\n",
    "    import pyathena\n",
    "    print(\"Successfully installed\")\n",
    "    \n",
    "try:\n",
    "    import user_agents\n",
    "except:\n",
    "    print(\"Failed ot import user_agents, trying to install it\")\n",
    "    !{sys.executable} -m pip install user_agents\n",
    "    import user_agents\n",
    "    print(\"Successfully installed\")\n",
    "\n",
    "    \n",
    "import ipywidgets as widgets\n",
    "    \n"
   ]
  },
  {
   "cell_type": "code",
   "execution_count": 3,
   "metadata": {},
   "outputs": [],
   "source": [
    "# Imports on files that might have dependencies that need installing\n",
    "import data_pier_querying\n",
    "from athena_querying import AthenaQuery\n",
    "from athena_common_queries import *\n",
    "import user_agents # this converts user agent from browser to mobile / desktop etc."
   ]
  },
  {
   "cell_type": "code",
   "execution_count": null,
   "metadata": {},
   "outputs": [],
   "source": []
  },
  {
   "cell_type": "code",
   "execution_count": 4,
   "metadata": {},
   "outputs": [],
   "source": [
    "ua = user_agents.parse(\"Mozilla/5.0 (iPhone; CPU iPhone OS 13_3 like Mac OS X) AppleWebKit/605.1.15 (KHTML, like Gecko) Version/13.0.4 Mobile/15E148 Safari/604.1\")"
   ]
  },
  {
   "cell_type": "code",
   "execution_count": 5,
   "metadata": {},
   "outputs": [
    {
     "data": {
      "text/plain": [
       "'Mobile Safari'"
      ]
     },
     "execution_count": 5,
     "metadata": {},
     "output_type": "execute_result"
    }
   ],
   "source": [
    "ua.browser.family"
   ]
  },
  {
   "cell_type": "markdown",
   "metadata": {},
   "source": [
    "# Settings"
   ]
  },
  {
   "cell_type": "code",
   "execution_count": 147,
   "metadata": {},
   "outputs": [],
   "source": [
    "num_days_to_query = 7\n",
    "#from_datetime = datetime.now() - timedelta(days = 5)\n",
    "from_datetime = datetime(year=2020, month=1, day=15)\n",
    "to_datetime = from_datetime+ timedelta(days=num_days_to_query)\n",
    "include_device_segmentation = True #E.g. iphone users.  This will use more memory (and likely slow things a bit).\n",
    "save_end_dataframe_to_file = True #Saves a parquet for easy loading after crashes, or in other tools"
   ]
  },
  {
   "cell_type": "markdown",
   "metadata": {},
   "source": [
    "# Kinesis Data via Athena\n",
    "\n",
    "Data goes tracker -> kinesis -> S3 (+ another S3 transform).  Then we can query S3 using Athena."
   ]
  },
  {
   "cell_type": "code",
   "execution_count": 7,
   "metadata": {},
   "outputs": [],
   "source": [
    "aq = AthenaQuery()"
   ]
  },
  {
   "cell_type": "code",
   "execution_count": 8,
   "metadata": {},
   "outputs": [],
   "source": [
    "aq.connect()"
   ]
  },
  {
   "cell_type": "code",
   "execution_count": 9,
   "metadata": {},
   "outputs": [],
   "source": [
    "athena_database = \"ms_data_lake_production\"\n",
    "athena_raw_events_table = \"ms_data_stream_production_processed\""
   ]
  },
  {
   "cell_type": "code",
   "execution_count": 10,
   "metadata": {},
   "outputs": [],
   "source": [
    "#query = \"select context.page_url, body.event_name, count(*) from \"+athena_database+\".\"+athena_raw_events_table\n",
    "#query += \" where partition_0='2019' and partition_1>='12' and partition_2>='05' group by 1,2\""
   ]
  },
  {
   "cell_type": "code",
   "execution_count": 11,
   "metadata": {},
   "outputs": [],
   "source": [
    "# I've removed the device_type data to save memory, but it would be useful.\n",
    "query = create_generic_event_query(from_datetime, to_datetime, include_user_agent=include_device_segmentation, include_ip_address = include_device_segmentation, interpret_urls=False)\n",
    "\n",
    "full_query = \"select * from (%s) where country_code ='sg'\" %query"
   ]
  },
  {
   "cell_type": "code",
   "execution_count": 12,
   "metadata": {},
   "outputs": [
    {
     "name": "stdout",
     "output_type": "stream",
     "text": [
      "select * from (\n",
      "    \n",
      "    SELECT \n",
      "          CAST(\"from_iso8601_timestamp\"(\"sent_at\") AS timestamp) \"sent_at_timestamp\"\n",
      "    , \"sent_at\"\n",
      "    , \"type\"\n",
      "    , \"body\".\"event_name\"\n",
      "    , \"body\".\"data\".\"status\"\n",
      "    , \"user\".\"anonymous_id\"\n",
      "    , \"user\".\"amp_id\"\n",
      "    , \"context\".\"page_url\"\n",
      "    , \"context\".\"referrer\"\n",
      " \n",
      "    \n",
      "        , context.user_agent as user_agent\n",
      "        \n",
      "        , context.ip_address\n",
      "        \n",
      "    \n",
      "    FROM\n",
      "      ms_data_lake_production.ms_data_stream_production_processed\n",
      "    \n",
      "    \n",
      "    WHERE true -- makes query composition easier\n",
      "    \n",
      " AND \n",
      "  (\n",
      " partition_0 >= '2020'\n",
      " AND partition_1 >= '01'\n",
      " AND partition_2 >= '15'\n",
      " OR (\n",
      " partition_0 >= '2020'\n",
      " AND partition_1 > '01'\n",
      " ) \n",
      " OR (\n",
      " partition_0 > '2020'\n",
      " ) \n",
      ")\n",
      " AND ((partition_0 <= '2020'\n",
      "\t AND partition_1 <= '01'\n",
      "\t AND partition_2 <= '22'\n",
      ") \n",
      " OR (\n",
      "\t partition_0 <= '2020'\n",
      "\t AND partition_1 < '01'\n",
      ") \n",
      " OR (\n",
      "\t partition_0 < '2020'\n",
      ") \n",
      ")\n",
      " AND CAST(from_iso8601_timestamp(sent_at) AS timestamp)  between CAST(from_iso8601_timestamp('2020-01-15T00:00:00') AS timestamp) AND CAST(from_iso8601_timestamp('2020-01-22T00:00:00') AS timestamp)) where country_code ='sg'\n"
     ]
    }
   ],
   "source": [
    "print(full_query)"
   ]
  },
  {
   "cell_type": "code",
   "execution_count": null,
   "metadata": {},
   "outputs": [],
   "source": [
    "athena_full_events_df = aq.query(query)"
   ]
  },
  {
   "cell_type": "code",
   "execution_count": null,
   "metadata": {},
   "outputs": [],
   "source": [
    "# Set types to speed queries and save on memory\n",
    "athena_full_events_df = athena_full_events_df.astype({ \"type\":\"category\"\n",
    "    , \"event_name\":\"category\"\n",
    "    , \"status\":\"category\"}, copy=False)"
   ]
  },
  {
   "cell_type": "code",
   "execution_count": null,
   "metadata": {},
   "outputs": [
    {
     "data": {
      "text/plain": [
       "sent_at_timestamp      object\n",
       "sent_at                object\n",
       "type                 category\n",
       "event_name           category\n",
       "status               category\n",
       "anonymous_id           object\n",
       "amp_id                 object\n",
       "page_url               object\n",
       "referrer               object\n",
       "user_agent             object\n",
       "ip_address             object\n",
       "dtype: object"
      ]
     },
     "execution_count": 15,
     "metadata": {},
     "output_type": "execute_result"
    }
   ],
   "source": [
    "athena_full_events_df.dtypes"
   ]
  },
  {
   "cell_type": "code",
   "execution_count": null,
   "metadata": {},
   "outputs": [
    {
     "data": {
      "text/html": [
       "<div>\n",
       "<style scoped>\n",
       "    .dataframe tbody tr th:only-of-type {\n",
       "        vertical-align: middle;\n",
       "    }\n",
       "\n",
       "    .dataframe tbody tr th {\n",
       "        vertical-align: top;\n",
       "    }\n",
       "\n",
       "    .dataframe thead th {\n",
       "        text-align: right;\n",
       "    }\n",
       "</style>\n",
       "<table border=\"1\" class=\"dataframe\">\n",
       "  <thead>\n",
       "    <tr style=\"text-align: right;\">\n",
       "      <th></th>\n",
       "      <th>sent_at_timestamp</th>\n",
       "      <th>sent_at</th>\n",
       "      <th>type</th>\n",
       "      <th>event_name</th>\n",
       "      <th>status</th>\n",
       "      <th>anonymous_id</th>\n",
       "      <th>amp_id</th>\n",
       "      <th>page_url</th>\n",
       "      <th>referrer</th>\n",
       "      <th>user_agent</th>\n",
       "      <th>ip_address</th>\n",
       "    </tr>\n",
       "  </thead>\n",
       "  <tbody>\n",
       "    <tr>\n",
       "      <th>0</th>\n",
       "      <td>2020-01-16 21:18:02.975</td>\n",
       "      <td>2020-01-16T21:18:02.975Z</td>\n",
       "      <td>page</td>\n",
       "      <td>PageView</td>\n",
       "      <td>NaN</td>\n",
       "      <td>83e9c90e-f3e2-4821-9d1f-fd75425d8a51</td>\n",
       "      <td>NaN</td>\n",
       "      <td>https://blog.moneysmart.sg/travel/ktm-train-to...</td>\n",
       "      <td>https://www.google.com/</td>\n",
       "      <td>Mozilla/5.0 (Linux; Android 9; Mi 9T) AppleWeb...</td>\n",
       "      <td>NaN</td>\n",
       "    </tr>\n",
       "    <tr>\n",
       "      <th>1</th>\n",
       "      <td>2020-01-16 21:18:07.356</td>\n",
       "      <td>2020-01-16T21:18:07.356Z</td>\n",
       "      <td>event</td>\n",
       "      <td>Reading</td>\n",
       "      <td>Article Body 25</td>\n",
       "      <td>80035ff8-fe6d-4d84-a4c5-1c31e8d4896b</td>\n",
       "      <td>NaN</td>\n",
       "      <td>https://blog.moneysmart.sg/travel/travel-data-...</td>\n",
       "      <td>https://www.google.com/</td>\n",
       "      <td>Mozilla/5.0 (Linux; Android 9; SM-G975F) Apple...</td>\n",
       "      <td>NaN</td>\n",
       "    </tr>\n",
       "    <tr>\n",
       "      <th>2</th>\n",
       "      <td>2020-01-16 21:18:06.192</td>\n",
       "      <td>2020-01-16T21:18:06.192Z</td>\n",
       "      <td>page</td>\n",
       "      <td>PageView</td>\n",
       "      <td>NaN</td>\n",
       "      <td>80035ff8-fe6d-4d84-a4c5-1c31e8d4896b</td>\n",
       "      <td>NaN</td>\n",
       "      <td>https://blog.moneysmart.sg/travel/travel-data-...</td>\n",
       "      <td>https://www.google.com/</td>\n",
       "      <td>Mozilla/5.0 (Linux; Android 9; SM-G975F) Apple...</td>\n",
       "      <td>NaN</td>\n",
       "    </tr>\n",
       "    <tr>\n",
       "      <th>3</th>\n",
       "      <td>2020-01-16 21:18:06.636</td>\n",
       "      <td>2020-01-16T21:18:06.636Z</td>\n",
       "      <td>page</td>\n",
       "      <td>PageView</td>\n",
       "      <td>NaN</td>\n",
       "      <td>9ddd8006-b19d-477d-a741-ab0d58851a52</td>\n",
       "      <td>NaN</td>\n",
       "      <td>https://www-new.moneysmart.sg/credit-cards?pro...</td>\n",
       "      <td>https://www-new.moneysmart.sg/credit-cards/uob...</td>\n",
       "      <td>Mozilla/5.0 (iPhone; CPU iPhone OS 13_3 like M...</td>\n",
       "      <td>NaN</td>\n",
       "    </tr>\n",
       "    <tr>\n",
       "      <th>4</th>\n",
       "      <td>2020-01-16 21:57:49.115</td>\n",
       "      <td>2020-01-16T21:57:49.115Z</td>\n",
       "      <td>page</td>\n",
       "      <td>PageView</td>\n",
       "      <td>NaN</td>\n",
       "      <td>a9ceb7fc-744e-4e19-b82c-07870018908f</td>\n",
       "      <td>NaN</td>\n",
       "      <td>https://www.moneysmart.tw/articles/%E6%96%B0%E...</td>\n",
       "      <td>https://tw-news-yahoo-com.cdn.ampproject.org/v...</td>\n",
       "      <td>Mozilla/5.0 (Linux; Android 8.0.0; ASUS_Z01KD)...</td>\n",
       "      <td>NaN</td>\n",
       "    </tr>\n",
       "  </tbody>\n",
       "</table>\n",
       "</div>"
      ],
      "text/plain": [
       "         sent_at_timestamp                   sent_at   type event_name  \\\n",
       "0  2020-01-16 21:18:02.975  2020-01-16T21:18:02.975Z   page   PageView   \n",
       "1  2020-01-16 21:18:07.356  2020-01-16T21:18:07.356Z  event    Reading   \n",
       "2  2020-01-16 21:18:06.192  2020-01-16T21:18:06.192Z   page   PageView   \n",
       "3  2020-01-16 21:18:06.636  2020-01-16T21:18:06.636Z   page   PageView   \n",
       "4  2020-01-16 21:57:49.115  2020-01-16T21:57:49.115Z   page   PageView   \n",
       "\n",
       "            status                          anonymous_id amp_id  \\\n",
       "0              NaN  83e9c90e-f3e2-4821-9d1f-fd75425d8a51    NaN   \n",
       "1  Article Body 25  80035ff8-fe6d-4d84-a4c5-1c31e8d4896b    NaN   \n",
       "2              NaN  80035ff8-fe6d-4d84-a4c5-1c31e8d4896b    NaN   \n",
       "3              NaN  9ddd8006-b19d-477d-a741-ab0d58851a52    NaN   \n",
       "4              NaN  a9ceb7fc-744e-4e19-b82c-07870018908f    NaN   \n",
       "\n",
       "                                            page_url  \\\n",
       "0  https://blog.moneysmart.sg/travel/ktm-train-to...   \n",
       "1  https://blog.moneysmart.sg/travel/travel-data-...   \n",
       "2  https://blog.moneysmart.sg/travel/travel-data-...   \n",
       "3  https://www-new.moneysmart.sg/credit-cards?pro...   \n",
       "4  https://www.moneysmart.tw/articles/%E6%96%B0%E...   \n",
       "\n",
       "                                            referrer  \\\n",
       "0                            https://www.google.com/   \n",
       "1                            https://www.google.com/   \n",
       "2                            https://www.google.com/   \n",
       "3  https://www-new.moneysmart.sg/credit-cards/uob...   \n",
       "4  https://tw-news-yahoo-com.cdn.ampproject.org/v...   \n",
       "\n",
       "                                          user_agent ip_address  \n",
       "0  Mozilla/5.0 (Linux; Android 9; Mi 9T) AppleWeb...        NaN  \n",
       "1  Mozilla/5.0 (Linux; Android 9; SM-G975F) Apple...        NaN  \n",
       "2  Mozilla/5.0 (Linux; Android 9; SM-G975F) Apple...        NaN  \n",
       "3  Mozilla/5.0 (iPhone; CPU iPhone OS 13_3 like M...        NaN  \n",
       "4  Mozilla/5.0 (Linux; Android 8.0.0; ASUS_Z01KD)...        NaN  "
      ]
     },
     "execution_count": 16,
     "metadata": {},
     "output_type": "execute_result"
    }
   ],
   "source": [
    "athena_full_events_df.head(5)"
   ]
  },
  {
   "cell_type": "markdown",
   "metadata": {},
   "source": [
    "# Segment Data\n",
    "\n",
    "NB: screwed up, and can use the tracks table, rather than individual event tables, so a lot of this is pointless."
   ]
  },
  {
   "cell_type": "code",
   "execution_count": null,
   "metadata": {},
   "outputs": [],
   "source": [
    "#from importlib import reload\n",
    "#reload(data_pier_querying)"
   ]
  },
  {
   "cell_type": "code",
   "execution_count": null,
   "metadata": {},
   "outputs": [],
   "source": [
    "# Below there are some checks on what columns are available\n",
    "\n",
    "segment_columns_to_query = [\n",
    "    # \"sent_at\", - don't use this, use timestamp\n",
    "    \"timestamp\",\n",
    "    #\"event\", - going to get that implied from the table.\n",
    "    # \"status\", # TODO: would like to have this, but not sure which column, or which tables.  Maybe just not used much, so only do for the 4 tables.\n",
    "    \"anonymous_id\",\n",
    "    \"context_page_url\",\n",
    "    # \"referrer\", #maybe only used in pages table??\n",
    "    \"context_ip\", \n",
    "    \"context_user_agent\"]"
   ]
  },
  {
   "cell_type": "code",
   "execution_count": null,
   "metadata": {},
   "outputs": [],
   "source": [
    "dp_querying = data_pier_querying.DataPierQuerying()\n",
    "dp_querying.connect()"
   ]
  },
  {
   "cell_type": "code",
   "execution_count": null,
   "metadata": {},
   "outputs": [],
   "source": [
    "tables_df = dp_querying.query_to_dataframe(\"select * from information_schema.tables\")"
   ]
  },
  {
   "cell_type": "code",
   "execution_count": null,
   "metadata": {},
   "outputs": [],
   "source": [
    "segment_event_tables_df = tables_df[tables_df.table_schema==\"moneysmartsg_prod\"][\"table_name\"]\n"
   ]
  },
  {
   "cell_type": "code",
   "execution_count": null,
   "metadata": {},
   "outputs": [],
   "source": []
  },
  {
   "cell_type": "code",
   "execution_count": null,
   "metadata": {},
   "outputs": [],
   "source": [
    "# These are taken from the dictionary in https://docs.google.com/spreadsheets/d/1HICh77BoGMIat9K3NPwz3pBayJWiAr0ohAlTuv7dr80/edit#gid=1882048411\n",
    "#but actually it turns out there should be more than this, and don't need to do it this way.\n",
    "expected_events_str = \"\"\"\n",
    "LeadGeneration.ClickConversion\n",
    "LeadGeneration.FormStepCompleted\n",
    "LeadGeneration.FormSubmitted\n",
    "LeadGeneration.PaymentCompleted\n",
    "LeadGeneration.ThankYou\n",
    "LeadGeneration.RedirectCompleted\n",
    "UserEngagement.ShowedMoreDetails\n",
    "UserEngagement.ViewedMoreDetails\n",
    "UserEngagement.SortedList\n",
    "UserEngagement.UsedHelpHints\n",
    "UserEngagement.ClickedMenuItem\n",
    "UserEngagement.QuestionAnswered\n",
    "UserEngagement.ShowMoreFilter\n",
    "UserEngagement.ShowMoreOptions\n",
    "UserEngagement.ClickedFilter\n",
    "UserEngagement.ButtonClick\n",
    "UserAuth.LoggedIn\n",
    "UserAuth.RegisteredAccount\n",
    "UserAuth.LoggedOut\n",
    "UserFeedback.ModalDisplayed\n",
    "UserFeedback.MoodSubmitted\n",
    "UserFeedback.FeedbackSubmitted\n",
    "UserFeedback.MoreFeedback\n",
    "ABTest.Conversion\n",
    "UserView.WidgetLoad\n",
    "EmailCapture\n",
    "PageView\n",
    "Sharing\n",
    "Reading\n",
    "NewsLetterPopup\n",
    "\"\"\"\n",
    "expected_events = [z.strip() for z in expected_events_str.split(\"\\n\") if len(z.strip())>0]"
   ]
  },
  {
   "cell_type": "code",
   "execution_count": null,
   "metadata": {},
   "outputs": [],
   "source": [
    "\n",
    "\n",
    "expected_events_and_segment_tables = []\n",
    "special_maps = {\n",
    "    \"PageView\": \"pages\"\n",
    "}\n",
    "for event in expected_events:\n",
    "    if event in special_maps:\n",
    "        new_event_name = special_maps[event]\n",
    "    else:\n",
    "        new_event_name = \"\"\n",
    "        for i, c in enumerate(event):\n",
    "            if i==0:new_event_name+=c.lower()\n",
    "            elif str.isupper(c): \n",
    "                if i>0 and event[i-1]!=\".\":\n",
    "                    new_event_name += \"_\"\n",
    "                new_event_name += c.lower()\n",
    "            elif c==\".\": new_event_name += \"_\"\n",
    "            else: new_event_name+= c\n",
    "    expected_events_and_segment_tables.append([event, new_event_name])"
   ]
  },
  {
   "cell_type": "code",
   "execution_count": null,
   "metadata": {},
   "outputs": [
    {
     "data": {
      "text/plain": [
       "[['LeadGeneration.ClickConversion', 'lead_generation_click_conversion'],\n",
       " ['LeadGeneration.FormStepCompleted', 'lead_generation_form_step_completed'],\n",
       " ['LeadGeneration.FormSubmitted', 'lead_generation_form_submitted'],\n",
       " ['LeadGeneration.PaymentCompleted', 'lead_generation_payment_completed'],\n",
       " ['LeadGeneration.ThankYou', 'lead_generation_thank_you'],\n",
       " ['LeadGeneration.RedirectCompleted', 'lead_generation_redirect_completed'],\n",
       " ['UserEngagement.ShowedMoreDetails', 'user_engagement_showed_more_details'],\n",
       " ['UserEngagement.ViewedMoreDetails', 'user_engagement_viewed_more_details'],\n",
       " ['UserEngagement.SortedList', 'user_engagement_sorted_list'],\n",
       " ['UserEngagement.UsedHelpHints', 'user_engagement_used_help_hints'],\n",
       " ['UserEngagement.ClickedMenuItem', 'user_engagement_clicked_menu_item'],\n",
       " ['UserEngagement.QuestionAnswered', 'user_engagement_question_answered'],\n",
       " ['UserEngagement.ShowMoreFilter', 'user_engagement_show_more_filter'],\n",
       " ['UserEngagement.ShowMoreOptions', 'user_engagement_show_more_options'],\n",
       " ['UserEngagement.ClickedFilter', 'user_engagement_clicked_filter'],\n",
       " ['UserEngagement.ButtonClick', 'user_engagement_button_click'],\n",
       " ['UserAuth.LoggedIn', 'user_auth_logged_in'],\n",
       " ['UserAuth.RegisteredAccount', 'user_auth_registered_account'],\n",
       " ['UserAuth.LoggedOut', 'user_auth_logged_out'],\n",
       " ['UserFeedback.ModalDisplayed', 'user_feedback_modal_displayed'],\n",
       " ['UserFeedback.MoodSubmitted', 'user_feedback_mood_submitted'],\n",
       " ['UserFeedback.FeedbackSubmitted', 'user_feedback_feedback_submitted'],\n",
       " ['UserFeedback.MoreFeedback', 'user_feedback_more_feedback'],\n",
       " ['ABTest.Conversion', 'a_b_test_conversion'],\n",
       " ['UserView.WidgetLoad', 'user_view_widget_load'],\n",
       " ['EmailCapture', 'email_capture'],\n",
       " ['PageView', 'pages'],\n",
       " ['Sharing', 'sharing'],\n",
       " ['Reading', 'reading'],\n",
       " ['NewsLetterPopup', 'news_letter_popup']]"
      ]
     },
     "execution_count": 24,
     "metadata": {},
     "output_type": "execute_result"
    }
   ],
   "source": [
    "expected_events_and_segment_tables"
   ]
  },
  {
   "cell_type": "markdown",
   "metadata": {},
   "source": [
    "### Check for missing tables\n",
    "\n",
    "Expect some random events not to be in Segment, or blog specific ones that haven't been deployed to SG and HK"
   ]
  },
  {
   "cell_type": "code",
   "execution_count": null,
   "metadata": {},
   "outputs": [
    {
     "data": {
      "text/plain": [
       "['user_engagement_used_help_hints',\n",
       " 'user_engagement_clicked_menu_item',\n",
       " 'user_feedback_modal_displayed',\n",
       " 'user_feedback_more_feedback',\n",
       " 'a_b_test_conversion',\n",
       " 'sharing',\n",
       " 'news_letter_popup']"
      ]
     },
     "execution_count": 25,
     "metadata": {},
     "output_type": "execute_result"
    }
   ],
   "source": [
    "# Check all the event tables exist\n",
    "expected_event_segment_tables = [z[1] for z in expected_events_and_segment_tables]\n",
    "segment_table_names = segment_event_tables_df.to_list()\n",
    "missing_event_tables = [z for z in expected_event_segment_tables if z not in segment_table_names]\n",
    "missing_event_tables"
   ]
  },
  {
   "cell_type": "code",
   "execution_count": null,
   "metadata": {},
   "outputs": [
    {
     "data": {
      "text/plain": [
       "[['LeadGeneration.ClickConversion', 'lead_generation_click_conversion'],\n",
       " ['LeadGeneration.FormStepCompleted', 'lead_generation_form_step_completed'],\n",
       " ['LeadGeneration.FormSubmitted', 'lead_generation_form_submitted'],\n",
       " ['LeadGeneration.PaymentCompleted', 'lead_generation_payment_completed'],\n",
       " ['LeadGeneration.ThankYou', 'lead_generation_thank_you'],\n",
       " ['LeadGeneration.RedirectCompleted', 'lead_generation_redirect_completed'],\n",
       " ['UserEngagement.ShowedMoreDetails', 'user_engagement_showed_more_details'],\n",
       " ['UserEngagement.ViewedMoreDetails', 'user_engagement_viewed_more_details'],\n",
       " ['UserEngagement.SortedList', 'user_engagement_sorted_list'],\n",
       " ['UserEngagement.UsedHelpHints', 'user_engagement_used_help_hints'],\n",
       " ['UserEngagement.ClickedMenuItem', 'user_engagement_clicked_menu_item'],\n",
       " ['UserEngagement.QuestionAnswered', 'user_engagement_question_answered'],\n",
       " ['UserEngagement.ShowMoreFilter', 'user_engagement_show_more_filter'],\n",
       " ['UserEngagement.ShowMoreOptions', 'user_engagement_show_more_options'],\n",
       " ['UserEngagement.ClickedFilter', 'user_engagement_clicked_filter'],\n",
       " ['UserEngagement.ButtonClick', 'user_engagement_button_click'],\n",
       " ['UserAuth.LoggedIn', 'user_auth_logged_in'],\n",
       " ['UserAuth.RegisteredAccount', 'user_auth_registered_account'],\n",
       " ['UserAuth.LoggedOut', 'user_auth_logged_out'],\n",
       " ['UserFeedback.ModalDisplayed', 'user_feedback_modal_displayed'],\n",
       " ['UserFeedback.MoodSubmitted', 'user_feedback_mood_submitted'],\n",
       " ['UserFeedback.FeedbackSubmitted', 'user_feedback_feedback_submitted'],\n",
       " ['UserFeedback.MoreFeedback', 'user_feedback_more_feedback'],\n",
       " ['ABTest.Conversion', 'a_b_test_conversion'],\n",
       " ['UserView.WidgetLoad', 'user_view_widget_load'],\n",
       " ['EmailCapture', 'email_capture'],\n",
       " ['PageView', 'pages'],\n",
       " ['Sharing', 'sharing'],\n",
       " ['Reading', 'reading'],\n",
       " ['NewsLetterPopup', 'news_letter_popup']]"
      ]
     },
     "execution_count": 26,
     "metadata": {},
     "output_type": "execute_result"
    }
   ],
   "source": [
    "expected_events_and_segment_tables"
   ]
  },
  {
   "cell_type": "code",
   "execution_count": null,
   "metadata": {},
   "outputs": [],
   "source": [
    "# Removing the missing ones from the query list\n",
    "events_and_tables_to_get_from_data_pier = [z for z in expected_events_and_segment_tables if z[1] not in missing_event_tables]\n",
    "\n",
    "# Removing a problematic one (doesn't have context_page_url in it, and very unimportant\n",
    "events_and_tables_to_get_from_data_pier = [z for z in events_and_tables_to_get_from_data_pier if z[1] not in [\"user_auth_logged_out\",]]"
   ]
  },
  {
   "cell_type": "code",
   "execution_count": null,
   "metadata": {},
   "outputs": [
    {
     "data": {
      "text/plain": [
       "22"
      ]
     },
     "execution_count": 28,
     "metadata": {},
     "output_type": "execute_result"
    }
   ],
   "source": [
    "len(events_and_tables_to_get_from_data_pier)"
   ]
  },
  {
   "cell_type": "code",
   "execution_count": null,
   "metadata": {},
   "outputs": [],
   "source": [
    "cols = dp_querying.query_to_dataframe(\"\"\"\n",
    "select column_name, data_type, count(*) from information_schema.columns \n",
    "where \n",
    "table_name in  ('\"\"\"+\"','\".join([z[1] for z in events_and_tables_to_get_from_data_pier])+\"\"\"')\n",
    "and table_schema='moneysmartsg_prod'\n",
    "\n",
    "group by 1,2\n",
    "\"\"\")"
   ]
  },
  {
   "cell_type": "code",
   "execution_count": null,
   "metadata": {},
   "outputs": [
    {
     "data": {
      "text/html": [
       "<div>\n",
       "<style scoped>\n",
       "    .dataframe tbody tr th:only-of-type {\n",
       "        vertical-align: middle;\n",
       "    }\n",
       "\n",
       "    .dataframe tbody tr th {\n",
       "        vertical-align: top;\n",
       "    }\n",
       "\n",
       "    .dataframe thead th {\n",
       "        text-align: right;\n",
       "    }\n",
       "</style>\n",
       "<table border=\"1\" class=\"dataframe\">\n",
       "  <thead>\n",
       "    <tr style=\"text-align: right;\">\n",
       "      <th></th>\n",
       "      <th>column_name</th>\n",
       "      <th>data_type</th>\n",
       "      <th>count</th>\n",
       "    </tr>\n",
       "  </thead>\n",
       "  <tbody>\n",
       "    <tr>\n",
       "      <th>287</th>\n",
       "      <td>page_referrer</td>\n",
       "      <td>text</td>\n",
       "      <td>11</td>\n",
       "    </tr>\n",
       "    <tr>\n",
       "      <th>352</th>\n",
       "      <td>user_id</td>\n",
       "      <td>text</td>\n",
       "      <td>13</td>\n",
       "    </tr>\n",
       "    <tr>\n",
       "      <th>27</th>\n",
       "      <td>context_campaign_content</td>\n",
       "      <td>text</td>\n",
       "      <td>14</td>\n",
       "    </tr>\n",
       "    <tr>\n",
       "      <th>42</th>\n",
       "      <td>context_campaign_term</td>\n",
       "      <td>text</td>\n",
       "      <td>14</td>\n",
       "    </tr>\n",
       "    <tr>\n",
       "      <th>33</th>\n",
       "      <td>context_campaign_medium</td>\n",
       "      <td>text</td>\n",
       "      <td>15</td>\n",
       "    </tr>\n",
       "    <tr>\n",
       "      <th>34</th>\n",
       "      <td>context_campaign_name</td>\n",
       "      <td>text</td>\n",
       "      <td>15</td>\n",
       "    </tr>\n",
       "    <tr>\n",
       "      <th>41</th>\n",
       "      <td>context_campaign_source</td>\n",
       "      <td>text</td>\n",
       "      <td>15</td>\n",
       "    </tr>\n",
       "    <tr>\n",
       "      <th>286</th>\n",
       "      <td>page_path</td>\n",
       "      <td>text</td>\n",
       "      <td>15</td>\n",
       "    </tr>\n",
       "    <tr>\n",
       "      <th>17</th>\n",
       "      <td>channel</td>\n",
       "      <td>text</td>\n",
       "      <td>16</td>\n",
       "    </tr>\n",
       "    <tr>\n",
       "      <th>60</th>\n",
       "      <td>context_locale</td>\n",
       "      <td>text</td>\n",
       "      <td>19</td>\n",
       "    </tr>\n",
       "    <tr>\n",
       "      <th>68</th>\n",
       "      <td>context_page_search</td>\n",
       "      <td>text</td>\n",
       "      <td>21</td>\n",
       "    </tr>\n",
       "    <tr>\n",
       "      <th>92</th>\n",
       "      <td>event</td>\n",
       "      <td>text</td>\n",
       "      <td>21</td>\n",
       "    </tr>\n",
       "    <tr>\n",
       "      <th>93</th>\n",
       "      <td>event_text</td>\n",
       "      <td>text</td>\n",
       "      <td>21</td>\n",
       "    </tr>\n",
       "    <tr>\n",
       "      <th>10</th>\n",
       "      <td>auth_status</td>\n",
       "      <td>boolean</td>\n",
       "      <td>21</td>\n",
       "    </tr>\n",
       "    <tr>\n",
       "      <th>348</th>\n",
       "      <td>timestamp</td>\n",
       "      <td>timestamp with time zone</td>\n",
       "      <td>22</td>\n",
       "    </tr>\n",
       "    <tr>\n",
       "      <th>285</th>\n",
       "      <td>original_timestamp</td>\n",
       "      <td>timestamp with time zone</td>\n",
       "      <td>22</td>\n",
       "    </tr>\n",
       "    <tr>\n",
       "      <th>257</th>\n",
       "      <td>id</td>\n",
       "      <td>character varying</td>\n",
       "      <td>22</td>\n",
       "    </tr>\n",
       "    <tr>\n",
       "      <th>334</th>\n",
       "      <td>received_at</td>\n",
       "      <td>timestamp with time zone</td>\n",
       "      <td>22</td>\n",
       "    </tr>\n",
       "    <tr>\n",
       "      <th>340</th>\n",
       "      <td>sent_at</td>\n",
       "      <td>timestamp with time zone</td>\n",
       "      <td>22</td>\n",
       "    </tr>\n",
       "    <tr>\n",
       "      <th>9</th>\n",
       "      <td>anonymous_id</td>\n",
       "      <td>text</td>\n",
       "      <td>22</td>\n",
       "    </tr>\n",
       "    <tr>\n",
       "      <th>71</th>\n",
       "      <td>context_page_url</td>\n",
       "      <td>text</td>\n",
       "      <td>22</td>\n",
       "    </tr>\n",
       "    <tr>\n",
       "      <th>69</th>\n",
       "      <td>context_page_title</td>\n",
       "      <td>text</td>\n",
       "      <td>22</td>\n",
       "    </tr>\n",
       "    <tr>\n",
       "      <th>67</th>\n",
       "      <td>context_page_referrer</td>\n",
       "      <td>text</td>\n",
       "      <td>22</td>\n",
       "    </tr>\n",
       "    <tr>\n",
       "      <th>61</th>\n",
       "      <td>context_page_path</td>\n",
       "      <td>text</td>\n",
       "      <td>22</td>\n",
       "    </tr>\n",
       "    <tr>\n",
       "      <th>59</th>\n",
       "      <td>context_library_version</td>\n",
       "      <td>text</td>\n",
       "      <td>22</td>\n",
       "    </tr>\n",
       "    <tr>\n",
       "      <th>58</th>\n",
       "      <td>context_library_name</td>\n",
       "      <td>text</td>\n",
       "      <td>22</td>\n",
       "    </tr>\n",
       "    <tr>\n",
       "      <th>57</th>\n",
       "      <td>context_ip</td>\n",
       "      <td>text</td>\n",
       "      <td>22</td>\n",
       "    </tr>\n",
       "    <tr>\n",
       "      <th>83</th>\n",
       "      <td>context_user_agent</td>\n",
       "      <td>text</td>\n",
       "      <td>22</td>\n",
       "    </tr>\n",
       "    <tr>\n",
       "      <th>355</th>\n",
       "      <td>uuid_ts</td>\n",
       "      <td>timestamp with time zone</td>\n",
       "      <td>22</td>\n",
       "    </tr>\n",
       "  </tbody>\n",
       "</table>\n",
       "</div>"
      ],
      "text/plain": [
       "                  column_name                 data_type  count\n",
       "287             page_referrer                      text     11\n",
       "352                   user_id                      text     13\n",
       "27   context_campaign_content                      text     14\n",
       "42      context_campaign_term                      text     14\n",
       "33    context_campaign_medium                      text     15\n",
       "34      context_campaign_name                      text     15\n",
       "41    context_campaign_source                      text     15\n",
       "286                 page_path                      text     15\n",
       "17                    channel                      text     16\n",
       "60             context_locale                      text     19\n",
       "68        context_page_search                      text     21\n",
       "92                      event                      text     21\n",
       "93                 event_text                      text     21\n",
       "10                auth_status                   boolean     21\n",
       "348                 timestamp  timestamp with time zone     22\n",
       "285        original_timestamp  timestamp with time zone     22\n",
       "257                        id         character varying     22\n",
       "334               received_at  timestamp with time zone     22\n",
       "340                   sent_at  timestamp with time zone     22\n",
       "9                anonymous_id                      text     22\n",
       "71           context_page_url                      text     22\n",
       "69         context_page_title                      text     22\n",
       "67      context_page_referrer                      text     22\n",
       "61          context_page_path                      text     22\n",
       "59    context_library_version                      text     22\n",
       "58       context_library_name                      text     22\n",
       "57                 context_ip                      text     22\n",
       "83         context_user_agent                      text     22\n",
       "355                   uuid_ts  timestamp with time zone     22"
      ]
     },
     "execution_count": 30,
     "metadata": {},
     "output_type": "execute_result"
    }
   ],
   "source": [
    "cols[cols[\"count\"]>10].sort_values([\"count\"])"
   ]
  },
  {
   "cell_type": "code",
   "execution_count": null,
   "metadata": {},
   "outputs": [
    {
     "data": {
      "text/html": [
       "<div>\n",
       "<style scoped>\n",
       "    .dataframe tbody tr th:only-of-type {\n",
       "        vertical-align: middle;\n",
       "    }\n",
       "\n",
       "    .dataframe tbody tr th {\n",
       "        vertical-align: top;\n",
       "    }\n",
       "\n",
       "    .dataframe thead th {\n",
       "        text-align: right;\n",
       "    }\n",
       "</style>\n",
       "<table border=\"1\" class=\"dataframe\">\n",
       "  <thead>\n",
       "    <tr style=\"text-align: right;\">\n",
       "      <th></th>\n",
       "      <th>column_name</th>\n",
       "      <th>data_type</th>\n",
       "      <th>count</th>\n",
       "    </tr>\n",
       "  </thead>\n",
       "  <tbody>\n",
       "    <tr>\n",
       "      <th>0</th>\n",
       "      <td>context_campaign_term</td>\n",
       "      <td>text</td>\n",
       "      <td>2</td>\n",
       "    </tr>\n",
       "    <tr>\n",
       "      <th>1</th>\n",
       "      <td>context_campaign_medium</td>\n",
       "      <td>text</td>\n",
       "      <td>2</td>\n",
       "    </tr>\n",
       "    <tr>\n",
       "      <th>2</th>\n",
       "      <td>context_page_referrer</td>\n",
       "      <td>text</td>\n",
       "      <td>2</td>\n",
       "    </tr>\n",
       "    <tr>\n",
       "      <th>3</th>\n",
       "      <td>context_user_agent</td>\n",
       "      <td>text</td>\n",
       "      <td>2</td>\n",
       "    </tr>\n",
       "    <tr>\n",
       "      <th>4</th>\n",
       "      <td>context_page_search</td>\n",
       "      <td>text</td>\n",
       "      <td>2</td>\n",
       "    </tr>\n",
       "    <tr>\n",
       "      <th>5</th>\n",
       "      <td>context_page_title</td>\n",
       "      <td>text</td>\n",
       "      <td>2</td>\n",
       "    </tr>\n",
       "    <tr>\n",
       "      <th>6</th>\n",
       "      <td>context_campaign_name</td>\n",
       "      <td>text</td>\n",
       "      <td>2</td>\n",
       "    </tr>\n",
       "    <tr>\n",
       "      <th>7</th>\n",
       "      <td>context_page_url</td>\n",
       "      <td>text</td>\n",
       "      <td>2</td>\n",
       "    </tr>\n",
       "    <tr>\n",
       "      <th>8</th>\n",
       "      <td>id</td>\n",
       "      <td>character varying</td>\n",
       "      <td>2</td>\n",
       "    </tr>\n",
       "    <tr>\n",
       "      <th>9</th>\n",
       "      <td>context_ip</td>\n",
       "      <td>text</td>\n",
       "      <td>2</td>\n",
       "    </tr>\n",
       "    <tr>\n",
       "      <th>10</th>\n",
       "      <td>context_library_name</td>\n",
       "      <td>text</td>\n",
       "      <td>2</td>\n",
       "    </tr>\n",
       "    <tr>\n",
       "      <th>11</th>\n",
       "      <td>original_timestamp</td>\n",
       "      <td>timestamp with time zone</td>\n",
       "      <td>2</td>\n",
       "    </tr>\n",
       "    <tr>\n",
       "      <th>12</th>\n",
       "      <td>context_library_version</td>\n",
       "      <td>text</td>\n",
       "      <td>2</td>\n",
       "    </tr>\n",
       "    <tr>\n",
       "      <th>13</th>\n",
       "      <td>context_locale</td>\n",
       "      <td>text</td>\n",
       "      <td>2</td>\n",
       "    </tr>\n",
       "    <tr>\n",
       "      <th>14</th>\n",
       "      <td>received_at</td>\n",
       "      <td>timestamp with time zone</td>\n",
       "      <td>2</td>\n",
       "    </tr>\n",
       "    <tr>\n",
       "      <th>15</th>\n",
       "      <td>context_page_path</td>\n",
       "      <td>text</td>\n",
       "      <td>2</td>\n",
       "    </tr>\n",
       "    <tr>\n",
       "      <th>16</th>\n",
       "      <td>context_campaign_content</td>\n",
       "      <td>text</td>\n",
       "      <td>2</td>\n",
       "    </tr>\n",
       "    <tr>\n",
       "      <th>17</th>\n",
       "      <td>sent_at</td>\n",
       "      <td>timestamp with time zone</td>\n",
       "      <td>2</td>\n",
       "    </tr>\n",
       "    <tr>\n",
       "      <th>18</th>\n",
       "      <td>timestamp</td>\n",
       "      <td>timestamp with time zone</td>\n",
       "      <td>2</td>\n",
       "    </tr>\n",
       "    <tr>\n",
       "      <th>19</th>\n",
       "      <td>anonymous_id</td>\n",
       "      <td>text</td>\n",
       "      <td>2</td>\n",
       "    </tr>\n",
       "    <tr>\n",
       "      <th>20</th>\n",
       "      <td>context_campaign_source</td>\n",
       "      <td>text</td>\n",
       "      <td>2</td>\n",
       "    </tr>\n",
       "    <tr>\n",
       "      <th>21</th>\n",
       "      <td>user_id</td>\n",
       "      <td>text</td>\n",
       "      <td>2</td>\n",
       "    </tr>\n",
       "    <tr>\n",
       "      <th>22</th>\n",
       "      <td>uuid_ts</td>\n",
       "      <td>timestamp with time zone</td>\n",
       "      <td>2</td>\n",
       "    </tr>\n",
       "    <tr>\n",
       "      <th>23</th>\n",
       "      <td>context_channel_slug</td>\n",
       "      <td>text</td>\n",
       "      <td>1</td>\n",
       "    </tr>\n",
       "    <tr>\n",
       "      <th>24</th>\n",
       "      <td>context_destination_url</td>\n",
       "      <td>text</td>\n",
       "      <td>1</td>\n",
       "    </tr>\n",
       "    <tr>\n",
       "      <th>25</th>\n",
       "      <td>context_destination_url_application_url</td>\n",
       "      <td>text</td>\n",
       "      <td>1</td>\n",
       "    </tr>\n",
       "    <tr>\n",
       "      <th>26</th>\n",
       "      <td>context_destination_url_category_slug</td>\n",
       "      <td>text</td>\n",
       "      <td>1</td>\n",
       "    </tr>\n",
       "    <tr>\n",
       "      <th>27</th>\n",
       "      <td>context_destination_url_created_at</td>\n",
       "      <td>timestamp with time zone</td>\n",
       "      <td>1</td>\n",
       "    </tr>\n",
       "    <tr>\n",
       "      <th>28</th>\n",
       "      <td>context_destination_url_id</td>\n",
       "      <td>bigint</td>\n",
       "      <td>1</td>\n",
       "    </tr>\n",
       "    <tr>\n",
       "      <th>29</th>\n",
       "      <td>context_destination_url_locale</td>\n",
       "      <td>text</td>\n",
       "      <td>1</td>\n",
       "    </tr>\n",
       "    <tr>\n",
       "      <th>...</th>\n",
       "      <td>...</td>\n",
       "      <td>...</td>\n",
       "      <td>...</td>\n",
       "    </tr>\n",
       "    <tr>\n",
       "      <th>75</th>\n",
       "      <td>product_slug</td>\n",
       "      <td>text</td>\n",
       "      <td>1</td>\n",
       "    </tr>\n",
       "    <tr>\n",
       "      <th>76</th>\n",
       "      <td>provider</td>\n",
       "      <td>text</td>\n",
       "      <td>1</td>\n",
       "    </tr>\n",
       "    <tr>\n",
       "      <th>77</th>\n",
       "      <td>provider_slug</td>\n",
       "      <td>text</td>\n",
       "      <td>1</td>\n",
       "    </tr>\n",
       "    <tr>\n",
       "      <th>78</th>\n",
       "      <td>referrer</td>\n",
       "      <td>text</td>\n",
       "      <td>1</td>\n",
       "    </tr>\n",
       "    <tr>\n",
       "      <th>79</th>\n",
       "      <td>search</td>\n",
       "      <td>text</td>\n",
       "      <td>1</td>\n",
       "    </tr>\n",
       "    <tr>\n",
       "      <th>80</th>\n",
       "      <td>title</td>\n",
       "      <td>text</td>\n",
       "      <td>1</td>\n",
       "    </tr>\n",
       "    <tr>\n",
       "      <th>81</th>\n",
       "      <td>url</td>\n",
       "      <td>text</td>\n",
       "      <td>1</td>\n",
       "    </tr>\n",
       "    <tr>\n",
       "      <th>82</th>\n",
       "      <td>product_id</td>\n",
       "      <td>text</td>\n",
       "      <td>1</td>\n",
       "    </tr>\n",
       "    <tr>\n",
       "      <th>83</th>\n",
       "      <td>affiliate_id</td>\n",
       "      <td>text</td>\n",
       "      <td>1</td>\n",
       "    </tr>\n",
       "    <tr>\n",
       "      <th>84</th>\n",
       "      <td>category_slug</td>\n",
       "      <td>text</td>\n",
       "      <td>1</td>\n",
       "    </tr>\n",
       "    <tr>\n",
       "      <th>85</th>\n",
       "      <td>channel</td>\n",
       "      <td>text</td>\n",
       "      <td>1</td>\n",
       "    </tr>\n",
       "    <tr>\n",
       "      <th>86</th>\n",
       "      <td>channel_slug</td>\n",
       "      <td>text</td>\n",
       "      <td>1</td>\n",
       "    </tr>\n",
       "    <tr>\n",
       "      <th>87</th>\n",
       "      <td>context_action</td>\n",
       "      <td>text</td>\n",
       "      <td>1</td>\n",
       "    </tr>\n",
       "    <tr>\n",
       "      <th>88</th>\n",
       "      <td>context_affiliate_id</td>\n",
       "      <td>text</td>\n",
       "      <td>1</td>\n",
       "    </tr>\n",
       "    <tr>\n",
       "      <th>89</th>\n",
       "      <td>context_amp_id</td>\n",
       "      <td>text</td>\n",
       "      <td>1</td>\n",
       "    </tr>\n",
       "    <tr>\n",
       "      <th>90</th>\n",
       "      <td>context_campaign_aource</td>\n",
       "      <td>text</td>\n",
       "      <td>1</td>\n",
       "    </tr>\n",
       "    <tr>\n",
       "      <th>91</th>\n",
       "      <td>context_campaign_campaigyn</td>\n",
       "      <td>text</td>\n",
       "      <td>1</td>\n",
       "    </tr>\n",
       "    <tr>\n",
       "      <th>92</th>\n",
       "      <td>context_campaign_cpmpaign</td>\n",
       "      <td>text</td>\n",
       "      <td>1</td>\n",
       "    </tr>\n",
       "    <tr>\n",
       "      <th>93</th>\n",
       "      <td>context_campaign_creative</td>\n",
       "      <td>text</td>\n",
       "      <td>1</td>\n",
       "    </tr>\n",
       "    <tr>\n",
       "      <th>94</th>\n",
       "      <td>context_campaign_e6_9d_80campaign</td>\n",
       "      <td>text</td>\n",
       "      <td>1</td>\n",
       "    </tr>\n",
       "    <tr>\n",
       "      <th>95</th>\n",
       "      <td>context_campaign_l</td>\n",
       "      <td>text</td>\n",
       "      <td>1</td>\n",
       "    </tr>\n",
       "    <tr>\n",
       "      <th>96</th>\n",
       "      <td>context_campaign_medinum</td>\n",
       "      <td>text</td>\n",
       "      <td>1</td>\n",
       "    </tr>\n",
       "    <tr>\n",
       "      <th>97</th>\n",
       "      <td>context_campaign_oi</td>\n",
       "      <td>text</td>\n",
       "      <td>1</td>\n",
       "    </tr>\n",
       "    <tr>\n",
       "      <th>98</th>\n",
       "      <td>context_campaign_placement</td>\n",
       "      <td>text</td>\n",
       "      <td>1</td>\n",
       "    </tr>\n",
       "    <tr>\n",
       "      <th>99</th>\n",
       "      <td>context_campaign_reader</td>\n",
       "      <td>text</td>\n",
       "      <td>1</td>\n",
       "    </tr>\n",
       "    <tr>\n",
       "      <th>100</th>\n",
       "      <td>context_campaign_referrer</td>\n",
       "      <td>text</td>\n",
       "      <td>1</td>\n",
       "    </tr>\n",
       "    <tr>\n",
       "      <th>101</th>\n",
       "      <td>context_campaign_solazada_20sgurce</td>\n",
       "      <td>text</td>\n",
       "      <td>1</td>\n",
       "    </tr>\n",
       "    <tr>\n",
       "      <th>102</th>\n",
       "      <td>context_campaign_soupnterestce</td>\n",
       "      <td>text</td>\n",
       "      <td>1</td>\n",
       "    </tr>\n",
       "    <tr>\n",
       "      <th>103</th>\n",
       "      <td>context_category_slug</td>\n",
       "      <td>text</td>\n",
       "      <td>1</td>\n",
       "    </tr>\n",
       "    <tr>\n",
       "      <th>104</th>\n",
       "      <td>context_channel</td>\n",
       "      <td>text</td>\n",
       "      <td>1</td>\n",
       "    </tr>\n",
       "  </tbody>\n",
       "</table>\n",
       "<p>105 rows × 3 columns</p>\n",
       "</div>"
      ],
      "text/plain": [
       "                                 column_name                 data_type  count\n",
       "0                      context_campaign_term                      text      2\n",
       "1                    context_campaign_medium                      text      2\n",
       "2                      context_page_referrer                      text      2\n",
       "3                         context_user_agent                      text      2\n",
       "4                        context_page_search                      text      2\n",
       "5                         context_page_title                      text      2\n",
       "6                      context_campaign_name                      text      2\n",
       "7                           context_page_url                      text      2\n",
       "8                                         id         character varying      2\n",
       "9                                 context_ip                      text      2\n",
       "10                      context_library_name                      text      2\n",
       "11                        original_timestamp  timestamp with time zone      2\n",
       "12                   context_library_version                      text      2\n",
       "13                            context_locale                      text      2\n",
       "14                               received_at  timestamp with time zone      2\n",
       "15                         context_page_path                      text      2\n",
       "16                  context_campaign_content                      text      2\n",
       "17                                   sent_at  timestamp with time zone      2\n",
       "18                                 timestamp  timestamp with time zone      2\n",
       "19                              anonymous_id                      text      2\n",
       "20                   context_campaign_source                      text      2\n",
       "21                                   user_id                      text      2\n",
       "22                                   uuid_ts  timestamp with time zone      2\n",
       "23                      context_channel_slug                      text      1\n",
       "24                   context_destination_url                      text      1\n",
       "25   context_destination_url_application_url                      text      1\n",
       "26     context_destination_url_category_slug                      text      1\n",
       "27        context_destination_url_created_at  timestamp with time zone      1\n",
       "28                context_destination_url_id                    bigint      1\n",
       "29            context_destination_url_locale                      text      1\n",
       "..                                       ...                       ...    ...\n",
       "75                              product_slug                      text      1\n",
       "76                                  provider                      text      1\n",
       "77                             provider_slug                      text      1\n",
       "78                                  referrer                      text      1\n",
       "79                                    search                      text      1\n",
       "80                                     title                      text      1\n",
       "81                                       url                      text      1\n",
       "82                                product_id                      text      1\n",
       "83                              affiliate_id                      text      1\n",
       "84                             category_slug                      text      1\n",
       "85                                   channel                      text      1\n",
       "86                              channel_slug                      text      1\n",
       "87                            context_action                      text      1\n",
       "88                      context_affiliate_id                      text      1\n",
       "89                            context_amp_id                      text      1\n",
       "90                   context_campaign_aource                      text      1\n",
       "91                context_campaign_campaigyn                      text      1\n",
       "92                 context_campaign_cpmpaign                      text      1\n",
       "93                 context_campaign_creative                      text      1\n",
       "94         context_campaign_e6_9d_80campaign                      text      1\n",
       "95                        context_campaign_l                      text      1\n",
       "96                  context_campaign_medinum                      text      1\n",
       "97                       context_campaign_oi                      text      1\n",
       "98                context_campaign_placement                      text      1\n",
       "99                   context_campaign_reader                      text      1\n",
       "100                context_campaign_referrer                      text      1\n",
       "101       context_campaign_solazada_20sgurce                      text      1\n",
       "102           context_campaign_soupnterestce                      text      1\n",
       "103                    context_category_slug                      text      1\n",
       "104                          context_channel                      text      1\n",
       "\n",
       "[105 rows x 3 columns]"
      ]
     },
     "execution_count": 31,
     "metadata": {},
     "output_type": "execute_result"
    }
   ],
   "source": [
    "cols = dp_querying.query_to_dataframe(\"\"\"\n",
    "select  column_name, data_type, count(*) from information_schema.columns \n",
    "where \n",
    " table_name in  ('\"\"\"+\"','\".join([\"pages\", \"tracks\"])+\"\"\"')\n",
    "and table_schema='moneysmartsg_prod'\n",
    "and column_name like '%%'\n",
    "group by 1,2 order by count(*) desc\n",
    "\"\"\")\n",
    "cols"
   ]
  },
  {
   "cell_type": "code",
   "execution_count": null,
   "metadata": {},
   "outputs": [],
   "source": [
    "\n"
   ]
  },
  {
   "cell_type": "code",
   "execution_count": null,
   "metadata": {},
   "outputs": [],
   "source": [
    "segment_date_constraint = \" timestamp >= '%s' and timestamp < '%s' \" % (from_datetime.isoformat(), to_datetime.isoformat())"
   ]
  },
  {
   "cell_type": "code",
   "execution_count": null,
   "metadata": {},
   "outputs": [
    {
     "data": {
      "text/html": [
       "<div>\n",
       "<style scoped>\n",
       "    .dataframe tbody tr th:only-of-type {\n",
       "        vertical-align: middle;\n",
       "    }\n",
       "\n",
       "    .dataframe tbody tr th {\n",
       "        vertical-align: top;\n",
       "    }\n",
       "\n",
       "    .dataframe thead th {\n",
       "        text-align: right;\n",
       "    }\n",
       "</style>\n",
       "<table border=\"1\" class=\"dataframe\">\n",
       "  <thead>\n",
       "    <tr style=\"text-align: right;\">\n",
       "      <th></th>\n",
       "      <th>parent_schema</th>\n",
       "      <th>parent</th>\n",
       "      <th>child_schema</th>\n",
       "      <th>child</th>\n",
       "    </tr>\n",
       "  </thead>\n",
       "  <tbody>\n",
       "  </tbody>\n",
       "</table>\n",
       "</div>"
      ],
      "text/plain": [
       "Empty DataFrame\n",
       "Columns: [parent_schema, parent, child_schema, child]\n",
       "Index: []"
      ]
     },
     "execution_count": 33,
     "metadata": {},
     "output_type": "execute_result"
    }
   ],
   "source": [
    "dp_querying.query_to_dataframe(\"\"\"SELECT\n",
    "    nmsp_parent.nspname AS parent_schema,\n",
    "    parent.relname      AS parent,\n",
    "    nmsp_child.nspname  AS child_schema,\n",
    "    child.relname       AS child\n",
    "FROM pg_inherits\n",
    "    JOIN pg_class parent            ON pg_inherits.inhparent = parent.oid\n",
    "    JOIN pg_class child             ON pg_inherits.inhrelid   = child.oid\n",
    "    JOIN pg_namespace nmsp_parent   ON nmsp_parent.oid  = parent.relnamespace\n",
    "    JOIN pg_namespace nmsp_child    ON nmsp_child.oid   = child.relnamespace\n",
    "WHERE parent.relname='%s';\"\"\")%\"pages\""
   ]
  },
  {
   "cell_type": "code",
   "execution_count": null,
   "metadata": {},
   "outputs": [
    {
     "name": "stdout",
     "output_type": "stream",
     "text": [
      "['pages_pkey'\n",
      " 'CREATE UNIQUE INDEX pages_pkey ON moneysmarthk_prod.pages USING btree (id)']\n",
      "['pages_pkey'\n",
      " 'CREATE UNIQUE INDEX pages_pkey ON moneysmartsg_prod.pages USING btree (id)']\n",
      "['pages_timestamp_idx'\n",
      " 'CREATE INDEX pages_timestamp_idx ON moneysmartsg_prod.pages USING btree (\"timestamp\")']\n",
      "['pages_pkey'\n",
      " 'CREATE UNIQUE INDEX pages_pkey ON moneysmarthk_dev.pages USING btree (id)']\n",
      "['pages_pkey'\n",
      " 'CREATE UNIQUE INDEX pages_pkey ON moneysmartsg_dev.pages USING btree (id)']\n"
     ]
    }
   ],
   "source": [
    "pd.get_option(\"display.max_colwidth\", 200)\n",
    "indexes = dp_querying.query_to_dataframe(\"\"\"SELECT\n",
    "    indexname,\n",
    "    indexdef\n",
    "FROM\n",
    "    pg_indexes\n",
    "WHERE\n",
    "    tablename = '%s';\"\"\" % \"pages\")\n",
    "\n",
    "for a in indexes.values:\n",
    "    print(a)"
   ]
  },
  {
   "cell_type": "code",
   "execution_count": null,
   "metadata": {},
   "outputs": [
    {
     "name": "stdout",
     "output_type": "stream",
     "text": [
      "querying table moneysmartsg_prod.pages\n",
      "['timestamp', 'anonymous_id', 'context_page_url', 'context_ip', 'context_user_agent']\n"
     ]
    }
   ],
   "source": [
    "query_segment_by_table = False #really shouldn't set this to true, didn't realise correct method.  Also need to add country stuff\n",
    "\n",
    "segment_schemas = [\"moneysmartsg_prod\", \"moneysmarthk_prod\"]\n",
    "# The meat of it\n",
    "start_time = datetime.now()\n",
    "event_name_to_rows = {}\n",
    "if query_segment_by_table:\n",
    "    for country_schema in segment_schemas:\n",
    "        for i, (event_name, table_name) in enumerate(events_and_tables_to_get_from_data_pier):\n",
    "            table_start_time = datetime.now()\n",
    "            print(\"querying table %s / %s (%i/%i)\" % (table_name, event_name, i+1, len(events_and_tables_to_get_from_data_pier)))\n",
    "            query = \"select {cols} from {schema}.{table} where {date_constraint}\".format(cols=\", \".join(segment_columns_to_query), \n",
    "                                                                           table=table_name,\n",
    "                                                                           date_constraint =segment_date_constraint, schema=country_schema)\n",
    "\n",
    "            events = dp_querying.query_to_dataframe(query)\n",
    "            events[\"event_name\"] = event_name #fills the entire column with the same value\n",
    "            print(\"Got %i events\"% len(events))\n",
    "            event_name_to_rows[event_name]=events\n",
    "\n",
    "            table_download_time = (datetime.now()-table_start_time).total_seconds()\n",
    "            time_since_start = (datetime.now()-start_time).total_seconds()\n",
    "            print(\"It took %.1f seconds to download from the table (%.1f seconds overall)\" %(table_download_time, time_since_start))\n",
    "            print()\n",
    "            # if i>4:break\n",
    "\n",
    "\n",
    "        # Merge tables\n",
    "        segment_combined_df = pd.DataFrame()\n",
    "        #combined_df = pd.DataFrame(columns=event_name_to_rows[\"LeadGeneration.ClickConversion\"].columns)\n",
    "        \"\"\"for event_name, event_df in event_name_to_rows.items():\n",
    "            print(len(event_df))\n",
    "            combined_df.append(event_df, ignore_index=True)\n",
    "            print(len(combined_df))\n",
    "        #combined_df.astype({\"event_name\":\"category\"})\n",
    "        \"\"\"\n",
    "\n",
    "        segment_combined_df = combined_df.append(list(event_name_to_rows.values()))\n",
    "    \n",
    "    \n",
    "else:\n",
    "    segment_columns_to_query_full = segment_columns_to_query + [\"event_text\",]\n",
    "    tables_to_query = [\"pages\", \"tracks\"]\n",
    "    all_event_dfs = []\n",
    "    segment_combined_df = pd.DataFrame()\n",
    "    for country_schema in segment_schemas:\n",
    "        for table_name in tables_to_query:\n",
    "            table_start_time = datetime.now()\n",
    "            if table_name!=\"pages\":\n",
    "                cols_to_query = segment_columns_to_query_full\n",
    "            else:\n",
    "                cols_to_query = segment_columns_to_query\n",
    "            print(\"querying table %s.%s\" % (country_schema, table_name))\n",
    "            print(cols_to_query)\n",
    "            query = \"select {cols} from {schema}.{table} where {date_constraint}\".format(cols=\", \".join(cols_to_query), \n",
    "                                                                           table=table_name,\n",
    "                                                                           date_constraint =segment_date_constraint, schema=country_schema)\n",
    "\n",
    "            events = dp_querying.query_to_dataframe(query)\n",
    "            \n",
    "            print(\"Got %i events\"% len(events))\n",
    "            #all_event_dfs.append(events)\n",
    "            \n",
    "            if table_name ==\"pages\":\n",
    "                events[\"event_text\"] = \"PageView\" # fills the whole column\n",
    "            table_download_time = (datetime.now()-table_start_time).total_seconds()\n",
    "            time_since_start = (datetime.now()-start_time).total_seconds()\n",
    "            print(\"merging\")\n",
    "            segment_combined_df = segment_combined_df.append(events)\n",
    "            print(\"It took %.1f seconds to download from the table (%.1f seconds overall)\" %(table_download_time, time_since_start))\n",
    "            print()\n",
    "            \n",
    "        "
   ]
  },
  {
   "cell_type": "code",
   "execution_count": null,
   "metadata": {},
   "outputs": [],
   "source": [
    "if not query_segment_by_table:\n",
    "    segment_combined_df.rename(columns={\"event_text\":\"event_name\"}, inplace=True)"
   ]
  },
  {
   "cell_type": "code",
   "execution_count": null,
   "metadata": {},
   "outputs": [],
   "source": [
    "len(all_event_dfs)"
   ]
  },
  {
   "cell_type": "code",
   "execution_count": null,
   "metadata": {},
   "outputs": [],
   "source": [
    "if include_device_segmentation:\n",
    "    segment_combined_df.rename(columns={\"context_user_agent\":\"user_agent\"}, inplace=True)"
   ]
  },
  {
   "cell_type": "code",
   "execution_count": null,
   "metadata": {},
   "outputs": [],
   "source": [
    "segment_combined_df.head()"
   ]
  },
  {
   "cell_type": "code",
   "execution_count": null,
   "metadata": {},
   "outputs": [],
   "source": []
  },
  {
   "cell_type": "code",
   "execution_count": null,
   "metadata": {},
   "outputs": [],
   "source": [
    "segment_combined_df.rename(columns={\"context_page_url\":\"page_url\"}, inplace=True)\n",
    "segment_combined_df.head(5)"
   ]
  },
  {
   "cell_type": "markdown",
   "metadata": {},
   "source": [
    "# Merging Segment and Kinesis Events"
   ]
  },
  {
   "cell_type": "code",
   "execution_count": null,
   "metadata": {},
   "outputs": [],
   "source": [
    "# Make names clear e.g. s_...\n",
    "\n",
    "# Check the timezone / timestamps match\n",
    "# Athena raw stuff is in UTC, not SG time.  So 2020-01-19T00:04:04.443Z is 8:05am Singapore time.\n",
    "# whereas Segment is stored with tiemzone at UTC.  So, could convert them all.\n",
    "# TODO: But it does meant that there's a lot of events coming at the day boundary."
   ]
  },
  {
   "cell_type": "code",
   "execution_count": null,
   "metadata": {},
   "outputs": [],
   "source": [
    "athena_full_events_df.head(2)"
   ]
  },
  {
   "cell_type": "code",
   "execution_count": null,
   "metadata": {},
   "outputs": [],
   "source": [
    "athena_full_events_df.dtypes"
   ]
  },
  {
   "cell_type": "code",
   "execution_count": null,
   "metadata": {},
   "outputs": [],
   "source": [
    "segment_combined_df.dtypes"
   ]
  },
  {
   "cell_type": "code",
   "execution_count": null,
   "metadata": {},
   "outputs": [],
   "source": [
    "# Group by columns to get around date inaccuracy issue\n",
    "cols_to_group_by = [\"anonymous_id\", \"event_name\", \"page_url\", \"date\"] #, \"context_ip\", \"context_user_agent\"] #TODO: add IP address\n",
    "\n",
    "print(\"Grouping by %s\"% \", \".join(cols_to_group_by))\n",
    "\n",
    "print(\"Fixing dates before grouping\")\n",
    "print(\"... for Segment\")\n",
    "segment_combined_df[\"date\"] = segment_combined_df.apply(lambda row: row.timestamp.date().isoformat(), axis=1) # making this a string\n",
    "print(\"... for athena\")\n",
    "athena_full_events_df[\"date\"] = athena_full_events_df.apply(lambda row: row.sent_at[:10], axis=1)\n",
    "# super-slow,so moving to using strings athena_full_events_df[\"date\"] = athena_full_events_df.apply(lambda row: dateparser.parse(row.sent_at_timestamp).date(), axis=1)  #conversion from string might not be needed in the future; using dateparser as more robust, also slow\n",
    "\n",
    "#going to reduce the number of columns to make it safer, then can go back and look for user agents etc (can do a mapping of anonymous_id to user_agent for instance.)\n",
    "\n",
    "\n"
   ]
  },
  {
   "cell_type": "code",
   "execution_count": null,
   "metadata": {},
   "outputs": [],
   "source": [
    "print(\"Setting sensible data types for the columns to group by\")\n",
    "data_type_mappings = {\"event_name\":\"category\", \"date\":\"category\"}\n",
    "segment_combined_df = segment_combined_df.astype(data_type_mappings, copy=False)\n",
    "athena_full_events_df = athena_full_events_df.astype(data_type_mappings, copy=False)"
   ]
  },
  {
   "cell_type": "code",
   "execution_count": null,
   "metadata": {},
   "outputs": [],
   "source": [
    "segment_combined_df.head()[cols_to_group_by]"
   ]
  },
  {
   "cell_type": "code",
   "execution_count": null,
   "metadata": {},
   "outputs": [],
   "source": [
    "athena_full_events_df.head()[cols_to_group_by]"
   ]
  },
  {
   "cell_type": "code",
   "execution_count": null,
   "metadata": {},
   "outputs": [],
   "source": [
    "# athena_full_events_df timestamp\n",
    "\n",
    "print(\"Grouping by %s\"%cols_to_group_by)\n",
    "segment_grouped_df = segment_combined_df.groupby(cols_to_group_by).size().reset_index(name='s_count') #size preserves nulls, this sets the column to s_count\n",
    "\n",
    "athena_grouped_df = athena_full_events_df.groupby(cols_to_group_by).size().reset_index(name='k_count')\n",
    "\n",
    "# segment_combined_df.rename(columns = {\"context_ip\":\"s_context_ip\", \"context_user_agent\":\"s_context_user_agent\"}) "
   ]
  },
  {
   "cell_type": "code",
   "execution_count": null,
   "metadata": {},
   "outputs": [],
   "source": [
    "athena_grouped_df.head()"
   ]
  },
  {
   "cell_type": "code",
   "execution_count": null,
   "metadata": {},
   "outputs": [],
   "source": [
    "# Actually join them\n",
    "\n",
    "# set the column count names\n",
    "\n",
    "merged_df = segment_grouped_df.merge(athena_grouped_df, how='outer', on=cols_to_group_by )\n",
    "\n",
    "#Fill in the empty counts with 0s\n",
    "\n",
    "merged_df[\"s_count\"].fillna(0, inplace=True)\n",
    "merged_df[\"k_count\"].fillna(0, inplace=True)"
   ]
  },
  {
   "cell_type": "code",
   "execution_count": null,
   "metadata": {},
   "outputs": [],
   "source": [
    "merged_df.head(10)"
   ]
  },
  {
   "cell_type": "code",
   "execution_count": null,
   "metadata": {},
   "outputs": [],
   "source": [
    "merged_df.groupby([\"date\"]).count()"
   ]
  },
  {
   "cell_type": "code",
   "execution_count": null,
   "metadata": {},
   "outputs": [],
   "source": []
  },
  {
   "cell_type": "code",
   "execution_count": null,
   "metadata": {},
   "outputs": [],
   "source": []
  },
  {
   "cell_type": "markdown",
   "metadata": {},
   "source": [
    "# Add Page Filtering Metadata\n",
    "\n",
    "* is url blog / shop / ...\n",
    "* country"
   ]
  },
  {
   "cell_type": "code",
   "execution_count": null,
   "metadata": {},
   "outputs": [],
   "source": [
    "from urllib.parse import urlparse, parse_qs"
   ]
  },
  {
   "cell_type": "code",
   "execution_count": 145,
   "metadata": {},
   "outputs": [],
   "source": [
    "def get_metadata_from_url(url):\n",
    "    p = urlparse(url.lower())\n",
    "    \n",
    "    #urlparse(\"https://www-new.moneysmart.sg/rabbit/mouse/?a=b\")\n",
    "    #ParseResult(scheme='https', netloc='www-new.moneysmart.sg', path='/rabbit/mouse/', params='', query='a=b', fragment='')\n",
    "    \n",
    "    \n",
    "    nl = p.netloc\n",
    "    \n",
    "    page_type = \"\"\n",
    "    stripped_path = p.path.strip(\"/\")\n",
    "    \n",
    "    slug = \"/\"+stripped_path\n",
    "    \n",
    "    if slug.startswith(\"/en/\") or slug.startswith(\"/zh-hk/\"):\n",
    "        slug_root = \"/\"+stripped_path.split(\"/\")[1]\n",
    "    elif slug==\"/en\" or slug==\"/zh-hk\":\n",
    "        slug_root = \"/\"\n",
    "    else:\n",
    "        slug_root = \"/\"+stripped_path.split(\"/\")[0]\n",
    "    \n",
    "    \n",
    "    \n",
    "    #blog (for SG and HK)\n",
    "    if \"moneysmart.tw\" in nl or \"moneysmart.ph\" in nl or \"moneysmart.id\" in nl or 'blog.moneysmart' in nl or 'blog-new' in nl or 'blog3' in nl:\n",
    "        page_type = \"blog\"\n",
    "    \n",
    "    #LPS\n",
    "    elif stripped_path.endswith(\"ms\"):\n",
    "        page_type = \"lps\"\n",
    "    \n",
    "    #interstitial\n",
    "    elif \"iss.moneysmart\" in nl or stripped_path.endswith(\"apply\") or stripped_path.endswith(\"redirect\"):\n",
    "        page_type = \"iss\"\n",
    "        \n",
    "    #unbounce\n",
    "    elif \"get.moneysmart\" in nl:\n",
    "        page_type = \"unbounce\"\n",
    "     \n",
    "    \n",
    "    #embed     , \"regexp_extract\"(\"context\".\"page_url\", '^(([^:/?#]+):)?(//([^/?#]*))?([^?#]*)(\\?([^#]*))?(#(.*))?', 5) like '/embed/%' as is_embed\n",
    "    elif slug_root.startswith(\"/embed/\"): #As it uses slug_root, I think will be safe with HK locales.\n",
    "        page_type = \"embed\"\n",
    "    \n",
    "    #else shop\n",
    "    else:\n",
    "        page_type = \"shop\"\n",
    "        \n",
    "        \n",
    "        \n",
    "    \n",
    "    #ab test side , CAST(\"strpos\"(\"context\".\"page_url\", '://www-new.') AS boolean) OR CAST(\"strpos\"(\"context\".\"page_url\", '://www3.') AS boolean)  OR CAST(\"strpos\"(\"context\".\"page_url\", '://blog3.') AS boolean) as \"is_test\"\n",
    "    if \"www-new.\" in nl or \"www3.\" in nl or \"blog3.\" in nl:\n",
    "        ab_test = \"test\"\n",
    "    else:\n",
    "        ab_test = \"control\"\n",
    "    \n",
    "\n",
    "    \n",
    "    \n",
    "    \n",
    "    \n",
    "    \"\"\"\n",
    "     , CASE WHEN \"regexp_extract\"(\"context\".\"page_url\", '^(([^:/?#]+):)?(//([^/?#]*))?([^?#]*)(\\?([^#]*))?(#(.*))?', 4) LIKE '%moneysmart.sg%' THEN 'sg' \n",
    "        WHEN \"regexp_extract\"(\"context\".\"page_url\", '^(([^:/?#]+):)?(//([^/?#]*))?([^?#]*)(\\?([^#]*))?(#(.*))?', 4) LIKE '%moneysmart.hk%' THEN 'hk' \n",
    "        WHEN \"regexp_extract\"(\"context\".\"page_url\", '^(([^:/?#]+):)?(//([^/?#]*))?([^?#]*)(\\?([^#]*))?(#(.*))?', 4) LIKE '%moneysmart.id%' THEN 'id' \n",
    "        WHEN \"regexp_extract\"(\"context\".\"page_url\", '^(([^:/?#]+):)?(//([^/?#]*))?([^?#]*)(\\?([^#]*))?(#(.*))?', 4) LIKE '%moneysmart.ph%' THEN 'ph'\n",
    "        WHEN \"regexp_extract\"(\"context\".\"page_url\", '^(([^:/?#]+):)?(//([^/?#]*))?([^?#]*)(\\?([^#]*))?(#(.*))?', 4) LIKE '%moneysmart.tw%' THEN 'tw' \n",
    "        ELSE null END as country_code\n",
    "    \"\"\"\n",
    "    \n",
    "    country_code = \"\"\n",
    "    if \"moneysmart.sg\" in nl:\n",
    "        country_code = \"sg\"\n",
    "    elif \"moneysmart.hk\" in nl:\n",
    "        country_code = \"hk\"\n",
    "    elif \"moneysmart.id\" in nl:\n",
    "        country_code = \"id\"\n",
    "    elif \"moneysmart.ph\" in nl:\n",
    "        country_code = \"ph\"\n",
    "    elif \"moneysmart.tw\" in nl:\n",
    "        country_code = \"tw\"\n",
    "    elif \"moneysmart.com\" in nl:\n",
    "        country_code = \"ww\" #worldwide\n",
    "    else:\n",
    "        country_code = \"??\"\n",
    "    \n",
    "    \n",
    "    #return {\"page_type\":page_type, \"path\":path, \"ab_test\":ab_test, \"country_code\":country_code}\n",
    "    return [page_type, slug, slug_root, ab_test, country_code]\n",
    "    \n",
    "    \n",
    "\n"
   ]
  },
  {
   "cell_type": "code",
   "execution_count": 142,
   "metadata": {},
   "outputs": [],
   "source": [
    "# Do some tests to show that it's kind of working (bad version of a unit test!)"
   ]
  },
  {
   "cell_type": "code",
   "execution_count": 143,
   "metadata": {},
   "outputs": [
    {
     "data": {
      "text/plain": [
       "['shop', '/rabbit/headlight', '/rabbit', 'test', 'sg']"
      ]
     },
     "execution_count": 143,
     "metadata": {},
     "output_type": "execute_result"
    }
   ],
   "source": [
    "get_metadata_from_url(\"https://www-new.moneysmart.sg/rabbit/headlight/?scary=True\")"
   ]
  },
  {
   "cell_type": "code",
   "execution_count": null,
   "metadata": {},
   "outputs": [],
   "source": [
    "get_metadata_from_url(\"https://blog.moneysmart.ph/rabbit/headlight/?scary=True\")"
   ]
  },
  {
   "cell_type": "code",
   "execution_count": null,
   "metadata": {},
   "outputs": [],
   "source": [
    "get_metadata_from_url(\"https://blog3.moneysmart.tw\")"
   ]
  },
  {
   "cell_type": "code",
   "execution_count": null,
   "metadata": {},
   "outputs": [],
   "source": [
    "get_metadata_from_url(\"https://www.moneysmart.hk/zh-hk/credit-cards/\")"
   ]
  },
  {
   "cell_type": "code",
   "execution_count": null,
   "metadata": {},
   "outputs": [],
   "source": [
    "start_time = datetime.now()\n",
    "print(\"starting at %s\"%start_time.isoformat())\n",
    "#This is a bit slow (consider at looking how to optimise, especially memory usage from creating loads of series objects\n",
    "#Could probably optimise by splitting all the urls using a pandas function, then joining with a map to get page_type, path etc, but ymmv\n",
    "metadata_df = merged_df.apply(lambda x: pd.Series(get_metadata_from_url(x.page_url)), axis=1)#, index=[\"page_type\", \"path\", \"ab_test\", \"country_code\"])\n",
    "end_time = datetime.now()\n",
    "time_taken = (end_time-start_time).total_seconds()\n",
    "print(\"Took %i seconds\"%time_taken)"
   ]
  },
  {
   "cell_type": "code",
   "execution_count": null,
   "metadata": {},
   "outputs": [],
   "source": []
  },
  {
   "cell_type": "code",
   "execution_count": null,
   "metadata": {},
   "outputs": [],
   "source": [
    "metadata_df.rename(columns={0:\"page_type\", 1:\"slug\", 2:\"slug_root\", 3:\"ab_test\", 4:\"country_code\"}, inplace=True)"
   ]
  },
  {
   "cell_type": "code",
   "execution_count": 144,
   "metadata": {},
   "outputs": [
    {
     "data": {
      "text/html": [
       "<div>\n",
       "<style scoped>\n",
       "    .dataframe tbody tr th:only-of-type {\n",
       "        vertical-align: middle;\n",
       "    }\n",
       "\n",
       "    .dataframe tbody tr th {\n",
       "        vertical-align: top;\n",
       "    }\n",
       "\n",
       "    .dataframe thead th {\n",
       "        text-align: right;\n",
       "    }\n",
       "</style>\n",
       "<table border=\"1\" class=\"dataframe\">\n",
       "  <thead>\n",
       "    <tr style=\"text-align: right;\">\n",
       "      <th></th>\n",
       "      <th>page_type</th>\n",
       "      <th>slug</th>\n",
       "      <th>slug_root</th>\n",
       "      <th>ab_test</th>\n",
       "      <th>country_code</th>\n",
       "    </tr>\n",
       "  </thead>\n",
       "  <tbody>\n",
       "    <tr>\n",
       "      <th>0</th>\n",
       "      <td>blog</td>\n",
       "      <td>/career/5-easy-side-businesses-you-can-run-whi...</td>\n",
       "      <td>/career</td>\n",
       "      <td>control</td>\n",
       "      <td>sg</td>\n",
       "    </tr>\n",
       "    <tr>\n",
       "      <th>1</th>\n",
       "      <td>shop</td>\n",
       "      <td>/embed/98e61305602380971d9c5e68c4a75647</td>\n",
       "      <td>/embed</td>\n",
       "      <td>control</td>\n",
       "      <td>sg</td>\n",
       "    </tr>\n",
       "    <tr>\n",
       "      <th>2</th>\n",
       "      <td>blog</td>\n",
       "      <td>/career/5-easy-side-businesses-you-can-run-whi...</td>\n",
       "      <td>/career</td>\n",
       "      <td>control</td>\n",
       "      <td>sg</td>\n",
       "    </tr>\n",
       "    <tr>\n",
       "      <th>3</th>\n",
       "      <td>shop</td>\n",
       "      <td>/embed/98e61305602380971d9c5e68c4a75647</td>\n",
       "      <td>/embed</td>\n",
       "      <td>control</td>\n",
       "      <td>sg</td>\n",
       "    </tr>\n",
       "    <tr>\n",
       "      <th>4</th>\n",
       "      <td>shop</td>\n",
       "      <td>/zh-hk/credit-cards</td>\n",
       "      <td>/credit-cards</td>\n",
       "      <td>control</td>\n",
       "      <td>hk</td>\n",
       "    </tr>\n",
       "  </tbody>\n",
       "</table>\n",
       "</div>"
      ],
      "text/plain": [
       "  page_type                                               slug      slug_root  \\\n",
       "0      blog  /career/5-easy-side-businesses-you-can-run-whi...        /career   \n",
       "1      shop            /embed/98e61305602380971d9c5e68c4a75647         /embed   \n",
       "2      blog  /career/5-easy-side-businesses-you-can-run-whi...        /career   \n",
       "3      shop            /embed/98e61305602380971d9c5e68c4a75647         /embed   \n",
       "4      shop                                /zh-hk/credit-cards  /credit-cards   \n",
       "\n",
       "   ab_test country_code  \n",
       "0  control           sg  \n",
       "1  control           sg  \n",
       "2  control           sg  \n",
       "3  control           sg  \n",
       "4  control           hk  "
      ]
     },
     "execution_count": 144,
     "metadata": {},
     "output_type": "execute_result"
    }
   ],
   "source": [
    "metadata_df.head()"
   ]
  },
  {
   "cell_type": "code",
   "execution_count": null,
   "metadata": {},
   "outputs": [],
   "source": [
    "merged_df_with_meta = pd.concat([merged_df, metadata_df], axis=1)"
   ]
  },
  {
   "cell_type": "code",
   "execution_count": null,
   "metadata": {},
   "outputs": [],
   "source": [
    "# Set some sensible data types to speed it all up\n",
    "#merged_df_with_meta.astype({\"page_type\":\"category\", \"slug\":\"category\"})\n",
    "merged_df_with_meta = merged_df_with_meta.astype({\"page_type\":\"category\", \"slug\":\"category\", \"ab_test\":\"category\", \"country_code\":\"category\", \"s_count\":\"int\", \"k_count\":\"int\"})"
   ]
  },
  {
   "cell_type": "code",
   "execution_count": null,
   "metadata": {},
   "outputs": [],
   "source": [
    "merged_df_with_meta.head()"
   ]
  },
  {
   "cell_type": "code",
   "execution_count": null,
   "metadata": {},
   "outputs": [],
   "source": [
    "merged_df_with_meta[(merged_df_with_meta.s_count>1) & (merged_df_with_meta.k_count>1)].head()"
   ]
  },
  {
   "cell_type": "markdown",
   "metadata": {},
   "source": [
    "# Add Device Type Metadata"
   ]
  },
  {
   "cell_type": "code",
   "execution_count": null,
   "metadata": {},
   "outputs": [],
   "source": [
    "segment_combined_df.head()"
   ]
  },
  {
   "cell_type": "code",
   "execution_count": null,
   "metadata": {},
   "outputs": [],
   "source": [
    "athena_full_events_df.head()"
   ]
  },
  {
   "cell_type": "code",
   "execution_count": null,
   "metadata": {},
   "outputs": [],
   "source": []
  },
  {
   "cell_type": "markdown",
   "metadata": {},
   "source": [
    "### Segment"
   ]
  },
  {
   "cell_type": "code",
   "execution_count": null,
   "metadata": {},
   "outputs": [],
   "source": [
    "segment_combined_df.head()"
   ]
  },
  {
   "cell_type": "code",
   "execution_count": null,
   "metadata": {},
   "outputs": [],
   "source": [
    "group_by_cols = [\"anonymous_id\", \"user_agent\"]\n",
    "segment_anonymous_id_to_user_agent_full_df = segment_combined_df.groupby(group_by_cols).count()\n",
    "print(\"%i anonymous_id to user_agents found\" % len(segment_anonymous_id_to_user_agent_full_df))"
   ]
  },
  {
   "cell_type": "code",
   "execution_count": null,
   "metadata": {},
   "outputs": [],
   "source": [
    "segment_anonymous_id_to_user_agent_full_df = segment_anonymous_id_to_user_agent_full_df.reset_index()\n",
    "segment_anonymous_id_to_user_agent_full_df.rename({\"0\":\"count\"}, inplace=True)\n",
    "segment_anonymous_id_to_user_agent_full_df.head()"
   ]
  },
  {
   "cell_type": "code",
   "execution_count": null,
   "metadata": {},
   "outputs": [],
   "source": [
    "# check for duplicates\n",
    "sd = segment_anonymous_id_to_user_agent_full_df.groupby([\"anonymous_id\"]).size() #[[\"sent_at\"]]\n",
    "sd = sd.reset_index()\n",
    "duplicates = sd[sd[0]>1]\n",
    "print(\"%i / %i anonymous_ids with different user agent strings.  Expect there to be some due to browser upgrades\" % (len(duplicates), len(sd)))"
   ]
  },
  {
   "cell_type": "code",
   "execution_count": null,
   "metadata": {},
   "outputs": [],
   "source": [
    "sd.head()"
   ]
  },
  {
   "cell_type": "code",
   "execution_count": null,
   "metadata": {},
   "outputs": [],
   "source": [
    "segment_anonymous_id_to_user_agent_df = segment_anonymous_id_to_user_agent_full_df[[\"anonymous_id\", \"user_agent\"]] # .set_index(\"anonymous_id\")\n",
    "\n",
    "#make a bit safer by stripping the strings\n",
    "#segment_anonymous_id_to_user_agent_df[\"user_agent\"] = segment_anonymous_id_to_user_agent_df[\"user_agent\"].str.strip()\n",
    "#segment_anonymous_id_to_user_agent_df[\"anonymous_id\"] = segment_anonymous_id_to_user_agent_df[\"anonymous_id\"].str.strip()"
   ]
  },
  {
   "cell_type": "code",
   "execution_count": null,
   "metadata": {},
   "outputs": [],
   "source": [
    "segment_anonymous_id_to_user_agent_df = segment_anonymous_id_to_user_agent_df.rename(columns={\"user_agent\": \"s_user_agent\"})\n",
    "segment_anonymous_id_to_user_agent_df.head()"
   ]
  },
  {
   "cell_type": "code",
   "execution_count": null,
   "metadata": {},
   "outputs": [],
   "source": [
    "# Remove duplicates, so anonymous_id column is unique (otherwise on joins you'll expand the dataset)\n",
    "segment_anonymous_id_to_user_agent_dedup_df = segment_anonymous_id_to_user_agent_df.groupby(\"anonymous_id\").first().reset_index()\n",
    "print(\"Before de-duplication %i, after %i\"%(len(segment_anonymous_id_to_user_agent_df), len(segment_anonymous_id_to_user_agent_dedup_df)))\n",
    "segment_anonymous_id_to_user_agent_dedup_df.head()"
   ]
  },
  {
   "cell_type": "markdown",
   "metadata": {},
   "source": [
    "### Athena / Kinesis"
   ]
  },
  {
   "cell_type": "code",
   "execution_count": null,
   "metadata": {},
   "outputs": [],
   "source": [
    "group_by_cols = [\"anonymous_id\", \"user_agent\"]\n",
    "athena_anonymous_id_to_user_agent_full_df = athena_full_events_df.groupby(group_by_cols).size()\n",
    "print(\"%i anonymous_id to user_agents found\" % len(athena_anonymous_id_to_user_agent_full_df))"
   ]
  },
  {
   "cell_type": "code",
   "execution_count": null,
   "metadata": {},
   "outputs": [],
   "source": [
    "athena_anonymous_id_to_user_agent_full_df = athena_anonymous_id_to_user_agent_full_df.reset_index()\n",
    "athena_anonymous_id_to_user_agent_full_df.rename({\"0\":\"count\"}, inplace=True)\n",
    "athena_anonymous_id_to_user_agent_full_df.head()"
   ]
  },
  {
   "cell_type": "code",
   "execution_count": null,
   "metadata": {},
   "outputs": [],
   "source": [
    "# check for duplicates\n",
    "ad = athena_anonymous_id_to_user_agent_full_df.groupby([\"anonymous_id\"]).size() #[[\"sent_at\"]]\n",
    "ad = ad.reset_index()\n",
    "duplicates = ad[ad[0]>1]\n",
    "print(\"%i / %i anonymous_ids with different user agent strings.  Expect there to be some due to browser upgrades\" % (len(duplicates), len(ad)))"
   ]
  },
  {
   "cell_type": "code",
   "execution_count": null,
   "metadata": {},
   "outputs": [],
   "source": [
    "# explore if issue\n",
    "#df = ad[ad[0]>1].merge(athena_anonymous_id_to_user_agent_full_df, how=\"inner\")\n",
    "#df.sort_values(\"anonymous_id\")"
   ]
  },
  {
   "cell_type": "code",
   "execution_count": null,
   "metadata": {},
   "outputs": [],
   "source": [
    "#df = athena_anonymous_id_to_user_agent_full_df[athena_anonymous_id_to_user_agent_full_df.anonymous_id==\"f4a0d91c-b118-40ce-890c-9142bce9f152\"]\n",
    "#pd.set_option('max_colwidth', 200)\n",
    "#print(df.values[0][1])\n",
    "#print(df.values[1][1])"
   ]
  },
  {
   "cell_type": "code",
   "execution_count": null,
   "metadata": {},
   "outputs": [],
   "source": [
    "#athena_anonymous_id_to_user_agent_full_df.head()\n",
    "athena_anonymous_id_to_user_agent_df = athena_anonymous_id_to_user_agent_full_df[[\"anonymous_id\", \"user_agent\"]]\n",
    "\n",
    "\n",
    "#make a bit safer by stripping the strings #couldn't get this to work without warning easily, so skipping.\n",
    "#athena_anonymous_id_to_user_agent_df.loc[:,1] = athena_anonymous_id_to_user_agent_df[\"user_agent\"].str.strip()\n",
    "#athena_anonymous_id_to_user_agent_df.loc[:,0] = athena_anonymous_id_to_user_agent_df[\"anonymous_id\"].str.strip()\n",
    "\n",
    "#?athena_anonymous_id_to_user_agent_df[\"user_agent\"].str.strip()"
   ]
  },
  {
   "cell_type": "code",
   "execution_count": null,
   "metadata": {},
   "outputs": [],
   "source": [
    "athena_anonymous_id_to_user_agent_df = athena_anonymous_id_to_user_agent_df.rename(columns={\"user_agent\": \"a_user_agent\"})\n",
    "athena_anonymous_id_to_user_agent_df.head()\n"
   ]
  },
  {
   "cell_type": "code",
   "execution_count": null,
   "metadata": {},
   "outputs": [],
   "source": [
    "# Remove duplicates, so anonymous_id column is unique (otherwise on joins you'll expand the dataset)\n",
    "athena_anonymous_id_to_user_agent_dedup_df = athena_anonymous_id_to_user_agent_df.groupby(\"anonymous_id\").first().reset_index()\n",
    "print(\"Before de-duplication %i, after %i\"%(len(athena_anonymous_id_to_user_agent_df), len(athena_anonymous_id_to_user_agent_dedup_df)))\n",
    "athena_anonymous_id_to_user_agent_dedup_df.head()"
   ]
  },
  {
   "cell_type": "markdown",
   "metadata": {},
   "source": [
    "### Joined up for all anonymous_ids"
   ]
  },
  {
   "cell_type": "code",
   "execution_count": null,
   "metadata": {},
   "outputs": [],
   "source": [
    "athena_anonymous_id_to_user_agent_dedup_df.set_index(\"anonymous_id\", inplace=True)\n",
    "segment_anonymous_id_to_user_agent_dedup_df.set_index(\"anonymous_id\", inplace=True)\n",
    "\n",
    "\n"
   ]
  },
  {
   "cell_type": "code",
   "execution_count": null,
   "metadata": {},
   "outputs": [],
   "source": [
    "athena_anonymous_id_to_user_agent_dedup_df.head(2)"
   ]
  },
  {
   "cell_type": "code",
   "execution_count": null,
   "metadata": {},
   "outputs": [],
   "source": [
    "segment_anonymous_id_to_user_agent_dedup_df.head(2)"
   ]
  },
  {
   "cell_type": "code",
   "execution_count": null,
   "metadata": {},
   "outputs": [],
   "source": [
    "combined_anonymous_id_to_user_agent_df = athena_anonymous_id_to_user_agent_dedup_df.merge(segment_anonymous_id_to_user_agent_dedup_df, how=\"outer\", left_index=True, right_index=True)\n"
   ]
  },
  {
   "cell_type": "code",
   "execution_count": 146,
   "metadata": {},
   "outputs": [
    {
     "data": {
      "text/html": [
       "<div>\n",
       "<style scoped>\n",
       "    .dataframe tbody tr th:only-of-type {\n",
       "        vertical-align: middle;\n",
       "    }\n",
       "\n",
       "    .dataframe tbody tr th {\n",
       "        vertical-align: top;\n",
       "    }\n",
       "\n",
       "    .dataframe thead th {\n",
       "        text-align: right;\n",
       "    }\n",
       "</style>\n",
       "<table border=\"1\" class=\"dataframe\">\n",
       "  <thead>\n",
       "    <tr style=\"text-align: right;\">\n",
       "      <th></th>\n",
       "      <th>a_user_agent</th>\n",
       "      <th>s_user_agent</th>\n",
       "    </tr>\n",
       "    <tr>\n",
       "      <th>anonymous_id</th>\n",
       "      <th></th>\n",
       "      <th></th>\n",
       "    </tr>\n",
       "  </thead>\n",
       "  <tbody>\n",
       "    <tr>\n",
       "      <th>00000b54-600a-4de2-8700-fd9885252dca</th>\n",
       "      <td>Mozilla/5.0 (iPhone; CPU iPhone OS 13_3 like M...</td>\n",
       "      <td>Mozilla/5.0 (iPhone; CPU iPhone OS 13_3 like M...</td>\n",
       "    </tr>\n",
       "  </tbody>\n",
       "</table>\n",
       "</div>"
      ],
      "text/plain": [
       "                                                                           a_user_agent  \\\n",
       "anonymous_id                                                                              \n",
       "00000b54-600a-4de2-8700-fd9885252dca  Mozilla/5.0 (iPhone; CPU iPhone OS 13_3 like M...   \n",
       "\n",
       "                                                                           s_user_agent  \n",
       "anonymous_id                                                                             \n",
       "00000b54-600a-4de2-8700-fd9885252dca  Mozilla/5.0 (iPhone; CPU iPhone OS 13_3 like M...  "
      ]
     },
     "execution_count": 146,
     "metadata": {},
     "output_type": "execute_result"
    }
   ],
   "source": [
    "combined_anonymous_id_to_user_agent_df.head(1)"
   ]
  },
  {
   "cell_type": "code",
   "execution_count": null,
   "metadata": {},
   "outputs": [],
   "source": []
  },
  {
   "cell_type": "markdown",
   "metadata": {},
   "source": [
    "### Check if Segment and Kinesis disagree at all"
   ]
  },
  {
   "cell_type": "code",
   "execution_count": null,
   "metadata": {},
   "outputs": [],
   "source": [
    "print(\"%i segment anonymous_ids\" % len(segment_anonymous_id_to_user_agent_df))\n",
    "print(\"%i athena anonymous_ids\" % len(athena_anonymous_id_to_user_agent_df))"
   ]
  },
  {
   "cell_type": "code",
   "execution_count": null,
   "metadata": {},
   "outputs": [],
   "source": [
    "# combined_anonymous_id_to_user_agent_df[(combined_anonymous_id_to_user_agent_df.a_user_agent.isnull())]"
   ]
  },
  {
   "cell_type": "code",
   "execution_count": null,
   "metadata": {},
   "outputs": [],
   "source": [
    "s_not_a = combined_anonymous_id_to_user_agent_df[(combined_anonymous_id_to_user_agent_df.s_user_agent.str.len()>0) \\\n",
    "                                                 & ((combined_anonymous_id_to_user_agent_df.a_user_agent.isnull()) |(combined_anonymous_id_to_user_agent_df.a_user_agent.str.len()==0))]\n",
    "a_not_s = combined_anonymous_id_to_user_agent_df[(combined_anonymous_id_to_user_agent_df.a_user_agent.str.len()>0) \\\n",
    "                                                 & ((combined_anonymous_id_to_user_agent_df.s_user_agent.isnull()) |(combined_anonymous_id_to_user_agent_df.s_user_agent.str.len()==0))]"
   ]
  },
  {
   "cell_type": "code",
   "execution_count": null,
   "metadata": {},
   "outputs": [],
   "source": [
    "s_not_a.head()"
   ]
  },
  {
   "cell_type": "code",
   "execution_count": null,
   "metadata": {},
   "outputs": [],
   "source": [
    "a_not_s.head()"
   ]
  },
  {
   "cell_type": "code",
   "execution_count": null,
   "metadata": {},
   "outputs": [],
   "source": [
    "total_count = len(combined_anonymous_id_to_user_agent_df)\n",
    "s_not_a_count = len(s_not_a)\n",
    "a_not_s_count = len(a_not_s)\n",
    "print(\"%i / %i are in segment, not athena (%.1f percent )\" % (s_not_a_count, total_count, s_not_a_count / total_count *100))\n",
    "print(\"%i / %i are in athena, not segement (%.1f percent)\" % (a_not_s_count, total_count, a_not_s_count / total_count *100))\n",
    "print(\"If you include countries that aren't on Segment i.e. ID, PH, TW, then you'd expect more from athena\")"
   ]
  },
  {
   "cell_type": "markdown",
   "metadata": {},
   "source": [
    "### Get an idea of how many don't have matching user_agents"
   ]
  },
  {
   "cell_type": "code",
   "execution_count": null,
   "metadata": {},
   "outputs": [],
   "source": []
  },
  {
   "cell_type": "code",
   "execution_count": null,
   "metadata": {},
   "outputs": [],
   "source": [
    "df = combined_anonymous_id_to_user_agent_df.groupby(\"anonymous_id\").size().reset_index()\n",
    "duplicates = df[df[0]>1]\n",
    "print(\"%i duplicate anonymous_ids - should be none at this stage\" % len(duplicates))"
   ]
  },
  {
   "cell_type": "code",
   "execution_count": null,
   "metadata": {},
   "outputs": [],
   "source": []
  },
  {
   "cell_type": "code",
   "execution_count": null,
   "metadata": {},
   "outputs": [],
   "source": [
    "non_matching_excl_nulls = combined_anonymous_id_to_user_agent_df[(combined_anonymous_id_to_user_agent_df.s_user_agent != combined_anonymous_id_to_user_agent_df.a_user_agent) \\\n",
    "                                                                 & ~combined_anonymous_id_to_user_agent_df.s_user_agent.isnull() \\\n",
    "                                                                 & ~combined_anonymous_id_to_user_agent_df.a_user_agent.isnull()]\n",
    "print(\"%i User agent strings don't match\" % len(non_matching_excl_nulls))\n",
    "print(\"Look for changes in browser version for instance.  Don't worry about every last one.\")\n",
    "non_matching_excl_nulls.head()"
   ]
  },
  {
   "cell_type": "markdown",
   "metadata": {},
   "source": [
    "### Create a Single user agent string per anonymous_id"
   ]
  },
  {
   "cell_type": "code",
   "execution_count": null,
   "metadata": {},
   "outputs": [],
   "source": [
    "combined_anonymous_id_to_user_agent_single_col_df = combined_anonymous_id_to_user_agent_df[\"a_user_agent\"]\\\n",
    "        .fillna(combined_anonymous_id_to_user_agent_df[\"s_user_agent\"]).reset_index().set_index(\"anonymous_id\")\n",
    "combined_anonymous_id_to_user_agent_single_col_df.rename(columns={\"a_user_agent\":\"user_agent\"}, inplace=True)\n",
    "combined_anonymous_id_to_user_agent_single_col_df.head()"
   ]
  },
  {
   "cell_type": "code",
   "execution_count": null,
   "metadata": {},
   "outputs": [],
   "source": [
    "# This bit is for development where I keep appending the user_agent column and it generates user_agent_x etc\n",
    "user_agent_cols_to_delete = [z for z in merged_df_with_meta.columns if z.startswith(\"user_agent\")]\n",
    "print(\" Removing %s \"%str(user_agent_cols_to_delete))\n",
    "merged_df_with_meta.drop(columns=user_agent_cols_to_delete, inplace=True)"
   ]
  },
  {
   "cell_type": "markdown",
   "metadata": {},
   "source": [
    "### Useful segmentation / convert user agent to browser etc"
   ]
  },
  {
   "cell_type": "code",
   "execution_count": null,
   "metadata": {},
   "outputs": [],
   "source": [
    "def convert_user_agent_to_useful_strings(user_agent_string):\n",
    "    \"\"\"\n",
    "    Sort of matches to https://github.com/moneysmartco/metl/blob/e13086fae453911bed5a40cb51ff0869e2f3a0ce/scripts/python/device_tagger.py\n",
    "    \"\"\"\n",
    "    user_agent = user_agents.parse(user_agent_string)\n",
    "    \n",
    "    device_family = \"\"\n",
    "    \n",
    "    if user_agent.is_pc:\n",
    "        device_family = 'desktop'\n",
    "    elif user_agent.is_mobile:\n",
    "        device_family = 'mobile'\n",
    "    elif user_agent.is_tablet:\n",
    "        device_family = 'tablet'\n",
    "    else:\n",
    "        device_family = 'other'\n",
    "        \n",
    "    \n",
    "    os_family = user_agent.os.family\n",
    "    os_version = user_agent.os.version_string\n",
    "    browser_family = user_agent.browser.family \n",
    "    browser_version = user_agent.browser.version_string\n",
    "    \n",
    "    is_bot = user_agent.is_bot\n",
    "    \n",
    "    return [device_family, os_family, os_version, browser_family, browser_version, is_bot]\n",
    "    \n",
    "\n"
   ]
  },
  {
   "cell_type": "markdown",
   "metadata": {},
   "source": [
    "There's an important optimisation going on here (which still isn't that quick).\n",
    "\n",
    "If you just do .apply across all the rows, then it's super slow (many minutes e.g. 278s vs 24s for my better version).  I tried the optimisation at https://ys-l.github.io/posts/2015/08/28/how-not-to-use-pandas-apply/, but that didn't seem to provide benefit (or I slowed it down in other ways).\n",
    "\n",
    "So I'm taking the unique user_agents, processing them and then doing a join, without creating Series objects as well.\n",
    "\n",
    "There's probably more improvement do-able (e.g. creating the full data structure to insert into up front / generating fewer arrays, but it's fast enough for me right now."
   ]
  },
  {
   "cell_type": "code",
   "execution_count": null,
   "metadata": {},
   "outputs": [],
   "source": [
    "distinct_user_agents = combined_anonymous_id_to_user_agent_single_col_df.user_agent.unique()"
   ]
  },
  {
   "cell_type": "code",
   "execution_count": null,
   "metadata": {},
   "outputs": [],
   "source": [
    "distinct_user_agents[:10]"
   ]
  },
  {
   "cell_type": "code",
   "execution_count": null,
   "metadata": {},
   "outputs": [],
   "source": [
    "len(distinct_user_agents)"
   ]
  },
  {
   "cell_type": "code",
   "execution_count": null,
   "metadata": {},
   "outputs": [],
   "source": [
    "# This isn't fast, but acceptable\n",
    "start_time = datetime.now()\n",
    "print(\"Starting to add user agent data at %s\"% start_time.isoformat())\n",
    "#meta_df = combined_anonymous_id_to_user_agent_single_col_df.apply(lambda x: pd.Series(convert_user_agent_to_useful_strings(x.user_agent)), axis=1)\n",
    "meta_rows = [[z, ]+convert_user_agent_to_useful_strings(z)  for z in distinct_user_agents]\n",
    "#d = dfcombined_anonymous_id_to_user_agent_single_col_df.merge(meta_df)\n",
    "end_time = datetime.now()\n",
    "seconds_taken = (end_time - start_time).total_seconds()\n",
    "print(\"Took %i seconds to process\" % seconds_taken)"
   ]
  },
  {
   "cell_type": "code",
   "execution_count": null,
   "metadata": {},
   "outputs": [],
   "source": [
    "user_agent_meta_df = pd.DataFrame(meta_rows)\n",
    "\n",
    "user_agent_meta_df.rename(columns = {0:\"user_agent\", 1:\"device_family\", 2:\"os_family\", 3:\"os_version\", 4:\"browser_family\",5:\"browser_version\", 6:\"is_bot\"}, inplace=True)\n",
    "user_agent_meta_df.set_index(\"user_agent\", inplace=True)\n"
   ]
  },
  {
   "cell_type": "code",
   "execution_count": null,
   "metadata": {},
   "outputs": [],
   "source": [
    "# Try to make the data types a bit efficient\n",
    "user_agent_meta_df = user_agent_meta_df.astype({ \"device_family\":\"category\", \"os_family\":\"category\", \"os_version\":\"category\", \"browser_family\":\"category\",\"browser_version\":\"category\",\"is_bot\":\"bool\"})\n",
    "user_agent_meta_df.dtypes"
   ]
  },
  {
   "cell_type": "code",
   "execution_count": null,
   "metadata": {},
   "outputs": [],
   "source": []
  },
  {
   "cell_type": "code",
   "execution_count": null,
   "metadata": {},
   "outputs": [],
   "source": [
    "user_agent_meta_df.head()"
   ]
  },
  {
   "cell_type": "code",
   "execution_count": null,
   "metadata": {},
   "outputs": [],
   "source": []
  },
  {
   "cell_type": "code",
   "execution_count": null,
   "metadata": {},
   "outputs": [],
   "source": [
    "if False:# This is super slow currently.\n",
    "    start_time = datetime.now()\n",
    "    print(\"Starting to add user agent data at %s\"% start_time.isoformat())\n",
    "    #meta_df = combined_anonymous_id_to_user_agent_single_col_df.apply(lambda x: pd.Series(convert_user_agent_to_useful_strings(x.user_agent)), axis=1)\n",
    "    meta_df = combined_anonymous_id_to_user_agent_single_col_df.apply(lambda x: convert_user_agent_to_useful_strings(x.user_agent), axis=1, result_type=\"expand\")\n",
    "    #d = dfcombined_anonymous_id_to_user_agent_single_col_df.merge(meta_df)\n",
    "    end_time = datetime.now()\n",
    "    seconds_taken = (end_time - start_time).total_seconds()\n",
    "    print(\"Took %i seconds to process\" % seconds_taken)"
   ]
  },
  {
   "cell_type": "code",
   "execution_count": null,
   "metadata": {},
   "outputs": [],
   "source": []
  },
  {
   "cell_type": "code",
   "execution_count": null,
   "metadata": {},
   "outputs": [],
   "source": [
    "if False:\n",
    "    # Trying something faster - based on https://ys-l.github.io/posts/2015/08/28/how-not-to-use-pandas-apply/, but hasn't worked so far\n",
    "    # but hasn't worked, still (after tidying) it takes 257s, slower than the original.\n",
    "    start_time = datetime.now()\n",
    "    print(\"Starting to add user agent data at %s\"% start_time.isoformat())\n",
    "    new_cols = [[]]*6 # make some empty arrays\n",
    "    num_new_cols = len(new_cols)\n",
    "    #for row_num, (_, row) in enumerate(combined_anonymous_id_to_user_agent_single_col_df.iterrows()):\n",
    "    for _, row in combined_anonymous_id_to_user_agent_single_col_df.iterrows():\n",
    "        #if row_num % 100000==0:\n",
    "        #    print(\"row %i\"%row_num)\n",
    "        vals = convert_user_agent_to_useful_strings(row.user_agent)\n",
    "        #for i in range(len(vals)):\n",
    "            #new_cols[i].append(vals[i])\n",
    "        new_cols[0].append(vals[0])\n",
    "        new_cols[1].append(vals[1])\n",
    "        new_cols[2].append(vals[2])\n",
    "        new_cols[3].append(vals[3])\n",
    "        new_cols[4].append(vals[4])\n",
    "        new_cols[5].append(vals[5])\n",
    "        \n",
    "\n",
    "    print(\"New cols generated at %s\"% start_time.isoformat())\n",
    "    # meta_df = combined_anonymous_id_to_user_agent_single_col_df.apply(lambda x: convert_user_agent_to_useful_strings(x.user_agent), axis=1, result_type=\"expand\")\n",
    "    #d = dfcombined_anonymous_id_to_user_agent_single_col_df.merge(meta_df)\n",
    "    meta_df = pd.DataFrame({\n",
    "        \"device_family\": new_cols[0], \n",
    "         \"os_family\" : new_cols[1], \n",
    "         \"os_version\" : new_cols[2], \n",
    "         \"browser_family\" : new_cols[3], \n",
    "         \"browser_version\":new_cols[4], \n",
    "         \"is_bot\":new_cols[5] \n",
    "\n",
    "\n",
    "    })\n",
    "    print(\"Additional data frame generated at %s\"% start_time.isoformat())\n",
    "    end_time = datetime.now()\n",
    "    seconds_taken = (end_time - start_time).total_seconds()\n",
    "    print(\"Took %i seconds to process\" % seconds_taken)"
   ]
  },
  {
   "cell_type": "code",
   "execution_count": null,
   "metadata": {},
   "outputs": [],
   "source": []
  },
  {
   "cell_type": "code",
   "execution_count": null,
   "metadata": {},
   "outputs": [],
   "source": []
  },
  {
   "cell_type": "markdown",
   "metadata": {},
   "source": [
    "### Join onto the main dataframe "
   ]
  },
  {
   "cell_type": "code",
   "execution_count": null,
   "metadata": {},
   "outputs": [],
   "source": [
    "merged_df_with_meta = merged_df_with_meta.merge(combined_anonymous_id_to_user_agent_single_col_df, on=\"anonymous_id\", how=\"left\")"
   ]
  },
  {
   "cell_type": "code",
   "execution_count": null,
   "metadata": {},
   "outputs": [],
   "source": [
    "merged_df_with_meta.head(2)"
   ]
  },
  {
   "cell_type": "code",
   "execution_count": null,
   "metadata": {},
   "outputs": [],
   "source": [
    "# add on the user agent breakdown\n",
    "\n",
    "merged_df_with_meta = merged_df_with_meta.merge(user_agent_meta_df, on=\"user_agent\", how=\"left\")"
   ]
  },
  {
   "cell_type": "code",
   "execution_count": null,
   "metadata": {},
   "outputs": [],
   "source": [
    "merged_df_with_meta.head()"
   ]
  },
  {
   "cell_type": "code",
   "execution_count": null,
   "metadata": {},
   "outputs": [],
   "source": [
    "#Check it's set them all\n",
    "merged_df_with_meta[merged_df_with_meta.user_agent.isnull()].head()"
   ]
  },
  {
   "cell_type": "code",
   "execution_count": null,
   "metadata": {},
   "outputs": [],
   "source": [
    "#Check it's set them all\n",
    "merged_df_with_meta[merged_df_with_meta.device_family.isnull()].head()"
   ]
  },
  {
   "cell_type": "markdown",
   "metadata": {},
   "source": [
    "### Clean up data frames / save some memory"
   ]
  },
  {
   "cell_type": "code",
   "execution_count": null,
   "metadata": {},
   "outputs": [],
   "source": [
    "# TODO: could do a lot more here\n",
    "segment_anonymous_id_to_user_agent_full_df = None\n",
    "segment_anonymous_id_to_user_agent_df = None\n",
    "athena_anonymous_id_to_user_agent_full_df = None\n",
    "athena_anonymous_id_to_user_agent_df = None\n",
    "sd = None\n",
    "ad = None"
   ]
  },
  {
   "cell_type": "markdown",
   "metadata": {},
   "source": [
    "# Play Area"
   ]
  },
  {
   "cell_type": "code",
   "execution_count": null,
   "metadata": {},
   "outputs": [],
   "source": [
    "d = merged_df_with_meta[merged_df_with_meta.page_type==\"iss\"].groupby([\"slug\", \"page_type\"]).sum()\n",
    "d[d.s_count>0]\n",
    "merged_df_with_meta[(merged_df_with_meta.page_type==\"iss\") & (merged_df_with_meta.page_url.str.contains(\"iss.\"))]"
   ]
  },
  {
   "cell_type": "code",
   "execution_count": null,
   "metadata": {},
   "outputs": [],
   "source": [
    "merged_df_with_meta[(merged_df_with_meta.slug_root==\"/zh-hk\") & (merged_df_with_meta.country_code==\"hk\") & (merged_df_with_meta.page_type!=\"blog\")].head(40) #.groupby([\"slug\"]).sum()"
   ]
  },
  {
   "cell_type": "code",
   "execution_count": null,
   "metadata": {},
   "outputs": [],
   "source": []
  },
  {
   "cell_type": "code",
   "execution_count": null,
   "metadata": {},
   "outputs": [],
   "source": []
  },
  {
   "cell_type": "code",
   "execution_count": null,
   "metadata": {},
   "outputs": [],
   "source": []
  },
  {
   "cell_type": "markdown",
   "metadata": {},
   "source": [
    "# Store Data Frame for Faster Loading etc.\n",
    "\n",
    "When stored as a zipped parquet, it's actually very small 3 days -> 30MB."
   ]
  },
  {
   "cell_type": "code",
   "execution_count": null,
   "metadata": {},
   "outputs": [],
   "source": [
    "#!pip install fastparquet"
   ]
  },
  {
   "cell_type": "code",
   "execution_count": 149,
   "metadata": {},
   "outputs": [],
   "source": [
    "if save_end_dataframe_to_file:\n",
    "    from_to_str = \"_to_\".join([z.strftime(\"%Y%m%d_%H%M\") for z in [from_datetime, to_datetime]])\n",
    "    parquet_filename = \"merged_df_with_meta_\"+from_to_str+\".gzip\"\n",
    "    \n",
    "    merged_df_with_meta.to_parquet(parquet_filename, compression='gzip')\n",
    "\n",
    "    "
   ]
  },
  {
   "cell_type": "code",
   "execution_count": null,
   "metadata": {},
   "outputs": [],
   "source": [
    ">> look into AB test stuff more.  I think the urls are different segment vs kinesis (but I think we've found the origin and might have been fixed / non-issue)\n",
    "                                                                                     "
   ]
  },
  {
   "cell_type": "code",
   "execution_count": null,
   "metadata": {},
   "outputs": [],
   "source": []
  }
 ],
 "metadata": {
  "kernelspec": {
   "display_name": "conda_python3",
   "language": "python",
   "name": "conda_python3"
  },
  "language_info": {
   "codemirror_mode": {
    "name": "ipython",
    "version": 3
   },
   "file_extension": ".py",
   "mimetype": "text/x-python",
   "name": "python",
   "nbconvert_exporter": "python",
   "pygments_lexer": "ipython3",
   "version": "3.6.5"
  }
 },
 "nbformat": 4,
 "nbformat_minor": 4
}
